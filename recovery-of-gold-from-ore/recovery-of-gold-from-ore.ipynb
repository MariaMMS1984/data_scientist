{
 "cells": [
  {
   "cell_type": "markdown",
   "metadata": {
    "toc": true
   },
   "source": [
    "<h1>Содержание<span class=\"tocSkip\"></span></h1>\n",
    "<div class=\"toc\"><ul class=\"toc-item\"><li><span><a href=\"#Подготовка-данных\" data-toc-modified-id=\"Подготовка-данных-1\"><span class=\"toc-item-num\">1&nbsp;&nbsp;</span>Подготовка данных</a></span><ul class=\"toc-item\"><li><span><a href=\"#-Комментарий-ревьюера-v1\" data-toc-modified-id=\"-Комментарий-ревьюера-v1-1.1\"><span class=\"toc-item-num\">1.1&nbsp;&nbsp;</span> Комментарий ревьюера v1</a></span></li><li><span><a href=\"#-Комментарий-ревьюера-v1\" data-toc-modified-id=\"-Комментарий-ревьюера-v1-1.2\"><span class=\"toc-item-num\">1.2&nbsp;&nbsp;</span> Комментарий ревьюера v1</a></span></li><li><span><a href=\"#-Комментарий-ревьюера-v1\" data-toc-modified-id=\"-Комментарий-ревьюера-v1-1.3\"><span class=\"toc-item-num\">1.3&nbsp;&nbsp;</span> Комментарий ревьюера v1</a></span></li><li><span><a href=\"#-Комментарий-ревьюера-v1\" data-toc-modified-id=\"-Комментарий-ревьюера-v1-1.4\"><span class=\"toc-item-num\">1.4&nbsp;&nbsp;</span> Комментарий ревьюера v1</a></span></li></ul></li><li><span><a href=\"#Анализ-данных\" data-toc-modified-id=\"Анализ-данных-2\"><span class=\"toc-item-num\">2&nbsp;&nbsp;</span>Анализ данных</a></span><ul class=\"toc-item\"><li><span><a href=\"#-Комментарий-ревьюера-v1\" data-toc-modified-id=\"-Комментарий-ревьюера-v1-2.1\"><span class=\"toc-item-num\">2.1&nbsp;&nbsp;</span> Комментарий ревьюера v1</a></span></li><li><span><a href=\"#-Комментарий-ревьюера-v1\" data-toc-modified-id=\"-Комментарий-ревьюера-v1-2.2\"><span class=\"toc-item-num\">2.2&nbsp;&nbsp;</span> Комментарий ревьюера v1</a></span></li><li><span><a href=\"#-Комментарий-ревьюера-v2\" data-toc-modified-id=\"-Комментарий-ревьюера-v2-2.3\"><span class=\"toc-item-num\">2.3&nbsp;&nbsp;</span> Комментарий ревьюера v2</a></span></li><li><span><a href=\"#-Комментарий-ревьюера-v1\" data-toc-modified-id=\"-Комментарий-ревьюера-v1-2.4\"><span class=\"toc-item-num\">2.4&nbsp;&nbsp;</span> Комментарий ревьюера v1</a></span></li><li><span><a href=\"#-Комментарий-ревьюера-v2\" data-toc-modified-id=\"-Комментарий-ревьюера-v2-2.5\"><span class=\"toc-item-num\">2.5&nbsp;&nbsp;</span> Комментарий ревьюера v2</a></span></li></ul></li><li><span><a href=\"#Модель\" data-toc-modified-id=\"Модель-3\"><span class=\"toc-item-num\">3&nbsp;&nbsp;</span>Модель</a></span><ul class=\"toc-item\"><li><span><a href=\"#-Комментарий-ревьюера-v1\" data-toc-modified-id=\"-Комментарий-ревьюера-v1-3.1\"><span class=\"toc-item-num\">3.1&nbsp;&nbsp;</span> Комментарий ревьюера v1</a></span></li><li><span><a href=\"#-Комментарий-ревьюера-v1\" data-toc-modified-id=\"-Комментарий-ревьюера-v1-3.2\"><span class=\"toc-item-num\">3.2&nbsp;&nbsp;</span> Комментарий ревьюера v1</a></span></li><li><span><a href=\"#-Комментарий-ревьюера-v1\" data-toc-modified-id=\"-Комментарий-ревьюера-v1-3.3\"><span class=\"toc-item-num\">3.3&nbsp;&nbsp;</span> Комментарий ревьюера v1</a></span></li><li><span><a href=\"#-Комментарий-ревьюера-v1\" data-toc-modified-id=\"-Комментарий-ревьюера-v1-3.4\"><span class=\"toc-item-num\">3.4&nbsp;&nbsp;</span> Комментарий ревьюера v1</a></span></li><li><span><a href=\"#-Комментарий-ревьюера-v1\" data-toc-modified-id=\"-Комментарий-ревьюера-v1-3.5\"><span class=\"toc-item-num\">3.5&nbsp;&nbsp;</span> Комментарий ревьюера v1</a></span></li><li><span><a href=\"#-Комментарий-ревьюера-v1\" data-toc-modified-id=\"-Комментарий-ревьюера-v1-3.6\"><span class=\"toc-item-num\">3.6&nbsp;&nbsp;</span> Комментарий ревьюера v1</a></span></li></ul></li><li><span><a href=\"#Чек-лист-готовности-проекта\" data-toc-modified-id=\"Чек-лист-готовности-проекта-4\"><span class=\"toc-item-num\">4&nbsp;&nbsp;</span>Чек-лист готовности проекта</a></span><ul class=\"toc-item\"><li><span><a href=\"#-Итоговый-комментарий\" data-toc-modified-id=\"-Итоговый-комментарий-4.1\"><span class=\"toc-item-num\">4.1&nbsp;&nbsp;</span> Итоговый комментарий</a></span></li></ul></li></ul></div>"
   ]
  },
  {
   "cell_type": "markdown",
   "metadata": {},
   "source": [
    "# Восстановление золота из руды"
   ]
  },
  {
   "cell_type": "markdown",
   "metadata": {},
   "source": [
    "Подготовьте прототип модели машинного обучения для «Цифры». Компания разрабатывает решения для эффективной работы промышленных предприятий.\n",
    "\n",
    "Модель должна предсказать коэффициент восстановления золота из золотосодержащей руды. Используйте данные с параметрами добычи и очистки. \n",
    "\n",
    "Модель поможет оптимизировать производство, чтобы не запускать предприятие с убыточными характеристиками.\n",
    "\n",
    "Нам нужно:\n",
    "\n",
    "1. Подготовить данные;\n",
    "2. Провести исследовательский анализ данных;\n",
    "3. Построить и обучить модель.\n",
    "\n"
   ]
  },
  {
   "cell_type": "markdown",
   "metadata": {},
   "source": [
    "# Описание"
   ]
  },
  {
   "cell_type": "markdown",
   "metadata": {},
   "source": [
    "Нам необходимо подготовить прототип модели машинного обучения для компании «Цифры» на основании данных с параметрами добычи и очистки. Модель должна предсказать коэффициент восстановления золота из золотосодержащей руды. "
   ]
  },
  {
   "cell_type": "markdown",
   "metadata": {},
   "source": [
    "## Подготовка данных"
   ]
  },
  {
   "cell_type": "markdown",
   "metadata": {},
   "source": [
    "1.1.Импортируем необходимые библиотеки"
   ]
  },
  {
   "cell_type": "code",
   "execution_count": 1,
   "metadata": {},
   "outputs": [],
   "source": [
    "import pandas as pd\n",
    "from sklearn.metrics import mean_absolute_error\n",
    "import numpy as np \n",
    "import matplotlib.pyplot as plt\n",
    "import seaborn as sns\n",
    "\n",
    "from sklearn.tree import DecisionTreeRegressor\n",
    "from sklearn.ensemble import RandomForestRegressor\n",
    "from sklearn.linear_model import LinearRegression\n",
    "from sklearn.dummy import DummyRegressor\n",
    "from sklearn.preprocessing import StandardScaler\n",
    "from sklearn.model_selection import RandomizedSearchCV\n",
    "from sklearn.model_selection import train_test_split\n",
    "from sklearn.model_selection import cross_validate\n",
    "from sklearn.model_selection import cross_val_score\n",
    "from sklearn.metrics import mean_absolute_percentage_error\n",
    "from sklearn.metrics import make_scorer\n",
    "from sklearn.inspection import permutation_importance\n",
    "import warnings\n",
    "warnings.filterwarnings(\"ignore\")\n",
    "from sklearn.dummy import DummyClassifier"
   ]
  },
  {
   "cell_type": "code",
   "execution_count": 2,
   "metadata": {},
   "outputs": [],
   "source": [
    "# сбросим ограничения по выводимым столбцам\n",
    "pd.set_option('display.max_rows', None)\n",
    "pd.set_option('display.max_columns', None)"
   ]
  },
  {
   "cell_type": "markdown",
   "metadata": {},
   "source": [
    "1.2. Загружаем файлы и изучаем данные"
   ]
  },
  {
   "cell_type": "code",
   "execution_count": 3,
   "metadata": {},
   "outputs": [],
   "source": [
    "data_train = pd.read_csv('/datasets/gold_recovery_train_new.csv')\n",
    "data_test = pd.read_csv('/datasets/gold_recovery_test_new.csv')\n",
    "data_full = pd.read_csv('/datasets/gold_recovery_full_new.csv')"
   ]
  },
  {
   "cell_type": "code",
   "execution_count": 4,
   "metadata": {},
   "outputs": [
    {
     "data": {
      "text/html": [
       "<div>\n",
       "<style scoped>\n",
       "    .dataframe tbody tr th:only-of-type {\n",
       "        vertical-align: middle;\n",
       "    }\n",
       "\n",
       "    .dataframe tbody tr th {\n",
       "        vertical-align: top;\n",
       "    }\n",
       "\n",
       "    .dataframe thead th {\n",
       "        text-align: right;\n",
       "    }\n",
       "</style>\n",
       "<table border=\"1\" class=\"dataframe\">\n",
       "  <thead>\n",
       "    <tr style=\"text-align: right;\">\n",
       "      <th></th>\n",
       "      <th>date</th>\n",
       "      <th>final.output.concentrate_ag</th>\n",
       "      <th>final.output.concentrate_pb</th>\n",
       "      <th>final.output.concentrate_sol</th>\n",
       "      <th>final.output.concentrate_au</th>\n",
       "      <th>final.output.recovery</th>\n",
       "      <th>final.output.tail_ag</th>\n",
       "      <th>final.output.tail_pb</th>\n",
       "      <th>final.output.tail_sol</th>\n",
       "      <th>final.output.tail_au</th>\n",
       "      <th>primary_cleaner.input.sulfate</th>\n",
       "      <th>primary_cleaner.input.depressant</th>\n",
       "      <th>primary_cleaner.input.feed_size</th>\n",
       "      <th>primary_cleaner.input.xanthate</th>\n",
       "      <th>primary_cleaner.output.concentrate_ag</th>\n",
       "      <th>primary_cleaner.output.concentrate_pb</th>\n",
       "      <th>primary_cleaner.output.concentrate_sol</th>\n",
       "      <th>primary_cleaner.output.concentrate_au</th>\n",
       "      <th>primary_cleaner.output.tail_ag</th>\n",
       "      <th>primary_cleaner.output.tail_pb</th>\n",
       "      <th>primary_cleaner.output.tail_sol</th>\n",
       "      <th>primary_cleaner.output.tail_au</th>\n",
       "      <th>primary_cleaner.state.floatbank8_a_air</th>\n",
       "      <th>primary_cleaner.state.floatbank8_a_level</th>\n",
       "      <th>primary_cleaner.state.floatbank8_b_air</th>\n",
       "      <th>primary_cleaner.state.floatbank8_b_level</th>\n",
       "      <th>primary_cleaner.state.floatbank8_c_air</th>\n",
       "      <th>primary_cleaner.state.floatbank8_c_level</th>\n",
       "      <th>primary_cleaner.state.floatbank8_d_air</th>\n",
       "      <th>primary_cleaner.state.floatbank8_d_level</th>\n",
       "      <th>rougher.calculation.sulfate_to_au_concentrate</th>\n",
       "      <th>rougher.calculation.floatbank10_sulfate_to_au_feed</th>\n",
       "      <th>rougher.calculation.floatbank11_sulfate_to_au_feed</th>\n",
       "      <th>rougher.calculation.au_pb_ratio</th>\n",
       "      <th>rougher.input.feed_ag</th>\n",
       "      <th>rougher.input.feed_pb</th>\n",
       "      <th>rougher.input.feed_rate</th>\n",
       "      <th>rougher.input.feed_size</th>\n",
       "      <th>rougher.input.feed_sol</th>\n",
       "      <th>rougher.input.feed_au</th>\n",
       "      <th>rougher.input.floatbank10_sulfate</th>\n",
       "      <th>rougher.input.floatbank10_xanthate</th>\n",
       "      <th>rougher.input.floatbank11_sulfate</th>\n",
       "      <th>rougher.input.floatbank11_xanthate</th>\n",
       "      <th>rougher.output.concentrate_ag</th>\n",
       "      <th>rougher.output.concentrate_pb</th>\n",
       "      <th>rougher.output.concentrate_sol</th>\n",
       "      <th>rougher.output.concentrate_au</th>\n",
       "      <th>rougher.output.recovery</th>\n",
       "      <th>rougher.output.tail_ag</th>\n",
       "      <th>rougher.output.tail_pb</th>\n",
       "      <th>rougher.output.tail_sol</th>\n",
       "      <th>rougher.output.tail_au</th>\n",
       "      <th>rougher.state.floatbank10_a_air</th>\n",
       "      <th>rougher.state.floatbank10_a_level</th>\n",
       "      <th>rougher.state.floatbank10_b_air</th>\n",
       "      <th>rougher.state.floatbank10_b_level</th>\n",
       "      <th>rougher.state.floatbank10_c_air</th>\n",
       "      <th>rougher.state.floatbank10_c_level</th>\n",
       "      <th>rougher.state.floatbank10_d_air</th>\n",
       "      <th>rougher.state.floatbank10_d_level</th>\n",
       "      <th>rougher.state.floatbank10_e_air</th>\n",
       "      <th>rougher.state.floatbank10_e_level</th>\n",
       "      <th>rougher.state.floatbank10_f_air</th>\n",
       "      <th>rougher.state.floatbank10_f_level</th>\n",
       "      <th>secondary_cleaner.output.tail_ag</th>\n",
       "      <th>secondary_cleaner.output.tail_pb</th>\n",
       "      <th>secondary_cleaner.output.tail_sol</th>\n",
       "      <th>secondary_cleaner.output.tail_au</th>\n",
       "      <th>secondary_cleaner.state.floatbank2_a_air</th>\n",
       "      <th>secondary_cleaner.state.floatbank2_a_level</th>\n",
       "      <th>secondary_cleaner.state.floatbank2_b_air</th>\n",
       "      <th>secondary_cleaner.state.floatbank2_b_level</th>\n",
       "      <th>secondary_cleaner.state.floatbank3_a_air</th>\n",
       "      <th>secondary_cleaner.state.floatbank3_a_level</th>\n",
       "      <th>secondary_cleaner.state.floatbank3_b_air</th>\n",
       "      <th>secondary_cleaner.state.floatbank3_b_level</th>\n",
       "      <th>secondary_cleaner.state.floatbank4_a_air</th>\n",
       "      <th>secondary_cleaner.state.floatbank4_a_level</th>\n",
       "      <th>secondary_cleaner.state.floatbank4_b_air</th>\n",
       "      <th>secondary_cleaner.state.floatbank4_b_level</th>\n",
       "      <th>secondary_cleaner.state.floatbank5_a_air</th>\n",
       "      <th>secondary_cleaner.state.floatbank5_a_level</th>\n",
       "      <th>secondary_cleaner.state.floatbank5_b_air</th>\n",
       "      <th>secondary_cleaner.state.floatbank5_b_level</th>\n",
       "      <th>secondary_cleaner.state.floatbank6_a_air</th>\n",
       "      <th>secondary_cleaner.state.floatbank6_a_level</th>\n",
       "    </tr>\n",
       "  </thead>\n",
       "  <tbody>\n",
       "    <tr>\n",
       "      <th>0</th>\n",
       "      <td>2016-01-15 00:00:00</td>\n",
       "      <td>6.055403</td>\n",
       "      <td>9.889648</td>\n",
       "      <td>5.507324</td>\n",
       "      <td>42.192020</td>\n",
       "      <td>70.541216</td>\n",
       "      <td>10.411962</td>\n",
       "      <td>0.895447</td>\n",
       "      <td>16.904297</td>\n",
       "      <td>2.143149</td>\n",
       "      <td>127.092003</td>\n",
       "      <td>10.128295</td>\n",
       "      <td>7.25</td>\n",
       "      <td>0.988759</td>\n",
       "      <td>8.547551</td>\n",
       "      <td>10.389648</td>\n",
       "      <td>19.529297</td>\n",
       "      <td>34.174427</td>\n",
       "      <td>14.936526</td>\n",
       "      <td>2.534912</td>\n",
       "      <td>7.476074</td>\n",
       "      <td>2.106679</td>\n",
       "      <td>1549.775757</td>\n",
       "      <td>-498.912140</td>\n",
       "      <td>1551.434204</td>\n",
       "      <td>-516.403442</td>\n",
       "      <td>1549.873901</td>\n",
       "      <td>-498.666595</td>\n",
       "      <td>1554.367432</td>\n",
       "      <td>-493.428131</td>\n",
       "      <td>41885.707031</td>\n",
       "      <td>3481.779053</td>\n",
       "      <td>3520.337158</td>\n",
       "      <td>2.838687</td>\n",
       "      <td>6.100378</td>\n",
       "      <td>2.284912</td>\n",
       "      <td>523.546326</td>\n",
       "      <td>55.486599</td>\n",
       "      <td>36.808594</td>\n",
       "      <td>6.486150</td>\n",
       "      <td>11.986616</td>\n",
       "      <td>6.007990</td>\n",
       "      <td>11.836743</td>\n",
       "      <td>6.005818</td>\n",
       "      <td>11.500771</td>\n",
       "      <td>7.101074</td>\n",
       "      <td>28.029297</td>\n",
       "      <td>19.793808</td>\n",
       "      <td>87.107763</td>\n",
       "      <td>5.008018</td>\n",
       "      <td>0.508728</td>\n",
       "      <td>19.154297</td>\n",
       "      <td>1.170244</td>\n",
       "      <td>999.706909</td>\n",
       "      <td>-404.066986</td>\n",
       "      <td>1603.011353</td>\n",
       "      <td>-434.715027</td>\n",
       "      <td>1602.375000</td>\n",
       "      <td>-442.204468</td>\n",
       "      <td>1598.937256</td>\n",
       "      <td>-451.294128</td>\n",
       "      <td>1404.472046</td>\n",
       "      <td>-455.462982</td>\n",
       "      <td>1416.354980</td>\n",
       "      <td>-451.939636</td>\n",
       "      <td>14.500184</td>\n",
       "      <td>4.694824</td>\n",
       "      <td>8.764648</td>\n",
       "      <td>2.606185</td>\n",
       "      <td>25.853109</td>\n",
       "      <td>-498.526489</td>\n",
       "      <td>23.893660</td>\n",
       "      <td>-501.406281</td>\n",
       "      <td>23.961798</td>\n",
       "      <td>-495.262817</td>\n",
       "      <td>21.940409</td>\n",
       "      <td>-499.340973</td>\n",
       "      <td>14.016835</td>\n",
       "      <td>-502.488007</td>\n",
       "      <td>12.099931</td>\n",
       "      <td>-504.715942</td>\n",
       "      <td>9.925633</td>\n",
       "      <td>-498.310211</td>\n",
       "      <td>8.079666</td>\n",
       "      <td>-500.470978</td>\n",
       "      <td>14.151341</td>\n",
       "      <td>-605.841980</td>\n",
       "    </tr>\n",
       "    <tr>\n",
       "      <th>1</th>\n",
       "      <td>2016-01-15 01:00:00</td>\n",
       "      <td>6.029369</td>\n",
       "      <td>9.968944</td>\n",
       "      <td>5.257781</td>\n",
       "      <td>42.701629</td>\n",
       "      <td>69.266198</td>\n",
       "      <td>10.462676</td>\n",
       "      <td>0.927452</td>\n",
       "      <td>16.634514</td>\n",
       "      <td>2.224930</td>\n",
       "      <td>125.629232</td>\n",
       "      <td>10.296251</td>\n",
       "      <td>7.25</td>\n",
       "      <td>1.002663</td>\n",
       "      <td>8.558743</td>\n",
       "      <td>10.497069</td>\n",
       "      <td>19.369147</td>\n",
       "      <td>34.118526</td>\n",
       "      <td>16.250511</td>\n",
       "      <td>3.049646</td>\n",
       "      <td>6.733907</td>\n",
       "      <td>2.353017</td>\n",
       "      <td>1576.166671</td>\n",
       "      <td>-500.904965</td>\n",
       "      <td>1575.950626</td>\n",
       "      <td>-499.865889</td>\n",
       "      <td>1575.994189</td>\n",
       "      <td>-499.315107</td>\n",
       "      <td>1574.479259</td>\n",
       "      <td>-498.931665</td>\n",
       "      <td>42050.861809</td>\n",
       "      <td>3498.370979</td>\n",
       "      <td>3489.981857</td>\n",
       "      <td>2.858998</td>\n",
       "      <td>6.161113</td>\n",
       "      <td>2.266033</td>\n",
       "      <td>525.290581</td>\n",
       "      <td>57.278666</td>\n",
       "      <td>35.753385</td>\n",
       "      <td>6.478583</td>\n",
       "      <td>11.971193</td>\n",
       "      <td>6.005766</td>\n",
       "      <td>11.996163</td>\n",
       "      <td>6.012594</td>\n",
       "      <td>11.615865</td>\n",
       "      <td>7.278807</td>\n",
       "      <td>28.067063</td>\n",
       "      <td>20.050975</td>\n",
       "      <td>86.843261</td>\n",
       "      <td>4.955378</td>\n",
       "      <td>0.536689</td>\n",
       "      <td>18.965234</td>\n",
       "      <td>1.184827</td>\n",
       "      <td>1000.286398</td>\n",
       "      <td>-400.065196</td>\n",
       "      <td>1600.754587</td>\n",
       "      <td>-449.953435</td>\n",
       "      <td>1600.479580</td>\n",
       "      <td>-449.830646</td>\n",
       "      <td>1600.527589</td>\n",
       "      <td>-449.953649</td>\n",
       "      <td>1399.227084</td>\n",
       "      <td>-450.869848</td>\n",
       "      <td>1399.719514</td>\n",
       "      <td>-450.119001</td>\n",
       "      <td>14.265474</td>\n",
       "      <td>4.592547</td>\n",
       "      <td>9.001494</td>\n",
       "      <td>2.488248</td>\n",
       "      <td>25.880539</td>\n",
       "      <td>-499.989656</td>\n",
       "      <td>23.889530</td>\n",
       "      <td>-500.372428</td>\n",
       "      <td>23.970550</td>\n",
       "      <td>-500.085473</td>\n",
       "      <td>22.085714</td>\n",
       "      <td>-499.446897</td>\n",
       "      <td>13.992281</td>\n",
       "      <td>-505.503262</td>\n",
       "      <td>11.950531</td>\n",
       "      <td>-501.331529</td>\n",
       "      <td>10.039245</td>\n",
       "      <td>-500.169983</td>\n",
       "      <td>7.984757</td>\n",
       "      <td>-500.582168</td>\n",
       "      <td>13.998353</td>\n",
       "      <td>-599.787184</td>\n",
       "    </tr>\n",
       "    <tr>\n",
       "      <th>2</th>\n",
       "      <td>2016-01-15 02:00:00</td>\n",
       "      <td>6.055926</td>\n",
       "      <td>10.213995</td>\n",
       "      <td>5.383759</td>\n",
       "      <td>42.657501</td>\n",
       "      <td>68.116445</td>\n",
       "      <td>10.507046</td>\n",
       "      <td>0.953716</td>\n",
       "      <td>16.208849</td>\n",
       "      <td>2.257889</td>\n",
       "      <td>123.819808</td>\n",
       "      <td>11.316280</td>\n",
       "      <td>7.25</td>\n",
       "      <td>0.991265</td>\n",
       "      <td>8.603505</td>\n",
       "      <td>10.354494</td>\n",
       "      <td>19.167579</td>\n",
       "      <td>33.969464</td>\n",
       "      <td>16.491823</td>\n",
       "      <td>3.124664</td>\n",
       "      <td>6.471768</td>\n",
       "      <td>2.416800</td>\n",
       "      <td>1601.556163</td>\n",
       "      <td>-499.997791</td>\n",
       "      <td>1600.386685</td>\n",
       "      <td>-500.607762</td>\n",
       "      <td>1602.003542</td>\n",
       "      <td>-500.870069</td>\n",
       "      <td>1599.541515</td>\n",
       "      <td>-499.827444</td>\n",
       "      <td>42018.101184</td>\n",
       "      <td>3495.348910</td>\n",
       "      <td>3502.359819</td>\n",
       "      <td>2.945989</td>\n",
       "      <td>6.116455</td>\n",
       "      <td>2.159622</td>\n",
       "      <td>530.026610</td>\n",
       "      <td>57.510649</td>\n",
       "      <td>35.971630</td>\n",
       "      <td>6.362222</td>\n",
       "      <td>11.920603</td>\n",
       "      <td>6.197377</td>\n",
       "      <td>11.920305</td>\n",
       "      <td>6.204633</td>\n",
       "      <td>11.695753</td>\n",
       "      <td>7.216833</td>\n",
       "      <td>27.454037</td>\n",
       "      <td>19.737170</td>\n",
       "      <td>86.842308</td>\n",
       "      <td>4.843460</td>\n",
       "      <td>0.546416</td>\n",
       "      <td>18.808533</td>\n",
       "      <td>1.162562</td>\n",
       "      <td>999.719565</td>\n",
       "      <td>-400.074028</td>\n",
       "      <td>1599.337330</td>\n",
       "      <td>-450.008530</td>\n",
       "      <td>1599.672797</td>\n",
       "      <td>-449.954491</td>\n",
       "      <td>1599.849325</td>\n",
       "      <td>-449.954185</td>\n",
       "      <td>1399.180945</td>\n",
       "      <td>-449.937588</td>\n",
       "      <td>1400.316682</td>\n",
       "      <td>-450.527147</td>\n",
       "      <td>14.115662</td>\n",
       "      <td>4.624775</td>\n",
       "      <td>8.842896</td>\n",
       "      <td>2.458187</td>\n",
       "      <td>26.005245</td>\n",
       "      <td>-499.929616</td>\n",
       "      <td>23.886657</td>\n",
       "      <td>-499.951928</td>\n",
       "      <td>23.913535</td>\n",
       "      <td>-499.442343</td>\n",
       "      <td>23.957717</td>\n",
       "      <td>-499.901982</td>\n",
       "      <td>14.015015</td>\n",
       "      <td>-502.520901</td>\n",
       "      <td>11.912783</td>\n",
       "      <td>-501.133383</td>\n",
       "      <td>10.070913</td>\n",
       "      <td>-500.129135</td>\n",
       "      <td>8.013877</td>\n",
       "      <td>-500.517572</td>\n",
       "      <td>14.028663</td>\n",
       "      <td>-601.427363</td>\n",
       "    </tr>\n",
       "    <tr>\n",
       "      <th>3</th>\n",
       "      <td>2016-01-15 03:00:00</td>\n",
       "      <td>6.047977</td>\n",
       "      <td>9.977019</td>\n",
       "      <td>4.858634</td>\n",
       "      <td>42.689819</td>\n",
       "      <td>68.347543</td>\n",
       "      <td>10.422762</td>\n",
       "      <td>0.883763</td>\n",
       "      <td>16.532835</td>\n",
       "      <td>2.146849</td>\n",
       "      <td>122.270188</td>\n",
       "      <td>11.322140</td>\n",
       "      <td>7.25</td>\n",
       "      <td>0.996739</td>\n",
       "      <td>7.221879</td>\n",
       "      <td>8.496563</td>\n",
       "      <td>15.978538</td>\n",
       "      <td>28.260743</td>\n",
       "      <td>16.024359</td>\n",
       "      <td>2.960362</td>\n",
       "      <td>6.843791</td>\n",
       "      <td>2.262051</td>\n",
       "      <td>1599.968720</td>\n",
       "      <td>-500.951778</td>\n",
       "      <td>1600.659236</td>\n",
       "      <td>-499.677094</td>\n",
       "      <td>1600.304144</td>\n",
       "      <td>-500.727997</td>\n",
       "      <td>1600.449520</td>\n",
       "      <td>-500.052575</td>\n",
       "      <td>42029.447991</td>\n",
       "      <td>3498.578313</td>\n",
       "      <td>3499.162912</td>\n",
       "      <td>3.002340</td>\n",
       "      <td>6.043309</td>\n",
       "      <td>2.037807</td>\n",
       "      <td>542.590390</td>\n",
       "      <td>57.792734</td>\n",
       "      <td>36.862241</td>\n",
       "      <td>6.118189</td>\n",
       "      <td>11.630094</td>\n",
       "      <td>6.203177</td>\n",
       "      <td>11.692450</td>\n",
       "      <td>6.196578</td>\n",
       "      <td>11.915047</td>\n",
       "      <td>7.175616</td>\n",
       "      <td>27.341277</td>\n",
       "      <td>19.320810</td>\n",
       "      <td>87.226430</td>\n",
       "      <td>4.655288</td>\n",
       "      <td>0.542525</td>\n",
       "      <td>19.330200</td>\n",
       "      <td>1.079755</td>\n",
       "      <td>999.814770</td>\n",
       "      <td>-400.200179</td>\n",
       "      <td>1600.059442</td>\n",
       "      <td>-450.619948</td>\n",
       "      <td>1600.012842</td>\n",
       "      <td>-449.910497</td>\n",
       "      <td>1597.725177</td>\n",
       "      <td>-450.130127</td>\n",
       "      <td>1400.943157</td>\n",
       "      <td>-450.030142</td>\n",
       "      <td>1400.234743</td>\n",
       "      <td>-449.790835</td>\n",
       "      <td>13.732071</td>\n",
       "      <td>4.482453</td>\n",
       "      <td>9.122857</td>\n",
       "      <td>2.322062</td>\n",
       "      <td>25.942508</td>\n",
       "      <td>-499.176749</td>\n",
       "      <td>23.955516</td>\n",
       "      <td>-499.848796</td>\n",
       "      <td>23.966838</td>\n",
       "      <td>-500.008812</td>\n",
       "      <td>23.954443</td>\n",
       "      <td>-499.944710</td>\n",
       "      <td>14.036510</td>\n",
       "      <td>-500.857308</td>\n",
       "      <td>11.999550</td>\n",
       "      <td>-501.193686</td>\n",
       "      <td>9.970366</td>\n",
       "      <td>-499.201640</td>\n",
       "      <td>7.977324</td>\n",
       "      <td>-500.255908</td>\n",
       "      <td>14.005551</td>\n",
       "      <td>-599.996129</td>\n",
       "    </tr>\n",
       "    <tr>\n",
       "      <th>4</th>\n",
       "      <td>2016-01-15 04:00:00</td>\n",
       "      <td>6.148599</td>\n",
       "      <td>10.142511</td>\n",
       "      <td>4.939416</td>\n",
       "      <td>42.774141</td>\n",
       "      <td>66.927016</td>\n",
       "      <td>10.360302</td>\n",
       "      <td>0.792826</td>\n",
       "      <td>16.525686</td>\n",
       "      <td>2.055292</td>\n",
       "      <td>117.988169</td>\n",
       "      <td>11.913613</td>\n",
       "      <td>7.25</td>\n",
       "      <td>1.009869</td>\n",
       "      <td>9.089428</td>\n",
       "      <td>9.986786</td>\n",
       "      <td>19.199864</td>\n",
       "      <td>33.044932</td>\n",
       "      <td>16.480185</td>\n",
       "      <td>3.112100</td>\n",
       "      <td>6.550154</td>\n",
       "      <td>2.277073</td>\n",
       "      <td>1601.339707</td>\n",
       "      <td>-498.975456</td>\n",
       "      <td>1601.437854</td>\n",
       "      <td>-500.323246</td>\n",
       "      <td>1599.581894</td>\n",
       "      <td>-500.888152</td>\n",
       "      <td>1602.649541</td>\n",
       "      <td>-500.593010</td>\n",
       "      <td>42125.354245</td>\n",
       "      <td>3494.800771</td>\n",
       "      <td>3506.679315</td>\n",
       "      <td>3.169615</td>\n",
       "      <td>6.060915</td>\n",
       "      <td>1.786875</td>\n",
       "      <td>540.531893</td>\n",
       "      <td>56.047189</td>\n",
       "      <td>34.347666</td>\n",
       "      <td>5.663707</td>\n",
       "      <td>10.957755</td>\n",
       "      <td>6.198826</td>\n",
       "      <td>10.960521</td>\n",
       "      <td>6.194897</td>\n",
       "      <td>12.411054</td>\n",
       "      <td>7.240205</td>\n",
       "      <td>27.041023</td>\n",
       "      <td>19.216101</td>\n",
       "      <td>86.688794</td>\n",
       "      <td>4.552800</td>\n",
       "      <td>0.515438</td>\n",
       "      <td>19.267422</td>\n",
       "      <td>1.012642</td>\n",
       "      <td>999.678690</td>\n",
       "      <td>-399.752729</td>\n",
       "      <td>1600.208824</td>\n",
       "      <td>-449.599614</td>\n",
       "      <td>1600.357732</td>\n",
       "      <td>-450.034364</td>\n",
       "      <td>1599.759049</td>\n",
       "      <td>-449.909799</td>\n",
       "      <td>1401.560902</td>\n",
       "      <td>-448.877187</td>\n",
       "      <td>1401.160227</td>\n",
       "      <td>-450.407128</td>\n",
       "      <td>14.079996</td>\n",
       "      <td>4.470737</td>\n",
       "      <td>8.871028</td>\n",
       "      <td>2.330448</td>\n",
       "      <td>26.024787</td>\n",
       "      <td>-500.279091</td>\n",
       "      <td>23.955345</td>\n",
       "      <td>-500.593614</td>\n",
       "      <td>23.985703</td>\n",
       "      <td>-500.083811</td>\n",
       "      <td>23.958945</td>\n",
       "      <td>-499.990309</td>\n",
       "      <td>14.027298</td>\n",
       "      <td>-499.838632</td>\n",
       "      <td>11.953070</td>\n",
       "      <td>-501.053894</td>\n",
       "      <td>9.925709</td>\n",
       "      <td>-501.686727</td>\n",
       "      <td>7.894242</td>\n",
       "      <td>-500.356035</td>\n",
       "      <td>13.996647</td>\n",
       "      <td>-601.496691</td>\n",
       "    </tr>\n",
       "  </tbody>\n",
       "</table>\n",
       "</div>"
      ],
      "text/plain": [
       "                  date  final.output.concentrate_ag  \\\n",
       "0  2016-01-15 00:00:00                     6.055403   \n",
       "1  2016-01-15 01:00:00                     6.029369   \n",
       "2  2016-01-15 02:00:00                     6.055926   \n",
       "3  2016-01-15 03:00:00                     6.047977   \n",
       "4  2016-01-15 04:00:00                     6.148599   \n",
       "\n",
       "   final.output.concentrate_pb  final.output.concentrate_sol  \\\n",
       "0                     9.889648                      5.507324   \n",
       "1                     9.968944                      5.257781   \n",
       "2                    10.213995                      5.383759   \n",
       "3                     9.977019                      4.858634   \n",
       "4                    10.142511                      4.939416   \n",
       "\n",
       "   final.output.concentrate_au  final.output.recovery  final.output.tail_ag  \\\n",
       "0                    42.192020              70.541216             10.411962   \n",
       "1                    42.701629              69.266198             10.462676   \n",
       "2                    42.657501              68.116445             10.507046   \n",
       "3                    42.689819              68.347543             10.422762   \n",
       "4                    42.774141              66.927016             10.360302   \n",
       "\n",
       "   final.output.tail_pb  final.output.tail_sol  final.output.tail_au  \\\n",
       "0              0.895447              16.904297              2.143149   \n",
       "1              0.927452              16.634514              2.224930   \n",
       "2              0.953716              16.208849              2.257889   \n",
       "3              0.883763              16.532835              2.146849   \n",
       "4              0.792826              16.525686              2.055292   \n",
       "\n",
       "   primary_cleaner.input.sulfate  primary_cleaner.input.depressant  \\\n",
       "0                     127.092003                         10.128295   \n",
       "1                     125.629232                         10.296251   \n",
       "2                     123.819808                         11.316280   \n",
       "3                     122.270188                         11.322140   \n",
       "4                     117.988169                         11.913613   \n",
       "\n",
       "   primary_cleaner.input.feed_size  primary_cleaner.input.xanthate  \\\n",
       "0                             7.25                        0.988759   \n",
       "1                             7.25                        1.002663   \n",
       "2                             7.25                        0.991265   \n",
       "3                             7.25                        0.996739   \n",
       "4                             7.25                        1.009869   \n",
       "\n",
       "   primary_cleaner.output.concentrate_ag  \\\n",
       "0                               8.547551   \n",
       "1                               8.558743   \n",
       "2                               8.603505   \n",
       "3                               7.221879   \n",
       "4                               9.089428   \n",
       "\n",
       "   primary_cleaner.output.concentrate_pb  \\\n",
       "0                              10.389648   \n",
       "1                              10.497069   \n",
       "2                              10.354494   \n",
       "3                               8.496563   \n",
       "4                               9.986786   \n",
       "\n",
       "   primary_cleaner.output.concentrate_sol  \\\n",
       "0                               19.529297   \n",
       "1                               19.369147   \n",
       "2                               19.167579   \n",
       "3                               15.978538   \n",
       "4                               19.199864   \n",
       "\n",
       "   primary_cleaner.output.concentrate_au  primary_cleaner.output.tail_ag  \\\n",
       "0                              34.174427                       14.936526   \n",
       "1                              34.118526                       16.250511   \n",
       "2                              33.969464                       16.491823   \n",
       "3                              28.260743                       16.024359   \n",
       "4                              33.044932                       16.480185   \n",
       "\n",
       "   primary_cleaner.output.tail_pb  primary_cleaner.output.tail_sol  \\\n",
       "0                        2.534912                         7.476074   \n",
       "1                        3.049646                         6.733907   \n",
       "2                        3.124664                         6.471768   \n",
       "3                        2.960362                         6.843791   \n",
       "4                        3.112100                         6.550154   \n",
       "\n",
       "   primary_cleaner.output.tail_au  primary_cleaner.state.floatbank8_a_air  \\\n",
       "0                        2.106679                             1549.775757   \n",
       "1                        2.353017                             1576.166671   \n",
       "2                        2.416800                             1601.556163   \n",
       "3                        2.262051                             1599.968720   \n",
       "4                        2.277073                             1601.339707   \n",
       "\n",
       "   primary_cleaner.state.floatbank8_a_level  \\\n",
       "0                               -498.912140   \n",
       "1                               -500.904965   \n",
       "2                               -499.997791   \n",
       "3                               -500.951778   \n",
       "4                               -498.975456   \n",
       "\n",
       "   primary_cleaner.state.floatbank8_b_air  \\\n",
       "0                             1551.434204   \n",
       "1                             1575.950626   \n",
       "2                             1600.386685   \n",
       "3                             1600.659236   \n",
       "4                             1601.437854   \n",
       "\n",
       "   primary_cleaner.state.floatbank8_b_level  \\\n",
       "0                               -516.403442   \n",
       "1                               -499.865889   \n",
       "2                               -500.607762   \n",
       "3                               -499.677094   \n",
       "4                               -500.323246   \n",
       "\n",
       "   primary_cleaner.state.floatbank8_c_air  \\\n",
       "0                             1549.873901   \n",
       "1                             1575.994189   \n",
       "2                             1602.003542   \n",
       "3                             1600.304144   \n",
       "4                             1599.581894   \n",
       "\n",
       "   primary_cleaner.state.floatbank8_c_level  \\\n",
       "0                               -498.666595   \n",
       "1                               -499.315107   \n",
       "2                               -500.870069   \n",
       "3                               -500.727997   \n",
       "4                               -500.888152   \n",
       "\n",
       "   primary_cleaner.state.floatbank8_d_air  \\\n",
       "0                             1554.367432   \n",
       "1                             1574.479259   \n",
       "2                             1599.541515   \n",
       "3                             1600.449520   \n",
       "4                             1602.649541   \n",
       "\n",
       "   primary_cleaner.state.floatbank8_d_level  \\\n",
       "0                               -493.428131   \n",
       "1                               -498.931665   \n",
       "2                               -499.827444   \n",
       "3                               -500.052575   \n",
       "4                               -500.593010   \n",
       "\n",
       "   rougher.calculation.sulfate_to_au_concentrate  \\\n",
       "0                                   41885.707031   \n",
       "1                                   42050.861809   \n",
       "2                                   42018.101184   \n",
       "3                                   42029.447991   \n",
       "4                                   42125.354245   \n",
       "\n",
       "   rougher.calculation.floatbank10_sulfate_to_au_feed  \\\n",
       "0                                        3481.779053    \n",
       "1                                        3498.370979    \n",
       "2                                        3495.348910    \n",
       "3                                        3498.578313    \n",
       "4                                        3494.800771    \n",
       "\n",
       "   rougher.calculation.floatbank11_sulfate_to_au_feed  \\\n",
       "0                                        3520.337158    \n",
       "1                                        3489.981857    \n",
       "2                                        3502.359819    \n",
       "3                                        3499.162912    \n",
       "4                                        3506.679315    \n",
       "\n",
       "   rougher.calculation.au_pb_ratio  rougher.input.feed_ag  \\\n",
       "0                         2.838687               6.100378   \n",
       "1                         2.858998               6.161113   \n",
       "2                         2.945989               6.116455   \n",
       "3                         3.002340               6.043309   \n",
       "4                         3.169615               6.060915   \n",
       "\n",
       "   rougher.input.feed_pb  rougher.input.feed_rate  rougher.input.feed_size  \\\n",
       "0               2.284912               523.546326                55.486599   \n",
       "1               2.266033               525.290581                57.278666   \n",
       "2               2.159622               530.026610                57.510649   \n",
       "3               2.037807               542.590390                57.792734   \n",
       "4               1.786875               540.531893                56.047189   \n",
       "\n",
       "   rougher.input.feed_sol  rougher.input.feed_au  \\\n",
       "0               36.808594               6.486150   \n",
       "1               35.753385               6.478583   \n",
       "2               35.971630               6.362222   \n",
       "3               36.862241               6.118189   \n",
       "4               34.347666               5.663707   \n",
       "\n",
       "   rougher.input.floatbank10_sulfate  rougher.input.floatbank10_xanthate  \\\n",
       "0                          11.986616                            6.007990   \n",
       "1                          11.971193                            6.005766   \n",
       "2                          11.920603                            6.197377   \n",
       "3                          11.630094                            6.203177   \n",
       "4                          10.957755                            6.198826   \n",
       "\n",
       "   rougher.input.floatbank11_sulfate  rougher.input.floatbank11_xanthate  \\\n",
       "0                          11.836743                            6.005818   \n",
       "1                          11.996163                            6.012594   \n",
       "2                          11.920305                            6.204633   \n",
       "3                          11.692450                            6.196578   \n",
       "4                          10.960521                            6.194897   \n",
       "\n",
       "   rougher.output.concentrate_ag  rougher.output.concentrate_pb  \\\n",
       "0                      11.500771                       7.101074   \n",
       "1                      11.615865                       7.278807   \n",
       "2                      11.695753                       7.216833   \n",
       "3                      11.915047                       7.175616   \n",
       "4                      12.411054                       7.240205   \n",
       "\n",
       "   rougher.output.concentrate_sol  rougher.output.concentrate_au  \\\n",
       "0                       28.029297                      19.793808   \n",
       "1                       28.067063                      20.050975   \n",
       "2                       27.454037                      19.737170   \n",
       "3                       27.341277                      19.320810   \n",
       "4                       27.041023                      19.216101   \n",
       "\n",
       "   rougher.output.recovery  rougher.output.tail_ag  rougher.output.tail_pb  \\\n",
       "0                87.107763                5.008018                0.508728   \n",
       "1                86.843261                4.955378                0.536689   \n",
       "2                86.842308                4.843460                0.546416   \n",
       "3                87.226430                4.655288                0.542525   \n",
       "4                86.688794                4.552800                0.515438   \n",
       "\n",
       "   rougher.output.tail_sol  rougher.output.tail_au  \\\n",
       "0                19.154297                1.170244   \n",
       "1                18.965234                1.184827   \n",
       "2                18.808533                1.162562   \n",
       "3                19.330200                1.079755   \n",
       "4                19.267422                1.012642   \n",
       "\n",
       "   rougher.state.floatbank10_a_air  rougher.state.floatbank10_a_level  \\\n",
       "0                       999.706909                        -404.066986   \n",
       "1                      1000.286398                        -400.065196   \n",
       "2                       999.719565                        -400.074028   \n",
       "3                       999.814770                        -400.200179   \n",
       "4                       999.678690                        -399.752729   \n",
       "\n",
       "   rougher.state.floatbank10_b_air  rougher.state.floatbank10_b_level  \\\n",
       "0                      1603.011353                        -434.715027   \n",
       "1                      1600.754587                        -449.953435   \n",
       "2                      1599.337330                        -450.008530   \n",
       "3                      1600.059442                        -450.619948   \n",
       "4                      1600.208824                        -449.599614   \n",
       "\n",
       "   rougher.state.floatbank10_c_air  rougher.state.floatbank10_c_level  \\\n",
       "0                      1602.375000                        -442.204468   \n",
       "1                      1600.479580                        -449.830646   \n",
       "2                      1599.672797                        -449.954491   \n",
       "3                      1600.012842                        -449.910497   \n",
       "4                      1600.357732                        -450.034364   \n",
       "\n",
       "   rougher.state.floatbank10_d_air  rougher.state.floatbank10_d_level  \\\n",
       "0                      1598.937256                        -451.294128   \n",
       "1                      1600.527589                        -449.953649   \n",
       "2                      1599.849325                        -449.954185   \n",
       "3                      1597.725177                        -450.130127   \n",
       "4                      1599.759049                        -449.909799   \n",
       "\n",
       "   rougher.state.floatbank10_e_air  rougher.state.floatbank10_e_level  \\\n",
       "0                      1404.472046                        -455.462982   \n",
       "1                      1399.227084                        -450.869848   \n",
       "2                      1399.180945                        -449.937588   \n",
       "3                      1400.943157                        -450.030142   \n",
       "4                      1401.560902                        -448.877187   \n",
       "\n",
       "   rougher.state.floatbank10_f_air  rougher.state.floatbank10_f_level  \\\n",
       "0                      1416.354980                        -451.939636   \n",
       "1                      1399.719514                        -450.119001   \n",
       "2                      1400.316682                        -450.527147   \n",
       "3                      1400.234743                        -449.790835   \n",
       "4                      1401.160227                        -450.407128   \n",
       "\n",
       "   secondary_cleaner.output.tail_ag  secondary_cleaner.output.tail_pb  \\\n",
       "0                         14.500184                          4.694824   \n",
       "1                         14.265474                          4.592547   \n",
       "2                         14.115662                          4.624775   \n",
       "3                         13.732071                          4.482453   \n",
       "4                         14.079996                          4.470737   \n",
       "\n",
       "   secondary_cleaner.output.tail_sol  secondary_cleaner.output.tail_au  \\\n",
       "0                           8.764648                          2.606185   \n",
       "1                           9.001494                          2.488248   \n",
       "2                           8.842896                          2.458187   \n",
       "3                           9.122857                          2.322062   \n",
       "4                           8.871028                          2.330448   \n",
       "\n",
       "   secondary_cleaner.state.floatbank2_a_air  \\\n",
       "0                                 25.853109   \n",
       "1                                 25.880539   \n",
       "2                                 26.005245   \n",
       "3                                 25.942508   \n",
       "4                                 26.024787   \n",
       "\n",
       "   secondary_cleaner.state.floatbank2_a_level  \\\n",
       "0                                 -498.526489   \n",
       "1                                 -499.989656   \n",
       "2                                 -499.929616   \n",
       "3                                 -499.176749   \n",
       "4                                 -500.279091   \n",
       "\n",
       "   secondary_cleaner.state.floatbank2_b_air  \\\n",
       "0                                 23.893660   \n",
       "1                                 23.889530   \n",
       "2                                 23.886657   \n",
       "3                                 23.955516   \n",
       "4                                 23.955345   \n",
       "\n",
       "   secondary_cleaner.state.floatbank2_b_level  \\\n",
       "0                                 -501.406281   \n",
       "1                                 -500.372428   \n",
       "2                                 -499.951928   \n",
       "3                                 -499.848796   \n",
       "4                                 -500.593614   \n",
       "\n",
       "   secondary_cleaner.state.floatbank3_a_air  \\\n",
       "0                                 23.961798   \n",
       "1                                 23.970550   \n",
       "2                                 23.913535   \n",
       "3                                 23.966838   \n",
       "4                                 23.985703   \n",
       "\n",
       "   secondary_cleaner.state.floatbank3_a_level  \\\n",
       "0                                 -495.262817   \n",
       "1                                 -500.085473   \n",
       "2                                 -499.442343   \n",
       "3                                 -500.008812   \n",
       "4                                 -500.083811   \n",
       "\n",
       "   secondary_cleaner.state.floatbank3_b_air  \\\n",
       "0                                 21.940409   \n",
       "1                                 22.085714   \n",
       "2                                 23.957717   \n",
       "3                                 23.954443   \n",
       "4                                 23.958945   \n",
       "\n",
       "   secondary_cleaner.state.floatbank3_b_level  \\\n",
       "0                                 -499.340973   \n",
       "1                                 -499.446897   \n",
       "2                                 -499.901982   \n",
       "3                                 -499.944710   \n",
       "4                                 -499.990309   \n",
       "\n",
       "   secondary_cleaner.state.floatbank4_a_air  \\\n",
       "0                                 14.016835   \n",
       "1                                 13.992281   \n",
       "2                                 14.015015   \n",
       "3                                 14.036510   \n",
       "4                                 14.027298   \n",
       "\n",
       "   secondary_cleaner.state.floatbank4_a_level  \\\n",
       "0                                 -502.488007   \n",
       "1                                 -505.503262   \n",
       "2                                 -502.520901   \n",
       "3                                 -500.857308   \n",
       "4                                 -499.838632   \n",
       "\n",
       "   secondary_cleaner.state.floatbank4_b_air  \\\n",
       "0                                 12.099931   \n",
       "1                                 11.950531   \n",
       "2                                 11.912783   \n",
       "3                                 11.999550   \n",
       "4                                 11.953070   \n",
       "\n",
       "   secondary_cleaner.state.floatbank4_b_level  \\\n",
       "0                                 -504.715942   \n",
       "1                                 -501.331529   \n",
       "2                                 -501.133383   \n",
       "3                                 -501.193686   \n",
       "4                                 -501.053894   \n",
       "\n",
       "   secondary_cleaner.state.floatbank5_a_air  \\\n",
       "0                                  9.925633   \n",
       "1                                 10.039245   \n",
       "2                                 10.070913   \n",
       "3                                  9.970366   \n",
       "4                                  9.925709   \n",
       "\n",
       "   secondary_cleaner.state.floatbank5_a_level  \\\n",
       "0                                 -498.310211   \n",
       "1                                 -500.169983   \n",
       "2                                 -500.129135   \n",
       "3                                 -499.201640   \n",
       "4                                 -501.686727   \n",
       "\n",
       "   secondary_cleaner.state.floatbank5_b_air  \\\n",
       "0                                  8.079666   \n",
       "1                                  7.984757   \n",
       "2                                  8.013877   \n",
       "3                                  7.977324   \n",
       "4                                  7.894242   \n",
       "\n",
       "   secondary_cleaner.state.floatbank5_b_level  \\\n",
       "0                                 -500.470978   \n",
       "1                                 -500.582168   \n",
       "2                                 -500.517572   \n",
       "3                                 -500.255908   \n",
       "4                                 -500.356035   \n",
       "\n",
       "   secondary_cleaner.state.floatbank6_a_air  \\\n",
       "0                                 14.151341   \n",
       "1                                 13.998353   \n",
       "2                                 14.028663   \n",
       "3                                 14.005551   \n",
       "4                                 13.996647   \n",
       "\n",
       "   secondary_cleaner.state.floatbank6_a_level  \n",
       "0                                 -605.841980  \n",
       "1                                 -599.787184  \n",
       "2                                 -601.427363  \n",
       "3                                 -599.996129  \n",
       "4                                 -601.496691  "
      ]
     },
     "metadata": {},
     "output_type": "display_data"
    },
    {
     "data": {
      "text/html": [
       "<div>\n",
       "<style scoped>\n",
       "    .dataframe tbody tr th:only-of-type {\n",
       "        vertical-align: middle;\n",
       "    }\n",
       "\n",
       "    .dataframe tbody tr th {\n",
       "        vertical-align: top;\n",
       "    }\n",
       "\n",
       "    .dataframe thead th {\n",
       "        text-align: right;\n",
       "    }\n",
       "</style>\n",
       "<table border=\"1\" class=\"dataframe\">\n",
       "  <thead>\n",
       "    <tr style=\"text-align: right;\">\n",
       "      <th></th>\n",
       "      <th>date</th>\n",
       "      <th>primary_cleaner.input.sulfate</th>\n",
       "      <th>primary_cleaner.input.depressant</th>\n",
       "      <th>primary_cleaner.input.feed_size</th>\n",
       "      <th>primary_cleaner.input.xanthate</th>\n",
       "      <th>primary_cleaner.state.floatbank8_a_air</th>\n",
       "      <th>primary_cleaner.state.floatbank8_a_level</th>\n",
       "      <th>primary_cleaner.state.floatbank8_b_air</th>\n",
       "      <th>primary_cleaner.state.floatbank8_b_level</th>\n",
       "      <th>primary_cleaner.state.floatbank8_c_air</th>\n",
       "      <th>primary_cleaner.state.floatbank8_c_level</th>\n",
       "      <th>primary_cleaner.state.floatbank8_d_air</th>\n",
       "      <th>primary_cleaner.state.floatbank8_d_level</th>\n",
       "      <th>rougher.input.feed_ag</th>\n",
       "      <th>rougher.input.feed_pb</th>\n",
       "      <th>rougher.input.feed_rate</th>\n",
       "      <th>rougher.input.feed_size</th>\n",
       "      <th>rougher.input.feed_sol</th>\n",
       "      <th>rougher.input.feed_au</th>\n",
       "      <th>rougher.input.floatbank10_sulfate</th>\n",
       "      <th>rougher.input.floatbank10_xanthate</th>\n",
       "      <th>rougher.input.floatbank11_sulfate</th>\n",
       "      <th>rougher.input.floatbank11_xanthate</th>\n",
       "      <th>rougher.state.floatbank10_a_air</th>\n",
       "      <th>rougher.state.floatbank10_a_level</th>\n",
       "      <th>rougher.state.floatbank10_b_air</th>\n",
       "      <th>rougher.state.floatbank10_b_level</th>\n",
       "      <th>rougher.state.floatbank10_c_air</th>\n",
       "      <th>rougher.state.floatbank10_c_level</th>\n",
       "      <th>rougher.state.floatbank10_d_air</th>\n",
       "      <th>rougher.state.floatbank10_d_level</th>\n",
       "      <th>rougher.state.floatbank10_e_air</th>\n",
       "      <th>rougher.state.floatbank10_e_level</th>\n",
       "      <th>rougher.state.floatbank10_f_air</th>\n",
       "      <th>rougher.state.floatbank10_f_level</th>\n",
       "      <th>secondary_cleaner.state.floatbank2_a_air</th>\n",
       "      <th>secondary_cleaner.state.floatbank2_a_level</th>\n",
       "      <th>secondary_cleaner.state.floatbank2_b_air</th>\n",
       "      <th>secondary_cleaner.state.floatbank2_b_level</th>\n",
       "      <th>secondary_cleaner.state.floatbank3_a_air</th>\n",
       "      <th>secondary_cleaner.state.floatbank3_a_level</th>\n",
       "      <th>secondary_cleaner.state.floatbank3_b_air</th>\n",
       "      <th>secondary_cleaner.state.floatbank3_b_level</th>\n",
       "      <th>secondary_cleaner.state.floatbank4_a_air</th>\n",
       "      <th>secondary_cleaner.state.floatbank4_a_level</th>\n",
       "      <th>secondary_cleaner.state.floatbank4_b_air</th>\n",
       "      <th>secondary_cleaner.state.floatbank4_b_level</th>\n",
       "      <th>secondary_cleaner.state.floatbank5_a_air</th>\n",
       "      <th>secondary_cleaner.state.floatbank5_a_level</th>\n",
       "      <th>secondary_cleaner.state.floatbank5_b_air</th>\n",
       "      <th>secondary_cleaner.state.floatbank5_b_level</th>\n",
       "      <th>secondary_cleaner.state.floatbank6_a_air</th>\n",
       "      <th>secondary_cleaner.state.floatbank6_a_level</th>\n",
       "    </tr>\n",
       "  </thead>\n",
       "  <tbody>\n",
       "    <tr>\n",
       "      <th>0</th>\n",
       "      <td>2016-09-01 00:59:59</td>\n",
       "      <td>210.800909</td>\n",
       "      <td>14.993118</td>\n",
       "      <td>8.080000</td>\n",
       "      <td>1.005021</td>\n",
       "      <td>1398.981301</td>\n",
       "      <td>-500.225577</td>\n",
       "      <td>1399.144926</td>\n",
       "      <td>-499.919735</td>\n",
       "      <td>1400.102998</td>\n",
       "      <td>-500.704369</td>\n",
       "      <td>1399.001695</td>\n",
       "      <td>-499.485144</td>\n",
       "      <td>13.128569</td>\n",
       "      <td>5.636710</td>\n",
       "      <td>489.793655</td>\n",
       "      <td>62.710452</td>\n",
       "      <td>42.022440</td>\n",
       "      <td>12.084103</td>\n",
       "      <td>16.922877</td>\n",
       "      <td>6.153479</td>\n",
       "      <td>16.867518</td>\n",
       "      <td>6.150709</td>\n",
       "      <td>1001.849317</td>\n",
       "      <td>-350.301265</td>\n",
       "      <td>1249.738612</td>\n",
       "      <td>-399.107531</td>\n",
       "      <td>1249.750520</td>\n",
       "      <td>-399.396730</td>\n",
       "      <td>1198.287855</td>\n",
       "      <td>-399.488594</td>\n",
       "      <td>999.472250</td>\n",
       "      <td>-399.530962</td>\n",
       "      <td>949.566189</td>\n",
       "      <td>-398.180807</td>\n",
       "      <td>24.938200</td>\n",
       "      <td>-500.490963</td>\n",
       "      <td>14.947607</td>\n",
       "      <td>-500.013837</td>\n",
       "      <td>20.018166</td>\n",
       "      <td>-450.395995</td>\n",
       "      <td>13.987058</td>\n",
       "      <td>-449.831513</td>\n",
       "      <td>12.023554</td>\n",
       "      <td>-497.795834</td>\n",
       "      <td>8.016656</td>\n",
       "      <td>-501.289139</td>\n",
       "      <td>7.946562</td>\n",
       "      <td>-432.317850</td>\n",
       "      <td>4.872511</td>\n",
       "      <td>-500.037437</td>\n",
       "      <td>26.705889</td>\n",
       "      <td>-499.709414</td>\n",
       "    </tr>\n",
       "    <tr>\n",
       "      <th>1</th>\n",
       "      <td>2016-09-01 01:59:59</td>\n",
       "      <td>215.392455</td>\n",
       "      <td>14.987471</td>\n",
       "      <td>8.080000</td>\n",
       "      <td>0.990469</td>\n",
       "      <td>1398.777912</td>\n",
       "      <td>-500.057435</td>\n",
       "      <td>1398.055362</td>\n",
       "      <td>-499.778182</td>\n",
       "      <td>1396.151033</td>\n",
       "      <td>-499.240168</td>\n",
       "      <td>1399.508091</td>\n",
       "      <td>-500.416324</td>\n",
       "      <td>13.036280</td>\n",
       "      <td>5.526065</td>\n",
       "      <td>490.104534</td>\n",
       "      <td>61.961163</td>\n",
       "      <td>41.187903</td>\n",
       "      <td>11.918977</td>\n",
       "      <td>17.002532</td>\n",
       "      <td>5.999043</td>\n",
       "      <td>16.996063</td>\n",
       "      <td>6.002315</td>\n",
       "      <td>998.690785</td>\n",
       "      <td>-350.425704</td>\n",
       "      <td>1248.395457</td>\n",
       "      <td>-399.946025</td>\n",
       "      <td>1249.514451</td>\n",
       "      <td>-399.630810</td>\n",
       "      <td>1200.506459</td>\n",
       "      <td>-399.942434</td>\n",
       "      <td>1000.002114</td>\n",
       "      <td>-399.491528</td>\n",
       "      <td>950.200009</td>\n",
       "      <td>-405.787514</td>\n",
       "      <td>24.923466</td>\n",
       "      <td>-499.813963</td>\n",
       "      <td>14.930873</td>\n",
       "      <td>-500.764452</td>\n",
       "      <td>19.988503</td>\n",
       "      <td>-450.114024</td>\n",
       "      <td>14.092981</td>\n",
       "      <td>-450.059163</td>\n",
       "      <td>12.058140</td>\n",
       "      <td>-498.695773</td>\n",
       "      <td>8.130979</td>\n",
       "      <td>-499.634209</td>\n",
       "      <td>7.958270</td>\n",
       "      <td>-525.839648</td>\n",
       "      <td>4.878850</td>\n",
       "      <td>-500.162375</td>\n",
       "      <td>25.019940</td>\n",
       "      <td>-499.819438</td>\n",
       "    </tr>\n",
       "    <tr>\n",
       "      <th>2</th>\n",
       "      <td>2016-09-01 02:59:59</td>\n",
       "      <td>215.259946</td>\n",
       "      <td>12.884934</td>\n",
       "      <td>7.786667</td>\n",
       "      <td>0.996043</td>\n",
       "      <td>1398.493666</td>\n",
       "      <td>-500.868360</td>\n",
       "      <td>1398.860436</td>\n",
       "      <td>-499.764529</td>\n",
       "      <td>1398.075709</td>\n",
       "      <td>-502.151509</td>\n",
       "      <td>1399.497088</td>\n",
       "      <td>-499.715479</td>\n",
       "      <td>13.138412</td>\n",
       "      <td>5.426561</td>\n",
       "      <td>489.617969</td>\n",
       "      <td>66.903807</td>\n",
       "      <td>42.546294</td>\n",
       "      <td>12.091332</td>\n",
       "      <td>16.992520</td>\n",
       "      <td>5.850632</td>\n",
       "      <td>16.982096</td>\n",
       "      <td>5.853594</td>\n",
       "      <td>998.516720</td>\n",
       "      <td>-349.783538</td>\n",
       "      <td>1247.440748</td>\n",
       "      <td>-400.264330</td>\n",
       "      <td>1248.207204</td>\n",
       "      <td>-401.074405</td>\n",
       "      <td>1199.770026</td>\n",
       "      <td>-400.790582</td>\n",
       "      <td>999.925519</td>\n",
       "      <td>-399.236999</td>\n",
       "      <td>950.320481</td>\n",
       "      <td>-400.864340</td>\n",
       "      <td>24.908732</td>\n",
       "      <td>-500.304035</td>\n",
       "      <td>14.996511</td>\n",
       "      <td>-500.993821</td>\n",
       "      <td>20.039689</td>\n",
       "      <td>-450.263164</td>\n",
       "      <td>14.077881</td>\n",
       "      <td>-449.660997</td>\n",
       "      <td>11.962366</td>\n",
       "      <td>-498.767484</td>\n",
       "      <td>8.096893</td>\n",
       "      <td>-500.827423</td>\n",
       "      <td>8.071056</td>\n",
       "      <td>-500.801673</td>\n",
       "      <td>4.905125</td>\n",
       "      <td>-499.828510</td>\n",
       "      <td>24.994862</td>\n",
       "      <td>-500.622559</td>\n",
       "    </tr>\n",
       "    <tr>\n",
       "      <th>3</th>\n",
       "      <td>2016-09-01 03:59:59</td>\n",
       "      <td>215.336236</td>\n",
       "      <td>12.006805</td>\n",
       "      <td>7.640000</td>\n",
       "      <td>0.863514</td>\n",
       "      <td>1399.618111</td>\n",
       "      <td>-498.863574</td>\n",
       "      <td>1397.440120</td>\n",
       "      <td>-499.211024</td>\n",
       "      <td>1400.129303</td>\n",
       "      <td>-498.355873</td>\n",
       "      <td>1401.065165</td>\n",
       "      <td>-501.038738</td>\n",
       "      <td>12.400507</td>\n",
       "      <td>5.114758</td>\n",
       "      <td>476.618130</td>\n",
       "      <td>59.865919</td>\n",
       "      <td>41.060195</td>\n",
       "      <td>12.181597</td>\n",
       "      <td>16.532144</td>\n",
       "      <td>5.801935</td>\n",
       "      <td>16.515277</td>\n",
       "      <td>5.803657</td>\n",
       "      <td>1000.276604</td>\n",
       "      <td>-350.172597</td>\n",
       "      <td>1251.322675</td>\n",
       "      <td>-398.655289</td>\n",
       "      <td>1250.493702</td>\n",
       "      <td>-399.746728</td>\n",
       "      <td>1199.398691</td>\n",
       "      <td>-397.503052</td>\n",
       "      <td>1001.930679</td>\n",
       "      <td>-400.437573</td>\n",
       "      <td>950.735324</td>\n",
       "      <td>-399.802986</td>\n",
       "      <td>24.893998</td>\n",
       "      <td>-499.382374</td>\n",
       "      <td>14.916674</td>\n",
       "      <td>-499.862299</td>\n",
       "      <td>20.031100</td>\n",
       "      <td>-449.372570</td>\n",
       "      <td>14.013968</td>\n",
       "      <td>-449.526900</td>\n",
       "      <td>12.033091</td>\n",
       "      <td>-498.350935</td>\n",
       "      <td>8.074946</td>\n",
       "      <td>-499.474407</td>\n",
       "      <td>7.897085</td>\n",
       "      <td>-500.868509</td>\n",
       "      <td>4.931400</td>\n",
       "      <td>-499.963623</td>\n",
       "      <td>24.948919</td>\n",
       "      <td>-498.709987</td>\n",
       "    </tr>\n",
       "    <tr>\n",
       "      <th>4</th>\n",
       "      <td>2016-09-01 04:59:59</td>\n",
       "      <td>199.099327</td>\n",
       "      <td>10.682530</td>\n",
       "      <td>7.530000</td>\n",
       "      <td>0.805575</td>\n",
       "      <td>1401.268123</td>\n",
       "      <td>-500.808305</td>\n",
       "      <td>1398.128818</td>\n",
       "      <td>-499.504543</td>\n",
       "      <td>1402.172226</td>\n",
       "      <td>-500.810606</td>\n",
       "      <td>1399.480508</td>\n",
       "      <td>-499.374053</td>\n",
       "      <td>11.327427</td>\n",
       "      <td>4.767383</td>\n",
       "      <td>488.248117</td>\n",
       "      <td>63.315324</td>\n",
       "      <td>41.269161</td>\n",
       "      <td>11.290425</td>\n",
       "      <td>13.607257</td>\n",
       "      <td>5.738081</td>\n",
       "      <td>13.650053</td>\n",
       "      <td>5.739634</td>\n",
       "      <td>996.541302</td>\n",
       "      <td>-350.562517</td>\n",
       "      <td>1304.658848</td>\n",
       "      <td>-399.511519</td>\n",
       "      <td>1306.455515</td>\n",
       "      <td>-399.050685</td>\n",
       "      <td>1248.699349</td>\n",
       "      <td>-400.876894</td>\n",
       "      <td>1058.839106</td>\n",
       "      <td>-398.988239</td>\n",
       "      <td>949.645313</td>\n",
       "      <td>-399.277632</td>\n",
       "      <td>24.886905</td>\n",
       "      <td>-499.357375</td>\n",
       "      <td>14.979233</td>\n",
       "      <td>-500.186804</td>\n",
       "      <td>19.962364</td>\n",
       "      <td>-450.638828</td>\n",
       "      <td>14.009245</td>\n",
       "      <td>-450.022259</td>\n",
       "      <td>12.025367</td>\n",
       "      <td>-500.786497</td>\n",
       "      <td>8.054678</td>\n",
       "      <td>-500.397500</td>\n",
       "      <td>8.107890</td>\n",
       "      <td>-509.526725</td>\n",
       "      <td>4.957674</td>\n",
       "      <td>-500.360026</td>\n",
       "      <td>25.003331</td>\n",
       "      <td>-500.856333</td>\n",
       "    </tr>\n",
       "  </tbody>\n",
       "</table>\n",
       "</div>"
      ],
      "text/plain": [
       "                  date  primary_cleaner.input.sulfate  \\\n",
       "0  2016-09-01 00:59:59                     210.800909   \n",
       "1  2016-09-01 01:59:59                     215.392455   \n",
       "2  2016-09-01 02:59:59                     215.259946   \n",
       "3  2016-09-01 03:59:59                     215.336236   \n",
       "4  2016-09-01 04:59:59                     199.099327   \n",
       "\n",
       "   primary_cleaner.input.depressant  primary_cleaner.input.feed_size  \\\n",
       "0                         14.993118                         8.080000   \n",
       "1                         14.987471                         8.080000   \n",
       "2                         12.884934                         7.786667   \n",
       "3                         12.006805                         7.640000   \n",
       "4                         10.682530                         7.530000   \n",
       "\n",
       "   primary_cleaner.input.xanthate  primary_cleaner.state.floatbank8_a_air  \\\n",
       "0                        1.005021                             1398.981301   \n",
       "1                        0.990469                             1398.777912   \n",
       "2                        0.996043                             1398.493666   \n",
       "3                        0.863514                             1399.618111   \n",
       "4                        0.805575                             1401.268123   \n",
       "\n",
       "   primary_cleaner.state.floatbank8_a_level  \\\n",
       "0                               -500.225577   \n",
       "1                               -500.057435   \n",
       "2                               -500.868360   \n",
       "3                               -498.863574   \n",
       "4                               -500.808305   \n",
       "\n",
       "   primary_cleaner.state.floatbank8_b_air  \\\n",
       "0                             1399.144926   \n",
       "1                             1398.055362   \n",
       "2                             1398.860436   \n",
       "3                             1397.440120   \n",
       "4                             1398.128818   \n",
       "\n",
       "   primary_cleaner.state.floatbank8_b_level  \\\n",
       "0                               -499.919735   \n",
       "1                               -499.778182   \n",
       "2                               -499.764529   \n",
       "3                               -499.211024   \n",
       "4                               -499.504543   \n",
       "\n",
       "   primary_cleaner.state.floatbank8_c_air  \\\n",
       "0                             1400.102998   \n",
       "1                             1396.151033   \n",
       "2                             1398.075709   \n",
       "3                             1400.129303   \n",
       "4                             1402.172226   \n",
       "\n",
       "   primary_cleaner.state.floatbank8_c_level  \\\n",
       "0                               -500.704369   \n",
       "1                               -499.240168   \n",
       "2                               -502.151509   \n",
       "3                               -498.355873   \n",
       "4                               -500.810606   \n",
       "\n",
       "   primary_cleaner.state.floatbank8_d_air  \\\n",
       "0                             1399.001695   \n",
       "1                             1399.508091   \n",
       "2                             1399.497088   \n",
       "3                             1401.065165   \n",
       "4                             1399.480508   \n",
       "\n",
       "   primary_cleaner.state.floatbank8_d_level  rougher.input.feed_ag  \\\n",
       "0                               -499.485144              13.128569   \n",
       "1                               -500.416324              13.036280   \n",
       "2                               -499.715479              13.138412   \n",
       "3                               -501.038738              12.400507   \n",
       "4                               -499.374053              11.327427   \n",
       "\n",
       "   rougher.input.feed_pb  rougher.input.feed_rate  rougher.input.feed_size  \\\n",
       "0               5.636710               489.793655                62.710452   \n",
       "1               5.526065               490.104534                61.961163   \n",
       "2               5.426561               489.617969                66.903807   \n",
       "3               5.114758               476.618130                59.865919   \n",
       "4               4.767383               488.248117                63.315324   \n",
       "\n",
       "   rougher.input.feed_sol  rougher.input.feed_au  \\\n",
       "0               42.022440              12.084103   \n",
       "1               41.187903              11.918977   \n",
       "2               42.546294              12.091332   \n",
       "3               41.060195              12.181597   \n",
       "4               41.269161              11.290425   \n",
       "\n",
       "   rougher.input.floatbank10_sulfate  rougher.input.floatbank10_xanthate  \\\n",
       "0                          16.922877                            6.153479   \n",
       "1                          17.002532                            5.999043   \n",
       "2                          16.992520                            5.850632   \n",
       "3                          16.532144                            5.801935   \n",
       "4                          13.607257                            5.738081   \n",
       "\n",
       "   rougher.input.floatbank11_sulfate  rougher.input.floatbank11_xanthate  \\\n",
       "0                          16.867518                            6.150709   \n",
       "1                          16.996063                            6.002315   \n",
       "2                          16.982096                            5.853594   \n",
       "3                          16.515277                            5.803657   \n",
       "4                          13.650053                            5.739634   \n",
       "\n",
       "   rougher.state.floatbank10_a_air  rougher.state.floatbank10_a_level  \\\n",
       "0                      1001.849317                        -350.301265   \n",
       "1                       998.690785                        -350.425704   \n",
       "2                       998.516720                        -349.783538   \n",
       "3                      1000.276604                        -350.172597   \n",
       "4                       996.541302                        -350.562517   \n",
       "\n",
       "   rougher.state.floatbank10_b_air  rougher.state.floatbank10_b_level  \\\n",
       "0                      1249.738612                        -399.107531   \n",
       "1                      1248.395457                        -399.946025   \n",
       "2                      1247.440748                        -400.264330   \n",
       "3                      1251.322675                        -398.655289   \n",
       "4                      1304.658848                        -399.511519   \n",
       "\n",
       "   rougher.state.floatbank10_c_air  rougher.state.floatbank10_c_level  \\\n",
       "0                      1249.750520                        -399.396730   \n",
       "1                      1249.514451                        -399.630810   \n",
       "2                      1248.207204                        -401.074405   \n",
       "3                      1250.493702                        -399.746728   \n",
       "4                      1306.455515                        -399.050685   \n",
       "\n",
       "   rougher.state.floatbank10_d_air  rougher.state.floatbank10_d_level  \\\n",
       "0                      1198.287855                        -399.488594   \n",
       "1                      1200.506459                        -399.942434   \n",
       "2                      1199.770026                        -400.790582   \n",
       "3                      1199.398691                        -397.503052   \n",
       "4                      1248.699349                        -400.876894   \n",
       "\n",
       "   rougher.state.floatbank10_e_air  rougher.state.floatbank10_e_level  \\\n",
       "0                       999.472250                        -399.530962   \n",
       "1                      1000.002114                        -399.491528   \n",
       "2                       999.925519                        -399.236999   \n",
       "3                      1001.930679                        -400.437573   \n",
       "4                      1058.839106                        -398.988239   \n",
       "\n",
       "   rougher.state.floatbank10_f_air  rougher.state.floatbank10_f_level  \\\n",
       "0                       949.566189                        -398.180807   \n",
       "1                       950.200009                        -405.787514   \n",
       "2                       950.320481                        -400.864340   \n",
       "3                       950.735324                        -399.802986   \n",
       "4                       949.645313                        -399.277632   \n",
       "\n",
       "   secondary_cleaner.state.floatbank2_a_air  \\\n",
       "0                                 24.938200   \n",
       "1                                 24.923466   \n",
       "2                                 24.908732   \n",
       "3                                 24.893998   \n",
       "4                                 24.886905   \n",
       "\n",
       "   secondary_cleaner.state.floatbank2_a_level  \\\n",
       "0                                 -500.490963   \n",
       "1                                 -499.813963   \n",
       "2                                 -500.304035   \n",
       "3                                 -499.382374   \n",
       "4                                 -499.357375   \n",
       "\n",
       "   secondary_cleaner.state.floatbank2_b_air  \\\n",
       "0                                 14.947607   \n",
       "1                                 14.930873   \n",
       "2                                 14.996511   \n",
       "3                                 14.916674   \n",
       "4                                 14.979233   \n",
       "\n",
       "   secondary_cleaner.state.floatbank2_b_level  \\\n",
       "0                                 -500.013837   \n",
       "1                                 -500.764452   \n",
       "2                                 -500.993821   \n",
       "3                                 -499.862299   \n",
       "4                                 -500.186804   \n",
       "\n",
       "   secondary_cleaner.state.floatbank3_a_air  \\\n",
       "0                                 20.018166   \n",
       "1                                 19.988503   \n",
       "2                                 20.039689   \n",
       "3                                 20.031100   \n",
       "4                                 19.962364   \n",
       "\n",
       "   secondary_cleaner.state.floatbank3_a_level  \\\n",
       "0                                 -450.395995   \n",
       "1                                 -450.114024   \n",
       "2                                 -450.263164   \n",
       "3                                 -449.372570   \n",
       "4                                 -450.638828   \n",
       "\n",
       "   secondary_cleaner.state.floatbank3_b_air  \\\n",
       "0                                 13.987058   \n",
       "1                                 14.092981   \n",
       "2                                 14.077881   \n",
       "3                                 14.013968   \n",
       "4                                 14.009245   \n",
       "\n",
       "   secondary_cleaner.state.floatbank3_b_level  \\\n",
       "0                                 -449.831513   \n",
       "1                                 -450.059163   \n",
       "2                                 -449.660997   \n",
       "3                                 -449.526900   \n",
       "4                                 -450.022259   \n",
       "\n",
       "   secondary_cleaner.state.floatbank4_a_air  \\\n",
       "0                                 12.023554   \n",
       "1                                 12.058140   \n",
       "2                                 11.962366   \n",
       "3                                 12.033091   \n",
       "4                                 12.025367   \n",
       "\n",
       "   secondary_cleaner.state.floatbank4_a_level  \\\n",
       "0                                 -497.795834   \n",
       "1                                 -498.695773   \n",
       "2                                 -498.767484   \n",
       "3                                 -498.350935   \n",
       "4                                 -500.786497   \n",
       "\n",
       "   secondary_cleaner.state.floatbank4_b_air  \\\n",
       "0                                  8.016656   \n",
       "1                                  8.130979   \n",
       "2                                  8.096893   \n",
       "3                                  8.074946   \n",
       "4                                  8.054678   \n",
       "\n",
       "   secondary_cleaner.state.floatbank4_b_level  \\\n",
       "0                                 -501.289139   \n",
       "1                                 -499.634209   \n",
       "2                                 -500.827423   \n",
       "3                                 -499.474407   \n",
       "4                                 -500.397500   \n",
       "\n",
       "   secondary_cleaner.state.floatbank5_a_air  \\\n",
       "0                                  7.946562   \n",
       "1                                  7.958270   \n",
       "2                                  8.071056   \n",
       "3                                  7.897085   \n",
       "4                                  8.107890   \n",
       "\n",
       "   secondary_cleaner.state.floatbank5_a_level  \\\n",
       "0                                 -432.317850   \n",
       "1                                 -525.839648   \n",
       "2                                 -500.801673   \n",
       "3                                 -500.868509   \n",
       "4                                 -509.526725   \n",
       "\n",
       "   secondary_cleaner.state.floatbank5_b_air  \\\n",
       "0                                  4.872511   \n",
       "1                                  4.878850   \n",
       "2                                  4.905125   \n",
       "3                                  4.931400   \n",
       "4                                  4.957674   \n",
       "\n",
       "   secondary_cleaner.state.floatbank5_b_level  \\\n",
       "0                                 -500.037437   \n",
       "1                                 -500.162375   \n",
       "2                                 -499.828510   \n",
       "3                                 -499.963623   \n",
       "4                                 -500.360026   \n",
       "\n",
       "   secondary_cleaner.state.floatbank6_a_air  \\\n",
       "0                                 26.705889   \n",
       "1                                 25.019940   \n",
       "2                                 24.994862   \n",
       "3                                 24.948919   \n",
       "4                                 25.003331   \n",
       "\n",
       "   secondary_cleaner.state.floatbank6_a_level  \n",
       "0                                 -499.709414  \n",
       "1                                 -499.819438  \n",
       "2                                 -500.622559  \n",
       "3                                 -498.709987  \n",
       "4                                 -500.856333  "
      ]
     },
     "metadata": {},
     "output_type": "display_data"
    },
    {
     "data": {
      "text/html": [
       "<div>\n",
       "<style scoped>\n",
       "    .dataframe tbody tr th:only-of-type {\n",
       "        vertical-align: middle;\n",
       "    }\n",
       "\n",
       "    .dataframe tbody tr th {\n",
       "        vertical-align: top;\n",
       "    }\n",
       "\n",
       "    .dataframe thead th {\n",
       "        text-align: right;\n",
       "    }\n",
       "</style>\n",
       "<table border=\"1\" class=\"dataframe\">\n",
       "  <thead>\n",
       "    <tr style=\"text-align: right;\">\n",
       "      <th></th>\n",
       "      <th>date</th>\n",
       "      <th>final.output.concentrate_ag</th>\n",
       "      <th>final.output.concentrate_pb</th>\n",
       "      <th>final.output.concentrate_sol</th>\n",
       "      <th>final.output.concentrate_au</th>\n",
       "      <th>final.output.recovery</th>\n",
       "      <th>final.output.tail_ag</th>\n",
       "      <th>final.output.tail_pb</th>\n",
       "      <th>final.output.tail_sol</th>\n",
       "      <th>final.output.tail_au</th>\n",
       "      <th>primary_cleaner.input.sulfate</th>\n",
       "      <th>primary_cleaner.input.depressant</th>\n",
       "      <th>primary_cleaner.input.feed_size</th>\n",
       "      <th>primary_cleaner.input.xanthate</th>\n",
       "      <th>primary_cleaner.output.concentrate_ag</th>\n",
       "      <th>primary_cleaner.output.concentrate_pb</th>\n",
       "      <th>primary_cleaner.output.concentrate_sol</th>\n",
       "      <th>primary_cleaner.output.concentrate_au</th>\n",
       "      <th>primary_cleaner.output.tail_ag</th>\n",
       "      <th>primary_cleaner.output.tail_pb</th>\n",
       "      <th>primary_cleaner.output.tail_sol</th>\n",
       "      <th>primary_cleaner.output.tail_au</th>\n",
       "      <th>primary_cleaner.state.floatbank8_a_air</th>\n",
       "      <th>primary_cleaner.state.floatbank8_a_level</th>\n",
       "      <th>primary_cleaner.state.floatbank8_b_air</th>\n",
       "      <th>primary_cleaner.state.floatbank8_b_level</th>\n",
       "      <th>primary_cleaner.state.floatbank8_c_air</th>\n",
       "      <th>primary_cleaner.state.floatbank8_c_level</th>\n",
       "      <th>primary_cleaner.state.floatbank8_d_air</th>\n",
       "      <th>primary_cleaner.state.floatbank8_d_level</th>\n",
       "      <th>rougher.calculation.sulfate_to_au_concentrate</th>\n",
       "      <th>rougher.calculation.floatbank10_sulfate_to_au_feed</th>\n",
       "      <th>rougher.calculation.floatbank11_sulfate_to_au_feed</th>\n",
       "      <th>rougher.calculation.au_pb_ratio</th>\n",
       "      <th>rougher.input.feed_ag</th>\n",
       "      <th>rougher.input.feed_pb</th>\n",
       "      <th>rougher.input.feed_rate</th>\n",
       "      <th>rougher.input.feed_size</th>\n",
       "      <th>rougher.input.feed_sol</th>\n",
       "      <th>rougher.input.feed_au</th>\n",
       "      <th>rougher.input.floatbank10_sulfate</th>\n",
       "      <th>rougher.input.floatbank10_xanthate</th>\n",
       "      <th>rougher.input.floatbank11_sulfate</th>\n",
       "      <th>rougher.input.floatbank11_xanthate</th>\n",
       "      <th>rougher.output.concentrate_ag</th>\n",
       "      <th>rougher.output.concentrate_pb</th>\n",
       "      <th>rougher.output.concentrate_sol</th>\n",
       "      <th>rougher.output.concentrate_au</th>\n",
       "      <th>rougher.output.recovery</th>\n",
       "      <th>rougher.output.tail_ag</th>\n",
       "      <th>rougher.output.tail_pb</th>\n",
       "      <th>rougher.output.tail_sol</th>\n",
       "      <th>rougher.output.tail_au</th>\n",
       "      <th>rougher.state.floatbank10_a_air</th>\n",
       "      <th>rougher.state.floatbank10_a_level</th>\n",
       "      <th>rougher.state.floatbank10_b_air</th>\n",
       "      <th>rougher.state.floatbank10_b_level</th>\n",
       "      <th>rougher.state.floatbank10_c_air</th>\n",
       "      <th>rougher.state.floatbank10_c_level</th>\n",
       "      <th>rougher.state.floatbank10_d_air</th>\n",
       "      <th>rougher.state.floatbank10_d_level</th>\n",
       "      <th>rougher.state.floatbank10_e_air</th>\n",
       "      <th>rougher.state.floatbank10_e_level</th>\n",
       "      <th>rougher.state.floatbank10_f_air</th>\n",
       "      <th>rougher.state.floatbank10_f_level</th>\n",
       "      <th>secondary_cleaner.output.tail_ag</th>\n",
       "      <th>secondary_cleaner.output.tail_pb</th>\n",
       "      <th>secondary_cleaner.output.tail_sol</th>\n",
       "      <th>secondary_cleaner.output.tail_au</th>\n",
       "      <th>secondary_cleaner.state.floatbank2_a_air</th>\n",
       "      <th>secondary_cleaner.state.floatbank2_a_level</th>\n",
       "      <th>secondary_cleaner.state.floatbank2_b_air</th>\n",
       "      <th>secondary_cleaner.state.floatbank2_b_level</th>\n",
       "      <th>secondary_cleaner.state.floatbank3_a_air</th>\n",
       "      <th>secondary_cleaner.state.floatbank3_a_level</th>\n",
       "      <th>secondary_cleaner.state.floatbank3_b_air</th>\n",
       "      <th>secondary_cleaner.state.floatbank3_b_level</th>\n",
       "      <th>secondary_cleaner.state.floatbank4_a_air</th>\n",
       "      <th>secondary_cleaner.state.floatbank4_a_level</th>\n",
       "      <th>secondary_cleaner.state.floatbank4_b_air</th>\n",
       "      <th>secondary_cleaner.state.floatbank4_b_level</th>\n",
       "      <th>secondary_cleaner.state.floatbank5_a_air</th>\n",
       "      <th>secondary_cleaner.state.floatbank5_a_level</th>\n",
       "      <th>secondary_cleaner.state.floatbank5_b_air</th>\n",
       "      <th>secondary_cleaner.state.floatbank5_b_level</th>\n",
       "      <th>secondary_cleaner.state.floatbank6_a_air</th>\n",
       "      <th>secondary_cleaner.state.floatbank6_a_level</th>\n",
       "    </tr>\n",
       "  </thead>\n",
       "  <tbody>\n",
       "    <tr>\n",
       "      <th>0</th>\n",
       "      <td>2016-01-15 00:00:00</td>\n",
       "      <td>6.055403</td>\n",
       "      <td>9.889648</td>\n",
       "      <td>5.507324</td>\n",
       "      <td>42.192020</td>\n",
       "      <td>70.541216</td>\n",
       "      <td>10.411962</td>\n",
       "      <td>0.895447</td>\n",
       "      <td>16.904297</td>\n",
       "      <td>2.143149</td>\n",
       "      <td>127.092003</td>\n",
       "      <td>10.128295</td>\n",
       "      <td>7.25</td>\n",
       "      <td>0.988759</td>\n",
       "      <td>8.547551</td>\n",
       "      <td>10.389648</td>\n",
       "      <td>19.529297</td>\n",
       "      <td>34.174427</td>\n",
       "      <td>14.936526</td>\n",
       "      <td>2.534912</td>\n",
       "      <td>7.476074</td>\n",
       "      <td>2.106679</td>\n",
       "      <td>1549.775757</td>\n",
       "      <td>-498.912140</td>\n",
       "      <td>1551.434204</td>\n",
       "      <td>-516.403442</td>\n",
       "      <td>1549.873901</td>\n",
       "      <td>-498.666595</td>\n",
       "      <td>1554.367432</td>\n",
       "      <td>-493.428131</td>\n",
       "      <td>41885.707031</td>\n",
       "      <td>3481.779053</td>\n",
       "      <td>3520.337158</td>\n",
       "      <td>2.838687</td>\n",
       "      <td>6.100378</td>\n",
       "      <td>2.284912</td>\n",
       "      <td>523.546326</td>\n",
       "      <td>55.486599</td>\n",
       "      <td>36.808594</td>\n",
       "      <td>6.486150</td>\n",
       "      <td>11.986616</td>\n",
       "      <td>6.007990</td>\n",
       "      <td>11.836743</td>\n",
       "      <td>6.005818</td>\n",
       "      <td>11.500771</td>\n",
       "      <td>7.101074</td>\n",
       "      <td>28.029297</td>\n",
       "      <td>19.793808</td>\n",
       "      <td>87.107763</td>\n",
       "      <td>5.008018</td>\n",
       "      <td>0.508728</td>\n",
       "      <td>19.154297</td>\n",
       "      <td>1.170244</td>\n",
       "      <td>999.706909</td>\n",
       "      <td>-404.066986</td>\n",
       "      <td>1603.011353</td>\n",
       "      <td>-434.715027</td>\n",
       "      <td>1602.375000</td>\n",
       "      <td>-442.204468</td>\n",
       "      <td>1598.937256</td>\n",
       "      <td>-451.294128</td>\n",
       "      <td>1404.472046</td>\n",
       "      <td>-455.462982</td>\n",
       "      <td>1416.354980</td>\n",
       "      <td>-451.939636</td>\n",
       "      <td>14.500184</td>\n",
       "      <td>4.694824</td>\n",
       "      <td>8.764648</td>\n",
       "      <td>2.606185</td>\n",
       "      <td>25.853109</td>\n",
       "      <td>-498.526489</td>\n",
       "      <td>23.893660</td>\n",
       "      <td>-501.406281</td>\n",
       "      <td>23.961798</td>\n",
       "      <td>-495.262817</td>\n",
       "      <td>21.940409</td>\n",
       "      <td>-499.340973</td>\n",
       "      <td>14.016835</td>\n",
       "      <td>-502.488007</td>\n",
       "      <td>12.099931</td>\n",
       "      <td>-504.715942</td>\n",
       "      <td>9.925633</td>\n",
       "      <td>-498.310211</td>\n",
       "      <td>8.079666</td>\n",
       "      <td>-500.470978</td>\n",
       "      <td>14.151341</td>\n",
       "      <td>-605.841980</td>\n",
       "    </tr>\n",
       "    <tr>\n",
       "      <th>1</th>\n",
       "      <td>2016-01-15 01:00:00</td>\n",
       "      <td>6.029369</td>\n",
       "      <td>9.968944</td>\n",
       "      <td>5.257781</td>\n",
       "      <td>42.701629</td>\n",
       "      <td>69.266198</td>\n",
       "      <td>10.462676</td>\n",
       "      <td>0.927452</td>\n",
       "      <td>16.634514</td>\n",
       "      <td>2.224930</td>\n",
       "      <td>125.629232</td>\n",
       "      <td>10.296251</td>\n",
       "      <td>7.25</td>\n",
       "      <td>1.002663</td>\n",
       "      <td>8.558743</td>\n",
       "      <td>10.497069</td>\n",
       "      <td>19.369147</td>\n",
       "      <td>34.118526</td>\n",
       "      <td>16.250511</td>\n",
       "      <td>3.049646</td>\n",
       "      <td>6.733907</td>\n",
       "      <td>2.353017</td>\n",
       "      <td>1576.166671</td>\n",
       "      <td>-500.904965</td>\n",
       "      <td>1575.950626</td>\n",
       "      <td>-499.865889</td>\n",
       "      <td>1575.994189</td>\n",
       "      <td>-499.315107</td>\n",
       "      <td>1574.479259</td>\n",
       "      <td>-498.931665</td>\n",
       "      <td>42050.861809</td>\n",
       "      <td>3498.370979</td>\n",
       "      <td>3489.981857</td>\n",
       "      <td>2.858998</td>\n",
       "      <td>6.161113</td>\n",
       "      <td>2.266033</td>\n",
       "      <td>525.290581</td>\n",
       "      <td>57.278666</td>\n",
       "      <td>35.753385</td>\n",
       "      <td>6.478583</td>\n",
       "      <td>11.971193</td>\n",
       "      <td>6.005766</td>\n",
       "      <td>11.996163</td>\n",
       "      <td>6.012594</td>\n",
       "      <td>11.615865</td>\n",
       "      <td>7.278807</td>\n",
       "      <td>28.067063</td>\n",
       "      <td>20.050975</td>\n",
       "      <td>86.843261</td>\n",
       "      <td>4.955378</td>\n",
       "      <td>0.536689</td>\n",
       "      <td>18.965234</td>\n",
       "      <td>1.184827</td>\n",
       "      <td>1000.286398</td>\n",
       "      <td>-400.065196</td>\n",
       "      <td>1600.754587</td>\n",
       "      <td>-449.953435</td>\n",
       "      <td>1600.479580</td>\n",
       "      <td>-449.830646</td>\n",
       "      <td>1600.527589</td>\n",
       "      <td>-449.953649</td>\n",
       "      <td>1399.227084</td>\n",
       "      <td>-450.869848</td>\n",
       "      <td>1399.719514</td>\n",
       "      <td>-450.119001</td>\n",
       "      <td>14.265474</td>\n",
       "      <td>4.592547</td>\n",
       "      <td>9.001494</td>\n",
       "      <td>2.488248</td>\n",
       "      <td>25.880539</td>\n",
       "      <td>-499.989656</td>\n",
       "      <td>23.889530</td>\n",
       "      <td>-500.372428</td>\n",
       "      <td>23.970550</td>\n",
       "      <td>-500.085473</td>\n",
       "      <td>22.085714</td>\n",
       "      <td>-499.446897</td>\n",
       "      <td>13.992281</td>\n",
       "      <td>-505.503262</td>\n",
       "      <td>11.950531</td>\n",
       "      <td>-501.331529</td>\n",
       "      <td>10.039245</td>\n",
       "      <td>-500.169983</td>\n",
       "      <td>7.984757</td>\n",
       "      <td>-500.582168</td>\n",
       "      <td>13.998353</td>\n",
       "      <td>-599.787184</td>\n",
       "    </tr>\n",
       "    <tr>\n",
       "      <th>2</th>\n",
       "      <td>2016-01-15 02:00:00</td>\n",
       "      <td>6.055926</td>\n",
       "      <td>10.213995</td>\n",
       "      <td>5.383759</td>\n",
       "      <td>42.657501</td>\n",
       "      <td>68.116445</td>\n",
       "      <td>10.507046</td>\n",
       "      <td>0.953716</td>\n",
       "      <td>16.208849</td>\n",
       "      <td>2.257889</td>\n",
       "      <td>123.819808</td>\n",
       "      <td>11.316280</td>\n",
       "      <td>7.25</td>\n",
       "      <td>0.991265</td>\n",
       "      <td>8.603505</td>\n",
       "      <td>10.354494</td>\n",
       "      <td>19.167579</td>\n",
       "      <td>33.969464</td>\n",
       "      <td>16.491823</td>\n",
       "      <td>3.124664</td>\n",
       "      <td>6.471768</td>\n",
       "      <td>2.416800</td>\n",
       "      <td>1601.556163</td>\n",
       "      <td>-499.997791</td>\n",
       "      <td>1600.386685</td>\n",
       "      <td>-500.607762</td>\n",
       "      <td>1602.003542</td>\n",
       "      <td>-500.870069</td>\n",
       "      <td>1599.541515</td>\n",
       "      <td>-499.827444</td>\n",
       "      <td>42018.101184</td>\n",
       "      <td>3495.348910</td>\n",
       "      <td>3502.359819</td>\n",
       "      <td>2.945989</td>\n",
       "      <td>6.116455</td>\n",
       "      <td>2.159622</td>\n",
       "      <td>530.026610</td>\n",
       "      <td>57.510649</td>\n",
       "      <td>35.971630</td>\n",
       "      <td>6.362222</td>\n",
       "      <td>11.920603</td>\n",
       "      <td>6.197377</td>\n",
       "      <td>11.920305</td>\n",
       "      <td>6.204633</td>\n",
       "      <td>11.695753</td>\n",
       "      <td>7.216833</td>\n",
       "      <td>27.454037</td>\n",
       "      <td>19.737170</td>\n",
       "      <td>86.842308</td>\n",
       "      <td>4.843460</td>\n",
       "      <td>0.546416</td>\n",
       "      <td>18.808533</td>\n",
       "      <td>1.162562</td>\n",
       "      <td>999.719565</td>\n",
       "      <td>-400.074028</td>\n",
       "      <td>1599.337330</td>\n",
       "      <td>-450.008530</td>\n",
       "      <td>1599.672797</td>\n",
       "      <td>-449.954491</td>\n",
       "      <td>1599.849325</td>\n",
       "      <td>-449.954185</td>\n",
       "      <td>1399.180945</td>\n",
       "      <td>-449.937588</td>\n",
       "      <td>1400.316682</td>\n",
       "      <td>-450.527147</td>\n",
       "      <td>14.115662</td>\n",
       "      <td>4.624775</td>\n",
       "      <td>8.842896</td>\n",
       "      <td>2.458187</td>\n",
       "      <td>26.005245</td>\n",
       "      <td>-499.929616</td>\n",
       "      <td>23.886657</td>\n",
       "      <td>-499.951928</td>\n",
       "      <td>23.913535</td>\n",
       "      <td>-499.442343</td>\n",
       "      <td>23.957717</td>\n",
       "      <td>-499.901982</td>\n",
       "      <td>14.015015</td>\n",
       "      <td>-502.520901</td>\n",
       "      <td>11.912783</td>\n",
       "      <td>-501.133383</td>\n",
       "      <td>10.070913</td>\n",
       "      <td>-500.129135</td>\n",
       "      <td>8.013877</td>\n",
       "      <td>-500.517572</td>\n",
       "      <td>14.028663</td>\n",
       "      <td>-601.427363</td>\n",
       "    </tr>\n",
       "    <tr>\n",
       "      <th>3</th>\n",
       "      <td>2016-01-15 03:00:00</td>\n",
       "      <td>6.047977</td>\n",
       "      <td>9.977019</td>\n",
       "      <td>4.858634</td>\n",
       "      <td>42.689819</td>\n",
       "      <td>68.347543</td>\n",
       "      <td>10.422762</td>\n",
       "      <td>0.883763</td>\n",
       "      <td>16.532835</td>\n",
       "      <td>2.146849</td>\n",
       "      <td>122.270188</td>\n",
       "      <td>11.322140</td>\n",
       "      <td>7.25</td>\n",
       "      <td>0.996739</td>\n",
       "      <td>7.221879</td>\n",
       "      <td>8.496563</td>\n",
       "      <td>15.978538</td>\n",
       "      <td>28.260743</td>\n",
       "      <td>16.024359</td>\n",
       "      <td>2.960362</td>\n",
       "      <td>6.843791</td>\n",
       "      <td>2.262051</td>\n",
       "      <td>1599.968720</td>\n",
       "      <td>-500.951778</td>\n",
       "      <td>1600.659236</td>\n",
       "      <td>-499.677094</td>\n",
       "      <td>1600.304144</td>\n",
       "      <td>-500.727997</td>\n",
       "      <td>1600.449520</td>\n",
       "      <td>-500.052575</td>\n",
       "      <td>42029.447991</td>\n",
       "      <td>3498.578313</td>\n",
       "      <td>3499.162912</td>\n",
       "      <td>3.002340</td>\n",
       "      <td>6.043309</td>\n",
       "      <td>2.037807</td>\n",
       "      <td>542.590390</td>\n",
       "      <td>57.792734</td>\n",
       "      <td>36.862241</td>\n",
       "      <td>6.118189</td>\n",
       "      <td>11.630094</td>\n",
       "      <td>6.203177</td>\n",
       "      <td>11.692450</td>\n",
       "      <td>6.196578</td>\n",
       "      <td>11.915047</td>\n",
       "      <td>7.175616</td>\n",
       "      <td>27.341277</td>\n",
       "      <td>19.320810</td>\n",
       "      <td>87.226430</td>\n",
       "      <td>4.655288</td>\n",
       "      <td>0.542525</td>\n",
       "      <td>19.330200</td>\n",
       "      <td>1.079755</td>\n",
       "      <td>999.814770</td>\n",
       "      <td>-400.200179</td>\n",
       "      <td>1600.059442</td>\n",
       "      <td>-450.619948</td>\n",
       "      <td>1600.012842</td>\n",
       "      <td>-449.910497</td>\n",
       "      <td>1597.725177</td>\n",
       "      <td>-450.130127</td>\n",
       "      <td>1400.943157</td>\n",
       "      <td>-450.030142</td>\n",
       "      <td>1400.234743</td>\n",
       "      <td>-449.790835</td>\n",
       "      <td>13.732071</td>\n",
       "      <td>4.482453</td>\n",
       "      <td>9.122857</td>\n",
       "      <td>2.322062</td>\n",
       "      <td>25.942508</td>\n",
       "      <td>-499.176749</td>\n",
       "      <td>23.955516</td>\n",
       "      <td>-499.848796</td>\n",
       "      <td>23.966838</td>\n",
       "      <td>-500.008812</td>\n",
       "      <td>23.954443</td>\n",
       "      <td>-499.944710</td>\n",
       "      <td>14.036510</td>\n",
       "      <td>-500.857308</td>\n",
       "      <td>11.999550</td>\n",
       "      <td>-501.193686</td>\n",
       "      <td>9.970366</td>\n",
       "      <td>-499.201640</td>\n",
       "      <td>7.977324</td>\n",
       "      <td>-500.255908</td>\n",
       "      <td>14.005551</td>\n",
       "      <td>-599.996129</td>\n",
       "    </tr>\n",
       "    <tr>\n",
       "      <th>4</th>\n",
       "      <td>2016-01-15 04:00:00</td>\n",
       "      <td>6.148599</td>\n",
       "      <td>10.142511</td>\n",
       "      <td>4.939416</td>\n",
       "      <td>42.774141</td>\n",
       "      <td>66.927016</td>\n",
       "      <td>10.360302</td>\n",
       "      <td>0.792826</td>\n",
       "      <td>16.525686</td>\n",
       "      <td>2.055292</td>\n",
       "      <td>117.988169</td>\n",
       "      <td>11.913613</td>\n",
       "      <td>7.25</td>\n",
       "      <td>1.009869</td>\n",
       "      <td>9.089428</td>\n",
       "      <td>9.986786</td>\n",
       "      <td>19.199864</td>\n",
       "      <td>33.044932</td>\n",
       "      <td>16.480185</td>\n",
       "      <td>3.112100</td>\n",
       "      <td>6.550154</td>\n",
       "      <td>2.277073</td>\n",
       "      <td>1601.339707</td>\n",
       "      <td>-498.975456</td>\n",
       "      <td>1601.437854</td>\n",
       "      <td>-500.323246</td>\n",
       "      <td>1599.581894</td>\n",
       "      <td>-500.888152</td>\n",
       "      <td>1602.649541</td>\n",
       "      <td>-500.593010</td>\n",
       "      <td>42125.354245</td>\n",
       "      <td>3494.800771</td>\n",
       "      <td>3506.679315</td>\n",
       "      <td>3.169615</td>\n",
       "      <td>6.060915</td>\n",
       "      <td>1.786875</td>\n",
       "      <td>540.531893</td>\n",
       "      <td>56.047189</td>\n",
       "      <td>34.347666</td>\n",
       "      <td>5.663707</td>\n",
       "      <td>10.957755</td>\n",
       "      <td>6.198826</td>\n",
       "      <td>10.960521</td>\n",
       "      <td>6.194897</td>\n",
       "      <td>12.411054</td>\n",
       "      <td>7.240205</td>\n",
       "      <td>27.041023</td>\n",
       "      <td>19.216101</td>\n",
       "      <td>86.688794</td>\n",
       "      <td>4.552800</td>\n",
       "      <td>0.515438</td>\n",
       "      <td>19.267422</td>\n",
       "      <td>1.012642</td>\n",
       "      <td>999.678690</td>\n",
       "      <td>-399.752729</td>\n",
       "      <td>1600.208824</td>\n",
       "      <td>-449.599614</td>\n",
       "      <td>1600.357732</td>\n",
       "      <td>-450.034364</td>\n",
       "      <td>1599.759049</td>\n",
       "      <td>-449.909799</td>\n",
       "      <td>1401.560902</td>\n",
       "      <td>-448.877187</td>\n",
       "      <td>1401.160227</td>\n",
       "      <td>-450.407128</td>\n",
       "      <td>14.079996</td>\n",
       "      <td>4.470737</td>\n",
       "      <td>8.871028</td>\n",
       "      <td>2.330448</td>\n",
       "      <td>26.024787</td>\n",
       "      <td>-500.279091</td>\n",
       "      <td>23.955345</td>\n",
       "      <td>-500.593614</td>\n",
       "      <td>23.985703</td>\n",
       "      <td>-500.083811</td>\n",
       "      <td>23.958945</td>\n",
       "      <td>-499.990309</td>\n",
       "      <td>14.027298</td>\n",
       "      <td>-499.838632</td>\n",
       "      <td>11.953070</td>\n",
       "      <td>-501.053894</td>\n",
       "      <td>9.925709</td>\n",
       "      <td>-501.686727</td>\n",
       "      <td>7.894242</td>\n",
       "      <td>-500.356035</td>\n",
       "      <td>13.996647</td>\n",
       "      <td>-601.496691</td>\n",
       "    </tr>\n",
       "  </tbody>\n",
       "</table>\n",
       "</div>"
      ],
      "text/plain": [
       "                  date  final.output.concentrate_ag  \\\n",
       "0  2016-01-15 00:00:00                     6.055403   \n",
       "1  2016-01-15 01:00:00                     6.029369   \n",
       "2  2016-01-15 02:00:00                     6.055926   \n",
       "3  2016-01-15 03:00:00                     6.047977   \n",
       "4  2016-01-15 04:00:00                     6.148599   \n",
       "\n",
       "   final.output.concentrate_pb  final.output.concentrate_sol  \\\n",
       "0                     9.889648                      5.507324   \n",
       "1                     9.968944                      5.257781   \n",
       "2                    10.213995                      5.383759   \n",
       "3                     9.977019                      4.858634   \n",
       "4                    10.142511                      4.939416   \n",
       "\n",
       "   final.output.concentrate_au  final.output.recovery  final.output.tail_ag  \\\n",
       "0                    42.192020              70.541216             10.411962   \n",
       "1                    42.701629              69.266198             10.462676   \n",
       "2                    42.657501              68.116445             10.507046   \n",
       "3                    42.689819              68.347543             10.422762   \n",
       "4                    42.774141              66.927016             10.360302   \n",
       "\n",
       "   final.output.tail_pb  final.output.tail_sol  final.output.tail_au  \\\n",
       "0              0.895447              16.904297              2.143149   \n",
       "1              0.927452              16.634514              2.224930   \n",
       "2              0.953716              16.208849              2.257889   \n",
       "3              0.883763              16.532835              2.146849   \n",
       "4              0.792826              16.525686              2.055292   \n",
       "\n",
       "   primary_cleaner.input.sulfate  primary_cleaner.input.depressant  \\\n",
       "0                     127.092003                         10.128295   \n",
       "1                     125.629232                         10.296251   \n",
       "2                     123.819808                         11.316280   \n",
       "3                     122.270188                         11.322140   \n",
       "4                     117.988169                         11.913613   \n",
       "\n",
       "   primary_cleaner.input.feed_size  primary_cleaner.input.xanthate  \\\n",
       "0                             7.25                        0.988759   \n",
       "1                             7.25                        1.002663   \n",
       "2                             7.25                        0.991265   \n",
       "3                             7.25                        0.996739   \n",
       "4                             7.25                        1.009869   \n",
       "\n",
       "   primary_cleaner.output.concentrate_ag  \\\n",
       "0                               8.547551   \n",
       "1                               8.558743   \n",
       "2                               8.603505   \n",
       "3                               7.221879   \n",
       "4                               9.089428   \n",
       "\n",
       "   primary_cleaner.output.concentrate_pb  \\\n",
       "0                              10.389648   \n",
       "1                              10.497069   \n",
       "2                              10.354494   \n",
       "3                               8.496563   \n",
       "4                               9.986786   \n",
       "\n",
       "   primary_cleaner.output.concentrate_sol  \\\n",
       "0                               19.529297   \n",
       "1                               19.369147   \n",
       "2                               19.167579   \n",
       "3                               15.978538   \n",
       "4                               19.199864   \n",
       "\n",
       "   primary_cleaner.output.concentrate_au  primary_cleaner.output.tail_ag  \\\n",
       "0                              34.174427                       14.936526   \n",
       "1                              34.118526                       16.250511   \n",
       "2                              33.969464                       16.491823   \n",
       "3                              28.260743                       16.024359   \n",
       "4                              33.044932                       16.480185   \n",
       "\n",
       "   primary_cleaner.output.tail_pb  primary_cleaner.output.tail_sol  \\\n",
       "0                        2.534912                         7.476074   \n",
       "1                        3.049646                         6.733907   \n",
       "2                        3.124664                         6.471768   \n",
       "3                        2.960362                         6.843791   \n",
       "4                        3.112100                         6.550154   \n",
       "\n",
       "   primary_cleaner.output.tail_au  primary_cleaner.state.floatbank8_a_air  \\\n",
       "0                        2.106679                             1549.775757   \n",
       "1                        2.353017                             1576.166671   \n",
       "2                        2.416800                             1601.556163   \n",
       "3                        2.262051                             1599.968720   \n",
       "4                        2.277073                             1601.339707   \n",
       "\n",
       "   primary_cleaner.state.floatbank8_a_level  \\\n",
       "0                               -498.912140   \n",
       "1                               -500.904965   \n",
       "2                               -499.997791   \n",
       "3                               -500.951778   \n",
       "4                               -498.975456   \n",
       "\n",
       "   primary_cleaner.state.floatbank8_b_air  \\\n",
       "0                             1551.434204   \n",
       "1                             1575.950626   \n",
       "2                             1600.386685   \n",
       "3                             1600.659236   \n",
       "4                             1601.437854   \n",
       "\n",
       "   primary_cleaner.state.floatbank8_b_level  \\\n",
       "0                               -516.403442   \n",
       "1                               -499.865889   \n",
       "2                               -500.607762   \n",
       "3                               -499.677094   \n",
       "4                               -500.323246   \n",
       "\n",
       "   primary_cleaner.state.floatbank8_c_air  \\\n",
       "0                             1549.873901   \n",
       "1                             1575.994189   \n",
       "2                             1602.003542   \n",
       "3                             1600.304144   \n",
       "4                             1599.581894   \n",
       "\n",
       "   primary_cleaner.state.floatbank8_c_level  \\\n",
       "0                               -498.666595   \n",
       "1                               -499.315107   \n",
       "2                               -500.870069   \n",
       "3                               -500.727997   \n",
       "4                               -500.888152   \n",
       "\n",
       "   primary_cleaner.state.floatbank8_d_air  \\\n",
       "0                             1554.367432   \n",
       "1                             1574.479259   \n",
       "2                             1599.541515   \n",
       "3                             1600.449520   \n",
       "4                             1602.649541   \n",
       "\n",
       "   primary_cleaner.state.floatbank8_d_level  \\\n",
       "0                               -493.428131   \n",
       "1                               -498.931665   \n",
       "2                               -499.827444   \n",
       "3                               -500.052575   \n",
       "4                               -500.593010   \n",
       "\n",
       "   rougher.calculation.sulfate_to_au_concentrate  \\\n",
       "0                                   41885.707031   \n",
       "1                                   42050.861809   \n",
       "2                                   42018.101184   \n",
       "3                                   42029.447991   \n",
       "4                                   42125.354245   \n",
       "\n",
       "   rougher.calculation.floatbank10_sulfate_to_au_feed  \\\n",
       "0                                        3481.779053    \n",
       "1                                        3498.370979    \n",
       "2                                        3495.348910    \n",
       "3                                        3498.578313    \n",
       "4                                        3494.800771    \n",
       "\n",
       "   rougher.calculation.floatbank11_sulfate_to_au_feed  \\\n",
       "0                                        3520.337158    \n",
       "1                                        3489.981857    \n",
       "2                                        3502.359819    \n",
       "3                                        3499.162912    \n",
       "4                                        3506.679315    \n",
       "\n",
       "   rougher.calculation.au_pb_ratio  rougher.input.feed_ag  \\\n",
       "0                         2.838687               6.100378   \n",
       "1                         2.858998               6.161113   \n",
       "2                         2.945989               6.116455   \n",
       "3                         3.002340               6.043309   \n",
       "4                         3.169615               6.060915   \n",
       "\n",
       "   rougher.input.feed_pb  rougher.input.feed_rate  rougher.input.feed_size  \\\n",
       "0               2.284912               523.546326                55.486599   \n",
       "1               2.266033               525.290581                57.278666   \n",
       "2               2.159622               530.026610                57.510649   \n",
       "3               2.037807               542.590390                57.792734   \n",
       "4               1.786875               540.531893                56.047189   \n",
       "\n",
       "   rougher.input.feed_sol  rougher.input.feed_au  \\\n",
       "0               36.808594               6.486150   \n",
       "1               35.753385               6.478583   \n",
       "2               35.971630               6.362222   \n",
       "3               36.862241               6.118189   \n",
       "4               34.347666               5.663707   \n",
       "\n",
       "   rougher.input.floatbank10_sulfate  rougher.input.floatbank10_xanthate  \\\n",
       "0                          11.986616                            6.007990   \n",
       "1                          11.971193                            6.005766   \n",
       "2                          11.920603                            6.197377   \n",
       "3                          11.630094                            6.203177   \n",
       "4                          10.957755                            6.198826   \n",
       "\n",
       "   rougher.input.floatbank11_sulfate  rougher.input.floatbank11_xanthate  \\\n",
       "0                          11.836743                            6.005818   \n",
       "1                          11.996163                            6.012594   \n",
       "2                          11.920305                            6.204633   \n",
       "3                          11.692450                            6.196578   \n",
       "4                          10.960521                            6.194897   \n",
       "\n",
       "   rougher.output.concentrate_ag  rougher.output.concentrate_pb  \\\n",
       "0                      11.500771                       7.101074   \n",
       "1                      11.615865                       7.278807   \n",
       "2                      11.695753                       7.216833   \n",
       "3                      11.915047                       7.175616   \n",
       "4                      12.411054                       7.240205   \n",
       "\n",
       "   rougher.output.concentrate_sol  rougher.output.concentrate_au  \\\n",
       "0                       28.029297                      19.793808   \n",
       "1                       28.067063                      20.050975   \n",
       "2                       27.454037                      19.737170   \n",
       "3                       27.341277                      19.320810   \n",
       "4                       27.041023                      19.216101   \n",
       "\n",
       "   rougher.output.recovery  rougher.output.tail_ag  rougher.output.tail_pb  \\\n",
       "0                87.107763                5.008018                0.508728   \n",
       "1                86.843261                4.955378                0.536689   \n",
       "2                86.842308                4.843460                0.546416   \n",
       "3                87.226430                4.655288                0.542525   \n",
       "4                86.688794                4.552800                0.515438   \n",
       "\n",
       "   rougher.output.tail_sol  rougher.output.tail_au  \\\n",
       "0                19.154297                1.170244   \n",
       "1                18.965234                1.184827   \n",
       "2                18.808533                1.162562   \n",
       "3                19.330200                1.079755   \n",
       "4                19.267422                1.012642   \n",
       "\n",
       "   rougher.state.floatbank10_a_air  rougher.state.floatbank10_a_level  \\\n",
       "0                       999.706909                        -404.066986   \n",
       "1                      1000.286398                        -400.065196   \n",
       "2                       999.719565                        -400.074028   \n",
       "3                       999.814770                        -400.200179   \n",
       "4                       999.678690                        -399.752729   \n",
       "\n",
       "   rougher.state.floatbank10_b_air  rougher.state.floatbank10_b_level  \\\n",
       "0                      1603.011353                        -434.715027   \n",
       "1                      1600.754587                        -449.953435   \n",
       "2                      1599.337330                        -450.008530   \n",
       "3                      1600.059442                        -450.619948   \n",
       "4                      1600.208824                        -449.599614   \n",
       "\n",
       "   rougher.state.floatbank10_c_air  rougher.state.floatbank10_c_level  \\\n",
       "0                      1602.375000                        -442.204468   \n",
       "1                      1600.479580                        -449.830646   \n",
       "2                      1599.672797                        -449.954491   \n",
       "3                      1600.012842                        -449.910497   \n",
       "4                      1600.357732                        -450.034364   \n",
       "\n",
       "   rougher.state.floatbank10_d_air  rougher.state.floatbank10_d_level  \\\n",
       "0                      1598.937256                        -451.294128   \n",
       "1                      1600.527589                        -449.953649   \n",
       "2                      1599.849325                        -449.954185   \n",
       "3                      1597.725177                        -450.130127   \n",
       "4                      1599.759049                        -449.909799   \n",
       "\n",
       "   rougher.state.floatbank10_e_air  rougher.state.floatbank10_e_level  \\\n",
       "0                      1404.472046                        -455.462982   \n",
       "1                      1399.227084                        -450.869848   \n",
       "2                      1399.180945                        -449.937588   \n",
       "3                      1400.943157                        -450.030142   \n",
       "4                      1401.560902                        -448.877187   \n",
       "\n",
       "   rougher.state.floatbank10_f_air  rougher.state.floatbank10_f_level  \\\n",
       "0                      1416.354980                        -451.939636   \n",
       "1                      1399.719514                        -450.119001   \n",
       "2                      1400.316682                        -450.527147   \n",
       "3                      1400.234743                        -449.790835   \n",
       "4                      1401.160227                        -450.407128   \n",
       "\n",
       "   secondary_cleaner.output.tail_ag  secondary_cleaner.output.tail_pb  \\\n",
       "0                         14.500184                          4.694824   \n",
       "1                         14.265474                          4.592547   \n",
       "2                         14.115662                          4.624775   \n",
       "3                         13.732071                          4.482453   \n",
       "4                         14.079996                          4.470737   \n",
       "\n",
       "   secondary_cleaner.output.tail_sol  secondary_cleaner.output.tail_au  \\\n",
       "0                           8.764648                          2.606185   \n",
       "1                           9.001494                          2.488248   \n",
       "2                           8.842896                          2.458187   \n",
       "3                           9.122857                          2.322062   \n",
       "4                           8.871028                          2.330448   \n",
       "\n",
       "   secondary_cleaner.state.floatbank2_a_air  \\\n",
       "0                                 25.853109   \n",
       "1                                 25.880539   \n",
       "2                                 26.005245   \n",
       "3                                 25.942508   \n",
       "4                                 26.024787   \n",
       "\n",
       "   secondary_cleaner.state.floatbank2_a_level  \\\n",
       "0                                 -498.526489   \n",
       "1                                 -499.989656   \n",
       "2                                 -499.929616   \n",
       "3                                 -499.176749   \n",
       "4                                 -500.279091   \n",
       "\n",
       "   secondary_cleaner.state.floatbank2_b_air  \\\n",
       "0                                 23.893660   \n",
       "1                                 23.889530   \n",
       "2                                 23.886657   \n",
       "3                                 23.955516   \n",
       "4                                 23.955345   \n",
       "\n",
       "   secondary_cleaner.state.floatbank2_b_level  \\\n",
       "0                                 -501.406281   \n",
       "1                                 -500.372428   \n",
       "2                                 -499.951928   \n",
       "3                                 -499.848796   \n",
       "4                                 -500.593614   \n",
       "\n",
       "   secondary_cleaner.state.floatbank3_a_air  \\\n",
       "0                                 23.961798   \n",
       "1                                 23.970550   \n",
       "2                                 23.913535   \n",
       "3                                 23.966838   \n",
       "4                                 23.985703   \n",
       "\n",
       "   secondary_cleaner.state.floatbank3_a_level  \\\n",
       "0                                 -495.262817   \n",
       "1                                 -500.085473   \n",
       "2                                 -499.442343   \n",
       "3                                 -500.008812   \n",
       "4                                 -500.083811   \n",
       "\n",
       "   secondary_cleaner.state.floatbank3_b_air  \\\n",
       "0                                 21.940409   \n",
       "1                                 22.085714   \n",
       "2                                 23.957717   \n",
       "3                                 23.954443   \n",
       "4                                 23.958945   \n",
       "\n",
       "   secondary_cleaner.state.floatbank3_b_level  \\\n",
       "0                                 -499.340973   \n",
       "1                                 -499.446897   \n",
       "2                                 -499.901982   \n",
       "3                                 -499.944710   \n",
       "4                                 -499.990309   \n",
       "\n",
       "   secondary_cleaner.state.floatbank4_a_air  \\\n",
       "0                                 14.016835   \n",
       "1                                 13.992281   \n",
       "2                                 14.015015   \n",
       "3                                 14.036510   \n",
       "4                                 14.027298   \n",
       "\n",
       "   secondary_cleaner.state.floatbank4_a_level  \\\n",
       "0                                 -502.488007   \n",
       "1                                 -505.503262   \n",
       "2                                 -502.520901   \n",
       "3                                 -500.857308   \n",
       "4                                 -499.838632   \n",
       "\n",
       "   secondary_cleaner.state.floatbank4_b_air  \\\n",
       "0                                 12.099931   \n",
       "1                                 11.950531   \n",
       "2                                 11.912783   \n",
       "3                                 11.999550   \n",
       "4                                 11.953070   \n",
       "\n",
       "   secondary_cleaner.state.floatbank4_b_level  \\\n",
       "0                                 -504.715942   \n",
       "1                                 -501.331529   \n",
       "2                                 -501.133383   \n",
       "3                                 -501.193686   \n",
       "4                                 -501.053894   \n",
       "\n",
       "   secondary_cleaner.state.floatbank5_a_air  \\\n",
       "0                                  9.925633   \n",
       "1                                 10.039245   \n",
       "2                                 10.070913   \n",
       "3                                  9.970366   \n",
       "4                                  9.925709   \n",
       "\n",
       "   secondary_cleaner.state.floatbank5_a_level  \\\n",
       "0                                 -498.310211   \n",
       "1                                 -500.169983   \n",
       "2                                 -500.129135   \n",
       "3                                 -499.201640   \n",
       "4                                 -501.686727   \n",
       "\n",
       "   secondary_cleaner.state.floatbank5_b_air  \\\n",
       "0                                  8.079666   \n",
       "1                                  7.984757   \n",
       "2                                  8.013877   \n",
       "3                                  7.977324   \n",
       "4                                  7.894242   \n",
       "\n",
       "   secondary_cleaner.state.floatbank5_b_level  \\\n",
       "0                                 -500.470978   \n",
       "1                                 -500.582168   \n",
       "2                                 -500.517572   \n",
       "3                                 -500.255908   \n",
       "4                                 -500.356035   \n",
       "\n",
       "   secondary_cleaner.state.floatbank6_a_air  \\\n",
       "0                                 14.151341   \n",
       "1                                 13.998353   \n",
       "2                                 14.028663   \n",
       "3                                 14.005551   \n",
       "4                                 13.996647   \n",
       "\n",
       "   secondary_cleaner.state.floatbank6_a_level  \n",
       "0                                 -605.841980  \n",
       "1                                 -599.787184  \n",
       "2                                 -601.427363  \n",
       "3                                 -599.996129  \n",
       "4                                 -601.496691  "
      ]
     },
     "metadata": {},
     "output_type": "display_data"
    }
   ],
   "source": [
    "display(data_train.head())\n",
    "display(data_test.head())\n",
    "display(data_full.head())"
   ]
  },
  {
   "cell_type": "code",
   "execution_count": 5,
   "metadata": {},
   "outputs": [
    {
     "name": "stdout",
     "output_type": "stream",
     "text": [
      "<class 'pandas.core.frame.DataFrame'>\n",
      "RangeIndex: 19439 entries, 0 to 19438\n",
      "Data columns (total 87 columns):\n",
      " #   Column                                              Non-Null Count  Dtype  \n",
      "---  ------                                              --------------  -----  \n",
      " 0   date                                                19439 non-null  object \n",
      " 1   final.output.concentrate_ag                         19438 non-null  float64\n",
      " 2   final.output.concentrate_pb                         19438 non-null  float64\n",
      " 3   final.output.concentrate_sol                        19228 non-null  float64\n",
      " 4   final.output.concentrate_au                         19439 non-null  float64\n",
      " 5   final.output.recovery                               19439 non-null  float64\n",
      " 6   final.output.tail_ag                                19438 non-null  float64\n",
      " 7   final.output.tail_pb                                19338 non-null  float64\n",
      " 8   final.output.tail_sol                               19433 non-null  float64\n",
      " 9   final.output.tail_au                                19439 non-null  float64\n",
      " 10  primary_cleaner.input.sulfate                       19415 non-null  float64\n",
      " 11  primary_cleaner.input.depressant                    19402 non-null  float64\n",
      " 12  primary_cleaner.input.feed_size                     19439 non-null  float64\n",
      " 13  primary_cleaner.input.xanthate                      19335 non-null  float64\n",
      " 14  primary_cleaner.output.concentrate_ag               19439 non-null  float64\n",
      " 15  primary_cleaner.output.concentrate_pb               19323 non-null  float64\n",
      " 16  primary_cleaner.output.concentrate_sol              19069 non-null  float64\n",
      " 17  primary_cleaner.output.concentrate_au               19439 non-null  float64\n",
      " 18  primary_cleaner.output.tail_ag                      19435 non-null  float64\n",
      " 19  primary_cleaner.output.tail_pb                      19418 non-null  float64\n",
      " 20  primary_cleaner.output.tail_sol                     19377 non-null  float64\n",
      " 21  primary_cleaner.output.tail_au                      19439 non-null  float64\n",
      " 22  primary_cleaner.state.floatbank8_a_air              19435 non-null  float64\n",
      " 23  primary_cleaner.state.floatbank8_a_level            19438 non-null  float64\n",
      " 24  primary_cleaner.state.floatbank8_b_air              19435 non-null  float64\n",
      " 25  primary_cleaner.state.floatbank8_b_level            19438 non-null  float64\n",
      " 26  primary_cleaner.state.floatbank8_c_air              19437 non-null  float64\n",
      " 27  primary_cleaner.state.floatbank8_c_level            19438 non-null  float64\n",
      " 28  primary_cleaner.state.floatbank8_d_air              19436 non-null  float64\n",
      " 29  primary_cleaner.state.floatbank8_d_level            19438 non-null  float64\n",
      " 30  rougher.calculation.sulfate_to_au_concentrate       19437 non-null  float64\n",
      " 31  rougher.calculation.floatbank10_sulfate_to_au_feed  19437 non-null  float64\n",
      " 32  rougher.calculation.floatbank11_sulfate_to_au_feed  19437 non-null  float64\n",
      " 33  rougher.calculation.au_pb_ratio                     19439 non-null  float64\n",
      " 34  rougher.input.feed_ag                               19439 non-null  float64\n",
      " 35  rougher.input.feed_pb                               19339 non-null  float64\n",
      " 36  rougher.input.feed_rate                             19428 non-null  float64\n",
      " 37  rougher.input.feed_size                             19294 non-null  float64\n",
      " 38  rougher.input.feed_sol                              19340 non-null  float64\n",
      " 39  rougher.input.feed_au                               19439 non-null  float64\n",
      " 40  rougher.input.floatbank10_sulfate                   19405 non-null  float64\n",
      " 41  rougher.input.floatbank10_xanthate                  19431 non-null  float64\n",
      " 42  rougher.input.floatbank11_sulfate                   19395 non-null  float64\n",
      " 43  rougher.input.floatbank11_xanthate                  18986 non-null  float64\n",
      " 44  rougher.output.concentrate_ag                       19439 non-null  float64\n",
      " 45  rougher.output.concentrate_pb                       19439 non-null  float64\n",
      " 46  rougher.output.concentrate_sol                      19416 non-null  float64\n",
      " 47  rougher.output.concentrate_au                       19439 non-null  float64\n",
      " 48  rougher.output.recovery                             19439 non-null  float64\n",
      " 49  rougher.output.tail_ag                              19438 non-null  float64\n",
      " 50  rougher.output.tail_pb                              19439 non-null  float64\n",
      " 51  rougher.output.tail_sol                             19439 non-null  float64\n",
      " 52  rougher.output.tail_au                              19439 non-null  float64\n",
      " 53  rougher.state.floatbank10_a_air                     19438 non-null  float64\n",
      " 54  rougher.state.floatbank10_a_level                   19438 non-null  float64\n",
      " 55  rougher.state.floatbank10_b_air                     19438 non-null  float64\n",
      " 56  rougher.state.floatbank10_b_level                   19438 non-null  float64\n",
      " 57  rougher.state.floatbank10_c_air                     19438 non-null  float64\n",
      " 58  rougher.state.floatbank10_c_level                   19438 non-null  float64\n",
      " 59  rougher.state.floatbank10_d_air                     19439 non-null  float64\n",
      " 60  rougher.state.floatbank10_d_level                   19439 non-null  float64\n",
      " 61  rougher.state.floatbank10_e_air                     19003 non-null  float64\n",
      " 62  rougher.state.floatbank10_e_level                   19439 non-null  float64\n",
      " 63  rougher.state.floatbank10_f_air                     19439 non-null  float64\n",
      " 64  rougher.state.floatbank10_f_level                   19439 non-null  float64\n",
      " 65  secondary_cleaner.output.tail_ag                    19437 non-null  float64\n",
      " 66  secondary_cleaner.output.tail_pb                    19427 non-null  float64\n",
      " 67  secondary_cleaner.output.tail_sol                   17691 non-null  float64\n",
      " 68  secondary_cleaner.output.tail_au                    19439 non-null  float64\n",
      " 69  secondary_cleaner.state.floatbank2_a_air            19219 non-null  float64\n",
      " 70  secondary_cleaner.state.floatbank2_a_level          19438 non-null  float64\n",
      " 71  secondary_cleaner.state.floatbank2_b_air            19416 non-null  float64\n",
      " 72  secondary_cleaner.state.floatbank2_b_level          19438 non-null  float64\n",
      " 73  secondary_cleaner.state.floatbank3_a_air            19426 non-null  float64\n",
      " 74  secondary_cleaner.state.floatbank3_a_level          19438 non-null  float64\n",
      " 75  secondary_cleaner.state.floatbank3_b_air            19438 non-null  float64\n",
      " 76  secondary_cleaner.state.floatbank3_b_level          19438 non-null  float64\n",
      " 77  secondary_cleaner.state.floatbank4_a_air            19433 non-null  float64\n",
      " 78  secondary_cleaner.state.floatbank4_a_level          19438 non-null  float64\n",
      " 79  secondary_cleaner.state.floatbank4_b_air            19438 non-null  float64\n",
      " 80  secondary_cleaner.state.floatbank4_b_level          19438 non-null  float64\n",
      " 81  secondary_cleaner.state.floatbank5_a_air            19438 non-null  float64\n",
      " 82  secondary_cleaner.state.floatbank5_a_level          19438 non-null  float64\n",
      " 83  secondary_cleaner.state.floatbank5_b_air            19438 non-null  float64\n",
      " 84  secondary_cleaner.state.floatbank5_b_level          19438 non-null  float64\n",
      " 85  secondary_cleaner.state.floatbank6_a_air            19437 non-null  float64\n",
      " 86  secondary_cleaner.state.floatbank6_a_level          19438 non-null  float64\n",
      "dtypes: float64(86), object(1)\n",
      "memory usage: 12.9+ MB\n",
      "\n",
      "<class 'pandas.core.frame.DataFrame'>\n",
      "RangeIndex: 14149 entries, 0 to 14148\n",
      "Data columns (total 87 columns):\n",
      " #   Column                                              Non-Null Count  Dtype  \n",
      "---  ------                                              --------------  -----  \n",
      " 0   date                                                14149 non-null  object \n",
      " 1   final.output.concentrate_ag                         14148 non-null  float64\n",
      " 2   final.output.concentrate_pb                         14148 non-null  float64\n",
      " 3   final.output.concentrate_sol                        13938 non-null  float64\n",
      " 4   final.output.concentrate_au                         14149 non-null  float64\n",
      " 5   final.output.recovery                               14149 non-null  float64\n",
      " 6   final.output.tail_ag                                14149 non-null  float64\n",
      " 7   final.output.tail_pb                                14049 non-null  float64\n",
      " 8   final.output.tail_sol                               14144 non-null  float64\n",
      " 9   final.output.tail_au                                14149 non-null  float64\n",
      " 10  primary_cleaner.input.sulfate                       14129 non-null  float64\n",
      " 11  primary_cleaner.input.depressant                    14117 non-null  float64\n",
      " 12  primary_cleaner.input.feed_size                     14149 non-null  float64\n",
      " 13  primary_cleaner.input.xanthate                      14049 non-null  float64\n",
      " 14  primary_cleaner.output.concentrate_ag               14149 non-null  float64\n",
      " 15  primary_cleaner.output.concentrate_pb               14063 non-null  float64\n",
      " 16  primary_cleaner.output.concentrate_sol              13863 non-null  float64\n",
      " 17  primary_cleaner.output.concentrate_au               14149 non-null  float64\n",
      " 18  primary_cleaner.output.tail_ag                      14148 non-null  float64\n",
      " 19  primary_cleaner.output.tail_pb                      14134 non-null  float64\n",
      " 20  primary_cleaner.output.tail_sol                     14103 non-null  float64\n",
      " 21  primary_cleaner.output.tail_au                      14149 non-null  float64\n",
      " 22  primary_cleaner.state.floatbank8_a_air              14145 non-null  float64\n",
      " 23  primary_cleaner.state.floatbank8_a_level            14148 non-null  float64\n",
      " 24  primary_cleaner.state.floatbank8_b_air              14145 non-null  float64\n",
      " 25  primary_cleaner.state.floatbank8_b_level            14148 non-null  float64\n",
      " 26  primary_cleaner.state.floatbank8_c_air              14147 non-null  float64\n",
      " 27  primary_cleaner.state.floatbank8_c_level            14148 non-null  float64\n",
      " 28  primary_cleaner.state.floatbank8_d_air              14146 non-null  float64\n",
      " 29  primary_cleaner.state.floatbank8_d_level            14148 non-null  float64\n",
      " 30  rougher.calculation.sulfate_to_au_concentrate       14148 non-null  float64\n",
      " 31  rougher.calculation.floatbank10_sulfate_to_au_feed  14148 non-null  float64\n",
      " 32  rougher.calculation.floatbank11_sulfate_to_au_feed  14148 non-null  float64\n",
      " 33  rougher.calculation.au_pb_ratio                     14149 non-null  float64\n",
      " 34  rougher.input.feed_ag                               14149 non-null  float64\n",
      " 35  rougher.input.feed_pb                               14049 non-null  float64\n",
      " 36  rougher.input.feed_rate                             14141 non-null  float64\n",
      " 37  rougher.input.feed_size                             14005 non-null  float64\n",
      " 38  rougher.input.feed_sol                              14071 non-null  float64\n",
      " 39  rougher.input.feed_au                               14149 non-null  float64\n",
      " 40  rougher.input.floatbank10_sulfate                   14120 non-null  float64\n",
      " 41  rougher.input.floatbank10_xanthate                  14141 non-null  float64\n",
      " 42  rougher.input.floatbank11_sulfate                   14113 non-null  float64\n",
      " 43  rougher.input.floatbank11_xanthate                  13721 non-null  float64\n",
      " 44  rougher.output.concentrate_ag                       14149 non-null  float64\n",
      " 45  rougher.output.concentrate_pb                       14149 non-null  float64\n",
      " 46  rougher.output.concentrate_sol                      14127 non-null  float64\n",
      " 47  rougher.output.concentrate_au                       14149 non-null  float64\n",
      " 48  rougher.output.recovery                             14149 non-null  float64\n",
      " 49  rougher.output.tail_ag                              14148 non-null  float64\n",
      " 50  rougher.output.tail_pb                              14149 non-null  float64\n",
      " 51  rougher.output.tail_sol                             14149 non-null  float64\n",
      " 52  rougher.output.tail_au                              14149 non-null  float64\n",
      " 53  rougher.state.floatbank10_a_air                     14148 non-null  float64\n",
      " 54  rougher.state.floatbank10_a_level                   14148 non-null  float64\n",
      " 55  rougher.state.floatbank10_b_air                     14148 non-null  float64\n",
      " 56  rougher.state.floatbank10_b_level                   14148 non-null  float64\n",
      " 57  rougher.state.floatbank10_c_air                     14148 non-null  float64\n",
      " 58  rougher.state.floatbank10_c_level                   14148 non-null  float64\n",
      " 59  rougher.state.floatbank10_d_air                     14149 non-null  float64\n",
      " 60  rougher.state.floatbank10_d_level                   14149 non-null  float64\n",
      " 61  rougher.state.floatbank10_e_air                     13713 non-null  float64\n",
      " 62  rougher.state.floatbank10_e_level                   14149 non-null  float64\n",
      " 63  rougher.state.floatbank10_f_air                     14149 non-null  float64\n",
      " 64  rougher.state.floatbank10_f_level                   14149 non-null  float64\n",
      " 65  secondary_cleaner.output.tail_ag                    14147 non-null  float64\n",
      " 66  secondary_cleaner.output.tail_pb                    14139 non-null  float64\n",
      " 67  secondary_cleaner.output.tail_sol                   12544 non-null  float64\n",
      " 68  secondary_cleaner.output.tail_au                    14149 non-null  float64\n",
      " 69  secondary_cleaner.state.floatbank2_a_air            13932 non-null  float64\n",
      " 70  secondary_cleaner.state.floatbank2_a_level          14148 non-null  float64\n",
      " 71  secondary_cleaner.state.floatbank2_b_air            14128 non-null  float64\n",
      " 72  secondary_cleaner.state.floatbank2_b_level          14148 non-null  float64\n",
      " 73  secondary_cleaner.state.floatbank3_a_air            14145 non-null  float64\n",
      " 74  secondary_cleaner.state.floatbank3_a_level          14148 non-null  float64\n",
      " 75  secondary_cleaner.state.floatbank3_b_air            14148 non-null  float64\n",
      " 76  secondary_cleaner.state.floatbank3_b_level          14148 non-null  float64\n",
      " 77  secondary_cleaner.state.floatbank4_a_air            14143 non-null  float64\n",
      " 78  secondary_cleaner.state.floatbank4_a_level          14148 non-null  float64\n",
      " 79  secondary_cleaner.state.floatbank4_b_air            14148 non-null  float64\n",
      " 80  secondary_cleaner.state.floatbank4_b_level          14148 non-null  float64\n",
      " 81  secondary_cleaner.state.floatbank5_a_air            14148 non-null  float64\n",
      " 82  secondary_cleaner.state.floatbank5_a_level          14148 non-null  float64\n",
      " 83  secondary_cleaner.state.floatbank5_b_air            14148 non-null  float64\n",
      " 84  secondary_cleaner.state.floatbank5_b_level          14148 non-null  float64\n",
      " 85  secondary_cleaner.state.floatbank6_a_air            14147 non-null  float64\n",
      " 86  secondary_cleaner.state.floatbank6_a_level          14148 non-null  float64\n",
      "dtypes: float64(86), object(1)\n",
      "memory usage: 9.4+ MB\n",
      "\n",
      "<class 'pandas.core.frame.DataFrame'>\n",
      "RangeIndex: 5290 entries, 0 to 5289\n",
      "Data columns (total 53 columns):\n",
      " #   Column                                      Non-Null Count  Dtype  \n",
      "---  ------                                      --------------  -----  \n",
      " 0   date                                        5290 non-null   object \n",
      " 1   primary_cleaner.input.sulfate               5286 non-null   float64\n",
      " 2   primary_cleaner.input.depressant            5285 non-null   float64\n",
      " 3   primary_cleaner.input.feed_size             5290 non-null   float64\n",
      " 4   primary_cleaner.input.xanthate              5286 non-null   float64\n",
      " 5   primary_cleaner.state.floatbank8_a_air      5290 non-null   float64\n",
      " 6   primary_cleaner.state.floatbank8_a_level    5290 non-null   float64\n",
      " 7   primary_cleaner.state.floatbank8_b_air      5290 non-null   float64\n",
      " 8   primary_cleaner.state.floatbank8_b_level    5290 non-null   float64\n",
      " 9   primary_cleaner.state.floatbank8_c_air      5290 non-null   float64\n",
      " 10  primary_cleaner.state.floatbank8_c_level    5290 non-null   float64\n",
      " 11  primary_cleaner.state.floatbank8_d_air      5290 non-null   float64\n",
      " 12  primary_cleaner.state.floatbank8_d_level    5290 non-null   float64\n",
      " 13  rougher.input.feed_ag                       5290 non-null   float64\n",
      " 14  rougher.input.feed_pb                       5290 non-null   float64\n",
      " 15  rougher.input.feed_rate                     5287 non-null   float64\n",
      " 16  rougher.input.feed_size                     5289 non-null   float64\n",
      " 17  rougher.input.feed_sol                      5269 non-null   float64\n",
      " 18  rougher.input.feed_au                       5290 non-null   float64\n",
      " 19  rougher.input.floatbank10_sulfate           5285 non-null   float64\n",
      " 20  rougher.input.floatbank10_xanthate          5290 non-null   float64\n",
      " 21  rougher.input.floatbank11_sulfate           5282 non-null   float64\n",
      " 22  rougher.input.floatbank11_xanthate          5265 non-null   float64\n",
      " 23  rougher.state.floatbank10_a_air             5290 non-null   float64\n",
      " 24  rougher.state.floatbank10_a_level           5290 non-null   float64\n",
      " 25  rougher.state.floatbank10_b_air             5290 non-null   float64\n",
      " 26  rougher.state.floatbank10_b_level           5290 non-null   float64\n",
      " 27  rougher.state.floatbank10_c_air             5290 non-null   float64\n",
      " 28  rougher.state.floatbank10_c_level           5290 non-null   float64\n",
      " 29  rougher.state.floatbank10_d_air             5290 non-null   float64\n",
      " 30  rougher.state.floatbank10_d_level           5290 non-null   float64\n",
      " 31  rougher.state.floatbank10_e_air             5290 non-null   float64\n",
      " 32  rougher.state.floatbank10_e_level           5290 non-null   float64\n",
      " 33  rougher.state.floatbank10_f_air             5290 non-null   float64\n",
      " 34  rougher.state.floatbank10_f_level           5290 non-null   float64\n",
      " 35  secondary_cleaner.state.floatbank2_a_air    5287 non-null   float64\n",
      " 36  secondary_cleaner.state.floatbank2_a_level  5290 non-null   float64\n",
      " 37  secondary_cleaner.state.floatbank2_b_air    5288 non-null   float64\n",
      " 38  secondary_cleaner.state.floatbank2_b_level  5290 non-null   float64\n",
      " 39  secondary_cleaner.state.floatbank3_a_air    5281 non-null   float64\n",
      " 40  secondary_cleaner.state.floatbank3_a_level  5290 non-null   float64\n",
      " 41  secondary_cleaner.state.floatbank3_b_air    5290 non-null   float64\n",
      " 42  secondary_cleaner.state.floatbank3_b_level  5290 non-null   float64\n",
      " 43  secondary_cleaner.state.floatbank4_a_air    5290 non-null   float64\n",
      " 44  secondary_cleaner.state.floatbank4_a_level  5290 non-null   float64\n",
      " 45  secondary_cleaner.state.floatbank4_b_air    5290 non-null   float64\n",
      " 46  secondary_cleaner.state.floatbank4_b_level  5290 non-null   float64\n",
      " 47  secondary_cleaner.state.floatbank5_a_air    5290 non-null   float64\n",
      " 48  secondary_cleaner.state.floatbank5_a_level  5290 non-null   float64\n",
      " 49  secondary_cleaner.state.floatbank5_b_air    5290 non-null   float64\n",
      " 50  secondary_cleaner.state.floatbank5_b_level  5290 non-null   float64\n",
      " 51  secondary_cleaner.state.floatbank6_a_air    5290 non-null   float64\n",
      " 52  secondary_cleaner.state.floatbank6_a_level  5290 non-null   float64\n",
      "dtypes: float64(52), object(1)\n",
      "memory usage: 2.1+ MB\n"
     ]
    }
   ],
   "source": [
    "# выводим общую информацию о файлах\n",
    "data_full.info()\n",
    "print()\n",
    "data_train.info()\n",
    "print()\n",
    "data_test.info()"
   ]
  },
  {
   "cell_type": "code",
   "execution_count": 6,
   "metadata": {
    "scrolled": true
   },
   "outputs": [
    {
     "data": {
      "text/plain": [
       "date                                                   object\n",
       "final.output.concentrate_ag                           float64\n",
       "final.output.concentrate_pb                           float64\n",
       "final.output.concentrate_sol                          float64\n",
       "final.output.concentrate_au                           float64\n",
       "final.output.recovery                                 float64\n",
       "final.output.tail_ag                                  float64\n",
       "final.output.tail_pb                                  float64\n",
       "final.output.tail_sol                                 float64\n",
       "final.output.tail_au                                  float64\n",
       "primary_cleaner.input.sulfate                         float64\n",
       "primary_cleaner.input.depressant                      float64\n",
       "primary_cleaner.input.feed_size                       float64\n",
       "primary_cleaner.input.xanthate                        float64\n",
       "primary_cleaner.output.concentrate_ag                 float64\n",
       "primary_cleaner.output.concentrate_pb                 float64\n",
       "primary_cleaner.output.concentrate_sol                float64\n",
       "primary_cleaner.output.concentrate_au                 float64\n",
       "primary_cleaner.output.tail_ag                        float64\n",
       "primary_cleaner.output.tail_pb                        float64\n",
       "primary_cleaner.output.tail_sol                       float64\n",
       "primary_cleaner.output.tail_au                        float64\n",
       "primary_cleaner.state.floatbank8_a_air                float64\n",
       "primary_cleaner.state.floatbank8_a_level              float64\n",
       "primary_cleaner.state.floatbank8_b_air                float64\n",
       "primary_cleaner.state.floatbank8_b_level              float64\n",
       "primary_cleaner.state.floatbank8_c_air                float64\n",
       "primary_cleaner.state.floatbank8_c_level              float64\n",
       "primary_cleaner.state.floatbank8_d_air                float64\n",
       "primary_cleaner.state.floatbank8_d_level              float64\n",
       "rougher.calculation.sulfate_to_au_concentrate         float64\n",
       "rougher.calculation.floatbank10_sulfate_to_au_feed    float64\n",
       "rougher.calculation.floatbank11_sulfate_to_au_feed    float64\n",
       "rougher.calculation.au_pb_ratio                       float64\n",
       "rougher.input.feed_ag                                 float64\n",
       "rougher.input.feed_pb                                 float64\n",
       "rougher.input.feed_rate                               float64\n",
       "rougher.input.feed_size                               float64\n",
       "rougher.input.feed_sol                                float64\n",
       "rougher.input.feed_au                                 float64\n",
       "rougher.input.floatbank10_sulfate                     float64\n",
       "rougher.input.floatbank10_xanthate                    float64\n",
       "rougher.input.floatbank11_sulfate                     float64\n",
       "rougher.input.floatbank11_xanthate                    float64\n",
       "rougher.output.concentrate_ag                         float64\n",
       "rougher.output.concentrate_pb                         float64\n",
       "rougher.output.concentrate_sol                        float64\n",
       "rougher.output.concentrate_au                         float64\n",
       "rougher.output.recovery                               float64\n",
       "rougher.output.tail_ag                                float64\n",
       "rougher.output.tail_pb                                float64\n",
       "rougher.output.tail_sol                               float64\n",
       "rougher.output.tail_au                                float64\n",
       "rougher.state.floatbank10_a_air                       float64\n",
       "rougher.state.floatbank10_a_level                     float64\n",
       "rougher.state.floatbank10_b_air                       float64\n",
       "rougher.state.floatbank10_b_level                     float64\n",
       "rougher.state.floatbank10_c_air                       float64\n",
       "rougher.state.floatbank10_c_level                     float64\n",
       "rougher.state.floatbank10_d_air                       float64\n",
       "rougher.state.floatbank10_d_level                     float64\n",
       "rougher.state.floatbank10_e_air                       float64\n",
       "rougher.state.floatbank10_e_level                     float64\n",
       "rougher.state.floatbank10_f_air                       float64\n",
       "rougher.state.floatbank10_f_level                     float64\n",
       "secondary_cleaner.output.tail_ag                      float64\n",
       "secondary_cleaner.output.tail_pb                      float64\n",
       "secondary_cleaner.output.tail_sol                     float64\n",
       "secondary_cleaner.output.tail_au                      float64\n",
       "secondary_cleaner.state.floatbank2_a_air              float64\n",
       "secondary_cleaner.state.floatbank2_a_level            float64\n",
       "secondary_cleaner.state.floatbank2_b_air              float64\n",
       "secondary_cleaner.state.floatbank2_b_level            float64\n",
       "secondary_cleaner.state.floatbank3_a_air              float64\n",
       "secondary_cleaner.state.floatbank3_a_level            float64\n",
       "secondary_cleaner.state.floatbank3_b_air              float64\n",
       "secondary_cleaner.state.floatbank3_b_level            float64\n",
       "secondary_cleaner.state.floatbank4_a_air              float64\n",
       "secondary_cleaner.state.floatbank4_a_level            float64\n",
       "secondary_cleaner.state.floatbank4_b_air              float64\n",
       "secondary_cleaner.state.floatbank4_b_level            float64\n",
       "secondary_cleaner.state.floatbank5_a_air              float64\n",
       "secondary_cleaner.state.floatbank5_a_level            float64\n",
       "secondary_cleaner.state.floatbank5_b_air              float64\n",
       "secondary_cleaner.state.floatbank5_b_level            float64\n",
       "secondary_cleaner.state.floatbank6_a_air              float64\n",
       "secondary_cleaner.state.floatbank6_a_level            float64\n",
       "dtype: object"
      ]
     },
     "execution_count": 6,
     "metadata": {},
     "output_type": "execute_result"
    }
   ],
   "source": [
    "#посмотрим типы данных\n",
    "data_full.dtypes"
   ]
  },
  {
   "cell_type": "code",
   "execution_count": 7,
   "metadata": {},
   "outputs": [
    {
     "data": {
      "text/plain": [
       "dtype('<M8[ns]')"
      ]
     },
     "metadata": {},
     "output_type": "display_data"
    },
    {
     "data": {
      "text/plain": [
       "dtype('<M8[ns]')"
      ]
     },
     "metadata": {},
     "output_type": "display_data"
    },
    {
     "data": {
      "text/plain": [
       "dtype('<M8[ns]')"
      ]
     },
     "metadata": {},
     "output_type": "display_data"
    }
   ],
   "source": [
    "# преобразуем тип данных параметра date из object в datetime, потому что по сути это дата\n",
    "for data in [data_full, data_train, data_test]:\n",
    "           for column in data:\n",
    "            if 'date' in column:\n",
    "                data[column]=pd.to_datetime(data[column])\n",
    "                display(data['date'].dtypes)"
   ]
  },
  {
   "cell_type": "code",
   "execution_count": 8,
   "metadata": {},
   "outputs": [
    {
     "name": "stdout",
     "output_type": "stream",
     "text": [
      "0\n",
      "0\n",
      "0\n"
     ]
    }
   ],
   "source": [
    "# проверим на дубликаты\n",
    "print(data_full.duplicated().sum())\n",
    "print(data_train.duplicated().sum())\n",
    "print(data_test.duplicated().sum())"
   ]
  },
  {
   "cell_type": "markdown",
   "metadata": {},
   "source": [
    "дубликатов нет"
   ]
  },
  {
   "cell_type": "code",
   "execution_count": 9,
   "metadata": {
    "scrolled": true
   },
   "outputs": [
    {
     "data": {
      "text/plain": [
       "date                                                  datetime64[ns]\n",
       "final.output.concentrate_ag                                  float64\n",
       "final.output.concentrate_pb                                  float64\n",
       "final.output.concentrate_sol                                 float64\n",
       "final.output.concentrate_au                                  float64\n",
       "final.output.recovery                                        float64\n",
       "final.output.tail_ag                                         float64\n",
       "final.output.tail_pb                                         float64\n",
       "final.output.tail_sol                                        float64\n",
       "final.output.tail_au                                         float64\n",
       "primary_cleaner.input.sulfate                                float64\n",
       "primary_cleaner.input.depressant                             float64\n",
       "primary_cleaner.input.feed_size                              float64\n",
       "primary_cleaner.input.xanthate                               float64\n",
       "primary_cleaner.output.concentrate_ag                        float64\n",
       "primary_cleaner.output.concentrate_pb                        float64\n",
       "primary_cleaner.output.concentrate_sol                       float64\n",
       "primary_cleaner.output.concentrate_au                        float64\n",
       "primary_cleaner.output.tail_ag                               float64\n",
       "primary_cleaner.output.tail_pb                               float64\n",
       "primary_cleaner.output.tail_sol                              float64\n",
       "primary_cleaner.output.tail_au                               float64\n",
       "primary_cleaner.state.floatbank8_a_air                       float64\n",
       "primary_cleaner.state.floatbank8_a_level                     float64\n",
       "primary_cleaner.state.floatbank8_b_air                       float64\n",
       "primary_cleaner.state.floatbank8_b_level                     float64\n",
       "primary_cleaner.state.floatbank8_c_air                       float64\n",
       "primary_cleaner.state.floatbank8_c_level                     float64\n",
       "primary_cleaner.state.floatbank8_d_air                       float64\n",
       "primary_cleaner.state.floatbank8_d_level                     float64\n",
       "rougher.calculation.sulfate_to_au_concentrate                float64\n",
       "rougher.calculation.floatbank10_sulfate_to_au_feed           float64\n",
       "rougher.calculation.floatbank11_sulfate_to_au_feed           float64\n",
       "rougher.calculation.au_pb_ratio                              float64\n",
       "rougher.input.feed_ag                                        float64\n",
       "rougher.input.feed_pb                                        float64\n",
       "rougher.input.feed_rate                                      float64\n",
       "rougher.input.feed_size                                      float64\n",
       "rougher.input.feed_sol                                       float64\n",
       "rougher.input.feed_au                                        float64\n",
       "rougher.input.floatbank10_sulfate                            float64\n",
       "rougher.input.floatbank10_xanthate                           float64\n",
       "rougher.input.floatbank11_sulfate                            float64\n",
       "rougher.input.floatbank11_xanthate                           float64\n",
       "rougher.output.concentrate_ag                                float64\n",
       "rougher.output.concentrate_pb                                float64\n",
       "rougher.output.concentrate_sol                               float64\n",
       "rougher.output.concentrate_au                                float64\n",
       "rougher.output.recovery                                      float64\n",
       "rougher.output.tail_ag                                       float64\n",
       "rougher.output.tail_pb                                       float64\n",
       "rougher.output.tail_sol                                      float64\n",
       "rougher.output.tail_au                                       float64\n",
       "rougher.state.floatbank10_a_air                              float64\n",
       "rougher.state.floatbank10_a_level                            float64\n",
       "rougher.state.floatbank10_b_air                              float64\n",
       "rougher.state.floatbank10_b_level                            float64\n",
       "rougher.state.floatbank10_c_air                              float64\n",
       "rougher.state.floatbank10_c_level                            float64\n",
       "rougher.state.floatbank10_d_air                              float64\n",
       "rougher.state.floatbank10_d_level                            float64\n",
       "rougher.state.floatbank10_e_air                              float64\n",
       "rougher.state.floatbank10_e_level                            float64\n",
       "rougher.state.floatbank10_f_air                              float64\n",
       "rougher.state.floatbank10_f_level                            float64\n",
       "secondary_cleaner.output.tail_ag                             float64\n",
       "secondary_cleaner.output.tail_pb                             float64\n",
       "secondary_cleaner.output.tail_sol                            float64\n",
       "secondary_cleaner.output.tail_au                             float64\n",
       "secondary_cleaner.state.floatbank2_a_air                     float64\n",
       "secondary_cleaner.state.floatbank2_a_level                   float64\n",
       "secondary_cleaner.state.floatbank2_b_air                     float64\n",
       "secondary_cleaner.state.floatbank2_b_level                   float64\n",
       "secondary_cleaner.state.floatbank3_a_air                     float64\n",
       "secondary_cleaner.state.floatbank3_a_level                   float64\n",
       "secondary_cleaner.state.floatbank3_b_air                     float64\n",
       "secondary_cleaner.state.floatbank3_b_level                   float64\n",
       "secondary_cleaner.state.floatbank4_a_air                     float64\n",
       "secondary_cleaner.state.floatbank4_a_level                   float64\n",
       "secondary_cleaner.state.floatbank4_b_air                     float64\n",
       "secondary_cleaner.state.floatbank4_b_level                   float64\n",
       "secondary_cleaner.state.floatbank5_a_air                     float64\n",
       "secondary_cleaner.state.floatbank5_a_level                   float64\n",
       "secondary_cleaner.state.floatbank5_b_air                     float64\n",
       "secondary_cleaner.state.floatbank5_b_level                   float64\n",
       "secondary_cleaner.state.floatbank6_a_air                     float64\n",
       "secondary_cleaner.state.floatbank6_a_level                   float64\n",
       "dtype: object"
      ]
     },
     "execution_count": 9,
     "metadata": {},
     "output_type": "execute_result"
    }
   ],
   "source": [
    "data_full.dtypes\n",
    "data_train.dtypes"
   ]
  },
  {
   "cell_type": "markdown",
   "metadata": {},
   "source": [
    "Анализ признаков, исключенных из тестовой выборки"
   ]
  },
  {
   "cell_type": "code",
   "execution_count": 10,
   "metadata": {
    "scrolled": true
   },
   "outputs": [
    {
     "data": {
      "text/plain": [
       "31                          final.output.concentrate_ag\n",
       "0                           final.output.concentrate_au\n",
       "21                          final.output.concentrate_pb\n",
       "29                         final.output.concentrate_sol\n",
       "15                                final.output.recovery\n",
       "7                                  final.output.tail_ag\n",
       "5                                  final.output.tail_au\n",
       "24                                 final.output.tail_pb\n",
       "30                                final.output.tail_sol\n",
       "11                primary_cleaner.output.concentrate_ag\n",
       "4                 primary_cleaner.output.concentrate_au\n",
       "19                primary_cleaner.output.concentrate_pb\n",
       "12               primary_cleaner.output.concentrate_sol\n",
       "22                       primary_cleaner.output.tail_ag\n",
       "13                       primary_cleaner.output.tail_au\n",
       "25                       primary_cleaner.output.tail_pb\n",
       "1                       primary_cleaner.output.tail_sol\n",
       "18                      rougher.calculation.au_pb_ratio\n",
       "32    rougher.calculation.floatbank10_sulfate_to_au_...\n",
       "17    rougher.calculation.floatbank11_sulfate_to_au_...\n",
       "8         rougher.calculation.sulfate_to_au_concentrate\n",
       "6                         rougher.output.concentrate_ag\n",
       "14                        rougher.output.concentrate_au\n",
       "9                         rougher.output.concentrate_pb\n",
       "3                        rougher.output.concentrate_sol\n",
       "27                              rougher.output.recovery\n",
       "10                               rougher.output.tail_ag\n",
       "20                               rougher.output.tail_au\n",
       "26                               rougher.output.tail_pb\n",
       "33                              rougher.output.tail_sol\n",
       "16                     secondary_cleaner.output.tail_ag\n",
       "2                      secondary_cleaner.output.tail_au\n",
       "28                     secondary_cleaner.output.tail_pb\n",
       "23                    secondary_cleaner.output.tail_sol\n",
       "dtype: object"
      ]
     },
     "metadata": {},
     "output_type": "display_data"
    }
   ],
   "source": [
    "# выводим признаки, исключенные из тестовой выборки\n",
    "data_train_col = data_train.columns\n",
    "data_test_col = data_test.columns\n",
    "excl_param = pd.Series(list(set(data_train_col) - set(data_test_col)))\n",
    "display(excl_param.sort_values())\n",
    "excl_param_list = excl_param.to_list"
   ]
  },
  {
   "cell_type": "markdown",
   "metadata": {},
   "source": [
    "Параметры, исключенные из тестовой выборки, представляют собой выходные признаки после каждого технологического этапа или расчитанные на их основе.\n",
    "Каждый из этих параметров может быть целевым и являться предметом предсказания.\n",
    "Целевые параметры в рамках проекта (final.output.recovery и rougher.output.recovery) также исключены из тестовой выборки.\n",
    "Нам надо будет воостановить целевые признаки для тестовой выборки, чтобы строить модели."
   ]
  },
  {
   "cell_type": "code",
   "execution_count": 11,
   "metadata": {
    "scrolled": true
   },
   "outputs": [
    {
     "data": {
      "text/plain": [
       "secondary_cleaner.output.tail_sol                     0.089922\n",
       "rougher.input.floatbank11_xanthate                    0.023304\n",
       "rougher.state.floatbank10_e_air                       0.022429\n",
       "primary_cleaner.output.concentrate_sol                0.019034\n",
       "secondary_cleaner.state.floatbank2_a_air              0.011317\n",
       "final.output.concentrate_sol                          0.010854\n",
       "rougher.input.feed_size                               0.007459\n",
       "primary_cleaner.output.concentrate_pb                 0.005967\n",
       "primary_cleaner.input.xanthate                        0.005350\n",
       "final.output.tail_pb                                  0.005196\n",
       "rougher.input.feed_pb                                 0.005144\n",
       "rougher.input.feed_sol                                0.005093\n",
       "primary_cleaner.output.tail_sol                       0.003189\n",
       "rougher.input.floatbank11_sulfate                     0.002263\n",
       "primary_cleaner.input.depressant                      0.001903\n",
       "rougher.input.floatbank10_sulfate                     0.001749\n",
       "primary_cleaner.input.sulfate                         0.001235\n",
       "rougher.output.concentrate_sol                        0.001183\n",
       "secondary_cleaner.state.floatbank2_b_air              0.001183\n",
       "primary_cleaner.output.tail_pb                        0.001080\n",
       "secondary_cleaner.state.floatbank3_a_air              0.000669\n",
       "secondary_cleaner.output.tail_pb                      0.000617\n",
       "rougher.input.feed_rate                               0.000566\n",
       "rougher.input.floatbank10_xanthate                    0.000412\n",
       "final.output.tail_sol                                 0.000309\n",
       "secondary_cleaner.state.floatbank4_a_air              0.000309\n",
       "primary_cleaner.output.tail_ag                        0.000206\n",
       "primary_cleaner.state.floatbank8_b_air                0.000206\n",
       "primary_cleaner.state.floatbank8_a_air                0.000206\n",
       "primary_cleaner.state.floatbank8_d_air                0.000154\n",
       "rougher.calculation.floatbank11_sulfate_to_au_feed    0.000103\n",
       "secondary_cleaner.output.tail_ag                      0.000103\n",
       "primary_cleaner.state.floatbank8_c_air                0.000103\n",
       "rougher.calculation.sulfate_to_au_concentrate         0.000103\n",
       "secondary_cleaner.state.floatbank6_a_air              0.000103\n",
       "rougher.calculation.floatbank10_sulfate_to_au_feed    0.000103\n",
       "secondary_cleaner.state.floatbank2_b_level            0.000051\n",
       "secondary_cleaner.state.floatbank5_a_air              0.000051\n",
       "rougher.state.floatbank10_b_level                     0.000051\n",
       "rougher.state.floatbank10_c_air                       0.000051\n",
       "rougher.state.floatbank10_c_level                     0.000051\n",
       "secondary_cleaner.state.floatbank5_b_level            0.000051\n",
       "secondary_cleaner.state.floatbank5_b_air              0.000051\n",
       "secondary_cleaner.state.floatbank5_a_level            0.000051\n",
       "secondary_cleaner.state.floatbank4_b_level            0.000051\n",
       "secondary_cleaner.state.floatbank4_b_air              0.000051\n",
       "secondary_cleaner.state.floatbank4_a_level            0.000051\n",
       "secondary_cleaner.state.floatbank3_b_level            0.000051\n",
       "secondary_cleaner.state.floatbank2_a_level            0.000051\n",
       "secondary_cleaner.state.floatbank3_b_air              0.000051\n",
       "rougher.state.floatbank10_a_level                     0.000051\n",
       "secondary_cleaner.state.floatbank3_a_level            0.000051\n",
       "rougher.state.floatbank10_b_air                       0.000051\n",
       "secondary_cleaner.state.floatbank6_a_level            0.000051\n",
       "rougher.state.floatbank10_a_air                       0.000051\n",
       "final.output.tail_ag                                  0.000051\n",
       "final.output.concentrate_ag                           0.000051\n",
       "primary_cleaner.state.floatbank8_c_level              0.000051\n",
       "primary_cleaner.state.floatbank8_b_level              0.000051\n",
       "primary_cleaner.state.floatbank8_a_level              0.000051\n",
       "primary_cleaner.state.floatbank8_d_level              0.000051\n",
       "rougher.output.tail_ag                                0.000051\n",
       "final.output.concentrate_pb                           0.000051\n",
       "final.output.tail_au                                  0.000000\n",
       "rougher.calculation.au_pb_ratio                       0.000000\n",
       "primary_cleaner.output.concentrate_ag                 0.000000\n",
       "primary_cleaner.output.concentrate_au                 0.000000\n",
       "primary_cleaner.output.tail_au                        0.000000\n",
       "final.output.recovery                                 0.000000\n",
       "final.output.concentrate_au                           0.000000\n",
       "primary_cleaner.input.feed_size                       0.000000\n",
       "rougher.input.feed_au                                 0.000000\n",
       "rougher.input.feed_ag                                 0.000000\n",
       "rougher.output.tail_au                                0.000000\n",
       "secondary_cleaner.output.tail_au                      0.000000\n",
       "rougher.output.concentrate_ag                         0.000000\n",
       "rougher.output.concentrate_pb                         0.000000\n",
       "rougher.output.concentrate_au                         0.000000\n",
       "rougher.state.floatbank10_f_level                     0.000000\n",
       "rougher.state.floatbank10_f_air                       0.000000\n",
       "rougher.state.floatbank10_e_level                     0.000000\n",
       "rougher.output.recovery                               0.000000\n",
       "rougher.state.floatbank10_d_level                     0.000000\n",
       "rougher.state.floatbank10_d_air                       0.000000\n",
       "rougher.output.tail_pb                                0.000000\n",
       "rougher.output.tail_sol                               0.000000\n",
       "date                                                  0.000000\n",
       "dtype: float64"
      ]
     },
     "execution_count": 11,
     "metadata": {},
     "output_type": "execute_result"
    }
   ],
   "source": [
    "# проверим,есть ли пропущенные значения\n",
    "data_full.isna().sum().sort_values(ascending=False)/len(data_full)\n"
   ]
  },
  {
   "cell_type": "markdown",
   "metadata": {},
   "source": [
    "больше всего пропущенных значений в столбце secondary_cleaner.output.tail_sol  - 8,9% от всех данных"
   ]
  },
  {
   "cell_type": "code",
   "execution_count": 12,
   "metadata": {
    "scrolled": true
   },
   "outputs": [
    {
     "data": {
      "text/plain": [
       "secondary_cleaner.output.tail_sol                     0.113436\n",
       "rougher.state.floatbank10_e_air                       0.030815\n",
       "rougher.input.floatbank11_xanthate                    0.030249\n",
       "primary_cleaner.output.concentrate_sol                0.020213\n",
       "secondary_cleaner.state.floatbank2_a_air              0.015337\n",
       "final.output.concentrate_sol                          0.014913\n",
       "rougher.input.feed_size                               0.010177\n",
       "primary_cleaner.input.xanthate                        0.007068\n",
       "rougher.input.feed_pb                                 0.007068\n",
       "final.output.tail_pb                                  0.007068\n",
       "primary_cleaner.output.concentrate_pb                 0.006078\n",
       "rougher.input.feed_sol                                0.005513\n",
       "primary_cleaner.output.tail_sol                       0.003251\n",
       "rougher.input.floatbank11_sulfate                     0.002544\n",
       "primary_cleaner.input.depressant                      0.002262\n",
       "rougher.input.floatbank10_sulfate                     0.002050\n",
       "rougher.output.concentrate_sol                        0.001555\n",
       "secondary_cleaner.state.floatbank2_b_air              0.001484\n",
       "primary_cleaner.input.sulfate                         0.001414\n",
       "primary_cleaner.output.tail_pb                        0.001060\n",
       "secondary_cleaner.output.tail_pb                      0.000707\n",
       "rougher.input.feed_rate                               0.000565\n",
       "rougher.input.floatbank10_xanthate                    0.000565\n",
       "secondary_cleaner.state.floatbank4_a_air              0.000424\n",
       "final.output.tail_sol                                 0.000353\n",
       "secondary_cleaner.state.floatbank3_a_air              0.000283\n",
       "primary_cleaner.state.floatbank8_a_air                0.000283\n",
       "primary_cleaner.state.floatbank8_b_air                0.000283\n",
       "primary_cleaner.state.floatbank8_d_air                0.000212\n",
       "primary_cleaner.state.floatbank8_c_air                0.000141\n",
       "secondary_cleaner.output.tail_ag                      0.000141\n",
       "secondary_cleaner.state.floatbank6_a_air              0.000141\n",
       "rougher.state.floatbank10_b_level                     0.000071\n",
       "rougher.state.floatbank10_b_air                       0.000071\n",
       "rougher.state.floatbank10_c_level                     0.000071\n",
       "rougher.state.floatbank10_c_air                       0.000071\n",
       "secondary_cleaner.state.floatbank3_a_level            0.000071\n",
       "secondary_cleaner.state.floatbank2_a_level            0.000071\n",
       "secondary_cleaner.state.floatbank2_b_level            0.000071\n",
       "rougher.state.floatbank10_a_air                       0.000071\n",
       "secondary_cleaner.state.floatbank3_b_air              0.000071\n",
       "secondary_cleaner.state.floatbank3_b_level            0.000071\n",
       "secondary_cleaner.state.floatbank4_a_level            0.000071\n",
       "secondary_cleaner.state.floatbank4_b_air              0.000071\n",
       "secondary_cleaner.state.floatbank4_b_level            0.000071\n",
       "secondary_cleaner.state.floatbank5_a_air              0.000071\n",
       "secondary_cleaner.state.floatbank5_a_level            0.000071\n",
       "secondary_cleaner.state.floatbank5_b_air              0.000071\n",
       "secondary_cleaner.state.floatbank5_b_level            0.000071\n",
       "rougher.state.floatbank10_a_level                     0.000071\n",
       "secondary_cleaner.state.floatbank6_a_level            0.000071\n",
       "rougher.calculation.floatbank11_sulfate_to_au_feed    0.000071\n",
       "rougher.calculation.floatbank10_sulfate_to_au_feed    0.000071\n",
       "primary_cleaner.state.floatbank8_d_level              0.000071\n",
       "primary_cleaner.state.floatbank8_c_level              0.000071\n",
       "primary_cleaner.state.floatbank8_b_level              0.000071\n",
       "primary_cleaner.state.floatbank8_a_level              0.000071\n",
       "primary_cleaner.output.tail_ag                        0.000071\n",
       "final.output.concentrate_ag                           0.000071\n",
       "rougher.calculation.sulfate_to_au_concentrate         0.000071\n",
       "rougher.output.tail_ag                                0.000071\n",
       "final.output.concentrate_pb                           0.000071\n",
       "primary_cleaner.input.feed_size                       0.000000\n",
       "final.output.tail_au                                  0.000000\n",
       "primary_cleaner.output.concentrate_au                 0.000000\n",
       "final.output.tail_ag                                  0.000000\n",
       "primary_cleaner.output.tail_au                        0.000000\n",
       "final.output.recovery                                 0.000000\n",
       "final.output.concentrate_au                           0.000000\n",
       "primary_cleaner.output.concentrate_ag                 0.000000\n",
       "rougher.output.tail_sol                               0.000000\n",
       "rougher.output.tail_au                                0.000000\n",
       "secondary_cleaner.output.tail_au                      0.000000\n",
       "rougher.calculation.au_pb_ratio                       0.000000\n",
       "rougher.input.feed_ag                                 0.000000\n",
       "rougher.input.feed_au                                 0.000000\n",
       "rougher.state.floatbank10_f_level                     0.000000\n",
       "rougher.state.floatbank10_f_air                       0.000000\n",
       "rougher.state.floatbank10_e_level                     0.000000\n",
       "rougher.state.floatbank10_d_level                     0.000000\n",
       "rougher.state.floatbank10_d_air                       0.000000\n",
       "rougher.output.concentrate_ag                         0.000000\n",
       "rougher.output.concentrate_pb                         0.000000\n",
       "rougher.output.concentrate_au                         0.000000\n",
       "rougher.output.recovery                               0.000000\n",
       "rougher.output.tail_pb                                0.000000\n",
       "date                                                  0.000000\n",
       "dtype: float64"
      ]
     },
     "execution_count": 12,
     "metadata": {},
     "output_type": "execute_result"
    }
   ],
   "source": [
    "# проверим,есть ли пропущенные значения (распространятем ненулевые значения вперед или назад)\n",
    "data_train.isna().sum().sort_values(ascending=False)/len(data_train)\n"
   ]
  },
  {
   "cell_type": "markdown",
   "metadata": {},
   "source": [
    "больше всего пропущенных значений в столбце secondary_cleaner.output.tail_sol - 11,3% от всех данных"
   ]
  },
  {
   "cell_type": "code",
   "execution_count": 13,
   "metadata": {},
   "outputs": [
    {
     "data": {
      "text/plain": [
       "90"
      ]
     },
     "execution_count": 13,
     "metadata": {},
     "output_type": "execute_result"
    }
   ],
   "source": [
    "# проверим,есть ли пропущенные значения\n",
    "data_test.isna().sum().sort_values(ascending=False)/len(data_test)\n",
    "data_test.isna().sum().sum()"
   ]
  },
  {
   "cell_type": "code",
   "execution_count": 14,
   "metadata": {},
   "outputs": [
    {
     "name": "stdout",
     "output_type": "stream",
     "text": [
      "Количество пропущенных значений после замены в исходном файле: date                                                  0\n",
      "final.output.concentrate_ag                           0\n",
      "final.output.concentrate_pb                           0\n",
      "final.output.concentrate_sol                          0\n",
      "final.output.concentrate_au                           0\n",
      "final.output.recovery                                 0\n",
      "final.output.tail_ag                                  0\n",
      "final.output.tail_pb                                  0\n",
      "final.output.tail_sol                                 0\n",
      "final.output.tail_au                                  0\n",
      "primary_cleaner.input.sulfate                         0\n",
      "primary_cleaner.input.depressant                      0\n",
      "primary_cleaner.input.feed_size                       0\n",
      "primary_cleaner.input.xanthate                        0\n",
      "primary_cleaner.output.concentrate_ag                 0\n",
      "primary_cleaner.output.concentrate_pb                 0\n",
      "primary_cleaner.output.concentrate_sol                0\n",
      "primary_cleaner.output.concentrate_au                 0\n",
      "primary_cleaner.output.tail_ag                        0\n",
      "primary_cleaner.output.tail_pb                        0\n",
      "primary_cleaner.output.tail_sol                       0\n",
      "primary_cleaner.output.tail_au                        0\n",
      "primary_cleaner.state.floatbank8_a_air                0\n",
      "primary_cleaner.state.floatbank8_a_level              0\n",
      "primary_cleaner.state.floatbank8_b_air                0\n",
      "primary_cleaner.state.floatbank8_b_level              0\n",
      "primary_cleaner.state.floatbank8_c_air                0\n",
      "primary_cleaner.state.floatbank8_c_level              0\n",
      "primary_cleaner.state.floatbank8_d_air                0\n",
      "primary_cleaner.state.floatbank8_d_level              0\n",
      "rougher.calculation.sulfate_to_au_concentrate         0\n",
      "rougher.calculation.floatbank10_sulfate_to_au_feed    0\n",
      "rougher.calculation.floatbank11_sulfate_to_au_feed    0\n",
      "rougher.calculation.au_pb_ratio                       0\n",
      "rougher.input.feed_ag                                 0\n",
      "rougher.input.feed_pb                                 0\n",
      "rougher.input.feed_rate                               0\n",
      "rougher.input.feed_size                               0\n",
      "rougher.input.feed_sol                                0\n",
      "rougher.input.feed_au                                 0\n",
      "rougher.input.floatbank10_sulfate                     0\n",
      "rougher.input.floatbank10_xanthate                    0\n",
      "rougher.input.floatbank11_sulfate                     0\n",
      "rougher.input.floatbank11_xanthate                    0\n",
      "rougher.output.concentrate_ag                         0\n",
      "rougher.output.concentrate_pb                         0\n",
      "rougher.output.concentrate_sol                        0\n",
      "rougher.output.concentrate_au                         0\n",
      "rougher.output.recovery                               0\n",
      "rougher.output.tail_ag                                0\n",
      "rougher.output.tail_pb                                0\n",
      "rougher.output.tail_sol                               0\n",
      "rougher.output.tail_au                                0\n",
      "rougher.state.floatbank10_a_air                       0\n",
      "rougher.state.floatbank10_a_level                     0\n",
      "rougher.state.floatbank10_b_air                       0\n",
      "rougher.state.floatbank10_b_level                     0\n",
      "rougher.state.floatbank10_c_air                       0\n",
      "rougher.state.floatbank10_c_level                     0\n",
      "rougher.state.floatbank10_d_air                       0\n",
      "rougher.state.floatbank10_d_level                     0\n",
      "rougher.state.floatbank10_e_air                       0\n",
      "rougher.state.floatbank10_e_level                     0\n",
      "rougher.state.floatbank10_f_air                       0\n",
      "rougher.state.floatbank10_f_level                     0\n",
      "secondary_cleaner.output.tail_ag                      0\n",
      "secondary_cleaner.output.tail_pb                      0\n",
      "secondary_cleaner.output.tail_sol                     0\n",
      "secondary_cleaner.output.tail_au                      0\n",
      "secondary_cleaner.state.floatbank2_a_air              0\n",
      "secondary_cleaner.state.floatbank2_a_level            0\n",
      "secondary_cleaner.state.floatbank2_b_air              0\n",
      "secondary_cleaner.state.floatbank2_b_level            0\n",
      "secondary_cleaner.state.floatbank3_a_air              0\n",
      "secondary_cleaner.state.floatbank3_a_level            0\n",
      "secondary_cleaner.state.floatbank3_b_air              0\n",
      "secondary_cleaner.state.floatbank3_b_level            0\n",
      "secondary_cleaner.state.floatbank4_a_air              0\n",
      "secondary_cleaner.state.floatbank4_a_level            0\n",
      "secondary_cleaner.state.floatbank4_b_air              0\n",
      "secondary_cleaner.state.floatbank4_b_level            0\n",
      "secondary_cleaner.state.floatbank5_a_air              0\n",
      "secondary_cleaner.state.floatbank5_a_level            0\n",
      "secondary_cleaner.state.floatbank5_b_air              0\n",
      "secondary_cleaner.state.floatbank5_b_level            0\n",
      "secondary_cleaner.state.floatbank6_a_air              0\n",
      "secondary_cleaner.state.floatbank6_a_level            0\n",
      "dtype: int64\n",
      "\n",
      "Количество пропущенных значений после замены в обучающей выборке: date                                                  0\n",
      "final.output.concentrate_ag                           0\n",
      "final.output.concentrate_pb                           0\n",
      "final.output.concentrate_sol                          0\n",
      "final.output.concentrate_au                           0\n",
      "final.output.recovery                                 0\n",
      "final.output.tail_ag                                  0\n",
      "final.output.tail_pb                                  0\n",
      "final.output.tail_sol                                 0\n",
      "final.output.tail_au                                  0\n",
      "primary_cleaner.input.sulfate                         0\n",
      "primary_cleaner.input.depressant                      0\n",
      "primary_cleaner.input.feed_size                       0\n",
      "primary_cleaner.input.xanthate                        0\n",
      "primary_cleaner.output.concentrate_ag                 0\n",
      "primary_cleaner.output.concentrate_pb                 0\n",
      "primary_cleaner.output.concentrate_sol                0\n",
      "primary_cleaner.output.concentrate_au                 0\n",
      "primary_cleaner.output.tail_ag                        0\n",
      "primary_cleaner.output.tail_pb                        0\n",
      "primary_cleaner.output.tail_sol                       0\n",
      "primary_cleaner.output.tail_au                        0\n",
      "primary_cleaner.state.floatbank8_a_air                0\n",
      "primary_cleaner.state.floatbank8_a_level              0\n",
      "primary_cleaner.state.floatbank8_b_air                0\n",
      "primary_cleaner.state.floatbank8_b_level              0\n",
      "primary_cleaner.state.floatbank8_c_air                0\n",
      "primary_cleaner.state.floatbank8_c_level              0\n",
      "primary_cleaner.state.floatbank8_d_air                0\n",
      "primary_cleaner.state.floatbank8_d_level              0\n",
      "rougher.calculation.sulfate_to_au_concentrate         0\n",
      "rougher.calculation.floatbank10_sulfate_to_au_feed    0\n",
      "rougher.calculation.floatbank11_sulfate_to_au_feed    0\n",
      "rougher.calculation.au_pb_ratio                       0\n",
      "rougher.input.feed_ag                                 0\n",
      "rougher.input.feed_pb                                 0\n",
      "rougher.input.feed_rate                               0\n",
      "rougher.input.feed_size                               0\n",
      "rougher.input.feed_sol                                0\n",
      "rougher.input.feed_au                                 0\n",
      "rougher.input.floatbank10_sulfate                     0\n",
      "rougher.input.floatbank10_xanthate                    0\n",
      "rougher.input.floatbank11_sulfate                     0\n",
      "rougher.input.floatbank11_xanthate                    0\n",
      "rougher.output.concentrate_ag                         0\n",
      "rougher.output.concentrate_pb                         0\n",
      "rougher.output.concentrate_sol                        0\n",
      "rougher.output.concentrate_au                         0\n",
      "rougher.output.recovery                               0\n",
      "rougher.output.tail_ag                                0\n",
      "rougher.output.tail_pb                                0\n",
      "rougher.output.tail_sol                               0\n",
      "rougher.output.tail_au                                0\n",
      "rougher.state.floatbank10_a_air                       0\n",
      "rougher.state.floatbank10_a_level                     0\n",
      "rougher.state.floatbank10_b_air                       0\n",
      "rougher.state.floatbank10_b_level                     0\n",
      "rougher.state.floatbank10_c_air                       0\n",
      "rougher.state.floatbank10_c_level                     0\n",
      "rougher.state.floatbank10_d_air                       0\n",
      "rougher.state.floatbank10_d_level                     0\n",
      "rougher.state.floatbank10_e_air                       0\n",
      "rougher.state.floatbank10_e_level                     0\n",
      "rougher.state.floatbank10_f_air                       0\n",
      "rougher.state.floatbank10_f_level                     0\n",
      "secondary_cleaner.output.tail_ag                      0\n",
      "secondary_cleaner.output.tail_pb                      0\n",
      "secondary_cleaner.output.tail_sol                     0\n",
      "secondary_cleaner.output.tail_au                      0\n",
      "secondary_cleaner.state.floatbank2_a_air              0\n",
      "secondary_cleaner.state.floatbank2_a_level            0\n",
      "secondary_cleaner.state.floatbank2_b_air              0\n",
      "secondary_cleaner.state.floatbank2_b_level            0\n",
      "secondary_cleaner.state.floatbank3_a_air              0\n",
      "secondary_cleaner.state.floatbank3_a_level            0\n",
      "secondary_cleaner.state.floatbank3_b_air              0\n",
      "secondary_cleaner.state.floatbank3_b_level            0\n",
      "secondary_cleaner.state.floatbank4_a_air              0\n",
      "secondary_cleaner.state.floatbank4_a_level            0\n",
      "secondary_cleaner.state.floatbank4_b_air              0\n",
      "secondary_cleaner.state.floatbank4_b_level            0\n",
      "secondary_cleaner.state.floatbank5_a_air              0\n",
      "secondary_cleaner.state.floatbank5_a_level            0\n",
      "secondary_cleaner.state.floatbank5_b_air              0\n",
      "secondary_cleaner.state.floatbank5_b_level            0\n",
      "secondary_cleaner.state.floatbank6_a_air              0\n",
      "secondary_cleaner.state.floatbank6_a_level            0\n",
      "dtype: int64\n",
      "\n",
      "Количество пропущенных значений после замены в тестовой выборке: date                                          0\n",
      "primary_cleaner.input.sulfate                 0\n",
      "primary_cleaner.input.depressant              0\n",
      "primary_cleaner.input.feed_size               0\n",
      "primary_cleaner.input.xanthate                0\n",
      "primary_cleaner.state.floatbank8_a_air        0\n",
      "primary_cleaner.state.floatbank8_a_level      0\n",
      "primary_cleaner.state.floatbank8_b_air        0\n",
      "primary_cleaner.state.floatbank8_b_level      0\n",
      "primary_cleaner.state.floatbank8_c_air        0\n",
      "primary_cleaner.state.floatbank8_c_level      0\n",
      "primary_cleaner.state.floatbank8_d_air        0\n",
      "primary_cleaner.state.floatbank8_d_level      0\n",
      "rougher.input.feed_ag                         0\n",
      "rougher.input.feed_pb                         0\n",
      "rougher.input.feed_rate                       0\n",
      "rougher.input.feed_size                       0\n",
      "rougher.input.feed_sol                        0\n",
      "rougher.input.feed_au                         0\n",
      "rougher.input.floatbank10_sulfate             0\n",
      "rougher.input.floatbank10_xanthate            0\n",
      "rougher.input.floatbank11_sulfate             0\n",
      "rougher.input.floatbank11_xanthate            0\n",
      "rougher.state.floatbank10_a_air               0\n",
      "rougher.state.floatbank10_a_level             0\n",
      "rougher.state.floatbank10_b_air               0\n",
      "rougher.state.floatbank10_b_level             0\n",
      "rougher.state.floatbank10_c_air               0\n",
      "rougher.state.floatbank10_c_level             0\n",
      "rougher.state.floatbank10_d_air               0\n",
      "rougher.state.floatbank10_d_level             0\n",
      "rougher.state.floatbank10_e_air               0\n",
      "rougher.state.floatbank10_e_level             0\n",
      "rougher.state.floatbank10_f_air               0\n",
      "rougher.state.floatbank10_f_level             0\n",
      "secondary_cleaner.state.floatbank2_a_air      0\n",
      "secondary_cleaner.state.floatbank2_a_level    0\n",
      "secondary_cleaner.state.floatbank2_b_air      0\n",
      "secondary_cleaner.state.floatbank2_b_level    0\n",
      "secondary_cleaner.state.floatbank3_a_air      0\n",
      "secondary_cleaner.state.floatbank3_a_level    0\n",
      "secondary_cleaner.state.floatbank3_b_air      0\n",
      "secondary_cleaner.state.floatbank3_b_level    0\n",
      "secondary_cleaner.state.floatbank4_a_air      0\n",
      "secondary_cleaner.state.floatbank4_a_level    0\n",
      "secondary_cleaner.state.floatbank4_b_air      0\n",
      "secondary_cleaner.state.floatbank4_b_level    0\n",
      "secondary_cleaner.state.floatbank5_a_air      0\n",
      "secondary_cleaner.state.floatbank5_a_level    0\n",
      "secondary_cleaner.state.floatbank5_b_air      0\n",
      "secondary_cleaner.state.floatbank5_b_level    0\n",
      "secondary_cleaner.state.floatbank6_a_air      0\n",
      "secondary_cleaner.state.floatbank6_a_level    0\n",
      "dtype: int64\n"
     ]
    }
   ],
   "source": [
    "# производим замену пропущенных значений (распространятем ненулевые значения вперед или назад, потому что пропущенных значений больше 10% от общего числа данных. Данные индексируются датой и временем получения информации (признак date). Соседние по времени параметры часто похожи.)\n",
    "data_full = data_full.fillna(method='ffill')\n",
    "data_train= data_train.fillna(method='ffill') \n",
    "data_test = data_test.fillna(method='ffill')\n",
    "\n",
    "print('Количество пропущенных значений после замены в исходном файле:', data_full.isna().sum())\n",
    "print()\n",
    "print('Количество пропущенных значений после замены в обучающей выборке:', data_train.isna().sum())\n",
    "print()\n",
    "print('Количество пропущенных значений после замены в тестовой выборке:', data_test.isna().sum())"
   ]
  },
  {
   "cell_type": "markdown",
   "metadata": {},
   "source": [
    "пропущенные значения удалены"
   ]
  },
  {
   "cell_type": "markdown",
   "metadata": {},
   "source": [
    "1.3. Проверим, что эффективность обогащения рассчитана правильно."
   ]
  },
  {
   "cell_type": "code",
   "execution_count": 15,
   "metadata": {},
   "outputs": [
    {
     "data": {
      "text/plain": [
       "count    14149.000000\n",
       "mean        82.704502\n",
       "std         14.479156\n",
       "min          0.000000\n",
       "25%         79.993067\n",
       "50%         85.299462\n",
       "75%         90.165021\n",
       "max        100.000000\n",
       "Name: rougher.output.recovery, dtype: float64"
      ]
     },
     "execution_count": 15,
     "metadata": {},
     "output_type": "execute_result"
    }
   ],
   "source": [
    "# выводим данные этапа флотации по признаку rougher.output.recovery для обучающей выборки\n",
    "data_train['rougher.output.recovery'].describe()"
   ]
  },
  {
   "cell_type": "code",
   "execution_count": 16,
   "metadata": {},
   "outputs": [
    {
     "data": {
      "text/plain": [
       "count    14149.000000\n",
       "mean        82.704502\n",
       "std         14.479156\n",
       "min         -0.000000\n",
       "25%         79.993067\n",
       "50%         85.299462\n",
       "75%         90.165021\n",
       "max        100.000000\n",
       "Name: rec_check, dtype: float64"
      ]
     },
     "metadata": {},
     "output_type": "display_data"
    }
   ],
   "source": [
    "# добавляем проверку расчета эффективности для этапа флотации в обучающую выборку\n",
    "data_train_copy = data_train.copy()\n",
    "data_train_copy['rec_check'] = (data_train_copy['rougher.output.concentrate_au']\\\n",
    "                           * (data_train_copy['rougher.input.feed_au'] - data_train_copy['rougher.output.tail_au']))\\\n",
    "                           / (data_train_copy['rougher.input.feed_au']\\\n",
    "                           * (data_train_copy['rougher.output.concentrate_au'] - data_train_copy['rougher.output.tail_au']))\\\n",
    "                           * 100\n",
    "display(data_train_copy['rec_check'].describe())"
   ]
  },
  {
   "cell_type": "code",
   "execution_count": 17,
   "metadata": {},
   "outputs": [
    {
     "name": "stdout",
     "output_type": "stream",
     "text": [
      "MAE обогащения этапа флотации на обучающей выборке (оригинал/расчет): 6.880432168001421e-19\n"
     ]
    }
   ],
   "source": [
    "# рассчитываем MAE\n",
    "MAE = abs(data_train_copy['rec_check'] - data_train_copy['rougher.output.recovery'])\\\n",
    "/ len(data_train_copy['rougher.output.recovery'])\n",
    "print('MAE обогащения этапа флотации на обучающей выборке (оригинал/расчет):', MAE.mean())"
   ]
  },
  {
   "cell_type": "markdown",
   "metadata": {},
   "source": [
    "Вывод:\n",
    "1. исходный файл содержит 19 438 записей и 87;\n",
    "2. обучающая выборка содержит 14 148 записей и 87 колонок;\n",
    "3. тестовая выборка содержит 5 289 записей и 53 колонки;\n",
    "4. столбец с датой перевели в соответствующий формат;\n",
    "5. дубликатов нет;\n",
    "6. пропущенные значения есть более, чем 10 % от общего числа данных;\n",
    "7. больше всего пропущенных значений в столбце secondary_cleaner.output.tail_sol;\n",
    "8. заменили пропущенные значения на соседние, чтобы затем можно было работать с данными.\n",
    "9. размер MAE небольшой, соответственно на примере этапа флотации можно считать, что эффективность обогащения рассчитана правильно;\n",
    "10. параметры, исключенные из тестовой выборки, представляют собой выходные признаки после каждого технологического этапа или расчитанные на их основе,каждый из этих параметров может быть целевым и являться предметом предсказания,целевые параметры в рамках проекта (final.output.recovery и rougher.output.recovery) также исключены из тестовой выборки;\n",
    "11. нам надо будет воостановить целевые признаки для тестовой выборки, чтобы строить модели."
   ]
  },
  {
   "cell_type": "markdown",
   "metadata": {},
   "source": [
    "## Анализ данных"
   ]
  },
  {
   "cell_type": "markdown",
   "metadata": {},
   "source": [
    "2.1. Будем анализировать как меняется концентрация металлов (Au, Ag, Pb) на различных этапах очистки. "
   ]
  },
  {
   "cell_type": "code",
   "execution_count": 18,
   "metadata": {},
   "outputs": [
    {
     "name": "stdout",
     "output_type": "stream",
     "text": [
      "<class 'pandas.core.frame.DataFrame'>\n",
      "RangeIndex: 19439 entries, 0 to 19438\n",
      "Data columns (total 13 columns):\n",
      " #   Column                                         Non-Null Count  Dtype  \n",
      "---  ------                                         --------------  -----  \n",
      " 0   final.output.concentrate_ag                    19439 non-null  float64\n",
      " 1   final.output.concentrate_pb                    19439 non-null  float64\n",
      " 2   final.output.concentrate_sol                   19439 non-null  float64\n",
      " 3   final.output.concentrate_au                    19439 non-null  float64\n",
      " 4   primary_cleaner.output.concentrate_ag          19439 non-null  float64\n",
      " 5   primary_cleaner.output.concentrate_pb          19439 non-null  float64\n",
      " 6   primary_cleaner.output.concentrate_sol         19439 non-null  float64\n",
      " 7   primary_cleaner.output.concentrate_au          19439 non-null  float64\n",
      " 8   rougher.calculation.sulfate_to_au_concentrate  19439 non-null  float64\n",
      " 9   rougher.output.concentrate_ag                  19439 non-null  float64\n",
      " 10  rougher.output.concentrate_pb                  19439 non-null  float64\n",
      " 11  rougher.output.concentrate_sol                 19439 non-null  float64\n",
      " 12  rougher.output.concentrate_au                  19439 non-null  float64\n",
      "dtypes: float64(13)\n",
      "memory usage: 1.9 MB\n"
     ]
    }
   ],
   "source": [
    "# выводим список параметров, определяющих концентрацию металлов на разных этапах очистки\n",
    "data_full_concentrate = data_full.filter(regex = 'concentrate')\n",
    "data_full_concentrate.info()"
   ]
  },
  {
   "cell_type": "code",
   "execution_count": 19,
   "metadata": {},
   "outputs": [
    {
     "data": {
      "text/html": [
       "<div>\n",
       "<style scoped>\n",
       "    .dataframe tbody tr th:only-of-type {\n",
       "        vertical-align: middle;\n",
       "    }\n",
       "\n",
       "    .dataframe tbody tr th {\n",
       "        vertical-align: top;\n",
       "    }\n",
       "\n",
       "    .dataframe thead th {\n",
       "        text-align: right;\n",
       "    }\n",
       "</style>\n",
       "<table border=\"1\" class=\"dataframe\">\n",
       "  <thead>\n",
       "    <tr style=\"text-align: right;\">\n",
       "      <th></th>\n",
       "      <th>rougher.output.concentrate_ag</th>\n",
       "      <th>primary_cleaner.output.concentrate_ag</th>\n",
       "      <th>final.output.concentrate_ag</th>\n",
       "    </tr>\n",
       "  </thead>\n",
       "  <tbody>\n",
       "    <tr>\n",
       "      <th>count</th>\n",
       "      <td>19439.000000</td>\n",
       "      <td>19439.000000</td>\n",
       "      <td>19439.000000</td>\n",
       "    </tr>\n",
       "    <tr>\n",
       "      <th>mean</th>\n",
       "      <td>11.994759</td>\n",
       "      <td>8.442408</td>\n",
       "      <td>5.168387</td>\n",
       "    </tr>\n",
       "    <tr>\n",
       "      <th>std</th>\n",
       "      <td>2.733862</td>\n",
       "      <td>2.054465</td>\n",
       "      <td>1.372362</td>\n",
       "    </tr>\n",
       "    <tr>\n",
       "      <th>min</th>\n",
       "      <td>0.000000</td>\n",
       "      <td>0.000000</td>\n",
       "      <td>0.000000</td>\n",
       "    </tr>\n",
       "    <tr>\n",
       "      <th>25%</th>\n",
       "      <td>10.628337</td>\n",
       "      <td>7.263288</td>\n",
       "      <td>4.251000</td>\n",
       "    </tr>\n",
       "    <tr>\n",
       "      <th>50%</th>\n",
       "      <td>12.098115</td>\n",
       "      <td>8.507298</td>\n",
       "      <td>5.066039</td>\n",
       "    </tr>\n",
       "    <tr>\n",
       "      <th>75%</th>\n",
       "      <td>13.736996</td>\n",
       "      <td>9.809001</td>\n",
       "      <td>5.895401</td>\n",
       "    </tr>\n",
       "    <tr>\n",
       "      <th>max</th>\n",
       "      <td>24.480271</td>\n",
       "      <td>16.081632</td>\n",
       "      <td>16.001945</td>\n",
       "    </tr>\n",
       "  </tbody>\n",
       "</table>\n",
       "</div>"
      ],
      "text/plain": [
       "       rougher.output.concentrate_ag  primary_cleaner.output.concentrate_ag  \\\n",
       "count                   19439.000000                           19439.000000   \n",
       "mean                       11.994759                               8.442408   \n",
       "std                         2.733862                               2.054465   \n",
       "min                         0.000000                               0.000000   \n",
       "25%                        10.628337                               7.263288   \n",
       "50%                        12.098115                               8.507298   \n",
       "75%                        13.736996                               9.809001   \n",
       "max                        24.480271                              16.081632   \n",
       "\n",
       "       final.output.concentrate_ag  \n",
       "count                 19439.000000  \n",
       "mean                      5.168387  \n",
       "std                       1.372362  \n",
       "min                       0.000000  \n",
       "25%                       4.251000  \n",
       "50%                       5.066039  \n",
       "75%                       5.895401  \n",
       "max                      16.001945  "
      ]
     },
     "metadata": {},
     "output_type": "display_data"
    }
   ],
   "source": [
    "# данные по серебру\n",
    "rougher_output_concentrate_ag = data_full['rougher.output.concentrate_ag'].describe().to_frame()\n",
    "primary_cleaner_output_concentrate_ag = data_full['primary_cleaner.output.concentrate_ag'].describe().to_frame()\n",
    "final_output_concentrate_ag = data_full['final.output.concentrate_ag'].describe().to_frame()\n",
    "\n",
    "ag = rougher_output_concentrate_ag.join(primary_cleaner_output_concentrate_ag, how='left')\\\n",
    ".join(final_output_concentrate_ag, how='left')\n",
    "display(ag)"
   ]
  },
  {
   "cell_type": "code",
   "execution_count": 20,
   "metadata": {},
   "outputs": [
    {
     "data": {
      "text/html": [
       "<div>\n",
       "<style scoped>\n",
       "    .dataframe tbody tr th:only-of-type {\n",
       "        vertical-align: middle;\n",
       "    }\n",
       "\n",
       "    .dataframe tbody tr th {\n",
       "        vertical-align: top;\n",
       "    }\n",
       "\n",
       "    .dataframe thead th {\n",
       "        text-align: right;\n",
       "    }\n",
       "</style>\n",
       "<table border=\"1\" class=\"dataframe\">\n",
       "  <thead>\n",
       "    <tr style=\"text-align: right;\">\n",
       "      <th></th>\n",
       "      <th>rougher.output.concentrate_pb</th>\n",
       "      <th>primary_cleaner.output.concentrate_pb</th>\n",
       "      <th>final.output.concentrate_pb</th>\n",
       "    </tr>\n",
       "  </thead>\n",
       "  <tbody>\n",
       "    <tr>\n",
       "      <th>count</th>\n",
       "      <td>19439.000000</td>\n",
       "      <td>19439.000000</td>\n",
       "      <td>19439.000000</td>\n",
       "    </tr>\n",
       "    <tr>\n",
       "      <th>mean</th>\n",
       "      <td>7.606272</td>\n",
       "      <td>9.810317</td>\n",
       "      <td>9.978821</td>\n",
       "    </tr>\n",
       "    <tr>\n",
       "      <th>std</th>\n",
       "      <td>1.796757</td>\n",
       "      <td>2.572253</td>\n",
       "      <td>1.669228</td>\n",
       "    </tr>\n",
       "    <tr>\n",
       "      <th>min</th>\n",
       "      <td>0.000000</td>\n",
       "      <td>0.000000</td>\n",
       "      <td>0.000000</td>\n",
       "    </tr>\n",
       "    <tr>\n",
       "      <th>25%</th>\n",
       "      <td>6.725987</td>\n",
       "      <td>8.676500</td>\n",
       "      <td>9.137225</td>\n",
       "    </tr>\n",
       "    <tr>\n",
       "      <th>50%</th>\n",
       "      <td>7.742580</td>\n",
       "      <td>10.142270</td>\n",
       "      <td>10.102264</td>\n",
       "    </tr>\n",
       "    <tr>\n",
       "      <th>75%</th>\n",
       "      <td>8.565199</td>\n",
       "      <td>11.416298</td>\n",
       "      <td>11.035644</td>\n",
       "    </tr>\n",
       "    <tr>\n",
       "      <th>max</th>\n",
       "      <td>13.617072</td>\n",
       "      <td>17.081278</td>\n",
       "      <td>17.031899</td>\n",
       "    </tr>\n",
       "  </tbody>\n",
       "</table>\n",
       "</div>"
      ],
      "text/plain": [
       "       rougher.output.concentrate_pb  primary_cleaner.output.concentrate_pb  \\\n",
       "count                   19439.000000                           19439.000000   \n",
       "mean                        7.606272                               9.810317   \n",
       "std                         1.796757                               2.572253   \n",
       "min                         0.000000                               0.000000   \n",
       "25%                         6.725987                               8.676500   \n",
       "50%                         7.742580                              10.142270   \n",
       "75%                         8.565199                              11.416298   \n",
       "max                        13.617072                              17.081278   \n",
       "\n",
       "       final.output.concentrate_pb  \n",
       "count                 19439.000000  \n",
       "mean                      9.978821  \n",
       "std                       1.669228  \n",
       "min                       0.000000  \n",
       "25%                       9.137225  \n",
       "50%                      10.102264  \n",
       "75%                      11.035644  \n",
       "max                      17.031899  "
      ]
     },
     "metadata": {},
     "output_type": "display_data"
    }
   ],
   "source": [
    "# данные по свинцу\n",
    "rougher_output_concentrate_pb = data_full['rougher.output.concentrate_pb'].describe().to_frame()\n",
    "primary_cleaner_output_concentrate_pb = data_full['primary_cleaner.output.concentrate_pb'].describe().to_frame()\n",
    "final_output_concentrate_pb = data_full['final.output.concentrate_pb'].describe().to_frame()\n",
    "\n",
    "pb = rougher_output_concentrate_pb.join(primary_cleaner_output_concentrate_pb, how='left')\\\n",
    ".join(final_output_concentrate_pb, how='left')\n",
    "display(pb)"
   ]
  },
  {
   "cell_type": "code",
   "execution_count": 21,
   "metadata": {},
   "outputs": [
    {
     "data": {
      "text/html": [
       "<div>\n",
       "<style scoped>\n",
       "    .dataframe tbody tr th:only-of-type {\n",
       "        vertical-align: middle;\n",
       "    }\n",
       "\n",
       "    .dataframe tbody tr th {\n",
       "        vertical-align: top;\n",
       "    }\n",
       "\n",
       "    .dataframe thead th {\n",
       "        text-align: right;\n",
       "    }\n",
       "</style>\n",
       "<table border=\"1\" class=\"dataframe\">\n",
       "  <thead>\n",
       "    <tr style=\"text-align: right;\">\n",
       "      <th></th>\n",
       "      <th>rougher.output.concentrate_au</th>\n",
       "      <th>primary_cleaner.output.concentrate_au</th>\n",
       "      <th>final.output.concentrate_au</th>\n",
       "    </tr>\n",
       "  </thead>\n",
       "  <tbody>\n",
       "    <tr>\n",
       "      <th>count</th>\n",
       "      <td>19439.000000</td>\n",
       "      <td>19439.000000</td>\n",
       "      <td>19439.000000</td>\n",
       "    </tr>\n",
       "    <tr>\n",
       "      <th>mean</th>\n",
       "      <td>19.772000</td>\n",
       "      <td>32.119400</td>\n",
       "      <td>44.076513</td>\n",
       "    </tr>\n",
       "    <tr>\n",
       "      <th>std</th>\n",
       "      <td>3.753600</td>\n",
       "      <td>5.627611</td>\n",
       "      <td>5.129784</td>\n",
       "    </tr>\n",
       "    <tr>\n",
       "      <th>min</th>\n",
       "      <td>0.000000</td>\n",
       "      <td>0.000000</td>\n",
       "      <td>0.000000</td>\n",
       "    </tr>\n",
       "    <tr>\n",
       "      <th>25%</th>\n",
       "      <td>18.802523</td>\n",
       "      <td>30.463140</td>\n",
       "      <td>43.402215</td>\n",
       "    </tr>\n",
       "    <tr>\n",
       "      <th>50%</th>\n",
       "      <td>20.280214</td>\n",
       "      <td>32.841295</td>\n",
       "      <td>45.011244</td>\n",
       "    </tr>\n",
       "    <tr>\n",
       "      <th>75%</th>\n",
       "      <td>21.717843</td>\n",
       "      <td>35.048006</td>\n",
       "      <td>46.275313</td>\n",
       "    </tr>\n",
       "    <tr>\n",
       "      <th>max</th>\n",
       "      <td>28.824507</td>\n",
       "      <td>45.933934</td>\n",
       "      <td>52.756638</td>\n",
       "    </tr>\n",
       "  </tbody>\n",
       "</table>\n",
       "</div>"
      ],
      "text/plain": [
       "       rougher.output.concentrate_au  primary_cleaner.output.concentrate_au  \\\n",
       "count                   19439.000000                           19439.000000   \n",
       "mean                       19.772000                              32.119400   \n",
       "std                         3.753600                               5.627611   \n",
       "min                         0.000000                               0.000000   \n",
       "25%                        18.802523                              30.463140   \n",
       "50%                        20.280214                              32.841295   \n",
       "75%                        21.717843                              35.048006   \n",
       "max                        28.824507                              45.933934   \n",
       "\n",
       "       final.output.concentrate_au  \n",
       "count                 19439.000000  \n",
       "mean                     44.076513  \n",
       "std                       5.129784  \n",
       "min                       0.000000  \n",
       "25%                      43.402215  \n",
       "50%                      45.011244  \n",
       "75%                      46.275313  \n",
       "max                      52.756638  "
      ]
     },
     "metadata": {},
     "output_type": "display_data"
    }
   ],
   "source": [
    "#данные по золоту\n",
    "rougher_output_concentrate_au = data_full['rougher.output.concentrate_au'].describe().to_frame()\n",
    "primary_cleaner_output_concentrate_au = data_full['primary_cleaner.output.concentrate_au'].describe().to_frame()\n",
    "final_output_concentrate_au = data_full['final.output.concentrate_au'].describe().to_frame()\n",
    "\n",
    "au = rougher_output_concentrate_au.join(primary_cleaner_output_concentrate_au, how='left')\\\n",
    ".join(final_output_concentrate_au, how='left')\n",
    "display(au)"
   ]
  },
  {
   "cell_type": "markdown",
   "metadata": {},
   "source": [
    "в ходе технологического процесса обработки металлы серебра, свинца и золота ведут себя по-разному.Концентрация серебра в процессе обработки снижается, а свинца и золота - растет "
   ]
  },
  {
   "cell_type": "markdown",
   "metadata": {},
   "source": [
    "2.2.  Сравним распределения размеров гранул сырья на обучающей и тестовой выборках"
   ]
  },
  {
   "cell_type": "code",
   "execution_count": 22,
   "metadata": {},
   "outputs": [
    {
     "name": "stdout",
     "output_type": "stream",
     "text": [
      "<class 'pandas.core.frame.DataFrame'>\n",
      "RangeIndex: 14149 entries, 0 to 14148\n",
      "Data columns (total 2 columns):\n",
      " #   Column                           Non-Null Count  Dtype  \n",
      "---  ------                           --------------  -----  \n",
      " 0   primary_cleaner.input.feed_size  14149 non-null  float64\n",
      " 1   rougher.input.feed_size          14149 non-null  float64\n",
      "dtypes: float64(2)\n",
      "memory usage: 221.2 KB\n"
     ]
    }
   ],
   "source": [
    "# выводим список параметров, определяющих размер гранул на разных этапах очистки в обучающей выборке\n",
    "data_train_feed_size = data_train.filter(regex = 'feed_size')\n",
    "data_train_feed_size.info()"
   ]
  },
  {
   "cell_type": "code",
   "execution_count": 23,
   "metadata": {},
   "outputs": [
    {
     "name": "stdout",
     "output_type": "stream",
     "text": [
      "<class 'pandas.core.frame.DataFrame'>\n",
      "RangeIndex: 5290 entries, 0 to 5289\n",
      "Data columns (total 2 columns):\n",
      " #   Column                           Non-Null Count  Dtype  \n",
      "---  ------                           --------------  -----  \n",
      " 0   primary_cleaner.input.feed_size  5290 non-null   float64\n",
      " 1   rougher.input.feed_size          5290 non-null   float64\n",
      "dtypes: float64(2)\n",
      "memory usage: 82.8 KB\n"
     ]
    }
   ],
   "source": [
    "# выводим список параметров, определяющих размер гранул на разных этапах очистки в тестовой выборке\n",
    "data_test_feed_size = data_test.filter(regex = 'feed_size')\n",
    "data_test_feed_size.info()"
   ]
  },
  {
   "cell_type": "code",
   "execution_count": 24,
   "metadata": {},
   "outputs": [
    {
     "name": "stdout",
     "output_type": "stream",
     "text": [
      "       primary_cleaner.input.feed_size\n",
      "count                     14149.000000\n",
      "mean                          7.322310\n",
      "std                           0.614062\n",
      "min                           1.080000\n",
      "25%                           6.960000\n",
      "50%                           7.290000\n",
      "75%                           7.700000\n",
      "max                          10.470000\n",
      "       primary_cleaner.input.feed_size\n",
      "count                      5290.000000\n",
      "mean                          7.266339\n",
      "std                           0.610219\n",
      "min                           5.650000\n",
      "25%                           6.890000\n",
      "50%                           7.250000\n",
      "75%                           7.600000\n",
      "max                          15.500000\n",
      "       rougher.input.feed_size\n",
      "count             14149.000000\n",
      "mean                 60.239856\n",
      "std                  23.005310\n",
      "min                   9.659576\n",
      "25%                  48.966751\n",
      "50%                  55.269784\n",
      "75%                  66.007526\n",
      "max                 484.967466\n",
      "       rougher.input.feed_size\n",
      "count              5290.000000\n",
      "mean                 55.952754\n",
      "std                  19.080334\n",
      "min                   0.046369\n",
      "25%                  43.906504\n",
      "50%                  50.846843\n",
      "75%                  62.451165\n",
      "max                 392.494040\n"
     ]
    }
   ],
   "source": [
    "primary_cleaner_input_feed_size_train = data_train['primary_cleaner.input.feed_size'].describe().to_frame()\n",
    "rougher_input_feed_size_train = data_train['rougher.input.feed_size'].describe().to_frame()\n",
    "primary_cleaner_input_feed_size_test = data_test['primary_cleaner.input.feed_size'].describe().to_frame()\n",
    "rougher_input_feed_size_test = data_test['rougher.input.feed_size'].describe().to_frame()\n",
    "\n",
    "print(primary_cleaner_input_feed_size_train)\n",
    "print(primary_cleaner_input_feed_size_test)\n",
    "print(rougher_input_feed_size_train)\n",
    "print(rougher_input_feed_size_test)"
   ]
  },
  {
   "cell_type": "code",
   "execution_count": 25,
   "metadata": {},
   "outputs": [
    {
     "data": {
      "image/png": "[encoded data removed]",
      "text/plain": [
       "<Figure size 1080x720 with 2 Axes>"
      ]
     },
     "metadata": {
      "needs_background": "light"
     },
     "output_type": "display_data"
    }
   ],
   "source": [
    "# строим гистограммы распределения данных\n",
    "fig, ax = plt.subplots(2, 1)\n",
    "fig.set_figheight(10)\n",
    "fig.set_figwidth(15)\n",
    "fig.suptitle('Распределение размера гранул на разных этапах в обучающей и тестовой выборках', y=0.95, size=16)\n",
    "\n",
    "ax[0].hist(data_train['rougher.input.feed_size']\\\n",
    ", bins=100, alpha = 0.5, label = 'train_rougher.input.feed_size', density=True)\n",
    "ax[0].hist(data_test['rougher.input.feed_size']\\\n",
    ", bins=100, alpha = 0.5, label = 'test_rougher.input.feed_size', density=True)\n",
    "ax[0].legend()\n",
    "ax[0].set_title('Размер гранул сырья на входе')\n",
    "ax[0].grid()\n",
    "\n",
    "ax[1].hist(data_train['primary_cleaner.input.feed_size']\\\n",
    ", bins=100, alpha = 0.5, label = 'train_primary_cleaner.input.feed_size', density=True)\n",
    "ax[1].hist(data_test['primary_cleaner.input.feed_size']\\\n",
    ", bins=100, alpha = 0.5, label = 'test_primary_cleaner.input.feed_size', density=True)\n",
    "ax[1].legend()\n",
    "ax[1].set_title('Размер гранул сырья после флотации')\n",
    "ax[1].grid()\n",
    "\n",
    "plt.show()"
   ]
  },
  {
   "cell_type": "markdown",
   "metadata": {},
   "source": [
    "сильных отличий в распределении гранул между тестовой и тренировочной выборкой не выявлено, соответственно ожидаем, что оценка модели будет правильной"
   ]
  },
  {
   "cell_type": "markdown",
   "metadata": {},
   "source": [
    "2.3. Исследуем суммарную концентрацию всех веществ на разных стадиях: в сырье, в черновом и финальном концентратах. "
   ]
  },
  {
   "cell_type": "code",
   "execution_count": 26,
   "metadata": {},
   "outputs": [],
   "source": [
    "# создаем копию датасета для изучения суммарных значений концентраций веществ\n",
    "data_full_copy = data_full.copy() "
   ]
  },
  {
   "cell_type": "code",
   "execution_count": 27,
   "metadata": {},
   "outputs": [
    {
     "data": {
      "text/plain": [
       "count    19439.000000\n",
       "mean        57.320789\n",
       "std          7.212680\n",
       "min          0.040000\n",
       "25%         53.557679\n",
       "50%         57.594391\n",
       "75%         61.953459\n",
       "max         76.978947\n",
       "Name: sum_concetrate_base, dtype: float64"
      ]
     },
     "metadata": {},
     "output_type": "display_data"
    }
   ],
   "source": [
    "# суммируем концентрацию всех веществ в сырье\n",
    "data_full_copy['sum_concetrate_base']\\\n",
    "= data_full_copy['rougher.input.feed_ag']\\\n",
    "+ data_full_copy['rougher.input.feed_pb']\\\n",
    "+ data_full_copy['rougher.input.feed_sol']\\\n",
    "+ data_full_copy['rougher.input.feed_au']\n",
    "display(data_full_copy['sum_concetrate_base'].describe())"
   ]
  },
  {
   "cell_type": "code",
   "execution_count": 28,
   "metadata": {},
   "outputs": [
    {
     "data": {
      "text/plain": [
       "count    19439.000000\n",
       "mean        68.170865\n",
       "std         12.491279\n",
       "min          0.000000\n",
       "25%         66.012495\n",
       "50%         70.181495\n",
       "75%         74.356904\n",
       "max         88.140119\n",
       "Name: sum_concetrate_rougher, dtype: float64"
      ]
     },
     "metadata": {},
     "output_type": "display_data"
    }
   ],
   "source": [
    "# суммируем концентрацию всех веществ в черновом концентрате\n",
    "data_full_copy['sum_concetrate_rougher']\\\n",
    "= data_full_copy['rougher.output.concentrate_ag']\\\n",
    "+ data_full_copy['rougher.output.concentrate_pb']\\\n",
    "+ data_full_copy['rougher.output.concentrate_sol']\\\n",
    "+ data_full_copy['rougher.output.concentrate_au']\n",
    "display(data_full_copy['sum_concetrate_rougher'].describe())"
   ]
  },
  {
   "cell_type": "code",
   "execution_count": 29,
   "metadata": {},
   "outputs": [
    {
     "data": {
      "text/plain": [
       "count    19439.000000\n",
       "mean        60.764731\n",
       "std         10.017271\n",
       "min          0.000000\n",
       "25%         58.929364\n",
       "50%         62.497674\n",
       "75%         65.667336\n",
       "max         80.749343\n",
       "Name: sum_concetrate_primary, dtype: float64"
      ]
     },
     "metadata": {},
     "output_type": "display_data"
    }
   ],
   "source": [
    "# суммируем концентрацию всех веществ после первичной очистки\n",
    "data_full_copy['sum_concetrate_primary']\\\n",
    "= data_full_copy['primary_cleaner.output.concentrate_ag']\\\n",
    "+ data_full_copy['primary_cleaner.output.concentrate_pb']\\\n",
    "+ data_full_copy['primary_cleaner.output.concentrate_sol']\\\n",
    "+ data_full_copy['primary_cleaner.output.concentrate_au']\n",
    "display(data_full_copy['sum_concetrate_primary'].describe())"
   ]
  },
  {
   "cell_type": "code",
   "execution_count": 30,
   "metadata": {},
   "outputs": [
    {
     "data": {
      "text/plain": [
       "count    19439.000000\n",
       "mean        68.653624\n",
       "std          7.427536\n",
       "min          0.000000\n",
       "25%         67.932362\n",
       "50%         69.598444\n",
       "75%         71.368472\n",
       "max         80.210644\n",
       "Name: sum_concetrate_final, dtype: float64"
      ]
     },
     "metadata": {},
     "output_type": "display_data"
    }
   ],
   "source": [
    "# суммируем концентрацию всех веществ в финальном концентрате\n",
    "data_full_copy['sum_concetrate_final']\\\n",
    "= data_full_copy['final.output.concentrate_ag']\\\n",
    "+ data_full_copy['final.output.concentrate_pb']\\\n",
    "+ data_full_copy['final.output.concentrate_sol']\\\n",
    "+ data_full_copy['final.output.concentrate_au']\n",
    "display(data_full_copy['sum_concetrate_final'].describe())"
   ]
  },
  {
   "cell_type": "code",
   "execution_count": 31,
   "metadata": {},
   "outputs": [
    {
     "data": {
      "image/png": "[encoded data removed]",
      "text/plain": [
       "<Figure size 1080x360 with 1 Axes>"
      ]
     },
     "metadata": {
      "needs_background": "light"
     },
     "output_type": "display_data"
    }
   ],
   "source": [
    "# строим гистограмму распределения данных \n",
    "plt.figure(figsize=(15, 5))\n",
    "\n",
    "data_full_copy['sum_concetrate_base'].plot(kind = 'hist', color='pink', alpha = 0.5, label = 'sum_concetrate_base'\\\n",
    "                                         , bins = 100)\n",
    "data_full_copy['sum_concetrate_rougher'].plot(kind = 'hist', color = 'blue', alpha = 0.5, label = 'sum_concetrate_rougher' \\\n",
    "                                         , bins = 100)\n",
    "data_full_copy['sum_concetrate_primary'].plot(kind = 'hist', color='yellow', alpha = 0.5, label = 'sum_concetrate_primary'\\\n",
    "                                         , bins = 100)\n",
    "data_full_copy['sum_concetrate_final'].plot(kind = 'hist', color='brown', alpha = 0.5, label = 'sum_concetrate_final'\\\n",
    "                                         , bins = 100)\n",
    "plt.title('Распределение данных о суммарной концентрации всех веществ по этапам')\n",
    "plt.legend()\n",
    "plt.show()"
   ]
  },
  {
   "cell_type": "markdown",
   "metadata": {},
   "source": [
    "По гистограмме видно, что в данных присутствуют выбросы. Заметно количество выбросов в диапазоне от 0 до 40. Разброс данных по суммарной конкцентрации уменьшается по мере прохождения этапов очистки."
   ]
  },
  {
   "cell_type": "code",
   "execution_count": 32,
   "metadata": {},
   "outputs": [
    {
     "data": {
      "text/plain": [
       "(108, 91)"
      ]
     },
     "metadata": {},
     "output_type": "display_data"
    }
   ],
   "source": [
    "# проверяем объекты с нулевым значением суммы концентрации веществ после этапа первичной обработки\n",
    "data_full_copy_sum_null = data_full_copy[data_full_copy['sum_concetrate_primary'] == 0]\n",
    "display(data_full_copy_sum_null.shape)"
   ]
  },
  {
   "cell_type": "code",
   "execution_count": 33,
   "metadata": {},
   "outputs": [
    {
     "name": "stdout",
     "output_type": "stream",
     "text": [
      "null_is: ['primary_cleaner.output.concentrate_ag']\n",
      "null_is: ['primary_cleaner.output.concentrate_pb']\n",
      "null_is: ['primary_cleaner.output.concentrate_sol']\n",
      "null_is: ['primary_cleaner.output.concentrate_au']\n",
      "null_is: ['sum_concetrate_primary']\n"
     ]
    }
   ],
   "source": [
    "# проверяем в каких столбцах значения, равные 0\n",
    "data_full_copy_sum_null = data_full_copy_sum_null.drop('date', axis=1)\n",
    "for column in data_full_copy_sum_null:\n",
    "    if data_full_copy_sum_null[column].sum() == 0:\n",
    "        print('null_is:',[column])\n",
    "    "
   ]
  },
  {
   "cell_type": "code",
   "execution_count": 34,
   "metadata": {},
   "outputs": [
    {
     "data": {
      "text/plain": [
       "(19323, 87)"
      ]
     },
     "metadata": {},
     "output_type": "display_data"
    },
    {
     "data": {
      "text/plain": [
       "(14069, 87)"
      ]
     },
     "metadata": {},
     "output_type": "display_data"
    }
   ],
   "source": [
    "#Так как нулевые значения суммарной концентрации маловероятны, то скорее всего это ошибка в данных. Соответственно убираем объекты с нулевыми значениями переменных из выборок\n",
    "data_full = data_full[data_full['primary_cleaner.output.concentrate_ag'] > 0]\n",
    "data_full = data_full[data_full['primary_cleaner.output.concentrate_pb'] > 0]\n",
    "data_full = data_full[data_full['primary_cleaner.output.concentrate_sol'] > 0]\n",
    "data_full = data_full[data_full['primary_cleaner.output.concentrate_au'] > 0]\n",
    "data_train = data_train[data_train['primary_cleaner.output.concentrate_ag'] > 0]\n",
    "data_train = data_train[data_train['primary_cleaner.output.concentrate_pb'] > 0]\n",
    "data_train = data_train[data_train['primary_cleaner.output.concentrate_sol'] > 0]\n",
    "data_train = data_train[data_train['primary_cleaner.output.concentrate_au'] > 0]\n",
    "\n",
    "display(data_full.shape)\n",
    "display(data_train.shape)"
   ]
  },
  {
   "cell_type": "markdown",
   "metadata": {},
   "source": [
    "Вывод:\n",
    "1. концентрация серебра в процессе обработки снижается, а свинца и золота - растет;\n",
    "2. сильных отличий в распределении гранул между тестовой и тренировочной выборкой не выявлено, соответственно ожидаем, что оценка модели будет правильной;\n",
    "3. в данных по суммарной концентрации всех веществ присутствуют выбросы, разброс данных по суммарной конкцентрации уменьшается по мере прохождения этапов очистки;\n",
    "4. удалили строки с нулевыми значениями концентрации."
   ]
  },
  {
   "cell_type": "markdown",
   "metadata": {},
   "source": [
    "## Модель"
   ]
  },
  {
   "cell_type": "markdown",
   "metadata": {},
   "source": [
    "3.1. Делим данные на признаки (features) и целевую переменную (target) "
   ]
  },
  {
   "cell_type": "code",
   "execution_count": 35,
   "metadata": {},
   "outputs": [],
   "source": [
    "columns = data_test.columns\n",
    "data_train= data_train.fillna(method='ffill') \n",
    "data_train = data_train.dropna() # удаляем пропуски\n",
    "features_train = data_train[columns] # формируем признаки, выбираем из train только те параметры, которые есть в test\n",
    "features_train = features_train.drop(['date'],axis=1) \n",
    "target_train = data_train[['rougher.output.recovery','final.output.recovery']] \n",
    "target=data_train[['rougher.output.recovery','final.output.recovery']] # Формируем вектор целевых признаков"
   ]
  },
  {
   "cell_type": "markdown",
   "metadata": {},
   "source": [
    "3.2. Масштабируем данные"
   ]
  },
  {
   "cell_type": "code",
   "execution_count": 36,
   "metadata": {},
   "outputs": [],
   "source": [
    "scaler = StandardScaler()\n",
    "scaler.fit(features_train)\n",
    "\n",
    "features_train = scaler.transform(features_train)\n",
    "\n"
   ]
  },
  {
   "cell_type": "markdown",
   "metadata": {},
   "source": [
    "3.3. Создаем функцию"
   ]
  },
  {
   "cell_type": "code",
   "execution_count": 37,
   "metadata": {},
   "outputs": [],
   "source": [
    "# Функция метрики качества\n",
    "def sMAPE(predict,target):\n",
    "    predict_rougher=predict[:,0]\n",
    "    target__rougher=target[:,0]\n",
    "    predict_final=predict[:,1]\n",
    "    target__final=target[:,1]\n",
    "    \n",
    "    sMAPE_rougher=np.sum(abs(target__rougher-predict_rougher)/((abs(target__rougher)+abs(predict_rougher))/2))\n",
    "    \n",
    "\n",
    "    sMAPE_rougher=sMAPE_rougher/len(target__rougher)*100\n",
    "    \n",
    "   \n",
    "    sMAPE_final=np.sum(abs(target__final-predict_final)/((abs(target__final)+abs(predict_final))/2))\n",
    "    sMAPE_final=sMAPE_final/len(target__final)*100\n",
    "    \n",
    "    sMAP=0.25*sMAPE_rougher+0.75*sMAPE_final\n",
    "    return sMAP"
   ]
  },
  {
   "cell_type": "code",
   "execution_count": 38,
   "metadata": {},
   "outputs": [],
   "source": [
    "smape_scorer = make_scorer(sMAPE, greater_is_better = False)"
   ]
  },
  {
   "cell_type": "markdown",
   "metadata": {},
   "source": [
    "3.4. Создаем модели"
   ]
  },
  {
   "cell_type": "markdown",
   "metadata": {},
   "source": [
    "А. Дерево решений"
   ]
  },
  {
   "cell_type": "code",
   "execution_count": 39,
   "metadata": {},
   "outputs": [
    {
     "name": "stdout",
     "output_type": "stream",
     "text": [
      "DecisionTreeRegressor(max_depth=2, random_state=0)\n"
     ]
    }
   ],
   "source": [
    "# подбираем лучший гиперпараметр  max_depth с RandomizedSearchCV,\n",
    "# выбираем метрику настройки sMAPE\n",
    "max_depth = range(1, 10)\n",
    "hyperparameters = dict(max_depth=max_depth)\n",
    "dt = DecisionTreeRegressor(random_state = 0)\n",
    "\n",
    "randomizedsearch = RandomizedSearchCV(dt, hyperparameters, random_state = 0 \\\n",
    "                                      , scoring= smape_scorer)\n",
    "\n",
    "dt_best_model_random = randomizedsearch.fit(features_train, np.array(target_train))\n",
    "print(dt_best_model_random.best_estimator_)"
   ]
  },
  {
   "cell_type": "code",
   "execution_count": 40,
   "metadata": {},
   "outputs": [
    {
     "name": "stdout",
     "output_type": "stream",
     "text": [
      "DecisionTreeRegressor sMAPE: 11.08273280747033\n"
     ]
    }
   ],
   "source": [
    "# кросс-валидация DecisionTreeRegressor\n",
    "dt_best = DecisionTreeRegressor(random_state = 0, max_depth=2)\n",
    "\n",
    "score = cross_val_score(dt_best, features_train, np.array(target_train), scoring = smape_scorer, cv=6).mean()\n",
    "print('DecisionTreeRegressor sMAPE:', abs(score))"
   ]
  },
  {
   "cell_type": "markdown",
   "metadata": {},
   "source": [
    "Б. Линейная регрессия"
   ]
  },
  {
   "cell_type": "code",
   "execution_count": 41,
   "metadata": {},
   "outputs": [
    {
     "name": "stdout",
     "output_type": "stream",
     "text": [
      "LinearRegression sMAPE: 12.266374374112665\n"
     ]
    }
   ],
   "source": [
    "# кросс-валидация Линейная регрессия\n",
    "lr = LinearRegression()\n",
    "score = cross_val_score(lr, features_train, np.array(target_train), scoring = smape_scorer, cv=6).mean()\n",
    "print('LinearRegression sMAPE:', abs(score))"
   ]
  },
  {
   "cell_type": "markdown",
   "metadata": {},
   "source": [
    "В. Случайный лес"
   ]
  },
  {
   "cell_type": "code",
   "execution_count": 42,
   "metadata": {},
   "outputs": [
    {
     "name": "stdout",
     "output_type": "stream",
     "text": [
      "RandomForestRegressor(max_depth=6, min_samples_leaf=7, n_estimators=31,\n",
      "                      random_state=0)\n"
     ]
    }
   ],
   "source": [
    "# подбираем лучшие гиперпараметры  n_estimators, max_depth, min_samples_leaf с RandomizedSearchCV,\n",
    "# выбираем метрику настройки sMAPE\n",
    "n_estimators = range(1, 50)\n",
    "max_depth = range(1,10)\n",
    "min_samples_leaf = range(1,13)\n",
    "\n",
    "hyperparameters = dict( max_depth=max_depth, min_samples_leaf = min_samples_leaf, n_estimators = n_estimators)\n",
    "rf = RandomForestRegressor(random_state = 0)\n",
    "\n",
    "randomizedsearch = RandomizedSearchCV(rf, hyperparameters, random_state = 0, scoring = smape_scorer)\n",
    "\n",
    "rf_best_model_random = randomizedsearch.fit(features_train, np.array(target_train))\n",
    "print(rf_best_model_random.best_estimator_)"
   ]
  },
  {
   "cell_type": "code",
   "execution_count": 46,
   "metadata": {},
   "outputs": [
    {
     "name": "stdout",
     "output_type": "stream",
     "text": [
      "RandomForestRegressor sMAPE: 10.46844176415256\n"
     ]
    }
   ],
   "source": [
    "# кросс-валидация RandomForestRegressor\n",
    "rf_best = RandomForestRegressor(random_state = 0, max_depth = 6, min_samples_leaf = 7, n_estimators = 31)\n",
    "\n",
    "score = cross_val_score(rf_best, features_train, np.array(target_train), scoring = smape_scorer, cv=6).mean()\n",
    "print('RandomForestRegressor sMAPE:', abs(score))"
   ]
  },
  {
   "cell_type": "markdown",
   "metadata": {},
   "source": [
    "RandomForestRegressor имеет самый маленький sMAPE. Значит, это наша лучшая модель"
   ]
  },
  {
   "cell_type": "markdown",
   "metadata": {},
   "source": [
    "3.5. Проверим лучшую модель на тестовой выборке"
   ]
  },
  {
   "cell_type": "code",
   "execution_count": 48,
   "metadata": {},
   "outputs": [
    {
     "name": "stdout",
     "output_type": "stream",
     "text": [
      "Симметричная средняя абсолютная ошибка лучшей модели : 12.010932279309053\n"
     ]
    }
   ],
   "source": [
    "data_test_target = data_test.join(data_full, how = 'left', rsuffix=\"_dummy\") # создаем полный датасет со всеми признаками для тестовой выборки\n",
    "data_test_target = data_test_target.dropna() # удаляем пропуски\n",
    "features_test = data_test_target[columns] # формируем набор признаков тестовой выборки\n",
    "features_test = features_test.drop(['date'],axis=1) # удаляем параметр даты\n",
    "target_test = data_test_target[['rougher.output.recovery','final.output.recovery']] # формируем вектор целевых признаков\n",
    "features_test = scaler.transform(features_test)\n",
    "\n",
    "rf_best = RandomForestRegressor(random_state = 0, max_depth = 6, min_samples_leaf = 7, n_estimators = 31)\n",
    "rf_best.fit(features_train, target_train)\n",
    "predict = rf_best.predict(features_test)\n",
    "\n",
    "smape = sMAPE(predict, np.array(target_test))\n",
    "print('Симметричная средняя абсолютная ошибка лучшей модели :', smape)"
   ]
  },
  {
   "cell_type": "markdown",
   "metadata": {},
   "source": [
    "3.6. Проверим модель на адекватность"
   ]
  },
  {
   "cell_type": "code",
   "execution_count": 45,
   "metadata": {},
   "outputs": [
    {
     "name": "stdout",
     "output_type": "stream",
     "text": [
      "Симметричная средняя абсолютная ошибка константной модели: 11.22234955036359\n"
     ]
    }
   ],
   "source": [
    "dummy_regr = DummyRegressor(strategy = \"median\")\n",
    "dummy_regr.fit(features_train, target_train)\n",
    "predict = dummy_regr.predict(features_test)\n",
    "\n",
    "smape = sMAPE(predict, np.array(target_test))\n",
    "print('Симметричная средняя абсолютная ошибка константной модели:', smape)"
   ]
  },
  {
   "cell_type": "markdown",
   "metadata": {},
   "source": [
    "Вывод:\n",
    "1. Лучшая модель RandomForestRegressor(random_state = 0, max_depth = 6, min_samples_leaf = 7, n_estimators = 31);\n",
    "2. На тестовой выборке наша модель дает среднюю абсолютную ошибку:10.579673991435168;\n"
   ]
  },
  {
   "cell_type": "markdown",
   "metadata": {},
   "source": [
    "# Общий вывод:\n",
    "Наша лучшая модель RandomForestRegressor(random_state = 0, max_depth = 6, min_samples_leaf = 7, n_estimators = 31) рекомендуется в качестве прототипа модели машинного обучения для компании, разрабатывающей решения для эффективной работы промышленных предприятий по восстановлению золота из золотоносной руды."
   ]
  }
 ],
 "metadata": {
  "ExecuteTimeLog": [
   {
    "duration": 70,
    "start_time": "2023-03-25T10:12:33.359Z"
   },
   {
    "duration": 1632,
    "start_time": "2023-03-25T10:14:47.214Z"
   },
   {
    "duration": 2103,
    "start_time": "2023-03-25T10:18:15.664Z"
   },
   {
    "duration": 50,
    "start_time": "2023-03-25T10:18:40.688Z"
   },
   {
    "duration": 79,
    "start_time": "2023-03-25T10:19:22.935Z"
   },
   {
    "duration": 43,
    "start_time": "2023-03-25T10:19:26.281Z"
   },
   {
    "duration": 95,
    "start_time": "2023-03-25T10:21:04.627Z"
   },
   {
    "duration": 95,
    "start_time": "2023-03-25T10:21:29.098Z"
   },
   {
    "duration": 240,
    "start_time": "2023-03-25T10:21:58.161Z"
   },
   {
    "duration": 10,
    "start_time": "2023-03-25T10:23:14.251Z"
   },
   {
    "duration": 9,
    "start_time": "2023-03-25T10:31:01.895Z"
   },
   {
    "duration": 79,
    "start_time": "2023-03-25T10:36:58.434Z"
   },
   {
    "duration": 10,
    "start_time": "2023-03-25T10:37:30.164Z"
   },
   {
    "duration": 10,
    "start_time": "2023-03-25T10:37:44.630Z"
   },
   {
    "duration": 11,
    "start_time": "2023-03-25T10:37:55.363Z"
   },
   {
    "duration": 10,
    "start_time": "2023-03-25T10:37:58.802Z"
   },
   {
    "duration": 13,
    "start_time": "2023-03-25T10:39:41.278Z"
   },
   {
    "duration": 12,
    "start_time": "2023-03-25T10:39:46.044Z"
   },
   {
    "duration": 9,
    "start_time": "2023-03-25T10:40:13.916Z"
   },
   {
    "duration": 9,
    "start_time": "2023-03-25T10:41:01.611Z"
   },
   {
    "duration": 2,
    "start_time": "2023-03-25T10:43:57.590Z"
   },
   {
    "duration": 3,
    "start_time": "2023-03-25T10:44:20.829Z"
   },
   {
    "duration": 1336,
    "start_time": "2023-03-25T10:44:28.996Z"
   },
   {
    "duration": 6,
    "start_time": "2023-03-25T10:44:30.334Z"
   },
   {
    "duration": 652,
    "start_time": "2023-03-25T10:44:30.341Z"
   },
   {
    "duration": 153,
    "start_time": "2023-03-25T10:44:30.995Z"
   },
   {
    "duration": 36,
    "start_time": "2023-03-25T10:44:31.150Z"
   },
   {
    "duration": 243,
    "start_time": "2023-03-25T10:44:31.188Z"
   },
   {
    "duration": 12,
    "start_time": "2023-03-25T10:44:31.432Z"
   },
   {
    "duration": 11,
    "start_time": "2023-03-25T10:45:23.415Z"
   },
   {
    "duration": 24,
    "start_time": "2023-03-25T11:00:03.433Z"
   },
   {
    "duration": 15,
    "start_time": "2023-03-25T11:00:48.201Z"
   },
   {
    "duration": 171,
    "start_time": "2023-03-25T11:01:44.644Z"
   },
   {
    "duration": 8,
    "start_time": "2023-03-25T11:01:53.062Z"
   },
   {
    "duration": 20,
    "start_time": "2023-03-25T11:03:41.370Z"
   },
   {
    "duration": 8,
    "start_time": "2023-03-25T11:04:41.194Z"
   },
   {
    "duration": 7,
    "start_time": "2023-03-25T11:05:14.419Z"
   },
   {
    "duration": 9,
    "start_time": "2023-03-25T11:19:19.667Z"
   },
   {
    "duration": 9,
    "start_time": "2023-03-25T11:20:17.371Z"
   },
   {
    "duration": 9,
    "start_time": "2023-03-25T11:20:47.195Z"
   },
   {
    "duration": 9,
    "start_time": "2023-03-25T11:21:31.359Z"
   },
   {
    "duration": 8,
    "start_time": "2023-03-25T11:21:57.252Z"
   },
   {
    "duration": 9,
    "start_time": "2023-03-25T11:22:07.796Z"
   },
   {
    "duration": 13,
    "start_time": "2023-03-25T11:22:23.140Z"
   },
   {
    "duration": 33,
    "start_time": "2023-03-25T11:50:54.556Z"
   },
   {
    "duration": 9,
    "start_time": "2023-03-25T12:12:15.222Z"
   },
   {
    "duration": 14,
    "start_time": "2023-03-25T12:13:21.767Z"
   },
   {
    "duration": 474,
    "start_time": "2023-03-25T12:14:17.871Z"
   },
   {
    "duration": 5,
    "start_time": "2023-03-25T12:14:54.385Z"
   },
   {
    "duration": 7,
    "start_time": "2023-03-25T12:39:02.770Z"
   },
   {
    "duration": 12,
    "start_time": "2023-03-25T12:48:37.010Z"
   },
   {
    "duration": 95,
    "start_time": "2023-03-25T12:49:38.619Z"
   },
   {
    "duration": 77,
    "start_time": "2023-03-25T12:53:44.268Z"
   },
   {
    "duration": 93,
    "start_time": "2023-03-25T12:54:12.909Z"
   },
   {
    "duration": 69,
    "start_time": "2023-03-25T12:54:33.557Z"
   },
   {
    "duration": 1371,
    "start_time": "2023-03-25T12:54:59.397Z"
   },
   {
    "duration": 19,
    "start_time": "2023-03-25T12:56:23.078Z"
   },
   {
    "duration": 37,
    "start_time": "2023-03-25T12:56:54.238Z"
   },
   {
    "duration": 20,
    "start_time": "2023-03-25T12:57:44.678Z"
   },
   {
    "duration": 15,
    "start_time": "2023-03-25T13:02:36.462Z"
   },
   {
    "duration": 13,
    "start_time": "2023-03-25T13:02:51.266Z"
   },
   {
    "duration": 34,
    "start_time": "2023-03-25T13:10:41.134Z"
   },
   {
    "duration": 13,
    "start_time": "2023-03-25T13:11:03.222Z"
   },
   {
    "duration": 15,
    "start_time": "2023-03-25T13:11:21.182Z"
   },
   {
    "duration": 17,
    "start_time": "2023-03-25T13:11:44.471Z"
   },
   {
    "duration": 18,
    "start_time": "2023-03-25T13:12:39.791Z"
   },
   {
    "duration": 18,
    "start_time": "2023-03-25T13:13:14.872Z"
   },
   {
    "duration": 10,
    "start_time": "2023-03-25T13:28:50.623Z"
   },
   {
    "duration": 8,
    "start_time": "2023-03-25T13:28:56.968Z"
   },
   {
    "duration": 10,
    "start_time": "2023-03-25T13:28:57.864Z"
   },
   {
    "duration": 10,
    "start_time": "2023-03-25T13:29:33.600Z"
   },
   {
    "duration": 9,
    "start_time": "2023-03-25T13:29:50.868Z"
   },
   {
    "duration": 10,
    "start_time": "2023-03-25T13:30:09.512Z"
   },
   {
    "duration": 799,
    "start_time": "2023-03-25T13:32:21.170Z"
   },
   {
    "duration": 886,
    "start_time": "2023-03-25T13:33:00.146Z"
   },
   {
    "duration": 5,
    "start_time": "2023-03-25T13:39:54.854Z"
   },
   {
    "duration": 22,
    "start_time": "2023-03-25T13:42:25.663Z"
   },
   {
    "duration": 20,
    "start_time": "2023-03-25T13:42:44.039Z"
   },
   {
    "duration": 9,
    "start_time": "2023-03-25T13:44:53.688Z"
   },
   {
    "duration": 23,
    "start_time": "2023-03-25T13:55:23.598Z"
   },
   {
    "duration": 27,
    "start_time": "2023-03-25T13:55:29.070Z"
   },
   {
    "duration": 15,
    "start_time": "2023-03-25T13:55:33.558Z"
   },
   {
    "duration": 4,
    "start_time": "2023-03-25T13:58:19.463Z"
   },
   {
    "duration": 36,
    "start_time": "2023-03-25T14:01:21.138Z"
   },
   {
    "duration": 1451,
    "start_time": "2023-03-25T14:01:32.069Z"
   },
   {
    "duration": 3,
    "start_time": "2023-03-25T14:01:33.522Z"
   },
   {
    "duration": 745,
    "start_time": "2023-03-25T14:01:33.526Z"
   },
   {
    "duration": 180,
    "start_time": "2023-03-25T14:01:34.273Z"
   },
   {
    "duration": 43,
    "start_time": "2023-03-25T14:01:34.456Z"
   },
   {
    "duration": 8,
    "start_time": "2023-03-25T14:01:34.500Z"
   },
   {
    "duration": 32,
    "start_time": "2023-03-25T14:01:34.510Z"
   },
   {
    "duration": 297,
    "start_time": "2023-03-25T14:01:34.549Z"
   },
   {
    "duration": 8,
    "start_time": "2023-03-25T14:01:34.848Z"
   },
   {
    "duration": 23,
    "start_time": "2023-03-25T14:01:34.858Z"
   },
   {
    "duration": 11,
    "start_time": "2023-03-25T14:01:34.885Z"
   },
   {
    "duration": 9,
    "start_time": "2023-03-25T14:01:34.898Z"
   },
   {
    "duration": 7,
    "start_time": "2023-03-25T14:01:34.908Z"
   },
   {
    "duration": 60,
    "start_time": "2023-03-25T14:01:34.917Z"
   },
   {
    "duration": 11,
    "start_time": "2023-03-25T14:01:34.978Z"
   },
   {
    "duration": 15,
    "start_time": "2023-03-25T14:01:34.990Z"
   },
   {
    "duration": 6,
    "start_time": "2023-03-25T14:01:35.007Z"
   },
   {
    "duration": 21,
    "start_time": "2023-03-25T14:01:35.054Z"
   },
   {
    "duration": 35,
    "start_time": "2023-03-25T14:01:35.077Z"
   },
   {
    "duration": 18,
    "start_time": "2023-03-25T14:01:35.115Z"
   },
   {
    "duration": 48,
    "start_time": "2023-03-25T14:01:35.135Z"
   },
   {
    "duration": 12,
    "start_time": "2023-03-25T14:01:35.185Z"
   },
   {
    "duration": 12,
    "start_time": "2023-03-25T14:01:35.199Z"
   },
   {
    "duration": 48,
    "start_time": "2023-03-25T14:01:35.213Z"
   },
   {
    "duration": 9,
    "start_time": "2023-03-25T14:01:35.274Z"
   },
   {
    "duration": 16,
    "start_time": "2023-03-25T14:01:35.284Z"
   },
   {
    "duration": 10,
    "start_time": "2023-03-25T14:01:35.302Z"
   },
   {
    "duration": 17,
    "start_time": "2023-03-25T14:01:35.313Z"
   },
   {
    "duration": 50,
    "start_time": "2023-03-25T14:01:35.332Z"
   },
   {
    "duration": 963,
    "start_time": "2023-03-25T14:01:35.384Z"
   },
   {
    "duration": 29,
    "start_time": "2023-03-25T14:01:36.350Z"
   },
   {
    "duration": 131,
    "start_time": "2023-03-25T14:01:36.381Z"
   },
   {
    "duration": 0,
    "start_time": "2023-03-25T14:01:36.514Z"
   },
   {
    "duration": 0,
    "start_time": "2023-03-25T14:01:36.516Z"
   },
   {
    "duration": 9,
    "start_time": "2023-03-25T14:01:49.625Z"
   },
   {
    "duration": 1502,
    "start_time": "2023-03-25T14:03:03.131Z"
   },
   {
    "duration": 31,
    "start_time": "2023-03-25T14:03:04.634Z"
   },
   {
    "duration": 788,
    "start_time": "2023-03-25T14:03:04.670Z"
   },
   {
    "duration": 168,
    "start_time": "2023-03-25T14:03:05.460Z"
   },
   {
    "duration": 45,
    "start_time": "2023-03-25T14:03:05.630Z"
   },
   {
    "duration": 7,
    "start_time": "2023-03-25T14:03:05.677Z"
   },
   {
    "duration": 40,
    "start_time": "2023-03-25T14:03:05.685Z"
   },
   {
    "duration": 282,
    "start_time": "2023-03-25T14:03:05.726Z"
   },
   {
    "duration": 6,
    "start_time": "2023-03-25T14:03:06.010Z"
   },
   {
    "duration": 7,
    "start_time": "2023-03-25T14:03:06.017Z"
   },
   {
    "duration": 41,
    "start_time": "2023-03-25T14:03:06.025Z"
   },
   {
    "duration": 11,
    "start_time": "2023-03-25T14:03:06.069Z"
   },
   {
    "duration": 8,
    "start_time": "2023-03-25T14:03:06.081Z"
   },
   {
    "duration": 35,
    "start_time": "2023-03-25T14:03:06.092Z"
   },
   {
    "duration": 18,
    "start_time": "2023-03-25T14:03:06.150Z"
   },
   {
    "duration": 16,
    "start_time": "2023-03-25T14:03:06.170Z"
   },
   {
    "duration": 5,
    "start_time": "2023-03-25T14:03:06.192Z"
   },
   {
    "duration": 11,
    "start_time": "2023-03-25T14:03:06.200Z"
   },
   {
    "duration": 36,
    "start_time": "2023-03-25T14:03:06.213Z"
   },
   {
    "duration": 27,
    "start_time": "2023-03-25T14:03:06.250Z"
   },
   {
    "duration": 32,
    "start_time": "2023-03-25T14:03:06.280Z"
   },
   {
    "duration": 11,
    "start_time": "2023-03-25T14:03:06.313Z"
   },
   {
    "duration": 37,
    "start_time": "2023-03-25T14:03:06.326Z"
   },
   {
    "duration": 24,
    "start_time": "2023-03-25T14:03:06.376Z"
   },
   {
    "duration": 8,
    "start_time": "2023-03-25T14:03:06.401Z"
   },
   {
    "duration": 10,
    "start_time": "2023-03-25T14:03:06.410Z"
   },
   {
    "duration": 10,
    "start_time": "2023-03-25T14:03:06.421Z"
   },
   {
    "duration": 25,
    "start_time": "2023-03-25T14:03:06.432Z"
   },
   {
    "duration": 10,
    "start_time": "2023-03-25T14:03:06.459Z"
   },
   {
    "duration": 998,
    "start_time": "2023-03-25T14:03:06.471Z"
   },
   {
    "duration": 23,
    "start_time": "2023-03-25T14:03:07.472Z"
   },
   {
    "duration": 17,
    "start_time": "2023-03-25T14:03:07.497Z"
   },
   {
    "duration": 5,
    "start_time": "2023-03-25T14:03:07.516Z"
   },
   {
    "duration": 135,
    "start_time": "2023-03-25T14:03:07.549Z"
   },
   {
    "duration": 1524,
    "start_time": "2023-03-25T14:03:55.306Z"
   },
   {
    "duration": 3,
    "start_time": "2023-03-25T14:03:56.832Z"
   },
   {
    "duration": 833,
    "start_time": "2023-03-25T14:03:56.836Z"
   },
   {
    "duration": 146,
    "start_time": "2023-03-25T14:03:57.675Z"
   },
   {
    "duration": 59,
    "start_time": "2023-03-25T14:03:57.822Z"
   },
   {
    "duration": 7,
    "start_time": "2023-03-25T14:03:57.882Z"
   },
   {
    "duration": 17,
    "start_time": "2023-03-25T14:03:57.890Z"
   },
   {
    "duration": 291,
    "start_time": "2023-03-25T14:03:57.908Z"
   },
   {
    "duration": 6,
    "start_time": "2023-03-25T14:03:58.200Z"
   },
   {
    "duration": 6,
    "start_time": "2023-03-25T14:03:58.209Z"
   },
   {
    "duration": 22,
    "start_time": "2023-03-25T14:03:58.216Z"
   },
   {
    "duration": 25,
    "start_time": "2023-03-25T14:03:58.239Z"
   },
   {
    "duration": 17,
    "start_time": "2023-03-25T14:03:58.266Z"
   },
   {
    "duration": 31,
    "start_time": "2023-03-25T14:03:58.284Z"
   },
   {
    "duration": 7,
    "start_time": "2023-03-25T14:03:58.317Z"
   },
   {
    "duration": 13,
    "start_time": "2023-03-25T14:03:58.325Z"
   },
   {
    "duration": 24,
    "start_time": "2023-03-25T14:03:58.349Z"
   },
   {
    "duration": 10,
    "start_time": "2023-03-25T14:03:58.381Z"
   },
   {
    "duration": 19,
    "start_time": "2023-03-25T14:03:58.393Z"
   },
   {
    "duration": 17,
    "start_time": "2023-03-25T14:03:58.413Z"
   },
   {
    "duration": 22,
    "start_time": "2023-03-25T14:03:58.431Z"
   },
   {
    "duration": 28,
    "start_time": "2023-03-25T14:03:58.455Z"
   },
   {
    "duration": 9,
    "start_time": "2023-03-25T14:03:58.486Z"
   },
   {
    "duration": 19,
    "start_time": "2023-03-25T14:03:58.496Z"
   },
   {
    "duration": 6,
    "start_time": "2023-03-25T14:03:58.517Z"
   },
   {
    "duration": 11,
    "start_time": "2023-03-25T14:03:58.525Z"
   },
   {
    "duration": 20,
    "start_time": "2023-03-25T14:03:58.537Z"
   },
   {
    "duration": 19,
    "start_time": "2023-03-25T14:03:58.568Z"
   },
   {
    "duration": 9,
    "start_time": "2023-03-25T14:03:58.589Z"
   },
   {
    "duration": 992,
    "start_time": "2023-03-25T14:03:58.600Z"
   },
   {
    "duration": 20,
    "start_time": "2023-03-25T14:03:59.594Z"
   },
   {
    "duration": 49,
    "start_time": "2023-03-25T14:03:59.616Z"
   },
   {
    "duration": 5,
    "start_time": "2023-03-25T14:03:59.676Z"
   },
   {
    "duration": 135,
    "start_time": "2023-03-25T14:03:59.683Z"
   },
   {
    "duration": 1588,
    "start_time": "2023-03-25T14:05:10.482Z"
   },
   {
    "duration": 4,
    "start_time": "2023-03-25T14:05:12.082Z"
   },
   {
    "duration": 805,
    "start_time": "2023-03-25T14:05:12.087Z"
   },
   {
    "duration": 193,
    "start_time": "2023-03-25T14:05:12.894Z"
   },
   {
    "duration": 40,
    "start_time": "2023-03-25T14:05:13.094Z"
   },
   {
    "duration": 16,
    "start_time": "2023-03-25T14:05:13.136Z"
   },
   {
    "duration": 47,
    "start_time": "2023-03-25T14:05:13.154Z"
   },
   {
    "duration": 332,
    "start_time": "2023-03-25T14:05:13.202Z"
   },
   {
    "duration": 24,
    "start_time": "2023-03-25T14:05:13.536Z"
   },
   {
    "duration": 6,
    "start_time": "2023-03-25T14:05:13.562Z"
   },
   {
    "duration": 15,
    "start_time": "2023-03-25T14:05:13.570Z"
   },
   {
    "duration": 12,
    "start_time": "2023-03-25T14:05:13.587Z"
   },
   {
    "duration": 8,
    "start_time": "2023-03-25T14:05:13.601Z"
   },
   {
    "duration": 76,
    "start_time": "2023-03-25T14:05:13.612Z"
   },
   {
    "duration": 9,
    "start_time": "2023-03-25T14:05:13.689Z"
   },
   {
    "duration": 12,
    "start_time": "2023-03-25T14:05:13.700Z"
   },
   {
    "duration": 5,
    "start_time": "2023-03-25T14:05:13.714Z"
   },
   {
    "duration": 52,
    "start_time": "2023-03-25T14:05:13.721Z"
   },
   {
    "duration": 19,
    "start_time": "2023-03-25T14:05:13.783Z"
   },
   {
    "duration": 19,
    "start_time": "2023-03-25T14:05:13.803Z"
   },
   {
    "duration": 54,
    "start_time": "2023-03-25T14:05:13.824Z"
   },
   {
    "duration": 11,
    "start_time": "2023-03-25T14:05:13.882Z"
   },
   {
    "duration": 11,
    "start_time": "2023-03-25T14:05:13.895Z"
   },
   {
    "duration": 17,
    "start_time": "2023-03-25T14:05:13.908Z"
   },
   {
    "duration": 7,
    "start_time": "2023-03-25T14:05:13.927Z"
   },
   {
    "duration": 50,
    "start_time": "2023-03-25T14:05:13.936Z"
   },
   {
    "duration": 10,
    "start_time": "2023-03-25T14:05:13.987Z"
   },
   {
    "duration": 11,
    "start_time": "2023-03-25T14:05:13.998Z"
   },
   {
    "duration": 9,
    "start_time": "2023-03-25T14:05:14.010Z"
   },
   {
    "duration": 969,
    "start_time": "2023-03-25T14:05:14.021Z"
   },
   {
    "duration": 26,
    "start_time": "2023-03-25T14:05:14.992Z"
   },
   {
    "duration": 56,
    "start_time": "2023-03-25T14:05:15.019Z"
   },
   {
    "duration": 10,
    "start_time": "2023-03-25T14:05:15.076Z"
   },
   {
    "duration": 147,
    "start_time": "2023-03-25T14:05:15.088Z"
   },
   {
    "duration": 3,
    "start_time": "2023-03-25T14:06:15.483Z"
   },
   {
    "duration": 57751,
    "start_time": "2023-03-25T14:06:17.274Z"
   },
   {
    "duration": 3645,
    "start_time": "2023-03-25T14:07:40.174Z"
   },
   {
    "duration": 14,
    "start_time": "2023-03-25T14:20:16.369Z"
   },
   {
    "duration": 1571,
    "start_time": "2023-03-25T14:22:08.368Z"
   },
   {
    "duration": 18,
    "start_time": "2023-03-25T14:22:09.950Z"
   },
   {
    "duration": 786,
    "start_time": "2023-03-25T14:22:09.979Z"
   },
   {
    "duration": 157,
    "start_time": "2023-03-25T14:22:10.778Z"
   },
   {
    "duration": 56,
    "start_time": "2023-03-25T14:22:10.936Z"
   },
   {
    "duration": 6,
    "start_time": "2023-03-25T14:22:10.993Z"
   },
   {
    "duration": 73,
    "start_time": "2023-03-25T14:22:11.000Z"
   },
   {
    "duration": 294,
    "start_time": "2023-03-25T14:22:11.078Z"
   },
   {
    "duration": 10,
    "start_time": "2023-03-25T14:22:11.376Z"
   },
   {
    "duration": 11,
    "start_time": "2023-03-25T14:22:11.389Z"
   },
   {
    "duration": 19,
    "start_time": "2023-03-25T14:22:11.402Z"
   },
   {
    "duration": 9,
    "start_time": "2023-03-25T14:22:11.423Z"
   },
   {
    "duration": 45,
    "start_time": "2023-03-25T14:22:11.434Z"
   },
   {
    "duration": 32,
    "start_time": "2023-03-25T14:22:11.482Z"
   },
   {
    "duration": 8,
    "start_time": "2023-03-25T14:22:11.516Z"
   },
   {
    "duration": 50,
    "start_time": "2023-03-25T14:22:11.525Z"
   },
   {
    "duration": 6,
    "start_time": "2023-03-25T14:22:11.576Z"
   },
   {
    "duration": 29,
    "start_time": "2023-03-25T14:22:11.584Z"
   },
   {
    "duration": 19,
    "start_time": "2023-03-25T14:22:11.615Z"
   },
   {
    "duration": 24,
    "start_time": "2023-03-25T14:22:11.636Z"
   },
   {
    "duration": 38,
    "start_time": "2023-03-25T14:22:11.661Z"
   },
   {
    "duration": 10,
    "start_time": "2023-03-25T14:22:11.701Z"
   },
   {
    "duration": 24,
    "start_time": "2023-03-25T14:22:11.712Z"
   },
   {
    "duration": 45,
    "start_time": "2023-03-25T14:22:11.738Z"
   },
   {
    "duration": 12,
    "start_time": "2023-03-25T14:22:11.785Z"
   },
   {
    "duration": 17,
    "start_time": "2023-03-25T14:22:11.798Z"
   },
   {
    "duration": 15,
    "start_time": "2023-03-25T14:22:11.817Z"
   },
   {
    "duration": 34,
    "start_time": "2023-03-25T14:22:11.835Z"
   },
   {
    "duration": 23,
    "start_time": "2023-03-25T14:22:11.870Z"
   },
   {
    "duration": 934,
    "start_time": "2023-03-25T14:22:11.896Z"
   },
   {
    "duration": 162,
    "start_time": "2023-03-25T14:22:12.832Z"
   },
   {
    "duration": 0,
    "start_time": "2023-03-25T14:22:12.996Z"
   },
   {
    "duration": 0,
    "start_time": "2023-03-25T14:22:12.997Z"
   },
   {
    "duration": 0,
    "start_time": "2023-03-25T14:22:12.999Z"
   },
   {
    "duration": 0,
    "start_time": "2023-03-25T14:22:13.000Z"
   },
   {
    "duration": 0,
    "start_time": "2023-03-25T14:22:13.001Z"
   },
   {
    "duration": 52,
    "start_time": "2023-03-25T14:25:44.829Z"
   },
   {
    "duration": 20,
    "start_time": "2023-03-25T14:25:47.974Z"
   },
   {
    "duration": 11,
    "start_time": "2023-03-25T14:25:51.069Z"
   },
   {
    "duration": 2,
    "start_time": "2023-03-25T14:25:51.594Z"
   },
   {
    "duration": 55474,
    "start_time": "2023-03-25T14:25:56.195Z"
   },
   {
    "duration": 29,
    "start_time": "2023-03-25T14:27:00.464Z"
   },
   {
    "duration": 18,
    "start_time": "2023-03-25T14:27:02.277Z"
   },
   {
    "duration": 27,
    "start_time": "2023-03-25T14:27:03.838Z"
   },
   {
    "duration": 2,
    "start_time": "2023-03-25T14:27:04.796Z"
   },
   {
    "duration": 55495,
    "start_time": "2023-03-25T14:27:09.966Z"
   },
   {
    "duration": 3725,
    "start_time": "2023-03-25T14:28:36.109Z"
   },
   {
    "duration": 9,
    "start_time": "2023-03-25T14:34:37.563Z"
   },
   {
    "duration": 14,
    "start_time": "2023-03-25T14:34:50.490Z"
   },
   {
    "duration": 7,
    "start_time": "2023-03-25T14:35:24.081Z"
   },
   {
    "duration": 14,
    "start_time": "2023-03-25T14:35:47.035Z"
   },
   {
    "duration": 3,
    "start_time": "2023-03-25T14:35:47.529Z"
   },
   {
    "duration": 56529,
    "start_time": "2023-03-25T14:35:58.774Z"
   },
   {
    "duration": 3790,
    "start_time": "2023-03-25T14:37:15.915Z"
   },
   {
    "duration": 18,
    "start_time": "2023-03-25T14:41:01.094Z"
   },
   {
    "duration": 8,
    "start_time": "2023-03-25T14:41:08.670Z"
   },
   {
    "duration": 36,
    "start_time": "2023-03-25T14:41:09.638Z"
   },
   {
    "duration": 23,
    "start_time": "2023-03-25T14:41:55.638Z"
   },
   {
    "duration": 5534,
    "start_time": "2023-03-25T14:43:44.032Z"
   },
   {
    "duration": 4488,
    "start_time": "2023-03-25T14:45:20.097Z"
   },
   {
    "duration": 117,
    "start_time": "2023-03-25T14:49:50.540Z"
   },
   {
    "duration": 118,
    "start_time": "2023-03-25T14:50:03.149Z"
   },
   {
    "duration": 6084,
    "start_time": "2023-03-25T14:50:16.412Z"
   },
   {
    "duration": 6188,
    "start_time": "2023-03-25T14:52:26.782Z"
   },
   {
    "duration": 6031,
    "start_time": "2023-03-25T14:53:39.927Z"
   },
   {
    "duration": 24277,
    "start_time": "2023-03-25T14:57:53.610Z"
   },
   {
    "duration": 9,
    "start_time": "2023-03-25T15:06:05.384Z"
   },
   {
    "duration": 10,
    "start_time": "2023-03-25T15:06:20.036Z"
   },
   {
    "duration": 20,
    "start_time": "2023-03-25T15:07:15.704Z"
   },
   {
    "duration": 6,
    "start_time": "2023-03-25T15:07:18.496Z"
   },
   {
    "duration": 13,
    "start_time": "2023-03-25T15:07:29.312Z"
   },
   {
    "duration": 5,
    "start_time": "2023-03-25T15:08:55.193Z"
   },
   {
    "duration": 12,
    "start_time": "2023-03-25T15:08:58.425Z"
   },
   {
    "duration": 12,
    "start_time": "2023-03-25T15:09:02.009Z"
   },
   {
    "duration": 15,
    "start_time": "2023-03-25T15:09:42.097Z"
   },
   {
    "duration": 4,
    "start_time": "2023-03-25T15:09:43.266Z"
   },
   {
    "duration": 12,
    "start_time": "2023-03-25T15:09:45.506Z"
   },
   {
    "duration": 11,
    "start_time": "2023-03-25T15:09:47.106Z"
   },
   {
    "duration": 13,
    "start_time": "2023-03-25T15:10:26.867Z"
   },
   {
    "duration": 13,
    "start_time": "2023-03-25T15:11:57.195Z"
   },
   {
    "duration": 4,
    "start_time": "2023-03-25T15:11:59.084Z"
   },
   {
    "duration": 15,
    "start_time": "2023-03-25T15:12:20.130Z"
   },
   {
    "duration": 13,
    "start_time": "2023-03-25T15:17:08.974Z"
   },
   {
    "duration": 11,
    "start_time": "2023-03-25T15:19:13.148Z"
   },
   {
    "duration": 16,
    "start_time": "2023-03-25T15:19:41.515Z"
   },
   {
    "duration": 4,
    "start_time": "2023-03-25T15:19:43.171Z"
   },
   {
    "duration": 12,
    "start_time": "2023-03-25T15:19:45.404Z"
   },
   {
    "duration": 12,
    "start_time": "2023-03-25T15:19:52.484Z"
   },
   {
    "duration": 1421,
    "start_time": "2023-03-25T15:20:00.484Z"
   },
   {
    "duration": 3,
    "start_time": "2023-03-25T15:20:01.906Z"
   },
   {
    "duration": 736,
    "start_time": "2023-03-25T15:20:01.910Z"
   },
   {
    "duration": 139,
    "start_time": "2023-03-25T15:20:02.648Z"
   },
   {
    "duration": 54,
    "start_time": "2023-03-25T15:20:02.789Z"
   },
   {
    "duration": 6,
    "start_time": "2023-03-25T15:20:02.846Z"
   },
   {
    "duration": 18,
    "start_time": "2023-03-25T15:20:02.853Z"
   },
   {
    "duration": 272,
    "start_time": "2023-03-25T15:20:02.872Z"
   },
   {
    "duration": 6,
    "start_time": "2023-03-25T15:20:03.146Z"
   },
   {
    "duration": 17,
    "start_time": "2023-03-25T15:20:03.156Z"
   },
   {
    "duration": 15,
    "start_time": "2023-03-25T15:20:03.174Z"
   },
   {
    "duration": 14,
    "start_time": "2023-03-25T15:20:03.191Z"
   },
   {
    "duration": 8,
    "start_time": "2023-03-25T15:20:03.206Z"
   },
   {
    "duration": 53,
    "start_time": "2023-03-25T15:20:03.215Z"
   },
   {
    "duration": 10,
    "start_time": "2023-03-25T15:20:03.270Z"
   },
   {
    "duration": 16,
    "start_time": "2023-03-25T15:20:03.282Z"
   },
   {
    "duration": 5,
    "start_time": "2023-03-25T15:20:03.300Z"
   },
   {
    "duration": 35,
    "start_time": "2023-03-25T15:20:03.307Z"
   },
   {
    "duration": 20,
    "start_time": "2023-03-25T15:20:03.344Z"
   },
   {
    "duration": 19,
    "start_time": "2023-03-25T15:20:03.365Z"
   },
   {
    "duration": 21,
    "start_time": "2023-03-25T15:20:03.386Z"
   },
   {
    "duration": 15,
    "start_time": "2023-03-25T15:20:03.441Z"
   },
   {
    "duration": 12,
    "start_time": "2023-03-25T15:20:03.458Z"
   },
   {
    "duration": 22,
    "start_time": "2023-03-25T15:20:03.471Z"
   },
   {
    "duration": 8,
    "start_time": "2023-03-25T15:20:03.494Z"
   },
   {
    "duration": 41,
    "start_time": "2023-03-25T15:20:03.503Z"
   },
   {
    "duration": 12,
    "start_time": "2023-03-25T15:20:03.546Z"
   },
   {
    "duration": 12,
    "start_time": "2023-03-25T15:20:03.563Z"
   },
   {
    "duration": 11,
    "start_time": "2023-03-25T15:20:03.577Z"
   },
   {
    "duration": 857,
    "start_time": "2023-03-25T15:20:03.590Z"
   },
   {
    "duration": 20,
    "start_time": "2023-03-25T15:20:04.450Z"
   },
   {
    "duration": 154,
    "start_time": "2023-03-25T15:20:04.472Z"
   },
   {
    "duration": 0,
    "start_time": "2023-03-25T15:20:04.628Z"
   },
   {
    "duration": 0,
    "start_time": "2023-03-25T15:20:04.629Z"
   },
   {
    "duration": 0,
    "start_time": "2023-03-25T15:20:04.631Z"
   },
   {
    "duration": 15,
    "start_time": "2023-03-25T15:21:25.372Z"
   },
   {
    "duration": 4,
    "start_time": "2023-03-25T15:21:31.500Z"
   },
   {
    "duration": 12,
    "start_time": "2023-03-25T15:21:35.412Z"
   },
   {
    "duration": 1390,
    "start_time": "2023-03-25T15:21:51.492Z"
   },
   {
    "duration": 3,
    "start_time": "2023-03-25T15:21:52.883Z"
   },
   {
    "duration": 722,
    "start_time": "2023-03-25T15:21:52.887Z"
   },
   {
    "duration": 145,
    "start_time": "2023-03-25T15:21:53.611Z"
   },
   {
    "duration": 40,
    "start_time": "2023-03-25T15:21:53.757Z"
   },
   {
    "duration": 7,
    "start_time": "2023-03-25T15:21:53.799Z"
   },
   {
    "duration": 42,
    "start_time": "2023-03-25T15:21:53.807Z"
   },
   {
    "duration": 259,
    "start_time": "2023-03-25T15:21:53.850Z"
   },
   {
    "duration": 6,
    "start_time": "2023-03-25T15:21:54.111Z"
   },
   {
    "duration": 18,
    "start_time": "2023-03-25T15:21:54.119Z"
   },
   {
    "duration": 12,
    "start_time": "2023-03-25T15:21:54.140Z"
   },
   {
    "duration": 10,
    "start_time": "2023-03-25T15:21:54.154Z"
   },
   {
    "duration": 7,
    "start_time": "2023-03-25T15:21:54.166Z"
   },
   {
    "duration": 32,
    "start_time": "2023-03-25T15:21:54.174Z"
   },
   {
    "duration": 35,
    "start_time": "2023-03-25T15:21:54.207Z"
   },
   {
    "duration": 23,
    "start_time": "2023-03-25T15:21:54.243Z"
   },
   {
    "duration": 5,
    "start_time": "2023-03-25T15:21:54.267Z"
   },
   {
    "duration": 11,
    "start_time": "2023-03-25T15:21:54.273Z"
   },
   {
    "duration": 17,
    "start_time": "2023-03-25T15:21:54.285Z"
   },
   {
    "duration": 38,
    "start_time": "2023-03-25T15:21:54.304Z"
   },
   {
    "duration": 16,
    "start_time": "2023-03-25T15:21:54.344Z"
   },
   {
    "duration": 9,
    "start_time": "2023-03-25T15:21:54.362Z"
   },
   {
    "duration": 8,
    "start_time": "2023-03-25T15:21:54.373Z"
   },
   {
    "duration": 17,
    "start_time": "2023-03-25T15:21:54.383Z"
   },
   {
    "duration": 39,
    "start_time": "2023-03-25T15:21:54.401Z"
   },
   {
    "duration": 12,
    "start_time": "2023-03-25T15:21:54.442Z"
   },
   {
    "duration": 10,
    "start_time": "2023-03-25T15:21:54.455Z"
   },
   {
    "duration": 9,
    "start_time": "2023-03-25T15:21:54.469Z"
   },
   {
    "duration": 10,
    "start_time": "2023-03-25T15:21:54.480Z"
   },
   {
    "duration": 858,
    "start_time": "2023-03-25T15:21:54.491Z"
   },
   {
    "duration": 14,
    "start_time": "2023-03-25T15:21:55.350Z"
   },
   {
    "duration": 20,
    "start_time": "2023-03-25T15:21:55.366Z"
   },
   {
    "duration": 4,
    "start_time": "2023-03-25T15:21:55.387Z"
   },
   {
    "duration": 137,
    "start_time": "2023-03-25T15:21:55.393Z"
   },
   {
    "duration": 0,
    "start_time": "2023-03-25T15:21:55.531Z"
   },
   {
    "duration": 41,
    "start_time": "2023-03-25T15:28:05.101Z"
   },
   {
    "duration": 23,
    "start_time": "2023-03-25T15:28:38.332Z"
   },
   {
    "duration": 21,
    "start_time": "2023-03-25T15:28:54.492Z"
   },
   {
    "duration": 6,
    "start_time": "2023-03-25T15:28:57.460Z"
   },
   {
    "duration": 11,
    "start_time": "2023-03-25T15:29:45.157Z"
   },
   {
    "duration": 10,
    "start_time": "2023-03-25T15:29:57.205Z"
   },
   {
    "duration": 3,
    "start_time": "2023-03-25T15:30:47.685Z"
   },
   {
    "duration": 967,
    "start_time": "2023-03-25T15:30:53.077Z"
   },
   {
    "duration": 10,
    "start_time": "2023-03-25T15:32:02.791Z"
   },
   {
    "duration": 3333,
    "start_time": "2023-03-25T15:32:09.988Z"
   },
   {
    "duration": 10,
    "start_time": "2023-03-25T15:33:49.694Z"
   },
   {
    "duration": 51028,
    "start_time": "2023-03-25T15:34:46.215Z"
   },
   {
    "duration": 11,
    "start_time": "2023-03-25T15:35:37.245Z"
   },
   {
    "duration": 50912,
    "start_time": "2023-03-25T15:37:21.095Z"
   },
   {
    "duration": 3277,
    "start_time": "2023-03-25T15:38:12.009Z"
   },
   {
    "duration": 8,
    "start_time": "2023-03-25T15:38:15.288Z"
   },
   {
    "duration": 16,
    "start_time": "2023-03-25T15:38:15.297Z"
   },
   {
    "duration": 4,
    "start_time": "2023-03-25T15:38:18.215Z"
   },
   {
    "duration": 3,
    "start_time": "2023-03-25T15:38:26.255Z"
   },
   {
    "duration": 51054,
    "start_time": "2023-03-25T15:38:28.863Z"
   },
   {
    "duration": 13,
    "start_time": "2023-03-25T15:42:21.496Z"
   },
   {
    "duration": 15,
    "start_time": "2023-03-25T15:42:24.872Z"
   },
   {
    "duration": 5,
    "start_time": "2023-03-25T15:42:26.305Z"
   },
   {
    "duration": 3,
    "start_time": "2023-03-25T15:42:27.120Z"
   },
   {
    "duration": 53363,
    "start_time": "2023-03-25T15:42:28.703Z"
   },
   {
    "duration": 3473,
    "start_time": "2023-03-25T15:43:22.069Z"
   },
   {
    "duration": 17,
    "start_time": "2023-03-25T15:45:35.985Z"
   },
   {
    "duration": 11,
    "start_time": "2023-03-25T15:45:37.209Z"
   },
   {
    "duration": 4,
    "start_time": "2023-03-25T15:45:38.564Z"
   },
   {
    "duration": 2,
    "start_time": "2023-03-25T15:45:39.229Z"
   },
   {
    "duration": 17027,
    "start_time": "2023-03-25T15:45:41.208Z"
   },
   {
    "duration": 1170,
    "start_time": "2023-03-25T15:45:58.240Z"
   },
   {
    "duration": 2454,
    "start_time": "2023-03-25T15:46:16.346Z"
   },
   {
    "duration": 5503,
    "start_time": "2023-03-25T15:46:27.306Z"
   },
   {
    "duration": 19,
    "start_time": "2023-03-25T15:47:32.189Z"
   },
   {
    "duration": 10,
    "start_time": "2023-03-25T15:47:33.084Z"
   },
   {
    "duration": 5,
    "start_time": "2023-03-25T15:47:34.508Z"
   },
   {
    "duration": 3,
    "start_time": "2023-03-25T15:47:35.109Z"
   },
   {
    "duration": 5685,
    "start_time": "2023-03-25T15:47:38.372Z"
   },
   {
    "duration": 218,
    "start_time": "2023-03-25T15:47:55.780Z"
   },
   {
    "duration": 20,
    "start_time": "2023-03-25T15:49:09.988Z"
   },
   {
    "duration": 9,
    "start_time": "2023-03-25T15:49:12.822Z"
   },
   {
    "duration": 6,
    "start_time": "2023-03-25T15:49:13.950Z"
   },
   {
    "duration": 3,
    "start_time": "2023-03-25T15:49:15.534Z"
   },
   {
    "duration": 5737,
    "start_time": "2023-03-25T15:49:16.925Z"
   },
   {
    "duration": 201,
    "start_time": "2023-03-25T15:49:22.664Z"
   },
   {
    "duration": 1842,
    "start_time": "2023-03-25T15:50:01.918Z"
   },
   {
    "duration": 99475,
    "start_time": "2023-03-25T15:56:09.439Z"
   },
   {
    "duration": 18476,
    "start_time": "2023-03-25T15:57:48.916Z"
   },
   {
    "duration": 4459,
    "start_time": "2023-03-25T15:58:18.038Z"
   },
   {
    "duration": 30,
    "start_time": "2023-03-25T15:59:47.535Z"
   },
   {
    "duration": 24,
    "start_time": "2023-03-25T16:00:31.545Z"
   },
   {
    "duration": 17,
    "start_time": "2023-03-25T16:00:39.624Z"
   },
   {
    "duration": 11,
    "start_time": "2023-03-25T16:04:15.827Z"
   },
   {
    "duration": 904,
    "start_time": "2023-03-25T16:13:31.968Z"
   },
   {
    "duration": 933,
    "start_time": "2023-03-25T16:15:25.522Z"
   },
   {
    "duration": 10,
    "start_time": "2023-03-25T16:17:38.362Z"
   },
   {
    "duration": 5,
    "start_time": "2023-03-25T16:18:17.466Z"
   },
   {
    "duration": 12,
    "start_time": "2023-03-25T16:18:24.555Z"
   },
   {
    "duration": 17,
    "start_time": "2023-03-25T16:18:49.147Z"
   },
   {
    "duration": 10,
    "start_time": "2023-03-25T16:21:46.587Z"
   },
   {
    "duration": 12,
    "start_time": "2023-03-25T16:22:06.715Z"
   },
   {
    "duration": 15,
    "start_time": "2023-03-25T16:24:43.652Z"
   },
   {
    "duration": 5,
    "start_time": "2023-03-25T16:24:50.891Z"
   },
   {
    "duration": 10,
    "start_time": "2023-03-25T16:25:29.180Z"
   },
   {
    "duration": 8,
    "start_time": "2023-03-25T16:25:38.987Z"
   },
   {
    "duration": 1411,
    "start_time": "2023-03-25T16:31:32.763Z"
   },
   {
    "duration": 3,
    "start_time": "2023-03-25T16:31:34.176Z"
   },
   {
    "duration": 693,
    "start_time": "2023-03-25T16:31:34.180Z"
   },
   {
    "duration": 140,
    "start_time": "2023-03-25T16:31:34.874Z"
   },
   {
    "duration": 54,
    "start_time": "2023-03-25T16:31:35.016Z"
   },
   {
    "duration": 7,
    "start_time": "2023-03-25T16:31:35.072Z"
   },
   {
    "duration": 19,
    "start_time": "2023-03-25T16:31:35.080Z"
   },
   {
    "duration": 277,
    "start_time": "2023-03-25T16:31:35.100Z"
   },
   {
    "duration": 7,
    "start_time": "2023-03-25T16:31:35.378Z"
   },
   {
    "duration": 6,
    "start_time": "2023-03-25T16:31:35.386Z"
   },
   {
    "duration": 10,
    "start_time": "2023-03-25T16:31:35.394Z"
   },
   {
    "duration": 9,
    "start_time": "2023-03-25T16:31:35.405Z"
   },
   {
    "duration": 7,
    "start_time": "2023-03-25T16:31:35.439Z"
   },
   {
    "duration": 31,
    "start_time": "2023-03-25T16:31:35.449Z"
   },
   {
    "duration": 8,
    "start_time": "2023-03-25T16:31:35.482Z"
   },
   {
    "duration": 12,
    "start_time": "2023-03-25T16:31:35.491Z"
   },
   {
    "duration": 4,
    "start_time": "2023-03-25T16:31:35.505Z"
   },
   {
    "duration": 11,
    "start_time": "2023-03-25T16:31:35.540Z"
   },
   {
    "duration": 17,
    "start_time": "2023-03-25T16:31:35.553Z"
   },
   {
    "duration": 17,
    "start_time": "2023-03-25T16:31:35.572Z"
   },
   {
    "duration": 17,
    "start_time": "2023-03-25T16:31:35.590Z"
   },
   {
    "duration": 38,
    "start_time": "2023-03-25T16:31:35.609Z"
   },
   {
    "duration": 10,
    "start_time": "2023-03-25T16:31:35.649Z"
   },
   {
    "duration": 18,
    "start_time": "2023-03-25T16:31:35.660Z"
   },
   {
    "duration": 7,
    "start_time": "2023-03-25T16:31:35.679Z"
   },
   {
    "duration": 9,
    "start_time": "2023-03-25T16:31:35.688Z"
   },
   {
    "duration": 45,
    "start_time": "2023-03-25T16:31:35.698Z"
   },
   {
    "duration": 9,
    "start_time": "2023-03-25T16:31:35.744Z"
   },
   {
    "duration": 8,
    "start_time": "2023-03-25T16:31:35.756Z"
   },
   {
    "duration": 866,
    "start_time": "2023-03-25T16:31:35.765Z"
   },
   {
    "duration": 27,
    "start_time": "2023-03-25T16:31:36.632Z"
   },
   {
    "duration": 20,
    "start_time": "2023-03-25T16:31:36.665Z"
   },
   {
    "duration": 6,
    "start_time": "2023-03-25T16:31:36.687Z"
   },
   {
    "duration": 5,
    "start_time": "2023-03-25T16:31:36.695Z"
   },
   {
    "duration": 16029,
    "start_time": "2023-03-25T16:31:36.702Z"
   },
   {
    "duration": 513,
    "start_time": "2023-03-25T16:31:52.733Z"
   },
   {
    "duration": 894,
    "start_time": "2023-03-25T16:31:53.247Z"
   },
   {
    "duration": 280295,
    "start_time": "2023-03-25T16:31:54.145Z"
   },
   {
    "duration": 11591,
    "start_time": "2023-03-25T16:36:34.442Z"
   },
   {
    "duration": 2386,
    "start_time": "2023-03-25T16:36:46.034Z"
   },
   {
    "duration": 16,
    "start_time": "2023-03-25T16:36:48.425Z"
   },
   {
    "duration": 52,
    "start_time": "2023-03-26T06:52:47.188Z"
   },
   {
    "duration": 1682,
    "start_time": "2023-03-26T06:53:59.712Z"
   },
   {
    "duration": 2,
    "start_time": "2023-03-26T06:54:01.397Z"
   },
   {
    "duration": 2057,
    "start_time": "2023-03-26T06:54:01.401Z"
   },
   {
    "duration": 129,
    "start_time": "2023-03-26T06:54:03.460Z"
   },
   {
    "duration": 57,
    "start_time": "2023-03-26T06:54:03.591Z"
   },
   {
    "duration": 7,
    "start_time": "2023-03-26T06:54:03.650Z"
   },
   {
    "duration": 26,
    "start_time": "2023-03-26T06:54:03.658Z"
   },
   {
    "duration": 279,
    "start_time": "2023-03-26T06:54:03.686Z"
   },
   {
    "duration": 5,
    "start_time": "2023-03-26T06:54:03.967Z"
   },
   {
    "duration": 5,
    "start_time": "2023-03-26T06:54:03.975Z"
   },
   {
    "duration": 11,
    "start_time": "2023-03-26T06:54:03.982Z"
   },
   {
    "duration": 9,
    "start_time": "2023-03-26T06:54:03.994Z"
   },
   {
    "duration": 38,
    "start_time": "2023-03-26T06:54:04.004Z"
   },
   {
    "duration": 32,
    "start_time": "2023-03-26T06:54:04.044Z"
   },
   {
    "duration": 8,
    "start_time": "2023-03-26T06:54:04.078Z"
   },
   {
    "duration": 12,
    "start_time": "2023-03-26T06:54:04.088Z"
   },
   {
    "duration": 5,
    "start_time": "2023-03-26T06:54:04.101Z"
   },
   {
    "duration": 41,
    "start_time": "2023-03-26T06:54:04.107Z"
   },
   {
    "duration": 22,
    "start_time": "2023-03-26T06:54:04.149Z"
   },
   {
    "duration": 23,
    "start_time": "2023-03-26T06:54:04.172Z"
   },
   {
    "duration": 47,
    "start_time": "2023-03-26T06:54:04.197Z"
   },
   {
    "duration": 12,
    "start_time": "2023-03-26T06:54:04.245Z"
   },
   {
    "duration": 15,
    "start_time": "2023-03-26T06:54:04.259Z"
   },
   {
    "duration": 20,
    "start_time": "2023-03-26T06:54:04.276Z"
   },
   {
    "duration": 954,
    "start_time": "2023-03-26T06:54:04.297Z"
   },
   {
    "duration": 7,
    "start_time": "2023-03-26T06:54:05.253Z"
   },
   {
    "duration": 30,
    "start_time": "2023-03-26T06:54:05.262Z"
   },
   {
    "duration": 26,
    "start_time": "2023-03-26T06:54:05.296Z"
   },
   {
    "duration": 11,
    "start_time": "2023-03-26T06:54:05.325Z"
   },
   {
    "duration": 13,
    "start_time": "2023-03-26T06:54:05.338Z"
   },
   {
    "duration": 766,
    "start_time": "2023-03-26T06:54:05.352Z"
   },
   {
    "duration": 35,
    "start_time": "2023-03-26T06:54:06.121Z"
   },
   {
    "duration": 17,
    "start_time": "2023-03-26T06:54:06.158Z"
   },
   {
    "duration": 6,
    "start_time": "2023-03-26T06:54:06.177Z"
   },
   {
    "duration": 12,
    "start_time": "2023-03-26T06:54:06.185Z"
   },
   {
    "duration": 16049,
    "start_time": "2023-03-26T06:54:06.199Z"
   },
   {
    "duration": 633,
    "start_time": "2023-03-26T06:54:22.249Z"
   },
   {
    "duration": 963,
    "start_time": "2023-03-26T06:54:22.884Z"
   },
   {
    "duration": 278560,
    "start_time": "2023-03-26T06:54:23.849Z"
   },
   {
    "duration": 11645,
    "start_time": "2023-03-26T06:59:02.411Z"
   },
   {
    "duration": 2365,
    "start_time": "2023-03-26T06:59:14.057Z"
   },
   {
    "duration": 6,
    "start_time": "2023-03-26T06:59:16.423Z"
   },
   {
    "duration": 78,
    "start_time": "2023-03-26T06:59:16.441Z"
   },
   {
    "duration": 0,
    "start_time": "2023-03-26T06:59:16.523Z"
   },
   {
    "duration": 883,
    "start_time": "2023-03-26T06:59:27.749Z"
   },
   {
    "duration": 84,
    "start_time": "2023-03-26T06:59:42.518Z"
   },
   {
    "duration": 919,
    "start_time": "2023-03-26T06:59:54.925Z"
   },
   {
    "duration": 842,
    "start_time": "2023-03-26T07:00:00.339Z"
   },
   {
    "duration": 906,
    "start_time": "2023-03-26T07:00:48.998Z"
   },
   {
    "duration": 16,
    "start_time": "2023-03-26T07:06:01.506Z"
   },
   {
    "duration": 1230,
    "start_time": "2023-03-26T07:14:40.237Z"
   },
   {
    "duration": 1086,
    "start_time": "2023-03-26T07:16:39.207Z"
   },
   {
    "duration": 13,
    "start_time": "2023-03-26T07:18:13.527Z"
   },
   {
    "duration": 13,
    "start_time": "2023-03-26T07:18:39.904Z"
   },
   {
    "duration": 19,
    "start_time": "2023-03-26T07:19:03.144Z"
   },
   {
    "duration": 12,
    "start_time": "2023-03-26T07:19:12.152Z"
   },
   {
    "duration": 17,
    "start_time": "2023-03-26T07:19:21.992Z"
   },
   {
    "duration": 17,
    "start_time": "2023-03-26T07:19:36.169Z"
   },
   {
    "duration": 16,
    "start_time": "2023-03-26T07:19:44.416Z"
   },
   {
    "duration": 15,
    "start_time": "2023-03-26T07:20:47.705Z"
   },
   {
    "duration": 13,
    "start_time": "2023-03-26T07:21:01.585Z"
   },
   {
    "duration": 14,
    "start_time": "2023-03-26T07:21:18.377Z"
   },
   {
    "duration": 16,
    "start_time": "2023-03-26T07:21:18.568Z"
   },
   {
    "duration": 15,
    "start_time": "2023-03-26T07:21:22.729Z"
   },
   {
    "duration": 69,
    "start_time": "2023-03-26T07:21:37.697Z"
   },
   {
    "duration": 13,
    "start_time": "2023-03-26T07:21:58.849Z"
   },
   {
    "duration": 1455,
    "start_time": "2023-03-26T07:22:25.243Z"
   },
   {
    "duration": 3,
    "start_time": "2023-03-26T07:22:26.700Z"
   },
   {
    "duration": 664,
    "start_time": "2023-03-26T07:22:26.705Z"
   },
   {
    "duration": 134,
    "start_time": "2023-03-26T07:22:27.371Z"
   },
   {
    "duration": 53,
    "start_time": "2023-03-26T07:22:27.507Z"
   },
   {
    "duration": 5,
    "start_time": "2023-03-26T07:22:27.562Z"
   },
   {
    "duration": 24,
    "start_time": "2023-03-26T07:22:27.569Z"
   },
   {
    "duration": 256,
    "start_time": "2023-03-26T07:22:27.594Z"
   },
   {
    "duration": 6,
    "start_time": "2023-03-26T07:22:27.851Z"
   },
   {
    "duration": 9,
    "start_time": "2023-03-26T07:22:27.859Z"
   },
   {
    "duration": 13,
    "start_time": "2023-03-26T07:22:27.869Z"
   },
   {
    "duration": 12,
    "start_time": "2023-03-26T07:22:27.884Z"
   },
   {
    "duration": 6,
    "start_time": "2023-03-26T07:22:27.898Z"
   },
   {
    "duration": 56,
    "start_time": "2023-03-26T07:22:27.907Z"
   },
   {
    "duration": 7,
    "start_time": "2023-03-26T07:22:27.964Z"
   },
   {
    "duration": 12,
    "start_time": "2023-03-26T07:22:27.972Z"
   },
   {
    "duration": 4,
    "start_time": "2023-03-26T07:22:27.986Z"
   },
   {
    "duration": 15,
    "start_time": "2023-03-26T07:22:27.991Z"
   },
   {
    "duration": 41,
    "start_time": "2023-03-26T07:22:28.008Z"
   },
   {
    "duration": 17,
    "start_time": "2023-03-26T07:22:28.050Z"
   },
   {
    "duration": 16,
    "start_time": "2023-03-26T07:22:28.068Z"
   },
   {
    "duration": 8,
    "start_time": "2023-03-26T07:22:28.085Z"
   },
   {
    "duration": 8,
    "start_time": "2023-03-26T07:22:28.095Z"
   },
   {
    "duration": 48,
    "start_time": "2023-03-26T07:22:28.105Z"
   },
   {
    "duration": 937,
    "start_time": "2023-03-26T07:22:28.154Z"
   },
   {
    "duration": 7,
    "start_time": "2023-03-26T07:22:29.092Z"
   },
   {
    "duration": 10,
    "start_time": "2023-03-26T07:22:29.101Z"
   },
   {
    "duration": 10,
    "start_time": "2023-03-26T07:22:29.113Z"
   },
   {
    "duration": 8,
    "start_time": "2023-03-26T07:22:29.142Z"
   },
   {
    "duration": 12,
    "start_time": "2023-03-26T07:22:29.151Z"
   },
   {
    "duration": 774,
    "start_time": "2023-03-26T07:22:29.164Z"
   },
   {
    "duration": 15,
    "start_time": "2023-03-26T07:22:29.940Z"
   },
   {
    "duration": 12,
    "start_time": "2023-03-26T07:22:29.957Z"
   },
   {
    "duration": 37,
    "start_time": "2023-03-26T07:22:29.971Z"
   },
   {
    "duration": 30,
    "start_time": "2023-03-26T07:22:30.010Z"
   },
   {
    "duration": 17,
    "start_time": "2023-03-26T07:22:30.042Z"
   },
   {
    "duration": 9,
    "start_time": "2023-03-26T07:22:30.061Z"
   },
   {
    "duration": 31,
    "start_time": "2023-03-26T07:22:30.072Z"
   },
   {
    "duration": 15458,
    "start_time": "2023-03-26T07:22:30.105Z"
   },
   {
    "duration": 495,
    "start_time": "2023-03-26T07:22:45.564Z"
   },
   {
    "duration": 985,
    "start_time": "2023-03-26T07:22:46.062Z"
   },
   {
    "duration": 1581,
    "start_time": "2023-03-26T07:25:01.231Z"
   },
   {
    "duration": 3,
    "start_time": "2023-03-26T07:25:02.814Z"
   },
   {
    "duration": 656,
    "start_time": "2023-03-26T07:25:02.818Z"
   },
   {
    "duration": 140,
    "start_time": "2023-03-26T07:25:03.475Z"
   },
   {
    "duration": 50,
    "start_time": "2023-03-26T07:25:03.617Z"
   },
   {
    "duration": 5,
    "start_time": "2023-03-26T07:25:03.669Z"
   },
   {
    "duration": 18,
    "start_time": "2023-03-26T07:25:03.676Z"
   },
   {
    "duration": 267,
    "start_time": "2023-03-26T07:25:03.696Z"
   },
   {
    "duration": 6,
    "start_time": "2023-03-26T07:25:03.965Z"
   },
   {
    "duration": 42,
    "start_time": "2023-03-26T07:25:03.972Z"
   },
   {
    "duration": 28,
    "start_time": "2023-03-26T07:25:04.016Z"
   },
   {
    "duration": 13,
    "start_time": "2023-03-26T07:25:04.045Z"
   },
   {
    "duration": 6,
    "start_time": "2023-03-26T07:25:04.060Z"
   },
   {
    "duration": 31,
    "start_time": "2023-03-26T07:25:04.069Z"
   },
   {
    "duration": 7,
    "start_time": "2023-03-26T07:25:04.102Z"
   },
   {
    "duration": 36,
    "start_time": "2023-03-26T07:25:04.111Z"
   },
   {
    "duration": 4,
    "start_time": "2023-03-26T07:25:04.149Z"
   },
   {
    "duration": 27,
    "start_time": "2023-03-26T07:25:04.154Z"
   },
   {
    "duration": 17,
    "start_time": "2023-03-26T07:25:04.183Z"
   },
   {
    "duration": 19,
    "start_time": "2023-03-26T07:25:04.202Z"
   },
   {
    "duration": 33,
    "start_time": "2023-03-26T07:25:04.222Z"
   },
   {
    "duration": 9,
    "start_time": "2023-03-26T07:25:04.257Z"
   },
   {
    "duration": 9,
    "start_time": "2023-03-26T07:25:04.267Z"
   },
   {
    "duration": 18,
    "start_time": "2023-03-26T07:25:04.277Z"
   },
   {
    "duration": 976,
    "start_time": "2023-03-26T07:25:04.296Z"
   },
   {
    "duration": 7,
    "start_time": "2023-03-26T07:25:05.274Z"
   },
   {
    "duration": 10,
    "start_time": "2023-03-26T07:25:05.282Z"
   },
   {
    "duration": 9,
    "start_time": "2023-03-26T07:25:05.294Z"
   },
   {
    "duration": 9,
    "start_time": "2023-03-26T07:25:05.304Z"
   },
   {
    "duration": 10,
    "start_time": "2023-03-26T07:25:05.341Z"
   },
   {
    "duration": 754,
    "start_time": "2023-03-26T07:25:05.352Z"
   },
   {
    "duration": 17,
    "start_time": "2023-03-26T07:25:06.108Z"
   },
   {
    "duration": 24,
    "start_time": "2023-03-26T07:25:06.127Z"
   },
   {
    "duration": 32,
    "start_time": "2023-03-26T07:25:06.153Z"
   },
   {
    "duration": 18,
    "start_time": "2023-03-26T07:25:06.187Z"
   },
   {
    "duration": 35,
    "start_time": "2023-03-26T07:25:06.207Z"
   },
   {
    "duration": 6,
    "start_time": "2023-03-26T07:25:06.244Z"
   },
   {
    "duration": 7,
    "start_time": "2023-03-26T07:25:06.252Z"
   },
   {
    "duration": 15560,
    "start_time": "2023-03-26T07:25:06.261Z"
   },
   {
    "duration": 496,
    "start_time": "2023-03-26T07:25:21.823Z"
   },
   {
    "duration": 829,
    "start_time": "2023-03-26T07:25:22.323Z"
   },
   {
    "duration": 1385,
    "start_time": "2023-03-26T07:28:20.163Z"
   },
   {
    "duration": 3,
    "start_time": "2023-03-26T07:28:21.550Z"
   },
   {
    "duration": 647,
    "start_time": "2023-03-26T07:28:21.554Z"
   },
   {
    "duration": 138,
    "start_time": "2023-03-26T07:28:22.203Z"
   },
   {
    "duration": 38,
    "start_time": "2023-03-26T07:28:22.343Z"
   },
   {
    "duration": 6,
    "start_time": "2023-03-26T07:28:22.382Z"
   },
   {
    "duration": 21,
    "start_time": "2023-03-26T07:28:22.390Z"
   },
   {
    "duration": 278,
    "start_time": "2023-03-26T07:28:22.413Z"
   },
   {
    "duration": 6,
    "start_time": "2023-03-26T07:28:22.693Z"
   },
   {
    "duration": 7,
    "start_time": "2023-03-26T07:28:22.700Z"
   },
   {
    "duration": 13,
    "start_time": "2023-03-26T07:28:22.708Z"
   },
   {
    "duration": 8,
    "start_time": "2023-03-26T07:28:22.740Z"
   },
   {
    "duration": 7,
    "start_time": "2023-03-26T07:28:22.750Z"
   },
   {
    "duration": 29,
    "start_time": "2023-03-26T07:28:22.760Z"
   },
   {
    "duration": 8,
    "start_time": "2023-03-26T07:28:22.791Z"
   },
   {
    "duration": 43,
    "start_time": "2023-03-26T07:28:22.800Z"
   },
   {
    "duration": 4,
    "start_time": "2023-03-26T07:28:22.845Z"
   },
   {
    "duration": 27,
    "start_time": "2023-03-26T07:28:22.851Z"
   },
   {
    "duration": 39,
    "start_time": "2023-03-26T07:28:22.880Z"
   },
   {
    "duration": 18,
    "start_time": "2023-03-26T07:28:22.921Z"
   },
   {
    "duration": 21,
    "start_time": "2023-03-26T07:28:22.940Z"
   },
   {
    "duration": 10,
    "start_time": "2023-03-26T07:28:22.963Z"
   },
   {
    "duration": 12,
    "start_time": "2023-03-26T07:28:22.975Z"
   },
   {
    "duration": 19,
    "start_time": "2023-03-26T07:28:22.988Z"
   },
   {
    "duration": 944,
    "start_time": "2023-03-26T07:28:23.009Z"
   },
   {
    "duration": 8,
    "start_time": "2023-03-26T07:28:23.955Z"
   },
   {
    "duration": 10,
    "start_time": "2023-03-26T07:28:23.965Z"
   },
   {
    "duration": 9,
    "start_time": "2023-03-26T07:28:23.977Z"
   },
   {
    "duration": 9,
    "start_time": "2023-03-26T07:28:23.988Z"
   },
   {
    "duration": 45,
    "start_time": "2023-03-26T07:28:23.999Z"
   },
   {
    "duration": 756,
    "start_time": "2023-03-26T07:28:24.046Z"
   },
   {
    "duration": 16,
    "start_time": "2023-03-26T07:28:24.804Z"
   },
   {
    "duration": 29,
    "start_time": "2023-03-26T07:28:24.822Z"
   },
   {
    "duration": 1470,
    "start_time": "2023-03-26T07:28:24.853Z"
   },
   {
    "duration": 0,
    "start_time": "2023-03-26T07:28:26.325Z"
   },
   {
    "duration": 0,
    "start_time": "2023-03-26T07:28:26.327Z"
   },
   {
    "duration": 0,
    "start_time": "2023-03-26T07:28:26.328Z"
   },
   {
    "duration": 0,
    "start_time": "2023-03-26T07:28:26.330Z"
   },
   {
    "duration": 0,
    "start_time": "2023-03-26T07:28:26.331Z"
   },
   {
    "duration": 0,
    "start_time": "2023-03-26T07:28:26.333Z"
   },
   {
    "duration": 0,
    "start_time": "2023-03-26T07:28:26.334Z"
   },
   {
    "duration": 0,
    "start_time": "2023-03-26T07:28:26.335Z"
   },
   {
    "duration": 0,
    "start_time": "2023-03-26T07:28:26.337Z"
   },
   {
    "duration": 0,
    "start_time": "2023-03-26T07:28:26.338Z"
   },
   {
    "duration": 0,
    "start_time": "2023-03-26T07:28:26.340Z"
   },
   {
    "duration": 33,
    "start_time": "2023-03-26T07:28:42.469Z"
   },
   {
    "duration": 1461,
    "start_time": "2023-03-26T07:28:57.808Z"
   },
   {
    "duration": 2,
    "start_time": "2023-03-26T07:28:59.271Z"
   },
   {
    "duration": 712,
    "start_time": "2023-03-26T07:28:59.275Z"
   },
   {
    "duration": 157,
    "start_time": "2023-03-26T07:28:59.990Z"
   },
   {
    "duration": 58,
    "start_time": "2023-03-26T07:29:00.150Z"
   },
   {
    "duration": 8,
    "start_time": "2023-03-26T07:29:00.211Z"
   },
   {
    "duration": 50,
    "start_time": "2023-03-26T07:29:00.221Z"
   },
   {
    "duration": 284,
    "start_time": "2023-03-26T07:29:00.272Z"
   },
   {
    "duration": 8,
    "start_time": "2023-03-26T07:29:00.559Z"
   },
   {
    "duration": 11,
    "start_time": "2023-03-26T07:29:00.570Z"
   },
   {
    "duration": 49,
    "start_time": "2023-03-26T07:29:00.583Z"
   },
   {
    "duration": 11,
    "start_time": "2023-03-26T07:29:00.634Z"
   },
   {
    "duration": 21,
    "start_time": "2023-03-26T07:29:00.646Z"
   },
   {
    "duration": 34,
    "start_time": "2023-03-26T07:29:00.669Z"
   },
   {
    "duration": 15,
    "start_time": "2023-03-26T07:29:00.704Z"
   },
   {
    "duration": 23,
    "start_time": "2023-03-26T07:29:00.721Z"
   },
   {
    "duration": 6,
    "start_time": "2023-03-26T07:29:00.746Z"
   },
   {
    "duration": 18,
    "start_time": "2023-03-26T07:29:00.757Z"
   },
   {
    "duration": 19,
    "start_time": "2023-03-26T07:29:00.777Z"
   },
   {
    "duration": 19,
    "start_time": "2023-03-26T07:29:00.799Z"
   },
   {
    "duration": 43,
    "start_time": "2023-03-26T07:29:00.819Z"
   },
   {
    "duration": 10,
    "start_time": "2023-03-26T07:29:00.864Z"
   },
   {
    "duration": 30,
    "start_time": "2023-03-26T07:29:00.876Z"
   },
   {
    "duration": 54,
    "start_time": "2023-03-26T07:29:00.907Z"
   },
   {
    "duration": 1027,
    "start_time": "2023-03-26T07:29:00.963Z"
   },
   {
    "duration": 7,
    "start_time": "2023-03-26T07:29:01.992Z"
   },
   {
    "duration": 53,
    "start_time": "2023-03-26T07:29:02.000Z"
   },
   {
    "duration": 31,
    "start_time": "2023-03-26T07:29:02.057Z"
   },
   {
    "duration": 65,
    "start_time": "2023-03-26T07:29:02.089Z"
   },
   {
    "duration": 47,
    "start_time": "2023-03-26T07:29:02.156Z"
   },
   {
    "duration": 863,
    "start_time": "2023-03-26T07:29:02.205Z"
   },
   {
    "duration": 17,
    "start_time": "2023-03-26T07:29:03.070Z"
   },
   {
    "duration": 14,
    "start_time": "2023-03-26T07:29:03.088Z"
   },
   {
    "duration": 59,
    "start_time": "2023-03-26T07:29:03.104Z"
   },
   {
    "duration": 17,
    "start_time": "2023-03-26T07:29:03.165Z"
   },
   {
    "duration": 15,
    "start_time": "2023-03-26T07:29:03.184Z"
   },
   {
    "duration": 6,
    "start_time": "2023-03-26T07:29:03.200Z"
   },
   {
    "duration": 8,
    "start_time": "2023-03-26T07:29:03.208Z"
   },
   {
    "duration": 16256,
    "start_time": "2023-03-26T07:29:03.218Z"
   },
   {
    "duration": 517,
    "start_time": "2023-03-26T07:29:19.475Z"
   },
   {
    "duration": 3174,
    "start_time": "2023-03-26T07:29:19.994Z"
   },
   {
    "duration": 1446,
    "start_time": "2023-03-26T07:30:57.859Z"
   },
   {
    "duration": 2,
    "start_time": "2023-03-26T07:30:59.307Z"
   },
   {
    "duration": 703,
    "start_time": "2023-03-26T07:30:59.310Z"
   },
   {
    "duration": 134,
    "start_time": "2023-03-26T07:31:00.016Z"
   },
   {
    "duration": 38,
    "start_time": "2023-03-26T07:31:00.152Z"
   },
   {
    "duration": 6,
    "start_time": "2023-03-26T07:31:00.192Z"
   },
   {
    "duration": 41,
    "start_time": "2023-03-26T07:31:00.200Z"
   },
   {
    "duration": 265,
    "start_time": "2023-03-26T07:31:00.243Z"
   },
   {
    "duration": 8,
    "start_time": "2023-03-26T07:31:00.510Z"
   },
   {
    "duration": 30,
    "start_time": "2023-03-26T07:31:00.521Z"
   },
   {
    "duration": 30,
    "start_time": "2023-03-26T07:31:00.553Z"
   },
   {
    "duration": 35,
    "start_time": "2023-03-26T07:31:00.584Z"
   },
   {
    "duration": 32,
    "start_time": "2023-03-26T07:31:00.620Z"
   },
   {
    "duration": 54,
    "start_time": "2023-03-26T07:31:00.654Z"
   },
   {
    "duration": 22,
    "start_time": "2023-03-26T07:31:00.710Z"
   },
   {
    "duration": 28,
    "start_time": "2023-03-26T07:31:00.733Z"
   },
   {
    "duration": 8,
    "start_time": "2023-03-26T07:31:00.762Z"
   },
   {
    "duration": 38,
    "start_time": "2023-03-26T07:31:00.771Z"
   },
   {
    "duration": 26,
    "start_time": "2023-03-26T07:31:00.810Z"
   },
   {
    "duration": 24,
    "start_time": "2023-03-26T07:31:00.838Z"
   },
   {
    "duration": 25,
    "start_time": "2023-03-26T07:31:00.864Z"
   },
   {
    "duration": 30,
    "start_time": "2023-03-26T07:31:00.890Z"
   },
   {
    "duration": 33,
    "start_time": "2023-03-26T07:31:00.922Z"
   },
   {
    "duration": 23,
    "start_time": "2023-03-26T07:31:00.958Z"
   },
   {
    "duration": 979,
    "start_time": "2023-03-26T07:31:00.982Z"
   },
   {
    "duration": 8,
    "start_time": "2023-03-26T07:31:01.963Z"
   },
   {
    "duration": 36,
    "start_time": "2023-03-26T07:31:01.972Z"
   },
   {
    "duration": 15,
    "start_time": "2023-03-26T07:31:02.012Z"
   },
   {
    "duration": 34,
    "start_time": "2023-03-26T07:31:02.028Z"
   },
   {
    "duration": 29,
    "start_time": "2023-03-26T07:31:02.064Z"
   },
   {
    "duration": 802,
    "start_time": "2023-03-26T07:31:02.094Z"
   },
   {
    "duration": 16,
    "start_time": "2023-03-26T07:31:02.897Z"
   },
   {
    "duration": 28,
    "start_time": "2023-03-26T07:31:02.914Z"
   },
   {
    "duration": 34,
    "start_time": "2023-03-26T07:31:02.944Z"
   },
   {
    "duration": 17,
    "start_time": "2023-03-26T07:31:02.980Z"
   },
   {
    "duration": 14,
    "start_time": "2023-03-26T07:31:02.998Z"
   },
   {
    "duration": 5,
    "start_time": "2023-03-26T07:31:03.040Z"
   },
   {
    "duration": 4,
    "start_time": "2023-03-26T07:31:03.047Z"
   },
   {
    "duration": 16567,
    "start_time": "2023-03-26T07:31:03.052Z"
   },
   {
    "duration": 525,
    "start_time": "2023-03-26T07:31:19.621Z"
   },
   {
    "duration": 2692,
    "start_time": "2023-03-26T07:31:20.148Z"
   },
   {
    "duration": 1583,
    "start_time": "2023-03-26T07:35:23.220Z"
   },
   {
    "duration": 2,
    "start_time": "2023-03-26T07:35:24.805Z"
   },
   {
    "duration": 772,
    "start_time": "2023-03-26T07:35:24.809Z"
   },
   {
    "duration": 144,
    "start_time": "2023-03-26T07:35:25.582Z"
   },
   {
    "duration": 59,
    "start_time": "2023-03-26T07:35:25.728Z"
   },
   {
    "duration": 8,
    "start_time": "2023-03-26T07:35:25.789Z"
   },
   {
    "duration": 46,
    "start_time": "2023-03-26T07:35:25.799Z"
   },
   {
    "duration": 309,
    "start_time": "2023-03-26T07:35:25.850Z"
   },
   {
    "duration": 8,
    "start_time": "2023-03-26T07:35:26.162Z"
   },
   {
    "duration": 8,
    "start_time": "2023-03-26T07:35:26.173Z"
   },
   {
    "duration": 17,
    "start_time": "2023-03-26T07:35:26.182Z"
   },
   {
    "duration": 43,
    "start_time": "2023-03-26T07:35:26.201Z"
   },
   {
    "duration": 19,
    "start_time": "2023-03-26T07:35:26.246Z"
   },
   {
    "duration": 46,
    "start_time": "2023-03-26T07:35:26.270Z"
   },
   {
    "duration": 10,
    "start_time": "2023-03-26T07:35:26.318Z"
   },
   {
    "duration": 18,
    "start_time": "2023-03-26T07:35:26.342Z"
   },
   {
    "duration": 13,
    "start_time": "2023-03-26T07:35:26.362Z"
   },
   {
    "duration": 14,
    "start_time": "2023-03-26T07:35:26.377Z"
   },
   {
    "duration": 28,
    "start_time": "2023-03-26T07:35:26.393Z"
   },
   {
    "duration": 50,
    "start_time": "2023-03-26T07:35:26.422Z"
   },
   {
    "duration": 19,
    "start_time": "2023-03-26T07:35:26.474Z"
   },
   {
    "duration": 14,
    "start_time": "2023-03-26T07:35:26.495Z"
   },
   {
    "duration": 36,
    "start_time": "2023-03-26T07:35:26.512Z"
   },
   {
    "duration": 29,
    "start_time": "2023-03-26T07:35:26.551Z"
   },
   {
    "duration": 1172,
    "start_time": "2023-03-26T07:35:26.582Z"
   },
   {
    "duration": 9,
    "start_time": "2023-03-26T07:35:27.756Z"
   },
   {
    "duration": 9,
    "start_time": "2023-03-26T07:35:27.767Z"
   },
   {
    "duration": 9,
    "start_time": "2023-03-26T07:35:27.778Z"
   },
   {
    "duration": 10,
    "start_time": "2023-03-26T07:35:27.788Z"
   },
   {
    "duration": 42,
    "start_time": "2023-03-26T07:35:27.800Z"
   },
   {
    "duration": 837,
    "start_time": "2023-03-26T07:35:27.844Z"
   },
   {
    "duration": 16,
    "start_time": "2023-03-26T07:35:28.683Z"
   },
   {
    "duration": 13,
    "start_time": "2023-03-26T07:35:28.700Z"
   },
   {
    "duration": 60,
    "start_time": "2023-03-26T07:35:28.715Z"
   },
   {
    "duration": 18,
    "start_time": "2023-03-26T07:35:28.777Z"
   },
   {
    "duration": 15,
    "start_time": "2023-03-26T07:35:28.796Z"
   },
   {
    "duration": 4,
    "start_time": "2023-03-26T07:35:28.812Z"
   },
   {
    "duration": 3,
    "start_time": "2023-03-26T07:35:28.841Z"
   },
   {
    "duration": 16166,
    "start_time": "2023-03-26T07:35:28.846Z"
   },
   {
    "duration": 998,
    "start_time": "2023-03-26T07:35:45.014Z"
   },
   {
    "duration": 3348,
    "start_time": "2023-03-26T07:35:46.015Z"
   },
   {
    "duration": 290335,
    "start_time": "2023-03-26T07:35:49.365Z"
   },
   {
    "duration": 12066,
    "start_time": "2023-03-26T07:40:39.702Z"
   },
   {
    "duration": 2465,
    "start_time": "2023-03-26T07:40:51.770Z"
   },
   {
    "duration": 14,
    "start_time": "2023-03-26T07:40:54.236Z"
   },
   {
    "duration": 51001,
    "start_time": "2023-03-26T07:45:21.185Z"
   },
   {
    "duration": 10392,
    "start_time": "2023-03-26T07:46:36.455Z"
   },
   {
    "duration": 9865,
    "start_time": "2023-03-26T08:09:00.436Z"
   }
  ],
  "kernelspec": {
   "display_name": "Python 3 (ipykernel)",
   "language": "python",
   "name": "python3"
  },
  "language_info": {
   "codemirror_mode": {
    "name": "ipython",
    "version": 3
   },
   "file_extension": ".py",
   "mimetype": "text/x-python",
   "name": "python",
   "nbconvert_exporter": "python",
   "pygments_lexer": "ipython3",
   "version": "3.9.5"
  },
  "toc": {
   "base_numbering": 1,
   "nav_menu": {},
   "number_sections": true,
   "sideBar": true,
   "skip_h1_title": true,
   "title_cell": "Содержание",
   "title_sidebar": "Contents",
   "toc_cell": true,
   "toc_position": {
    "height": "calc(100% - 180px)",
    "left": "10px",
    "top": "150px",
    "width": "245.391px"
   },
   "toc_section_display": true,
   "toc_window_display": true
  }
 },
 "nbformat": 4,
 "nbformat_minor": 2
}
