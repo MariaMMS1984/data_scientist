{
 "cells": [
  {
   "cell_type": "markdown",
   "metadata": {},
   "source": [
    "# Выбор локации для скважины"
   ]
  },
  {
   "cell_type": "markdown",
   "metadata": {},
   "source": [
    "Мы получили заказ от добывающей компании «ГлавРосГосНефть». Нужно решить, где бурить новую скважину.\n",
    "\n",
    "Нам предоставлены пробы нефти в трёх регионах: в каждом 10 000 месторождений, где измерили качество нефти и объём её запасов. Построим модель машинного обучения, которая поможет определить регион, где добыча принесёт наибольшую прибыль. Проанализируем возможную прибыль и риски техникой *Bootstrap.*\n",
    "\n",
    "Шаги для выбора локации:\n",
    "\n",
    "- В избранном регионе ищем месторождения, для каждого определим значения признаков;\n",
    "- Строим модель и оцениваем объём запасов;\n",
    "- Выбираем месторождения с самым высокими оценками значений. Количество месторождений зависит от бюджета компании и стоимости разработки одной скважины;\n",
    "- Прибыль равна суммарной прибыли отобранных месторождений."
   ]
  },
  {
   "cell_type": "markdown",
   "metadata": {},
   "source": [
    "# Описание проекта\n"
   ]
  },
  {
   "cell_type": "markdown",
   "metadata": {},
   "source": [
    "Нам необходимо выбрать, в каком регионе бурить новую скважину. На основании данных о пробах нефти из 3 регионов построим  модель машинного обучения, которая поможет определить регион, где добыча принесёт наибольшую прибыль."
   ]
  },
  {
   "cell_type": "markdown",
   "metadata": {},
   "source": [
    "## Загрузка и подготовка данных"
   ]
  },
  {
   "cell_type": "markdown",
   "metadata": {},
   "source": [
    "Загрузим данные по месторождениям нефти, изучим их и подготовим данные для построения моделей."
   ]
  },
  {
   "cell_type": "markdown",
   "metadata": {},
   "source": [
    "1.1.Загрузим библиотеки, необходимые в проекте"
   ]
  },
  {
   "cell_type": "code",
   "execution_count": 1,
   "metadata": {},
   "outputs": [],
   "source": [
    "import pandas as pd\n",
    "from sklearn.model_selection import train_test_split\n",
    "from sklearn.linear_model import LinearRegression\n",
    "from sklearn.preprocessing import StandardScaler\n",
    "from sklearn.metrics import accuracy_score\n",
    "from scipy import stats as st\n",
    "import numpy as np\n",
    "from sklearn.metrics import mean_squared_error, r2_score\n",
    "from tqdm.notebook import tqdm\n",
    "import matplotlib.pyplot as plt\n",
    "import seaborn as sns\n",
    "from sklearn.utils import shuffle\n",
    "from sklearn.preprocessing import OrdinalEncoder \n",
    "import warnings\n",
    "warnings.filterwarnings(\"ignore\")"
   ]
  },
  {
   "cell_type": "markdown",
   "metadata": {},
   "source": [
    "1.2. Загрузим и изучим данные"
   ]
  },
  {
   "cell_type": "code",
   "execution_count": 2,
   "metadata": {},
   "outputs": [],
   "source": [
    "data_0 = pd.read_csv('/datasets/geo_data_0.csv')\n",
    "data_1 = pd.read_csv('/datasets/geo_data_1.csv')\n",
    "data_2 = pd.read_csv('/datasets/geo_data_2.csv')"
   ]
  },
  {
   "cell_type": "markdown",
   "metadata": {},
   "source": [
    "1 регион"
   ]
  },
  {
   "cell_type": "code",
   "execution_count": 3,
   "metadata": {},
   "outputs": [
    {
     "data": {
      "text/html": [
       "<div>\n",
       "<style scoped>\n",
       "    .dataframe tbody tr th:only-of-type {\n",
       "        vertical-align: middle;\n",
       "    }\n",
       "\n",
       "    .dataframe tbody tr th {\n",
       "        vertical-align: top;\n",
       "    }\n",
       "\n",
       "    .dataframe thead th {\n",
       "        text-align: right;\n",
       "    }\n",
       "</style>\n",
       "<table border=\"1\" class=\"dataframe\">\n",
       "  <thead>\n",
       "    <tr style=\"text-align: right;\">\n",
       "      <th></th>\n",
       "      <th>id</th>\n",
       "      <th>f0</th>\n",
       "      <th>f1</th>\n",
       "      <th>f2</th>\n",
       "      <th>product</th>\n",
       "    </tr>\n",
       "  </thead>\n",
       "  <tbody>\n",
       "    <tr>\n",
       "      <th>0</th>\n",
       "      <td>txEyH</td>\n",
       "      <td>0.705745</td>\n",
       "      <td>-0.497823</td>\n",
       "      <td>1.221170</td>\n",
       "      <td>105.280062</td>\n",
       "    </tr>\n",
       "    <tr>\n",
       "      <th>1</th>\n",
       "      <td>2acmU</td>\n",
       "      <td>1.334711</td>\n",
       "      <td>-0.340164</td>\n",
       "      <td>4.365080</td>\n",
       "      <td>73.037750</td>\n",
       "    </tr>\n",
       "    <tr>\n",
       "      <th>2</th>\n",
       "      <td>409Wp</td>\n",
       "      <td>1.022732</td>\n",
       "      <td>0.151990</td>\n",
       "      <td>1.419926</td>\n",
       "      <td>85.265647</td>\n",
       "    </tr>\n",
       "    <tr>\n",
       "      <th>3</th>\n",
       "      <td>iJLyR</td>\n",
       "      <td>-0.032172</td>\n",
       "      <td>0.139033</td>\n",
       "      <td>2.978566</td>\n",
       "      <td>168.620776</td>\n",
       "    </tr>\n",
       "    <tr>\n",
       "      <th>4</th>\n",
       "      <td>Xdl7t</td>\n",
       "      <td>1.988431</td>\n",
       "      <td>0.155413</td>\n",
       "      <td>4.751769</td>\n",
       "      <td>154.036647</td>\n",
       "    </tr>\n",
       "  </tbody>\n",
       "</table>\n",
       "</div>"
      ],
      "text/plain": [
       "      id        f0        f1        f2     product\n",
       "0  txEyH  0.705745 -0.497823  1.221170  105.280062\n",
       "1  2acmU  1.334711 -0.340164  4.365080   73.037750\n",
       "2  409Wp  1.022732  0.151990  1.419926   85.265647\n",
       "3  iJLyR -0.032172  0.139033  2.978566  168.620776\n",
       "4  Xdl7t  1.988431  0.155413  4.751769  154.036647"
      ]
     },
     "execution_count": 3,
     "metadata": {},
     "output_type": "execute_result"
    }
   ],
   "source": [
    "data_0.head()"
   ]
  },
  {
   "cell_type": "code",
   "execution_count": 4,
   "metadata": {},
   "outputs": [
    {
     "name": "stdout",
     "output_type": "stream",
     "text": [
      "<class 'pandas.core.frame.DataFrame'>\n",
      "RangeIndex: 100000 entries, 0 to 99999\n",
      "Data columns (total 5 columns):\n",
      " #   Column   Non-Null Count   Dtype  \n",
      "---  ------   --------------   -----  \n",
      " 0   id       100000 non-null  object \n",
      " 1   f0       100000 non-null  float64\n",
      " 2   f1       100000 non-null  float64\n",
      " 3   f2       100000 non-null  float64\n",
      " 4   product  100000 non-null  float64\n",
      "dtypes: float64(4), object(1)\n",
      "memory usage: 3.8+ MB\n"
     ]
    }
   ],
   "source": [
    "data_0.info()"
   ]
  },
  {
   "cell_type": "code",
   "execution_count": 5,
   "metadata": {},
   "outputs": [
    {
     "data": {
      "text/plain": [
       "id          object\n",
       "f0         float64\n",
       "f1         float64\n",
       "f2         float64\n",
       "product    float64\n",
       "dtype: object"
      ]
     },
     "execution_count": 5,
     "metadata": {},
     "output_type": "execute_result"
    }
   ],
   "source": [
    "data_0.dtypes #посмотрим типы данных"
   ]
  },
  {
   "cell_type": "code",
   "execution_count": 6,
   "metadata": {},
   "outputs": [
    {
     "data": {
      "text/plain": [
       "id         0\n",
       "f0         0\n",
       "f1         0\n",
       "f2         0\n",
       "product    0\n",
       "dtype: int64"
      ]
     },
     "execution_count": 6,
     "metadata": {},
     "output_type": "execute_result"
    }
   ],
   "source": [
    "data_0.isna().sum() #посмотрим, есть ли пропущенные значения"
   ]
  },
  {
   "cell_type": "code",
   "execution_count": 7,
   "metadata": {},
   "outputs": [
    {
     "data": {
      "text/plain": [
       "0"
      ]
     },
     "execution_count": 7,
     "metadata": {},
     "output_type": "execute_result"
    }
   ],
   "source": [
    "#Проверим на дубликаты\n",
    "data_0.duplicated().sum()"
   ]
  },
  {
   "cell_type": "markdown",
   "metadata": {},
   "source": [
    "2 регион"
   ]
  },
  {
   "cell_type": "code",
   "execution_count": 8,
   "metadata": {},
   "outputs": [
    {
     "data": {
      "text/html": [
       "<div>\n",
       "<style scoped>\n",
       "    .dataframe tbody tr th:only-of-type {\n",
       "        vertical-align: middle;\n",
       "    }\n",
       "\n",
       "    .dataframe tbody tr th {\n",
       "        vertical-align: top;\n",
       "    }\n",
       "\n",
       "    .dataframe thead th {\n",
       "        text-align: right;\n",
       "    }\n",
       "</style>\n",
       "<table border=\"1\" class=\"dataframe\">\n",
       "  <thead>\n",
       "    <tr style=\"text-align: right;\">\n",
       "      <th></th>\n",
       "      <th>id</th>\n",
       "      <th>f0</th>\n",
       "      <th>f1</th>\n",
       "      <th>f2</th>\n",
       "      <th>product</th>\n",
       "    </tr>\n",
       "  </thead>\n",
       "  <tbody>\n",
       "    <tr>\n",
       "      <th>0</th>\n",
       "      <td>kBEdx</td>\n",
       "      <td>-15.001348</td>\n",
       "      <td>-8.276000</td>\n",
       "      <td>-0.005876</td>\n",
       "      <td>3.179103</td>\n",
       "    </tr>\n",
       "    <tr>\n",
       "      <th>1</th>\n",
       "      <td>62mP7</td>\n",
       "      <td>14.272088</td>\n",
       "      <td>-3.475083</td>\n",
       "      <td>0.999183</td>\n",
       "      <td>26.953261</td>\n",
       "    </tr>\n",
       "    <tr>\n",
       "      <th>2</th>\n",
       "      <td>vyE1P</td>\n",
       "      <td>6.263187</td>\n",
       "      <td>-5.948386</td>\n",
       "      <td>5.001160</td>\n",
       "      <td>134.766305</td>\n",
       "    </tr>\n",
       "    <tr>\n",
       "      <th>3</th>\n",
       "      <td>KcrkZ</td>\n",
       "      <td>-13.081196</td>\n",
       "      <td>-11.506057</td>\n",
       "      <td>4.999415</td>\n",
       "      <td>137.945408</td>\n",
       "    </tr>\n",
       "    <tr>\n",
       "      <th>4</th>\n",
       "      <td>AHL4O</td>\n",
       "      <td>12.702195</td>\n",
       "      <td>-8.147433</td>\n",
       "      <td>5.004363</td>\n",
       "      <td>134.766305</td>\n",
       "    </tr>\n",
       "  </tbody>\n",
       "</table>\n",
       "</div>"
      ],
      "text/plain": [
       "      id         f0         f1        f2     product\n",
       "0  kBEdx -15.001348  -8.276000 -0.005876    3.179103\n",
       "1  62mP7  14.272088  -3.475083  0.999183   26.953261\n",
       "2  vyE1P   6.263187  -5.948386  5.001160  134.766305\n",
       "3  KcrkZ -13.081196 -11.506057  4.999415  137.945408\n",
       "4  AHL4O  12.702195  -8.147433  5.004363  134.766305"
      ]
     },
     "execution_count": 8,
     "metadata": {},
     "output_type": "execute_result"
    }
   ],
   "source": [
    "data_1.head()"
   ]
  },
  {
   "cell_type": "code",
   "execution_count": 9,
   "metadata": {},
   "outputs": [
    {
     "name": "stdout",
     "output_type": "stream",
     "text": [
      "<class 'pandas.core.frame.DataFrame'>\n",
      "RangeIndex: 100000 entries, 0 to 99999\n",
      "Data columns (total 5 columns):\n",
      " #   Column   Non-Null Count   Dtype  \n",
      "---  ------   --------------   -----  \n",
      " 0   id       100000 non-null  object \n",
      " 1   f0       100000 non-null  float64\n",
      " 2   f1       100000 non-null  float64\n",
      " 3   f2       100000 non-null  float64\n",
      " 4   product  100000 non-null  float64\n",
      "dtypes: float64(4), object(1)\n",
      "memory usage: 3.8+ MB\n"
     ]
    }
   ],
   "source": [
    "data_1.info()"
   ]
  },
  {
   "cell_type": "code",
   "execution_count": 10,
   "metadata": {},
   "outputs": [
    {
     "data": {
      "text/plain": [
       "id          object\n",
       "f0         float64\n",
       "f1         float64\n",
       "f2         float64\n",
       "product    float64\n",
       "dtype: object"
      ]
     },
     "execution_count": 10,
     "metadata": {},
     "output_type": "execute_result"
    }
   ],
   "source": [
    "data_1.dtypes #посмотрим типы данных"
   ]
  },
  {
   "cell_type": "code",
   "execution_count": 11,
   "metadata": {},
   "outputs": [
    {
     "data": {
      "text/plain": [
       "id         0\n",
       "f0         0\n",
       "f1         0\n",
       "f2         0\n",
       "product    0\n",
       "dtype: int64"
      ]
     },
     "execution_count": 11,
     "metadata": {},
     "output_type": "execute_result"
    }
   ],
   "source": [
    "data_1.isna().sum() #посмотрим, есть ли пропущенные значения"
   ]
  },
  {
   "cell_type": "code",
   "execution_count": 12,
   "metadata": {},
   "outputs": [
    {
     "data": {
      "text/plain": [
       "0"
      ]
     },
     "execution_count": 12,
     "metadata": {},
     "output_type": "execute_result"
    }
   ],
   "source": [
    "#Проверим на дубликаты\n",
    "data_1.duplicated().sum()"
   ]
  },
  {
   "cell_type": "markdown",
   "metadata": {},
   "source": [
    "3 регион"
   ]
  },
  {
   "cell_type": "code",
   "execution_count": 13,
   "metadata": {},
   "outputs": [
    {
     "data": {
      "text/html": [
       "<div>\n",
       "<style scoped>\n",
       "    .dataframe tbody tr th:only-of-type {\n",
       "        vertical-align: middle;\n",
       "    }\n",
       "\n",
       "    .dataframe tbody tr th {\n",
       "        vertical-align: top;\n",
       "    }\n",
       "\n",
       "    .dataframe thead th {\n",
       "        text-align: right;\n",
       "    }\n",
       "</style>\n",
       "<table border=\"1\" class=\"dataframe\">\n",
       "  <thead>\n",
       "    <tr style=\"text-align: right;\">\n",
       "      <th></th>\n",
       "      <th>id</th>\n",
       "      <th>f0</th>\n",
       "      <th>f1</th>\n",
       "      <th>f2</th>\n",
       "      <th>product</th>\n",
       "    </tr>\n",
       "  </thead>\n",
       "  <tbody>\n",
       "    <tr>\n",
       "      <th>0</th>\n",
       "      <td>fwXo0</td>\n",
       "      <td>-1.146987</td>\n",
       "      <td>0.963328</td>\n",
       "      <td>-0.828965</td>\n",
       "      <td>27.758673</td>\n",
       "    </tr>\n",
       "    <tr>\n",
       "      <th>1</th>\n",
       "      <td>WJtFt</td>\n",
       "      <td>0.262778</td>\n",
       "      <td>0.269839</td>\n",
       "      <td>-2.530187</td>\n",
       "      <td>56.069697</td>\n",
       "    </tr>\n",
       "    <tr>\n",
       "      <th>2</th>\n",
       "      <td>ovLUW</td>\n",
       "      <td>0.194587</td>\n",
       "      <td>0.289035</td>\n",
       "      <td>-5.586433</td>\n",
       "      <td>62.871910</td>\n",
       "    </tr>\n",
       "    <tr>\n",
       "      <th>3</th>\n",
       "      <td>q6cA6</td>\n",
       "      <td>2.236060</td>\n",
       "      <td>-0.553760</td>\n",
       "      <td>0.930038</td>\n",
       "      <td>114.572842</td>\n",
       "    </tr>\n",
       "    <tr>\n",
       "      <th>4</th>\n",
       "      <td>WPMUX</td>\n",
       "      <td>-0.515993</td>\n",
       "      <td>1.716266</td>\n",
       "      <td>5.899011</td>\n",
       "      <td>149.600746</td>\n",
       "    </tr>\n",
       "  </tbody>\n",
       "</table>\n",
       "</div>"
      ],
      "text/plain": [
       "      id        f0        f1        f2     product\n",
       "0  fwXo0 -1.146987  0.963328 -0.828965   27.758673\n",
       "1  WJtFt  0.262778  0.269839 -2.530187   56.069697\n",
       "2  ovLUW  0.194587  0.289035 -5.586433   62.871910\n",
       "3  q6cA6  2.236060 -0.553760  0.930038  114.572842\n",
       "4  WPMUX -0.515993  1.716266  5.899011  149.600746"
      ]
     },
     "execution_count": 13,
     "metadata": {},
     "output_type": "execute_result"
    }
   ],
   "source": [
    "data_2.head()"
   ]
  },
  {
   "cell_type": "code",
   "execution_count": 14,
   "metadata": {},
   "outputs": [
    {
     "name": "stdout",
     "output_type": "stream",
     "text": [
      "<class 'pandas.core.frame.DataFrame'>\n",
      "RangeIndex: 100000 entries, 0 to 99999\n",
      "Data columns (total 5 columns):\n",
      " #   Column   Non-Null Count   Dtype  \n",
      "---  ------   --------------   -----  \n",
      " 0   id       100000 non-null  object \n",
      " 1   f0       100000 non-null  float64\n",
      " 2   f1       100000 non-null  float64\n",
      " 3   f2       100000 non-null  float64\n",
      " 4   product  100000 non-null  float64\n",
      "dtypes: float64(4), object(1)\n",
      "memory usage: 3.8+ MB\n"
     ]
    }
   ],
   "source": [
    "data_2.info()"
   ]
  },
  {
   "cell_type": "code",
   "execution_count": 15,
   "metadata": {},
   "outputs": [
    {
     "data": {
      "text/plain": [
       "id          object\n",
       "f0         float64\n",
       "f1         float64\n",
       "f2         float64\n",
       "product    float64\n",
       "dtype: object"
      ]
     },
     "execution_count": 15,
     "metadata": {},
     "output_type": "execute_result"
    }
   ],
   "source": [
    "data_2.dtypes #посмотрим типы данных"
   ]
  },
  {
   "cell_type": "code",
   "execution_count": 16,
   "metadata": {},
   "outputs": [
    {
     "data": {
      "text/plain": [
       "id         0\n",
       "f0         0\n",
       "f1         0\n",
       "f2         0\n",
       "product    0\n",
       "dtype: int64"
      ]
     },
     "execution_count": 16,
     "metadata": {},
     "output_type": "execute_result"
    }
   ],
   "source": [
    "data_2.isna().sum() #посмотрим, есть ли пропущенные значения"
   ]
  },
  {
   "cell_type": "code",
   "execution_count": 17,
   "metadata": {},
   "outputs": [
    {
     "data": {
      "text/plain": [
       "0"
      ]
     },
     "execution_count": 17,
     "metadata": {},
     "output_type": "execute_result"
    }
   ],
   "source": [
    "#Проверим на дубликаты\n",
    "data_2.duplicated().sum()"
   ]
  },
  {
   "cell_type": "markdown",
   "metadata": {},
   "source": [
    "1.3. Удалим столбец \"id\" для того, чтобы в дальнейшем мы могли обучать модель с помощью выборки из наших данных. Этот столбец не нужен нам для дальнейших расчетов."
   ]
  },
  {
   "cell_type": "code",
   "execution_count": 18,
   "metadata": {},
   "outputs": [
    {
     "name": "stdout",
     "output_type": "stream",
     "text": [
      "             f0        f1        f2     product\n",
      "0      0.705745 -0.497823  1.221170  105.280062\n",
      "1      1.334711 -0.340164  4.365080   73.037750\n",
      "2      1.022732  0.151990  1.419926   85.265647\n",
      "3     -0.032172  0.139033  2.978566  168.620776\n",
      "4      1.988431  0.155413  4.751769  154.036647\n",
      "...         ...       ...       ...         ...\n",
      "99995  0.971957  0.370953  6.075346  110.744026\n",
      "99996  1.392429 -0.382606  1.273912  122.346843\n",
      "99997  1.029585  0.018787 -1.348308   64.375443\n",
      "99998  0.998163 -0.528582  1.583869   74.040764\n",
      "99999  1.764754 -0.266417  5.722849  149.633246\n",
      "\n",
      "[100000 rows x 4 columns]\n"
     ]
    }
   ],
   "source": [
    "data_0 = data_0.drop('id', axis=1)\n",
    "data_1 = data_1.drop('id', axis=1)\n",
    "data_2 = data_2.drop('id', axis=1)\n",
    "print(data_0)"
   ]
  },
  {
   "cell_type": "markdown",
   "metadata": {},
   "source": [
    "Вывод:\n",
    "1. Для нашего исследования для каждого из 3 рассмотриваемых регионов у нас есть данные о 99999 замерах качества нефти на месторождениях;\n",
    "2. Явных дубликатов нет;\n",
    "3. Пропущенных значений нет;\n",
    "4. Удалили столбец\"id\"."
   ]
  },
  {
   "cell_type": "markdown",
   "metadata": {},
   "source": [
    "## Обучение и проверка модели"
   ]
  },
  {
   "cell_type": "markdown",
   "metadata": {},
   "source": [
    "Разобьем данные на выборки и исследуем модели."
   ]
  },
  {
   "cell_type": "markdown",
   "metadata": {},
   "source": [
    "2.1. Разобьем данные на выборки (25 % - валидационная, 75 % - обучающая согласно заданию)"
   ]
  },
  {
   "cell_type": "code",
   "execution_count": 19,
   "metadata": {},
   "outputs": [],
   "source": [
    "features_0 = data_0.drop('product', axis=1)\n",
    "target_0 = data_0['product']\n",
    "features_train_0, features_valid_0, target_train_0, target_valid_0 = train_test_split(features_0, target_0, \n",
    "                                                                                  test_size=0.25, random_state=12345)\n",
    "features_1 = data_1.drop('product', axis=1)\n",
    "target_1 = data_1['product']\n",
    "features_train_1, features_valid_1, target_train_1, target_valid_1 = train_test_split(features_1, target_1, \n",
    "                                                                                  test_size=0.25, random_state=12345)\n",
    "\n",
    "features_2 = data_2.drop('product', axis=1)\n",
    "target_2 = data_2['product']\n",
    "features_train_2, features_valid_2, target_train_2, target_valid_2 = train_test_split(features_2, target_2, \n",
    "                                                                                  test_size=0.25, random_state=12345)"
   ]
  },
  {
   "cell_type": "markdown",
   "metadata": {},
   "source": [
    "2.2. проведем масштабирование"
   ]
  },
  {
   "cell_type": "code",
   "execution_count": 20,
   "metadata": {},
   "outputs": [
    {
     "data": {
      "text/plain": [
       "StandardScaler()"
      ]
     },
     "execution_count": 20,
     "metadata": {},
     "output_type": "execute_result"
    }
   ],
   "source": [
    "numeric = ['f0', 'f1', 'f2'] #зафиксируем численные признаки\n",
    "scaler_0 = StandardScaler()\n",
    "scaler_1 = StandardScaler()\n",
    "scaler_2 = StandardScaler()\n",
    "scaler_0.fit(features_train_0[numeric])\n",
    "scaler_1.fit(features_train_1[numeric])    \n",
    "scaler_2.fit(features_train_2[numeric])   "
   ]
  },
  {
   "cell_type": "code",
   "execution_count": 21,
   "metadata": {},
   "outputs": [
    {
     "name": "stdout",
     "output_type": "stream",
     "text": [
      "             f0        f1        f2\n",
      "27212 -0.544828  1.390264 -0.094959\n",
      "7866   1.455912 -0.480422  1.209567\n",
      "62041  0.260460  0.825069 -0.204865\n",
      "70185 -1.837105  0.010321 -0.147634\n",
      "82230 -1.299243  0.987558  1.273181\n",
      "             f0        f1        f2\n",
      "27212 -0.850855  0.624428  0.296943\n",
      "7866   1.971935  1.832275  0.294333\n",
      "62041  1.079305  0.170127 -0.296418\n",
      "70185 -1.512028 -0.887837 -0.880471\n",
      "82230 -1.804775 -0.718311 -0.293255\n",
      "             f0        f1        f2\n",
      "27212 -0.526160  0.776329 -0.400793\n",
      "7866  -0.889625 -0.404070 -1.222936\n",
      "62041 -1.133984  0.208576  0.296765\n",
      "70185  1.227045  1.570166 -0.764556\n",
      "82230 -0.194289  0.878312  0.840821\n"
     ]
    },
    {
     "data": {
      "text/plain": [
       "f0    float64\n",
       "f1    float64\n",
       "f2    float64\n",
       "dtype: object"
      ]
     },
     "execution_count": 21,
     "metadata": {},
     "output_type": "execute_result"
    }
   ],
   "source": [
    "features_train_0[numeric] = scaler_0.transform(features_train_0[numeric])  #масштабируем численные признаки обучающей выборки\n",
    "print(features_train_0.head())\n",
    "\n",
    "features_train_1[numeric] = scaler_1.transform(features_train_1[numeric])  #масштабируем численные признаки обучающей выборки\n",
    "print(features_train_1.head())\n",
    "\n",
    "features_train_2[numeric] = scaler_2.transform(features_train_2[numeric])  #масштабируем численные признаки обучающей выборки\n",
    "print(features_train_2.head())\n",
    "features_train_0.dtypes"
   ]
  },
  {
   "cell_type": "code",
   "execution_count": 22,
   "metadata": {},
   "outputs": [
    {
     "name": "stdout",
     "output_type": "stream",
     "text": [
      "             f0        f1        f2\n",
      "71751  0.517917 -0.610097 -0.126226\n",
      "80493  0.568391 -0.086063 -0.814914\n",
      "2655   0.805688 -1.613289 -1.341342\n",
      "53233  0.222503 -1.355437 -0.597275\n",
      "91141 -0.087941  1.433113 -0.544588\n",
      "             f0        f1        f2\n",
      "71751 -0.168616  0.571372  0.297471\n",
      "80493  0.878384 -1.772903 -0.293901\n",
      "2655  -0.852976 -0.004986 -0.876502\n",
      "53233  1.496940 -1.146077 -0.294011\n",
      "91141  0.552177  0.057961 -1.457764\n",
      "             f0        f1        f2\n",
      "71751 -0.836717 -2.227439 -0.078489\n",
      "80493 -0.821648  0.740237 -1.000811\n",
      "2655  -2.651336 -0.235721 -0.244546\n",
      "53233  1.077998  0.938090  0.511313\n",
      "91141 -1.173938  2.387270  1.034363\n"
     ]
    }
   ],
   "source": [
    "features_valid_0[numeric] = scaler_0.transform(features_valid_0[numeric])  #масштабируем численные признаки валидационной выборки\n",
    "print(features_valid_0.head())\n",
    "features_valid_1[numeric] = scaler_1.transform(features_valid_1[numeric])  #масштабируем численные признаки валидационной выборки\n",
    "print(features_valid_1.head())\n",
    "features_valid_2[numeric] = scaler_2.transform(features_valid_2[numeric])  #масштабируем численные признаки валидационной выборки\n",
    "print(features_valid_2.head())"
   ]
  },
  {
   "cell_type": "markdown",
   "metadata": {},
   "source": [
    "2.3. Обучим модели, сделаем предсказания"
   ]
  },
  {
   "cell_type": "code",
   "execution_count": 23,
   "metadata": {},
   "outputs": [
    {
     "name": "stdout",
     "output_type": "stream",
     "text": [
      "Среднеквадратичная ошибка RMSE: 37.58\n",
      "Коэффициент детерминации: 0.28\n"
     ]
    }
   ],
   "source": [
    "model_0 = LinearRegression() \n",
    "model_0.fit(features_train_0, target_train_0) # обучаем модель линейной регрессии на тренировочной выборке\n",
    "predict_0=model_0.predict(features_valid_0)\n",
    "rmse_0 = mean_squared_error(target_valid_0, predict_0)**0.5\n",
    "print('Среднеквадратичная ошибка RMSE: %.2f'% rmse_0)\n",
    "print('Коэффициент детерминации: %.2f' % r2_score(target_valid_0, predict_0))\n",
    "    \n"
   ]
  },
  {
   "cell_type": "code",
   "execution_count": 24,
   "metadata": {},
   "outputs": [
    {
     "name": "stdout",
     "output_type": "stream",
     "text": [
      "Среднеквадратичная ошибка RMSE: 0.89\n",
      "Коэффициент детерминации: 1.00\n"
     ]
    }
   ],
   "source": [
    "model_1 = LinearRegression() \n",
    "model_1.fit(features_train_1, target_train_1) # обучаем модель линейной регрессии на тренировочной выборке\n",
    "predict_1=model_1.predict(features_valid_1)\n",
    "rmse_1 = mean_squared_error(target_valid_1, predict_1)**0.5\n",
    "print('Среднеквадратичная ошибка RMSE: %.2f'% rmse_1)\n",
    "print('Коэффициент детерминации: %.2f' % r2_score(target_valid_1, predict_1))\n",
    "    "
   ]
  },
  {
   "cell_type": "code",
   "execution_count": 25,
   "metadata": {},
   "outputs": [
    {
     "name": "stdout",
     "output_type": "stream",
     "text": [
      "Среднеквадратичная ошибка RMSE: 40.03\n",
      "Коэффициент детерминации: 0.21\n"
     ]
    }
   ],
   "source": [
    "model_2 = LinearRegression() \n",
    "model_2.fit(features_train_2, target_train_2) # обучаем модель линейной регрессии на тренировочной выборке\n",
    "predict_2=model_2.predict(features_valid_2)\n",
    "rmse_2 = mean_squared_error(target_valid_2, predict_2)**0.5\n",
    "print('Среднеквадратичная ошибка RMSE: %.2f'% rmse_2)\n",
    "print('Коэффициент детерминации: %.2f' % r2_score(target_valid_2, predict_2))"
   ]
  },
  {
   "cell_type": "markdown",
   "metadata": {},
   "source": [
    "2.4. Сохраним предсказания и правильные ответы"
   ]
  },
  {
   "cell_type": "code",
   "execution_count": 26,
   "metadata": {},
   "outputs": [
    {
     "name": "stdout",
     "output_type": "stream",
     "text": [
      "1 регион:\n",
      "- предсказания модели: \"predict_0\"\n",
      "- правильные ответы: \"target_valid_0\"\n",
      "\n",
      "2 регион:\n",
      "- предсказания модели: \"predict_1\"\n",
      "- правильные ответы: \"target_valid_1\"\n",
      "\n",
      "3 регион:\n",
      "- предсказания модели: \"predict_2\"\n",
      "- правильные ответы: \"target_valid_2\"\n"
     ]
    }
   ],
   "source": [
    "print('1 регион:\\n- предсказания модели: \"predict_0\"\\n- правильные ответы: \"target_valid_0\"')\n",
    "print()\n",
    "print('2 регион:\\n- предсказания модели: \"predict_1\"\\n- правильные ответы: \"target_valid_1\"')\n",
    "print()\n",
    "print('3 регион:\\n- предсказания модели: \"predict_2\"\\n- правильные ответы: \"target_valid_2\"')"
   ]
  },
  {
   "cell_type": "markdown",
   "metadata": {},
   "source": [
    "2.5. Напечатаем на экране средний запас предсказанного сырья и RMSE по регионам"
   ]
  },
  {
   "cell_type": "code",
   "execution_count": 27,
   "metadata": {},
   "outputs": [
    {
     "data": {
      "text/html": [
       "<div>\n",
       "<style scoped>\n",
       "    .dataframe tbody tr th:only-of-type {\n",
       "        vertical-align: middle;\n",
       "    }\n",
       "\n",
       "    .dataframe tbody tr th {\n",
       "        vertical-align: top;\n",
       "    }\n",
       "\n",
       "    .dataframe thead th {\n",
       "        text-align: right;\n",
       "    }\n",
       "</style>\n",
       "<table border=\"1\" class=\"dataframe\">\n",
       "  <thead>\n",
       "    <tr style=\"text-align: right;\">\n",
       "      <th></th>\n",
       "      <th>1 регион</th>\n",
       "      <th>2 регион</th>\n",
       "      <th>3 регион</th>\n",
       "    </tr>\n",
       "  </thead>\n",
       "  <tbody>\n",
       "    <tr>\n",
       "      <th>средний запас предсказанного сырья</th>\n",
       "      <td>92.592568</td>\n",
       "      <td>68.728547</td>\n",
       "      <td>94.965046</td>\n",
       "    </tr>\n",
       "    <tr>\n",
       "      <th>RMSE</th>\n",
       "      <td>37.579422</td>\n",
       "      <td>0.893099</td>\n",
       "      <td>40.029709</td>\n",
       "    </tr>\n",
       "  </tbody>\n",
       "</table>\n",
       "</div>"
      ],
      "text/plain": [
       "                                     1 регион   2 регион   3 регион\n",
       "средний запас предсказанного сырья  92.592568  68.728547  94.965046\n",
       "RMSE                                37.579422   0.893099  40.029709"
      ]
     },
     "execution_count": 27,
     "metadata": {},
     "output_type": "execute_result"
    }
   ],
   "source": [
    "mean_pred = pd.DataFrame(index=['средний запас предсказанного сырья','RMSE'], columns=['1 регион','2 регион','3 регион'])\n",
    "mean_pred['1 регион'] = predict_0.mean(), rmse_0\n",
    "mean_pred['2 регион'] = predict_1.mean(), rmse_1\n",
    "mean_pred['3 регион'] = predict_2.mean(), rmse_2\n",
    "mean_pred"
   ]
  },
  {
   "cell_type": "markdown",
   "metadata": {},
   "source": [
    "Вывод:\n",
    "1. Предсказательные способности моделей для 1 и 3 регионов примерно одинаковые (согласно параметрам RMSE);\n",
    "2. У 2 модели наименьшее RMSE, соответственно 2 модель лучше для прогнозирования."
   ]
  },
  {
   "cell_type": "markdown",
   "metadata": {},
   "source": [
    "## Подготовка к расчёту прибыли"
   ]
  },
  {
   "cell_type": "markdown",
   "metadata": {},
   "source": [
    "3.1. Объявим необходимые переменные"
   ]
  },
  {
   "cell_type": "code",
   "execution_count": 28,
   "metadata": {},
   "outputs": [],
   "source": [
    "explore_points = 500 # количество точек для исследования\n",
    "mining_points = 200 # количество точек для разработки\n",
    "mining_budget = 10_000 # бюджет на разработку скважин в регионе в млн. руб.\n",
    "income_per_barrel = 0.45 # доход с 1 тыс баррель в млн. руб\n",
    "loses_probability = 0.025 # максимальная вероятность убытков\n",
    "bootstrap_samples = 1000 #количество выборок"
   ]
  },
  {
   "cell_type": "markdown",
   "metadata": {},
   "source": [
    "3.2. Рассчитаем достаточный объем сырья для безубыточной разработки новой скважины"
   ]
  },
  {
   "cell_type": "code",
   "execution_count": 29,
   "metadata": {},
   "outputs": [
    {
     "name": "stdout",
     "output_type": "stream",
     "text": [
      "Необходимый объем сырья для безубыточной разработки 1 скважины в тыс. баррелей 111.11\n"
     ]
    }
   ],
   "source": [
    "budget_per_borehole = mining_budget / mining_points # затраты на разработку одной скважины\n",
    "sufficient_product_volume = budget_per_borehole / income_per_barrel \n",
    "print('Необходимый объем сырья для безубыточной разработки 1 скважины в тыс. баррелей {:.2f}'.format(sufficient_product_volume))"
   ]
  },
  {
   "cell_type": "markdown",
   "metadata": {},
   "source": [
    "Вывод:\n",
    "Необходимый объем сырья для безубыточной разработки 1 скважины в тыс. баррелей 111.11"
   ]
  },
  {
   "cell_type": "markdown",
   "metadata": {},
   "source": [
    "## Расчёт прибыли и рисков "
   ]
  },
  {
   "cell_type": "markdown",
   "metadata": {},
   "source": [
    "Выберем 200 скважин с лучшими прогнозами, определим объем произведенного сырья и прибыль в 200 выбранных по предсказаниям модели скважин"
   ]
  },
  {
   "cell_type": "code",
   "execution_count": 30,
   "metadata": {},
   "outputs": [
    {
     "name": "stdout",
     "output_type": "stream",
     "text": [
      "Объем произведенного сырья в 200 выбранных по предсказаниям модели скважин составит:\n",
      "для региона 1 - 29601.836 тыс. бар.\n",
      "для региона 2 - 27589.082 тыс. бар.\n",
      "для региона 3 - 28245.222 тыс. бар.\n",
      "Прибыль с 200 выбранных по предсказаниям модели скважин составит:\n",
      "для региона 1 - 3320.826 млн. руб.\n",
      "для региона 2 - 2415.087 млн. руб.\n",
      "для региона 3 - 2710.350 млн. руб.\n"
     ]
    }
   ],
   "source": [
    "def income_calc(target_valid, predict):\n",
    "    pred_choice =  pd.Series(predict).sort_values(ascending=False).head(200) # выбираем 200 скважин с максимальным объемом нефти\n",
    "    target_choice = target_valid.reset_index(drop=True)[pred_choice.index] # определяем верные значения для отобранных 200 скважин\n",
    "    return target_choice.sum()\n",
    "print('Объем произведенного сырья в 200 выбранных по предсказаниям модели скважин составит:')\n",
    "print('для региона 1 - {:.3f} тыс. бар.'.format(income_calc(target_valid_0, predict_0)))\n",
    "print('для региона 2 - {:.3f} тыс. бар.'.format(income_calc(target_valid_1, predict_1)))\n",
    "print('для региона 3 - {:.3f} тыс. бар.'.format(income_calc(target_valid_2, predict_2)))\n",
    "print('Прибыль с 200 выбранных по предсказаниям модели скважин составит:')\n",
    "print('для региона 1 - {:.3f} млн. руб.'.format(income_calc(target_valid_0, predict_0)*income_per_barrel - mining_budget))\n",
    "print('для региона 2 - {:.3f} млн. руб.'.format(income_calc(target_valid_1, predict_1)*income_per_barrel - mining_budget))\n",
    "print('для региона 3 - {:.3f} млн. руб.'.format(income_calc(target_valid_2, predict_2)*income_per_barrel - mining_budget))\n",
    "\n"
   ]
  },
  {
   "cell_type": "markdown",
   "metadata": {},
   "source": [
    "Вывод:\n",
    "все 3 рассматриваемых региона обладают большими объемами сырья и потенциально прибыльны (прогнозируемая прибыль от 2415.087 млн. руб. до  3320.826 млн. руб.)"
   ]
  },
  {
   "cell_type": "markdown",
   "metadata": {},
   "source": [
    "## Расчет рисков и прибыли для каждого региона"
   ]
  },
  {
   "cell_type": "markdown",
   "metadata": {},
   "source": [
    "Применим технику Bootstrap с 1000 выборок, чтобы найти распределение прибыли."
   ]
  },
  {
   "cell_type": "code",
   "execution_count": 31,
   "metadata": {},
   "outputs": [],
   "source": [
    "#модифицируем функцию из предыдущего пункта\n",
    "def revenue (target_valid, predict, mining_points):\n",
    "    pred_choice = pd.Series(predict).sort_values(ascending=False) # сортируем скважины по значениям их предсказаний\n",
    "    target_choice = target_valid.iloc[pred_choice.index][:mining_points] # определяем верные значения для отобранных случайных скважин и берем только нужное количество\n",
    "    income = target_choice.sum() * income_per_barrel # доход в млн. рублей\n",
    "    return income\n"
   ]
  },
  {
   "cell_type": "code",
   "execution_count": 32,
   "metadata": {},
   "outputs": [],
   "source": [
    "# создадим ф-ю для применения для каждого региона\n",
    "def income_distribution (predict, target_valid, bootstrap_samples, explore_points):\n",
    "    state = np.random.RandomState(12345)\n",
    "    \n",
    "    count = 0 # счетчик вероятности убытков в регионе\n",
    "\n",
    "    values = [] # значения выручек для 1000 выборок\n",
    "    \n",
    "    for i in range(bootstrap_samples): \n",
    "    \n",
    "        # у целевого признака выборки сбрасываем индексы и случайно выбираем нужное количество скважин\n",
    "        target_subsample = target_valid.reset_index(drop=True).sample(explore_points, replace=True, random_state=state)\n",
    "        # из предсказаний выбираем строки соответствующие отобранным строкам в целевом признаке\n",
    "        probs_subsample = predict[target_subsample.index]\n",
    "        # считаем выручку для отобранных строк для нужного количества скважин\n",
    "        rev = revenue(target_subsample, probs_subsample, mining_points) - mining_budget\n",
    "        values.append(rev)\n",
    "        \n",
    "        #проверяем не является выборка убыточной, если является, то увеличиваем счетчик\n",
    "        if rev < 0:\n",
    "            count +=1\n",
    "\n",
    "    values = pd.Series(values)\n",
    "    \n",
    "    \n",
    "    mean = values.mean() # средняя выручка\n",
    "    print(\"Средняя выручка:\", mean, 'млн рублей')\n",
    "    \n",
    "    # посчитаем и выведем 95-% доверительный интервал\n",
    "    confidence_interval = st.t.interval(0.95, len(values)-1, values.mean(), np.std(values, ddof=1))\n",
    "    print(\"95%-ый доверительный интервал:\", confidence_interval)\n",
    "    \n",
    "    pvalue = 1. * count / bootstrap_samples\n",
    "    if pvalue < loses_probability:\n",
    "        print(\"Вероятность убытков равна {:.2%}, что меньше допустимой, регион подходит по критериям\".format(pvalue))\n",
    "    else:\n",
    "        print(\"Вероятность убытков равна {:.2%}, что больше допустимой, регион не подходит по критериям\".format(pvalue))    \n",
    "    \n",
    "    # построим распределение выручки по региону\n",
    "    plt.figure()\n",
    "    _ = plt.hist(values,  bins=100)\n",
    "    \n",
    "    # левая граница доверительного интервала\n",
    "    left_x, left_y = [confidence_interval[0],confidence_interval[0]], [0, 30]\n",
    "    # правая граница доверительного интервала\n",
    "    right_x, right_y = [confidence_interval[1],confidence_interval[1]], [0, 30]\n",
    "    plt.title('Гистограмма распределения прибыли')\n",
    "    plt.xlabel('Прибыль в млн. рублей')\n",
    "    plt.plot(left_x, left_y, right_x, right_y, marker = 'o')"
   ]
  },
  {
   "cell_type": "code",
   "execution_count": 33,
   "metadata": {},
   "outputs": [
    {
     "name": "stdout",
     "output_type": "stream",
     "text": [
      "Для первого региона следующие показатели:\n",
      "Средняя выручка: 396.16498480237146 млн рублей\n",
      "95%-ый доверительный интервал: (-127.02340762733172, 919.3533772320746)\n",
      "Вероятность убытков равна 6.90%, что больше допустимой, регион не подходит по критериям\n"
     ]
    },
    {
     "data": {
      "image/png": "[encoded data removed]",
      "text/plain": [
       "<Figure size 432x288 with 1 Axes>"
      ]
     },
     "metadata": {
      "needs_background": "light"
     },
     "output_type": "display_data"
    }
   ],
   "source": [
    "print('Для первого региона следующие показатели:')\n",
    "income_distribution (predict_0, target_valid_0, bootstrap_samples, explore_points)"
   ]
  },
  {
   "cell_type": "code",
   "execution_count": 34,
   "metadata": {},
   "outputs": [
    {
     "name": "stdout",
     "output_type": "stream",
     "text": [
      "Для второго региона следующие показатели:\n",
      "Средняя выручка: 456.04510578666105 млн рублей\n",
      "95%-ый доверительный интервал: (48.17905135317801, 863.9111602201441)\n",
      "Вероятность убытков равна 1.50%, что меньше допустимой, регион подходит по критериям\n"
     ]
    },
    {
     "data": {
      "image/png": "[encoded data removed]",
      "text/plain": [
       "<Figure size 432x288 with 1 Axes>"
      ]
     },
     "metadata": {
      "needs_background": "light"
     },
     "output_type": "display_data"
    }
   ],
   "source": [
    "print('Для второго региона следующие показатели:')\n",
    "income_distribution (predict_1, target_valid_1, bootstrap_samples, explore_points)"
   ]
  },
  {
   "cell_type": "code",
   "execution_count": 35,
   "metadata": {},
   "outputs": [
    {
     "name": "stdout",
     "output_type": "stream",
     "text": [
      "Для третьего региона следующие показатели:\n",
      "Средняя выручка: 404.4038665683571 млн рублей\n",
      "95%-ый доверительный интервал: (-131.85736408440744, 940.6650972211216)\n",
      "Вероятность убытков равна 7.60%, что больше допустимой, регион не подходит по критериям\n"
     ]
    },
    {
     "data": {
      "image/png": "[encoded data removed]",
      "text/plain": [
       "<Figure size 432x288 with 1 Axes>"
      ]
     },
     "metadata": {
      "needs_background": "light"
     },
     "output_type": "display_data"
    }
   ],
   "source": [
    "print('Для третьего региона следующие показатели:')\n",
    "income_distribution (predict_2, target_valid_2, bootstrap_samples, explore_points)"
   ]
  },
  {
   "cell_type": "markdown",
   "metadata": {},
   "source": [
    "Вывод:\n",
    "1. Во втором регионе самая высокая средняя выручка (456.0393834020113 млн рублей) и самый низкий риск убытков(вероятность убытков равна 1.50%);\n",
    "2. Только во втором регионе риск убытков меньше 2,5 %, что соответствует условию;\n",
    "3. В связи с вышесказанным нам следует выбрать для разработки 2 регион."
   ]
  },
  {
   "cell_type": "markdown",
   "metadata": {},
   "source": [
    "# Общий вывод:\n",
    "на основании построенной нами модели линейной регрессии и расчетов прогнозируемой прибыли и убытков с помощью Bootstrap мы сделали вывод, что второй регион наиболее выгоден для разработки."
   ]
  }
 ],
 "metadata": {
  "ExecuteTimeLog": [
   {
    "duration": 75,
    "start_time": "2023-03-22T12:22:26.246Z"
   },
   {
    "duration": 1664,
    "start_time": "2023-03-22T12:22:33.382Z"
   },
   {
    "duration": 1663,
    "start_time": "2023-03-22T12:22:36.317Z"
   },
   {
    "duration": 14,
    "start_time": "2023-03-22T12:22:38.203Z"
   },
   {
    "duration": 15,
    "start_time": "2023-03-22T12:23:07.253Z"
   },
   {
    "duration": 5,
    "start_time": "2023-03-22T12:23:31.630Z"
   },
   {
    "duration": 18,
    "start_time": "2023-03-22T12:25:50.025Z"
   },
   {
    "duration": 11,
    "start_time": "2023-03-22T12:28:57.195Z"
   },
   {
    "duration": 74,
    "start_time": "2023-03-22T12:29:40.153Z"
   },
   {
    "duration": 47,
    "start_time": "2023-03-22T12:29:50.537Z"
   },
   {
    "duration": 9,
    "start_time": "2023-03-22T12:32:23.986Z"
   },
   {
    "duration": 11,
    "start_time": "2023-03-22T12:33:50.147Z"
   },
   {
    "duration": 15,
    "start_time": "2023-03-22T12:33:58.132Z"
   },
   {
    "duration": 5,
    "start_time": "2023-03-22T12:34:49.253Z"
   },
   {
    "duration": 10,
    "start_time": "2023-03-22T12:35:07.444Z"
   },
   {
    "duration": 73,
    "start_time": "2023-03-22T12:35:19.829Z"
   },
   {
    "duration": 10,
    "start_time": "2023-03-22T12:36:06.701Z"
   },
   {
    "duration": 16,
    "start_time": "2023-03-22T12:36:21.117Z"
   },
   {
    "duration": 5,
    "start_time": "2023-03-22T12:36:35.621Z"
   },
   {
    "duration": 11,
    "start_time": "2023-03-22T12:37:03.172Z"
   },
   {
    "duration": 51,
    "start_time": "2023-03-22T12:37:15.910Z"
   },
   {
    "duration": 50,
    "start_time": "2023-03-22T12:37:19.892Z"
   },
   {
    "duration": 10,
    "start_time": "2023-03-22T12:37:48.206Z"
   },
   {
    "duration": 44,
    "start_time": "2023-03-22T12:37:53.947Z"
   },
   {
    "duration": 9,
    "start_time": "2023-03-22T13:11:48.440Z"
   },
   {
    "duration": 3,
    "start_time": "2023-03-22T13:11:52.145Z"
   },
   {
    "duration": 10,
    "start_time": "2023-03-22T13:11:53.688Z"
   },
   {
    "duration": 4,
    "start_time": "2023-03-22T13:13:00.665Z"
   },
   {
    "duration": 80,
    "start_time": "2023-03-22T13:14:04.450Z"
   },
   {
    "duration": 80,
    "start_time": "2023-03-22T13:14:45.290Z"
   },
   {
    "duration": 5,
    "start_time": "2023-03-22T13:15:55.211Z"
   },
   {
    "duration": 252,
    "start_time": "2023-03-22T13:17:04.868Z"
   },
   {
    "duration": 4,
    "start_time": "2023-03-22T13:17:19.113Z"
   },
   {
    "duration": 222,
    "start_time": "2023-03-22T13:18:25.717Z"
   },
   {
    "duration": 20,
    "start_time": "2023-03-22T13:24:01.790Z"
   },
   {
    "duration": 141,
    "start_time": "2023-03-22T13:25:10.622Z"
   },
   {
    "duration": 93,
    "start_time": "2023-03-22T13:25:31.198Z"
   },
   {
    "duration": 9,
    "start_time": "2023-03-22T13:26:53.433Z"
   },
   {
    "duration": 12,
    "start_time": "2023-03-22T13:27:05.016Z"
   },
   {
    "duration": 43,
    "start_time": "2023-03-22T13:27:40.439Z"
   },
   {
    "duration": 1481,
    "start_time": "2023-03-22T13:28:32.758Z"
   },
   {
    "duration": 402,
    "start_time": "2023-03-22T13:28:34.241Z"
   },
   {
    "duration": 17,
    "start_time": "2023-03-22T13:28:34.645Z"
   },
   {
    "duration": 30,
    "start_time": "2023-03-22T13:28:34.663Z"
   },
   {
    "duration": 6,
    "start_time": "2023-03-22T13:28:34.696Z"
   },
   {
    "duration": 26,
    "start_time": "2023-03-22T13:28:34.704Z"
   },
   {
    "duration": 75,
    "start_time": "2023-03-22T13:28:34.732Z"
   },
   {
    "duration": 9,
    "start_time": "2023-03-22T13:28:34.809Z"
   },
   {
    "duration": 25,
    "start_time": "2023-03-22T13:28:34.820Z"
   },
   {
    "duration": 5,
    "start_time": "2023-03-22T13:28:34.848Z"
   },
   {
    "duration": 49,
    "start_time": "2023-03-22T13:28:34.854Z"
   },
   {
    "duration": 48,
    "start_time": "2023-03-22T13:28:34.905Z"
   },
   {
    "duration": 9,
    "start_time": "2023-03-22T13:28:34.955Z"
   },
   {
    "duration": 30,
    "start_time": "2023-03-22T13:28:34.966Z"
   },
   {
    "duration": 6,
    "start_time": "2023-03-22T13:28:34.999Z"
   },
   {
    "duration": 17,
    "start_time": "2023-03-22T13:28:35.010Z"
   },
   {
    "duration": 82,
    "start_time": "2023-03-22T13:28:35.029Z"
   },
   {
    "duration": 32,
    "start_time": "2023-03-22T13:28:35.117Z"
   },
   {
    "duration": 25,
    "start_time": "2023-03-22T13:28:35.151Z"
   },
   {
    "duration": 70,
    "start_time": "2023-03-22T13:28:35.178Z"
   },
   {
    "duration": 22,
    "start_time": "2023-03-22T13:29:27.403Z"
   },
   {
    "duration": 22,
    "start_time": "2023-03-22T13:32:54.324Z"
   },
   {
    "duration": 12,
    "start_time": "2023-03-22T13:32:55.549Z"
   },
   {
    "duration": 49,
    "start_time": "2023-03-22T13:32:56.616Z"
   },
   {
    "duration": 21,
    "start_time": "2023-03-22T13:32:57.325Z"
   },
   {
    "duration": 38,
    "start_time": "2023-03-22T13:33:57.885Z"
   },
   {
    "duration": 56,
    "start_time": "2023-03-22T13:34:49.982Z"
   },
   {
    "duration": 17,
    "start_time": "2023-03-22T13:35:11.534Z"
   },
   {
    "duration": 19,
    "start_time": "2023-03-22T13:35:20.717Z"
   },
   {
    "duration": 105,
    "start_time": "2023-03-22T13:35:39.720Z"
   },
   {
    "duration": 75,
    "start_time": "2023-03-22T13:36:20.074Z"
   },
   {
    "duration": 112,
    "start_time": "2023-03-22T13:36:48.168Z"
   },
   {
    "duration": 28,
    "start_time": "2023-03-22T13:37:00.017Z"
   },
   {
    "duration": 47,
    "start_time": "2023-03-22T13:37:42.825Z"
   },
   {
    "duration": 4,
    "start_time": "2023-03-22T13:40:44.234Z"
   },
   {
    "duration": 141,
    "start_time": "2023-03-22T13:41:21.796Z"
   },
   {
    "duration": 43,
    "start_time": "2023-03-22T13:44:54.722Z"
   },
   {
    "duration": 38,
    "start_time": "2023-03-22T13:45:00.548Z"
   },
   {
    "duration": 122,
    "start_time": "2023-03-22T13:47:17.002Z"
   },
   {
    "duration": 47,
    "start_time": "2023-03-22T13:51:38.580Z"
   },
   {
    "duration": 40,
    "start_time": "2023-03-22T13:52:35.129Z"
   },
   {
    "duration": 540,
    "start_time": "2023-03-22T13:56:51.911Z"
   },
   {
    "duration": 1385,
    "start_time": "2023-03-22T13:57:02.727Z"
   },
   {
    "duration": 406,
    "start_time": "2023-03-22T13:57:04.114Z"
   },
   {
    "duration": 14,
    "start_time": "2023-03-22T13:57:04.522Z"
   },
   {
    "duration": 23,
    "start_time": "2023-03-22T13:57:04.538Z"
   },
   {
    "duration": 25,
    "start_time": "2023-03-22T13:57:04.564Z"
   },
   {
    "duration": 14,
    "start_time": "2023-03-22T13:57:04.596Z"
   },
   {
    "duration": 51,
    "start_time": "2023-03-22T13:57:04.612Z"
   },
   {
    "duration": 10,
    "start_time": "2023-03-22T13:57:04.665Z"
   },
   {
    "duration": 26,
    "start_time": "2023-03-22T13:57:04.691Z"
   },
   {
    "duration": 5,
    "start_time": "2023-03-22T13:57:04.719Z"
   },
   {
    "duration": 27,
    "start_time": "2023-03-22T13:57:04.726Z"
   },
   {
    "duration": 56,
    "start_time": "2023-03-22T13:57:04.755Z"
   },
   {
    "duration": 9,
    "start_time": "2023-03-22T13:57:04.812Z"
   },
   {
    "duration": 17,
    "start_time": "2023-03-22T13:57:04.825Z"
   },
   {
    "duration": 10,
    "start_time": "2023-03-22T13:57:04.844Z"
   },
   {
    "duration": 43,
    "start_time": "2023-03-22T13:57:04.856Z"
   },
   {
    "duration": 48,
    "start_time": "2023-03-22T13:57:04.900Z"
   },
   {
    "duration": 615,
    "start_time": "2023-03-22T13:57:04.950Z"
   },
   {
    "duration": 68,
    "start_time": "2023-03-22T13:57:05.567Z"
   },
   {
    "duration": 22,
    "start_time": "2023-03-22T13:57:05.638Z"
   },
   {
    "duration": 143,
    "start_time": "2023-03-22T13:57:05.662Z"
   },
   {
    "duration": 59,
    "start_time": "2023-03-22T13:57:05.807Z"
   },
   {
    "duration": 12,
    "start_time": "2023-03-22T13:57:05.868Z"
   },
   {
    "duration": 1305,
    "start_time": "2023-03-22T14:00:57.355Z"
   },
   {
    "duration": 1461,
    "start_time": "2023-03-22T14:01:06.467Z"
   },
   {
    "duration": 434,
    "start_time": "2023-03-22T14:01:07.930Z"
   },
   {
    "duration": 14,
    "start_time": "2023-03-22T14:01:08.366Z"
   },
   {
    "duration": 27,
    "start_time": "2023-03-22T14:01:08.381Z"
   },
   {
    "duration": 5,
    "start_time": "2023-03-22T14:01:08.411Z"
   },
   {
    "duration": 31,
    "start_time": "2023-03-22T14:01:08.418Z"
   },
   {
    "duration": 60,
    "start_time": "2023-03-22T14:01:08.451Z"
   },
   {
    "duration": 9,
    "start_time": "2023-03-22T14:01:08.512Z"
   },
   {
    "duration": 28,
    "start_time": "2023-03-22T14:01:08.523Z"
   },
   {
    "duration": 5,
    "start_time": "2023-03-22T14:01:08.552Z"
   },
   {
    "duration": 13,
    "start_time": "2023-03-22T14:01:08.559Z"
   },
   {
    "duration": 52,
    "start_time": "2023-03-22T14:01:08.593Z"
   },
   {
    "duration": 9,
    "start_time": "2023-03-22T14:01:08.646Z"
   },
   {
    "duration": 35,
    "start_time": "2023-03-22T14:01:08.658Z"
   },
   {
    "duration": 24,
    "start_time": "2023-03-22T14:01:08.694Z"
   },
   {
    "duration": 17,
    "start_time": "2023-03-22T14:01:08.720Z"
   },
   {
    "duration": 60,
    "start_time": "2023-03-22T14:01:08.739Z"
   },
   {
    "duration": 1779,
    "start_time": "2023-03-22T14:01:08.800Z"
   },
   {
    "duration": 67,
    "start_time": "2023-03-22T14:01:10.582Z"
   },
   {
    "duration": 50,
    "start_time": "2023-03-22T14:01:10.651Z"
   },
   {
    "duration": 125,
    "start_time": "2023-03-22T14:01:10.703Z"
   },
   {
    "duration": 68,
    "start_time": "2023-03-22T14:01:10.830Z"
   },
   {
    "duration": 14,
    "start_time": "2023-03-22T14:01:10.902Z"
   },
   {
    "duration": 118,
    "start_time": "2023-03-22T14:04:23.131Z"
   },
   {
    "duration": 74,
    "start_time": "2023-03-22T14:04:35.934Z"
   },
   {
    "duration": 16,
    "start_time": "2023-03-22T14:05:47.160Z"
   },
   {
    "duration": 17,
    "start_time": "2023-03-22T14:09:05.026Z"
   },
   {
    "duration": 84,
    "start_time": "2023-03-22T14:13:20.130Z"
   },
   {
    "duration": 4,
    "start_time": "2023-03-22T14:13:31.755Z"
   },
   {
    "duration": 13,
    "start_time": "2023-03-22T15:11:39.332Z"
   },
   {
    "duration": 20,
    "start_time": "2023-03-22T15:13:28.184Z"
   },
   {
    "duration": 3,
    "start_time": "2023-03-22T15:24:50.206Z"
   },
   {
    "duration": 4,
    "start_time": "2023-03-22T15:26:27.696Z"
   },
   {
    "duration": 3,
    "start_time": "2023-03-22T15:34:03.538Z"
   },
   {
    "duration": 4,
    "start_time": "2023-03-22T15:34:05.353Z"
   },
   {
    "duration": 5,
    "start_time": "2023-03-22T15:39:43.659Z"
   },
   {
    "duration": 4,
    "start_time": "2023-03-22T15:55:26.206Z"
   },
   {
    "duration": 5,
    "start_time": "2023-03-22T15:56:32.260Z"
   },
   {
    "duration": 16,
    "start_time": "2023-03-22T15:57:24.749Z"
   },
   {
    "duration": 20,
    "start_time": "2023-03-22T15:58:24.510Z"
   },
   {
    "duration": 15,
    "start_time": "2023-03-22T15:58:37.028Z"
   },
   {
    "duration": 17,
    "start_time": "2023-03-22T15:58:44.657Z"
   },
   {
    "duration": 4,
    "start_time": "2023-03-22T16:01:17.742Z"
   },
   {
    "duration": 19,
    "start_time": "2023-03-22T16:01:18.767Z"
   },
   {
    "duration": 15,
    "start_time": "2023-03-22T16:01:23.454Z"
   },
   {
    "duration": 9,
    "start_time": "2023-03-22T16:04:13.006Z"
   },
   {
    "duration": 13,
    "start_time": "2023-03-22T16:04:18.808Z"
   },
   {
    "duration": 23,
    "start_time": "2023-03-22T16:08:52.641Z"
   },
   {
    "duration": 21,
    "start_time": "2023-03-22T16:09:12.042Z"
   },
   {
    "duration": 22,
    "start_time": "2023-03-22T16:09:36.398Z"
   },
   {
    "duration": 23,
    "start_time": "2023-03-22T16:10:46.186Z"
   },
   {
    "duration": 20,
    "start_time": "2023-03-22T16:13:16.669Z"
   },
   {
    "duration": 9,
    "start_time": "2023-03-22T16:13:55.793Z"
   },
   {
    "duration": 9,
    "start_time": "2023-03-22T16:19:34.135Z"
   },
   {
    "duration": 8,
    "start_time": "2023-03-22T16:20:06.367Z"
   },
   {
    "duration": 10,
    "start_time": "2023-03-22T16:20:34.215Z"
   },
   {
    "duration": 5,
    "start_time": "2023-03-22T16:23:56.931Z"
   },
   {
    "duration": 4,
    "start_time": "2023-03-22T16:25:44.398Z"
   },
   {
    "duration": 3,
    "start_time": "2023-03-22T16:26:43.510Z"
   },
   {
    "duration": 4,
    "start_time": "2023-03-22T16:28:14.009Z"
   },
   {
    "duration": 88,
    "start_time": "2023-03-22T16:28:45.113Z"
   },
   {
    "duration": 4,
    "start_time": "2023-03-22T16:28:56.653Z"
   },
   {
    "duration": 3,
    "start_time": "2023-03-22T16:29:00.341Z"
   },
   {
    "duration": 4,
    "start_time": "2023-03-22T16:29:03.061Z"
   },
   {
    "duration": 4,
    "start_time": "2023-03-22T16:29:19.733Z"
   },
   {
    "duration": 4,
    "start_time": "2023-03-22T16:29:59.845Z"
   },
   {
    "duration": 3,
    "start_time": "2023-03-22T16:30:04.118Z"
   },
   {
    "duration": 1391,
    "start_time": "2023-03-22T16:30:39.122Z"
   },
   {
    "duration": 414,
    "start_time": "2023-03-22T16:30:40.515Z"
   },
   {
    "duration": 15,
    "start_time": "2023-03-22T16:30:40.931Z"
   },
   {
    "duration": 16,
    "start_time": "2023-03-22T16:30:40.948Z"
   },
   {
    "duration": 5,
    "start_time": "2023-03-22T16:30:40.966Z"
   },
   {
    "duration": 14,
    "start_time": "2023-03-22T16:30:40.989Z"
   },
   {
    "duration": 57,
    "start_time": "2023-03-22T16:30:41.005Z"
   },
   {
    "duration": 9,
    "start_time": "2023-03-22T16:30:41.064Z"
   },
   {
    "duration": 14,
    "start_time": "2023-03-22T16:30:41.089Z"
   },
   {
    "duration": 5,
    "start_time": "2023-03-22T16:30:41.104Z"
   },
   {
    "duration": 10,
    "start_time": "2023-03-22T16:30:41.111Z"
   },
   {
    "duration": 39,
    "start_time": "2023-03-22T16:30:41.123Z"
   },
   {
    "duration": 9,
    "start_time": "2023-03-22T16:30:41.189Z"
   },
   {
    "duration": 15,
    "start_time": "2023-03-22T16:30:41.201Z"
   },
   {
    "duration": 5,
    "start_time": "2023-03-22T16:30:41.218Z"
   },
   {
    "duration": 15,
    "start_time": "2023-03-22T16:30:41.224Z"
   },
   {
    "duration": 70,
    "start_time": "2023-03-22T16:30:41.241Z"
   },
   {
    "duration": 1597,
    "start_time": "2023-03-22T16:30:41.313Z"
   },
   {
    "duration": 53,
    "start_time": "2023-03-22T16:30:42.912Z"
   },
   {
    "duration": 33,
    "start_time": "2023-03-22T16:30:42.967Z"
   },
   {
    "duration": 124,
    "start_time": "2023-03-22T16:30:43.002Z"
   },
   {
    "duration": 61,
    "start_time": "2023-03-22T16:30:43.127Z"
   },
   {
    "duration": 22,
    "start_time": "2023-03-22T16:30:43.190Z"
   },
   {
    "duration": 180,
    "start_time": "2023-03-22T16:30:43.214Z"
   },
   {
    "duration": 104,
    "start_time": "2023-03-22T16:30:43.396Z"
   },
   {
    "duration": 6,
    "start_time": "2023-03-22T16:30:43.589Z"
   },
   {
    "duration": 102,
    "start_time": "2023-03-22T16:30:43.597Z"
   },
   {
    "duration": 3,
    "start_time": "2023-03-22T16:30:43.701Z"
   },
   {
    "duration": 9,
    "start_time": "2023-03-22T16:30:43.706Z"
   },
   {
    "duration": 10,
    "start_time": "2023-03-22T16:30:43.717Z"
   },
   {
    "duration": 102,
    "start_time": "2023-03-22T16:33:55.520Z"
   },
   {
    "duration": 12,
    "start_time": "2023-03-22T16:35:16.512Z"
   },
   {
    "duration": 15,
    "start_time": "2023-03-22T16:35:41.318Z"
   },
   {
    "duration": 14,
    "start_time": "2023-03-22T16:38:48.947Z"
   },
   {
    "duration": 5,
    "start_time": "2023-03-22T16:39:55.178Z"
   },
   {
    "duration": 15,
    "start_time": "2023-03-22T16:40:00.282Z"
   },
   {
    "duration": 9,
    "start_time": "2023-03-22T16:40:13.328Z"
   },
   {
    "duration": 3,
    "start_time": "2023-03-22T16:40:22.459Z"
   },
   {
    "duration": 15,
    "start_time": "2023-03-22T16:40:47.972Z"
   },
   {
    "duration": 19,
    "start_time": "2023-03-22T16:41:39.705Z"
   },
   {
    "duration": 15,
    "start_time": "2023-03-22T16:42:13.515Z"
   },
   {
    "duration": 20,
    "start_time": "2023-03-22T16:43:19.644Z"
   },
   {
    "duration": 17,
    "start_time": "2023-03-22T16:48:29.834Z"
   },
   {
    "duration": 16,
    "start_time": "2023-03-22T16:48:45.416Z"
   },
   {
    "duration": 79,
    "start_time": "2023-03-22T16:58:05.981Z"
   },
   {
    "duration": 20,
    "start_time": "2023-03-22T16:59:00.834Z"
   },
   {
    "duration": 21,
    "start_time": "2023-03-22T17:01:21.896Z"
   },
   {
    "duration": 19,
    "start_time": "2023-03-22T17:01:30.144Z"
   },
   {
    "duration": 16,
    "start_time": "2023-03-22T17:01:37.679Z"
   },
   {
    "duration": 19,
    "start_time": "2023-03-22T17:19:06.991Z"
   },
   {
    "duration": 15,
    "start_time": "2023-03-22T17:20:10.994Z"
   },
   {
    "duration": 16,
    "start_time": "2023-03-22T17:22:16.526Z"
   },
   {
    "duration": 15,
    "start_time": "2023-03-22T17:25:10.606Z"
   },
   {
    "duration": 15,
    "start_time": "2023-03-22T17:25:50.335Z"
   },
   {
    "duration": 14,
    "start_time": "2023-03-22T17:26:32.537Z"
   },
   {
    "duration": 33,
    "start_time": "2023-03-22T17:28:23.427Z"
   },
   {
    "duration": 75,
    "start_time": "2023-03-22T17:30:12.925Z"
   },
   {
    "duration": 69,
    "start_time": "2023-03-22T17:30:51.192Z"
   },
   {
    "duration": 81,
    "start_time": "2023-03-22T17:31:04.057Z"
   },
   {
    "duration": 128,
    "start_time": "2023-03-22T17:31:15.294Z"
   },
   {
    "duration": 84,
    "start_time": "2023-03-22T17:31:32.128Z"
   },
   {
    "duration": 26,
    "start_time": "2023-03-22T17:31:42.071Z"
   },
   {
    "duration": 75,
    "start_time": "2023-03-22T17:32:02.134Z"
   },
   {
    "duration": 76,
    "start_time": "2023-03-22T17:32:36.287Z"
   },
   {
    "duration": 33,
    "start_time": "2023-03-22T17:33:17.489Z"
   },
   {
    "duration": 29,
    "start_time": "2023-03-22T17:33:26.377Z"
   },
   {
    "duration": 32,
    "start_time": "2023-03-22T17:33:33.594Z"
   },
   {
    "duration": 27,
    "start_time": "2023-03-22T17:35:35.794Z"
   },
   {
    "duration": 37,
    "start_time": "2023-03-23T06:46:55.222Z"
   },
   {
    "duration": 5,
    "start_time": "2023-03-23T06:48:22.589Z"
   },
   {
    "duration": 6,
    "start_time": "2023-03-23T06:48:34.954Z"
   },
   {
    "duration": 18,
    "start_time": "2023-03-23T06:50:08.545Z"
   },
   {
    "duration": 6,
    "start_time": "2023-03-23T06:50:12.154Z"
   },
   {
    "duration": 3,
    "start_time": "2023-03-23T06:53:20.277Z"
   },
   {
    "duration": 3,
    "start_time": "2023-03-23T06:54:02.489Z"
   },
   {
    "duration": 5,
    "start_time": "2023-03-23T06:54:03.715Z"
   },
   {
    "duration": 4,
    "start_time": "2023-03-23T06:56:58.978Z"
   },
   {
    "duration": 61,
    "start_time": "2023-03-23T06:57:04.321Z"
   },
   {
    "duration": 1563,
    "start_time": "2023-03-23T06:58:03.551Z"
   },
   {
    "duration": 748,
    "start_time": "2023-03-23T06:58:05.117Z"
   },
   {
    "duration": 13,
    "start_time": "2023-03-23T06:58:05.867Z"
   },
   {
    "duration": 17,
    "start_time": "2023-03-23T06:58:05.881Z"
   },
   {
    "duration": 4,
    "start_time": "2023-03-23T06:58:05.900Z"
   },
   {
    "duration": 33,
    "start_time": "2023-03-23T06:58:05.906Z"
   },
   {
    "duration": 51,
    "start_time": "2023-03-23T06:58:05.940Z"
   },
   {
    "duration": 10,
    "start_time": "2023-03-23T06:58:05.993Z"
   },
   {
    "duration": 46,
    "start_time": "2023-03-23T06:58:06.005Z"
   },
   {
    "duration": 11,
    "start_time": "2023-03-23T06:58:06.053Z"
   },
   {
    "duration": 14,
    "start_time": "2023-03-23T06:58:06.066Z"
   },
   {
    "duration": 69,
    "start_time": "2023-03-23T06:58:06.082Z"
   },
   {
    "duration": 12,
    "start_time": "2023-03-23T06:58:06.152Z"
   },
   {
    "duration": 19,
    "start_time": "2023-03-23T06:58:06.167Z"
   },
   {
    "duration": 7,
    "start_time": "2023-03-23T06:58:06.188Z"
   },
   {
    "duration": 12,
    "start_time": "2023-03-23T06:58:06.197Z"
   },
   {
    "duration": 62,
    "start_time": "2023-03-23T06:58:06.210Z"
   },
   {
    "duration": 1578,
    "start_time": "2023-03-23T06:58:06.274Z"
   },
   {
    "duration": 37,
    "start_time": "2023-03-23T06:58:07.854Z"
   },
   {
    "duration": 18,
    "start_time": "2023-03-23T06:58:07.893Z"
   },
   {
    "duration": 106,
    "start_time": "2023-03-23T06:58:07.913Z"
   },
   {
    "duration": 57,
    "start_time": "2023-03-23T06:58:08.022Z"
   },
   {
    "duration": 157,
    "start_time": "2023-03-23T06:58:08.080Z"
   },
   {
    "duration": 175,
    "start_time": "2023-03-23T06:58:08.246Z"
   },
   {
    "duration": 121,
    "start_time": "2023-03-23T06:58:08.434Z"
   },
   {
    "duration": 4,
    "start_time": "2023-03-23T06:58:08.556Z"
   },
   {
    "duration": 185,
    "start_time": "2023-03-23T06:58:08.562Z"
   },
   {
    "duration": 8,
    "start_time": "2023-03-23T06:58:08.753Z"
   },
   {
    "duration": 6,
    "start_time": "2023-03-23T06:58:08.762Z"
   },
   {
    "duration": 36,
    "start_time": "2023-03-23T06:58:08.769Z"
   },
   {
    "duration": 156,
    "start_time": "2023-03-23T06:58:08.806Z"
   },
   {
    "duration": 0,
    "start_time": "2023-03-23T06:58:08.964Z"
   },
   {
    "duration": 8,
    "start_time": "2023-03-23T07:02:20.366Z"
   },
   {
    "duration": 4,
    "start_time": "2023-03-23T07:03:00.178Z"
   },
   {
    "duration": 7,
    "start_time": "2023-03-23T07:03:02.250Z"
   },
   {
    "duration": 1365,
    "start_time": "2023-03-23T07:05:38.775Z"
   },
   {
    "duration": 452,
    "start_time": "2023-03-23T07:05:40.142Z"
   },
   {
    "duration": 15,
    "start_time": "2023-03-23T07:05:40.596Z"
   },
   {
    "duration": 30,
    "start_time": "2023-03-23T07:05:40.613Z"
   },
   {
    "duration": 8,
    "start_time": "2023-03-23T07:05:40.646Z"
   },
   {
    "duration": 24,
    "start_time": "2023-03-23T07:05:40.656Z"
   },
   {
    "duration": 68,
    "start_time": "2023-03-23T07:05:40.681Z"
   },
   {
    "duration": 9,
    "start_time": "2023-03-23T07:05:40.751Z"
   },
   {
    "duration": 19,
    "start_time": "2023-03-23T07:05:40.762Z"
   },
   {
    "duration": 5,
    "start_time": "2023-03-23T07:05:40.783Z"
   },
   {
    "duration": 17,
    "start_time": "2023-03-23T07:05:40.789Z"
   },
   {
    "duration": 64,
    "start_time": "2023-03-23T07:05:40.808Z"
   },
   {
    "duration": 9,
    "start_time": "2023-03-23T07:05:40.873Z"
   },
   {
    "duration": 17,
    "start_time": "2023-03-23T07:05:40.883Z"
   },
   {
    "duration": 5,
    "start_time": "2023-03-23T07:05:40.901Z"
   },
   {
    "duration": 29,
    "start_time": "2023-03-23T07:05:40.907Z"
   },
   {
    "duration": 78,
    "start_time": "2023-03-23T07:05:40.937Z"
   },
   {
    "duration": 1766,
    "start_time": "2023-03-23T07:05:41.017Z"
   },
   {
    "duration": 52,
    "start_time": "2023-03-23T07:05:42.785Z"
   },
   {
    "duration": 23,
    "start_time": "2023-03-23T07:05:42.838Z"
   },
   {
    "duration": 179,
    "start_time": "2023-03-23T07:05:42.864Z"
   },
   {
    "duration": 67,
    "start_time": "2023-03-23T07:05:43.047Z"
   },
   {
    "duration": 102,
    "start_time": "2023-03-23T07:05:43.122Z"
   },
   {
    "duration": 138,
    "start_time": "2023-03-23T07:05:43.226Z"
   },
   {
    "duration": 184,
    "start_time": "2023-03-23T07:05:43.365Z"
   },
   {
    "duration": 195,
    "start_time": "2023-03-23T07:05:43.555Z"
   },
   {
    "duration": 23,
    "start_time": "2023-03-23T07:05:43.752Z"
   },
   {
    "duration": 24,
    "start_time": "2023-03-23T07:05:43.779Z"
   },
   {
    "duration": 10,
    "start_time": "2023-03-23T07:05:43.805Z"
   },
   {
    "duration": 48,
    "start_time": "2023-03-23T07:05:43.817Z"
   },
   {
    "duration": 4,
    "start_time": "2023-03-23T07:05:43.867Z"
   },
   {
    "duration": 13,
    "start_time": "2023-03-23T07:05:43.873Z"
   },
   {
    "duration": 147,
    "start_time": "2023-03-23T07:10:16.536Z"
   },
   {
    "duration": 533,
    "start_time": "2023-03-23T07:11:18.576Z"
   },
   {
    "duration": 666,
    "start_time": "2023-03-23T07:12:58.082Z"
   },
   {
    "duration": 15,
    "start_time": "2023-03-23T07:13:14.329Z"
   },
   {
    "duration": 519,
    "start_time": "2023-03-23T07:13:34.242Z"
   },
   {
    "duration": 458,
    "start_time": "2023-03-23T07:13:53.616Z"
   },
   {
    "duration": 6,
    "start_time": "2023-03-23T07:15:03.026Z"
   },
   {
    "duration": 11,
    "start_time": "2023-03-23T07:15:04.673Z"
   },
   {
    "duration": 65,
    "start_time": "2023-03-23T07:15:10.458Z"
   },
   {
    "duration": 4,
    "start_time": "2023-03-23T07:15:23.771Z"
   },
   {
    "duration": 6,
    "start_time": "2023-03-23T07:15:25.797Z"
   },
   {
    "duration": 467,
    "start_time": "2023-03-23T07:15:28.497Z"
   },
   {
    "duration": 513,
    "start_time": "2023-03-23T07:15:33.242Z"
   },
   {
    "duration": 454,
    "start_time": "2023-03-23T07:15:35.474Z"
   },
   {
    "duration": 5,
    "start_time": "2023-03-23T07:20:21.373Z"
   },
   {
    "duration": 567,
    "start_time": "2023-03-23T07:20:22.538Z"
   },
   {
    "duration": 479,
    "start_time": "2023-03-23T07:20:24.085Z"
   },
   {
    "duration": 538,
    "start_time": "2023-03-23T07:20:25.138Z"
   },
   {
    "duration": 15,
    "start_time": "2023-03-23T07:26:12.814Z"
   },
   {
    "duration": 16,
    "start_time": "2023-03-23T07:26:35.354Z"
   },
   {
    "duration": 7,
    "start_time": "2023-03-23T07:26:54.141Z"
   },
   {
    "duration": 11,
    "start_time": "2023-03-23T07:26:55.047Z"
   },
   {
    "duration": 6,
    "start_time": "2023-03-23T07:26:59.664Z"
   },
   {
    "duration": 12,
    "start_time": "2023-03-23T07:27:00.351Z"
   },
   {
    "duration": 6,
    "start_time": "2023-03-23T07:27:39.872Z"
   },
   {
    "duration": 47,
    "start_time": "2023-03-23T07:27:47.493Z"
   },
   {
    "duration": 6,
    "start_time": "2023-03-23T07:28:33.497Z"
   },
   {
    "duration": 37,
    "start_time": "2023-03-23T07:28:34.940Z"
   },
   {
    "duration": 8,
    "start_time": "2023-03-23T07:30:59.142Z"
   },
   {
    "duration": 14,
    "start_time": "2023-03-23T07:31:00.700Z"
   },
   {
    "duration": 9,
    "start_time": "2023-03-23T07:31:12.250Z"
   },
   {
    "duration": 13,
    "start_time": "2023-03-23T07:31:13.138Z"
   },
   {
    "duration": 550,
    "start_time": "2023-03-23T07:31:14.355Z"
   },
   {
    "duration": 6,
    "start_time": "2023-03-23T07:32:23.301Z"
   },
   {
    "duration": 700,
    "start_time": "2023-03-23T07:32:24.139Z"
   },
   {
    "duration": 676,
    "start_time": "2023-03-23T07:33:38.781Z"
   },
   {
    "duration": 707,
    "start_time": "2023-03-23T07:33:43.441Z"
   },
   {
    "duration": 11,
    "start_time": "2023-03-23T09:50:10.313Z"
   },
   {
    "duration": 44,
    "start_time": "2023-03-23T09:51:28.946Z"
   },
   {
    "duration": 8,
    "start_time": "2023-03-23T09:51:51.433Z"
   },
   {
    "duration": 1520,
    "start_time": "2023-03-23T09:52:29.595Z"
   },
   {
    "duration": 1572,
    "start_time": "2023-03-23T09:52:31.117Z"
   },
   {
    "duration": 13,
    "start_time": "2023-03-23T09:52:32.690Z"
   },
   {
    "duration": 16,
    "start_time": "2023-03-23T09:52:32.704Z"
   },
   {
    "duration": 4,
    "start_time": "2023-03-23T09:52:32.722Z"
   },
   {
    "duration": 23,
    "start_time": "2023-03-23T09:52:32.727Z"
   },
   {
    "duration": 40,
    "start_time": "2023-03-23T09:52:32.751Z"
   },
   {
    "duration": 8,
    "start_time": "2023-03-23T09:52:32.792Z"
   },
   {
    "duration": 14,
    "start_time": "2023-03-23T09:52:32.801Z"
   },
   {
    "duration": 24,
    "start_time": "2023-03-23T09:52:32.817Z"
   },
   {
    "duration": 10,
    "start_time": "2023-03-23T09:52:32.843Z"
   },
   {
    "duration": 37,
    "start_time": "2023-03-23T09:52:32.855Z"
   },
   {
    "duration": 8,
    "start_time": "2023-03-23T09:52:32.893Z"
   },
   {
    "duration": 41,
    "start_time": "2023-03-23T09:52:32.903Z"
   },
   {
    "duration": 4,
    "start_time": "2023-03-23T09:52:32.945Z"
   },
   {
    "duration": 14,
    "start_time": "2023-03-23T09:52:32.950Z"
   },
   {
    "duration": 39,
    "start_time": "2023-03-23T09:52:32.966Z"
   },
   {
    "duration": 1350,
    "start_time": "2023-03-23T09:52:33.006Z"
   },
   {
    "duration": 38,
    "start_time": "2023-03-23T09:52:34.357Z"
   },
   {
    "duration": 19,
    "start_time": "2023-03-23T09:52:34.396Z"
   },
   {
    "duration": 150,
    "start_time": "2023-03-23T09:52:34.417Z"
   },
   {
    "duration": 46,
    "start_time": "2023-03-23T09:52:34.569Z"
   },
   {
    "duration": 130,
    "start_time": "2023-03-23T09:52:34.616Z"
   },
   {
    "duration": 98,
    "start_time": "2023-03-23T09:52:34.747Z"
   },
   {
    "duration": 105,
    "start_time": "2023-03-23T09:52:34.846Z"
   },
   {
    "duration": 5,
    "start_time": "2023-03-23T09:52:35.040Z"
   },
   {
    "duration": 88,
    "start_time": "2023-03-23T09:52:35.062Z"
   },
   {
    "duration": 4,
    "start_time": "2023-03-23T09:52:35.152Z"
   },
   {
    "duration": 14,
    "start_time": "2023-03-23T09:52:35.157Z"
   },
   {
    "duration": 36,
    "start_time": "2023-03-23T09:52:35.172Z"
   },
   {
    "duration": 3,
    "start_time": "2023-03-23T09:52:35.240Z"
   },
   {
    "duration": 15,
    "start_time": "2023-03-23T09:52:35.245Z"
   },
   {
    "duration": 132,
    "start_time": "2023-03-23T09:52:35.261Z"
   },
   {
    "duration": 0,
    "start_time": "2023-03-23T09:52:35.395Z"
   },
   {
    "duration": 0,
    "start_time": "2023-03-23T09:52:35.396Z"
   },
   {
    "duration": 7,
    "start_time": "2023-03-23T09:53:09.736Z"
   },
   {
    "duration": 12,
    "start_time": "2023-03-23T09:53:10.562Z"
   },
   {
    "duration": 7,
    "start_time": "2023-03-23T09:53:26.341Z"
   },
   {
    "duration": 559,
    "start_time": "2023-03-23T09:53:27.170Z"
   },
   {
    "duration": 6,
    "start_time": "2023-03-23T09:55:23.668Z"
   },
   {
    "duration": 772,
    "start_time": "2023-03-23T09:55:24.730Z"
   },
   {
    "duration": 841,
    "start_time": "2023-03-23T09:55:59.620Z"
   },
   {
    "duration": 787,
    "start_time": "2023-03-23T09:56:30.181Z"
   },
   {
    "duration": 7,
    "start_time": "2023-03-23T10:07:54.330Z"
   },
   {
    "duration": 744,
    "start_time": "2023-03-23T10:07:57.786Z"
   },
   {
    "duration": 7,
    "start_time": "2023-03-23T10:08:43.995Z"
   },
   {
    "duration": 772,
    "start_time": "2023-03-23T10:08:47.624Z"
   },
   {
    "duration": 7,
    "start_time": "2023-03-23T10:09:14.165Z"
   },
   {
    "duration": 752,
    "start_time": "2023-03-23T10:09:15.170Z"
   },
   {
    "duration": 768,
    "start_time": "2023-03-23T10:09:17.839Z"
   },
   {
    "duration": 835,
    "start_time": "2023-03-23T10:09:19.839Z"
   },
   {
    "duration": 10,
    "start_time": "2023-03-23T10:12:36.229Z"
   },
   {
    "duration": 777,
    "start_time": "2023-03-23T10:12:39.452Z"
   },
   {
    "duration": 787,
    "start_time": "2023-03-23T10:12:42.084Z"
   },
   {
    "duration": 780,
    "start_time": "2023-03-23T10:12:43.868Z"
   },
   {
    "duration": 7,
    "start_time": "2023-03-23T10:16:57.741Z"
   },
   {
    "duration": 760,
    "start_time": "2023-03-23T10:16:58.543Z"
   },
   {
    "duration": 869,
    "start_time": "2023-03-23T10:18:02.264Z"
   },
   {
    "duration": 786,
    "start_time": "2023-03-23T10:18:11.328Z"
   },
   {
    "duration": 1408,
    "start_time": "2023-03-23T10:18:25.427Z"
   },
   {
    "duration": 339,
    "start_time": "2023-03-23T10:18:26.837Z"
   },
   {
    "duration": 12,
    "start_time": "2023-03-23T10:18:27.177Z"
   },
   {
    "duration": 13,
    "start_time": "2023-03-23T10:18:27.190Z"
   },
   {
    "duration": 4,
    "start_time": "2023-03-23T10:18:27.206Z"
   },
   {
    "duration": 29,
    "start_time": "2023-03-23T10:18:27.211Z"
   },
   {
    "duration": 42,
    "start_time": "2023-03-23T10:18:27.242Z"
   },
   {
    "duration": 8,
    "start_time": "2023-03-23T10:18:27.285Z"
   },
   {
    "duration": 20,
    "start_time": "2023-03-23T10:18:27.295Z"
   },
   {
    "duration": 4,
    "start_time": "2023-03-23T10:18:27.316Z"
   },
   {
    "duration": 26,
    "start_time": "2023-03-23T10:18:27.322Z"
   },
   {
    "duration": 41,
    "start_time": "2023-03-23T10:18:27.349Z"
   },
   {
    "duration": 9,
    "start_time": "2023-03-23T10:18:27.392Z"
   },
   {
    "duration": 41,
    "start_time": "2023-03-23T10:18:27.404Z"
   },
   {
    "duration": 4,
    "start_time": "2023-03-23T10:18:27.447Z"
   },
   {
    "duration": 12,
    "start_time": "2023-03-23T10:18:27.453Z"
   },
   {
    "duration": 43,
    "start_time": "2023-03-23T10:18:27.467Z"
   },
   {
    "duration": 1377,
    "start_time": "2023-03-23T10:18:27.511Z"
   },
   {
    "duration": 33,
    "start_time": "2023-03-23T10:18:28.890Z"
   },
   {
    "duration": 24,
    "start_time": "2023-03-23T10:18:28.924Z"
   },
   {
    "duration": 101,
    "start_time": "2023-03-23T10:18:28.949Z"
   },
   {
    "duration": 39,
    "start_time": "2023-03-23T10:18:29.052Z"
   },
   {
    "duration": 56,
    "start_time": "2023-03-23T10:18:29.092Z"
   },
   {
    "duration": 103,
    "start_time": "2023-03-23T10:18:29.149Z"
   },
   {
    "duration": 103,
    "start_time": "2023-03-23T10:18:29.340Z"
   },
   {
    "duration": 96,
    "start_time": "2023-03-23T10:18:29.445Z"
   },
   {
    "duration": 106,
    "start_time": "2023-03-23T10:18:29.544Z"
   },
   {
    "duration": 3,
    "start_time": "2023-03-23T10:18:29.652Z"
   },
   {
    "duration": 7,
    "start_time": "2023-03-23T10:18:29.656Z"
   },
   {
    "duration": 39,
    "start_time": "2023-03-23T10:18:29.665Z"
   },
   {
    "duration": 3,
    "start_time": "2023-03-23T10:18:29.706Z"
   },
   {
    "duration": 16,
    "start_time": "2023-03-23T10:18:29.711Z"
   },
   {
    "duration": 805,
    "start_time": "2023-03-23T10:18:29.729Z"
   },
   {
    "duration": 808,
    "start_time": "2023-03-23T10:18:30.539Z"
   },
   {
    "duration": 913,
    "start_time": "2023-03-23T10:18:31.348Z"
   },
   {
    "duration": 8,
    "start_time": "2023-03-23T10:26:50.791Z"
   },
   {
    "duration": 777,
    "start_time": "2023-03-23T10:26:51.359Z"
   },
   {
    "duration": 830,
    "start_time": "2023-03-23T10:26:52.140Z"
   },
   {
    "duration": 800,
    "start_time": "2023-03-23T10:26:52.972Z"
   },
   {
    "duration": 1260,
    "start_time": "2023-03-23T10:38:18.794Z"
   },
   {
    "duration": 321,
    "start_time": "2023-03-23T10:38:20.055Z"
   },
   {
    "duration": 12,
    "start_time": "2023-03-23T10:38:20.378Z"
   },
   {
    "duration": 13,
    "start_time": "2023-03-23T10:38:20.391Z"
   },
   {
    "duration": 5,
    "start_time": "2023-03-23T10:38:20.406Z"
   },
   {
    "duration": 28,
    "start_time": "2023-03-23T10:38:20.412Z"
   },
   {
    "duration": 45,
    "start_time": "2023-03-23T10:38:20.441Z"
   },
   {
    "duration": 8,
    "start_time": "2023-03-23T10:38:20.488Z"
   },
   {
    "duration": 14,
    "start_time": "2023-03-23T10:38:20.497Z"
   },
   {
    "duration": 27,
    "start_time": "2023-03-23T10:38:20.513Z"
   },
   {
    "duration": 9,
    "start_time": "2023-03-23T10:38:20.542Z"
   },
   {
    "duration": 43,
    "start_time": "2023-03-23T10:38:20.552Z"
   },
   {
    "duration": 8,
    "start_time": "2023-03-23T10:38:20.596Z"
   },
   {
    "duration": 35,
    "start_time": "2023-03-23T10:38:20.607Z"
   },
   {
    "duration": 5,
    "start_time": "2023-03-23T10:38:20.643Z"
   },
   {
    "duration": 12,
    "start_time": "2023-03-23T10:38:20.650Z"
   },
   {
    "duration": 41,
    "start_time": "2023-03-23T10:38:20.663Z"
   },
   {
    "duration": 1375,
    "start_time": "2023-03-23T10:38:20.705Z"
   },
   {
    "duration": 35,
    "start_time": "2023-03-23T10:38:22.081Z"
   },
   {
    "duration": 29,
    "start_time": "2023-03-23T10:38:22.118Z"
   },
   {
    "duration": 100,
    "start_time": "2023-03-23T10:38:22.148Z"
   },
   {
    "duration": 41,
    "start_time": "2023-03-23T10:38:22.249Z"
   },
   {
    "duration": 52,
    "start_time": "2023-03-23T10:38:22.291Z"
   },
   {
    "duration": 104,
    "start_time": "2023-03-23T10:38:22.345Z"
   },
   {
    "duration": 192,
    "start_time": "2023-03-23T10:38:22.451Z"
   },
   {
    "duration": 4,
    "start_time": "2023-03-23T10:38:22.644Z"
   },
   {
    "duration": 103,
    "start_time": "2023-03-23T10:38:22.650Z"
   },
   {
    "duration": 3,
    "start_time": "2023-03-23T10:38:22.755Z"
   },
   {
    "duration": 5,
    "start_time": "2023-03-23T10:38:22.759Z"
   },
   {
    "duration": 99,
    "start_time": "2023-03-23T10:38:22.766Z"
   },
   {
    "duration": 3,
    "start_time": "2023-03-23T10:38:22.867Z"
   },
   {
    "duration": 7,
    "start_time": "2023-03-23T10:38:22.872Z"
   },
   {
    "duration": 820,
    "start_time": "2023-03-23T10:38:22.880Z"
   },
   {
    "duration": 790,
    "start_time": "2023-03-23T10:38:23.702Z"
   },
   {
    "duration": 871,
    "start_time": "2023-03-23T10:38:24.493Z"
   },
   {
    "duration": 2479,
    "start_time": "2023-03-24T05:17:11.222Z"
   },
   {
    "duration": 493,
    "start_time": "2023-03-24T05:17:13.704Z"
   },
   {
    "duration": 24,
    "start_time": "2023-03-24T05:17:14.204Z"
   },
   {
    "duration": 27,
    "start_time": "2023-03-24T05:17:14.230Z"
   },
   {
    "duration": 5,
    "start_time": "2023-03-24T05:17:14.260Z"
   },
   {
    "duration": 72,
    "start_time": "2023-03-24T05:17:14.267Z"
   },
   {
    "duration": 76,
    "start_time": "2023-03-24T05:17:14.341Z"
   },
   {
    "duration": 19,
    "start_time": "2023-03-24T05:17:14.422Z"
   },
   {
    "duration": 22,
    "start_time": "2023-03-24T05:17:14.446Z"
   },
   {
    "duration": 20,
    "start_time": "2023-03-24T05:17:14.469Z"
   },
   {
    "duration": 48,
    "start_time": "2023-03-24T05:17:14.494Z"
   },
   {
    "duration": 63,
    "start_time": "2023-03-24T05:17:14.543Z"
   },
   {
    "duration": 11,
    "start_time": "2023-03-24T05:17:14.611Z"
   },
   {
    "duration": 34,
    "start_time": "2023-03-24T05:17:14.628Z"
   },
   {
    "duration": 5,
    "start_time": "2023-03-24T05:17:14.664Z"
   },
   {
    "duration": 70,
    "start_time": "2023-03-24T05:17:14.671Z"
   },
   {
    "duration": 57,
    "start_time": "2023-03-24T05:17:14.743Z"
   },
   {
    "duration": 2131,
    "start_time": "2023-03-24T05:17:14.802Z"
   },
   {
    "duration": 80,
    "start_time": "2023-03-24T05:17:16.945Z"
   },
   {
    "duration": 64,
    "start_time": "2023-03-24T05:17:17.027Z"
   },
   {
    "duration": 227,
    "start_time": "2023-03-24T05:17:17.093Z"
   },
   {
    "duration": 104,
    "start_time": "2023-03-24T05:17:17.322Z"
   },
   {
    "duration": 71,
    "start_time": "2023-03-24T05:17:17.428Z"
   },
   {
    "duration": 132,
    "start_time": "2023-03-24T05:17:17.514Z"
   },
   {
    "duration": 194,
    "start_time": "2023-03-24T05:17:17.647Z"
   },
   {
    "duration": 31,
    "start_time": "2023-03-24T05:17:17.907Z"
   },
   {
    "duration": 44,
    "start_time": "2023-03-24T05:17:17.952Z"
   },
   {
    "duration": 37,
    "start_time": "2023-03-24T05:17:18.006Z"
   },
   {
    "duration": 8,
    "start_time": "2023-03-24T05:17:18.045Z"
   },
   {
    "duration": 39,
    "start_time": "2023-03-24T05:17:18.054Z"
   },
   {
    "duration": 33,
    "start_time": "2023-03-24T05:17:18.095Z"
   },
   {
    "duration": 36,
    "start_time": "2023-03-24T05:17:18.130Z"
   },
   {
    "duration": 1167,
    "start_time": "2023-03-24T05:17:18.168Z"
   },
   {
    "duration": 1052,
    "start_time": "2023-03-24T05:17:19.337Z"
   },
   {
    "duration": 1114,
    "start_time": "2023-03-24T05:17:20.391Z"
   },
   {
    "duration": 79,
    "start_time": "2023-03-24T11:52:20.090Z"
   },
   {
    "duration": 1783,
    "start_time": "2023-03-24T11:52:34.133Z"
   },
   {
    "duration": 2109,
    "start_time": "2023-03-24T11:52:35.919Z"
   },
   {
    "duration": 15,
    "start_time": "2023-03-24T11:52:38.030Z"
   },
   {
    "duration": 16,
    "start_time": "2023-03-24T11:52:38.047Z"
   },
   {
    "duration": 7,
    "start_time": "2023-03-24T11:52:38.066Z"
   },
   {
    "duration": 22,
    "start_time": "2023-03-24T11:52:38.075Z"
   },
   {
    "duration": 58,
    "start_time": "2023-03-24T11:52:38.102Z"
   },
   {
    "duration": 10,
    "start_time": "2023-03-24T11:52:38.162Z"
   },
   {
    "duration": 46,
    "start_time": "2023-03-24T11:52:38.174Z"
   },
   {
    "duration": 7,
    "start_time": "2023-03-24T11:52:38.223Z"
   },
   {
    "duration": 11,
    "start_time": "2023-03-24T11:52:38.232Z"
   },
   {
    "duration": 77,
    "start_time": "2023-03-24T11:52:38.245Z"
   },
   {
    "duration": 15,
    "start_time": "2023-03-24T11:52:38.325Z"
   },
   {
    "duration": 19,
    "start_time": "2023-03-24T11:52:38.345Z"
   },
   {
    "duration": 6,
    "start_time": "2023-03-24T11:52:38.365Z"
   },
   {
    "duration": 21,
    "start_time": "2023-03-24T11:52:38.396Z"
   },
   {
    "duration": 53,
    "start_time": "2023-03-24T11:52:38.419Z"
   },
   {
    "duration": 26,
    "start_time": "2023-03-24T11:52:38.474Z"
   },
   {
    "duration": 65,
    "start_time": "2023-03-24T11:52:38.509Z"
   },
   {
    "duration": 41,
    "start_time": "2023-03-24T11:52:38.575Z"
   },
   {
    "duration": 132,
    "start_time": "2023-03-24T11:52:38.618Z"
   },
   {
    "duration": 67,
    "start_time": "2023-03-24T11:52:38.752Z"
   },
   {
    "duration": 188,
    "start_time": "2023-03-24T11:52:38.823Z"
   },
   {
    "duration": 278,
    "start_time": "2023-03-24T11:52:39.013Z"
   },
   {
    "duration": 0,
    "start_time": "2023-03-24T11:52:39.295Z"
   },
   {
    "duration": 0,
    "start_time": "2023-03-24T11:52:39.295Z"
   },
   {
    "duration": 0,
    "start_time": "2023-03-24T11:52:39.296Z"
   },
   {
    "duration": 0,
    "start_time": "2023-03-24T11:52:39.300Z"
   },
   {
    "duration": 0,
    "start_time": "2023-03-24T11:52:39.301Z"
   },
   {
    "duration": 0,
    "start_time": "2023-03-24T11:52:39.302Z"
   },
   {
    "duration": 0,
    "start_time": "2023-03-24T11:52:39.303Z"
   },
   {
    "duration": 0,
    "start_time": "2023-03-24T11:52:39.304Z"
   },
   {
    "duration": 0,
    "start_time": "2023-03-24T11:52:39.304Z"
   },
   {
    "duration": 0,
    "start_time": "2023-03-24T11:52:39.305Z"
   },
   {
    "duration": 0,
    "start_time": "2023-03-24T11:52:39.305Z"
   },
   {
    "duration": 18,
    "start_time": "2023-03-24T11:53:02.217Z"
   },
   {
    "duration": 34,
    "start_time": "2023-03-24T11:53:26.291Z"
   },
   {
    "duration": 28,
    "start_time": "2023-03-24T11:53:34.176Z"
   },
   {
    "duration": 23,
    "start_time": "2023-03-24T11:54:28.753Z"
   },
   {
    "duration": 20,
    "start_time": "2023-03-24T11:54:33.346Z"
   },
   {
    "duration": 21,
    "start_time": "2023-03-24T11:54:40.658Z"
   },
   {
    "duration": 19,
    "start_time": "2023-03-24T11:55:58.374Z"
   },
   {
    "duration": 13,
    "start_time": "2023-03-24T11:56:05.819Z"
   },
   {
    "duration": 1675,
    "start_time": "2023-03-24T11:56:26.264Z"
   },
   {
    "duration": 463,
    "start_time": "2023-03-24T11:56:27.942Z"
   },
   {
    "duration": 19,
    "start_time": "2023-03-24T11:56:28.413Z"
   },
   {
    "duration": 26,
    "start_time": "2023-03-24T11:56:28.435Z"
   },
   {
    "duration": 7,
    "start_time": "2023-03-24T11:56:28.465Z"
   },
   {
    "duration": 23,
    "start_time": "2023-03-24T11:56:28.491Z"
   },
   {
    "duration": 56,
    "start_time": "2023-03-24T11:56:28.516Z"
   },
   {
    "duration": 30,
    "start_time": "2023-03-24T11:56:28.574Z"
   },
   {
    "duration": 29,
    "start_time": "2023-03-24T11:56:28.606Z"
   },
   {
    "duration": 5,
    "start_time": "2023-03-24T11:56:28.637Z"
   },
   {
    "duration": 15,
    "start_time": "2023-03-24T11:56:28.644Z"
   },
   {
    "duration": 79,
    "start_time": "2023-03-24T11:56:28.661Z"
   },
   {
    "duration": 10,
    "start_time": "2023-03-24T11:56:28.742Z"
   },
   {
    "duration": 39,
    "start_time": "2023-03-24T11:56:28.755Z"
   },
   {
    "duration": 7,
    "start_time": "2023-03-24T11:56:28.795Z"
   },
   {
    "duration": 20,
    "start_time": "2023-03-24T11:56:28.805Z"
   },
   {
    "duration": 52,
    "start_time": "2023-03-24T11:56:28.827Z"
   },
   {
    "duration": 20,
    "start_time": "2023-03-24T11:56:28.892Z"
   },
   {
    "duration": 88,
    "start_time": "2023-03-24T11:56:28.914Z"
   },
   {
    "duration": 32,
    "start_time": "2023-03-24T11:56:29.011Z"
   },
   {
    "duration": 90,
    "start_time": "2023-03-24T11:56:29.045Z"
   },
   {
    "duration": 33,
    "start_time": "2023-03-24T11:56:29.137Z"
   },
   {
    "duration": 45,
    "start_time": "2023-03-24T11:56:29.172Z"
   },
   {
    "duration": 174,
    "start_time": "2023-03-24T11:56:29.218Z"
   },
   {
    "duration": 244,
    "start_time": "2023-03-24T11:56:29.400Z"
   },
   {
    "duration": 0,
    "start_time": "2023-03-24T11:56:29.646Z"
   },
   {
    "duration": 0,
    "start_time": "2023-03-24T11:56:29.647Z"
   },
   {
    "duration": 0,
    "start_time": "2023-03-24T11:56:29.648Z"
   },
   {
    "duration": 0,
    "start_time": "2023-03-24T11:56:29.650Z"
   },
   {
    "duration": 0,
    "start_time": "2023-03-24T11:56:29.651Z"
   },
   {
    "duration": 0,
    "start_time": "2023-03-24T11:56:29.652Z"
   },
   {
    "duration": 0,
    "start_time": "2023-03-24T11:56:29.653Z"
   },
   {
    "duration": 0,
    "start_time": "2023-03-24T11:56:29.654Z"
   },
   {
    "duration": 0,
    "start_time": "2023-03-24T11:56:29.655Z"
   },
   {
    "duration": 0,
    "start_time": "2023-03-24T11:56:29.656Z"
   },
   {
    "duration": 15,
    "start_time": "2023-03-24T11:56:54.259Z"
   },
   {
    "duration": 1597,
    "start_time": "2023-03-24T11:58:40.714Z"
   },
   {
    "duration": 457,
    "start_time": "2023-03-24T11:58:42.315Z"
   },
   {
    "duration": 24,
    "start_time": "2023-03-24T11:58:42.775Z"
   },
   {
    "duration": 26,
    "start_time": "2023-03-24T11:58:42.806Z"
   },
   {
    "duration": 6,
    "start_time": "2023-03-24T11:58:42.835Z"
   },
   {
    "duration": 22,
    "start_time": "2023-03-24T11:58:42.842Z"
   },
   {
    "duration": 84,
    "start_time": "2023-03-24T11:58:42.866Z"
   },
   {
    "duration": 14,
    "start_time": "2023-03-24T11:58:42.952Z"
   },
   {
    "duration": 38,
    "start_time": "2023-03-24T11:58:42.968Z"
   },
   {
    "duration": 11,
    "start_time": "2023-03-24T11:58:43.009Z"
   },
   {
    "duration": 17,
    "start_time": "2023-03-24T11:58:43.026Z"
   },
   {
    "duration": 78,
    "start_time": "2023-03-24T11:58:43.046Z"
   },
   {
    "duration": 11,
    "start_time": "2023-03-24T11:58:43.126Z"
   },
   {
    "duration": 23,
    "start_time": "2023-03-24T11:58:43.143Z"
   },
   {
    "duration": 41,
    "start_time": "2023-03-24T11:58:43.169Z"
   },
   {
    "duration": 21,
    "start_time": "2023-03-24T11:58:43.213Z"
   },
   {
    "duration": 57,
    "start_time": "2023-03-24T11:58:43.236Z"
   },
   {
    "duration": 10,
    "start_time": "2023-03-24T11:58:43.300Z"
   },
   {
    "duration": 92,
    "start_time": "2023-03-24T11:58:43.312Z"
   },
   {
    "duration": 33,
    "start_time": "2023-03-24T11:58:43.406Z"
   },
   {
    "duration": 81,
    "start_time": "2023-03-24T11:58:43.441Z"
   },
   {
    "duration": 34,
    "start_time": "2023-03-24T11:58:43.524Z"
   },
   {
    "duration": 49,
    "start_time": "2023-03-24T11:58:43.560Z"
   },
   {
    "duration": 96,
    "start_time": "2023-03-24T11:58:43.611Z"
   },
   {
    "duration": 338,
    "start_time": "2023-03-24T11:58:43.710Z"
   },
   {
    "duration": 0,
    "start_time": "2023-03-24T11:58:44.050Z"
   },
   {
    "duration": 0,
    "start_time": "2023-03-24T11:58:44.051Z"
   },
   {
    "duration": 0,
    "start_time": "2023-03-24T11:58:44.053Z"
   },
   {
    "duration": 0,
    "start_time": "2023-03-24T11:58:44.054Z"
   },
   {
    "duration": 0,
    "start_time": "2023-03-24T11:58:44.055Z"
   },
   {
    "duration": 0,
    "start_time": "2023-03-24T11:58:44.056Z"
   },
   {
    "duration": 0,
    "start_time": "2023-03-24T11:58:44.057Z"
   },
   {
    "duration": 0,
    "start_time": "2023-03-24T11:58:44.059Z"
   },
   {
    "duration": 0,
    "start_time": "2023-03-24T11:58:44.059Z"
   },
   {
    "duration": 0,
    "start_time": "2023-03-24T11:58:44.060Z"
   },
   {
    "duration": 19,
    "start_time": "2023-03-24T11:59:22.965Z"
   },
   {
    "duration": 16,
    "start_time": "2023-03-24T11:59:58.330Z"
   },
   {
    "duration": 23,
    "start_time": "2023-03-24T12:00:14.007Z"
   },
   {
    "duration": 1848,
    "start_time": "2023-03-24T12:00:55.900Z"
   },
   {
    "duration": 502,
    "start_time": "2023-03-24T12:00:57.752Z"
   },
   {
    "duration": 16,
    "start_time": "2023-03-24T12:00:58.257Z"
   },
   {
    "duration": 33,
    "start_time": "2023-03-24T12:00:58.275Z"
   },
   {
    "duration": 8,
    "start_time": "2023-03-24T12:00:58.311Z"
   },
   {
    "duration": 15,
    "start_time": "2023-03-24T12:00:58.321Z"
   },
   {
    "duration": 80,
    "start_time": "2023-03-24T12:00:58.338Z"
   },
   {
    "duration": 13,
    "start_time": "2023-03-24T12:00:58.420Z"
   },
   {
    "duration": 23,
    "start_time": "2023-03-24T12:00:58.435Z"
   },
   {
    "duration": 8,
    "start_time": "2023-03-24T12:00:58.460Z"
   },
   {
    "duration": 20,
    "start_time": "2023-03-24T12:00:58.499Z"
   },
   {
    "duration": 52,
    "start_time": "2023-03-24T12:00:58.521Z"
   },
   {
    "duration": 25,
    "start_time": "2023-03-24T12:00:58.575Z"
   },
   {
    "duration": 34,
    "start_time": "2023-03-24T12:00:58.610Z"
   },
   {
    "duration": 5,
    "start_time": "2023-03-24T12:00:58.646Z"
   },
   {
    "duration": 15,
    "start_time": "2023-03-24T12:00:58.653Z"
   },
   {
    "duration": 68,
    "start_time": "2023-03-24T12:00:58.670Z"
   },
   {
    "duration": 20,
    "start_time": "2023-03-24T12:00:58.740Z"
   },
   {
    "duration": 73,
    "start_time": "2023-03-24T12:00:58.762Z"
   },
   {
    "duration": 30,
    "start_time": "2023-03-24T12:00:58.837Z"
   },
   {
    "duration": 59,
    "start_time": "2023-03-24T12:00:58.869Z"
   },
   {
    "duration": 38,
    "start_time": "2023-03-24T12:00:58.930Z"
   },
   {
    "duration": 41,
    "start_time": "2023-03-24T12:00:58.971Z"
   },
   {
    "duration": 183,
    "start_time": "2023-03-24T12:00:59.015Z"
   },
   {
    "duration": 128,
    "start_time": "2023-03-24T12:00:59.199Z"
   },
   {
    "duration": 69,
    "start_time": "2023-03-24T12:00:59.331Z"
   },
   {
    "duration": 105,
    "start_time": "2023-03-24T12:00:59.403Z"
   },
   {
    "duration": 5,
    "start_time": "2023-03-24T12:00:59.517Z"
   },
   {
    "duration": 5,
    "start_time": "2023-03-24T12:00:59.525Z"
   },
   {
    "duration": 33,
    "start_time": "2023-03-24T12:00:59.532Z"
   },
   {
    "duration": 4,
    "start_time": "2023-03-24T12:00:59.567Z"
   },
   {
    "duration": 21,
    "start_time": "2023-03-24T12:00:59.574Z"
   },
   {
    "duration": 1226,
    "start_time": "2023-03-24T12:00:59.598Z"
   },
   {
    "duration": 1107,
    "start_time": "2023-03-24T12:01:00.826Z"
   },
   {
    "duration": 1201,
    "start_time": "2023-03-24T12:01:01.936Z"
   },
   {
    "duration": 145,
    "start_time": "2023-03-24T12:06:17.907Z"
   },
   {
    "duration": 1593,
    "start_time": "2023-03-24T12:06:25.619Z"
   },
   {
    "duration": 580,
    "start_time": "2023-03-24T12:06:27.215Z"
   },
   {
    "duration": 32,
    "start_time": "2023-03-24T12:06:27.798Z"
   },
   {
    "duration": 20,
    "start_time": "2023-03-24T12:06:27.843Z"
   },
   {
    "duration": 6,
    "start_time": "2023-03-24T12:06:27.866Z"
   },
   {
    "duration": 22,
    "start_time": "2023-03-24T12:06:27.874Z"
   },
   {
    "duration": 67,
    "start_time": "2023-03-24T12:06:27.898Z"
   },
   {
    "duration": 28,
    "start_time": "2023-03-24T12:06:27.967Z"
   },
   {
    "duration": 25,
    "start_time": "2023-03-24T12:06:28.000Z"
   },
   {
    "duration": 5,
    "start_time": "2023-03-24T12:06:28.029Z"
   },
   {
    "duration": 21,
    "start_time": "2023-03-24T12:06:28.036Z"
   },
   {
    "duration": 80,
    "start_time": "2023-03-24T12:06:28.059Z"
   },
   {
    "duration": 11,
    "start_time": "2023-03-24T12:06:28.140Z"
   },
   {
    "duration": 45,
    "start_time": "2023-03-24T12:06:28.154Z"
   },
   {
    "duration": 7,
    "start_time": "2023-03-24T12:06:28.210Z"
   },
   {
    "duration": 14,
    "start_time": "2023-03-24T12:06:28.220Z"
   },
   {
    "duration": 60,
    "start_time": "2023-03-24T12:06:28.236Z"
   },
   {
    "duration": 24,
    "start_time": "2023-03-24T12:06:28.306Z"
   },
   {
    "duration": 50,
    "start_time": "2023-03-24T12:06:28.332Z"
   },
   {
    "duration": 42,
    "start_time": "2023-03-24T12:06:28.389Z"
   },
   {
    "duration": 43,
    "start_time": "2023-03-24T12:06:28.433Z"
   },
   {
    "duration": 38,
    "start_time": "2023-03-24T12:06:28.494Z"
   },
   {
    "duration": 69,
    "start_time": "2023-03-24T12:06:28.534Z"
   },
   {
    "duration": 120,
    "start_time": "2023-03-24T12:06:28.606Z"
   },
   {
    "duration": 178,
    "start_time": "2023-03-24T12:06:28.730Z"
   },
   {
    "duration": 6,
    "start_time": "2023-03-24T12:06:28.993Z"
   },
   {
    "duration": 23,
    "start_time": "2023-03-24T12:06:29.001Z"
   },
   {
    "duration": 3,
    "start_time": "2023-03-24T12:06:29.026Z"
   },
   {
    "duration": 6,
    "start_time": "2023-03-24T12:06:29.032Z"
   },
   {
    "duration": 55,
    "start_time": "2023-03-24T12:06:29.040Z"
   },
   {
    "duration": 10,
    "start_time": "2023-03-24T12:06:29.097Z"
   },
   {
    "duration": 23,
    "start_time": "2023-03-24T12:06:29.109Z"
   },
   {
    "duration": 1201,
    "start_time": "2023-03-24T12:06:29.134Z"
   },
   {
    "duration": 1128,
    "start_time": "2023-03-24T12:06:30.338Z"
   },
   {
    "duration": 1263,
    "start_time": "2023-03-24T12:06:31.468Z"
   },
   {
    "duration": 143,
    "start_time": "2023-03-24T12:07:45.143Z"
   },
   {
    "duration": 56,
    "start_time": "2023-03-24T12:09:33.434Z"
   },
   {
    "duration": 75,
    "start_time": "2023-03-24T12:10:27.345Z"
   },
   {
    "duration": 68,
    "start_time": "2023-03-24T12:11:14.930Z"
   },
   {
    "duration": 1620,
    "start_time": "2023-03-24T12:11:51.212Z"
   },
   {
    "duration": 479,
    "start_time": "2023-03-24T12:11:52.834Z"
   },
   {
    "duration": 13,
    "start_time": "2023-03-24T12:11:53.316Z"
   },
   {
    "duration": 28,
    "start_time": "2023-03-24T12:11:53.330Z"
   },
   {
    "duration": 7,
    "start_time": "2023-03-24T12:11:53.361Z"
   },
   {
    "duration": 36,
    "start_time": "2023-03-24T12:11:53.370Z"
   },
   {
    "duration": 57,
    "start_time": "2023-03-24T12:11:53.408Z"
   },
   {
    "duration": 10,
    "start_time": "2023-03-24T12:11:53.467Z"
   },
   {
    "duration": 37,
    "start_time": "2023-03-24T12:11:53.490Z"
   },
   {
    "duration": 33,
    "start_time": "2023-03-24T12:11:53.529Z"
   },
   {
    "duration": 46,
    "start_time": "2023-03-24T12:11:53.564Z"
   },
   {
    "duration": 48,
    "start_time": "2023-03-24T12:11:53.618Z"
   },
   {
    "duration": 10,
    "start_time": "2023-03-24T12:11:53.668Z"
   },
   {
    "duration": 42,
    "start_time": "2023-03-24T12:11:53.681Z"
   },
   {
    "duration": 19,
    "start_time": "2023-03-24T12:11:53.725Z"
   },
   {
    "duration": 33,
    "start_time": "2023-03-24T12:11:53.747Z"
   },
   {
    "duration": 72,
    "start_time": "2023-03-24T12:11:53.782Z"
   },
   {
    "duration": 18,
    "start_time": "2023-03-24T12:11:53.855Z"
   },
   {
    "duration": 64,
    "start_time": "2023-03-24T12:11:53.875Z"
   },
   {
    "duration": 27,
    "start_time": "2023-03-24T12:11:53.941Z"
   },
   {
    "duration": 58,
    "start_time": "2023-03-24T12:11:53.970Z"
   },
   {
    "duration": 22,
    "start_time": "2023-03-24T12:11:54.030Z"
   },
   {
    "duration": 58,
    "start_time": "2023-03-24T12:11:54.054Z"
   },
   {
    "duration": 111,
    "start_time": "2023-03-24T12:11:54.114Z"
   },
   {
    "duration": 107,
    "start_time": "2023-03-24T12:11:54.301Z"
   },
   {
    "duration": 15,
    "start_time": "2023-03-24T12:11:54.411Z"
   },
   {
    "duration": 95,
    "start_time": "2023-03-24T12:11:54.429Z"
   },
   {
    "duration": 3,
    "start_time": "2023-03-24T12:11:54.526Z"
   },
   {
    "duration": 24,
    "start_time": "2023-03-24T12:11:54.531Z"
   },
   {
    "duration": 63,
    "start_time": "2023-03-24T12:11:54.606Z"
   },
   {
    "duration": 4,
    "start_time": "2023-03-24T12:11:54.671Z"
   },
   {
    "duration": 46,
    "start_time": "2023-03-24T12:11:54.677Z"
   },
   {
    "duration": 1334,
    "start_time": "2023-03-24T12:11:54.725Z"
   },
   {
    "duration": 1257,
    "start_time": "2023-03-24T12:11:56.062Z"
   },
   {
    "duration": 1409,
    "start_time": "2023-03-24T12:11:57.321Z"
   },
   {
    "duration": 1689,
    "start_time": "2023-03-24T12:13:27.519Z"
   },
   {
    "duration": 484,
    "start_time": "2023-03-24T12:13:29.214Z"
   },
   {
    "duration": 19,
    "start_time": "2023-03-24T12:13:29.700Z"
   },
   {
    "duration": 16,
    "start_time": "2023-03-24T12:13:29.720Z"
   },
   {
    "duration": 5,
    "start_time": "2023-03-24T12:13:29.739Z"
   },
   {
    "duration": 22,
    "start_time": "2023-03-24T12:13:29.746Z"
   },
   {
    "duration": 81,
    "start_time": "2023-03-24T12:13:29.770Z"
   },
   {
    "duration": 10,
    "start_time": "2023-03-24T12:13:29.853Z"
   },
   {
    "duration": 31,
    "start_time": "2023-03-24T12:13:29.864Z"
   },
   {
    "duration": 9,
    "start_time": "2023-03-24T12:13:29.900Z"
   },
   {
    "duration": 11,
    "start_time": "2023-03-24T12:13:29.918Z"
   },
   {
    "duration": 76,
    "start_time": "2023-03-24T12:13:29.931Z"
   },
   {
    "duration": 12,
    "start_time": "2023-03-24T12:13:30.014Z"
   },
   {
    "duration": 34,
    "start_time": "2023-03-24T12:13:30.030Z"
   },
   {
    "duration": 25,
    "start_time": "2023-03-24T12:13:30.066Z"
   },
   {
    "duration": 42,
    "start_time": "2023-03-24T12:13:30.099Z"
   },
   {
    "duration": 104,
    "start_time": "2023-03-24T12:13:30.143Z"
   },
   {
    "duration": 18,
    "start_time": "2023-03-24T12:13:30.249Z"
   },
   {
    "duration": 102,
    "start_time": "2023-03-24T12:13:30.269Z"
   },
   {
    "duration": 31,
    "start_time": "2023-03-24T12:13:30.373Z"
   },
   {
    "duration": 71,
    "start_time": "2023-03-24T12:13:30.406Z"
   },
   {
    "duration": 37,
    "start_time": "2023-03-24T12:13:30.479Z"
   },
   {
    "duration": 85,
    "start_time": "2023-03-24T12:13:30.518Z"
   },
   {
    "duration": 118,
    "start_time": "2023-03-24T12:13:30.606Z"
   },
   {
    "duration": 91,
    "start_time": "2023-03-24T12:13:30.726Z"
   },
   {
    "duration": 83,
    "start_time": "2023-03-24T12:13:30.825Z"
   },
   {
    "duration": 31,
    "start_time": "2023-03-24T12:13:30.910Z"
   },
   {
    "duration": 14,
    "start_time": "2023-03-24T12:13:30.943Z"
   },
   {
    "duration": 32,
    "start_time": "2023-03-24T12:13:30.995Z"
   },
   {
    "duration": 82,
    "start_time": "2023-03-24T12:13:31.028Z"
   },
   {
    "duration": 6,
    "start_time": "2023-03-24T12:13:31.116Z"
   },
   {
    "duration": 34,
    "start_time": "2023-03-24T12:13:31.125Z"
   },
   {
    "duration": 1188,
    "start_time": "2023-03-24T12:13:31.160Z"
   },
   {
    "duration": 1180,
    "start_time": "2023-03-24T12:13:32.350Z"
   },
   {
    "duration": 1219,
    "start_time": "2023-03-24T12:13:33.531Z"
   }
  ],
  "kernelspec": {
   "display_name": "Python 3 (ipykernel)",
   "language": "python",
   "name": "python3"
  },
  "language_info": {
   "codemirror_mode": {
    "name": "ipython",
    "version": 3
   },
   "file_extension": ".py",
   "mimetype": "text/x-python",
   "name": "python",
   "nbconvert_exporter": "python",
   "pygments_lexer": "ipython3",
   "version": "3.9.5"
  },
  "toc": {
   "base_numbering": 1,
   "nav_menu": {},
   "number_sections": true,
   "sideBar": true,
   "skip_h1_title": true,
   "title_cell": "Table of Contents",
   "title_sidebar": "Contents",
   "toc_cell": false,
   "toc_position": {},
   "toc_section_display": true,
   "toc_window_display": true
  }
 },
 "nbformat": 4,
 "nbformat_minor": 2
}
