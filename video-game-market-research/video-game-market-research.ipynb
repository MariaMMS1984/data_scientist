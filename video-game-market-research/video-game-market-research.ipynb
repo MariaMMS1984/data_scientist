{
 "cells": [
  {
   "cell_type": "markdown",
   "metadata": {},
   "source": [
    "#  Исследование рынка видеоигр\n",
    "\n",
    "   Мы будем исследовать мировой рынок видеоигр, выпускаемых различными платформами, по всему миру и нескольким значимым регионам в отдельности на основании данных из открытых источников о продажах игр, оценках пользователей и критиков, жанрах и платформах (таких, как ПК, Xbox,PS) за период 1980-2016 годы. \n",
    "   На основании имеющейся выборки мы спрогнозируем наиболее перспективные, успешные продукты, выявим, во что лучше вложиться в будущем (какой жанр, консоль и т.д.), по каким направлениям следует сделать рекламные компании.\n",
    "   "
   ]
  },
  {
   "cell_type": "markdown",
   "metadata": {},
   "source": [
    "1. Открываем файл и изучаем информацию"
   ]
  },
  {
   "cell_type": "code",
   "execution_count": 1,
   "metadata": {},
   "outputs": [],
   "source": [
    "import pandas as pd\n",
    "import seaborn as sns\n",
    "import matplotlib.pyplot as plt\n",
    "from scipy import stats as st"
   ]
  },
  {
   "cell_type": "code",
   "execution_count": 2,
   "metadata": {},
   "outputs": [],
   "source": [
    "data = pd.read_csv('/datasets/games.csv')"
   ]
  },
  {
   "cell_type": "code",
   "execution_count": 3,
   "metadata": {},
   "outputs": [
    {
     "data": {
      "text/html": [
       "<div>\n",
       "<style scoped>\n",
       "    .dataframe tbody tr th:only-of-type {\n",
       "        vertical-align: middle;\n",
       "    }\n",
       "\n",
       "    .dataframe tbody tr th {\n",
       "        vertical-align: top;\n",
       "    }\n",
       "\n",
       "    .dataframe thead th {\n",
       "        text-align: right;\n",
       "    }\n",
       "</style>\n",
       "<table border=\"1\" class=\"dataframe\">\n",
       "  <thead>\n",
       "    <tr style=\"text-align: right;\">\n",
       "      <th></th>\n",
       "      <th>Name</th>\n",
       "      <th>Platform</th>\n",
       "      <th>Year_of_Release</th>\n",
       "      <th>Genre</th>\n",
       "      <th>NA_sales</th>\n",
       "      <th>EU_sales</th>\n",
       "      <th>JP_sales</th>\n",
       "      <th>Other_sales</th>\n",
       "      <th>Critic_Score</th>\n",
       "      <th>User_Score</th>\n",
       "      <th>Rating</th>\n",
       "    </tr>\n",
       "  </thead>\n",
       "  <tbody>\n",
       "    <tr>\n",
       "      <th>0</th>\n",
       "      <td>Wii Sports</td>\n",
       "      <td>Wii</td>\n",
       "      <td>2006.0</td>\n",
       "      <td>Sports</td>\n",
       "      <td>41.36</td>\n",
       "      <td>28.96</td>\n",
       "      <td>3.77</td>\n",
       "      <td>8.45</td>\n",
       "      <td>76.0</td>\n",
       "      <td>8</td>\n",
       "      <td>E</td>\n",
       "    </tr>\n",
       "    <tr>\n",
       "      <th>1</th>\n",
       "      <td>Super Mario Bros.</td>\n",
       "      <td>NES</td>\n",
       "      <td>1985.0</td>\n",
       "      <td>Platform</td>\n",
       "      <td>29.08</td>\n",
       "      <td>3.58</td>\n",
       "      <td>6.81</td>\n",
       "      <td>0.77</td>\n",
       "      <td>NaN</td>\n",
       "      <td>NaN</td>\n",
       "      <td>NaN</td>\n",
       "    </tr>\n",
       "    <tr>\n",
       "      <th>2</th>\n",
       "      <td>Mario Kart Wii</td>\n",
       "      <td>Wii</td>\n",
       "      <td>2008.0</td>\n",
       "      <td>Racing</td>\n",
       "      <td>15.68</td>\n",
       "      <td>12.76</td>\n",
       "      <td>3.79</td>\n",
       "      <td>3.29</td>\n",
       "      <td>82.0</td>\n",
       "      <td>8.3</td>\n",
       "      <td>E</td>\n",
       "    </tr>\n",
       "    <tr>\n",
       "      <th>3</th>\n",
       "      <td>Wii Sports Resort</td>\n",
       "      <td>Wii</td>\n",
       "      <td>2009.0</td>\n",
       "      <td>Sports</td>\n",
       "      <td>15.61</td>\n",
       "      <td>10.93</td>\n",
       "      <td>3.28</td>\n",
       "      <td>2.95</td>\n",
       "      <td>80.0</td>\n",
       "      <td>8</td>\n",
       "      <td>E</td>\n",
       "    </tr>\n",
       "    <tr>\n",
       "      <th>4</th>\n",
       "      <td>Pokemon Red/Pokemon Blue</td>\n",
       "      <td>GB</td>\n",
       "      <td>1996.0</td>\n",
       "      <td>Role-Playing</td>\n",
       "      <td>11.27</td>\n",
       "      <td>8.89</td>\n",
       "      <td>10.22</td>\n",
       "      <td>1.00</td>\n",
       "      <td>NaN</td>\n",
       "      <td>NaN</td>\n",
       "      <td>NaN</td>\n",
       "    </tr>\n",
       "    <tr>\n",
       "      <th>5</th>\n",
       "      <td>Tetris</td>\n",
       "      <td>GB</td>\n",
       "      <td>1989.0</td>\n",
       "      <td>Puzzle</td>\n",
       "      <td>23.20</td>\n",
       "      <td>2.26</td>\n",
       "      <td>4.22</td>\n",
       "      <td>0.58</td>\n",
       "      <td>NaN</td>\n",
       "      <td>NaN</td>\n",
       "      <td>NaN</td>\n",
       "    </tr>\n",
       "    <tr>\n",
       "      <th>6</th>\n",
       "      <td>New Super Mario Bros.</td>\n",
       "      <td>DS</td>\n",
       "      <td>2006.0</td>\n",
       "      <td>Platform</td>\n",
       "      <td>11.28</td>\n",
       "      <td>9.14</td>\n",
       "      <td>6.50</td>\n",
       "      <td>2.88</td>\n",
       "      <td>89.0</td>\n",
       "      <td>8.5</td>\n",
       "      <td>E</td>\n",
       "    </tr>\n",
       "    <tr>\n",
       "      <th>7</th>\n",
       "      <td>Wii Play</td>\n",
       "      <td>Wii</td>\n",
       "      <td>2006.0</td>\n",
       "      <td>Misc</td>\n",
       "      <td>13.96</td>\n",
       "      <td>9.18</td>\n",
       "      <td>2.93</td>\n",
       "      <td>2.84</td>\n",
       "      <td>58.0</td>\n",
       "      <td>6.6</td>\n",
       "      <td>E</td>\n",
       "    </tr>\n",
       "    <tr>\n",
       "      <th>8</th>\n",
       "      <td>New Super Mario Bros. Wii</td>\n",
       "      <td>Wii</td>\n",
       "      <td>2009.0</td>\n",
       "      <td>Platform</td>\n",
       "      <td>14.44</td>\n",
       "      <td>6.94</td>\n",
       "      <td>4.70</td>\n",
       "      <td>2.24</td>\n",
       "      <td>87.0</td>\n",
       "      <td>8.4</td>\n",
       "      <td>E</td>\n",
       "    </tr>\n",
       "    <tr>\n",
       "      <th>9</th>\n",
       "      <td>Duck Hunt</td>\n",
       "      <td>NES</td>\n",
       "      <td>1984.0</td>\n",
       "      <td>Shooter</td>\n",
       "      <td>26.93</td>\n",
       "      <td>0.63</td>\n",
       "      <td>0.28</td>\n",
       "      <td>0.47</td>\n",
       "      <td>NaN</td>\n",
       "      <td>NaN</td>\n",
       "      <td>NaN</td>\n",
       "    </tr>\n",
       "    <tr>\n",
       "      <th>10</th>\n",
       "      <td>Nintendogs</td>\n",
       "      <td>DS</td>\n",
       "      <td>2005.0</td>\n",
       "      <td>Simulation</td>\n",
       "      <td>9.05</td>\n",
       "      <td>10.95</td>\n",
       "      <td>1.93</td>\n",
       "      <td>2.74</td>\n",
       "      <td>NaN</td>\n",
       "      <td>NaN</td>\n",
       "      <td>NaN</td>\n",
       "    </tr>\n",
       "    <tr>\n",
       "      <th>11</th>\n",
       "      <td>Mario Kart DS</td>\n",
       "      <td>DS</td>\n",
       "      <td>2005.0</td>\n",
       "      <td>Racing</td>\n",
       "      <td>9.71</td>\n",
       "      <td>7.47</td>\n",
       "      <td>4.13</td>\n",
       "      <td>1.90</td>\n",
       "      <td>91.0</td>\n",
       "      <td>8.6</td>\n",
       "      <td>E</td>\n",
       "    </tr>\n",
       "    <tr>\n",
       "      <th>12</th>\n",
       "      <td>Pokemon Gold/Pokemon Silver</td>\n",
       "      <td>GB</td>\n",
       "      <td>1999.0</td>\n",
       "      <td>Role-Playing</td>\n",
       "      <td>9.00</td>\n",
       "      <td>6.18</td>\n",
       "      <td>7.20</td>\n",
       "      <td>0.71</td>\n",
       "      <td>NaN</td>\n",
       "      <td>NaN</td>\n",
       "      <td>NaN</td>\n",
       "    </tr>\n",
       "    <tr>\n",
       "      <th>13</th>\n",
       "      <td>Wii Fit</td>\n",
       "      <td>Wii</td>\n",
       "      <td>2007.0</td>\n",
       "      <td>Sports</td>\n",
       "      <td>8.92</td>\n",
       "      <td>8.03</td>\n",
       "      <td>3.60</td>\n",
       "      <td>2.15</td>\n",
       "      <td>80.0</td>\n",
       "      <td>7.7</td>\n",
       "      <td>E</td>\n",
       "    </tr>\n",
       "    <tr>\n",
       "      <th>14</th>\n",
       "      <td>Kinect Adventures!</td>\n",
       "      <td>X360</td>\n",
       "      <td>2010.0</td>\n",
       "      <td>Misc</td>\n",
       "      <td>15.00</td>\n",
       "      <td>4.89</td>\n",
       "      <td>0.24</td>\n",
       "      <td>1.69</td>\n",
       "      <td>61.0</td>\n",
       "      <td>6.3</td>\n",
       "      <td>E</td>\n",
       "    </tr>\n",
       "    <tr>\n",
       "      <th>15</th>\n",
       "      <td>Wii Fit Plus</td>\n",
       "      <td>Wii</td>\n",
       "      <td>2009.0</td>\n",
       "      <td>Sports</td>\n",
       "      <td>9.01</td>\n",
       "      <td>8.49</td>\n",
       "      <td>2.53</td>\n",
       "      <td>1.77</td>\n",
       "      <td>80.0</td>\n",
       "      <td>7.4</td>\n",
       "      <td>E</td>\n",
       "    </tr>\n",
       "    <tr>\n",
       "      <th>16</th>\n",
       "      <td>Grand Theft Auto V</td>\n",
       "      <td>PS3</td>\n",
       "      <td>2013.0</td>\n",
       "      <td>Action</td>\n",
       "      <td>7.02</td>\n",
       "      <td>9.09</td>\n",
       "      <td>0.98</td>\n",
       "      <td>3.96</td>\n",
       "      <td>97.0</td>\n",
       "      <td>8.2</td>\n",
       "      <td>M</td>\n",
       "    </tr>\n",
       "    <tr>\n",
       "      <th>17</th>\n",
       "      <td>Grand Theft Auto: San Andreas</td>\n",
       "      <td>PS2</td>\n",
       "      <td>2004.0</td>\n",
       "      <td>Action</td>\n",
       "      <td>9.43</td>\n",
       "      <td>0.40</td>\n",
       "      <td>0.41</td>\n",
       "      <td>10.57</td>\n",
       "      <td>95.0</td>\n",
       "      <td>9</td>\n",
       "      <td>M</td>\n",
       "    </tr>\n",
       "    <tr>\n",
       "      <th>18</th>\n",
       "      <td>Super Mario World</td>\n",
       "      <td>SNES</td>\n",
       "      <td>1990.0</td>\n",
       "      <td>Platform</td>\n",
       "      <td>12.78</td>\n",
       "      <td>3.75</td>\n",
       "      <td>3.54</td>\n",
       "      <td>0.55</td>\n",
       "      <td>NaN</td>\n",
       "      <td>NaN</td>\n",
       "      <td>NaN</td>\n",
       "    </tr>\n",
       "    <tr>\n",
       "      <th>19</th>\n",
       "      <td>Brain Age: Train Your Brain in Minutes a Day</td>\n",
       "      <td>DS</td>\n",
       "      <td>2005.0</td>\n",
       "      <td>Misc</td>\n",
       "      <td>4.74</td>\n",
       "      <td>9.20</td>\n",
       "      <td>4.16</td>\n",
       "      <td>2.04</td>\n",
       "      <td>77.0</td>\n",
       "      <td>7.9</td>\n",
       "      <td>E</td>\n",
       "    </tr>\n",
       "  </tbody>\n",
       "</table>\n",
       "</div>"
      ],
      "text/plain": [
       "                                            Name Platform  Year_of_Release  \\\n",
       "0                                     Wii Sports      Wii           2006.0   \n",
       "1                              Super Mario Bros.      NES           1985.0   \n",
       "2                                 Mario Kart Wii      Wii           2008.0   \n",
       "3                              Wii Sports Resort      Wii           2009.0   \n",
       "4                       Pokemon Red/Pokemon Blue       GB           1996.0   \n",
       "5                                         Tetris       GB           1989.0   \n",
       "6                          New Super Mario Bros.       DS           2006.0   \n",
       "7                                       Wii Play      Wii           2006.0   \n",
       "8                      New Super Mario Bros. Wii      Wii           2009.0   \n",
       "9                                      Duck Hunt      NES           1984.0   \n",
       "10                                    Nintendogs       DS           2005.0   \n",
       "11                                 Mario Kart DS       DS           2005.0   \n",
       "12                   Pokemon Gold/Pokemon Silver       GB           1999.0   \n",
       "13                                       Wii Fit      Wii           2007.0   \n",
       "14                            Kinect Adventures!     X360           2010.0   \n",
       "15                                  Wii Fit Plus      Wii           2009.0   \n",
       "16                            Grand Theft Auto V      PS3           2013.0   \n",
       "17                 Grand Theft Auto: San Andreas      PS2           2004.0   \n",
       "18                             Super Mario World     SNES           1990.0   \n",
       "19  Brain Age: Train Your Brain in Minutes a Day       DS           2005.0   \n",
       "\n",
       "           Genre  NA_sales  EU_sales  JP_sales  Other_sales  Critic_Score  \\\n",
       "0         Sports     41.36     28.96      3.77         8.45          76.0   \n",
       "1       Platform     29.08      3.58      6.81         0.77           NaN   \n",
       "2         Racing     15.68     12.76      3.79         3.29          82.0   \n",
       "3         Sports     15.61     10.93      3.28         2.95          80.0   \n",
       "4   Role-Playing     11.27      8.89     10.22         1.00           NaN   \n",
       "5         Puzzle     23.20      2.26      4.22         0.58           NaN   \n",
       "6       Platform     11.28      9.14      6.50         2.88          89.0   \n",
       "7           Misc     13.96      9.18      2.93         2.84          58.0   \n",
       "8       Platform     14.44      6.94      4.70         2.24          87.0   \n",
       "9        Shooter     26.93      0.63      0.28         0.47           NaN   \n",
       "10    Simulation      9.05     10.95      1.93         2.74           NaN   \n",
       "11        Racing      9.71      7.47      4.13         1.90          91.0   \n",
       "12  Role-Playing      9.00      6.18      7.20         0.71           NaN   \n",
       "13        Sports      8.92      8.03      3.60         2.15          80.0   \n",
       "14          Misc     15.00      4.89      0.24         1.69          61.0   \n",
       "15        Sports      9.01      8.49      2.53         1.77          80.0   \n",
       "16        Action      7.02      9.09      0.98         3.96          97.0   \n",
       "17        Action      9.43      0.40      0.41        10.57          95.0   \n",
       "18      Platform     12.78      3.75      3.54         0.55           NaN   \n",
       "19          Misc      4.74      9.20      4.16         2.04          77.0   \n",
       "\n",
       "   User_Score Rating  \n",
       "0           8      E  \n",
       "1         NaN    NaN  \n",
       "2         8.3      E  \n",
       "3           8      E  \n",
       "4         NaN    NaN  \n",
       "5         NaN    NaN  \n",
       "6         8.5      E  \n",
       "7         6.6      E  \n",
       "8         8.4      E  \n",
       "9         NaN    NaN  \n",
       "10        NaN    NaN  \n",
       "11        8.6      E  \n",
       "12        NaN    NaN  \n",
       "13        7.7      E  \n",
       "14        6.3      E  \n",
       "15        7.4      E  \n",
       "16        8.2      M  \n",
       "17          9      M  \n",
       "18        NaN    NaN  \n",
       "19        7.9      E  "
      ]
     },
     "metadata": {},
     "output_type": "display_data"
    }
   ],
   "source": [
    "display(data.head(20))"
   ]
  },
  {
   "cell_type": "code",
   "execution_count": 4,
   "metadata": {},
   "outputs": [
    {
     "name": "stdout",
     "output_type": "stream",
     "text": [
      "<class 'pandas.core.frame.DataFrame'>\n",
      "RangeIndex: 16715 entries, 0 to 16714\n",
      "Data columns (total 11 columns):\n",
      " #   Column           Non-Null Count  Dtype  \n",
      "---  ------           --------------  -----  \n",
      " 0   Name             16713 non-null  object \n",
      " 1   Platform         16715 non-null  object \n",
      " 2   Year_of_Release  16446 non-null  float64\n",
      " 3   Genre            16713 non-null  object \n",
      " 4   NA_sales         16715 non-null  float64\n",
      " 5   EU_sales         16715 non-null  float64\n",
      " 6   JP_sales         16715 non-null  float64\n",
      " 7   Other_sales      16715 non-null  float64\n",
      " 8   Critic_Score     8137 non-null   float64\n",
      " 9   User_Score       10014 non-null  object \n",
      " 10  Rating           9949 non-null   object \n",
      "dtypes: float64(6), object(5)\n",
      "memory usage: 1.4+ MB\n"
     ]
    }
   ],
   "source": [
    "data.info()"
   ]
  },
  {
   "cell_type": "code",
   "execution_count": 5,
   "metadata": {},
   "outputs": [
    {
     "data": {
      "text/plain": [
       "0"
      ]
     },
     "execution_count": 5,
     "metadata": {},
     "output_type": "execute_result"
    }
   ],
   "source": [
    " data.duplicated().sum()  #проверка явных дубликатов"
   ]
  },
  {
   "cell_type": "markdown",
   "metadata": {},
   "source": [
    "### Вывод: при первичном рассмотрении данных можно отметить, что в датафрейме присутсвуют пропущенные значения. Датафрейм состоит из 16715 игр и 11 столбцов. Явных дубликатов нет."
   ]
  },
  {
   "cell_type": "markdown",
   "metadata": {},
   "source": [
    "2. Подготовка данных.\n"
   ]
  },
  {
   "cell_type": "markdown",
   "metadata": {},
   "source": [
    "2.1. Приведем названия столбцов к нижнему регистру"
   ]
  },
  {
   "cell_type": "code",
   "execution_count": 6,
   "metadata": {},
   "outputs": [
    {
     "data": {
      "text/html": [
       "<div>\n",
       "<style scoped>\n",
       "    .dataframe tbody tr th:only-of-type {\n",
       "        vertical-align: middle;\n",
       "    }\n",
       "\n",
       "    .dataframe tbody tr th {\n",
       "        vertical-align: top;\n",
       "    }\n",
       "\n",
       "    .dataframe thead th {\n",
       "        text-align: right;\n",
       "    }\n",
       "</style>\n",
       "<table border=\"1\" class=\"dataframe\">\n",
       "  <thead>\n",
       "    <tr style=\"text-align: right;\">\n",
       "      <th></th>\n",
       "      <th>name</th>\n",
       "      <th>platform</th>\n",
       "      <th>year_of_release</th>\n",
       "      <th>genre</th>\n",
       "      <th>na_sales</th>\n",
       "      <th>eu_sales</th>\n",
       "      <th>jp_sales</th>\n",
       "      <th>other_sales</th>\n",
       "      <th>critic_score</th>\n",
       "      <th>user_score</th>\n",
       "      <th>rating</th>\n",
       "    </tr>\n",
       "  </thead>\n",
       "  <tbody>\n",
       "    <tr>\n",
       "      <th>630</th>\n",
       "      <td>Resistance 2</td>\n",
       "      <td>PS3</td>\n",
       "      <td>2008.0</td>\n",
       "      <td>Shooter</td>\n",
       "      <td>1.15</td>\n",
       "      <td>0.84</td>\n",
       "      <td>0.10</td>\n",
       "      <td>0.38</td>\n",
       "      <td>87.0</td>\n",
       "      <td>6.1</td>\n",
       "      <td>M</td>\n",
       "    </tr>\n",
       "    <tr>\n",
       "      <th>631</th>\n",
       "      <td>NBA 2K15</td>\n",
       "      <td>PS4</td>\n",
       "      <td>2014.0</td>\n",
       "      <td>Sports</td>\n",
       "      <td>1.47</td>\n",
       "      <td>0.54</td>\n",
       "      <td>0.01</td>\n",
       "      <td>0.43</td>\n",
       "      <td>83.0</td>\n",
       "      <td>7</td>\n",
       "      <td>E</td>\n",
       "    </tr>\n",
       "    <tr>\n",
       "      <th>632</th>\n",
       "      <td>Final Fantasy V</td>\n",
       "      <td>SNES</td>\n",
       "      <td>1992.0</td>\n",
       "      <td>Role-Playing</td>\n",
       "      <td>0.00</td>\n",
       "      <td>0.00</td>\n",
       "      <td>2.43</td>\n",
       "      <td>0.02</td>\n",
       "      <td>NaN</td>\n",
       "      <td>NaN</td>\n",
       "      <td>NaN</td>\n",
       "    </tr>\n",
       "    <tr>\n",
       "      <th>633</th>\n",
       "      <td>Final Fantasy Tactics</td>\n",
       "      <td>PS</td>\n",
       "      <td>1997.0</td>\n",
       "      <td>Role-Playing</td>\n",
       "      <td>0.93</td>\n",
       "      <td>0.12</td>\n",
       "      <td>1.34</td>\n",
       "      <td>0.06</td>\n",
       "      <td>83.0</td>\n",
       "      <td>8.2</td>\n",
       "      <td>T</td>\n",
       "    </tr>\n",
       "    <tr>\n",
       "      <th>634</th>\n",
       "      <td>Midnight Club: Los Angeles</td>\n",
       "      <td>PS3</td>\n",
       "      <td>2008.0</td>\n",
       "      <td>Racing</td>\n",
       "      <td>1.56</td>\n",
       "      <td>0.53</td>\n",
       "      <td>0.05</td>\n",
       "      <td>0.31</td>\n",
       "      <td>82.0</td>\n",
       "      <td>8.2</td>\n",
       "      <td>T</td>\n",
       "    </tr>\n",
       "    <tr>\n",
       "      <th>635</th>\n",
       "      <td>Twisted Metal 2</td>\n",
       "      <td>PS</td>\n",
       "      <td>1996.0</td>\n",
       "      <td>Racing</td>\n",
       "      <td>2.12</td>\n",
       "      <td>0.25</td>\n",
       "      <td>0.00</td>\n",
       "      <td>0.07</td>\n",
       "      <td>NaN</td>\n",
       "      <td>NaN</td>\n",
       "      <td>NaN</td>\n",
       "    </tr>\n",
       "    <tr>\n",
       "      <th>636</th>\n",
       "      <td>The Sims: Bustin' Out</td>\n",
       "      <td>PS2</td>\n",
       "      <td>2003.0</td>\n",
       "      <td>Simulation</td>\n",
       "      <td>1.07</td>\n",
       "      <td>1.19</td>\n",
       "      <td>0.00</td>\n",
       "      <td>0.18</td>\n",
       "      <td>81.0</td>\n",
       "      <td>8.4</td>\n",
       "      <td>T</td>\n",
       "    </tr>\n",
       "    <tr>\n",
       "      <th>637</th>\n",
       "      <td>Riven: The Sequel to Myst</td>\n",
       "      <td>PC</td>\n",
       "      <td>1997.0</td>\n",
       "      <td>Adventure</td>\n",
       "      <td>1.52</td>\n",
       "      <td>0.82</td>\n",
       "      <td>0.00</td>\n",
       "      <td>0.10</td>\n",
       "      <td>83.0</td>\n",
       "      <td>NaN</td>\n",
       "      <td>E</td>\n",
       "    </tr>\n",
       "    <tr>\n",
       "      <th>638</th>\n",
       "      <td>LEGO Harry Potter: Years 1-4</td>\n",
       "      <td>Wii</td>\n",
       "      <td>2010.0</td>\n",
       "      <td>Action</td>\n",
       "      <td>1.28</td>\n",
       "      <td>0.93</td>\n",
       "      <td>0.00</td>\n",
       "      <td>0.22</td>\n",
       "      <td>79.0</td>\n",
       "      <td>8</td>\n",
       "      <td>E10+</td>\n",
       "    </tr>\n",
       "    <tr>\n",
       "      <th>639</th>\n",
       "      <td>Need for Speed (2015)</td>\n",
       "      <td>PS4</td>\n",
       "      <td>2015.0</td>\n",
       "      <td>Racing</td>\n",
       "      <td>0.50</td>\n",
       "      <td>1.50</td>\n",
       "      <td>0.05</td>\n",
       "      <td>0.37</td>\n",
       "      <td>NaN</td>\n",
       "      <td>NaN</td>\n",
       "      <td>NaN</td>\n",
       "    </tr>\n",
       "  </tbody>\n",
       "</table>\n",
       "</div>"
      ],
      "text/plain": [
       "                             name platform  year_of_release         genre  \\\n",
       "630                  Resistance 2      PS3           2008.0       Shooter   \n",
       "631                      NBA 2K15      PS4           2014.0        Sports   \n",
       "632               Final Fantasy V     SNES           1992.0  Role-Playing   \n",
       "633         Final Fantasy Tactics       PS           1997.0  Role-Playing   \n",
       "634    Midnight Club: Los Angeles      PS3           2008.0        Racing   \n",
       "635               Twisted Metal 2       PS           1996.0        Racing   \n",
       "636         The Sims: Bustin' Out      PS2           2003.0    Simulation   \n",
       "637     Riven: The Sequel to Myst       PC           1997.0     Adventure   \n",
       "638  LEGO Harry Potter: Years 1-4      Wii           2010.0        Action   \n",
       "639         Need for Speed (2015)      PS4           2015.0        Racing   \n",
       "\n",
       "     na_sales  eu_sales  jp_sales  other_sales  critic_score user_score rating  \n",
       "630      1.15      0.84      0.10         0.38          87.0        6.1      M  \n",
       "631      1.47      0.54      0.01         0.43          83.0          7      E  \n",
       "632      0.00      0.00      2.43         0.02           NaN        NaN    NaN  \n",
       "633      0.93      0.12      1.34         0.06          83.0        8.2      T  \n",
       "634      1.56      0.53      0.05         0.31          82.0        8.2      T  \n",
       "635      2.12      0.25      0.00         0.07           NaN        NaN    NaN  \n",
       "636      1.07      1.19      0.00         0.18          81.0        8.4      T  \n",
       "637      1.52      0.82      0.00         0.10          83.0        NaN      E  \n",
       "638      1.28      0.93      0.00         0.22          79.0          8   E10+  \n",
       "639      0.50      1.50      0.05         0.37           NaN        NaN    NaN  "
      ]
     },
     "metadata": {},
     "output_type": "display_data"
    }
   ],
   "source": [
    "data.columns = [x.lower() for x in data.columns.values]  \n",
    "display(data[630:640])"
   ]
  },
  {
   "cell_type": "markdown",
   "metadata": {},
   "source": [
    "2.2. Изменим, где необходимо, типы данных в столбцах, изучим пропуски и заполним пропуски значениями, где это возможно."
   ]
  },
  {
   "cell_type": "code",
   "execution_count": 7,
   "metadata": {},
   "outputs": [
    {
     "name": "stdout",
     "output_type": "stream",
     "text": [
      "<class 'pandas.core.frame.DataFrame'>\n",
      "RangeIndex: 16715 entries, 0 to 16714\n",
      "Data columns (total 11 columns):\n",
      " #   Column           Non-Null Count  Dtype  \n",
      "---  ------           --------------  -----  \n",
      " 0   name             16713 non-null  object \n",
      " 1   platform         16715 non-null  object \n",
      " 2   year_of_release  16446 non-null  float64\n",
      " 3   genre            16713 non-null  object \n",
      " 4   na_sales         16715 non-null  float64\n",
      " 5   eu_sales         16715 non-null  float64\n",
      " 6   jp_sales         16715 non-null  float64\n",
      " 7   other_sales      16715 non-null  float64\n",
      " 8   critic_score     8137 non-null   float64\n",
      " 9   user_score       7590 non-null   float64\n",
      " 10  rating           9949 non-null   object \n",
      "dtypes: float64(7), object(4)\n",
      "memory usage: 1.4+ MB\n"
     ]
    }
   ],
   "source": [
    "data['user_score'] = pd.to_numeric(data['user_score'], errors='coerce') #\"tbd\" означает \"to be defined\", с помощью errors='coerce' создали возможность поменять тип данных в этом столбце\n",
    "data['user_score'] = data['user_score'].astype(float) #привели этот столбец к типу \"float\", так как по сути это числа, но не целые, теперь с ними можно проводить математические операции\n",
    "data.info()\n",
    "# столбец year_of_release\t пока не меняем на тип int, так как для этого надо сначала избавиться от пропусков."
   ]
  },
  {
   "cell_type": "code",
   "execution_count": 8,
   "metadata": {},
   "outputs": [
    {
     "name": "stdout",
     "output_type": "stream",
     "text": [
      "<class 'pandas.core.frame.DataFrame'>\n",
      "RangeIndex: 16444 entries, 0 to 16443\n",
      "Data columns (total 11 columns):\n",
      " #   Column           Non-Null Count  Dtype  \n",
      "---  ------           --------------  -----  \n",
      " 0   name             16444 non-null  object \n",
      " 1   platform         16444 non-null  object \n",
      " 2   year_of_release  16444 non-null  int64  \n",
      " 3   genre            16444 non-null  object \n",
      " 4   na_sales         16444 non-null  float64\n",
      " 5   eu_sales         16444 non-null  float64\n",
      " 6   jp_sales         16444 non-null  float64\n",
      " 7   other_sales      16444 non-null  float64\n",
      " 8   critic_score     7983 non-null   float64\n",
      " 9   user_score       7463 non-null   float64\n",
      " 10  rating           16444 non-null  object \n",
      "dtypes: float64(6), int64(1), object(4)\n",
      "memory usage: 1.4+ MB\n"
     ]
    }
   ],
   "source": [
    "#пропуски\n",
    "#data[data['name'].isna()]\n",
    "data = data.dropna(subset=['name']).reset_index(drop=True) #удалили строки с недостающими данными в этом столбце, так как самостоятельная придумка или угадывание названия игры не имеет смысла, данные не будут соответствовать реальности, таких строк всего 2, значит, их удаление не отразится на репрезентативности данных.\n",
    "#data[data['name'].isna()]\n",
    "#data[data['platform'].isna()]\n",
    "#data[data['year_of_release'].isna()]\n",
    "data = data.dropna(subset=['year_of_release']).reset_index(drop=True) #удалили строки с недостающими данными в этом столбце, так как самостоятельная придумка или угадывание года исказят данные, таких строк менее 10% от всей выборки, значит, их удаление не отразится на репрезентативности данных.\n",
    "data[data['year_of_release'].isna()] #удалили строки с недостающими данными в этом столбце, так как самостоятельная придумка или угадывание года исказят данные, таких строк менее 10% от всей выборки, значит, их удаление не отразится на репрезентативности данных.\n",
    "#data[data['year_of_release'].isna()]\n",
    "#data[data['genre'].isna()]\n",
    "#data[data['na_sales'].isna()]\n",
    "#data[data['eu_sales'].isna()]\n",
    "#data[data['jp_sales'].isna()]\n",
    "#data[data['other_sales'].isna()]\n",
    "#data[data['critic_score'].isna()] #в этом столбце пропуски более, чем в 10% от всех наблюдений, поэтому удалить не можем. Если заполним средним или медианой, то исказим данные, поэтому оставляем без изменений. Предполагаю, что не все игры были оценены критиками.\n",
    "#data[data['user_score'].isna()] #в этом столбце пропуски более, чем в 10% от всех наблюдений, поэтому удалить не можем. Если заполним средним или медианой, то исказим данные, поэтому оставляем без изменений. Предполагаю, что не все игры были оценены пользователями (вероятно, игры не имели широкого распространения на рынке).\n",
    "data[data['rating'].isna()]\n",
    "data['rating'] = data['rating'].fillna(value='ND') #пустые значения заменили на ND (не определен)\n",
    "data['rating'] = data['rating'].replace('K-A', 'E') #заменим устаревшую абревиатуру.  E был добавлен в рейтинги ESRB в 1997 году в качестве замены рейтингов K-A и EC.\n",
    "data[data['rating'].isna()]\n",
    "data['year_of_release'] = data['year_of_release'].astype(int) #nan удалены, теперь привели столбец к int, так как год релиза - это всегда целое число.\n",
    "data.info()"
   ]
  },
  {
   "cell_type": "markdown",
   "metadata": {},
   "source": [
    "2.3. Посчитаем суммарные продажи во всех регионах и запишем их в отдельный столбец.\n"
   ]
  },
  {
   "cell_type": "code",
   "execution_count": 9,
   "metadata": {},
   "outputs": [
    {
     "data": {
      "text/plain": [
       "0        82.54\n",
       "1        40.24\n",
       "2        35.52\n",
       "3        32.77\n",
       "4        31.38\n",
       "         ...  \n",
       "16439     0.01\n",
       "16440     0.01\n",
       "16441     0.01\n",
       "16442     0.01\n",
       "16443     0.01\n",
       "Name: total_sales, Length: 16444, dtype: float64"
      ]
     },
     "metadata": {},
     "output_type": "display_data"
    }
   ],
   "source": [
    "data['total_sales'] = data['na_sales'] + data['eu_sales'] + data['jp_sales'] + data['other_sales'] #посчитали суммарные продажи во всех регионах и записали их в отдельный столбец.\n",
    "display(data['total_sales'])"
   ]
  },
  {
   "cell_type": "markdown",
   "metadata": {},
   "source": [
    "### Вывод:\n",
    "1. мы привели данные к нижнему регистру;\n",
    "2. поменяли типы данных в столбцах 'user_score' и 'year_of_release' в соответствии с сутью данных в них;\n",
    "3. удалили строки с недостающими данными в столбцах 'name','year_of_release' (вероятно, эти значения пропущены ввиду технической ошибки или обусловлены человеческим фактором);\n",
    "4. столбцы 'critic_score' и 'user_score' оставили без изменений (вероятно, пропуски связаны с тем, что не все игры были оценены пользователями и критиками, судя по всему, по причине того, что эти игры не имели широкого распространения на рынке);\n",
    "5. в столбце рейтинг заменили устаревшую абревиатуру, а также заменили пропуски на \"ND\" (вероятно, пропуски связаны с тем, что ESRB предназначен для рецензирования игр на территории Северной Америки (США, Канады, Мексики), поэтому игры, произведенные в других странах не имеют этого рейтинга, соответственно столбец рейтинга по ним не заполнен);\n",
    "6. создали столбец с суммарными продажами по всем регионам."
   ]
  },
  {
   "cell_type": "code",
   "execution_count": 10,
   "metadata": {},
   "outputs": [
    {
     "name": "stdout",
     "output_type": "stream",
     "text": [
      "<class 'pandas.core.frame.DataFrame'>\n",
      "RangeIndex: 16444 entries, 0 to 16443\n",
      "Data columns (total 12 columns):\n",
      " #   Column           Non-Null Count  Dtype  \n",
      "---  ------           --------------  -----  \n",
      " 0   name             16444 non-null  object \n",
      " 1   platform         16444 non-null  object \n",
      " 2   year_of_release  16444 non-null  int64  \n",
      " 3   genre            16444 non-null  object \n",
      " 4   na_sales         16444 non-null  float64\n",
      " 5   eu_sales         16444 non-null  float64\n",
      " 6   jp_sales         16444 non-null  float64\n",
      " 7   other_sales      16444 non-null  float64\n",
      " 8   critic_score     7983 non-null   float64\n",
      " 9   user_score       7463 non-null   float64\n",
      " 10  rating           16444 non-null  object \n",
      " 11  total_sales      16444 non-null  float64\n",
      "dtypes: float64(7), int64(1), object(4)\n",
      "memory usage: 1.5+ MB\n",
      "None\n",
      "-------------------------\n",
      "name [' Beyblade Burst' ' Fire Emblem Fates' \" Frozen: Olaf's Quest\" ...\n",
      " 'uDraw Studio' 'uDraw Studio: Instant Artist'\n",
      " '¡Shin Chan Flipa en colores!']\n",
      "name : кол-во NaN 0 , процент NaN 0.0 %\n",
      "-------------------------\n",
      "platform ['2600' '3DO' '3DS' 'DC' 'DS' 'GB' 'GBA' 'GC' 'GEN' 'GG' 'N64' 'NES' 'NG'\n",
      " 'PC' 'PCFX' 'PS' 'PS2' 'PS3' 'PS4' 'PSP' 'PSV' 'SAT' 'SCD' 'SNES' 'TG16'\n",
      " 'WS' 'Wii' 'WiiU' 'X360' 'XB' 'XOne']\n",
      "platform : кол-во NaN 0 , процент NaN 0.0 %\n",
      "-------------------------\n",
      "year_of_release [1980 1981 1982 1983 1984 1985 1986 1987 1988 1989 1990 1991 1992 1993\n",
      " 1994 1995 1996 1997 1998 1999 2000 2001 2002 2003 2004 2005 2006 2007\n",
      " 2008 2009 2010 2011 2012 2013 2014 2015 2016]\n",
      "year_of_release : кол-во NaN 0 , процент NaN 0.0 %\n",
      "-------------------------\n",
      "genre ['Action' 'Adventure' 'Fighting' 'Misc' 'Platform' 'Puzzle' 'Racing'\n",
      " 'Role-Playing' 'Shooter' 'Simulation' 'Sports' 'Strategy']\n",
      "genre : кол-во NaN 0 , процент NaN 0.0 %\n",
      "-------------------------\n",
      "critic_score [13. 17. 19. 20. 21. 23. 24. 25. 26. 27. 28. 29. 30. 31. 32. 33. 34. 35.\n",
      " 36. 37. 38. 39. 40. 41. 42. 43. 44. 45. 46. 47. 48. 49. 50. 51. 52. 53.\n",
      " 54. 55. 56. 57. 58. 59. 60. 61. 62. 63. 64. 65. 66. 67. 68. 69. 70. 71.\n",
      " 72. 73. 74. 75. 76. 77. 78. 79. 80. 81. 82. 83. 84. 85. 86. 87. 88. 89.\n",
      " 90. 91. 92. 93. 94. 95. 96. 97. 98. nan]\n",
      "critic_score : кол-во NaN 8461 , процент NaN 51.45 %\n",
      "-------------------------\n",
      "user_score [0.  0.2 0.3 0.5 0.6 0.7 0.9 1.  1.1 1.2 1.3 1.4 1.5 1.6 1.7 1.8 1.9 2.\n",
      " 2.1 2.2 2.3 2.4 2.5 2.6 2.7 2.8 2.9 3.  3.1 3.2 3.3 3.4 3.5 3.6 3.7 3.8\n",
      " 3.9 4.  4.1 4.2 4.3 4.4 4.5 4.6 4.7 4.8 4.9 5.  5.1 5.2 5.3 5.4 5.5 5.6\n",
      " 5.7 5.8 5.9 6.  6.1 6.2 6.3 6.4 6.5 6.6 6.7 6.8 6.9 7.  7.1 7.2 7.3 7.4\n",
      " 7.5 7.6 7.7 7.8 7.9 8.  8.1 8.2 8.3 8.4 8.5 8.6 8.7 8.8 8.9 9.  9.1 9.2\n",
      " 9.3 9.4 9.5 9.6 9.7 nan]\n",
      "user_score : кол-во NaN 8981 , процент NaN 54.62 %\n",
      "-------------------------\n",
      "rating ['AO' 'E' 'E10+' 'EC' 'M' 'ND' 'RP' 'T']\n",
      "rating : кол-во NaN 0 , процент NaN 0.0 %\n"
     ]
    }
   ],
   "source": [
    "# Посмотрим, что у нас осталось\n",
    "temp = data.copy() \n",
    "list_c = ['name', 'platform', 'year_of_release', 'genre', 'critic_score', 'user_score', 'rating']\n",
    "print(temp.info())\n",
    "for col_l in list_c:\n",
    "  print('-'* 25)\n",
    "  print(col_l, temp[col_l].sort_values().unique())\n",
    "  print(col_l,': кол-во NaN',temp[col_l].isna().sum(),\n",
    "        ', процент NaN', round(temp[col_l].isna().sum()/len(temp)*100, 2),'%')"
   ]
  },
  {
   "cell_type": "markdown",
   "metadata": {
    "scrolled": true
   },
   "source": [
    "3. Рассмотрим продажи и релизы по различным жанрам и платформам в представленный в нашей выборке период, выявим факторы, влияющие на продажи и перспективные продукты.\n",
    "\n"
   ]
  },
  {
   "cell_type": "markdown",
   "metadata": {},
   "source": [
    "3.1. Посмотрим, сколько игр выпускалось и продавалось в разные годы с помощью графиков и группировки"
   ]
  },
  {
   "cell_type": "code",
   "execution_count": 11,
   "metadata": {},
   "outputs": [
    {
     "data": {
      "image/png": "[encoded data removed]",
      "text/plain": [
       "<Figure size 1080x720 with 1 Axes>"
      ]
     },
     "metadata": {
      "needs_background": "light"
     },
     "output_type": "display_data"
    },
    {
     "data": {
      "text/plain": [
       "year_of_release\n",
       "2008    1427\n",
       "2009    1426\n",
       "2010    1255\n",
       "2007    1197\n",
       "2011    1136\n",
       "2006    1006\n",
       "2005     939\n",
       "2002     829\n",
       "2003     775\n",
       "2004     762\n",
       "Name: name, dtype: int64"
      ]
     },
     "execution_count": 11,
     "metadata": {},
     "output_type": "execute_result"
    }
   ],
   "source": [
    "plt.figure(figsize=(15,10))\n",
    "plt.plot(data.groupby('year_of_release')['name'].count(), label='Релизы игр')\n",
    "plt.plot(data.groupby('year_of_release')['total_sales'].sum(), label='Продажи')\n",
    "plt.xlabel('Год выпуска')\n",
    "plt.ylabel('Количество релизов')\n",
    "plt.title('Релизы и продажи игр 1980-2016 гг.')\n",
    "plt.legend()\n",
    "plt.show()\n",
    "data.groupby('year_of_release')['name'].count().sort_values(ascending=True).head(10)\n",
    "data.groupby('year_of_release')['name'].count().sort_values(ascending=False).head(10) \n"
   ]
  },
  {
   "cell_type": "markdown",
   "metadata": {},
   "source": [
    "посмотрели, сколько игр выпускалось в разные годы с помощью графиков и группировки. \n",
    "До 1995 года количество релизов в год не превышало 200,поэтому эти данные будем считать неактуальными. С 1995 года идет заметное увеличение количества выпущенных игр. \n",
    "Вероятно, это связано с повсеместным развитием компьютерных технологий, развитием интернета, как общедоступной службы (с 1991 года)\n",
    "Наибольшего взлета игры достигли в 2008-2009 годах (1427 и 1426 релизов в год соответственно)"
   ]
  },
  {
   "cell_type": "markdown",
   "metadata": {},
   "source": [
    "3.2. Посмотрим объем продаж по различным платформам в разные годы с помощью графиков и группировки"
   ]
  },
  {
   "cell_type": "code",
   "execution_count": 12,
   "metadata": {},
   "outputs": [
    {
     "name": "stdout",
     "output_type": "stream",
     "text": [
      "platform\n",
      "PS2     1233.56\n",
      "X360     961.24\n",
      "PS3      931.34\n",
      "Wii      891.18\n",
      "DS       802.78\n",
      "PS       727.58\n",
      "PS4      314.14\n",
      "GBA      312.88\n",
      "PSP      289.53\n",
      "3DS      257.81\n",
      "Name: total_sales, dtype: float64\n"
     ]
    },
    {
     "data": {
      "image/png": "[encoded data removed]",
      "text/plain": [
       "<Figure size 1080x720 with 1 Axes>"
      ]
     },
     "metadata": {
      "needs_background": "light"
     },
     "output_type": "display_data"
    }
   ],
   "source": [
    "data_95 = data[data['year_of_release'] > 1994] #создадим датафрейм с актуальными данными\n",
    "platform_sales = data_95.pivot_table(index='platform', \n",
    "                                      values='total_sales', \n",
    "                                      columns = 'year_of_release', \n",
    "                                      aggfunc = 'sum',\n",
    "                                      fill_value=0, \n",
    "                                      margins=True).reset_index()    # сводная таблица -  продажи по платформам и годам\n",
    "\n",
    "plt.figure(figsize=(15,10))\n",
    "plt.plot(data.groupby('year_of_release')['total_sales'].sum(), label='Продажи') # график -  продажи по платформам и годам\n",
    "top_platforms = data.groupby('platform')['total_sales'].sum().sort_values(ascending=False).head(10) #топ-10 платформ с наибольшими суммарными продажами\n",
    "print(top_platforms)\n",
    "\n"
   ]
  },
  {
   "cell_type": "markdown",
   "metadata": {},
   "source": [
    "если смотреть по всем годам, то с большим отрывом лидирует ps2, далее идут X360 и PS3 и т.д. Эти платформы потенциально наиболее прибыльны."
   ]
  },
  {
   "cell_type": "markdown",
   "metadata": {},
   "source": [
    "3.3. Оценим продолжительность жизни платформ"
   ]
  },
  {
   "cell_type": "code",
   "execution_count": 13,
   "metadata": {},
   "outputs": [
    {
     "data": {
      "text/plain": [
       "count    31.000000\n",
       "mean      7.612903\n",
       "std       6.998464\n",
       "min       0.000000\n",
       "25%       3.000000\n",
       "50%       6.000000\n",
       "75%      10.000000\n",
       "max      31.000000\n",
       "Name: length, dtype: float64"
      ]
     },
     "metadata": {},
     "output_type": "display_data"
    },
    {
     "data": {
      "text/html": [
       "<div>\n",
       "<style scoped>\n",
       "    .dataframe tbody tr th:only-of-type {\n",
       "        vertical-align: middle;\n",
       "    }\n",
       "\n",
       "    .dataframe tbody tr th {\n",
       "        vertical-align: top;\n",
       "    }\n",
       "\n",
       "    .dataframe thead th {\n",
       "        text-align: right;\n",
       "    }\n",
       "</style>\n",
       "<table border=\"1\" class=\"dataframe\">\n",
       "  <thead>\n",
       "    <tr style=\"text-align: right;\">\n",
       "      <th></th>\n",
       "      <th>platform</th>\n",
       "      <th>first_year</th>\n",
       "      <th>last_year</th>\n",
       "      <th>length</th>\n",
       "    </tr>\n",
       "  </thead>\n",
       "  <tbody>\n",
       "    <tr>\n",
       "      <th>13</th>\n",
       "      <td>PC</td>\n",
       "      <td>1985</td>\n",
       "      <td>2016</td>\n",
       "      <td>31</td>\n",
       "    </tr>\n",
       "  </tbody>\n",
       "</table>\n",
       "</div>"
      ],
      "text/plain": [
       "   platform  first_year  last_year  length\n",
       "13       PC        1985       2016      31"
      ]
     },
     "metadata": {},
     "output_type": "display_data"
    },
    {
     "data": {
      "text/html": [
       "<div>\n",
       "<style scoped>\n",
       "    .dataframe tbody tr th:only-of-type {\n",
       "        vertical-align: middle;\n",
       "    }\n",
       "\n",
       "    .dataframe tbody tr th {\n",
       "        vertical-align: top;\n",
       "    }\n",
       "\n",
       "    .dataframe thead th {\n",
       "        text-align: right;\n",
       "    }\n",
       "</style>\n",
       "<table border=\"1\" class=\"dataframe\">\n",
       "  <thead>\n",
       "    <tr style=\"text-align: right;\">\n",
       "      <th></th>\n",
       "      <th>platform</th>\n",
       "      <th>first_year</th>\n",
       "      <th>last_year</th>\n",
       "      <th>length</th>\n",
       "    </tr>\n",
       "  </thead>\n",
       "  <tbody>\n",
       "    <tr>\n",
       "      <th>9</th>\n",
       "      <td>GG</td>\n",
       "      <td>1992</td>\n",
       "      <td>1992</td>\n",
       "      <td>0</td>\n",
       "    </tr>\n",
       "    <tr>\n",
       "      <th>14</th>\n",
       "      <td>PCFX</td>\n",
       "      <td>1996</td>\n",
       "      <td>1996</td>\n",
       "      <td>0</td>\n",
       "    </tr>\n",
       "    <tr>\n",
       "      <th>24</th>\n",
       "      <td>TG16</td>\n",
       "      <td>1995</td>\n",
       "      <td>1995</td>\n",
       "      <td>0</td>\n",
       "    </tr>\n",
       "  </tbody>\n",
       "</table>\n",
       "</div>"
      ],
      "text/plain": [
       "   platform  first_year  last_year  length\n",
       "9        GG        1992       1992       0\n",
       "14     PCFX        1996       1996       0\n",
       "24     TG16        1995       1995       0"
      ]
     },
     "metadata": {},
     "output_type": "display_data"
    }
   ],
   "source": [
    "platform_life = data.pivot_table(index='platform', values='year_of_release', aggfunc=['min', 'max']).reset_index() # создадим сводную таблицу\n",
    "platform_life.set_axis(['platform', 'first_year', 'last_year'], axis='columns', inplace=True) # переименуем столбцы для удобства\n",
    "platform_life['length'] = platform_life.last_year - platform_life.first_year\n",
    "display(platform_life['length'].describe())\n",
    "display(platform_life[platform_life['length'] == 31]) \n",
    "display(platform_life[platform_life['length'] == 0]) \n",
    "  "
   ]
  },
  {
   "cell_type": "markdown",
   "metadata": {},
   "source": [
    "средняя продолжительность жизни платформ составляет около 8 лет, медианная - 6 лет. Самая долгоживущая платформа - персональный компьютер (более 31 года).\n"
   ]
  },
  {
   "cell_type": "markdown",
   "metadata": {},
   "source": [
    "3.4. Выберем актуальный период (на основании проведенных выше иссследований) и исследуем продажи по платформам за актуальный период"
   ]
  },
  {
   "cell_type": "code",
   "execution_count": 14,
   "metadata": {},
   "outputs": [
    {
     "name": "stdout",
     "output_type": "stream",
     "text": [
      "platform\n",
      "PS4     314.14\n",
      "PS3     288.79\n",
      "X360    236.54\n",
      "3DS     194.61\n",
      "XOne    159.32\n",
      "WiiU     82.19\n",
      "PC       62.65\n",
      "PSV      49.18\n",
      "Wii      35.37\n",
      "DS       12.55\n",
      "Name: total_sales, dtype: float64\n"
     ]
    },
    {
     "data": {
      "image/png": "[encoded data removed]",
      "text/plain": [
       "<Figure size 720x720 with 1 Axes>"
      ]
     },
     "metadata": {
      "needs_background": "light"
     },
     "output_type": "display_data"
    },
    {
     "data": {
      "image/png": "[encoded data removed]",
      "text/plain": [
       "<Figure size 720x720 with 1 Axes>"
      ]
     },
     "metadata": {
      "needs_background": "light"
     },
     "output_type": "display_data"
    }
   ],
   "source": [
    "data_actual = data.query('year_of_release > 2011') \n",
    "newtop_platforms = data_actual.groupby('platform')['total_sales'].sum().sort_values(ascending=False).head(10) #топ-10 платформ с наибольшими суммарными продажами по более свежим, неустаревщим данным с учетом продолжительности жизни платформ\n",
    "print(newtop_platforms)\n",
    "data_actual[['platform', 'name', 'total_sales']].boxplot(column='total_sales', by='platform', figsize=(10,10)) #построим диаграмму размаха\n",
    "plt.xlabel('Платформа')\n",
    "plt.ylabel('Количество проданных копий, млн')\n",
    "plt.title('Диаграммы размаха по продажам на всех платформах')\n",
    "plt.ylim(0, 4)\n",
    "plt.show()\n",
    "actual_platforms = [\"PS3\",\"PS4\", \"WiiU\", \"X360\", \"PC\", \"3DS\"]\n",
    "data_actual.query('platform in @actual_platforms')[['platform', 'name', 'total_sales']].boxplot(column='total_sales', by='platform', figsize=(10,10)) #построим диаграмму размаха за более свежие годы по наиболее значимым платформам\n",
    "plt.xlabel('Платформа')\n",
    "plt.ylabel('Количество проданных копий, млн')\n",
    "plt.title('Диаграммы размаха по продажам на крупных платформах')\n",
    "plt.ylim(0, 4)\n",
    "plt.show()\n",
    "   "
   ]
  },
  {
   "cell_type": "markdown",
   "metadata": {},
   "source": [
    "Лидером продаж является PlayStation 4, но и размах продаж у нее самый большой, ПК является самой непопулярной, но самой стабильной из рассмотренных подробно платформой (размах самый узкий). \n",
    "Медианные продажи по каждой из платформ меньше 1 млн, выбросы показывают, что каждая платформа иногда выпускает хиты, доля таких успешных проектов выше всего у PlayStation 4.\n",
    "по свежим данным более персепективны PS4 PS3 X360, но можно пойти по пути стабильности и вложиться в ПК. "
   ]
  },
  {
   "cell_type": "markdown",
   "metadata": {},
   "source": [
    "3.5. Рассмотрим связь продаж и оценок пользователей и критиков по различным платформам"
   ]
  },
  {
   "cell_type": "code",
   "execution_count": 15,
   "metadata": {},
   "outputs": [
    {
     "name": "stdout",
     "output_type": "stream",
     "text": [
      "Корреляция между оценкой критиков и продажами: 0.41\n",
      "Корреляция между оценкой пользователей и продажами: -0.03\n"
     ]
    },
    {
     "data": {
      "image/png": "[encoded data removed]",
      "text/plain": [
       "<Figure size 720x360 with 2 Axes>"
      ]
     },
     "metadata": {
      "needs_background": "light"
     },
     "output_type": "display_data"
    },
    {
     "data": {
      "image/png": "[encoded data removed]",
      "text/plain": [
       "<Figure size 720x360 with 2 Axes>"
      ]
     },
     "metadata": {
      "needs_background": "light"
     },
     "output_type": "display_data"
    }
   ],
   "source": [
    "data_ps = data_actual.query('platform == \"PS4\"') # рассмотрим данные по PS4\n",
    "\n",
    "print(f'Корреляция между оценкой критиков и продажами: {data_ps.critic_score.corr(data_ps.total_sales).round(2)}')\n",
    "print(f'Корреляция между оценкой пользователей и продажами: {data_ps.user_score.corr(data_ps.total_sales).round(2)}')\n",
    "\n",
    "data_ps.plot.scatter('critic_score',  'total_sales', figsize=(10, 5), alpha=0.5, c='user_score', colormap='plasma', sharex=False) #диаграмма рассеивания для оценок критиков и продаж PS4\n",
    "plt.xlabel('Оценки критиков')\n",
    "plt.ylabel('Продажи')\n",
    "plt.title('Влияние оценок критиков на уровень продаж')\n",
    "plt.show()\n",
    "data_ps.plot.scatter('user_score', 'total_sales', figsize=(10, 5), alpha=0.5, c='critic_score', colormap='plasma', sharex=False)#диаграмма рассеивания для оценок пользователей и продаж PS4\n",
    "plt.xlabel('Оценки пользователей')\n",
    "plt.ylabel('Продажи')\n",
    "plt.title('Влияние оценок пользователей на уровень продаж')\n",
    "plt.show()\n",
    "\n",
    "\n"
   ]
  },
  {
   "cell_type": "markdown",
   "metadata": {},
   "source": [
    "по данным по PS4 заметная связь просматривается между оценками критиков и продажами, незначительная связь просматривается между оценками пользователей и продажами."
   ]
  },
  {
   "cell_type": "code",
   "execution_count": 16,
   "metadata": {},
   "outputs": [
    {
     "name": "stdout",
     "output_type": "stream",
     "text": [
      "Корреляция между оценкой критиков и продажами: 0.36\n",
      "Корреляция между оценкой пользователей и продажами: 0.01\n"
     ]
    },
    {
     "data": {
      "image/png": "[encoded data removed]",
      "text/plain": [
       "<Figure size 720x360 with 2 Axes>"
      ]
     },
     "metadata": {
      "needs_background": "light"
     },
     "output_type": "display_data"
    },
    {
     "data": {
      "image/png": "[encoded data removed]",
      "text/plain": [
       "<Figure size 720x360 with 2 Axes>"
      ]
     },
     "metadata": {
      "needs_background": "light"
     },
     "output_type": "display_data"
    }
   ],
   "source": [
    "data_xb = data_actual.query('platform == \"X360\"') # рассмотрим данные по X360\n",
    "\n",
    "print(f'Корреляция между оценкой критиков и продажами: {data_xb.critic_score.corr(data_xb.total_sales).round(2)}')\n",
    "print(f'Корреляция между оценкой пользователей и продажами: {data_xb.user_score.corr(data_xb.total_sales).round(2)}')\n",
    "\n",
    "data_xb.plot.scatter('critic_score',  'total_sales', figsize=(10, 5), alpha=0.5, c='user_score', colormap='plasma', sharex=False) #диаграмма рассеивания для оценок критиков и продаж PS4\n",
    "plt.xlabel('Оценки критиков')\n",
    "plt.ylabel('Продажи')\n",
    "plt.title('Влияние оценок критиков на уровень продаж')\n",
    "plt.show()\n",
    "data_xb.plot.scatter('user_score', 'total_sales', figsize=(10, 5), alpha=0.5, c='critic_score', colormap='plasma', sharex=False)#диаграмма рассеивания для оценок пользователей и продаж PS4\n",
    "plt.xlabel('Оценки пользователей')\n",
    "plt.ylabel('Продажи')\n",
    "plt.title('Влияние оценок пользователей на уровень продаж')\n",
    "plt.show()"
   ]
  },
  {
   "cell_type": "markdown",
   "metadata": {},
   "source": [
    "по данным по X360 заметная связь просматривается между оценками критиков и продажами, незначительная связь просматривается между оценками пользователей и продажами."
   ]
  },
  {
   "cell_type": "code",
   "execution_count": 17,
   "metadata": {},
   "outputs": [
    {
     "name": "stdout",
     "output_type": "stream",
     "text": [
      "Корреляция между оценкой критиков и продажами: 0.32\n",
      "Корреляция между оценкой пользователей и продажами: 0.2\n"
     ]
    },
    {
     "data": {
      "image/png": "[encoded data removed]",
      "text/plain": [
       "<Figure size 720x360 with 2 Axes>"
      ]
     },
     "metadata": {
      "needs_background": "light"
     },
     "output_type": "display_data"
    },
    {
     "data": {
      "image/png": "[encoded data removed]",
      "text/plain": [
       "<Figure size 720x360 with 2 Axes>"
      ]
     },
     "metadata": {
      "needs_background": "light"
     },
     "output_type": "display_data"
    }
   ],
   "source": [
    "data_3DS = data_actual.query('platform == \"3DS\"') # рассмотрим данные по 3DS\n",
    "\n",
    "print(f'Корреляция между оценкой критиков и продажами: {data_3DS.critic_score.corr(data_3DS.total_sales).round(2)}')\n",
    "print(f'Корреляция между оценкой пользователей и продажами: {data_3DS.user_score.corr(data_3DS.total_sales).round(2)}')\n",
    "\n",
    "data_3DS.plot.scatter('critic_score',  'total_sales', figsize=(10, 5), alpha=0.5, c='user_score', colormap='plasma', sharex=False) #диаграмма рассеивания для оценок критиков и продаж PS4\n",
    "plt.xlabel('Оценки критиков')\n",
    "plt.ylabel('Продажи')\n",
    "plt.title('Влияние оценок критиков на уровень продаж')\n",
    "plt.show()\n",
    "data_3DS.plot.scatter('user_score', 'total_sales', figsize=(10, 5), alpha=0.5, c='critic_score', colormap='plasma', sharex=False)#диаграмма рассеивания для оценок пользователей и продаж PS4\n",
    "plt.xlabel('Оценки пользователей')\n",
    "plt.ylabel('Продажи')\n",
    "plt.title('Влияние оценок пользователей на уровень продаж')\n",
    "plt.show()"
   ]
  },
  {
   "cell_type": "markdown",
   "metadata": {},
   "source": [
    "по данным по 3DS заметная связь просматривается между оценками критиков и продажами, незначительная связь просматривается между оценками пользователей и продажами."
   ]
  },
  {
   "cell_type": "code",
   "execution_count": 18,
   "metadata": {},
   "outputs": [
    {
     "name": "stdout",
     "output_type": "stream",
     "text": [
      "Корреляция между оценкой критиков и продажами: 0.24\n",
      "Корреляция между оценкой пользователей и продажами: -0.12\n"
     ]
    },
    {
     "data": {
      "image/png": "[encoded data removed]",
      "text/plain": [
       "<Figure size 720x360 with 2 Axes>"
      ]
     },
     "metadata": {
      "needs_background": "light"
     },
     "output_type": "display_data"
    },
    {
     "data": {
      "image/png": "[encoded data removed]",
      "text/plain": [
       "<Figure size 720x360 with 2 Axes>"
      ]
     },
     "metadata": {
      "needs_background": "light"
     },
     "output_type": "display_data"
    }
   ],
   "source": [
    "data_PC = data_actual.query('platform == \"PC\"') # рассмотрим данные по PC\n",
    "\n",
    "print(f'Корреляция между оценкой критиков и продажами: {data_PC.critic_score.corr(data_PC.total_sales).round(2)}')\n",
    "print(f'Корреляция между оценкой пользователей и продажами: {data_PC.user_score.corr(data_PC.total_sales).round(2)}')\n",
    "\n",
    "data_PC.plot.scatter('critic_score',  'total_sales', figsize=(10, 5), alpha=0.5, c='user_score', colormap='plasma', sharex=False) #диаграмма рассеивания для оценок критиков и продаж PS4\n",
    "plt.xlabel('Оценки критиков')\n",
    "plt.ylabel('Продажи')\n",
    "plt.title('Влияние оценок критиков на уровень продаж')\n",
    "plt.show()\n",
    "data_PC.plot.scatter('user_score', 'total_sales', figsize=(10, 5), alpha=0.5, c='critic_score', colormap='plasma', sharex=False)#диаграмма рассеивания для оценок пользователей и продаж PS4\n",
    "plt.xlabel('Оценки пользователей')\n",
    "plt.ylabel('Продажи')\n",
    "plt.title('Влияние оценок пользователей на уровень продаж')\n",
    "plt.show()"
   ]
  },
  {
   "cell_type": "markdown",
   "metadata": {},
   "source": [
    "по данным по ПК заметная связь просматривается между оценками критиков и продажами, незначительная связь просматривается между оценками пользователей и продажами."
   ]
  },
  {
   "cell_type": "code",
   "execution_count": 19,
   "metadata": {},
   "outputs": [
    {
     "name": "stdout",
     "output_type": "stream",
     "text": [
      "Корреляция между оценкой критиков и продажами: 0.33\n",
      "Корреляция между оценкой пользователей и продажами: -0.01\n"
     ]
    },
    {
     "data": {
      "image/png": "[encoded data removed]",
      "text/plain": [
       "<Figure size 720x360 with 2 Axes>"
      ]
     },
     "metadata": {
      "needs_background": "light"
     },
     "output_type": "display_data"
    },
    {
     "data": {
      "image/png": "[encoded data removed]",
      "text/plain": [
       "<Figure size 720x360 with 2 Axes>"
      ]
     },
     "metadata": {
      "needs_background": "light"
     },
     "output_type": "display_data"
    }
   ],
   "source": [
    "data_ps3 = data_actual.query('platform == \"PS3\"') # рассмотрим данные по PS3\n",
    "\n",
    "print(f'Корреляция между оценкой критиков и продажами: {data_ps3.critic_score.corr(data_ps3.total_sales).round(2)}')\n",
    "print(f'Корреляция между оценкой пользователей и продажами: {data_ps3.user_score.corr(data_ps3.total_sales).round(2)}')\n",
    "\n",
    "data_ps3.plot.scatter('critic_score',  'total_sales', figsize=(10, 5), alpha=0.5, c='user_score', colormap='plasma', sharex=False) #диаграмма рассеивания для оценок критиков и продаж PS4\n",
    "plt.xlabel('Оценки критиков')\n",
    "plt.ylabel('Продажи')\n",
    "plt.title('Влияние оценок критиков на уровень продаж')\n",
    "plt.show()\n",
    "data_ps3.plot.scatter('user_score', 'total_sales', figsize=(10, 5), alpha=0.5, c='critic_score', colormap='plasma', sharex=False)#диаграмма рассеивания для оценок пользователей и продаж PS4\n",
    "plt.xlabel('Оценки пользователей')\n",
    "plt.ylabel('Продажи')\n",
    "plt.title('Влияние оценок пользователей на уровень продаж')\n",
    "plt.show()"
   ]
  },
  {
   "cell_type": "markdown",
   "metadata": {},
   "source": [
    "по данным по PS3 заметная связь просматривается между оценками критиков и продажами, незначительная связь просматривается между оценками пользователей и продажами."
   ]
  },
  {
   "cell_type": "code",
   "execution_count": 20,
   "metadata": {},
   "outputs": [
    {
     "name": "stdout",
     "output_type": "stream",
     "text": [
      "Корреляция между оценкой критиков и продажами: 0.31\n",
      "Корреляция между оценкой пользователей и продажами: 0.0\n"
     ]
    },
    {
     "data": {
      "image/png": "[encoded data removed]",
      "text/plain": [
       "<Figure size 720x360 with 2 Axes>"
      ]
     },
     "metadata": {
      "needs_background": "light"
     },
     "output_type": "display_data"
    },
    {
     "data": {
      "image/png": "[encoded data removed]",
      "text/plain": [
       "<Figure size 720x360 with 2 Axes>"
      ]
     },
     "metadata": {
      "needs_background": "light"
     },
     "output_type": "display_data"
    }
   ],
   "source": [
    "print(f'Корреляция между оценкой критиков и продажами: {data_actual.critic_score.corr(data_actual.total_sales).round(2)}')\n",
    "print(f'Корреляция между оценкой пользователей и продажами: {data_actual.user_score.corr(data_actual.total_sales).round(2)}')\n",
    "\n",
    "data_actual.plot.scatter('critic_score',  'total_sales', figsize=(10, 5), alpha=0.5, c='user_score', colormap='plasma', sharex=False) #диаграмма рассеивания для оценок критиков и продаж\n",
    "plt.xlabel('Оценки критиков')\n",
    "plt.ylabel('Продажи')\n",
    "plt.title('Влияние оценок критиков на уровень продаж')\n",
    "plt.show()\n",
    "data_actual.plot.scatter('user_score', 'total_sales', figsize=(10, 5), alpha=0.5, c='critic_score', colormap='plasma', sharex=False)#диаграмма рассеивания для оценок пользователей и продаж\n",
    "plt.xlabel('Оценки пользователей')\n",
    "plt.ylabel('Продажи')\n",
    "plt.title('Влияние оценок пользователей на уровень продаж')\n",
    "plt.show()\n",
    "\n"
   ]
  },
  {
   "cell_type": "markdown",
   "metadata": {},
   "source": [
    "по данным по всем платформам также, как и по популярным, заметная связь просматривается между оценками критиков и продажами, незначительная связь просматривается между оценками пользователей и продажами.\n",
    "При этом наиболее выражена связь между оценками критиками и продажами у PS4 (лидер продаж), наименьшая из рассмотренных подробно - у ПК (меньше всего продаж из рассмотренных крупных платформ)."
   ]
  },
  {
   "cell_type": "markdown",
   "metadata": {},
   "source": [
    "3.6. Выявим популярные жанры"
   ]
  },
  {
   "cell_type": "code",
   "execution_count": 21,
   "metadata": {},
   "outputs": [
    {
     "name": "stdout",
     "output_type": "stream",
     "text": [
      "genre\n",
      "Action          441.12\n",
      "Shooter         304.73\n",
      "Role-Playing    192.80\n",
      "Sports          181.07\n",
      "Misc             85.04\n",
      "Platform         61.00\n",
      "Racing           53.50\n",
      "Fighting         44.49\n",
      "Simulation       35.12\n",
      "Adventure        29.43\n",
      "Name: total_sales, dtype: float64\n",
      "genre\n",
      "Puzzle            4.89\n",
      "Strategy         13.34\n",
      "Adventure        29.43\n",
      "Simulation       35.12\n",
      "Fighting         44.49\n",
      "Racing           53.50\n",
      "Platform         61.00\n",
      "Misc             85.04\n",
      "Sports          181.07\n",
      "Role-Playing    192.80\n",
      "Name: total_sales, dtype: float64\n"
     ]
    },
    {
     "data": {
      "image/png": "[encoded data removed]",
      "text/plain": [
       "<Figure size 720x576 with 1 Axes>"
      ]
     },
     "metadata": {
      "needs_background": "light"
     },
     "output_type": "display_data"
    },
    {
     "data": {
      "text/html": [
       "<div>\n",
       "<style scoped>\n",
       "    .dataframe tbody tr th:only-of-type {\n",
       "        vertical-align: middle;\n",
       "    }\n",
       "\n",
       "    .dataframe tbody tr th {\n",
       "        vertical-align: top;\n",
       "    }\n",
       "\n",
       "    .dataframe thead tr th {\n",
       "        text-align: left;\n",
       "    }\n",
       "</style>\n",
       "<table border=\"1\" class=\"dataframe\">\n",
       "  <thead>\n",
       "    <tr>\n",
       "      <th></th>\n",
       "      <th>genre</th>\n",
       "      <th>sum</th>\n",
       "      <th>mean</th>\n",
       "      <th>median</th>\n",
       "      <th>std</th>\n",
       "      <th>count</th>\n",
       "    </tr>\n",
       "    <tr>\n",
       "      <th></th>\n",
       "      <th></th>\n",
       "      <th>total_sales</th>\n",
       "      <th>total_sales</th>\n",
       "      <th>total_sales</th>\n",
       "      <th>total_sales</th>\n",
       "      <th>total_sales</th>\n",
       "    </tr>\n",
       "  </thead>\n",
       "  <tbody>\n",
       "    <tr>\n",
       "      <th>8</th>\n",
       "      <td>Shooter</td>\n",
       "      <td>304.73</td>\n",
       "      <td>1.296723</td>\n",
       "      <td>0.440</td>\n",
       "      <td>2.251662</td>\n",
       "      <td>235</td>\n",
       "    </tr>\n",
       "    <tr>\n",
       "      <th>10</th>\n",
       "      <td>Sports</td>\n",
       "      <td>181.07</td>\n",
       "      <td>0.675634</td>\n",
       "      <td>0.240</td>\n",
       "      <td>1.136378</td>\n",
       "      <td>268</td>\n",
       "    </tr>\n",
       "    <tr>\n",
       "      <th>4</th>\n",
       "      <td>Platform</td>\n",
       "      <td>61.00</td>\n",
       "      <td>0.717647</td>\n",
       "      <td>0.210</td>\n",
       "      <td>1.364413</td>\n",
       "      <td>85</td>\n",
       "    </tr>\n",
       "    <tr>\n",
       "      <th>7</th>\n",
       "      <td>Role-Playing</td>\n",
       "      <td>192.80</td>\n",
       "      <td>0.521081</td>\n",
       "      <td>0.140</td>\n",
       "      <td>1.315937</td>\n",
       "      <td>370</td>\n",
       "    </tr>\n",
       "    <tr>\n",
       "      <th>6</th>\n",
       "      <td>Racing</td>\n",
       "      <td>53.50</td>\n",
       "      <td>0.465217</td>\n",
       "      <td>0.140</td>\n",
       "      <td>0.888664</td>\n",
       "      <td>115</td>\n",
       "    </tr>\n",
       "    <tr>\n",
       "      <th>2</th>\n",
       "      <td>Fighting</td>\n",
       "      <td>44.49</td>\n",
       "      <td>0.408165</td>\n",
       "      <td>0.130</td>\n",
       "      <td>0.910385</td>\n",
       "      <td>109</td>\n",
       "    </tr>\n",
       "    <tr>\n",
       "      <th>0</th>\n",
       "      <td>Action</td>\n",
       "      <td>441.12</td>\n",
       "      <td>0.427856</td>\n",
       "      <td>0.120</td>\n",
       "      <td>1.166504</td>\n",
       "      <td>1031</td>\n",
       "    </tr>\n",
       "    <tr>\n",
       "      <th>3</th>\n",
       "      <td>Misc</td>\n",
       "      <td>85.04</td>\n",
       "      <td>0.442917</td>\n",
       "      <td>0.120</td>\n",
       "      <td>1.081047</td>\n",
       "      <td>192</td>\n",
       "    </tr>\n",
       "    <tr>\n",
       "      <th>9</th>\n",
       "      <td>Simulation</td>\n",
       "      <td>35.12</td>\n",
       "      <td>0.439000</td>\n",
       "      <td>0.120</td>\n",
       "      <td>1.244500</td>\n",
       "      <td>80</td>\n",
       "    </tr>\n",
       "    <tr>\n",
       "      <th>11</th>\n",
       "      <td>Strategy</td>\n",
       "      <td>13.34</td>\n",
       "      <td>0.187887</td>\n",
       "      <td>0.080</td>\n",
       "      <td>0.271976</td>\n",
       "      <td>71</td>\n",
       "    </tr>\n",
       "    <tr>\n",
       "      <th>5</th>\n",
       "      <td>Puzzle</td>\n",
       "      <td>4.89</td>\n",
       "      <td>0.174643</td>\n",
       "      <td>0.045</td>\n",
       "      <td>0.305438</td>\n",
       "      <td>28</td>\n",
       "    </tr>\n",
       "    <tr>\n",
       "      <th>1</th>\n",
       "      <td>Adventure</td>\n",
       "      <td>29.43</td>\n",
       "      <td>0.097450</td>\n",
       "      <td>0.030</td>\n",
       "      <td>0.208237</td>\n",
       "      <td>302</td>\n",
       "    </tr>\n",
       "  </tbody>\n",
       "</table>\n",
       "</div>"
      ],
      "text/plain": [
       "           genre         sum        mean      median         std       count\n",
       "                 total_sales total_sales total_sales total_sales total_sales\n",
       "8        Shooter      304.73    1.296723       0.440    2.251662         235\n",
       "10        Sports      181.07    0.675634       0.240    1.136378         268\n",
       "4       Platform       61.00    0.717647       0.210    1.364413          85\n",
       "7   Role-Playing      192.80    0.521081       0.140    1.315937         370\n",
       "6         Racing       53.50    0.465217       0.140    0.888664         115\n",
       "2       Fighting       44.49    0.408165       0.130    0.910385         109\n",
       "0         Action      441.12    0.427856       0.120    1.166504        1031\n",
       "3           Misc       85.04    0.442917       0.120    1.081047         192\n",
       "9     Simulation       35.12    0.439000       0.120    1.244500          80\n",
       "11      Strategy       13.34    0.187887       0.080    0.271976          71\n",
       "5         Puzzle        4.89    0.174643       0.045    0.305438          28\n",
       "1      Adventure       29.43    0.097450       0.030    0.208237         302"
      ]
     },
     "metadata": {},
     "output_type": "display_data"
    },
    {
     "name": "stdout",
     "output_type": "stream",
     "text": [
      "Жанр Action, количество бестселлеров - 38, доля хитов от общего числа релизов 0.037\n",
      "Жанр Sports, количество бестселлеров - 26, доля хитов от общего числа релизов 0.097\n",
      "Жанр Shooter, количество бестселлеров - 43, доля хитов от общего числа релизов 0.18\n",
      "Жанр Role-Playing, количество бестселлеров - 18, доля хитов от общего числа релизов 0.049\n",
      "Жанр Platform, количество бестселлеров - 6, доля хитов от общего числа релизов 0.071\n"
     ]
    }
   ],
   "source": [
    "top_genres = data_actual.groupby('genre')['total_sales'].sum().sort_values(ascending=False).head(10) #топ-10 жанров с наибольшими суммарными продажами по более свежим, неустаревщим данным с учетом продолжительности жизни платформ\n",
    "print(top_genres)\n",
    "bad_genres = data_actual.groupby('genre')['total_sales'].sum().sort_values(ascending=True).head(10) #антитоп\n",
    "print(bad_genres)\n",
    "data_actual[['total_sales', 'genre']].boxplot(column='total_sales', by='genre', figsize=(10,8))\n",
    "plt.xlabel('Жанр')\n",
    "plt.ylabel('Количество проданных копий, млн')\n",
    "plt.title('Диаграммы размаха по продажам в разных жанрах')\n",
    "plt.show()\n",
    "display(data_actual\n",
    "        .pivot_table(index='genre', values='total_sales', aggfunc=['sum', 'mean', 'median', 'std', 'count'])\n",
    "        .reset_index().sort_values(('median', 'total_sales'), ascending=False))\n",
    "\n",
    "for i in ['Action', 'Sports', 'Shooter', 'Role-Playing', 'Platform']:\n",
    "    с = data_actual[(data_actual['genre'] == i) & (data_actual['total_sales'] > 2)]['total_sales'].count()\n",
    "    print(f'Жанр {i}, количество бестселлеров - {с}, доля хитов от общего числа релизов {(с/data_actual[data_actual[\"genre\"] == i][\"total_sales\"].count()):.2}')"
   ]
  },
  {
   "cell_type": "markdown",
   "metadata": {},
   "source": [
    "Наиболее популярные данные по медианным продажам: Shooter, Sports,Platform  наименее - Strategy,Puzzle,Adventure.\n",
    "Также на основе этих данных стоит отметить, что экшионы лидеры по количеству релизов и валовым продажам, но по медианым продажам экшионы не входят в топ-5, шутеры лидируют по средним и медианным продажам, а также по доле бестселлеров среди выпущенных игр."
   ]
  },
  {
   "cell_type": "markdown",
   "metadata": {},
   "source": [
    "### Вывод:\n",
    "1. до 1995 года количество релизов в год не превышало 200, наибольшего взлета игры достигли в 2008-2009 годах (1427 и 1426 релизов в год соответственно);\n",
    "2. если смотреть данные за все годы в нашей выборке, то с большим отрывом лидирует ps2, далее идут X360 и PS3 и т.д.;\n",
    "3. средняя продолжительность жизни платформ составляет около 8 лет, медианная - 6 лет, самая долгоживущая платформа - персональный компьютер (более 31 года);\n",
    "4. по свежим данным с учетом продолжительности жизни платформ более персепективны в плане прибыльности PS4 PS3 X360, но можно пойти по пути стабильности и вложиться в ПК;\n",
    "5. лидером продаж после 2011 года является PlayStation 4, но и размах продаж у нее самый большой, ПК является самой непопулярной, но самой стабильной из рассмотренных подробно платформой (размах самый узкий);\n",
    "6. медианные продажи по каждой из платформ меньше 1 млн, выбросы показывают, что каждая платформа иногда выпускает хиты, доля таких успешных проектов выше всего у PlayStation 4;\n",
    "7. оценки критиков заметно влияют на продажи, оценки пользователей влияют незначительно;\n",
    "8. Наиболее популярные данные по медианным продажам: Shooter, Sports,Platform  наименее - Strategy,Puzzle,Adventure.\n",
    "\n"
   ]
  },
  {
   "cell_type": "markdown",
   "metadata": {},
   "source": [
    "4. Рассмотрим особенности в продажах игр по регионам"
   ]
  },
  {
   "cell_type": "markdown",
   "metadata": {},
   "source": [
    "4.1. Посмотрим топ по платформам"
   ]
  },
  {
   "cell_type": "code",
   "execution_count": 22,
   "metadata": {},
   "outputs": [
    {
     "name": "stdout",
     "output_type": "stream",
     "text": [
      "platform\n",
      "X360    140.05\n",
      "PS4     108.74\n",
      "PS3     103.38\n",
      "XOne     93.12\n",
      "3DS      55.31\n",
      "Name: na_sales, dtype: float64\n",
      "platform\n",
      "PS4     141.09\n",
      "PS3     106.86\n",
      "X360     74.52\n",
      "XOne     51.59\n",
      "3DS      42.64\n",
      "Name: eu_sales, dtype: float64\n",
      "platform\n",
      "3DS     87.79\n",
      "PS3     35.29\n",
      "PSV     21.04\n",
      "PS4     15.96\n",
      "WiiU    13.01\n",
      "Name: jp_sales, dtype: float64\n"
     ]
    }
   ],
   "source": [
    "top_platforms_na = data_actual.groupby('platform')['na_sales'].sum().sort_values(ascending=False).head(5)\n",
    "print(top_platforms_na)\n",
    "top_platforms_eu = data_actual.groupby('platform')['eu_sales'].sum().sort_values(ascending=False).head(5)\n",
    "print(top_platforms_eu)\n",
    "top_platforms_jp = data_actual.groupby('platform')['jp_sales'].sum().sort_values(ascending=False).head(5)\n",
    "print(top_platforms_jp)\n"
   ]
  },
  {
   "cell_type": "markdown",
   "metadata": {},
   "source": [
    "В Северной Америке и Европе похожая картина, но в Америке X360 на первом месте, в Европе - на 3-м, также в Америке XOne почти в 2 раза лучше продавался, чем в Европе.\n",
    "В Японии заметно ниже количество проданных копий по всем платформам и совсем другое распределение мест в топе. Так на первом месте в Японии 3DS, занимающее последнее место в Америке и Европе.\n"
   ]
  },
  {
   "cell_type": "markdown",
   "metadata": {},
   "source": [
    "4.2. Посмотрим топ по жанрам"
   ]
  },
  {
   "cell_type": "code",
   "execution_count": 23,
   "metadata": {},
   "outputs": [
    {
     "name": "stdout",
     "output_type": "stream",
     "text": [
      "genre\n",
      "Action          177.84\n",
      "Shooter         144.77\n",
      "Sports           81.53\n",
      "Role-Playing     64.00\n",
      "Misc             38.19\n",
      "Name: na_sales, dtype: float64\n",
      "genre\n",
      "Action          159.34\n",
      "Shooter         113.47\n",
      "Sports           69.09\n",
      "Role-Playing     48.53\n",
      "Racing           27.29\n",
      "Name: eu_sales, dtype: float64\n",
      "genre\n",
      "Role-Playing    65.44\n",
      "Action          52.80\n",
      "Misc            12.86\n",
      "Simulation      10.41\n",
      "Fighting         9.44\n",
      "Name: jp_sales, dtype: float64\n"
     ]
    }
   ],
   "source": [
    "top_genres_na = data_actual.groupby('genre')['na_sales'].sum().sort_values(ascending=False).head(5)\n",
    "print(top_genres_na)\n",
    "top_genres_eu = data_actual.groupby('genre')['eu_sales'].sum().sort_values(ascending=False).head(5)\n",
    "print(top_genres_eu)\n",
    "top_genres_jp = data_actual.groupby('genre')['jp_sales'].sum().sort_values(ascending=False).head(5)\n",
    "print(top_genres_jp)\n"
   ]
  },
  {
   "cell_type": "markdown",
   "metadata": {},
   "source": [
    " В Северной Америке и Европе похожая картина,в Америке несколько больше общее количество проданных копий, в Америке на последнем месте Misc, в Европе -Racing.\n",
    " В Японии другая картина: наиболее популярны Role-Playing, а Shooter и Sports вообще отсутствуют в топ-5.\n",
    "Вероятно, предпочтения тех или иных жанров зависит от менталитета, японцы имеют традиции и вкусы, очень отличные от европейцев и американцев.\n"
   ]
  },
  {
   "cell_type": "markdown",
   "metadata": {},
   "source": [
    "4.3. Посмотрим зависимость продаж по регионам от рейтинга"
   ]
  },
  {
   "cell_type": "code",
   "execution_count": 24,
   "metadata": {},
   "outputs": [
    {
     "data": {
      "image/png": "[encoded data removed]",
      "text/plain": [
       "<Figure size 1080x360 with 1 Axes>"
      ]
     },
     "metadata": {
      "needs_background": "light"
     },
     "output_type": "display_data"
    }
   ],
   "source": [
    "data_actual.pivot_table(index='rating', values=['na_sales', 'eu_sales', 'jp_sales'], aggfunc='mean').sort_values(by='na_sales').plot(kind='bar', figsize=(15, 5))\n",
    "plt.xlabel('Рейтинг ESRB')\n",
    "plt.ylabel('Количество проданных копий, млн')\n",
    "plt.title('Продажи в зависимости от рейтинга в различных регионах')\n",
    "plt.show()\n"
   ]
  },
  {
   "cell_type": "markdown",
   "metadata": {},
   "source": [
    "Рейтинг ESRB заметно влияет на продажи в Америке и Европе и не имеет очевидной связи с продажами в Японии.\n",
    "Вероятно, это связано с тем, что ESRB предназначен для рецензирования игр на территории Северной Америки (США, Канады, Мексики). Поэтому в Японии популярны игры без этого рейтинга (судя по всему, это игры, созданные в Японии, соответственно не получавшие рейтинга, но популярные на своей родине).\n"
   ]
  },
  {
   "cell_type": "markdown",
   "metadata": {},
   "source": [
    "### Вывод:\n",
    "1. каждый из рассмотренных регионов имеет свои особенности и отличается по долям продаж, при этом Северная Америка и Европа близки по показателям, а Япония заметно отличается;\n",
    "2. самые большие продажи игр из рассмотренных регионов наблюдаются в Северной Америке, на втором месте - Европа, на 3-м - Япония;\n",
    "3. в Европе и Северной Америке наиболее популярны X360,PS4 и 3, в Японии - 3DS;\n",
    "4. в Европе и Северной Америке наиболее популярны экшионы, шутеры и спортивные игры, в Японии - ролевые игры и экшионы, вероятно, в связи с различиями менталитетов;\n",
    "5. рейтинг ESRB заметно влияет на продажи в Северной Америке и Европе (наиболее популярны фильмы для взрослых) и не имеет очевидной связи с продажами в Японии, в Японии, судя по всему, более популярны местные игры.\n"
   ]
  },
  {
   "cell_type": "markdown",
   "metadata": {},
   "source": [
    "5. Рассмотрим 2 гипотезы по рейтингам."
   ]
  },
  {
   "cell_type": "markdown",
   "metadata": {},
   "source": [
    "5.1. Гипотеза 1.\n",
    "Нулевая гипотеза - \"средние пользовательские рейтинги платформ Xbox One и PC не отличаются\". Альернативная гипотеза - \"средние пользовательские рейтинги платформ Xbox One и PC отличаются\".\n",
    "Значение критического уровня вероятности (альфа) примем равным 5%.\n"
   ]
  },
  {
   "cell_type": "code",
   "execution_count": 25,
   "metadata": {},
   "outputs": [
    {
     "name": "stdout",
     "output_type": "stream",
     "text": [
      "p-значение: 0.5535080500643661\n",
      "Не получилось отвергнуть нулевую гипотезу\n"
     ]
    }
   ],
   "source": [
    "\n",
    "results = st.ttest_ind(\n",
    "    data_actual[(data_actual.platform == \"XOne\") & (data_actual.user_score.notna())]['user_score'], \n",
    "    data_actual[(data_actual.platform == \"PC\") & (data_actual.user_score.notna())]['user_score']\n",
    ")\n",
    "alpha = 0.05  # критический уровень статистической значимости\n",
    "print('p-значение:', results.pvalue)\n",
    "\n",
    "if results.pvalue < alpha:\n",
    "    print('Отвергаем нулевую гипотезу')\n",
    "else:\n",
    "    print('Не получилось отвергнуть нулевую гипотезу') \n",
    "\n"
   ]
  },
  {
   "cell_type": "markdown",
   "metadata": {},
   "source": [
    "выбрала такой критический уровень статистической значимости, так как согласно теории наиболее распространен такой уровень и 0.01, но 0.01 кажется мне маловатым.\n",
    "H₀ всегда формулируется так, чтобы использовать знак равенства, в остальном формулировка идет по сути предположения,\n",
    "альтернативная гипотеза противоположна нулевой, всегда верна либо нулевая гипотеза, либо альтернативная.\n",
    "\n",
    "Получившееся p-value невелико, вероятность получить такие значения статистически мала. \n",
    "Вывод: средние пользовательские рейтинги платформ Xbox One и PC не отличаются."
   ]
  },
  {
   "cell_type": "markdown",
   "metadata": {},
   "source": [
    "5.2. Гипотеза 2.Нулевая гипотеза - \"средние пользовательские рейтинги жанров Action (англ. «действие», экшен-игры) и Sports (англ. «спортивные соревнования») не отличаются\".Альернативная гипотеза -  \"средние пользовательские рейтинги жанров Action (англ. «действие», экшен-игры) и Sports (англ. «спортивные соревнования») отличаются\".Значение критического уровня вероятности (альфа) примем равным 5%.\n"
   ]
  },
  {
   "cell_type": "code",
   "execution_count": 26,
   "metadata": {},
   "outputs": [
    {
     "name": "stdout",
     "output_type": "stream",
     "text": [
      "p-значение: 3.7163089460934874e-26\n",
      "Отвергаем нулевую гипотезу\n"
     ]
    }
   ],
   "source": [
    "results = st.ttest_ind(\n",
    "    data_actual[(data_actual.genre == \"Action\") & (data_actual.user_score.notna())]['user_score'], \n",
    "    data_actual[(data_actual.genre == \"Sports\") & (data_actual.user_score.notna())]['user_score']\n",
    ")\n",
    "\n",
    "alpha = 10  # критический уровень статистической значимости\n",
    "print('p-значение:', results.pvalue)\n",
    "\n",
    "if results.pvalue < alpha:\n",
    "    print('Отвергаем нулевую гипотезу')\n",
    "else:\n",
    "    print('Не получилось отвергнуть нулевую гипотезу') \n",
    "\n"
   ]
  },
  {
   "cell_type": "markdown",
   "metadata": {},
   "source": [
    "выбрала такой критический уровень статистической значимости, так как согласно теории наиболее распространен такой уровень и 0.01, но 0.01 кажется мне маловатым.\n",
    "H₀ всегда формулируется так, чтобы использовать знак равенства, в остальном формулировка идет по сути предположения,\n",
    "альтернативная гипотеза противоположна нулевой, всегда верна либо нулевая гипотеза, либо альтернативная.\n",
    "\n",
    "Так как принятый критический уровень вероятности 5%, гипотезу следует отвергнуть как маловероятную.\n",
    "Вывод:средние пользовательские рейтинги жанров Action (англ. «действие», экшен-игры) и Sports (англ. «спортивные соревнования») отличаются"
   ]
  },
  {
   "cell_type": "markdown",
   "metadata": {},
   "source": [
    "### Вывод:\n",
    "1. оценки пользователей не зависят от платформ;\n",
    "2. оценки пользователей зависят от жанров игр;\n",
    "3. на основании принятого нами значения критического уровня статистической значимости 5% мы можем предполагать, что первая гипотеза верна, а вторая нет.\n"
   ]
  },
  {
   "cell_type": "markdown",
   "metadata": {},
   "source": [
    "# Общий вывод.\n",
    "\n",
    "Мы изучили выборку по видеоиграм, вышедшим с 1980 по 2016 годы на различных платформах. Основываясь на этих данных мы спрогнозировали, какие игры могут хорошо продаваться в 2017 году, а также составили портреты пользователей разных регионов.\n",
    "\n",
    "Мы отметили следующие общие особенности:\n",
    "1. до 1995 года количество релизов в год не превышало 200, пика игры достигли в 2008-2009 годах (1427 и 1426 релизов в год соответственно);\n",
    "2. средняя продолжительность жизни платформ составляет около 8 лет, медианная - 6 лет, самая долгоживущая платформа - персональный компьютер (более 31 года);\n",
    "3. по свежим данным с учетом продолжительности жизни платформ более перспективны в плане прибыльности PS4, PS3, X360, но можно пойти по пути стабильности и вложиться в ПК;\n",
    "4. лидером продаж после 2011 года является PlayStation 4, но и размах продаж у нее самый большой, ПК является самой непопулярной, но самой стабильной из рассмотренных подробно платформой (размах самый узкий);\n",
    "5. медианные продажи по каждой из платформ меньше 1 млн, выбросы показывают, что каждая платформа иногда выпускает хиты, доля таких успешных проектов выше всего у PlayStation 4;\n",
    "6. оценки критиков заметно влияют на продажи, оценки пользователей влияют незначительно;\n",
    "7. наиболее популярные данные по медианным продажам: Shooter, Sports,Platform,  наименее - Strategy,Puzzle,Adventure.;\n",
    "8. оценки пользователей не зависят от платформ, но зависят от жанров игр.\n",
    "\n",
    "Также мы выделили особенности предпочтений пользователей в зависимости от региона:\n",
    "1. каждый из рассмотренных регионов имеет свои особенности и отличается по долям продаж, при этом Северная Америка и Европа близки по показателям, а Япония заметно отличается, вероятно, в связи с различиями в менталитете;\n",
    "2. самые большие продажи игр из рассмотренных регионов наблюдаются в Северной Америке, на втором месте - Европа, на 3-м - Япония;\n",
    "3. в Европе и Северной Америке наиболее популярны X360,PS4 и 3, в Японии - 3DS;\n",
    "4. в Европе и Северной Америке наиболее популярны экшионы, шутеры и спортивные игры, в Японии - ролевые игры и экшионы;\n",
    "5. рейтинг ESRB заметно влияет на продажи в Северной Америке и Европе (наиболее популярны фильмы для взрослых) и не имеет очевидной связи с продажами в Японии, в Японии, судя по всему, более популярны местные игры.\n"
   ]
  }
 ],
 "metadata": {
  "ExecuteTimeLog": [
   {
    "duration": 737,
    "start_time": "2023-01-23T10:20:02.158Z"
   },
   {
    "duration": 13,
    "start_time": "2023-01-23T10:22:14.020Z"
   },
   {
    "duration": 22,
    "start_time": "2023-01-23T10:22:37.485Z"
   },
   {
    "duration": 21,
    "start_time": "2023-01-23T10:22:48.725Z"
   },
   {
    "duration": 16,
    "start_time": "2023-01-23T10:23:09.062Z"
   },
   {
    "duration": 55,
    "start_time": "2023-01-23T10:23:50.950Z"
   },
   {
    "duration": 4,
    "start_time": "2023-01-23T10:23:56.462Z"
   },
   {
    "duration": 54,
    "start_time": "2023-01-23T10:24:01.783Z"
   },
   {
    "duration": 63,
    "start_time": "2023-01-23T10:24:06.094Z"
   },
   {
    "duration": 16,
    "start_time": "2023-01-23T10:24:16.070Z"
   },
   {
    "duration": 17,
    "start_time": "2023-01-23T10:38:19.311Z"
   },
   {
    "duration": 15,
    "start_time": "2023-01-23T10:39:09.504Z"
   },
   {
    "duration": 74,
    "start_time": "2023-01-23T10:41:21.026Z"
   },
   {
    "duration": 3,
    "start_time": "2023-01-23T10:41:30.755Z"
   },
   {
    "duration": 23,
    "start_time": "2023-01-23T10:42:14.653Z"
   },
   {
    "duration": 8,
    "start_time": "2023-01-23T10:43:31.229Z"
   },
   {
    "duration": 18,
    "start_time": "2023-01-23T10:43:40.656Z"
   },
   {
    "duration": 14,
    "start_time": "2023-01-23T10:43:54.459Z"
   },
   {
    "duration": 16,
    "start_time": "2023-01-23T10:44:40.813Z"
   },
   {
    "duration": 14,
    "start_time": "2023-01-23T10:44:48.013Z"
   },
   {
    "duration": 12,
    "start_time": "2023-01-23T10:45:50.965Z"
   },
   {
    "duration": 17,
    "start_time": "2023-01-23T10:55:34.800Z"
   },
   {
    "duration": 8,
    "start_time": "2023-01-23T10:56:12.092Z"
   },
   {
    "duration": 7,
    "start_time": "2023-01-23T11:01:06.425Z"
   },
   {
    "duration": 503,
    "start_time": "2023-01-23T11:01:21.171Z"
   },
   {
    "duration": 39,
    "start_time": "2023-01-23T11:01:22.552Z"
   },
   {
    "duration": 17,
    "start_time": "2023-01-23T11:01:26.523Z"
   },
   {
    "duration": 18,
    "start_time": "2023-01-23T11:01:27.978Z"
   },
   {
    "duration": 18,
    "start_time": "2023-01-23T11:01:30.106Z"
   },
   {
    "duration": 37,
    "start_time": "2023-01-23T11:01:41.091Z"
   },
   {
    "duration": 9,
    "start_time": "2023-01-23T11:01:59.219Z"
   },
   {
    "duration": 12,
    "start_time": "2023-01-23T11:04:37.636Z"
   },
   {
    "duration": 10,
    "start_time": "2023-01-23T11:04:42.526Z"
   },
   {
    "duration": 4,
    "start_time": "2023-01-23T11:04:45.532Z"
   },
   {
    "duration": 8,
    "start_time": "2023-01-23T11:04:48.268Z"
   },
   {
    "duration": 8,
    "start_time": "2023-01-23T11:05:28.245Z"
   },
   {
    "duration": 6,
    "start_time": "2023-01-23T11:05:38.365Z"
   },
   {
    "duration": 20,
    "start_time": "2023-01-23T11:05:51.485Z"
   },
   {
    "duration": 34,
    "start_time": "2023-01-23T11:07:39.125Z"
   },
   {
    "duration": 16,
    "start_time": "2023-01-23T11:08:09.366Z"
   },
   {
    "duration": 15,
    "start_time": "2023-01-23T11:11:02.207Z"
   },
   {
    "duration": 16,
    "start_time": "2023-01-23T11:12:50.689Z"
   },
   {
    "duration": 12,
    "start_time": "2023-01-23T11:13:48.416Z"
   },
   {
    "duration": 15,
    "start_time": "2023-01-23T11:14:01.960Z"
   },
   {
    "duration": 14,
    "start_time": "2023-01-23T11:18:34.411Z"
   },
   {
    "duration": 18,
    "start_time": "2023-01-23T11:18:53.115Z"
   },
   {
    "duration": 22,
    "start_time": "2023-01-23T11:19:01.540Z"
   },
   {
    "duration": 1011,
    "start_time": "2023-01-23T11:19:36.804Z"
   },
   {
    "duration": 30,
    "start_time": "2023-01-23T11:20:02.944Z"
   },
   {
    "duration": 19,
    "start_time": "2023-01-23T11:21:21.204Z"
   },
   {
    "duration": 26,
    "start_time": "2023-01-23T11:22:43.517Z"
   },
   {
    "duration": 50,
    "start_time": "2023-01-23T12:13:47.114Z"
   },
   {
    "duration": 486,
    "start_time": "2023-01-23T12:14:02.335Z"
   },
   {
    "duration": 27,
    "start_time": "2023-01-23T12:14:02.823Z"
   },
   {
    "duration": 21,
    "start_time": "2023-01-23T12:14:02.852Z"
   },
   {
    "duration": 16,
    "start_time": "2023-01-23T12:14:02.875Z"
   },
   {
    "duration": 19,
    "start_time": "2023-01-23T12:14:02.894Z"
   },
   {
    "duration": 26,
    "start_time": "2023-01-23T12:14:02.914Z"
   },
   {
    "duration": 22,
    "start_time": "2023-01-23T12:14:02.942Z"
   },
   {
    "duration": 30,
    "start_time": "2023-01-23T12:14:31.956Z"
   },
   {
    "duration": 31,
    "start_time": "2023-01-23T12:15:59.638Z"
   },
   {
    "duration": 22,
    "start_time": "2023-01-23T12:23:58.865Z"
   },
   {
    "duration": 29,
    "start_time": "2023-01-23T12:24:13.962Z"
   },
   {
    "duration": 28,
    "start_time": "2023-01-23T12:26:44.651Z"
   },
   {
    "duration": 6,
    "start_time": "2023-01-23T12:30:52.094Z"
   },
   {
    "duration": 15,
    "start_time": "2023-01-23T12:31:15.997Z"
   },
   {
    "duration": 83,
    "start_time": "2023-01-23T12:42:26.900Z"
   },
   {
    "duration": 1355,
    "start_time": "2023-01-23T12:43:23.920Z"
   },
   {
    "duration": 29,
    "start_time": "2023-01-23T12:43:25.278Z"
   },
   {
    "duration": 33,
    "start_time": "2023-01-23T12:43:25.309Z"
   },
   {
    "duration": 44,
    "start_time": "2023-01-23T12:43:25.344Z"
   },
   {
    "duration": 41,
    "start_time": "2023-01-23T12:43:25.391Z"
   },
   {
    "duration": 29,
    "start_time": "2023-01-23T12:43:25.434Z"
   },
   {
    "duration": 54,
    "start_time": "2023-01-23T12:43:25.465Z"
   },
   {
    "duration": 12,
    "start_time": "2023-01-23T12:43:25.521Z"
   },
   {
    "duration": 119,
    "start_time": "2023-01-23T12:43:25.535Z"
   },
   {
    "duration": 57,
    "start_time": "2023-01-23T12:44:48.381Z"
   },
   {
    "duration": 17,
    "start_time": "2023-01-23T12:44:53.253Z"
   },
   {
    "duration": 1246,
    "start_time": "2023-01-23T12:45:14.180Z"
   },
   {
    "duration": 23,
    "start_time": "2023-01-23T12:45:15.428Z"
   },
   {
    "duration": 29,
    "start_time": "2023-01-23T12:45:15.453Z"
   },
   {
    "duration": 31,
    "start_time": "2023-01-23T12:45:15.484Z"
   },
   {
    "duration": 35,
    "start_time": "2023-01-23T12:45:15.518Z"
   },
   {
    "duration": 39,
    "start_time": "2023-01-23T12:45:15.555Z"
   },
   {
    "duration": 52,
    "start_time": "2023-01-23T12:45:15.597Z"
   },
   {
    "duration": 9,
    "start_time": "2023-01-23T12:45:15.650Z"
   },
   {
    "duration": 247,
    "start_time": "2023-01-23T12:45:15.660Z"
   },
   {
    "duration": 169,
    "start_time": "2023-01-23T12:45:27.878Z"
   },
   {
    "duration": 192,
    "start_time": "2023-01-23T12:45:35.429Z"
   },
   {
    "duration": 172,
    "start_time": "2023-01-23T12:45:55.271Z"
   },
   {
    "duration": 192,
    "start_time": "2023-01-23T12:46:39.711Z"
   },
   {
    "duration": 168,
    "start_time": "2023-01-23T12:47:10.006Z"
   },
   {
    "duration": 208,
    "start_time": "2023-01-23T12:48:36.215Z"
   },
   {
    "duration": 196,
    "start_time": "2023-01-23T12:48:46.463Z"
   },
   {
    "duration": 262,
    "start_time": "2023-01-23T12:49:17.011Z"
   },
   {
    "duration": 93,
    "start_time": "2023-01-23T12:53:25.963Z"
   },
   {
    "duration": 272,
    "start_time": "2023-01-23T12:53:37.890Z"
   },
   {
    "duration": 264,
    "start_time": "2023-01-23T12:55:43.028Z"
   },
   {
    "duration": 209,
    "start_time": "2023-01-23T12:56:06.131Z"
   },
   {
    "duration": 222,
    "start_time": "2023-01-23T12:56:16.333Z"
   },
   {
    "duration": 189,
    "start_time": "2023-01-23T12:56:42.932Z"
   },
   {
    "duration": 203,
    "start_time": "2023-01-23T13:05:42.097Z"
   },
   {
    "duration": 23,
    "start_time": "2023-01-23T13:09:14.692Z"
   },
   {
    "duration": 34,
    "start_time": "2023-01-23T13:09:35.043Z"
   },
   {
    "duration": 45,
    "start_time": "2023-01-23T13:16:45.079Z"
   },
   {
    "duration": 46,
    "start_time": "2023-01-23T13:17:17.598Z"
   },
   {
    "duration": 54,
    "start_time": "2023-01-23T13:17:28.767Z"
   },
   {
    "duration": 57,
    "start_time": "2023-01-23T13:20:24.850Z"
   },
   {
    "duration": 24,
    "start_time": "2023-01-23T13:20:32.074Z"
   },
   {
    "duration": 45,
    "start_time": "2023-01-23T14:03:42.402Z"
   },
   {
    "duration": 1380,
    "start_time": "2023-01-23T14:03:52.613Z"
   },
   {
    "duration": 30,
    "start_time": "2023-01-23T14:03:53.996Z"
   },
   {
    "duration": 17,
    "start_time": "2023-01-23T14:03:54.029Z"
   },
   {
    "duration": 20,
    "start_time": "2023-01-23T14:03:54.049Z"
   },
   {
    "duration": 44,
    "start_time": "2023-01-23T14:03:54.072Z"
   },
   {
    "duration": 21,
    "start_time": "2023-01-23T14:03:54.118Z"
   },
   {
    "duration": 32,
    "start_time": "2023-01-23T14:03:54.141Z"
   },
   {
    "duration": 31,
    "start_time": "2023-01-23T14:03:54.174Z"
   },
   {
    "duration": 224,
    "start_time": "2023-01-23T14:03:54.207Z"
   },
   {
    "duration": 51,
    "start_time": "2023-01-23T14:03:54.433Z"
   },
   {
    "duration": 264,
    "start_time": "2023-01-23T14:05:12.555Z"
   },
   {
    "duration": 210,
    "start_time": "2023-01-23T14:05:24.937Z"
   },
   {
    "duration": 44,
    "start_time": "2023-01-23T14:08:32.052Z"
   },
   {
    "duration": 47,
    "start_time": "2023-01-23T14:08:54.395Z"
   },
   {
    "duration": 192,
    "start_time": "2023-01-23T14:13:17.990Z"
   },
   {
    "duration": 245,
    "start_time": "2023-01-23T14:13:33.814Z"
   },
   {
    "duration": 209,
    "start_time": "2023-01-23T14:15:08.048Z"
   },
   {
    "duration": 216,
    "start_time": "2023-01-23T14:17:40.905Z"
   },
   {
    "duration": 216,
    "start_time": "2023-01-23T14:20:15.131Z"
   },
   {
    "duration": 35,
    "start_time": "2023-01-23T14:25:19.837Z"
   },
   {
    "duration": 1157,
    "start_time": "2023-01-23T14:25:30.348Z"
   },
   {
    "duration": 1173,
    "start_time": "2023-01-23T14:26:06.414Z"
   },
   {
    "duration": 27,
    "start_time": "2023-01-23T14:26:33.158Z"
   },
   {
    "duration": 10,
    "start_time": "2023-01-23T14:27:22.102Z"
   },
   {
    "duration": 31,
    "start_time": "2023-01-23T14:27:30.517Z"
   },
   {
    "duration": 32,
    "start_time": "2023-01-23T14:28:25.214Z"
   },
   {
    "duration": 29,
    "start_time": "2023-01-23T14:33:10.505Z"
   },
   {
    "duration": 34,
    "start_time": "2023-01-23T14:33:26.442Z"
   },
   {
    "duration": 30,
    "start_time": "2023-01-23T14:36:12.797Z"
   },
   {
    "duration": 22,
    "start_time": "2023-01-23T14:36:25.867Z"
   },
   {
    "duration": 27,
    "start_time": "2023-01-23T14:36:46.355Z"
   },
   {
    "duration": 25,
    "start_time": "2023-01-23T14:36:50.795Z"
   },
   {
    "duration": 17,
    "start_time": "2023-01-23T14:37:01.296Z"
   },
   {
    "duration": 22,
    "start_time": "2023-01-23T14:37:06.260Z"
   },
   {
    "duration": 38,
    "start_time": "2023-01-23T14:37:54.043Z"
   },
   {
    "duration": 29,
    "start_time": "2023-01-23T14:38:32.004Z"
   },
   {
    "duration": 45,
    "start_time": "2023-01-23T14:39:03.974Z"
   },
   {
    "duration": 547,
    "start_time": "2023-01-23T14:52:15.180Z"
   },
   {
    "duration": 433,
    "start_time": "2023-01-23T14:53:12.523Z"
   },
   {
    "duration": 439,
    "start_time": "2023-01-23T14:57:21.272Z"
   },
   {
    "duration": 515,
    "start_time": "2023-01-23T14:57:56.175Z"
   },
   {
    "duration": 788,
    "start_time": "2023-01-23T14:58:53.815Z"
   },
   {
    "duration": 470,
    "start_time": "2023-01-23T15:00:29.977Z"
   },
   {
    "duration": 469,
    "start_time": "2023-01-23T15:01:10.809Z"
   },
   {
    "duration": 570,
    "start_time": "2023-01-23T15:01:40.625Z"
   },
   {
    "duration": 472,
    "start_time": "2023-01-23T15:02:45.681Z"
   },
   {
    "duration": 544,
    "start_time": "2023-01-23T15:03:16.842Z"
   },
   {
    "duration": 462,
    "start_time": "2023-01-23T15:17:26.257Z"
   },
   {
    "duration": 373,
    "start_time": "2023-01-23T15:17:50.433Z"
   },
   {
    "duration": 217,
    "start_time": "2023-01-23T15:27:02.685Z"
   },
   {
    "duration": 224,
    "start_time": "2023-01-23T15:27:47.239Z"
   },
   {
    "duration": 448,
    "start_time": "2023-01-23T15:28:37.328Z"
   },
   {
    "duration": 474,
    "start_time": "2023-01-23T15:30:16.448Z"
   },
   {
    "duration": 405,
    "start_time": "2023-01-23T15:30:28.912Z"
   },
   {
    "duration": 426,
    "start_time": "2023-01-23T15:30:36.489Z"
   },
   {
    "duration": 1094,
    "start_time": "2023-01-23T15:35:10.915Z"
   },
   {
    "duration": 6,
    "start_time": "2023-01-23T15:40:07.910Z"
   },
   {
    "duration": 10,
    "start_time": "2023-01-23T15:41:12.877Z"
   },
   {
    "duration": 11,
    "start_time": "2023-01-23T15:43:13.987Z"
   },
   {
    "duration": 7,
    "start_time": "2023-01-23T15:57:11.214Z"
   },
   {
    "duration": 10,
    "start_time": "2023-01-23T15:57:36.759Z"
   },
   {
    "duration": 12,
    "start_time": "2023-01-23T15:57:57.791Z"
   },
   {
    "duration": 51,
    "start_time": "2023-01-23T19:50:38.667Z"
   },
   {
    "duration": 1548,
    "start_time": "2023-01-23T19:50:54.691Z"
   },
   {
    "duration": 32,
    "start_time": "2023-01-23T19:50:56.241Z"
   },
   {
    "duration": 15,
    "start_time": "2023-01-23T19:50:56.278Z"
   },
   {
    "duration": 46,
    "start_time": "2023-01-23T19:50:56.296Z"
   },
   {
    "duration": 47,
    "start_time": "2023-01-23T19:50:56.344Z"
   },
   {
    "duration": 40,
    "start_time": "2023-01-23T19:50:56.393Z"
   },
   {
    "duration": 46,
    "start_time": "2023-01-23T19:50:56.435Z"
   },
   {
    "duration": 7,
    "start_time": "2023-01-23T19:50:56.483Z"
   },
   {
    "duration": 280,
    "start_time": "2023-01-23T19:50:56.492Z"
   },
   {
    "duration": 270,
    "start_time": "2023-01-23T19:50:56.775Z"
   },
   {
    "duration": 137,
    "start_time": "2023-01-23T19:50:57.050Z"
   },
   {
    "duration": 0,
    "start_time": "2023-01-23T19:50:57.189Z"
   },
   {
    "duration": 0,
    "start_time": "2023-01-23T19:50:57.191Z"
   },
   {
    "duration": 0,
    "start_time": "2023-01-23T19:50:57.193Z"
   },
   {
    "duration": 0,
    "start_time": "2023-01-23T19:50:57.195Z"
   },
   {
    "duration": 12,
    "start_time": "2023-01-23T19:51:26.577Z"
   },
   {
    "duration": 1212,
    "start_time": "2023-01-23T19:51:35.969Z"
   },
   {
    "duration": 23,
    "start_time": "2023-01-23T19:51:37.183Z"
   },
   {
    "duration": 45,
    "start_time": "2023-01-23T19:51:37.208Z"
   },
   {
    "duration": 32,
    "start_time": "2023-01-23T19:51:37.255Z"
   },
   {
    "duration": 37,
    "start_time": "2023-01-23T19:51:37.290Z"
   },
   {
    "duration": 35,
    "start_time": "2023-01-23T19:51:37.329Z"
   },
   {
    "duration": 88,
    "start_time": "2023-01-23T19:51:37.367Z"
   },
   {
    "duration": 14,
    "start_time": "2023-01-23T19:51:37.457Z"
   },
   {
    "duration": 253,
    "start_time": "2023-01-23T19:51:37.472Z"
   },
   {
    "duration": 260,
    "start_time": "2023-01-23T19:51:37.727Z"
   },
   {
    "duration": 128,
    "start_time": "2023-01-23T19:51:37.988Z"
   },
   {
    "duration": 0,
    "start_time": "2023-01-23T19:51:38.118Z"
   },
   {
    "duration": 0,
    "start_time": "2023-01-23T19:51:38.119Z"
   },
   {
    "duration": 0,
    "start_time": "2023-01-23T19:51:38.120Z"
   },
   {
    "duration": 0,
    "start_time": "2023-01-23T19:51:38.121Z"
   },
   {
    "duration": 0,
    "start_time": "2023-01-23T19:51:38.122Z"
   },
   {
    "duration": 10,
    "start_time": "2023-01-23T19:51:42.497Z"
   },
   {
    "duration": 26,
    "start_time": "2023-01-23T19:52:38.593Z"
   },
   {
    "duration": 28,
    "start_time": "2023-01-23T19:53:06.202Z"
   },
   {
    "duration": 36,
    "start_time": "2023-01-23T19:53:23.233Z"
   },
   {
    "duration": 248,
    "start_time": "2023-01-23T19:53:52.547Z"
   },
   {
    "duration": 1145,
    "start_time": "2023-01-23T19:54:06.354Z"
   },
   {
    "duration": 13,
    "start_time": "2023-01-23T19:54:11.761Z"
   },
   {
    "duration": 12,
    "start_time": "2023-01-23T19:54:17.898Z"
   },
   {
    "duration": 26,
    "start_time": "2023-01-23T19:54:21.793Z"
   },
   {
    "duration": 292,
    "start_time": "2023-01-23T19:55:08.115Z"
   },
   {
    "duration": 13,
    "start_time": "2023-01-23T19:57:04.412Z"
   },
   {
    "duration": 1330,
    "start_time": "2023-01-23T19:57:47.913Z"
   },
   {
    "duration": 24,
    "start_time": "2023-01-23T19:57:49.245Z"
   },
   {
    "duration": 26,
    "start_time": "2023-01-23T19:57:49.271Z"
   },
   {
    "duration": 35,
    "start_time": "2023-01-23T19:57:49.299Z"
   },
   {
    "duration": 41,
    "start_time": "2023-01-23T19:57:49.336Z"
   },
   {
    "duration": 50,
    "start_time": "2023-01-23T19:57:49.378Z"
   },
   {
    "duration": 41,
    "start_time": "2023-01-23T19:57:49.429Z"
   },
   {
    "duration": 36,
    "start_time": "2023-01-23T19:57:49.472Z"
   },
   {
    "duration": 261,
    "start_time": "2023-01-23T19:57:49.510Z"
   },
   {
    "duration": 228,
    "start_time": "2023-01-23T19:57:49.773Z"
   },
   {
    "duration": 45,
    "start_time": "2023-01-23T19:57:50.003Z"
   },
   {
    "duration": 286,
    "start_time": "2023-01-23T19:57:50.050Z"
   },
   {
    "duration": 1171,
    "start_time": "2023-01-23T19:57:50.340Z"
   },
   {
    "duration": 10,
    "start_time": "2023-01-23T19:57:51.513Z"
   },
   {
    "duration": 41,
    "start_time": "2023-01-23T19:57:51.525Z"
   },
   {
    "duration": 40,
    "start_time": "2023-01-23T19:57:51.569Z"
   },
   {
    "duration": 312,
    "start_time": "2023-01-23T19:57:51.611Z"
   },
   {
    "duration": 20,
    "start_time": "2023-01-23T19:57:51.924Z"
   },
   {
    "duration": 10,
    "start_time": "2023-01-23T19:57:52.213Z"
   },
   {
    "duration": 10,
    "start_time": "2023-01-23T19:58:22.444Z"
   },
   {
    "duration": 1170,
    "start_time": "2023-01-23T19:59:50.768Z"
   },
   {
    "duration": 25,
    "start_time": "2023-01-23T19:59:51.941Z"
   },
   {
    "duration": 14,
    "start_time": "2023-01-23T19:59:51.968Z"
   },
   {
    "duration": 16,
    "start_time": "2023-01-23T19:59:51.984Z"
   },
   {
    "duration": 40,
    "start_time": "2023-01-23T19:59:52.003Z"
   },
   {
    "duration": 20,
    "start_time": "2023-01-23T19:59:52.045Z"
   },
   {
    "duration": 31,
    "start_time": "2023-01-23T19:59:52.067Z"
   },
   {
    "duration": 8,
    "start_time": "2023-01-23T19:59:52.100Z"
   },
   {
    "duration": 272,
    "start_time": "2023-01-23T19:59:52.109Z"
   },
   {
    "duration": 259,
    "start_time": "2023-01-23T19:59:52.383Z"
   },
   {
    "duration": 33,
    "start_time": "2023-01-23T19:59:52.644Z"
   },
   {
    "duration": 277,
    "start_time": "2023-01-23T19:59:52.679Z"
   },
   {
    "duration": 1084,
    "start_time": "2023-01-23T19:59:52.958Z"
   },
   {
    "duration": 9,
    "start_time": "2023-01-23T19:59:54.045Z"
   },
   {
    "duration": 22,
    "start_time": "2023-01-23T19:59:54.055Z"
   },
   {
    "duration": 38,
    "start_time": "2023-01-23T19:59:54.079Z"
   },
   {
    "duration": 293,
    "start_time": "2023-01-23T19:59:54.119Z"
   },
   {
    "duration": 10,
    "start_time": "2023-01-23T19:59:54.413Z"
   },
   {
    "duration": 25,
    "start_time": "2023-01-23T19:59:54.424Z"
   },
   {
    "duration": 1070,
    "start_time": "2023-01-23T20:04:33.160Z"
   },
   {
    "duration": 1280,
    "start_time": "2023-01-23T20:07:15.736Z"
   },
   {
    "duration": 26,
    "start_time": "2023-01-23T20:07:17.018Z"
   },
   {
    "duration": 15,
    "start_time": "2023-01-23T20:07:17.046Z"
   },
   {
    "duration": 23,
    "start_time": "2023-01-23T20:07:17.063Z"
   },
   {
    "duration": 18,
    "start_time": "2023-01-23T20:07:17.088Z"
   },
   {
    "duration": 46,
    "start_time": "2023-01-23T20:07:17.108Z"
   },
   {
    "duration": 34,
    "start_time": "2023-01-23T20:07:17.156Z"
   },
   {
    "duration": 8,
    "start_time": "2023-01-23T20:07:17.192Z"
   },
   {
    "duration": 269,
    "start_time": "2023-01-23T20:07:17.201Z"
   },
   {
    "duration": 238,
    "start_time": "2023-01-23T20:07:17.471Z"
   },
   {
    "duration": 44,
    "start_time": "2023-01-23T20:07:17.711Z"
   },
   {
    "duration": 270,
    "start_time": "2023-01-23T20:07:17.758Z"
   },
   {
    "duration": 1215,
    "start_time": "2023-01-23T20:07:18.029Z"
   },
   {
    "duration": 11,
    "start_time": "2023-01-23T20:07:19.246Z"
   },
   {
    "duration": 23,
    "start_time": "2023-01-23T20:07:19.259Z"
   },
   {
    "duration": 36,
    "start_time": "2023-01-23T20:07:19.284Z"
   },
   {
    "duration": 320,
    "start_time": "2023-01-23T20:07:19.322Z"
   },
   {
    "duration": 10,
    "start_time": "2023-01-23T20:07:19.644Z"
   },
   {
    "duration": 52,
    "start_time": "2023-01-23T20:07:19.656Z"
   },
   {
    "duration": 1165,
    "start_time": "2023-01-23T20:23:18.430Z"
   },
   {
    "duration": 26,
    "start_time": "2023-01-23T20:23:19.597Z"
   },
   {
    "duration": 14,
    "start_time": "2023-01-23T20:23:19.625Z"
   },
   {
    "duration": 15,
    "start_time": "2023-01-23T20:23:19.641Z"
   },
   {
    "duration": 44,
    "start_time": "2023-01-23T20:23:19.659Z"
   },
   {
    "duration": 19,
    "start_time": "2023-01-23T20:23:19.705Z"
   },
   {
    "duration": 29,
    "start_time": "2023-01-23T20:23:19.726Z"
   },
   {
    "duration": 8,
    "start_time": "2023-01-23T20:23:19.756Z"
   },
   {
    "duration": 261,
    "start_time": "2023-01-23T20:23:19.766Z"
   },
   {
    "duration": 222,
    "start_time": "2023-01-23T20:23:20.029Z"
   },
   {
    "duration": 71,
    "start_time": "2023-01-23T20:23:20.253Z"
   },
   {
    "duration": 351,
    "start_time": "2023-01-23T20:23:20.327Z"
   },
   {
    "duration": 1058,
    "start_time": "2023-01-23T20:23:20.681Z"
   },
   {
    "duration": 10,
    "start_time": "2023-01-23T20:23:21.742Z"
   },
   {
    "duration": 16,
    "start_time": "2023-01-23T20:23:21.754Z"
   },
   {
    "duration": 34,
    "start_time": "2023-01-23T20:23:21.772Z"
   },
   {
    "duration": 319,
    "start_time": "2023-01-23T20:23:21.808Z"
   },
   {
    "duration": 10,
    "start_time": "2023-01-23T20:23:22.128Z"
   },
   {
    "duration": 25,
    "start_time": "2023-01-23T20:23:22.140Z"
   },
   {
    "duration": 75,
    "start_time": "2023-01-23T22:17:45.125Z"
   },
   {
    "duration": 1515,
    "start_time": "2023-01-24T08:33:17.293Z"
   },
   {
    "duration": 114,
    "start_time": "2023-01-24T08:33:20.335Z"
   },
   {
    "duration": 43,
    "start_time": "2023-01-24T08:35:08.080Z"
   },
   {
    "duration": 24,
    "start_time": "2023-01-24T08:36:52.918Z"
   },
   {
    "duration": 20,
    "start_time": "2023-01-24T08:41:46.883Z"
   },
   {
    "duration": 1402,
    "start_time": "2023-01-24T08:47:59.848Z"
   },
   {
    "duration": 63,
    "start_time": "2023-01-24T08:48:01.251Z"
   },
   {
    "duration": 29,
    "start_time": "2023-01-24T08:48:01.315Z"
   },
   {
    "duration": 45,
    "start_time": "2023-01-24T08:48:01.347Z"
   },
   {
    "duration": 49,
    "start_time": "2023-01-24T08:48:01.396Z"
   },
   {
    "duration": 46,
    "start_time": "2023-01-24T08:48:01.447Z"
   },
   {
    "duration": 83,
    "start_time": "2023-01-24T08:48:01.495Z"
   },
   {
    "duration": 110,
    "start_time": "2023-01-24T08:48:01.580Z"
   },
   {
    "duration": 36,
    "start_time": "2023-01-24T08:48:01.698Z"
   },
   {
    "duration": 162,
    "start_time": "2023-01-24T08:48:01.740Z"
   },
   {
    "duration": 425,
    "start_time": "2023-01-24T08:48:01.903Z"
   },
   {
    "duration": 440,
    "start_time": "2023-01-24T08:48:02.331Z"
   },
   {
    "duration": 68,
    "start_time": "2023-01-24T08:48:02.792Z"
   },
   {
    "duration": 453,
    "start_time": "2023-01-24T08:48:02.863Z"
   },
   {
    "duration": 1520,
    "start_time": "2023-01-24T08:48:03.319Z"
   },
   {
    "duration": 18,
    "start_time": "2023-01-24T08:48:04.841Z"
   },
   {
    "duration": 41,
    "start_time": "2023-01-24T08:48:04.861Z"
   },
   {
    "duration": 38,
    "start_time": "2023-01-24T08:48:04.905Z"
   },
   {
    "duration": 355,
    "start_time": "2023-01-24T08:48:04.949Z"
   },
   {
    "duration": 14,
    "start_time": "2023-01-24T08:48:05.306Z"
   },
   {
    "duration": 17,
    "start_time": "2023-01-24T08:48:05.322Z"
   },
   {
    "duration": 251,
    "start_time": "2023-01-24T09:34:00.464Z"
   },
   {
    "duration": 253,
    "start_time": "2023-01-24T09:39:19.476Z"
   },
   {
    "duration": 1296,
    "start_time": "2023-01-24T09:41:28.409Z"
   },
   {
    "duration": 66,
    "start_time": "2023-01-24T09:41:29.708Z"
   },
   {
    "duration": 33,
    "start_time": "2023-01-24T09:41:29.777Z"
   },
   {
    "duration": 30,
    "start_time": "2023-01-24T09:41:29.813Z"
   },
   {
    "duration": 59,
    "start_time": "2023-01-24T09:41:29.846Z"
   },
   {
    "duration": 34,
    "start_time": "2023-01-24T09:41:29.908Z"
   },
   {
    "duration": 41,
    "start_time": "2023-01-24T09:41:29.945Z"
   },
   {
    "duration": 59,
    "start_time": "2023-01-24T09:41:29.988Z"
   },
   {
    "duration": 16,
    "start_time": "2023-01-24T09:41:30.049Z"
   },
   {
    "duration": 106,
    "start_time": "2023-01-24T09:41:30.068Z"
   },
   {
    "duration": 277,
    "start_time": "2023-01-24T09:41:30.176Z"
   },
   {
    "duration": 268,
    "start_time": "2023-01-24T09:41:30.455Z"
   },
   {
    "duration": 37,
    "start_time": "2023-01-24T09:41:30.725Z"
   },
   {
    "duration": 276,
    "start_time": "2023-01-24T09:41:30.785Z"
   },
   {
    "duration": 1200,
    "start_time": "2023-01-24T09:41:31.064Z"
   },
   {
    "duration": 19,
    "start_time": "2023-01-24T09:41:32.266Z"
   },
   {
    "duration": 21,
    "start_time": "2023-01-24T09:41:32.287Z"
   },
   {
    "duration": 33,
    "start_time": "2023-01-24T09:41:32.310Z"
   },
   {
    "duration": 322,
    "start_time": "2023-01-24T09:41:32.345Z"
   },
   {
    "duration": 16,
    "start_time": "2023-01-24T09:41:32.669Z"
   },
   {
    "duration": 32,
    "start_time": "2023-01-24T09:41:32.687Z"
   },
   {
    "duration": 528,
    "start_time": "2023-01-24T09:45:37.663Z"
   },
   {
    "duration": 643,
    "start_time": "2023-01-24T09:50:39.394Z"
   },
   {
    "duration": 671,
    "start_time": "2023-01-24T09:53:26.780Z"
   },
   {
    "duration": 508,
    "start_time": "2023-01-24T09:53:31.242Z"
   },
   {
    "duration": 758,
    "start_time": "2023-01-24T09:53:38.060Z"
   },
   {
    "duration": 640,
    "start_time": "2023-01-24T09:53:44.476Z"
   },
   {
    "duration": 572,
    "start_time": "2023-01-24T09:55:33.861Z"
   },
   {
    "duration": 631,
    "start_time": "2023-01-24T09:55:50.709Z"
   },
   {
    "duration": 675,
    "start_time": "2023-01-24T09:56:09.574Z"
   },
   {
    "duration": 729,
    "start_time": "2023-01-24T09:56:58.550Z"
   },
   {
    "duration": 1200,
    "start_time": "2023-01-24T09:58:17.809Z"
   },
   {
    "duration": 58,
    "start_time": "2023-01-24T09:58:19.011Z"
   },
   {
    "duration": 26,
    "start_time": "2023-01-24T09:58:19.071Z"
   },
   {
    "duration": 16,
    "start_time": "2023-01-24T09:58:19.099Z"
   },
   {
    "duration": 17,
    "start_time": "2023-01-24T09:58:19.116Z"
   },
   {
    "duration": 20,
    "start_time": "2023-01-24T09:58:19.134Z"
   },
   {
    "duration": 46,
    "start_time": "2023-01-24T09:58:19.156Z"
   },
   {
    "duration": 33,
    "start_time": "2023-01-24T09:58:19.204Z"
   },
   {
    "duration": 8,
    "start_time": "2023-01-24T09:58:19.239Z"
   },
   {
    "duration": 121,
    "start_time": "2023-01-24T09:58:19.249Z"
   },
   {
    "duration": 266,
    "start_time": "2023-01-24T09:58:19.371Z"
   },
   {
    "duration": 283,
    "start_time": "2023-01-24T09:58:19.638Z"
   },
   {
    "duration": 63,
    "start_time": "2023-01-24T09:58:19.923Z"
   },
   {
    "duration": 659,
    "start_time": "2023-01-24T09:58:19.989Z"
   },
   {
    "duration": 494,
    "start_time": "2023-01-24T09:58:20.651Z"
   },
   {
    "duration": 486,
    "start_time": "2023-01-24T09:58:21.147Z"
   },
   {
    "duration": 11,
    "start_time": "2023-01-24T09:58:21.635Z"
   },
   {
    "duration": 14,
    "start_time": "2023-01-24T09:58:21.648Z"
   },
   {
    "duration": 13,
    "start_time": "2023-01-24T09:58:21.685Z"
   },
   {
    "duration": 310,
    "start_time": "2023-01-24T09:58:21.700Z"
   },
   {
    "duration": 11,
    "start_time": "2023-01-24T09:58:22.012Z"
   },
   {
    "duration": 25,
    "start_time": "2023-01-24T09:58:22.025Z"
   },
   {
    "duration": 506,
    "start_time": "2023-01-24T10:06:25.059Z"
   },
   {
    "duration": 569,
    "start_time": "2023-01-24T10:06:39.643Z"
   },
   {
    "duration": 443,
    "start_time": "2023-01-24T10:09:14.956Z"
   },
   {
    "duration": 462,
    "start_time": "2023-01-24T10:11:45.622Z"
   },
   {
    "duration": 1240,
    "start_time": "2023-01-24T10:12:17.320Z"
   },
   {
    "duration": 53,
    "start_time": "2023-01-24T10:12:18.562Z"
   },
   {
    "duration": 27,
    "start_time": "2023-01-24T10:12:18.617Z"
   },
   {
    "duration": 17,
    "start_time": "2023-01-24T10:12:18.646Z"
   },
   {
    "duration": 19,
    "start_time": "2023-01-24T10:12:18.685Z"
   },
   {
    "duration": 23,
    "start_time": "2023-01-24T10:12:18.706Z"
   },
   {
    "duration": 46,
    "start_time": "2023-01-24T10:12:18.731Z"
   },
   {
    "duration": 40,
    "start_time": "2023-01-24T10:12:18.779Z"
   },
   {
    "duration": 12,
    "start_time": "2023-01-24T10:12:18.821Z"
   },
   {
    "duration": 95,
    "start_time": "2023-01-24T10:12:18.834Z"
   },
   {
    "duration": 267,
    "start_time": "2023-01-24T10:12:18.931Z"
   },
   {
    "duration": 240,
    "start_time": "2023-01-24T10:12:19.199Z"
   },
   {
    "duration": 45,
    "start_time": "2023-01-24T10:12:19.440Z"
   },
   {
    "duration": 665,
    "start_time": "2023-01-24T10:12:19.488Z"
   },
   {
    "duration": 542,
    "start_time": "2023-01-24T10:12:20.155Z"
   },
   {
    "duration": 510,
    "start_time": "2023-01-24T10:12:20.699Z"
   },
   {
    "duration": 569,
    "start_time": "2023-01-24T10:12:21.211Z"
   },
   {
    "duration": 468,
    "start_time": "2023-01-24T10:12:21.784Z"
   },
   {
    "duration": 471,
    "start_time": "2023-01-24T10:12:22.254Z"
   },
   {
    "duration": 10,
    "start_time": "2023-01-24T10:12:22.727Z"
   },
   {
    "duration": 16,
    "start_time": "2023-01-24T10:12:22.739Z"
   },
   {
    "duration": 34,
    "start_time": "2023-01-24T10:12:22.757Z"
   },
   {
    "duration": 219,
    "start_time": "2023-01-24T10:12:22.793Z"
   },
   {
    "duration": 10,
    "start_time": "2023-01-24T10:12:23.014Z"
   },
   {
    "duration": 65,
    "start_time": "2023-01-24T10:12:23.026Z"
   },
   {
    "duration": 490,
    "start_time": "2023-01-24T10:14:04.410Z"
   },
   {
    "duration": 11,
    "start_time": "2023-01-24T10:23:54.398Z"
   },
   {
    "duration": 310,
    "start_time": "2023-01-24T10:26:57.207Z"
   },
   {
    "duration": 449,
    "start_time": "2023-01-24T10:27:48.105Z"
   },
   {
    "duration": 97,
    "start_time": "2023-01-24T10:38:59.352Z"
   },
   {
    "duration": 103,
    "start_time": "2023-01-24T10:39:48.951Z"
   },
   {
    "duration": 5,
    "start_time": "2023-01-24T10:40:06.433Z"
   },
   {
    "duration": 59,
    "start_time": "2023-01-24T10:40:25.625Z"
   },
   {
    "duration": 1693,
    "start_time": "2023-01-24T10:40:34.879Z"
   },
   {
    "duration": 160,
    "start_time": "2023-01-24T10:40:36.580Z"
   },
   {
    "duration": 43,
    "start_time": "2023-01-24T10:40:36.742Z"
   },
   {
    "duration": 43,
    "start_time": "2023-01-24T10:40:36.787Z"
   },
   {
    "duration": 30,
    "start_time": "2023-01-24T10:40:36.834Z"
   },
   {
    "duration": 58,
    "start_time": "2023-01-24T10:40:36.866Z"
   },
   {
    "duration": 36,
    "start_time": "2023-01-24T10:40:36.926Z"
   },
   {
    "duration": 69,
    "start_time": "2023-01-24T10:40:36.964Z"
   },
   {
    "duration": 10,
    "start_time": "2023-01-24T10:40:37.035Z"
   },
   {
    "duration": 172,
    "start_time": "2023-01-24T10:40:37.046Z"
   },
   {
    "duration": 352,
    "start_time": "2023-01-24T10:40:37.220Z"
   },
   {
    "duration": 324,
    "start_time": "2023-01-24T10:40:37.575Z"
   },
   {
    "duration": 32,
    "start_time": "2023-01-24T10:40:37.900Z"
   },
   {
    "duration": 666,
    "start_time": "2023-01-24T10:40:37.967Z"
   },
   {
    "duration": 565,
    "start_time": "2023-01-24T10:40:38.635Z"
   },
   {
    "duration": 599,
    "start_time": "2023-01-24T10:40:39.202Z"
   },
   {
    "duration": 682,
    "start_time": "2023-01-24T10:40:39.802Z"
   },
   {
    "duration": 549,
    "start_time": "2023-01-24T10:40:40.493Z"
   },
   {
    "duration": 569,
    "start_time": "2023-01-24T10:40:41.044Z"
   },
   {
    "duration": 574,
    "start_time": "2023-01-24T10:40:41.615Z"
   },
   {
    "duration": 541,
    "start_time": "2023-01-24T10:40:42.191Z"
   },
   {
    "duration": 0,
    "start_time": "2023-01-24T10:40:42.733Z"
   },
   {
    "duration": 0,
    "start_time": "2023-01-24T10:40:42.734Z"
   },
   {
    "duration": 0,
    "start_time": "2023-01-24T10:40:42.736Z"
   },
   {
    "duration": 0,
    "start_time": "2023-01-24T10:40:42.737Z"
   },
   {
    "duration": 0,
    "start_time": "2023-01-24T10:40:42.737Z"
   },
   {
    "duration": 481,
    "start_time": "2023-01-24T10:41:12.491Z"
   },
   {
    "duration": 26,
    "start_time": "2023-01-24T10:50:53.450Z"
   },
   {
    "duration": 211,
    "start_time": "2023-01-24T10:52:02.011Z"
   },
   {
    "duration": 14,
    "start_time": "2023-01-24T10:55:30.052Z"
   },
   {
    "duration": 10,
    "start_time": "2023-01-24T10:57:57.685Z"
   },
   {
    "duration": 1239,
    "start_time": "2023-01-24T11:05:15.978Z"
   },
   {
    "duration": 64,
    "start_time": "2023-01-24T11:05:17.219Z"
   },
   {
    "duration": 24,
    "start_time": "2023-01-24T11:05:17.284Z"
   },
   {
    "duration": 25,
    "start_time": "2023-01-24T11:05:17.310Z"
   },
   {
    "duration": 63,
    "start_time": "2023-01-24T11:05:17.342Z"
   },
   {
    "duration": 18,
    "start_time": "2023-01-24T11:05:17.407Z"
   },
   {
    "duration": 29,
    "start_time": "2023-01-24T11:05:17.427Z"
   },
   {
    "duration": 81,
    "start_time": "2023-01-24T11:05:17.459Z"
   },
   {
    "duration": 42,
    "start_time": "2023-01-24T11:05:17.542Z"
   },
   {
    "duration": 116,
    "start_time": "2023-01-24T11:05:17.587Z"
   },
   {
    "duration": 281,
    "start_time": "2023-01-24T11:05:17.705Z"
   },
   {
    "duration": 277,
    "start_time": "2023-01-24T11:05:17.988Z"
   },
   {
    "duration": 39,
    "start_time": "2023-01-24T11:05:18.267Z"
   },
   {
    "duration": 626,
    "start_time": "2023-01-24T11:05:18.308Z"
   },
   {
    "duration": 581,
    "start_time": "2023-01-24T11:05:18.936Z"
   },
   {
    "duration": 583,
    "start_time": "2023-01-24T11:05:19.519Z"
   },
   {
    "duration": 615,
    "start_time": "2023-01-24T11:05:20.104Z"
   },
   {
    "duration": 499,
    "start_time": "2023-01-24T11:05:20.720Z"
   },
   {
    "duration": 517,
    "start_time": "2023-01-24T11:05:21.221Z"
   },
   {
    "duration": 509,
    "start_time": "2023-01-24T11:05:21.740Z"
   },
   {
    "duration": 416,
    "start_time": "2023-01-24T11:05:22.254Z"
   },
   {
    "duration": 14,
    "start_time": "2023-01-24T11:05:22.672Z"
   },
   {
    "duration": 12,
    "start_time": "2023-01-24T11:05:22.687Z"
   },
   {
    "duration": 238,
    "start_time": "2023-01-24T11:05:22.701Z"
   },
   {
    "duration": 8,
    "start_time": "2023-01-24T11:05:22.941Z"
   },
   {
    "duration": 33,
    "start_time": "2023-01-24T11:05:22.953Z"
   },
   {
    "duration": 1300,
    "start_time": "2023-01-24T11:05:41.197Z"
   },
   {
    "duration": 58,
    "start_time": "2023-01-24T11:05:42.499Z"
   },
   {
    "duration": 36,
    "start_time": "2023-01-24T11:05:42.560Z"
   },
   {
    "duration": 15,
    "start_time": "2023-01-24T11:05:42.597Z"
   },
   {
    "duration": 19,
    "start_time": "2023-01-24T11:05:42.614Z"
   },
   {
    "duration": 40,
    "start_time": "2023-01-24T11:05:42.635Z"
   },
   {
    "duration": 27,
    "start_time": "2023-01-24T11:05:42.678Z"
   },
   {
    "duration": 31,
    "start_time": "2023-01-24T11:05:42.707Z"
   },
   {
    "duration": 28,
    "start_time": "2023-01-24T11:05:42.740Z"
   },
   {
    "duration": 112,
    "start_time": "2023-01-24T11:05:42.770Z"
   },
   {
    "duration": 260,
    "start_time": "2023-01-24T11:05:42.884Z"
   },
   {
    "duration": 252,
    "start_time": "2023-01-24T11:05:43.157Z"
   },
   {
    "duration": 50,
    "start_time": "2023-01-24T11:05:43.411Z"
   },
   {
    "duration": 596,
    "start_time": "2023-01-24T11:05:43.465Z"
   },
   {
    "duration": 530,
    "start_time": "2023-01-24T11:05:44.063Z"
   },
   {
    "duration": 516,
    "start_time": "2023-01-24T11:05:44.595Z"
   },
   {
    "duration": 611,
    "start_time": "2023-01-24T11:05:45.113Z"
   },
   {
    "duration": 492,
    "start_time": "2023-01-24T11:05:45.726Z"
   },
   {
    "duration": 497,
    "start_time": "2023-01-24T11:05:46.221Z"
   },
   {
    "duration": 1225,
    "start_time": "2023-01-24T11:05:48.542Z"
   },
   {
    "duration": 59,
    "start_time": "2023-01-24T11:05:49.770Z"
   },
   {
    "duration": 30,
    "start_time": "2023-01-24T11:05:49.830Z"
   },
   {
    "duration": 22,
    "start_time": "2023-01-24T11:05:49.862Z"
   },
   {
    "duration": 21,
    "start_time": "2023-01-24T11:05:49.887Z"
   },
   {
    "duration": 16,
    "start_time": "2023-01-24T11:05:49.910Z"
   },
   {
    "duration": 45,
    "start_time": "2023-01-24T11:05:49.928Z"
   },
   {
    "duration": 37,
    "start_time": "2023-01-24T11:05:49.976Z"
   },
   {
    "duration": 6,
    "start_time": "2023-01-24T11:05:50.015Z"
   },
   {
    "duration": 106,
    "start_time": "2023-01-24T11:05:50.023Z"
   },
   {
    "duration": 295,
    "start_time": "2023-01-24T11:05:50.131Z"
   },
   {
    "duration": 298,
    "start_time": "2023-01-24T11:05:50.427Z"
   },
   {
    "duration": 62,
    "start_time": "2023-01-24T11:05:50.727Z"
   },
   {
    "duration": 594,
    "start_time": "2023-01-24T11:05:50.792Z"
   },
   {
    "duration": 554,
    "start_time": "2023-01-24T11:05:51.388Z"
   },
   {
    "duration": 665,
    "start_time": "2023-01-24T11:05:51.944Z"
   },
   {
    "duration": 579,
    "start_time": "2023-01-24T11:05:52.611Z"
   },
   {
    "duration": 492,
    "start_time": "2023-01-24T11:05:53.191Z"
   },
   {
    "duration": 481,
    "start_time": "2023-01-24T11:05:53.685Z"
   },
   {
    "duration": 516,
    "start_time": "2023-01-24T11:05:54.168Z"
   },
   {
    "duration": 410,
    "start_time": "2023-01-24T11:05:54.686Z"
   },
   {
    "duration": 12,
    "start_time": "2023-01-24T11:05:55.098Z"
   },
   {
    "duration": 12,
    "start_time": "2023-01-24T11:05:55.111Z"
   },
   {
    "duration": 257,
    "start_time": "2023-01-24T11:05:55.124Z"
   },
   {
    "duration": 8,
    "start_time": "2023-01-24T11:05:55.383Z"
   },
   {
    "duration": 11,
    "start_time": "2023-01-24T11:05:55.392Z"
   },
   {
    "duration": 1356,
    "start_time": "2023-01-24T11:13:16.651Z"
   },
   {
    "duration": 66,
    "start_time": "2023-01-24T11:13:18.010Z"
   },
   {
    "duration": 25,
    "start_time": "2023-01-24T11:13:18.079Z"
   },
   {
    "duration": 14,
    "start_time": "2023-01-24T11:13:18.106Z"
   },
   {
    "duration": 16,
    "start_time": "2023-01-24T11:13:18.122Z"
   },
   {
    "duration": 41,
    "start_time": "2023-01-24T11:13:18.140Z"
   },
   {
    "duration": 22,
    "start_time": "2023-01-24T11:13:18.183Z"
   },
   {
    "duration": 51,
    "start_time": "2023-01-24T11:13:18.207Z"
   },
   {
    "duration": 20,
    "start_time": "2023-01-24T11:13:18.260Z"
   },
   {
    "duration": 107,
    "start_time": "2023-01-24T11:13:18.282Z"
   },
   {
    "duration": 273,
    "start_time": "2023-01-24T11:13:18.391Z"
   },
   {
    "duration": 264,
    "start_time": "2023-01-24T11:13:18.666Z"
   },
   {
    "duration": 59,
    "start_time": "2023-01-24T11:13:18.932Z"
   },
   {
    "duration": 671,
    "start_time": "2023-01-24T11:13:18.994Z"
   },
   {
    "duration": 638,
    "start_time": "2023-01-24T11:13:19.668Z"
   },
   {
    "duration": 560,
    "start_time": "2023-01-24T11:13:20.308Z"
   },
   {
    "duration": 614,
    "start_time": "2023-01-24T11:13:20.871Z"
   },
   {
    "duration": 581,
    "start_time": "2023-01-24T11:13:21.488Z"
   },
   {
    "duration": 517,
    "start_time": "2023-01-24T11:13:22.071Z"
   },
   {
    "duration": 518,
    "start_time": "2023-01-24T11:13:22.589Z"
   },
   {
    "duration": 387,
    "start_time": "2023-01-24T11:13:23.109Z"
   },
   {
    "duration": 13,
    "start_time": "2023-01-24T11:13:23.498Z"
   },
   {
    "duration": 22,
    "start_time": "2023-01-24T11:13:23.513Z"
   },
   {
    "duration": 262,
    "start_time": "2023-01-24T11:13:23.537Z"
   },
   {
    "duration": 9,
    "start_time": "2023-01-24T11:13:23.801Z"
   },
   {
    "duration": 10,
    "start_time": "2023-01-24T11:13:23.811Z"
   },
   {
    "duration": 1411,
    "start_time": "2023-01-24T11:33:18.165Z"
   },
   {
    "duration": 98,
    "start_time": "2023-01-24T11:33:19.579Z"
   },
   {
    "duration": 27,
    "start_time": "2023-01-24T11:33:19.679Z"
   },
   {
    "duration": 19,
    "start_time": "2023-01-24T11:33:19.708Z"
   },
   {
    "duration": 18,
    "start_time": "2023-01-24T11:33:19.730Z"
   },
   {
    "duration": 18,
    "start_time": "2023-01-24T11:33:19.749Z"
   },
   {
    "duration": 40,
    "start_time": "2023-01-24T11:33:19.768Z"
   },
   {
    "duration": 33,
    "start_time": "2023-01-24T11:33:19.810Z"
   },
   {
    "duration": 8,
    "start_time": "2023-01-24T11:33:19.845Z"
   },
   {
    "duration": 109,
    "start_time": "2023-01-24T11:33:19.855Z"
   },
   {
    "duration": 269,
    "start_time": "2023-01-24T11:33:19.966Z"
   },
   {
    "duration": 253,
    "start_time": "2023-01-24T11:33:20.237Z"
   },
   {
    "duration": 40,
    "start_time": "2023-01-24T11:33:20.492Z"
   },
   {
    "duration": 528,
    "start_time": "2023-01-24T11:33:20.536Z"
   },
   {
    "duration": 481,
    "start_time": "2023-01-24T11:33:21.066Z"
   },
   {
    "duration": 468,
    "start_time": "2023-01-24T11:33:21.549Z"
   },
   {
    "duration": 569,
    "start_time": "2023-01-24T11:33:22.019Z"
   },
   {
    "duration": 416,
    "start_time": "2023-01-24T11:33:22.590Z"
   },
   {
    "duration": 400,
    "start_time": "2023-01-24T11:33:23.008Z"
   },
   {
    "duration": 435,
    "start_time": "2023-01-24T11:33:23.409Z"
   },
   {
    "duration": 397,
    "start_time": "2023-01-24T11:33:23.845Z"
   },
   {
    "duration": 11,
    "start_time": "2023-01-24T11:33:24.244Z"
   },
   {
    "duration": 43,
    "start_time": "2023-01-24T11:33:24.256Z"
   },
   {
    "duration": 184,
    "start_time": "2023-01-24T11:33:24.300Z"
   },
   {
    "duration": 14,
    "start_time": "2023-01-24T11:33:24.486Z"
   },
   {
    "duration": 11,
    "start_time": "2023-01-24T11:33:24.502Z"
   },
   {
    "duration": 1205,
    "start_time": "2023-01-24T11:35:51.013Z"
   },
   {
    "duration": 50,
    "start_time": "2023-01-24T11:35:52.220Z"
   },
   {
    "duration": 34,
    "start_time": "2023-01-24T11:35:52.272Z"
   },
   {
    "duration": 51,
    "start_time": "2023-01-24T11:35:52.308Z"
   },
   {
    "duration": 47,
    "start_time": "2023-01-24T11:35:52.361Z"
   },
   {
    "duration": 37,
    "start_time": "2023-01-24T11:35:52.410Z"
   },
   {
    "duration": 61,
    "start_time": "2023-01-24T11:35:52.449Z"
   },
   {
    "duration": 69,
    "start_time": "2023-01-24T11:35:52.512Z"
   },
   {
    "duration": 58,
    "start_time": "2023-01-24T11:35:52.583Z"
   },
   {
    "duration": 120,
    "start_time": "2023-01-24T11:35:52.643Z"
   },
   {
    "duration": 251,
    "start_time": "2023-01-24T11:35:52.765Z"
   },
   {
    "duration": 248,
    "start_time": "2023-01-24T11:35:53.018Z"
   },
   {
    "duration": 45,
    "start_time": "2023-01-24T11:35:53.268Z"
   },
   {
    "duration": 546,
    "start_time": "2023-01-24T11:35:53.316Z"
   },
   {
    "duration": 487,
    "start_time": "2023-01-24T11:35:53.864Z"
   },
   {
    "duration": 496,
    "start_time": "2023-01-24T11:35:54.353Z"
   },
   {
    "duration": 570,
    "start_time": "2023-01-24T11:35:54.851Z"
   },
   {
    "duration": 408,
    "start_time": "2023-01-24T11:35:55.423Z"
   },
   {
    "duration": 399,
    "start_time": "2023-01-24T11:35:55.833Z"
   },
   {
    "duration": 450,
    "start_time": "2023-01-24T11:35:56.233Z"
   },
   {
    "duration": 337,
    "start_time": "2023-01-24T11:35:56.684Z"
   },
   {
    "duration": 12,
    "start_time": "2023-01-24T11:35:57.022Z"
   },
   {
    "duration": 26,
    "start_time": "2023-01-24T11:35:57.035Z"
   },
   {
    "duration": 222,
    "start_time": "2023-01-24T11:35:57.062Z"
   },
   {
    "duration": 14,
    "start_time": "2023-01-24T11:35:57.286Z"
   },
   {
    "duration": 19,
    "start_time": "2023-01-24T11:35:57.302Z"
   },
   {
    "duration": 1106,
    "start_time": "2023-01-25T02:44:59.940Z"
   },
   {
    "duration": 52,
    "start_time": "2023-01-25T02:45:01.048Z"
   },
   {
    "duration": 24,
    "start_time": "2023-01-25T02:45:01.102Z"
   },
   {
    "duration": 16,
    "start_time": "2023-01-25T02:45:01.129Z"
   },
   {
    "duration": 17,
    "start_time": "2023-01-25T02:45:01.147Z"
   },
   {
    "duration": 49,
    "start_time": "2023-01-25T02:45:01.166Z"
   },
   {
    "duration": 41,
    "start_time": "2023-01-25T02:45:01.216Z"
   },
   {
    "duration": 38,
    "start_time": "2023-01-25T02:45:01.259Z"
   },
   {
    "duration": 8,
    "start_time": "2023-01-25T02:45:01.299Z"
   },
   {
    "duration": 86,
    "start_time": "2023-01-25T02:45:01.309Z"
   },
   {
    "duration": 229,
    "start_time": "2023-01-25T02:45:01.399Z"
   },
   {
    "duration": 224,
    "start_time": "2023-01-25T02:45:01.630Z"
   },
   {
    "duration": 49,
    "start_time": "2023-01-25T02:45:01.855Z"
   },
   {
    "duration": 517,
    "start_time": "2023-01-25T02:45:01.907Z"
   },
   {
    "duration": 445,
    "start_time": "2023-01-25T02:45:02.426Z"
   },
   {
    "duration": 462,
    "start_time": "2023-01-25T02:45:02.873Z"
   },
   {
    "duration": 510,
    "start_time": "2023-01-25T02:45:03.337Z"
   },
   {
    "duration": 412,
    "start_time": "2023-01-25T02:45:03.849Z"
   },
   {
    "duration": 415,
    "start_time": "2023-01-25T02:45:04.262Z"
   },
   {
    "duration": 432,
    "start_time": "2023-01-25T02:45:04.679Z"
   },
   {
    "duration": 319,
    "start_time": "2023-01-25T02:45:05.112Z"
   },
   {
    "duration": 10,
    "start_time": "2023-01-25T02:45:05.433Z"
   },
   {
    "duration": 14,
    "start_time": "2023-01-25T02:45:05.445Z"
   },
   {
    "duration": 197,
    "start_time": "2023-01-25T02:45:05.460Z"
   },
   {
    "duration": 8,
    "start_time": "2023-01-25T02:45:05.659Z"
   },
   {
    "duration": 20,
    "start_time": "2023-01-25T02:45:05.669Z"
   },
   {
    "duration": 46,
    "start_time": "2023-01-25T04:14:49.632Z"
   },
   {
    "duration": 9,
    "start_time": "2023-01-25T04:15:01.522Z"
   },
   {
    "duration": 1281,
    "start_time": "2023-01-25T04:15:22.202Z"
   },
   {
    "duration": 199,
    "start_time": "2023-01-25T04:15:23.485Z"
   },
   {
    "duration": 23,
    "start_time": "2023-01-25T04:15:23.686Z"
   },
   {
    "duration": 14,
    "start_time": "2023-01-25T04:15:23.712Z"
   },
   {
    "duration": 15,
    "start_time": "2023-01-25T04:15:23.728Z"
   },
   {
    "duration": 39,
    "start_time": "2023-01-25T04:15:23.744Z"
   },
   {
    "duration": 21,
    "start_time": "2023-01-25T04:15:23.785Z"
   },
   {
    "duration": 30,
    "start_time": "2023-01-25T04:15:23.808Z"
   },
   {
    "duration": 7,
    "start_time": "2023-01-25T04:15:23.840Z"
   },
   {
    "duration": 94,
    "start_time": "2023-01-25T04:15:23.850Z"
   },
   {
    "duration": 268,
    "start_time": "2023-01-25T04:15:23.946Z"
   },
   {
    "duration": 237,
    "start_time": "2023-01-25T04:15:24.216Z"
   },
   {
    "duration": 41,
    "start_time": "2023-01-25T04:15:24.455Z"
   },
   {
    "duration": 490,
    "start_time": "2023-01-25T04:15:24.497Z"
   },
   {
    "duration": 424,
    "start_time": "2023-01-25T04:15:24.989Z"
   },
   {
    "duration": 427,
    "start_time": "2023-01-25T04:15:25.415Z"
   },
   {
    "duration": 476,
    "start_time": "2023-01-25T04:15:25.844Z"
   },
   {
    "duration": 436,
    "start_time": "2023-01-25T04:15:26.322Z"
   },
   {
    "duration": 406,
    "start_time": "2023-01-25T04:15:26.759Z"
   },
   {
    "duration": 450,
    "start_time": "2023-01-25T04:15:27.166Z"
   },
   {
    "duration": 336,
    "start_time": "2023-01-25T04:15:27.617Z"
   },
   {
    "duration": 27,
    "start_time": "2023-01-25T04:15:27.954Z"
   },
   {
    "duration": 20,
    "start_time": "2023-01-25T04:15:27.984Z"
   },
   {
    "duration": 208,
    "start_time": "2023-01-25T04:15:28.006Z"
   },
   {
    "duration": 8,
    "start_time": "2023-01-25T04:15:28.216Z"
   },
   {
    "duration": 16,
    "start_time": "2023-01-25T04:15:28.225Z"
   },
   {
    "duration": 111,
    "start_time": "2023-01-25T04:15:41.284Z"
   },
   {
    "duration": 9,
    "start_time": "2023-01-25T04:16:14.903Z"
   },
   {
    "duration": 50,
    "start_time": "2023-07-20T11:36:59.811Z"
   },
   {
    "duration": 1563,
    "start_time": "2023-09-24T10:01:51.381Z"
   },
   {
    "duration": 103,
    "start_time": "2023-09-24T10:01:52.948Z"
   },
   {
    "duration": 28,
    "start_time": "2023-09-24T10:01:53.057Z"
   },
   {
    "duration": 40,
    "start_time": "2023-09-24T10:01:53.088Z"
   },
   {
    "duration": 44,
    "start_time": "2023-09-24T10:01:53.131Z"
   },
   {
    "duration": 134,
    "start_time": "2023-09-24T10:01:53.178Z"
   },
   {
    "duration": 0,
    "start_time": "2023-09-24T10:01:53.316Z"
   },
   {
    "duration": 0,
    "start_time": "2023-09-24T10:01:53.318Z"
   },
   {
    "duration": 0,
    "start_time": "2023-09-24T10:01:53.321Z"
   },
   {
    "duration": 0,
    "start_time": "2023-09-24T10:01:53.323Z"
   },
   {
    "duration": 0,
    "start_time": "2023-09-24T10:01:53.325Z"
   },
   {
    "duration": 0,
    "start_time": "2023-09-24T10:01:53.327Z"
   },
   {
    "duration": 0,
    "start_time": "2023-09-24T10:01:53.329Z"
   },
   {
    "duration": 0,
    "start_time": "2023-09-24T10:01:53.331Z"
   },
   {
    "duration": 0,
    "start_time": "2023-09-24T10:01:53.333Z"
   },
   {
    "duration": 0,
    "start_time": "2023-09-24T10:01:53.335Z"
   },
   {
    "duration": 0,
    "start_time": "2023-09-24T10:01:53.337Z"
   },
   {
    "duration": 0,
    "start_time": "2023-09-24T10:01:53.340Z"
   },
   {
    "duration": 0,
    "start_time": "2023-09-24T10:01:53.343Z"
   },
   {
    "duration": 0,
    "start_time": "2023-09-24T10:01:53.346Z"
   },
   {
    "duration": 0,
    "start_time": "2023-09-24T10:01:53.348Z"
   },
   {
    "duration": 1,
    "start_time": "2023-09-24T10:01:53.402Z"
   },
   {
    "duration": 0,
    "start_time": "2023-09-24T10:01:53.405Z"
   },
   {
    "duration": 0,
    "start_time": "2023-09-24T10:01:53.406Z"
   },
   {
    "duration": 0,
    "start_time": "2023-09-24T10:01:53.408Z"
   },
   {
    "duration": 0,
    "start_time": "2023-09-24T10:01:53.409Z"
   },
   {
    "duration": 0,
    "start_time": "2023-09-24T10:01:53.410Z"
   },
   {
    "duration": 1268,
    "start_time": "2023-09-24T10:07:12.733Z"
   },
   {
    "duration": 58,
    "start_time": "2023-09-24T10:07:14.003Z"
   },
   {
    "duration": 193,
    "start_time": "2023-09-24T10:07:14.062Z"
   },
   {
    "duration": 199,
    "start_time": "2023-09-24T10:07:14.258Z"
   },
   {
    "duration": 25,
    "start_time": "2023-09-24T10:07:14.459Z"
   },
   {
    "duration": 18,
    "start_time": "2023-09-24T10:07:14.487Z"
   },
   {
    "duration": 50,
    "start_time": "2023-09-24T10:07:14.507Z"
   },
   {
    "duration": 55,
    "start_time": "2023-09-24T10:07:14.561Z"
   },
   {
    "duration": 12,
    "start_time": "2023-09-24T10:07:14.618Z"
   },
   {
    "duration": 148,
    "start_time": "2023-09-24T10:07:14.634Z"
   },
   {
    "duration": 291,
    "start_time": "2023-09-24T10:07:14.784Z"
   },
   {
    "duration": 273,
    "start_time": "2023-09-24T10:07:15.078Z"
   },
   {
    "duration": 58,
    "start_time": "2023-09-24T10:07:15.353Z"
   },
   {
    "duration": 647,
    "start_time": "2023-09-24T10:07:15.414Z"
   },
   {
    "duration": 527,
    "start_time": "2023-09-24T10:07:16.063Z"
   },
   {
    "duration": 554,
    "start_time": "2023-09-24T10:07:16.592Z"
   },
   {
    "duration": 587,
    "start_time": "2023-09-24T10:07:17.148Z"
   },
   {
    "duration": 490,
    "start_time": "2023-09-24T10:07:17.737Z"
   },
   {
    "duration": 519,
    "start_time": "2023-09-24T10:07:18.229Z"
   },
   {
    "duration": 493,
    "start_time": "2023-09-24T10:07:18.751Z"
   },
   {
    "duration": 418,
    "start_time": "2023-09-24T10:07:19.246Z"
   },
   {
    "duration": 35,
    "start_time": "2023-09-24T10:07:19.666Z"
   },
   {
    "duration": 28,
    "start_time": "2023-09-24T10:07:19.703Z"
   },
   {
    "duration": 242,
    "start_time": "2023-09-24T10:07:19.734Z"
   },
   {
    "duration": 9,
    "start_time": "2023-09-24T10:07:19.979Z"
   },
   {
    "duration": 53,
    "start_time": "2023-09-24T10:07:20.002Z"
   }
  ],
  "kernelspec": {
   "display_name": "Python 3 (ipykernel)",
   "language": "python",
   "name": "python3"
  },
  "language_info": {
   "codemirror_mode": {
    "name": "ipython",
    "version": 3
   },
   "file_extension": ".py",
   "mimetype": "text/x-python",
   "name": "python",
   "nbconvert_exporter": "python",
   "pygments_lexer": "ipython3",
   "version": "3.9.5"
  },
  "toc": {
   "base_numbering": 1,
   "nav_menu": {},
   "number_sections": true,
   "sideBar": true,
   "skip_h1_title": true,
   "title_cell": "Table of Contents",
   "title_sidebar": "Contents",
   "toc_cell": false,
   "toc_position": {},
   "toc_section_display": true,
   "toc_window_display": false
  }
 },
 "nbformat": 4,
 "nbformat_minor": 2
}
