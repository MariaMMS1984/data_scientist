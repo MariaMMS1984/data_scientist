{
 "cells": [
  {
   "cell_type": "markdown",
   "metadata": {},
   "source": [
    "# Определение стоимости автомобилей"
   ]
  },
  {
   "cell_type": "markdown",
   "metadata": {},
   "source": [
    "Сервис по продаже автомобилей с пробегом «Не бит, не крашен» разрабатывает приложение для привлечения новых клиентов. В нём можно быстро узнать рыночную стоимость своего автомобиля. В вашем распоряжении исторические данные: технические характеристики, комплектации и цены автомобилей. Вам нужно построить модель для определения стоимости. \n",
    "\n",
    "Заказчику важны:\n",
    "\n",
    "- качество предсказания;\n",
    "- скорость предсказания;\n",
    "- время обучения."
   ]
  },
  {
   "cell_type": "markdown",
   "metadata": {},
   "source": [
    "# Описание"
   ]
  },
  {
   "cell_type": "markdown",
   "metadata": {},
   "source": [
    "Необходимо разработать модель наиболее качественного и быстрого расчета стоимости автомобилей на основе исторических данных о технических характеристиках, комплектации и ценах автомобилей."
   ]
  },
  {
   "cell_type": "markdown",
   "metadata": {},
   "source": [
    "## Подготовка данных"
   ]
  },
  {
   "cell_type": "markdown",
   "metadata": {},
   "source": [
    "1.1. Загрузим библиотеки и файлы с данными, которые нужны нам в работе."
   ]
  },
  {
   "cell_type": "code",
   "execution_count": 43,
   "metadata": {},
   "outputs": [],
   "source": [
    "import numpy as np\n",
    "import pandas as pd\n",
    "import matplotlib.pyplot as plt\n",
    "import warnings\n",
    "from sklearn.model_selection import cross_val_score, train_test_split, GridSearchCV, KFold\n",
    "from sklearn.metrics import mean_squared_error as mse\n",
    "from math import sqrt\n",
    "from catboost import CatBoostRegressor\n",
    "from sklearn.preprocessing import OneHotEncoder, StandardScaler, LabelEncoder\n",
    "from lightgbm import LGBMRegressor\n",
    "from sklearn.linear_model import Ridge\n",
    "import time\n",
    "from sklearn.pipeline import Pipeline\n",
    "from sklearn.model_selection import RandomizedSearchCV\n",
    "from datetime import datetime "
   ]
  },
  {
   "cell_type": "code",
   "execution_count": 2,
   "metadata": {},
   "outputs": [
    {
     "data": {
      "text/html": [
       "<div>\n",
       "<style scoped>\n",
       "    .dataframe tbody tr th:only-of-type {\n",
       "        vertical-align: middle;\n",
       "    }\n",
       "\n",
       "    .dataframe tbody tr th {\n",
       "        vertical-align: top;\n",
       "    }\n",
       "\n",
       "    .dataframe thead th {\n",
       "        text-align: right;\n",
       "    }\n",
       "</style>\n",
       "<table border=\"1\" class=\"dataframe\">\n",
       "  <thead>\n",
       "    <tr style=\"text-align: right;\">\n",
       "      <th></th>\n",
       "      <th>DateCrawled</th>\n",
       "      <th>Price</th>\n",
       "      <th>VehicleType</th>\n",
       "      <th>RegistrationYear</th>\n",
       "      <th>Gearbox</th>\n",
       "      <th>Power</th>\n",
       "      <th>Model</th>\n",
       "      <th>Kilometer</th>\n",
       "      <th>RegistrationMonth</th>\n",
       "      <th>FuelType</th>\n",
       "      <th>Brand</th>\n",
       "      <th>Repaired</th>\n",
       "      <th>DateCreated</th>\n",
       "      <th>NumberOfPictures</th>\n",
       "      <th>PostalCode</th>\n",
       "      <th>LastSeen</th>\n",
       "    </tr>\n",
       "  </thead>\n",
       "  <tbody>\n",
       "    <tr>\n",
       "      <th>0</th>\n",
       "      <td>2016-03-24 11:52:17</td>\n",
       "      <td>480</td>\n",
       "      <td>NaN</td>\n",
       "      <td>1993</td>\n",
       "      <td>manual</td>\n",
       "      <td>0</td>\n",
       "      <td>golf</td>\n",
       "      <td>150000</td>\n",
       "      <td>0</td>\n",
       "      <td>petrol</td>\n",
       "      <td>volkswagen</td>\n",
       "      <td>NaN</td>\n",
       "      <td>2016-03-24 00:00:00</td>\n",
       "      <td>0</td>\n",
       "      <td>70435</td>\n",
       "      <td>2016-04-07 03:16:57</td>\n",
       "    </tr>\n",
       "    <tr>\n",
       "      <th>1</th>\n",
       "      <td>2016-03-24 10:58:45</td>\n",
       "      <td>18300</td>\n",
       "      <td>coupe</td>\n",
       "      <td>2011</td>\n",
       "      <td>manual</td>\n",
       "      <td>190</td>\n",
       "      <td>NaN</td>\n",
       "      <td>125000</td>\n",
       "      <td>5</td>\n",
       "      <td>gasoline</td>\n",
       "      <td>audi</td>\n",
       "      <td>yes</td>\n",
       "      <td>2016-03-24 00:00:00</td>\n",
       "      <td>0</td>\n",
       "      <td>66954</td>\n",
       "      <td>2016-04-07 01:46:50</td>\n",
       "    </tr>\n",
       "    <tr>\n",
       "      <th>2</th>\n",
       "      <td>2016-03-14 12:52:21</td>\n",
       "      <td>9800</td>\n",
       "      <td>suv</td>\n",
       "      <td>2004</td>\n",
       "      <td>auto</td>\n",
       "      <td>163</td>\n",
       "      <td>grand</td>\n",
       "      <td>125000</td>\n",
       "      <td>8</td>\n",
       "      <td>gasoline</td>\n",
       "      <td>jeep</td>\n",
       "      <td>NaN</td>\n",
       "      <td>2016-03-14 00:00:00</td>\n",
       "      <td>0</td>\n",
       "      <td>90480</td>\n",
       "      <td>2016-04-05 12:47:46</td>\n",
       "    </tr>\n",
       "    <tr>\n",
       "      <th>3</th>\n",
       "      <td>2016-03-17 16:54:04</td>\n",
       "      <td>1500</td>\n",
       "      <td>small</td>\n",
       "      <td>2001</td>\n",
       "      <td>manual</td>\n",
       "      <td>75</td>\n",
       "      <td>golf</td>\n",
       "      <td>150000</td>\n",
       "      <td>6</td>\n",
       "      <td>petrol</td>\n",
       "      <td>volkswagen</td>\n",
       "      <td>no</td>\n",
       "      <td>2016-03-17 00:00:00</td>\n",
       "      <td>0</td>\n",
       "      <td>91074</td>\n",
       "      <td>2016-03-17 17:40:17</td>\n",
       "    </tr>\n",
       "    <tr>\n",
       "      <th>4</th>\n",
       "      <td>2016-03-31 17:25:20</td>\n",
       "      <td>3600</td>\n",
       "      <td>small</td>\n",
       "      <td>2008</td>\n",
       "      <td>manual</td>\n",
       "      <td>69</td>\n",
       "      <td>fabia</td>\n",
       "      <td>90000</td>\n",
       "      <td>7</td>\n",
       "      <td>gasoline</td>\n",
       "      <td>skoda</td>\n",
       "      <td>no</td>\n",
       "      <td>2016-03-31 00:00:00</td>\n",
       "      <td>0</td>\n",
       "      <td>60437</td>\n",
       "      <td>2016-04-06 10:17:21</td>\n",
       "    </tr>\n",
       "  </tbody>\n",
       "</table>\n",
       "</div>"
      ],
      "text/plain": [
       "           DateCrawled  Price VehicleType  RegistrationYear Gearbox  Power  \\\n",
       "0  2016-03-24 11:52:17    480         NaN              1993  manual      0   \n",
       "1  2016-03-24 10:58:45  18300       coupe              2011  manual    190   \n",
       "2  2016-03-14 12:52:21   9800         suv              2004    auto    163   \n",
       "3  2016-03-17 16:54:04   1500       small              2001  manual     75   \n",
       "4  2016-03-31 17:25:20   3600       small              2008  manual     69   \n",
       "\n",
       "   Model  Kilometer  RegistrationMonth  FuelType       Brand Repaired  \\\n",
       "0   golf     150000                  0    petrol  volkswagen      NaN   \n",
       "1    NaN     125000                  5  gasoline        audi      yes   \n",
       "2  grand     125000                  8  gasoline        jeep      NaN   \n",
       "3   golf     150000                  6    petrol  volkswagen       no   \n",
       "4  fabia      90000                  7  gasoline       skoda       no   \n",
       "\n",
       "           DateCreated  NumberOfPictures  PostalCode             LastSeen  \n",
       "0  2016-03-24 00:00:00                 0       70435  2016-04-07 03:16:57  \n",
       "1  2016-03-24 00:00:00                 0       66954  2016-04-07 01:46:50  \n",
       "2  2016-03-14 00:00:00                 0       90480  2016-04-05 12:47:46  \n",
       "3  2016-03-17 00:00:00                 0       91074  2016-03-17 17:40:17  \n",
       "4  2016-03-31 00:00:00                 0       60437  2016-04-06 10:17:21  "
      ]
     },
     "execution_count": 2,
     "metadata": {},
     "output_type": "execute_result"
    }
   ],
   "source": [
    "data = pd.read_csv('/datasets/autos.csv')\n",
    "data.head()"
   ]
  },
  {
   "cell_type": "markdown",
   "metadata": {},
   "source": [
    "1.2. Предобработка данных"
   ]
  },
  {
   "cell_type": "code",
   "execution_count": 3,
   "metadata": {},
   "outputs": [
    {
     "name": "stdout",
     "output_type": "stream",
     "text": [
      "<class 'pandas.core.frame.DataFrame'>\n",
      "RangeIndex: 354369 entries, 0 to 354368\n",
      "Data columns (total 16 columns):\n",
      " #   Column             Non-Null Count   Dtype \n",
      "---  ------             --------------   ----- \n",
      " 0   DateCrawled        354369 non-null  object\n",
      " 1   Price              354369 non-null  int64 \n",
      " 2   VehicleType        316879 non-null  object\n",
      " 3   RegistrationYear   354369 non-null  int64 \n",
      " 4   Gearbox            334536 non-null  object\n",
      " 5   Power              354369 non-null  int64 \n",
      " 6   Model              334664 non-null  object\n",
      " 7   Kilometer          354369 non-null  int64 \n",
      " 8   RegistrationMonth  354369 non-null  int64 \n",
      " 9   FuelType           321474 non-null  object\n",
      " 10  Brand              354369 non-null  object\n",
      " 11  Repaired           283215 non-null  object\n",
      " 12  DateCreated        354369 non-null  object\n",
      " 13  NumberOfPictures   354369 non-null  int64 \n",
      " 14  PostalCode         354369 non-null  int64 \n",
      " 15  LastSeen           354369 non-null  object\n",
      "dtypes: int64(7), object(9)\n",
      "memory usage: 43.3+ MB\n"
     ]
    }
   ],
   "source": [
    "data.info()"
   ]
  },
  {
   "cell_type": "code",
   "execution_count": 4,
   "metadata": {},
   "outputs": [],
   "source": [
    "# Удалим колонки не влияющие на целевой признак, соответственно ненужные для обучения моделей: DateCrawled, DateCreated, LastSeen (даты скачивания и создания объявления, дата последней активности пользователя),\n",
    "# NumberOfPictures (количество фотографий автомобиля),PostalCode (почтовый индекс владельца анкеты (пользователя)\n",
    "\n",
    "data.drop(columns = ['DateCrawled', 'DateCreated', 'LastSeen', 'NumberOfPictures', 'PostalCode'], inplace=True)"
   ]
  },
  {
   "cell_type": "code",
   "execution_count": 5,
   "metadata": {},
   "outputs": [
    {
     "name": "stdout",
     "output_type": "stream",
     "text": [
      "<class 'pandas.core.frame.DataFrame'>\n",
      "RangeIndex: 354369 entries, 0 to 354368\n",
      "Data columns (total 11 columns):\n",
      " #   Column             Non-Null Count   Dtype \n",
      "---  ------             --------------   ----- \n",
      " 0   Price              354369 non-null  int64 \n",
      " 1   VehicleType        316879 non-null  object\n",
      " 2   RegistrationYear   354369 non-null  int64 \n",
      " 3   Gearbox            334536 non-null  object\n",
      " 4   Power              354369 non-null  int64 \n",
      " 5   Model              334664 non-null  object\n",
      " 6   Kilometer          354369 non-null  int64 \n",
      " 7   RegistrationMonth  354369 non-null  int64 \n",
      " 8   FuelType           321474 non-null  object\n",
      " 9   Brand              354369 non-null  object\n",
      " 10  Repaired           283215 non-null  object\n",
      "dtypes: int64(5), object(6)\n",
      "memory usage: 29.7+ MB\n"
     ]
    }
   ],
   "source": [
    "data.info()"
   ]
  },
  {
   "cell_type": "code",
   "execution_count": 6,
   "metadata": {},
   "outputs": [
    {
     "data": {
      "text/plain": [
       "Price                    0\n",
       "VehicleType          37490\n",
       "RegistrationYear         0\n",
       "Gearbox              19833\n",
       "Power                    0\n",
       "Model                19705\n",
       "Kilometer                0\n",
       "RegistrationMonth        0\n",
       "FuelType             32895\n",
       "Brand                    0\n",
       "Repaired             71154\n",
       "dtype: int64"
      ]
     },
     "execution_count": 6,
     "metadata": {},
     "output_type": "execute_result"
    }
   ],
   "source": [
    "data.isna().sum() # посмотрим пропуски"
   ]
  },
  {
   "cell_type": "code",
   "execution_count": 7,
   "metadata": {},
   "outputs": [
    {
     "data": {
      "text/plain": [
       "Price                0\n",
       "VehicleType          0\n",
       "RegistrationYear     0\n",
       "Gearbox              0\n",
       "Power                0\n",
       "Model                0\n",
       "Kilometer            0\n",
       "RegistrationMonth    0\n",
       "FuelType             0\n",
       "Brand                0\n",
       "Repaired             0\n",
       "dtype: int64"
      ]
     },
     "execution_count": 7,
     "metadata": {},
     "output_type": "execute_result"
    }
   ],
   "source": [
    "# Заполним пропуски в категориальных данных текстом 'no information available'(строк с пропусками больше 10% от общего объема данных, поэтому удалить мы их не можем)\n",
    "# восстановить данные по тем данным, что есть, мы не можем, так как пропуски в категориальных признаках\n",
    "data = data.fillna('no information available')\n",
    "data.isna().sum()"
   ]
  },
  {
   "cell_type": "code",
   "execution_count": 8,
   "metadata": {},
   "outputs": [
    {
     "data": {
      "text/plain": [
       "27543"
      ]
     },
     "execution_count": 8,
     "metadata": {},
     "output_type": "execute_result"
    }
   ],
   "source": [
    "data.duplicated().sum() #проверим дубликаты\n"
   ]
  },
  {
   "cell_type": "code",
   "execution_count": 9,
   "metadata": {},
   "outputs": [
    {
     "data": {
      "text/plain": [
       "0"
      ]
     },
     "execution_count": 9,
     "metadata": {},
     "output_type": "execute_result"
    }
   ],
   "source": [
    "data = data.drop_duplicates()  #дубликатов менее 10% от общего объема данных, соответственно можем их удалить без потерь для информативности выборки\n",
    "data.duplicated().sum()"
   ]
  },
  {
   "cell_type": "markdown",
   "metadata": {},
   "source": [
    "1.3.Посмотрим выбросы"
   ]
  },
  {
   "cell_type": "code",
   "execution_count": 10,
   "metadata": {},
   "outputs": [
    {
     "data": {
      "text/html": [
       "<div>\n",
       "<style scoped>\n",
       "    .dataframe tbody tr th:only-of-type {\n",
       "        vertical-align: middle;\n",
       "    }\n",
       "\n",
       "    .dataframe tbody tr th {\n",
       "        vertical-align: top;\n",
       "    }\n",
       "\n",
       "    .dataframe thead th {\n",
       "        text-align: right;\n",
       "    }\n",
       "</style>\n",
       "<table border=\"1\" class=\"dataframe\">\n",
       "  <thead>\n",
       "    <tr style=\"text-align: right;\">\n",
       "      <th></th>\n",
       "      <th>Price</th>\n",
       "      <th>RegistrationYear</th>\n",
       "      <th>Power</th>\n",
       "      <th>Kilometer</th>\n",
       "      <th>RegistrationMonth</th>\n",
       "    </tr>\n",
       "  </thead>\n",
       "  <tbody>\n",
       "    <tr>\n",
       "      <th>count</th>\n",
       "      <td>326826.000000</td>\n",
       "      <td>326826.000000</td>\n",
       "      <td>326826.000000</td>\n",
       "      <td>326826.000000</td>\n",
       "      <td>326826.000000</td>\n",
       "    </tr>\n",
       "    <tr>\n",
       "      <th>mean</th>\n",
       "      <td>4403.747330</td>\n",
       "      <td>2004.230985</td>\n",
       "      <td>110.244705</td>\n",
       "      <td>128144.073605</td>\n",
       "      <td>5.696239</td>\n",
       "    </tr>\n",
       "    <tr>\n",
       "      <th>std</th>\n",
       "      <td>4518.209808</td>\n",
       "      <td>91.120018</td>\n",
       "      <td>195.886373</td>\n",
       "      <td>37947.663920</td>\n",
       "      <td>3.724122</td>\n",
       "    </tr>\n",
       "    <tr>\n",
       "      <th>min</th>\n",
       "      <td>0.000000</td>\n",
       "      <td>1000.000000</td>\n",
       "      <td>0.000000</td>\n",
       "      <td>5000.000000</td>\n",
       "      <td>0.000000</td>\n",
       "    </tr>\n",
       "    <tr>\n",
       "      <th>25%</th>\n",
       "      <td>1000.000000</td>\n",
       "      <td>1999.000000</td>\n",
       "      <td>69.000000</td>\n",
       "      <td>125000.000000</td>\n",
       "      <td>3.000000</td>\n",
       "    </tr>\n",
       "    <tr>\n",
       "      <th>50%</th>\n",
       "      <td>2700.000000</td>\n",
       "      <td>2003.000000</td>\n",
       "      <td>105.000000</td>\n",
       "      <td>150000.000000</td>\n",
       "      <td>6.000000</td>\n",
       "    </tr>\n",
       "    <tr>\n",
       "      <th>75%</th>\n",
       "      <td>6350.000000</td>\n",
       "      <td>2008.000000</td>\n",
       "      <td>141.000000</td>\n",
       "      <td>150000.000000</td>\n",
       "      <td>9.000000</td>\n",
       "    </tr>\n",
       "    <tr>\n",
       "      <th>max</th>\n",
       "      <td>20000.000000</td>\n",
       "      <td>9999.000000</td>\n",
       "      <td>20000.000000</td>\n",
       "      <td>150000.000000</td>\n",
       "      <td>12.000000</td>\n",
       "    </tr>\n",
       "  </tbody>\n",
       "</table>\n",
       "</div>"
      ],
      "text/plain": [
       "               Price  RegistrationYear          Power      Kilometer  \\\n",
       "count  326826.000000     326826.000000  326826.000000  326826.000000   \n",
       "mean     4403.747330       2004.230985     110.244705  128144.073605   \n",
       "std      4518.209808         91.120018     195.886373   37947.663920   \n",
       "min         0.000000       1000.000000       0.000000    5000.000000   \n",
       "25%      1000.000000       1999.000000      69.000000  125000.000000   \n",
       "50%      2700.000000       2003.000000     105.000000  150000.000000   \n",
       "75%      6350.000000       2008.000000     141.000000  150000.000000   \n",
       "max     20000.000000       9999.000000   20000.000000  150000.000000   \n",
       "\n",
       "       RegistrationMonth  \n",
       "count      326826.000000  \n",
       "mean            5.696239  \n",
       "std             3.724122  \n",
       "min             0.000000  \n",
       "25%             3.000000  \n",
       "50%             6.000000  \n",
       "75%             9.000000  \n",
       "max            12.000000  "
      ]
     },
     "execution_count": 10,
     "metadata": {},
     "output_type": "execute_result"
    }
   ],
   "source": [
    "data.describe()"
   ]
  },
  {
   "cell_type": "code",
   "execution_count": 11,
   "metadata": {},
   "outputs": [
    {
     "data": {
      "text/plain": [
       "0       9387\n",
       "500     5305\n",
       "1500    5013\n",
       "1000    4299\n",
       "1200    4243\n",
       "        ... \n",
       "1910       1\n",
       "1654       1\n",
       "5748       1\n",
       "7285       1\n",
       "8188       1\n",
       "Name: Price, Length: 3731, dtype: int64"
      ]
     },
     "execution_count": 11,
     "metadata": {},
     "output_type": "execute_result"
    }
   ],
   "source": [
    "data['Price'].value_counts()"
   ]
  },
  {
   "cell_type": "code",
   "execution_count": 12,
   "metadata": {},
   "outputs": [
    {
     "data": {
      "text/plain": [
       "500      5305\n",
       "1500     5013\n",
       "1000     4299\n",
       "1200     4243\n",
       "2500     4036\n",
       "         ... \n",
       "6039        1\n",
       "3988        1\n",
       "14227       1\n",
       "11920       1\n",
       "8188        1\n",
       "Name: Price, Length: 3673, dtype: int64"
      ]
     },
     "execution_count": 12,
     "metadata": {},
     "output_type": "execute_result"
    }
   ],
   "source": [
    "data = data[data.Price > 100 ] # удалим строки с ценой, меньше \"100\", так как это нереалистичная цена, создает выбросы, а количество таких строк менее 10 %\n",
    "data['Price'].value_counts()"
   ]
  },
  {
   "cell_type": "code",
   "execution_count": 13,
   "metadata": {},
   "outputs": [],
   "source": [
    "# в столбце RegistrationYear есть нереалистичные данные, исправим это:(машиностроение, как отрасль производства ведет историю с 1880-1890-х годов)\n",
    "def Balance_RegistrationYear(value):\n",
    "    if value > 2016:\n",
    "        return 2016\n",
    "    elif value < 1890:\n",
    "        return 1890\n",
    "    else:\n",
    "        return value\n",
    "data[\"RegistrationYear\"] = data[\"RegistrationYear\"].apply(Balance_RegistrationYear)\n",
    "\n",
    "# в столбце RegistrationMonth есть нереалистичные данные, исправим это:(месяц не может быть нулевым)\n",
    "def Balance_RegistrationMonth(value):\n",
    "    if value < 1:\n",
    "        return 1\n",
    "    else:\n",
    "        return value\n",
    "data[\"RegistrationMonth\"] = data[\"RegistrationMonth\"].apply(Balance_RegistrationMonth)\n",
    "\n",
    "# в столбце Power есть нереалистичные данные, исправим это:(лошадиные силы не могут быть меньше 9(для очень ретро-автомобилей, заменим на 9)\n",
    "data.loc[data['Power'] < 9, 'Power'] = 9\n",
    "# также не могут быть машины более мощные, чем самый мощный автомобиль (4515 л.с.), исправим это:\n",
    "data.loc[data['Power'] > 4500, 'Power'] = 4500"
   ]
  },
  {
   "cell_type": "code",
   "execution_count": 14,
   "metadata": {},
   "outputs": [
    {
     "data": {
      "text/html": [
       "<div>\n",
       "<style scoped>\n",
       "    .dataframe tbody tr th:only-of-type {\n",
       "        vertical-align: middle;\n",
       "    }\n",
       "\n",
       "    .dataframe tbody tr th {\n",
       "        vertical-align: top;\n",
       "    }\n",
       "\n",
       "    .dataframe thead th {\n",
       "        text-align: right;\n",
       "    }\n",
       "</style>\n",
       "<table border=\"1\" class=\"dataframe\">\n",
       "  <thead>\n",
       "    <tr style=\"text-align: right;\">\n",
       "      <th></th>\n",
       "      <th>Price</th>\n",
       "      <th>RegistrationYear</th>\n",
       "      <th>Power</th>\n",
       "      <th>Kilometer</th>\n",
       "      <th>RegistrationMonth</th>\n",
       "    </tr>\n",
       "  </thead>\n",
       "  <tbody>\n",
       "    <tr>\n",
       "      <th>count</th>\n",
       "      <td>314059.000000</td>\n",
       "      <td>314059.000000</td>\n",
       "      <td>314059.000000</td>\n",
       "      <td>314059.000000</td>\n",
       "      <td>314059.000000</td>\n",
       "    </tr>\n",
       "    <tr>\n",
       "      <th>mean</th>\n",
       "      <td>4582.233287</td>\n",
       "      <td>2003.125677</td>\n",
       "      <td>110.967672</td>\n",
       "      <td>128399.838884</td>\n",
       "      <td>5.872438</td>\n",
       "    </tr>\n",
       "    <tr>\n",
       "      <th>std</th>\n",
       "      <td>4519.793083</td>\n",
       "      <td>7.401979</td>\n",
       "      <td>101.520120</td>\n",
       "      <td>37325.469309</td>\n",
       "      <td>3.550276</td>\n",
       "    </tr>\n",
       "    <tr>\n",
       "      <th>min</th>\n",
       "      <td>101.000000</td>\n",
       "      <td>1890.000000</td>\n",
       "      <td>9.000000</td>\n",
       "      <td>5000.000000</td>\n",
       "      <td>1.000000</td>\n",
       "    </tr>\n",
       "    <tr>\n",
       "      <th>25%</th>\n",
       "      <td>1200.000000</td>\n",
       "      <td>1999.000000</td>\n",
       "      <td>70.000000</td>\n",
       "      <td>125000.000000</td>\n",
       "      <td>3.000000</td>\n",
       "    </tr>\n",
       "    <tr>\n",
       "      <th>50%</th>\n",
       "      <td>2900.000000</td>\n",
       "      <td>2003.000000</td>\n",
       "      <td>105.000000</td>\n",
       "      <td>150000.000000</td>\n",
       "      <td>6.000000</td>\n",
       "    </tr>\n",
       "    <tr>\n",
       "      <th>75%</th>\n",
       "      <td>6500.000000</td>\n",
       "      <td>2008.000000</td>\n",
       "      <td>143.000000</td>\n",
       "      <td>150000.000000</td>\n",
       "      <td>9.000000</td>\n",
       "    </tr>\n",
       "    <tr>\n",
       "      <th>max</th>\n",
       "      <td>20000.000000</td>\n",
       "      <td>2016.000000</td>\n",
       "      <td>4500.000000</td>\n",
       "      <td>150000.000000</td>\n",
       "      <td>12.000000</td>\n",
       "    </tr>\n",
       "  </tbody>\n",
       "</table>\n",
       "</div>"
      ],
      "text/plain": [
       "               Price  RegistrationYear          Power      Kilometer  \\\n",
       "count  314059.000000     314059.000000  314059.000000  314059.000000   \n",
       "mean     4582.233287       2003.125677     110.967672  128399.838884   \n",
       "std      4519.793083          7.401979     101.520120   37325.469309   \n",
       "min       101.000000       1890.000000       9.000000    5000.000000   \n",
       "25%      1200.000000       1999.000000      70.000000  125000.000000   \n",
       "50%      2900.000000       2003.000000     105.000000  150000.000000   \n",
       "75%      6500.000000       2008.000000     143.000000  150000.000000   \n",
       "max     20000.000000       2016.000000    4500.000000  150000.000000   \n",
       "\n",
       "       RegistrationMonth  \n",
       "count      314059.000000  \n",
       "mean            5.872438  \n",
       "std             3.550276  \n",
       "min             1.000000  \n",
       "25%             3.000000  \n",
       "50%             6.000000  \n",
       "75%             9.000000  \n",
       "max            12.000000  "
      ]
     },
     "execution_count": 14,
     "metadata": {},
     "output_type": "execute_result"
    }
   ],
   "source": [
    "data.describe()"
   ]
  },
  {
   "cell_type": "markdown",
   "metadata": {},
   "source": [
    "# Вывод:\n",
    "\n",
    "1. Мы удалили неинформативные и соответственно ненужные для обучения модели столбцы, чтобы сократить используюемую память, что в дальнейшем сократит скорость обучения);\n",
    "2. удалили дубликаты;\n",
    "3. выявили и заполнили пропуски текстом 'no information available', так как пропусков слишком много, чтобы удалить строки с пропусками, а заполнение пропусков на основании имеющихся данных весьма недостоверно, так как это категориальные признаки;\n",
    "4. заменили нереалистичные данные в столбцах на более реальные;\n",
    "5. в столбце price удалили данные с ценами меньше 100, как нереалистичные."
   ]
  },
  {
   "cell_type": "markdown",
   "metadata": {},
   "source": [
    "## Обучение моделей"
   ]
  },
  {
   "cell_type": "markdown",
   "metadata": {},
   "source": [
    "2.1. Разделим выборки и подготовим кросс-валидатор для последующего обучения моделей"
   ]
  },
  {
   "cell_type": "code",
   "execution_count": 15,
   "metadata": {},
   "outputs": [],
   "source": [
    "X = data.drop(columns=['Price'])\n",
    "y = data.Price\n",
    "\n",
    "X_train, X_test, y_train, y_test = train_test_split(X, y, test_size=0.2, random_state=12345)"
   ]
  },
  {
   "cell_type": "code",
   "execution_count": 16,
   "metadata": {},
   "outputs": [],
   "source": [
    "# создадим кросс-валидатор для последующего обучения моделей\n",
    "cv = KFold(n_splits=3, shuffle=True, random_state=12345)"
   ]
  },
  {
   "cell_type": "markdown",
   "metadata": {},
   "source": [
    "2.2. Обучение моделей"
   ]
  },
  {
   "cell_type": "code",
   "execution_count": 37,
   "metadata": {},
   "outputs": [],
   "source": [
    "# Выделим колонки, содержащие категориальные переменные\n",
    "cat_columns = ['VehicleType', 'Gearbox', 'Model', 'FuelType', 'Brand', 'Repaired']\n",
    "\n",
    "\n",
    "# напишем функцию, принимающую модель, данные и возвращающую RMSE\n",
    "# Добавил возврат значения RMSE на кросс-валидации\n",
    "def model_elector(model, features_train, target_train, best_score):\n",
    "    model.fit(features_train, target_train)\n",
    "    predicted = model.predict(features_train)\n",
    "    rmse = mse(target_train, predicted)**0.5\n",
    "    cv_rmse = np.sqrt(-1 * best_score)\n",
    "    return rmse, cv_rmse"
   ]
  },
  {
   "cell_type": "markdown",
   "metadata": {},
   "source": [
    "А. Ridge"
   ]
  },
  {
   "cell_type": "code",
   "execution_count": 18,
   "metadata": {},
   "outputs": [],
   "source": [
    "# Подготовимм пайплайн one-hot encoder -> scaler -> Ridge\n",
    "pipe = Pipeline([\n",
    "    ('ohe', OneHotEncoder(handle_unknown='ignore')),\n",
    "    ('scaler', StandardScaler(with_mean=False)),\n",
    "    ('model', Ridge(random_state=12345))\n",
    "])\n",
    "\n",
    "params = [\n",
    "    {\n",
    "        'model__alpha': np.logspace(-2, 3, 20)\n",
    "    } \n",
    "]"
   ]
  },
  {
   "cell_type": "code",
   "execution_count": 19,
   "metadata": {},
   "outputs": [],
   "source": [
    "grid_ridge = GridSearchCV(pipe,\n",
    "                    param_grid=params,\n",
    "                    cv=cv,\n",
    "                    scoring='neg_mean_squared_error',\n",
    "                    n_jobs=-1,\n",
    "                    verbose=False)"
   ]
  },
  {
   "cell_type": "code",
   "execution_count": 20,
   "metadata": {},
   "outputs": [
    {
     "name": "stdout",
     "output_type": "stream",
     "text": [
      "CPU times: user 36.7 s, sys: 3.43 s, total: 40.1 s\n",
      "Wall time: 40.2 s\n"
     ]
    },
    {
     "data": {
      "text/plain": [
       "GridSearchCV(cv=KFold(n_splits=3, random_state=12345, shuffle=True),\n",
       "             estimator=Pipeline(steps=[('ohe',\n",
       "                                        OneHotEncoder(handle_unknown='ignore')),\n",
       "                                       ('scaler',\n",
       "                                        StandardScaler(with_mean=False)),\n",
       "                                       ('model', Ridge(random_state=12345))]),\n",
       "             n_jobs=-1,\n",
       "             param_grid=[{'model__alpha': array([1.00000000e-02, 1.83298071e-02, 3.35981829e-02, 6.15848211e-02,\n",
       "       1.12883789e-01, 2.06913808e-01, 3.79269019e-01, 6.95192796e-01,\n",
       "       1.27427499e+00, 2.33572147e+00, 4.28133240e+00, 7.84759970e+00,\n",
       "       1.43844989e+01, 2.63665090e+01, 4.83293024e+01, 8.85866790e+01,\n",
       "       1.62377674e+02, 2.97635144e+02, 5.45559478e+02, 1.00000000e+03])}],\n",
       "             scoring='neg_mean_squared_error', verbose=False)"
      ]
     },
     "execution_count": 20,
     "metadata": {},
     "output_type": "execute_result"
    }
   ],
   "source": [
    "%%time\n",
    "grid_ridge.fit(X_train, y_train);"
   ]
  },
  {
   "cell_type": "code",
   "execution_count": 21,
   "metadata": {},
   "outputs": [
    {
     "data": {
      "text/plain": [
       "{'model__alpha': 545.5594781168514}"
      ]
     },
     "execution_count": 21,
     "metadata": {},
     "output_type": "execute_result"
    }
   ],
   "source": [
    "grid_ridge.best_params_"
   ]
  },
  {
   "cell_type": "code",
   "execution_count": 33,
   "metadata": {},
   "outputs": [
    {
     "name": "stdout",
     "output_type": "stream",
     "text": [
      "CPU times: user 402 ms, sys: 27.3 ms, total: 430 ms\n",
      "Wall time: 436 ms\n"
     ]
    }
   ],
   "source": [
    "%%time\n",
    "\n",
    "target_predict = grid_ridge.best_estimator_.predict(X_train)"
   ]
  },
  {
   "cell_type": "markdown",
   "metadata": {},
   "source": [
    "Б.LightGBM"
   ]
  },
  {
   "cell_type": "code",
   "execution_count": 23,
   "metadata": {},
   "outputs": [],
   "source": [
    "# кодируем категориальные признаки через LabelEncoder и с помощью гридсёрча выберем наиболее подходящие параметры модели\n",
    "encoder = LabelEncoder()\n",
    "lgbm_train = X_train.copy()\n",
    "lgbm_test = X_test.copy()\n",
    "\n",
    "for col in cat_columns:\n",
    "    lgbm_train[col] = encoder.fit_transform(lgbm_train[col])\n",
    "    lgbm_test[col] = encoder.fit_transform(lgbm_test[col])\n",
    "    \n",
    "lgbm = LGBMRegressor(boosting_type='gbdt', random_state=12345)\n",
    "params = {\n",
    "    'learning_rate': np.logspace(-3, 0, 5),\n",
    "    'n_estimators': [40, 60],\n",
    "    'num_leaves': [31, 41, 51],\n",
    "}\n",
    "\n",
    "gs_gbm = GridSearchCV(lgbm,params, cv=cv, scoring='neg_mean_squared_error', verbose=True)"
   ]
  },
  {
   "cell_type": "code",
   "execution_count": 24,
   "metadata": {},
   "outputs": [
    {
     "name": "stdout",
     "output_type": "stream",
     "text": [
      "Fitting 3 folds for each of 30 candidates, totalling 90 fits\n",
      "CPU times: user 6h 41min 30s, sys: 7min 6s, total: 6h 48min 36s\n",
      "Wall time: 6h 54min 24s\n"
     ]
    },
    {
     "data": {
      "text/plain": [
       "GridSearchCV(cv=KFold(n_splits=3, random_state=12345, shuffle=True),\n",
       "             estimator=LGBMRegressor(random_state=12345),\n",
       "             param_grid={'learning_rate': array([0.001     , 0.00562341, 0.03162278, 0.17782794, 1.        ]),\n",
       "                         'n_estimators': [40, 60], 'num_leaves': [31, 41, 51]},\n",
       "             scoring='neg_mean_squared_error', verbose=True)"
      ]
     },
     "execution_count": 24,
     "metadata": {},
     "output_type": "execute_result"
    }
   ],
   "source": [
    "%%time\n",
    "gs_gbm.fit(lgbm_train, y_train)"
   ]
  },
  {
   "cell_type": "code",
   "execution_count": 25,
   "metadata": {},
   "outputs": [
    {
     "data": {
      "text/plain": [
       "{'learning_rate': 0.1778279410038923, 'n_estimators': 60, 'num_leaves': 51}"
      ]
     },
     "execution_count": 25,
     "metadata": {},
     "output_type": "execute_result"
    }
   ],
   "source": [
    "gs_gbm.best_params_"
   ]
  },
  {
   "cell_type": "code",
   "execution_count": 36,
   "metadata": {},
   "outputs": [
    {
     "name": "stdout",
     "output_type": "stream",
     "text": [
      "CPU times: user 1.34 s, sys: 6.98 ms, total: 1.35 s\n",
      "Wall time: 1.35 s\n"
     ]
    }
   ],
   "source": [
    "%%time\n",
    "\n",
    "target_predict = gs_gbm.best_estimator_.predict(lgbm_train)"
   ]
  },
  {
   "cell_type": "markdown",
   "metadata": {},
   "source": [
    "В.catboost"
   ]
  },
  {
   "cell_type": "code",
   "execution_count": 27,
   "metadata": {},
   "outputs": [],
   "source": [
    "cbr = CatBoostRegressor(random_seed=12345,\n",
    "                        loss_function='RMSE',\n",
    "                        silent=True,\n",
    "                        cat_features=cat_columns)\n",
    "\n",
    "params = {\n",
    "    'learning_rate': np.logspace(-3, 0, 5),\n",
    "    'iterations': [40, 60],\n",
    "    'depth': [d for d in range(2, 11)],\n",
    "}\n",
    "\n",
    "grid_cbr = GridSearchCV(cbr,\n",
    "                        params,\n",
    "                        cv=cv,\n",
    "                        scoring='neg_mean_squared_error',\n",
    "                        verbose=False)"
   ]
  },
  {
   "cell_type": "code",
   "execution_count": 28,
   "metadata": {},
   "outputs": [
    {
     "name": "stdout",
     "output_type": "stream",
     "text": [
      "CPU times: user 18min 3s, sys: 11.2 s, total: 18min 14s\n",
      "Wall time: 21min 37s\n"
     ]
    },
    {
     "data": {
      "text/plain": [
       "GridSearchCV(cv=KFold(n_splits=3, random_state=12345, shuffle=True),\n",
       "             estimator=<catboost.core.CatBoostRegressor object at 0x7f121ceb8ee0>,\n",
       "             param_grid={'depth': [2, 3, 4, 5, 6, 7, 8, 9, 10],\n",
       "                         'iterations': [40, 60],\n",
       "                         'learning_rate': array([0.001     , 0.00562341, 0.03162278, 0.17782794, 1.        ])},\n",
       "             scoring='neg_mean_squared_error', verbose=False)"
      ]
     },
     "execution_count": 28,
     "metadata": {},
     "output_type": "execute_result"
    }
   ],
   "source": [
    "%%time\n",
    "grid_cbr.fit(X_train, y_train);"
   ]
  },
  {
   "cell_type": "code",
   "execution_count": 29,
   "metadata": {},
   "outputs": [
    {
     "data": {
      "text/plain": [
       "{'depth': 10, 'iterations': 60, 'learning_rate': 0.1778279410038923}"
      ]
     },
     "execution_count": 29,
     "metadata": {},
     "output_type": "execute_result"
    }
   ],
   "source": [
    "grid_cbr.best_params_"
   ]
  },
  {
   "cell_type": "code",
   "execution_count": 54,
   "metadata": {},
   "outputs": [
    {
     "name": "stdout",
     "output_type": "stream",
     "text": [
      "CPU times: user 406 ms, sys: 4.13 ms, total: 410 ms\n",
      "Wall time: 411 ms\n"
     ]
    }
   ],
   "source": [
    "%%time\n",
    "\n",
    "target_predict = grid_cbr.best_estimator_.predict(X_train)"
   ]
  },
  {
   "cell_type": "markdown",
   "metadata": {},
   "source": [
    "# Вывод:\n",
    "\n",
    "Мы обучили модели Ridge, CatBoost, LightGBM, посмотрели время обучения, а также время предсказаний на обучающей выборке."
   ]
  },
  {
   "cell_type": "markdown",
   "metadata": {},
   "source": [
    "## Анализ моделей"
   ]
  },
  {
   "cell_type": "markdown",
   "metadata": {},
   "source": [
    "Используя нашу функцию и полученные данные сделаем табличку с показателями наших моделей"
   ]
  },
  {
   "cell_type": "code",
   "execution_count": 38,
   "metadata": {},
   "outputs": [
    {
     "data": {
      "text/html": [
       "<div>\n",
       "<style scoped>\n",
       "    .dataframe tbody tr th:only-of-type {\n",
       "        vertical-align: middle;\n",
       "    }\n",
       "\n",
       "    .dataframe tbody tr th {\n",
       "        vertical-align: top;\n",
       "    }\n",
       "\n",
       "    .dataframe thead th {\n",
       "        text-align: right;\n",
       "    }\n",
       "</style>\n",
       "<table border=\"1\" class=\"dataframe\">\n",
       "  <thead>\n",
       "    <tr style=\"text-align: right;\">\n",
       "      <th></th>\n",
       "      <th>RMSE</th>\n",
       "      <th>RMSE on CV</th>\n",
       "    </tr>\n",
       "  </thead>\n",
       "  <tbody>\n",
       "    <tr>\n",
       "      <th>Ridge</th>\n",
       "      <td>2016.875829</td>\n",
       "      <td>2043.491043</td>\n",
       "    </tr>\n",
       "    <tr>\n",
       "      <th>CatBoost</th>\n",
       "      <td>1661.540885</td>\n",
       "      <td>1716.818001</td>\n",
       "    </tr>\n",
       "    <tr>\n",
       "      <th>LightGBM</th>\n",
       "      <td>1663.178390</td>\n",
       "      <td>1712.799091</td>\n",
       "    </tr>\n",
       "  </tbody>\n",
       "</table>\n",
       "</div>"
      ],
      "text/plain": [
       "                 RMSE   RMSE on CV\n",
       "Ridge     2016.875829  2043.491043\n",
       "CatBoost  1661.540885  1716.818001\n",
       "LightGBM  1663.178390  1712.799091"
      ]
     },
     "metadata": {},
     "output_type": "display_data"
    }
   ],
   "source": [
    "models = []\n",
    "models.append(model_elector(grid_ridge.best_estimator_, X_train, y_train, grid_ridge.best_score_))\n",
    "models.append(model_elector(grid_cbr.best_estimator_, X_train, y_train, grid_cbr.best_score_))\n",
    "models.append(model_elector(gs_gbm.best_estimator_, lgbm_train, y_train, gs_gbm.best_score_))\n",
    "our_models = pd.DataFrame(data=models, index=['Ridge', 'CatBoost', 'LightGBM'], columns=['RMSE', 'RMSE on CV'])\n",
    "\n",
    "display(our_models)"
   ]
  },
  {
   "cell_type": "code",
   "execution_count": 49,
   "metadata": {},
   "outputs": [
    {
     "data": {
      "text/html": [
       "<div>\n",
       "<style scoped>\n",
       "    .dataframe tbody tr th:only-of-type {\n",
       "        vertical-align: middle;\n",
       "    }\n",
       "\n",
       "    .dataframe tbody tr th {\n",
       "        vertical-align: top;\n",
       "    }\n",
       "\n",
       "    .dataframe thead th {\n",
       "        text-align: right;\n",
       "    }\n",
       "</style>\n",
       "<table border=\"1\" class=\"dataframe\">\n",
       "  <thead>\n",
       "    <tr style=\"text-align: right;\">\n",
       "      <th></th>\n",
       "      <th>RMSE</th>\n",
       "      <th>RMSE on CV</th>\n",
       "      <th>trainig_time, сек</th>\n",
       "      <th>predict_time, сек</th>\n",
       "    </tr>\n",
       "  </thead>\n",
       "  <tbody>\n",
       "    <tr>\n",
       "      <th>Ridge</th>\n",
       "      <td>2016.875829</td>\n",
       "      <td>2043.491043</td>\n",
       "      <td>45.1</td>\n",
       "      <td>0.436</td>\n",
       "    </tr>\n",
       "    <tr>\n",
       "      <th>CatBoost</th>\n",
       "      <td>1661.540885</td>\n",
       "      <td>1716.818001</td>\n",
       "      <td>1297.0</td>\n",
       "      <td>0.428</td>\n",
       "    </tr>\n",
       "    <tr>\n",
       "      <th>LightGBM</th>\n",
       "      <td>1663.178390</td>\n",
       "      <td>1712.799091</td>\n",
       "      <td>24864.0</td>\n",
       "      <td>1.350</td>\n",
       "    </tr>\n",
       "  </tbody>\n",
       "</table>\n",
       "</div>"
      ],
      "text/plain": [
       "                 RMSE   RMSE on CV  trainig_time, сек  predict_time, сек\n",
       "Ridge     2016.875829  2043.491043               45.1              0.436\n",
       "CatBoost  1661.540885  1716.818001             1297.0              0.428\n",
       "LightGBM  1663.178390  1712.799091            24864.0              1.350"
      ]
     },
     "metadata": {},
     "output_type": "display_data"
    }
   ],
   "source": [
    "# добавим данные по скорости\n",
    "\n",
    "our_models[\"trainig_time, сек\"] = [45.1, 1297, 24864]\n",
    "our_models[\"predict_time, сек\"] = [0.436, 0.428, 1.35]\n",
    "\n",
    "display(our_models)"
   ]
  },
  {
   "cell_type": "markdown",
   "metadata": {},
   "source": [
    "# Вывод:\n",
    "\n",
    "Лучший RMSE on CV у модели LightGBMб,почти такой же у CatBoost, лучшее время обучения - у модели Ridge. LightGBM  очень долго обучается. У модели CatBoost лучшее время предсказания."
   ]
  },
  {
   "cell_type": "markdown",
   "metadata": {},
   "source": [
    "## Тестирование лучшей модели"
   ]
  },
  {
   "cell_type": "markdown",
   "metadata": {},
   "source": [
    "Проверим время предсказания и RMSE нашей лучшей модели на тестовой выборке"
   ]
  },
  {
   "cell_type": "code",
   "execution_count": 51,
   "metadata": {},
   "outputs": [
    {
     "name": "stdout",
     "output_type": "stream",
     "text": [
      "CPU times: user 101 ms, sys: 4.02 ms, total: 105 ms\n",
      "Wall time: 159 ms\n"
     ]
    }
   ],
   "source": [
    "%%time\n",
    "\n",
    "predictions_cbr_test = grid_cbr.best_estimator_.predict(X_test)"
   ]
  },
  {
   "cell_type": "code",
   "execution_count": 52,
   "metadata": {},
   "outputs": [
    {
     "data": {
      "text/plain": [
       "1727.563443511245"
      ]
     },
     "execution_count": 52,
     "metadata": {},
     "output_type": "execute_result"
    }
   ],
   "source": [
    "sqrt(mse(y_test, predictions_cbr_test)) "
   ]
  },
  {
   "cell_type": "markdown",
   "metadata": {},
   "source": [
    "# Вывод:\n",
    "время предсказания небольшое, RMSE меньше 2500. Выбранная модель соответствует условиям нашей задачи."
   ]
  },
  {
   "cell_type": "markdown",
   "metadata": {},
   "source": [
    "# Общий вывод:\n",
    "\n",
    "Мы разработали модель наиболее качественного и быстрого расчета стоимости автомобилей на основе исторических данных о технических характеристиках, комплектации и ценах автомобилей.\n",
    "\n",
    "Для этого мы рассмотрели исторические данные, внесли в них необходимые для сокращения используемой памяти и корректности дальнейшего обучения моделей изменения.\n",
    "Затем мы обучили и проанализировали качество и скорость обучения и предсказаний моделей Ridge, CatBoost, LightGBM.\n",
    "По соотношению скорости и качества лидирует модель CatBoost. Проверили ее на тестовой выборке, что подтвердило наши выводы.\n",
    "\n",
    "Основываясь на полученных результатах, предложим заказчику модель CatBoost, которая выдает наименьшую ошибку и приемлемое, хоть и не самое лучшее время обучения и предсказаний."
   ]
  }
 ],
 "metadata": {
  "ExecuteTimeLog": [
   {
    "duration": 1773,
    "start_time": "2023-05-17T11:24:19.255Z"
   },
   {
    "duration": 3426,
    "start_time": "2023-05-17T11:27:45.888Z"
   },
   {
    "duration": 124,
    "start_time": "2023-05-17T11:31:47.162Z"
   },
   {
    "duration": 126,
    "start_time": "2023-05-17T11:39:14.584Z"
   },
   {
    "duration": 31,
    "start_time": "2023-05-17T11:44:30.328Z"
   },
   {
    "duration": 162,
    "start_time": "2023-05-17T11:44:38.410Z"
   },
   {
    "duration": 22,
    "start_time": "2023-05-17T11:46:32.298Z"
   },
   {
    "duration": 85,
    "start_time": "2023-05-17T11:48:23.850Z"
   },
   {
    "duration": 21,
    "start_time": "2023-05-17T11:48:27.508Z"
   },
   {
    "duration": 16,
    "start_time": "2023-05-17T11:49:46.508Z"
   },
   {
    "duration": 16,
    "start_time": "2023-05-17T11:50:05.394Z"
   },
   {
    "duration": 13,
    "start_time": "2023-05-17T11:50:36.194Z"
   },
   {
    "duration": 15,
    "start_time": "2023-05-17T11:52:06.939Z"
   },
   {
    "duration": 1580,
    "start_time": "2023-05-17T11:52:14.594Z"
   },
   {
    "duration": 935,
    "start_time": "2023-05-17T11:52:16.177Z"
   },
   {
    "duration": 130,
    "start_time": "2023-05-17T11:52:17.114Z"
   },
   {
    "duration": 38,
    "start_time": "2023-05-17T11:52:17.246Z"
   },
   {
    "duration": 170,
    "start_time": "2023-05-17T11:52:44.174Z"
   },
   {
    "duration": 10,
    "start_time": "2023-05-17T11:53:13.246Z"
   },
   {
    "duration": 140,
    "start_time": "2023-05-17T11:53:31.447Z"
   },
   {
    "duration": 1827,
    "start_time": "2023-05-17T11:54:02.881Z"
   },
   {
    "duration": 1019,
    "start_time": "2023-05-17T11:54:04.710Z"
   },
   {
    "duration": 164,
    "start_time": "2023-05-17T11:54:05.731Z"
   },
   {
    "duration": 33,
    "start_time": "2023-05-17T11:54:05.898Z"
   },
   {
    "duration": 122,
    "start_time": "2023-05-17T11:54:05.934Z"
   },
   {
    "duration": 193,
    "start_time": "2023-05-17T12:01:13.720Z"
   },
   {
    "duration": 171,
    "start_time": "2023-05-17T12:01:30.552Z"
   },
   {
    "duration": 251,
    "start_time": "2023-05-17T12:02:05.857Z"
   },
   {
    "duration": 228,
    "start_time": "2023-05-17T12:03:13.010Z"
   },
   {
    "duration": 77,
    "start_time": "2023-05-17T12:04:12.646Z"
   },
   {
    "duration": 421,
    "start_time": "2023-05-17T12:17:13.531Z"
   },
   {
    "duration": 348,
    "start_time": "2023-05-17T12:18:05.938Z"
   },
   {
    "duration": 86,
    "start_time": "2023-05-17T12:23:51.837Z"
   },
   {
    "duration": 186,
    "start_time": "2023-05-17T12:24:19.407Z"
   },
   {
    "duration": 173,
    "start_time": "2023-05-17T12:42:10.055Z"
   },
   {
    "duration": 498,
    "start_time": "2023-05-17T12:46:35.106Z"
   },
   {
    "duration": 220,
    "start_time": "2023-05-17T12:48:46.626Z"
   },
   {
    "duration": 278,
    "start_time": "2023-05-17T12:49:44.108Z"
   },
   {
    "duration": 228,
    "start_time": "2023-05-17T12:49:55.812Z"
   },
   {
    "duration": 138,
    "start_time": "2023-05-17T12:51:49.254Z"
   },
   {
    "duration": 71,
    "start_time": "2023-05-17T12:53:00.327Z"
   },
   {
    "duration": 134,
    "start_time": "2023-05-17T12:53:06.077Z"
   },
   {
    "duration": 14,
    "start_time": "2023-05-17T12:54:50.027Z"
   },
   {
    "duration": 104,
    "start_time": "2023-05-17T13:04:38.490Z"
   },
   {
    "duration": 38,
    "start_time": "2023-05-17T13:04:46.021Z"
   },
   {
    "duration": 44,
    "start_time": "2023-05-17T13:05:00.101Z"
   },
   {
    "duration": 38,
    "start_time": "2023-05-17T13:06:21.460Z"
   },
   {
    "duration": 115,
    "start_time": "2023-05-17T13:11:29.029Z"
   },
   {
    "duration": 115,
    "start_time": "2023-05-17T13:11:56.212Z"
   },
   {
    "duration": 132,
    "start_time": "2023-05-17T13:12:42.712Z"
   },
   {
    "duration": 77,
    "start_time": "2023-05-17T13:12:59.943Z"
   },
   {
    "duration": 37,
    "start_time": "2023-05-17T13:13:43.500Z"
   },
   {
    "duration": 51,
    "start_time": "2023-05-17T13:14:08.096Z"
   },
   {
    "duration": 76,
    "start_time": "2023-05-17T13:14:23.648Z"
   },
   {
    "duration": 34,
    "start_time": "2023-05-17T13:14:52.700Z"
   },
   {
    "duration": 200,
    "start_time": "2023-05-17T13:19:08.196Z"
   },
   {
    "duration": 197,
    "start_time": "2023-05-17T13:19:44.056Z"
   },
   {
    "duration": 72,
    "start_time": "2023-05-17T13:19:46.637Z"
   },
   {
    "duration": 184,
    "start_time": "2023-05-17T13:20:14.673Z"
   },
   {
    "duration": 66,
    "start_time": "2023-05-17T13:20:18.694Z"
   },
   {
    "duration": 1465,
    "start_time": "2023-05-17T13:20:50.452Z"
   },
   {
    "duration": 867,
    "start_time": "2023-05-17T13:20:51.919Z"
   },
   {
    "duration": 121,
    "start_time": "2023-05-17T13:20:52.794Z"
   },
   {
    "duration": 26,
    "start_time": "2023-05-17T13:20:52.918Z"
   },
   {
    "duration": 99,
    "start_time": "2023-05-17T13:20:52.946Z"
   },
   {
    "duration": 76,
    "start_time": "2023-05-17T13:20:53.046Z"
   },
   {
    "duration": 181,
    "start_time": "2023-05-17T13:20:53.123Z"
   },
   {
    "duration": 203,
    "start_time": "2023-05-17T13:20:53.307Z"
   },
   {
    "duration": 418,
    "start_time": "2023-05-17T13:20:53.512Z"
   },
   {
    "duration": 73,
    "start_time": "2023-05-17T13:20:53.933Z"
   },
   {
    "duration": 10,
    "start_time": "2023-05-17T13:20:54.007Z"
   },
   {
    "duration": 30,
    "start_time": "2023-05-17T13:20:54.018Z"
   },
   {
    "duration": 232,
    "start_time": "2023-05-17T13:20:54.050Z"
   },
   {
    "duration": 67,
    "start_time": "2023-05-17T13:20:54.285Z"
   },
   {
    "duration": 215,
    "start_time": "2023-05-17T13:26:15.496Z"
   },
   {
    "duration": 68,
    "start_time": "2023-05-17T13:26:19.416Z"
   },
   {
    "duration": 175,
    "start_time": "2023-05-17T13:29:58.065Z"
   },
   {
    "duration": 169,
    "start_time": "2023-05-17T13:30:13.537Z"
   },
   {
    "duration": 68,
    "start_time": "2023-05-17T13:30:14.066Z"
   },
   {
    "duration": 212,
    "start_time": "2023-05-17T13:31:40.697Z"
   },
   {
    "duration": 71,
    "start_time": "2023-05-17T13:31:41.064Z"
   },
   {
    "duration": 1522,
    "start_time": "2023-05-17T13:31:54.687Z"
   },
   {
    "duration": 881,
    "start_time": "2023-05-17T13:31:56.212Z"
   },
   {
    "duration": 148,
    "start_time": "2023-05-17T13:31:57.095Z"
   },
   {
    "duration": 43,
    "start_time": "2023-05-17T13:31:57.245Z"
   },
   {
    "duration": 95,
    "start_time": "2023-05-17T13:31:57.291Z"
   },
   {
    "duration": 76,
    "start_time": "2023-05-17T13:31:57.388Z"
   },
   {
    "duration": 272,
    "start_time": "2023-05-17T13:31:57.466Z"
   },
   {
    "duration": 272,
    "start_time": "2023-05-17T13:31:57.740Z"
   },
   {
    "duration": 412,
    "start_time": "2023-05-17T13:31:58.014Z"
   },
   {
    "duration": 84,
    "start_time": "2023-05-17T13:31:58.428Z"
   },
   {
    "duration": 9,
    "start_time": "2023-05-17T13:31:58.513Z"
   },
   {
    "duration": 37,
    "start_time": "2023-05-17T13:31:58.523Z"
   },
   {
    "duration": 209,
    "start_time": "2023-05-17T13:31:58.562Z"
   },
   {
    "duration": 76,
    "start_time": "2023-05-17T13:31:58.773Z"
   },
   {
    "duration": 1130,
    "start_time": "2023-05-17T13:57:20.422Z"
   },
   {
    "duration": 987,
    "start_time": "2023-05-17T14:02:32.204Z"
   },
   {
    "duration": 15,
    "start_time": "2023-05-17T14:04:34.004Z"
   },
   {
    "duration": 989,
    "start_time": "2023-05-17T14:05:34.089Z"
   },
   {
    "duration": 1022,
    "start_time": "2023-05-17T14:05:55.192Z"
   },
   {
    "duration": 627,
    "start_time": "2023-05-17T14:06:52.331Z"
   },
   {
    "duration": 15,
    "start_time": "2023-05-17T14:13:04.455Z"
   },
   {
    "duration": 17,
    "start_time": "2023-05-17T14:15:50.364Z"
   },
   {
    "duration": 1550,
    "start_time": "2023-05-17T14:22:55.381Z"
   },
   {
    "duration": 996,
    "start_time": "2023-05-17T14:22:56.933Z"
   },
   {
    "duration": 132,
    "start_time": "2023-05-17T14:22:57.931Z"
   },
   {
    "duration": 31,
    "start_time": "2023-05-17T14:22:58.065Z"
   },
   {
    "duration": 154,
    "start_time": "2023-05-17T14:22:58.100Z"
   },
   {
    "duration": 77,
    "start_time": "2023-05-17T14:22:58.256Z"
   },
   {
    "duration": 182,
    "start_time": "2023-05-17T14:22:58.335Z"
   },
   {
    "duration": 197,
    "start_time": "2023-05-17T14:22:58.520Z"
   },
   {
    "duration": 376,
    "start_time": "2023-05-17T14:22:58.719Z"
   },
   {
    "duration": 67,
    "start_time": "2023-05-17T14:22:59.097Z"
   },
   {
    "duration": 19,
    "start_time": "2023-05-17T14:22:59.165Z"
   },
   {
    "duration": 41,
    "start_time": "2023-05-17T14:22:59.185Z"
   },
   {
    "duration": 195,
    "start_time": "2023-05-17T14:22:59.227Z"
   },
   {
    "duration": 81,
    "start_time": "2023-05-17T14:22:59.424Z"
   },
   {
    "duration": 1022,
    "start_time": "2023-05-17T14:22:59.507Z"
   },
   {
    "duration": 627,
    "start_time": "2023-05-17T14:23:00.531Z"
   },
   {
    "duration": 1468,
    "start_time": "2023-05-17T14:39:00.747Z"
   },
   {
    "duration": 848,
    "start_time": "2023-05-17T14:39:02.218Z"
   },
   {
    "duration": 118,
    "start_time": "2023-05-17T14:39:03.068Z"
   },
   {
    "duration": 27,
    "start_time": "2023-05-17T14:39:03.187Z"
   },
   {
    "duration": 117,
    "start_time": "2023-05-17T14:39:03.216Z"
   },
   {
    "duration": 80,
    "start_time": "2023-05-17T14:39:03.335Z"
   },
   {
    "duration": 182,
    "start_time": "2023-05-17T14:39:03.417Z"
   },
   {
    "duration": 192,
    "start_time": "2023-05-17T14:39:03.601Z"
   },
   {
    "duration": 376,
    "start_time": "2023-05-17T14:39:03.795Z"
   },
   {
    "duration": 72,
    "start_time": "2023-05-17T14:39:04.177Z"
   },
   {
    "duration": 12,
    "start_time": "2023-05-17T14:39:04.251Z"
   },
   {
    "duration": 35,
    "start_time": "2023-05-17T14:39:04.279Z"
   },
   {
    "duration": 229,
    "start_time": "2023-05-17T14:39:04.315Z"
   },
   {
    "duration": 80,
    "start_time": "2023-05-17T14:39:04.547Z"
   },
   {
    "duration": 1149,
    "start_time": "2023-05-17T14:39:04.630Z"
   },
   {
    "duration": 633,
    "start_time": "2023-05-17T14:39:05.781Z"
   },
   {
    "duration": 1517,
    "start_time": "2023-05-17T14:51:42.541Z"
   },
   {
    "duration": 872,
    "start_time": "2023-05-17T14:51:44.060Z"
   },
   {
    "duration": 128,
    "start_time": "2023-05-17T14:51:44.934Z"
   },
   {
    "duration": 33,
    "start_time": "2023-05-17T14:51:45.063Z"
   },
   {
    "duration": 85,
    "start_time": "2023-05-17T14:51:45.099Z"
   },
   {
    "duration": 72,
    "start_time": "2023-05-17T14:51:45.186Z"
   },
   {
    "duration": 229,
    "start_time": "2023-05-17T14:51:45.260Z"
   },
   {
    "duration": 220,
    "start_time": "2023-05-17T14:51:45.491Z"
   },
   {
    "duration": 417,
    "start_time": "2023-05-17T14:51:45.713Z"
   },
   {
    "duration": 94,
    "start_time": "2023-05-17T14:51:46.132Z"
   },
   {
    "duration": 9,
    "start_time": "2023-05-17T14:51:46.228Z"
   },
   {
    "duration": 56,
    "start_time": "2023-05-17T14:51:46.239Z"
   },
   {
    "duration": 216,
    "start_time": "2023-05-17T14:51:46.298Z"
   },
   {
    "duration": 75,
    "start_time": "2023-05-17T14:51:46.516Z"
   },
   {
    "duration": 973,
    "start_time": "2023-05-17T14:51:46.593Z"
   },
   {
    "duration": 708,
    "start_time": "2023-05-17T14:51:47.568Z"
   },
   {
    "duration": 452,
    "start_time": "2023-05-17T14:51:48.279Z"
   },
   {
    "duration": 1596,
    "start_time": "2023-05-17T14:57:39.897Z"
   },
   {
    "duration": 0,
    "start_time": "2023-05-17T14:57:41.497Z"
   },
   {
    "duration": 0,
    "start_time": "2023-05-17T14:57:41.499Z"
   },
   {
    "duration": 0,
    "start_time": "2023-05-17T14:57:41.500Z"
   },
   {
    "duration": 0,
    "start_time": "2023-05-17T14:57:41.501Z"
   },
   {
    "duration": 0,
    "start_time": "2023-05-17T14:57:41.502Z"
   },
   {
    "duration": 0,
    "start_time": "2023-05-17T14:57:41.504Z"
   },
   {
    "duration": 0,
    "start_time": "2023-05-17T14:57:41.505Z"
   },
   {
    "duration": 0,
    "start_time": "2023-05-17T14:57:41.506Z"
   },
   {
    "duration": 0,
    "start_time": "2023-05-17T14:57:41.508Z"
   },
   {
    "duration": 0,
    "start_time": "2023-05-17T14:57:41.509Z"
   },
   {
    "duration": 0,
    "start_time": "2023-05-17T14:57:41.510Z"
   },
   {
    "duration": 0,
    "start_time": "2023-05-17T14:57:41.511Z"
   },
   {
    "duration": 0,
    "start_time": "2023-05-17T14:57:41.513Z"
   },
   {
    "duration": 0,
    "start_time": "2023-05-17T14:57:41.515Z"
   },
   {
    "duration": 0,
    "start_time": "2023-05-17T14:57:41.517Z"
   },
   {
    "duration": 0,
    "start_time": "2023-05-17T14:57:41.518Z"
   },
   {
    "duration": 87,
    "start_time": "2023-05-17T14:59:49.848Z"
   },
   {
    "duration": 97,
    "start_time": "2023-05-17T15:00:10.912Z"
   },
   {
    "duration": 1450,
    "start_time": "2023-05-17T15:00:27.943Z"
   },
   {
    "duration": 814,
    "start_time": "2023-05-17T15:00:29.395Z"
   },
   {
    "duration": 118,
    "start_time": "2023-05-17T15:00:30.211Z"
   },
   {
    "duration": 40,
    "start_time": "2023-05-17T15:00:30.331Z"
   },
   {
    "duration": 140,
    "start_time": "2023-05-17T15:00:30.374Z"
   },
   {
    "duration": 130,
    "start_time": "2023-05-17T15:00:30.516Z"
   },
   {
    "duration": 191,
    "start_time": "2023-05-17T15:00:30.647Z"
   },
   {
    "duration": 176,
    "start_time": "2023-05-17T15:00:30.840Z"
   },
   {
    "duration": 385,
    "start_time": "2023-05-17T15:00:31.018Z"
   },
   {
    "duration": 82,
    "start_time": "2023-05-17T15:00:31.405Z"
   },
   {
    "duration": 8,
    "start_time": "2023-05-17T15:00:31.489Z"
   },
   {
    "duration": 46,
    "start_time": "2023-05-17T15:00:31.499Z"
   },
   {
    "duration": 238,
    "start_time": "2023-05-17T15:00:31.547Z"
   },
   {
    "duration": 67,
    "start_time": "2023-05-17T15:00:31.788Z"
   },
   {
    "duration": 1008,
    "start_time": "2023-05-17T15:00:31.857Z"
   },
   {
    "duration": 671,
    "start_time": "2023-05-17T15:00:32.867Z"
   },
   {
    "duration": 1492,
    "start_time": "2023-05-17T15:14:32.927Z"
   },
   {
    "duration": 897,
    "start_time": "2023-05-17T15:14:34.421Z"
   },
   {
    "duration": 123,
    "start_time": "2023-05-17T15:14:35.321Z"
   },
   {
    "duration": 38,
    "start_time": "2023-05-17T15:14:35.446Z"
   },
   {
    "duration": 87,
    "start_time": "2023-05-17T15:14:35.492Z"
   },
   {
    "duration": 83,
    "start_time": "2023-05-17T15:14:35.580Z"
   },
   {
    "duration": 221,
    "start_time": "2023-05-17T15:14:35.665Z"
   },
   {
    "duration": 177,
    "start_time": "2023-05-17T15:14:35.887Z"
   },
   {
    "duration": 360,
    "start_time": "2023-05-17T15:14:36.065Z"
   },
   {
    "duration": 76,
    "start_time": "2023-05-17T15:14:36.426Z"
   },
   {
    "duration": 8,
    "start_time": "2023-05-17T15:14:36.503Z"
   },
   {
    "duration": 52,
    "start_time": "2023-05-17T15:14:36.513Z"
   },
   {
    "duration": 206,
    "start_time": "2023-05-17T15:14:36.567Z"
   },
   {
    "duration": 67,
    "start_time": "2023-05-17T15:14:36.775Z"
   },
   {
    "duration": 106,
    "start_time": "2023-05-17T15:14:36.844Z"
   },
   {
    "duration": 119,
    "start_time": "2023-05-17T15:15:19.193Z"
   },
   {
    "duration": 1584,
    "start_time": "2023-05-17T15:16:45.558Z"
   },
   {
    "duration": 995,
    "start_time": "2023-05-17T15:16:47.144Z"
   },
   {
    "duration": 119,
    "start_time": "2023-05-17T15:16:48.141Z"
   },
   {
    "duration": 38,
    "start_time": "2023-05-17T15:16:48.261Z"
   },
   {
    "duration": 84,
    "start_time": "2023-05-17T15:16:48.301Z"
   },
   {
    "duration": 79,
    "start_time": "2023-05-17T15:16:48.387Z"
   },
   {
    "duration": 242,
    "start_time": "2023-05-17T15:16:48.468Z"
   },
   {
    "duration": 200,
    "start_time": "2023-05-17T15:16:48.712Z"
   },
   {
    "duration": 474,
    "start_time": "2023-05-17T15:16:48.913Z"
   },
   {
    "duration": 72,
    "start_time": "2023-05-17T15:16:49.394Z"
   },
   {
    "duration": 23,
    "start_time": "2023-05-17T15:16:49.468Z"
   },
   {
    "duration": 33,
    "start_time": "2023-05-17T15:16:49.492Z"
   },
   {
    "duration": 231,
    "start_time": "2023-05-17T15:16:49.527Z"
   },
   {
    "duration": 77,
    "start_time": "2023-05-17T15:16:49.761Z"
   },
   {
    "duration": 99,
    "start_time": "2023-05-17T15:16:49.839Z"
   },
   {
    "duration": 2,
    "start_time": "2023-05-17T15:16:49.940Z"
   },
   {
    "duration": 3,
    "start_time": "2023-05-17T15:16:53.119Z"
   },
   {
    "duration": 4,
    "start_time": "2023-05-17T15:18:11.917Z"
   },
   {
    "duration": 122,
    "start_time": "2023-05-17T15:18:36.310Z"
   },
   {
    "duration": 4,
    "start_time": "2023-05-17T15:19:55.392Z"
   },
   {
    "duration": 4,
    "start_time": "2023-05-17T15:20:08.847Z"
   },
   {
    "duration": 5081,
    "start_time": "2023-05-17T15:20:42.211Z"
   },
   {
    "duration": 6,
    "start_time": "2023-05-17T15:21:08.997Z"
   },
   {
    "duration": 5,
    "start_time": "2023-05-17T15:21:10.349Z"
   },
   {
    "duration": 1510,
    "start_time": "2023-05-17T15:25:41.609Z"
   },
   {
    "duration": 901,
    "start_time": "2023-05-17T15:25:43.121Z"
   },
   {
    "duration": 141,
    "start_time": "2023-05-17T15:25:44.024Z"
   },
   {
    "duration": 37,
    "start_time": "2023-05-17T15:25:44.167Z"
   },
   {
    "duration": 92,
    "start_time": "2023-05-17T15:25:44.206Z"
   },
   {
    "duration": 97,
    "start_time": "2023-05-17T15:25:44.300Z"
   },
   {
    "duration": 173,
    "start_time": "2023-05-17T15:25:44.398Z"
   },
   {
    "duration": 203,
    "start_time": "2023-05-17T15:25:44.573Z"
   },
   {
    "duration": 444,
    "start_time": "2023-05-17T15:25:44.780Z"
   },
   {
    "duration": 86,
    "start_time": "2023-05-17T15:25:45.226Z"
   },
   {
    "duration": 10,
    "start_time": "2023-05-17T15:25:45.313Z"
   },
   {
    "duration": 70,
    "start_time": "2023-05-17T15:25:45.324Z"
   },
   {
    "duration": 255,
    "start_time": "2023-05-17T15:25:45.396Z"
   },
   {
    "duration": 81,
    "start_time": "2023-05-17T15:25:45.655Z"
   },
   {
    "duration": 120,
    "start_time": "2023-05-17T15:25:45.738Z"
   },
   {
    "duration": 9,
    "start_time": "2023-05-17T15:25:45.860Z"
   },
   {
    "duration": 7,
    "start_time": "2023-05-17T15:25:45.877Z"
   },
   {
    "duration": 151,
    "start_time": "2023-05-17T15:25:45.886Z"
   },
   {
    "duration": 0,
    "start_time": "2023-05-17T15:25:46.039Z"
   },
   {
    "duration": 1454,
    "start_time": "2023-05-17T15:26:31.313Z"
   },
   {
    "duration": 875,
    "start_time": "2023-05-17T15:26:32.769Z"
   },
   {
    "duration": 126,
    "start_time": "2023-05-17T15:26:33.645Z"
   },
   {
    "duration": 35,
    "start_time": "2023-05-17T15:26:33.772Z"
   },
   {
    "duration": 80,
    "start_time": "2023-05-17T15:26:33.809Z"
   },
   {
    "duration": 71,
    "start_time": "2023-05-17T15:26:33.890Z"
   },
   {
    "duration": 198,
    "start_time": "2023-05-17T15:26:33.963Z"
   },
   {
    "duration": 202,
    "start_time": "2023-05-17T15:26:34.163Z"
   },
   {
    "duration": 431,
    "start_time": "2023-05-17T15:26:34.367Z"
   },
   {
    "duration": 91,
    "start_time": "2023-05-17T15:26:34.800Z"
   },
   {
    "duration": 9,
    "start_time": "2023-05-17T15:26:34.894Z"
   },
   {
    "duration": 40,
    "start_time": "2023-05-17T15:26:34.905Z"
   },
   {
    "duration": 234,
    "start_time": "2023-05-17T15:26:34.947Z"
   },
   {
    "duration": 69,
    "start_time": "2023-05-17T15:26:35.192Z"
   },
   {
    "duration": 106,
    "start_time": "2023-05-17T15:26:35.263Z"
   },
   {
    "duration": 3,
    "start_time": "2023-05-17T15:26:35.371Z"
   },
   {
    "duration": 16,
    "start_time": "2023-05-17T15:26:35.378Z"
   },
   {
    "duration": 16,
    "start_time": "2023-05-17T15:26:35.397Z"
   },
   {
    "duration": 13,
    "start_time": "2023-05-17T15:26:35.415Z"
   },
   {
    "duration": 3,
    "start_time": "2023-05-17T15:27:01.101Z"
   },
   {
    "duration": 247,
    "start_time": "2023-05-17T15:27:19.327Z"
   },
   {
    "duration": 1532,
    "start_time": "2023-05-17T15:31:36.400Z"
   },
   {
    "duration": 866,
    "start_time": "2023-05-17T15:31:37.934Z"
   },
   {
    "duration": 130,
    "start_time": "2023-05-17T15:31:38.802Z"
   },
   {
    "duration": 26,
    "start_time": "2023-05-17T15:31:38.934Z"
   },
   {
    "duration": 90,
    "start_time": "2023-05-17T15:31:38.962Z"
   },
   {
    "duration": 85,
    "start_time": "2023-05-17T15:31:39.054Z"
   },
   {
    "duration": 193,
    "start_time": "2023-05-17T15:31:39.141Z"
   },
   {
    "duration": 198,
    "start_time": "2023-05-17T15:31:39.336Z"
   },
   {
    "duration": 417,
    "start_time": "2023-05-17T15:31:39.536Z"
   },
   {
    "duration": 81,
    "start_time": "2023-05-17T15:31:39.956Z"
   },
   {
    "duration": 8,
    "start_time": "2023-05-17T15:31:40.039Z"
   },
   {
    "duration": 51,
    "start_time": "2023-05-17T15:31:40.048Z"
   },
   {
    "duration": 247,
    "start_time": "2023-05-17T15:31:40.101Z"
   },
   {
    "duration": 84,
    "start_time": "2023-05-17T15:31:40.350Z"
   },
   {
    "duration": 119,
    "start_time": "2023-05-17T15:31:40.435Z"
   },
   {
    "duration": 4,
    "start_time": "2023-05-17T15:31:40.556Z"
   },
   {
    "duration": 20,
    "start_time": "2023-05-17T15:31:40.562Z"
   },
   {
    "duration": 10,
    "start_time": "2023-05-17T15:31:40.591Z"
   },
   {
    "duration": 4,
    "start_time": "2023-05-17T15:31:40.604Z"
   },
   {
    "duration": 41636,
    "start_time": "2023-05-17T15:31:40.610Z"
   },
   {
    "duration": 3,
    "start_time": "2023-05-17T15:32:22.248Z"
   },
   {
    "duration": 4,
    "start_time": "2023-05-17T15:33:04.035Z"
   },
   {
    "duration": 384,
    "start_time": "2023-05-17T15:35:44.309Z"
   },
   {
    "duration": 1649,
    "start_time": "2023-05-17T16:14:00.737Z"
   },
   {
    "duration": 952,
    "start_time": "2023-05-17T16:14:02.390Z"
   },
   {
    "duration": 172,
    "start_time": "2023-05-17T16:14:03.344Z"
   },
   {
    "duration": 30,
    "start_time": "2023-05-17T16:14:03.518Z"
   },
   {
    "duration": 95,
    "start_time": "2023-05-17T16:14:03.550Z"
   },
   {
    "duration": 83,
    "start_time": "2023-05-17T16:14:03.647Z"
   },
   {
    "duration": 201,
    "start_time": "2023-05-17T16:14:03.732Z"
   },
   {
    "duration": 213,
    "start_time": "2023-05-17T16:14:03.935Z"
   },
   {
    "duration": 466,
    "start_time": "2023-05-17T16:14:04.149Z"
   },
   {
    "duration": 92,
    "start_time": "2023-05-17T16:14:04.616Z"
   },
   {
    "duration": 10,
    "start_time": "2023-05-17T16:14:04.710Z"
   },
   {
    "duration": 41,
    "start_time": "2023-05-17T16:14:04.721Z"
   },
   {
    "duration": 244,
    "start_time": "2023-05-17T16:14:04.779Z"
   },
   {
    "duration": 86,
    "start_time": "2023-05-17T16:14:05.026Z"
   },
   {
    "duration": 103,
    "start_time": "2023-05-17T16:14:05.114Z"
   },
   {
    "duration": 4,
    "start_time": "2023-05-17T16:14:05.219Z"
   },
   {
    "duration": 10,
    "start_time": "2023-05-17T16:14:05.225Z"
   },
   {
    "duration": 7,
    "start_time": "2023-05-17T16:14:05.237Z"
   },
   {
    "duration": 18,
    "start_time": "2023-05-17T16:14:05.246Z"
   },
   {
    "duration": 42636,
    "start_time": "2023-05-17T16:14:05.266Z"
   },
   {
    "duration": 4,
    "start_time": "2023-05-17T16:14:47.904Z"
   },
   {
    "duration": 401,
    "start_time": "2023-05-17T16:14:47.910Z"
   },
   {
    "duration": 1528,
    "start_time": "2023-05-17T16:59:54.492Z"
   },
   {
    "duration": 928,
    "start_time": "2023-05-17T16:59:56.022Z"
   },
   {
    "duration": 147,
    "start_time": "2023-05-17T16:59:56.952Z"
   },
   {
    "duration": 30,
    "start_time": "2023-05-17T16:59:57.101Z"
   },
   {
    "duration": 103,
    "start_time": "2023-05-17T16:59:57.134Z"
   },
   {
    "duration": 88,
    "start_time": "2023-05-17T16:59:57.239Z"
   },
   {
    "duration": 205,
    "start_time": "2023-05-17T16:59:57.328Z"
   },
   {
    "duration": 208,
    "start_time": "2023-05-17T16:59:57.535Z"
   },
   {
    "duration": 454,
    "start_time": "2023-05-17T16:59:57.745Z"
   },
   {
    "duration": 65,
    "start_time": "2023-05-17T16:59:58.200Z"
   },
   {
    "duration": 19,
    "start_time": "2023-05-17T16:59:58.266Z"
   },
   {
    "duration": 45,
    "start_time": "2023-05-17T16:59:58.292Z"
   },
   {
    "duration": 229,
    "start_time": "2023-05-17T16:59:58.339Z"
   },
   {
    "duration": 68,
    "start_time": "2023-05-17T16:59:58.572Z"
   },
   {
    "duration": 103,
    "start_time": "2023-05-17T16:59:58.642Z"
   },
   {
    "duration": 3,
    "start_time": "2023-05-17T16:59:58.747Z"
   },
   {
    "duration": 4,
    "start_time": "2023-05-17T16:59:58.752Z"
   },
   {
    "duration": 26,
    "start_time": "2023-05-17T16:59:58.758Z"
   },
   {
    "duration": 7,
    "start_time": "2023-05-17T16:59:58.785Z"
   },
   {
    "duration": 45102,
    "start_time": "2023-05-17T16:59:58.794Z"
   },
   {
    "duration": 6,
    "start_time": "2023-05-17T17:00:43.901Z"
   },
   {
    "duration": 403,
    "start_time": "2023-05-17T17:00:43.909Z"
   },
   {
    "duration": 24820781,
    "start_time": "2023-05-17T17:00:44.314Z"
   },
   {
    "duration": 4,
    "start_time": "2023-05-17T23:54:25.097Z"
   },
   {
    "duration": 5,
    "start_time": "2023-05-17T23:54:25.103Z"
   },
   {
    "duration": 1121489,
    "start_time": "2023-05-17T23:54:25.178Z"
   },
   {
    "duration": 4,
    "start_time": "2023-05-18T00:13:06.668Z"
   },
   {
    "duration": 397820,
    "start_time": "2023-05-18T00:13:06.673Z"
   },
   {
    "duration": 5,
    "start_time": "2023-05-18T03:10:05.697Z"
   },
   {
    "duration": 5,
    "start_time": "2023-05-18T03:12:42.737Z"
   },
   {
    "duration": 738,
    "start_time": "2023-05-18T03:12:51.209Z"
   },
   {
    "duration": 4,
    "start_time": "2023-05-18T03:14:04.931Z"
   },
   {
    "duration": 414828,
    "start_time": "2023-05-18T03:20:59.578Z"
   },
   {
    "duration": 4,
    "start_time": "2023-05-18T03:36:25.310Z"
   },
   {
    "duration": 408964,
    "start_time": "2023-05-18T03:37:02.343Z"
   },
   {
    "duration": 15218,
    "start_time": "2023-05-18T04:40:23.568Z"
   },
   {
    "duration": 109,
    "start_time": "2023-05-18T04:46:16.578Z"
   },
   {
    "duration": 99,
    "start_time": "2023-05-18T04:47:07.091Z"
   },
   {
    "duration": 103,
    "start_time": "2023-05-18T04:47:12.530Z"
   },
   {
    "duration": 105,
    "start_time": "2023-05-18T04:52:04.057Z"
   },
   {
    "duration": 89,
    "start_time": "2023-05-18T04:53:10.598Z"
   },
   {
    "duration": 113,
    "start_time": "2023-05-18T04:53:24.646Z"
   },
   {
    "duration": 46,
    "start_time": "2023-05-18T04:54:08.911Z"
   },
   {
    "duration": 4,
    "start_time": "2023-05-18T04:54:14.566Z"
   },
   {
    "duration": 114,
    "start_time": "2023-05-18T04:54:57.207Z"
   },
   {
    "duration": 101,
    "start_time": "2023-05-18T05:02:35.395Z"
   },
   {
    "duration": 91,
    "start_time": "2023-05-18T05:02:49.995Z"
   },
   {
    "duration": 298,
    "start_time": "2023-05-18T05:06:22.085Z"
   },
   {
    "duration": 10,
    "start_time": "2023-05-18T06:28:42.750Z"
   },
   {
    "duration": 9,
    "start_time": "2023-05-18T06:32:23.049Z"
   },
   {
    "duration": 211,
    "start_time": "2023-05-18T07:48:40.478Z"
   },
   {
    "duration": 229,
    "start_time": "2023-05-18T07:48:46.659Z"
   },
   {
    "duration": 69,
    "start_time": "2023-05-18T07:48:48.986Z"
   },
   {
    "duration": 1496,
    "start_time": "2023-05-18T07:49:12.159Z"
   },
   {
    "duration": 905,
    "start_time": "2023-05-18T07:49:13.656Z"
   },
   {
    "duration": 128,
    "start_time": "2023-05-18T07:49:14.562Z"
   },
   {
    "duration": 22,
    "start_time": "2023-05-18T07:49:14.692Z"
   },
   {
    "duration": 117,
    "start_time": "2023-05-18T07:49:14.718Z"
   },
   {
    "duration": 86,
    "start_time": "2023-05-18T07:49:14.838Z"
   },
   {
    "duration": 195,
    "start_time": "2023-05-18T07:49:14.927Z"
   },
   {
    "duration": 185,
    "start_time": "2023-05-18T07:49:15.124Z"
   },
   {
    "duration": 379,
    "start_time": "2023-05-18T07:49:15.311Z"
   },
   {
    "duration": 73,
    "start_time": "2023-05-18T07:49:15.692Z"
   },
   {
    "duration": 13,
    "start_time": "2023-05-18T07:49:15.779Z"
   },
   {
    "duration": 43,
    "start_time": "2023-05-18T07:49:15.794Z"
   },
   {
    "duration": 213,
    "start_time": "2023-05-18T07:49:15.839Z"
   },
   {
    "duration": 81,
    "start_time": "2023-05-18T07:49:16.055Z"
   },
   {
    "duration": 104,
    "start_time": "2023-05-18T07:49:16.138Z"
   },
   {
    "duration": 2,
    "start_time": "2023-05-18T07:49:16.244Z"
   },
   {
    "duration": 12,
    "start_time": "2023-05-18T07:49:16.248Z"
   },
   {
    "duration": 12,
    "start_time": "2023-05-18T07:49:16.262Z"
   },
   {
    "duration": 9,
    "start_time": "2023-05-18T07:49:16.278Z"
   },
   {
    "duration": 40204,
    "start_time": "2023-05-18T07:49:16.289Z"
   },
   {
    "duration": 6,
    "start_time": "2023-05-18T07:49:56.495Z"
   },
   {
    "duration": 165,
    "start_time": "2023-05-18T07:49:56.503Z"
   },
   {
    "duration": 471,
    "start_time": "2023-05-18T07:49:56.671Z"
   },
   {
    "duration": 24865037,
    "start_time": "2023-05-18T07:49:57.144Z"
   },
   {
    "duration": 9,
    "start_time": "2023-05-18T14:44:22.183Z"
   },
   {
    "duration": 5,
    "start_time": "2023-05-18T14:44:22.516Z"
   },
   {
    "duration": 1297825,
    "start_time": "2023-05-18T14:44:22.523Z"
   },
   {
    "duration": 5,
    "start_time": "2023-05-18T15:06:00.350Z"
   },
   {
    "duration": 444,
    "start_time": "2023-05-18T15:12:47.013Z"
   },
   {
    "duration": 431,
    "start_time": "2023-05-18T15:12:48.003Z"
   },
   {
    "duration": 1365,
    "start_time": "2023-05-18T15:12:48.436Z"
   },
   {
    "duration": 5,
    "start_time": "2023-05-18T15:12:49.804Z"
   },
   {
    "duration": 513798,
    "start_time": "2023-05-18T15:12:49.811Z"
   },
   {
    "duration": 9,
    "start_time": "2023-05-18T15:21:23.611Z"
   },
   {
    "duration": 466,
    "start_time": "2023-05-18T15:21:24.049Z"
   },
   {
    "duration": 126,
    "start_time": "2023-05-18T15:21:24.517Z"
   },
   {
    "duration": 4,
    "start_time": "2023-05-18T19:53:38.863Z"
   },
   {
    "duration": 13,
    "start_time": "2023-05-18T19:57:31.624Z"
   },
   {
    "duration": 23,
    "start_time": "2023-05-18T19:57:44.111Z"
   },
   {
    "duration": 14,
    "start_time": "2023-05-18T19:58:21.279Z"
   },
   {
    "duration": 14,
    "start_time": "2023-05-18T19:58:35.106Z"
   },
   {
    "duration": 10,
    "start_time": "2023-05-18T20:01:33.352Z"
   },
   {
    "duration": 10,
    "start_time": "2023-05-18T20:01:43.756Z"
   },
   {
    "duration": 13,
    "start_time": "2023-05-18T20:15:35.468Z"
   },
   {
    "duration": 162,
    "start_time": "2023-05-18T20:17:06.109Z"
   },
   {
    "duration": 5,
    "start_time": "2023-05-18T20:17:17.813Z"
   },
   {
    "duration": 104,
    "start_time": "2023-05-18T20:19:04.040Z"
   },
   {
    "duration": 415,
    "start_time": "2023-05-18T20:19:15.309Z"
   }
  ],
  "kernelspec": {
   "display_name": "Python 3 (ipykernel)",
   "language": "python",
   "name": "python3"
  },
  "language_info": {
   "codemirror_mode": {
    "name": "ipython",
    "version": 3
   },
   "file_extension": ".py",
   "mimetype": "text/x-python",
   "name": "python",
   "nbconvert_exporter": "python",
   "pygments_lexer": "ipython3",
   "version": "3.9.5"
  },
  "toc": {
   "base_numbering": 1,
   "nav_menu": {},
   "number_sections": true,
   "sideBar": true,
   "skip_h1_title": true,
   "title_cell": "Table of Contents",
   "title_sidebar": "Contents",
   "toc_cell": false,
   "toc_position": {},
   "toc_section_display": true,
   "toc_window_display": false
  }
 },
 "nbformat": 4,
 "nbformat_minor": 2
}
