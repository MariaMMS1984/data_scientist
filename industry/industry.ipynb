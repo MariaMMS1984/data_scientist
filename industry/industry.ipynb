{
 "cells": [
  {
   "cell_type": "markdown",
   "id": "f5474fd7",
   "metadata": {},
   "source": [
    "# Проект \"Промышленность\""
   ]
  },
  {
   "cell_type": "markdown",
   "id": "2691bb49",
   "metadata": {},
   "source": [
    "# Описание проекта"
   ]
  },
  {
   "cell_type": "markdown",
   "id": "8e0b2ee7",
   "metadata": {},
   "source": [
    "По заданию ООО «Так закаляем сталь» мы будем строить модель, которая предскажет температуру стали, производимой ООО «Так закаляем сталь», которая позволит этому металлургическому комбинату сократить потребление электроэнергии и соответственно производственные расходы.\n"
   ]
  },
  {
   "cell_type": "markdown",
   "id": "1d2864ca",
   "metadata": {},
   "source": [
    "1. Проведем исследовательский анализ данных, имеющихся в нашем распоряжении."
   ]
  },
  {
   "cell_type": "markdown",
   "id": "0ad1ae36",
   "metadata": {},
   "source": [
    "1.1. Добавим библиотеки (потом добавим отстальные, это пока только для исследовательского анализа) и прочитаем файлы"
   ]
  },
  {
   "cell_type": "code",
   "execution_count": 1,
   "id": "da81c47f",
   "metadata": {},
   "outputs": [],
   "source": [
    "import pandas as pd\n",
    "import seaborn as sns\n",
    "import matplotlib.pyplot as plt\n",
    "from sklearn.model_selection import GridSearchCV\n",
    "from sklearn.ensemble import RandomForestRegressor\n",
    "from lightgbm import LGBMRegressor\n",
    "from catboost import CatBoostRegressor\n",
    "from sklearn.dummy import DummyRegressor\n",
    "from sklearn.model_selection import train_test_split\n",
    "from sklearn.metrics import mean_absolute_error\n",
    "\n",
    "import warnings\n",
    "warnings.filterwarnings('ignore')\n"
   ]
  },
  {
   "cell_type": "code",
   "execution_count": 2,
   "id": "d4794455",
   "metadata": {},
   "outputs": [],
   "source": [
    "# чтение имеющихся в нашем распряжении файлов \n",
    "df_arc = pd.read_csv('/datasets/data_arc_new.csv')\n",
    "df_bulk = pd.read_csv('/datasets/data_bulk_new.csv')\n",
    "df_bulk_time = pd.read_csv('/datasets/data_bulk_time_new.csv')\n",
    "df_gas = pd.read_csv('/datasets/data_gas_new.csv')\n",
    "df_temp = pd.read_csv('/datasets/data_temp_new.csv')\n",
    "df_wire = pd.read_csv('/datasets/data_wire_new.csv')\n",
    "df_wire_time = pd.read_csv('/datasets/data_wire_time_new.csv')\n",
    "RANDOM_STATE = 310723"
   ]
  },
  {
   "cell_type": "markdown",
   "id": "ff41f523",
   "metadata": {},
   "source": [
    "1.2. Рассмотрим подробнее каждую из таблиц"
   ]
  },
  {
   "cell_type": "markdown",
   "id": "0fcca71b",
   "metadata": {},
   "source": [
    "А. данные об электродах"
   ]
  },
  {
   "cell_type": "code",
   "execution_count": 3,
   "id": "ce7195b8",
   "metadata": {
    "scrolled": true
   },
   "outputs": [
    {
     "data": {
      "text/html": [
       "<div>\n",
       "<style scoped>\n",
       "    .dataframe tbody tr th:only-of-type {\n",
       "        vertical-align: middle;\n",
       "    }\n",
       "\n",
       "    .dataframe tbody tr th {\n",
       "        vertical-align: top;\n",
       "    }\n",
       "\n",
       "    .dataframe thead th {\n",
       "        text-align: right;\n",
       "    }\n",
       "</style>\n",
       "<table border=\"1\" class=\"dataframe\">\n",
       "  <thead>\n",
       "    <tr style=\"text-align: right;\">\n",
       "      <th></th>\n",
       "      <th>key</th>\n",
       "      <th>Начало нагрева дугой</th>\n",
       "      <th>Конец нагрева дугой</th>\n",
       "      <th>Активная мощность</th>\n",
       "      <th>Реактивная мощность</th>\n",
       "    </tr>\n",
       "  </thead>\n",
       "  <tbody>\n",
       "    <tr>\n",
       "      <th>0</th>\n",
       "      <td>1</td>\n",
       "      <td>2019-05-03 11:02:14</td>\n",
       "      <td>2019-05-03 11:06:02</td>\n",
       "      <td>0.305130</td>\n",
       "      <td>0.211253</td>\n",
       "    </tr>\n",
       "    <tr>\n",
       "      <th>1</th>\n",
       "      <td>1</td>\n",
       "      <td>2019-05-03 11:07:28</td>\n",
       "      <td>2019-05-03 11:10:33</td>\n",
       "      <td>0.765658</td>\n",
       "      <td>0.477438</td>\n",
       "    </tr>\n",
       "    <tr>\n",
       "      <th>2</th>\n",
       "      <td>1</td>\n",
       "      <td>2019-05-03 11:11:44</td>\n",
       "      <td>2019-05-03 11:14:36</td>\n",
       "      <td>0.580313</td>\n",
       "      <td>0.430460</td>\n",
       "    </tr>\n",
       "    <tr>\n",
       "      <th>3</th>\n",
       "      <td>1</td>\n",
       "      <td>2019-05-03 11:18:14</td>\n",
       "      <td>2019-05-03 11:24:19</td>\n",
       "      <td>0.518496</td>\n",
       "      <td>0.379979</td>\n",
       "    </tr>\n",
       "    <tr>\n",
       "      <th>4</th>\n",
       "      <td>1</td>\n",
       "      <td>2019-05-03 11:26:09</td>\n",
       "      <td>2019-05-03 11:28:37</td>\n",
       "      <td>0.867133</td>\n",
       "      <td>0.643691</td>\n",
       "    </tr>\n",
       "    <tr>\n",
       "      <th>...</th>\n",
       "      <td>...</td>\n",
       "      <td>...</td>\n",
       "      <td>...</td>\n",
       "      <td>...</td>\n",
       "      <td>...</td>\n",
       "    </tr>\n",
       "    <tr>\n",
       "      <th>14871</th>\n",
       "      <td>3241</td>\n",
       "      <td>2019-09-06 16:49:05</td>\n",
       "      <td>2019-09-06 16:51:42</td>\n",
       "      <td>0.439735</td>\n",
       "      <td>0.299579</td>\n",
       "    </tr>\n",
       "    <tr>\n",
       "      <th>14872</th>\n",
       "      <td>3241</td>\n",
       "      <td>2019-09-06 16:55:11</td>\n",
       "      <td>2019-09-06 16:58:11</td>\n",
       "      <td>0.646498</td>\n",
       "      <td>0.458240</td>\n",
       "    </tr>\n",
       "    <tr>\n",
       "      <th>14873</th>\n",
       "      <td>3241</td>\n",
       "      <td>2019-09-06 17:06:48</td>\n",
       "      <td>2019-09-06 17:09:52</td>\n",
       "      <td>1.039726</td>\n",
       "      <td>0.769302</td>\n",
       "    </tr>\n",
       "    <tr>\n",
       "      <th>14874</th>\n",
       "      <td>3241</td>\n",
       "      <td>2019-09-06 17:21:58</td>\n",
       "      <td>2019-09-06 17:22:55</td>\n",
       "      <td>0.530267</td>\n",
       "      <td>0.361543</td>\n",
       "    </tr>\n",
       "    <tr>\n",
       "      <th>14875</th>\n",
       "      <td>3241</td>\n",
       "      <td>2019-09-06 17:24:54</td>\n",
       "      <td>2019-09-06 17:26:15</td>\n",
       "      <td>0.389057</td>\n",
       "      <td>0.251347</td>\n",
       "    </tr>\n",
       "  </tbody>\n",
       "</table>\n",
       "<p>14876 rows × 5 columns</p>\n",
       "</div>"
      ],
      "text/plain": [
       "        key Начало нагрева дугой  Конец нагрева дугой  Активная мощность  \\\n",
       "0         1  2019-05-03 11:02:14  2019-05-03 11:06:02           0.305130   \n",
       "1         1  2019-05-03 11:07:28  2019-05-03 11:10:33           0.765658   \n",
       "2         1  2019-05-03 11:11:44  2019-05-03 11:14:36           0.580313   \n",
       "3         1  2019-05-03 11:18:14  2019-05-03 11:24:19           0.518496   \n",
       "4         1  2019-05-03 11:26:09  2019-05-03 11:28:37           0.867133   \n",
       "...     ...                  ...                  ...                ...   \n",
       "14871  3241  2019-09-06 16:49:05  2019-09-06 16:51:42           0.439735   \n",
       "14872  3241  2019-09-06 16:55:11  2019-09-06 16:58:11           0.646498   \n",
       "14873  3241  2019-09-06 17:06:48  2019-09-06 17:09:52           1.039726   \n",
       "14874  3241  2019-09-06 17:21:58  2019-09-06 17:22:55           0.530267   \n",
       "14875  3241  2019-09-06 17:24:54  2019-09-06 17:26:15           0.389057   \n",
       "\n",
       "       Реактивная мощность  \n",
       "0                 0.211253  \n",
       "1                 0.477438  \n",
       "2                 0.430460  \n",
       "3                 0.379979  \n",
       "4                 0.643691  \n",
       "...                    ...  \n",
       "14871             0.299579  \n",
       "14872             0.458240  \n",
       "14873             0.769302  \n",
       "14874             0.361543  \n",
       "14875             0.251347  \n",
       "\n",
       "[14876 rows x 5 columns]"
      ]
     },
     "metadata": {},
     "output_type": "display_data"
    }
   ],
   "source": [
    "display(df_arc)"
   ]
  },
  {
   "cell_type": "code",
   "execution_count": 4,
   "id": "eb2f8f82",
   "metadata": {},
   "outputs": [
    {
     "name": "stdout",
     "output_type": "stream",
     "text": [
      "<class 'pandas.core.frame.DataFrame'>\n",
      "RangeIndex: 14876 entries, 0 to 14875\n",
      "Data columns (total 5 columns):\n",
      " #   Column                Non-Null Count  Dtype  \n",
      "---  ------                --------------  -----  \n",
      " 0   key                   14876 non-null  int64  \n",
      " 1   Начало нагрева дугой  14876 non-null  object \n",
      " 2   Конец нагрева дугой   14876 non-null  object \n",
      " 3   Активная мощность     14876 non-null  float64\n",
      " 4   Реактивная мощность   14876 non-null  float64\n",
      "dtypes: float64(2), int64(1), object(2)\n",
      "memory usage: 581.2+ KB\n"
     ]
    }
   ],
   "source": [
    "df_arc.info()"
   ]
  },
  {
   "cell_type": "code",
   "execution_count": 5,
   "id": "a492694f",
   "metadata": {},
   "outputs": [
    {
     "data": {
      "text/plain": [
       "key                     0\n",
       "Начало нагрева дугой    0\n",
       "Конец нагрева дугой     0\n",
       "Активная мощность       0\n",
       "Реактивная мощность     0\n",
       "dtype: int64"
      ]
     },
     "execution_count": 5,
     "metadata": {},
     "output_type": "execute_result"
    }
   ],
   "source": [
    "df_arc.isna().sum() #проверим пропуски"
   ]
  },
  {
   "cell_type": "markdown",
   "id": "065f1a65",
   "metadata": {},
   "source": [
    "В данных об электродах представлены время нагрева, а также  активная и реактивная мощности. Вероятно, в дальнейшем эти данные будут актуальны для нашего иссследования."
   ]
  },
  {
   "cell_type": "code",
   "execution_count": 6,
   "id": "e5c872d6",
   "metadata": {},
   "outputs": [
    {
     "name": "stdout",
     "output_type": "stream",
     "text": [
      "   key Начало нагрева дугой  Конец нагрева дугой  Активная мощность  \\\n",
      "0    1  2019-05-03 11:02:14  2019-05-03 11:06:02           0.305130   \n",
      "1    1  2019-05-03 11:07:28  2019-05-03 11:10:33           0.765658   \n",
      "2    1  2019-05-03 11:11:44  2019-05-03 11:14:36           0.580313   \n",
      "3    1  2019-05-03 11:18:14  2019-05-03 11:24:19           0.518496   \n",
      "4    1  2019-05-03 11:26:09  2019-05-03 11:28:37           0.867133   \n",
      "\n",
      "   Реактивная мощность  Общая_мощность  \n",
      "0             0.211253        0.371123  \n",
      "1             0.477438        0.902319  \n",
      "2             0.430460        0.722536  \n",
      "3             0.379979        0.642824  \n",
      "4             0.643691        1.079934  \n"
     ]
    }
   ],
   "source": [
    "#посчитаем общую можность по формуле и добавим столбец с соответствующим значением\n",
    "df_arc['Общая_мощность'] = (df_arc['Активная мощность']**2 + df_arc['Реактивная мощность']**2)**0.5\n",
    "print(df_arc.head())"
   ]
  },
  {
   "cell_type": "markdown",
   "id": "62744530",
   "metadata": {},
   "source": [
    "Сделаем график, чтобы посмотреть выбросы"
   ]
  },
  {
   "cell_type": "code",
   "execution_count": 7,
   "id": "d0511959",
   "metadata": {},
   "outputs": [
    {
     "data": {
      "image/png": "[encoded data removed]",
      "text/plain": [
       "<Figure size 360x360 with 1 Axes>"
      ]
     },
     "metadata": {
      "needs_background": "light"
     },
     "output_type": "display_data"
    }
   ],
   "source": [
    "sns.catplot(kind=\"box\", data=df_arc[['Активная мощность', 'Реактивная мощность','Общая_мощность']], palette='viridis', height=5)\n",
    "plt.title('Распределение мощностей', fontsize=14)\n",
    "plt.xlabel('вид мощности')\n",
    "plt.ylabel('значение')\n",
    "plt.show()"
   ]
  },
  {
   "cell_type": "markdown",
   "id": "d58bcac4",
   "metadata": {},
   "source": [
    "Есть выбросы на значениях менее -600 и более 600, в дальнейшем удалю их"
   ]
  },
  {
   "cell_type": "code",
   "execution_count": 8,
   "id": "cb38eecb",
   "metadata": {},
   "outputs": [
    {
     "data": {
      "image/png": "[encoded data removed]",
      "text/plain": [
       "<Figure size 360x360 with 1 Axes>"
      ]
     },
     "metadata": {
      "needs_background": "light"
     },
     "output_type": "display_data"
    }
   ],
   "source": [
    "# Изменим интервал оси Y,чтобы поподробнее посмотреть распределение \n",
    "sns.catplot(kind=\"box\", data=df_arc[['Активная мощность', 'Реактивная мощность','Общая_мощность']], palette='viridis', height=5)\n",
    "plt.title('Распределение мощностей', fontsize=14)\n",
    "plt.xlabel('вид мощности')\n",
    "plt.ylabel('значение')\n",
    "plt.ylim(-5,5)\n",
    "plt.show()"
   ]
  },
  {
   "cell_type": "code",
   "execution_count": 9,
   "id": "e074e572",
   "metadata": {},
   "outputs": [
    {
     "data": {
      "text/plain": [
       "key                       int64\n",
       "Начало нагрева дугой     object\n",
       "Конец нагрева дугой      object\n",
       "Активная мощность       float64\n",
       "Реактивная мощность     float64\n",
       "Общая_мощность          float64\n",
       "dtype: object"
      ]
     },
     "execution_count": 9,
     "metadata": {},
     "output_type": "execute_result"
    }
   ],
   "source": [
    "df_arc.dtypes"
   ]
  },
  {
   "cell_type": "code",
   "execution_count": 10,
   "id": "65b320a3",
   "metadata": {},
   "outputs": [],
   "source": [
    "# рассчитаем продолжительность нагрева\n",
    "df_arc['Начало нагрева дугой'] = pd.to_datetime(df_arc['Начало нагрева дугой'],\n",
    "                                                format='%Y-%m-%dT%H:%M:%S')\n",
    "df_arc['Конец нагрева дугой'] = pd.to_datetime(df_arc['Конец нагрева дугой'],\n",
    "                                               format='%Y-%m-%dT%H:%M:%S')\n",
    "df_arc['Время_нагрева_секунд'] = ((df_arc['Конец нагрева дугой'] - df_arc['Начало нагрева дугой'])\n",
    "                                   .dt.total_seconds()\n",
    "                                   .astype(int)\n",
    "                                  )"
   ]
  },
  {
   "cell_type": "code",
   "execution_count": 11,
   "id": "ee4b9a01",
   "metadata": {},
   "outputs": [
    {
     "data": {
      "image/png": "[encoded data removed]",
      "text/plain": [
       "<Figure size 360x360 with 1 Axes>"
      ]
     },
     "metadata": {
      "needs_background": "light"
     },
     "output_type": "display_data"
    }
   ],
   "source": [
    "sns.catplot(kind=\"box\", data=df_arc[['Время_нагрева_секунд']], palette='viridis', height=5)\n",
    "plt.title('Распределение времени нагрева', fontsize=14)\n",
    "plt.ylabel('секунды')\n",
    "plt.show()"
   ]
  },
  {
   "cell_type": "markdown",
   "id": "981ff1f7",
   "metadata": {},
   "source": [
    "есть выбросы, думаю позже удалить значения более 800 секунд"
   ]
  },
  {
   "cell_type": "markdown",
   "id": "5fe969e0",
   "metadata": {},
   "source": [
    "Б. данные о подаче сыпучих материалов (объём)"
   ]
  },
  {
   "cell_type": "code",
   "execution_count": 12,
   "id": "a9ac771d",
   "metadata": {},
   "outputs": [
    {
     "data": {
      "text/html": [
       "<div>\n",
       "<style scoped>\n",
       "    .dataframe tbody tr th:only-of-type {\n",
       "        vertical-align: middle;\n",
       "    }\n",
       "\n",
       "    .dataframe tbody tr th {\n",
       "        vertical-align: top;\n",
       "    }\n",
       "\n",
       "    .dataframe thead th {\n",
       "        text-align: right;\n",
       "    }\n",
       "</style>\n",
       "<table border=\"1\" class=\"dataframe\">\n",
       "  <thead>\n",
       "    <tr style=\"text-align: right;\">\n",
       "      <th></th>\n",
       "      <th>key</th>\n",
       "      <th>Bulk 1</th>\n",
       "      <th>Bulk 2</th>\n",
       "      <th>Bulk 3</th>\n",
       "      <th>Bulk 4</th>\n",
       "      <th>Bulk 5</th>\n",
       "      <th>Bulk 6</th>\n",
       "      <th>Bulk 7</th>\n",
       "      <th>Bulk 8</th>\n",
       "      <th>Bulk 9</th>\n",
       "      <th>Bulk 10</th>\n",
       "      <th>Bulk 11</th>\n",
       "      <th>Bulk 12</th>\n",
       "      <th>Bulk 13</th>\n",
       "      <th>Bulk 14</th>\n",
       "      <th>Bulk 15</th>\n",
       "    </tr>\n",
       "  </thead>\n",
       "  <tbody>\n",
       "    <tr>\n",
       "      <th>0</th>\n",
       "      <td>1</td>\n",
       "      <td>NaN</td>\n",
       "      <td>NaN</td>\n",
       "      <td>NaN</td>\n",
       "      <td>43.0</td>\n",
       "      <td>NaN</td>\n",
       "      <td>NaN</td>\n",
       "      <td>NaN</td>\n",
       "      <td>NaN</td>\n",
       "      <td>NaN</td>\n",
       "      <td>NaN</td>\n",
       "      <td>NaN</td>\n",
       "      <td>206.0</td>\n",
       "      <td>NaN</td>\n",
       "      <td>150.0</td>\n",
       "      <td>154.0</td>\n",
       "    </tr>\n",
       "    <tr>\n",
       "      <th>1</th>\n",
       "      <td>2</td>\n",
       "      <td>NaN</td>\n",
       "      <td>NaN</td>\n",
       "      <td>NaN</td>\n",
       "      <td>73.0</td>\n",
       "      <td>NaN</td>\n",
       "      <td>NaN</td>\n",
       "      <td>NaN</td>\n",
       "      <td>NaN</td>\n",
       "      <td>NaN</td>\n",
       "      <td>NaN</td>\n",
       "      <td>NaN</td>\n",
       "      <td>206.0</td>\n",
       "      <td>NaN</td>\n",
       "      <td>149.0</td>\n",
       "      <td>154.0</td>\n",
       "    </tr>\n",
       "    <tr>\n",
       "      <th>2</th>\n",
       "      <td>3</td>\n",
       "      <td>NaN</td>\n",
       "      <td>NaN</td>\n",
       "      <td>NaN</td>\n",
       "      <td>34.0</td>\n",
       "      <td>NaN</td>\n",
       "      <td>NaN</td>\n",
       "      <td>NaN</td>\n",
       "      <td>NaN</td>\n",
       "      <td>NaN</td>\n",
       "      <td>NaN</td>\n",
       "      <td>NaN</td>\n",
       "      <td>205.0</td>\n",
       "      <td>NaN</td>\n",
       "      <td>152.0</td>\n",
       "      <td>153.0</td>\n",
       "    </tr>\n",
       "    <tr>\n",
       "      <th>3</th>\n",
       "      <td>4</td>\n",
       "      <td>NaN</td>\n",
       "      <td>NaN</td>\n",
       "      <td>NaN</td>\n",
       "      <td>81.0</td>\n",
       "      <td>NaN</td>\n",
       "      <td>NaN</td>\n",
       "      <td>NaN</td>\n",
       "      <td>NaN</td>\n",
       "      <td>NaN</td>\n",
       "      <td>NaN</td>\n",
       "      <td>NaN</td>\n",
       "      <td>207.0</td>\n",
       "      <td>NaN</td>\n",
       "      <td>153.0</td>\n",
       "      <td>154.0</td>\n",
       "    </tr>\n",
       "    <tr>\n",
       "      <th>4</th>\n",
       "      <td>5</td>\n",
       "      <td>NaN</td>\n",
       "      <td>NaN</td>\n",
       "      <td>NaN</td>\n",
       "      <td>78.0</td>\n",
       "      <td>NaN</td>\n",
       "      <td>NaN</td>\n",
       "      <td>NaN</td>\n",
       "      <td>NaN</td>\n",
       "      <td>NaN</td>\n",
       "      <td>NaN</td>\n",
       "      <td>NaN</td>\n",
       "      <td>203.0</td>\n",
       "      <td>NaN</td>\n",
       "      <td>151.0</td>\n",
       "      <td>152.0</td>\n",
       "    </tr>\n",
       "    <tr>\n",
       "      <th>...</th>\n",
       "      <td>...</td>\n",
       "      <td>...</td>\n",
       "      <td>...</td>\n",
       "      <td>...</td>\n",
       "      <td>...</td>\n",
       "      <td>...</td>\n",
       "      <td>...</td>\n",
       "      <td>...</td>\n",
       "      <td>...</td>\n",
       "      <td>...</td>\n",
       "      <td>...</td>\n",
       "      <td>...</td>\n",
       "      <td>...</td>\n",
       "      <td>...</td>\n",
       "      <td>...</td>\n",
       "      <td>...</td>\n",
       "    </tr>\n",
       "    <tr>\n",
       "      <th>3124</th>\n",
       "      <td>3237</td>\n",
       "      <td>NaN</td>\n",
       "      <td>NaN</td>\n",
       "      <td>170.0</td>\n",
       "      <td>NaN</td>\n",
       "      <td>NaN</td>\n",
       "      <td>NaN</td>\n",
       "      <td>NaN</td>\n",
       "      <td>NaN</td>\n",
       "      <td>NaN</td>\n",
       "      <td>NaN</td>\n",
       "      <td>NaN</td>\n",
       "      <td>252.0</td>\n",
       "      <td>NaN</td>\n",
       "      <td>130.0</td>\n",
       "      <td>206.0</td>\n",
       "    </tr>\n",
       "    <tr>\n",
       "      <th>3125</th>\n",
       "      <td>3238</td>\n",
       "      <td>NaN</td>\n",
       "      <td>NaN</td>\n",
       "      <td>126.0</td>\n",
       "      <td>NaN</td>\n",
       "      <td>NaN</td>\n",
       "      <td>NaN</td>\n",
       "      <td>NaN</td>\n",
       "      <td>NaN</td>\n",
       "      <td>NaN</td>\n",
       "      <td>NaN</td>\n",
       "      <td>NaN</td>\n",
       "      <td>254.0</td>\n",
       "      <td>NaN</td>\n",
       "      <td>108.0</td>\n",
       "      <td>106.0</td>\n",
       "    </tr>\n",
       "    <tr>\n",
       "      <th>3126</th>\n",
       "      <td>3239</td>\n",
       "      <td>NaN</td>\n",
       "      <td>NaN</td>\n",
       "      <td>NaN</td>\n",
       "      <td>NaN</td>\n",
       "      <td>NaN</td>\n",
       "      <td>114.0</td>\n",
       "      <td>NaN</td>\n",
       "      <td>NaN</td>\n",
       "      <td>NaN</td>\n",
       "      <td>NaN</td>\n",
       "      <td>NaN</td>\n",
       "      <td>158.0</td>\n",
       "      <td>NaN</td>\n",
       "      <td>270.0</td>\n",
       "      <td>88.0</td>\n",
       "    </tr>\n",
       "    <tr>\n",
       "      <th>3127</th>\n",
       "      <td>3240</td>\n",
       "      <td>NaN</td>\n",
       "      <td>NaN</td>\n",
       "      <td>NaN</td>\n",
       "      <td>NaN</td>\n",
       "      <td>NaN</td>\n",
       "      <td>26.0</td>\n",
       "      <td>NaN</td>\n",
       "      <td>NaN</td>\n",
       "      <td>NaN</td>\n",
       "      <td>NaN</td>\n",
       "      <td>NaN</td>\n",
       "      <td>NaN</td>\n",
       "      <td>NaN</td>\n",
       "      <td>192.0</td>\n",
       "      <td>54.0</td>\n",
       "    </tr>\n",
       "    <tr>\n",
       "      <th>3128</th>\n",
       "      <td>3241</td>\n",
       "      <td>NaN</td>\n",
       "      <td>NaN</td>\n",
       "      <td>NaN</td>\n",
       "      <td>NaN</td>\n",
       "      <td>NaN</td>\n",
       "      <td>NaN</td>\n",
       "      <td>NaN</td>\n",
       "      <td>NaN</td>\n",
       "      <td>NaN</td>\n",
       "      <td>NaN</td>\n",
       "      <td>NaN</td>\n",
       "      <td>NaN</td>\n",
       "      <td>NaN</td>\n",
       "      <td>180.0</td>\n",
       "      <td>52.0</td>\n",
       "    </tr>\n",
       "  </tbody>\n",
       "</table>\n",
       "<p>3129 rows × 16 columns</p>\n",
       "</div>"
      ],
      "text/plain": [
       "       key  Bulk 1  Bulk 2  Bulk 3  Bulk 4  Bulk 5  Bulk 6  Bulk 7  Bulk 8  \\\n",
       "0        1     NaN     NaN     NaN    43.0     NaN     NaN     NaN     NaN   \n",
       "1        2     NaN     NaN     NaN    73.0     NaN     NaN     NaN     NaN   \n",
       "2        3     NaN     NaN     NaN    34.0     NaN     NaN     NaN     NaN   \n",
       "3        4     NaN     NaN     NaN    81.0     NaN     NaN     NaN     NaN   \n",
       "4        5     NaN     NaN     NaN    78.0     NaN     NaN     NaN     NaN   \n",
       "...    ...     ...     ...     ...     ...     ...     ...     ...     ...   \n",
       "3124  3237     NaN     NaN   170.0     NaN     NaN     NaN     NaN     NaN   \n",
       "3125  3238     NaN     NaN   126.0     NaN     NaN     NaN     NaN     NaN   \n",
       "3126  3239     NaN     NaN     NaN     NaN     NaN   114.0     NaN     NaN   \n",
       "3127  3240     NaN     NaN     NaN     NaN     NaN    26.0     NaN     NaN   \n",
       "3128  3241     NaN     NaN     NaN     NaN     NaN     NaN     NaN     NaN   \n",
       "\n",
       "      Bulk 9  Bulk 10  Bulk 11  Bulk 12  Bulk 13  Bulk 14  Bulk 15  \n",
       "0        NaN      NaN      NaN    206.0      NaN    150.0    154.0  \n",
       "1        NaN      NaN      NaN    206.0      NaN    149.0    154.0  \n",
       "2        NaN      NaN      NaN    205.0      NaN    152.0    153.0  \n",
       "3        NaN      NaN      NaN    207.0      NaN    153.0    154.0  \n",
       "4        NaN      NaN      NaN    203.0      NaN    151.0    152.0  \n",
       "...      ...      ...      ...      ...      ...      ...      ...  \n",
       "3124     NaN      NaN      NaN    252.0      NaN    130.0    206.0  \n",
       "3125     NaN      NaN      NaN    254.0      NaN    108.0    106.0  \n",
       "3126     NaN      NaN      NaN    158.0      NaN    270.0     88.0  \n",
       "3127     NaN      NaN      NaN      NaN      NaN    192.0     54.0  \n",
       "3128     NaN      NaN      NaN      NaN      NaN    180.0     52.0  \n",
       "\n",
       "[3129 rows x 16 columns]"
      ]
     },
     "metadata": {},
     "output_type": "display_data"
    }
   ],
   "source": [
    "display(df_bulk)"
   ]
  },
  {
   "cell_type": "code",
   "execution_count": 13,
   "id": "6cb32478",
   "metadata": {},
   "outputs": [
    {
     "name": "stdout",
     "output_type": "stream",
     "text": [
      "<class 'pandas.core.frame.DataFrame'>\n",
      "RangeIndex: 3129 entries, 0 to 3128\n",
      "Data columns (total 16 columns):\n",
      " #   Column   Non-Null Count  Dtype  \n",
      "---  ------   --------------  -----  \n",
      " 0   key      3129 non-null   int64  \n",
      " 1   Bulk 1   252 non-null    float64\n",
      " 2   Bulk 2   22 non-null     float64\n",
      " 3   Bulk 3   1298 non-null   float64\n",
      " 4   Bulk 4   1014 non-null   float64\n",
      " 5   Bulk 5   77 non-null     float64\n",
      " 6   Bulk 6   576 non-null    float64\n",
      " 7   Bulk 7   25 non-null     float64\n",
      " 8   Bulk 8   1 non-null      float64\n",
      " 9   Bulk 9   19 non-null     float64\n",
      " 10  Bulk 10  176 non-null    float64\n",
      " 11  Bulk 11  177 non-null    float64\n",
      " 12  Bulk 12  2450 non-null   float64\n",
      " 13  Bulk 13  18 non-null     float64\n",
      " 14  Bulk 14  2806 non-null   float64\n",
      " 15  Bulk 15  2248 non-null   float64\n",
      "dtypes: float64(15), int64(1)\n",
      "memory usage: 391.2 KB\n"
     ]
    }
   ],
   "source": [
    "df_bulk.info()"
   ]
  },
  {
   "cell_type": "code",
   "execution_count": 14,
   "id": "25b19da3",
   "metadata": {},
   "outputs": [
    {
     "data": {
      "text/plain": [
       "key           0\n",
       "Bulk 1     2877\n",
       "Bulk 2     3107\n",
       "Bulk 3     1831\n",
       "Bulk 4     2115\n",
       "Bulk 5     3052\n",
       "Bulk 6     2553\n",
       "Bulk 7     3104\n",
       "Bulk 8     3128\n",
       "Bulk 9     3110\n",
       "Bulk 10    2953\n",
       "Bulk 11    2952\n",
       "Bulk 12     679\n",
       "Bulk 13    3111\n",
       "Bulk 14     323\n",
       "Bulk 15     881\n",
       "dtype: int64"
      ]
     },
     "execution_count": 14,
     "metadata": {},
     "output_type": "execute_result"
    }
   ],
   "source": [
    "df_bulk.isna().sum() #проверим пропуски"
   ]
  },
  {
   "cell_type": "markdown",
   "id": "43efb544",
   "metadata": {},
   "source": [
    "много пропусков. Вероятно, сыпучие используются не в каждом этапе производства. Думаю заполнить их нулями в дальнейшем"
   ]
  },
  {
   "cell_type": "markdown",
   "id": "eeb39c1a",
   "metadata": {},
   "source": [
    "В. данные о подаче сыпучих материалов (время)"
   ]
  },
  {
   "cell_type": "code",
   "execution_count": 15,
   "id": "fd7f0e51",
   "metadata": {},
   "outputs": [
    {
     "data": {
      "text/html": [
       "<div>\n",
       "<style scoped>\n",
       "    .dataframe tbody tr th:only-of-type {\n",
       "        vertical-align: middle;\n",
       "    }\n",
       "\n",
       "    .dataframe tbody tr th {\n",
       "        vertical-align: top;\n",
       "    }\n",
       "\n",
       "    .dataframe thead th {\n",
       "        text-align: right;\n",
       "    }\n",
       "</style>\n",
       "<table border=\"1\" class=\"dataframe\">\n",
       "  <thead>\n",
       "    <tr style=\"text-align: right;\">\n",
       "      <th></th>\n",
       "      <th>key</th>\n",
       "      <th>Bulk 1</th>\n",
       "      <th>Bulk 2</th>\n",
       "      <th>Bulk 3</th>\n",
       "      <th>Bulk 4</th>\n",
       "      <th>Bulk 5</th>\n",
       "      <th>Bulk 6</th>\n",
       "      <th>Bulk 7</th>\n",
       "      <th>Bulk 8</th>\n",
       "      <th>Bulk 9</th>\n",
       "      <th>Bulk 10</th>\n",
       "      <th>Bulk 11</th>\n",
       "      <th>Bulk 12</th>\n",
       "      <th>Bulk 13</th>\n",
       "      <th>Bulk 14</th>\n",
       "      <th>Bulk 15</th>\n",
       "    </tr>\n",
       "  </thead>\n",
       "  <tbody>\n",
       "    <tr>\n",
       "      <th>0</th>\n",
       "      <td>1</td>\n",
       "      <td>NaN</td>\n",
       "      <td>NaN</td>\n",
       "      <td>NaN</td>\n",
       "      <td>2019-05-03 11:28:48</td>\n",
       "      <td>NaN</td>\n",
       "      <td>NaN</td>\n",
       "      <td>NaN</td>\n",
       "      <td>NaN</td>\n",
       "      <td>NaN</td>\n",
       "      <td>NaN</td>\n",
       "      <td>NaN</td>\n",
       "      <td>2019-05-03 11:24:31</td>\n",
       "      <td>NaN</td>\n",
       "      <td>2019-05-03 11:14:50</td>\n",
       "      <td>2019-05-03 11:10:43</td>\n",
       "    </tr>\n",
       "    <tr>\n",
       "      <th>1</th>\n",
       "      <td>2</td>\n",
       "      <td>NaN</td>\n",
       "      <td>NaN</td>\n",
       "      <td>NaN</td>\n",
       "      <td>2019-05-03 11:36:50</td>\n",
       "      <td>NaN</td>\n",
       "      <td>NaN</td>\n",
       "      <td>NaN</td>\n",
       "      <td>NaN</td>\n",
       "      <td>NaN</td>\n",
       "      <td>NaN</td>\n",
       "      <td>NaN</td>\n",
       "      <td>2019-05-03 11:53:30</td>\n",
       "      <td>NaN</td>\n",
       "      <td>2019-05-03 11:48:37</td>\n",
       "      <td>2019-05-03 11:44:39</td>\n",
       "    </tr>\n",
       "    <tr>\n",
       "      <th>2</th>\n",
       "      <td>3</td>\n",
       "      <td>NaN</td>\n",
       "      <td>NaN</td>\n",
       "      <td>NaN</td>\n",
       "      <td>2019-05-03 12:32:39</td>\n",
       "      <td>NaN</td>\n",
       "      <td>NaN</td>\n",
       "      <td>NaN</td>\n",
       "      <td>NaN</td>\n",
       "      <td>NaN</td>\n",
       "      <td>NaN</td>\n",
       "      <td>NaN</td>\n",
       "      <td>2019-05-03 12:27:13</td>\n",
       "      <td>NaN</td>\n",
       "      <td>2019-05-03 12:21:01</td>\n",
       "      <td>2019-05-03 12:16:16</td>\n",
       "    </tr>\n",
       "    <tr>\n",
       "      <th>3</th>\n",
       "      <td>4</td>\n",
       "      <td>NaN</td>\n",
       "      <td>NaN</td>\n",
       "      <td>NaN</td>\n",
       "      <td>2019-05-03 12:43:22</td>\n",
       "      <td>NaN</td>\n",
       "      <td>NaN</td>\n",
       "      <td>NaN</td>\n",
       "      <td>NaN</td>\n",
       "      <td>NaN</td>\n",
       "      <td>NaN</td>\n",
       "      <td>NaN</td>\n",
       "      <td>2019-05-03 12:58:00</td>\n",
       "      <td>NaN</td>\n",
       "      <td>2019-05-03 12:51:11</td>\n",
       "      <td>2019-05-03 12:46:36</td>\n",
       "    </tr>\n",
       "    <tr>\n",
       "      <th>4</th>\n",
       "      <td>5</td>\n",
       "      <td>NaN</td>\n",
       "      <td>NaN</td>\n",
       "      <td>NaN</td>\n",
       "      <td>2019-05-03 13:30:47</td>\n",
       "      <td>NaN</td>\n",
       "      <td>NaN</td>\n",
       "      <td>NaN</td>\n",
       "      <td>NaN</td>\n",
       "      <td>NaN</td>\n",
       "      <td>NaN</td>\n",
       "      <td>NaN</td>\n",
       "      <td>2019-05-03 13:30:47</td>\n",
       "      <td>NaN</td>\n",
       "      <td>2019-05-03 13:34:12</td>\n",
       "      <td>2019-05-03 13:30:47</td>\n",
       "    </tr>\n",
       "    <tr>\n",
       "      <th>...</th>\n",
       "      <td>...</td>\n",
       "      <td>...</td>\n",
       "      <td>...</td>\n",
       "      <td>...</td>\n",
       "      <td>...</td>\n",
       "      <td>...</td>\n",
       "      <td>...</td>\n",
       "      <td>...</td>\n",
       "      <td>...</td>\n",
       "      <td>...</td>\n",
       "      <td>...</td>\n",
       "      <td>...</td>\n",
       "      <td>...</td>\n",
       "      <td>...</td>\n",
       "      <td>...</td>\n",
       "      <td>...</td>\n",
       "    </tr>\n",
       "    <tr>\n",
       "      <th>3124</th>\n",
       "      <td>3237</td>\n",
       "      <td>NaN</td>\n",
       "      <td>NaN</td>\n",
       "      <td>2019-09-06 11:54:15</td>\n",
       "      <td>NaN</td>\n",
       "      <td>NaN</td>\n",
       "      <td>NaN</td>\n",
       "      <td>NaN</td>\n",
       "      <td>NaN</td>\n",
       "      <td>NaN</td>\n",
       "      <td>NaN</td>\n",
       "      <td>NaN</td>\n",
       "      <td>2019-09-06 11:49:45</td>\n",
       "      <td>NaN</td>\n",
       "      <td>2019-09-06 11:45:22</td>\n",
       "      <td>2019-09-06 11:40:06</td>\n",
       "    </tr>\n",
       "    <tr>\n",
       "      <th>3125</th>\n",
       "      <td>3238</td>\n",
       "      <td>NaN</td>\n",
       "      <td>NaN</td>\n",
       "      <td>2019-09-06 12:26:52</td>\n",
       "      <td>NaN</td>\n",
       "      <td>NaN</td>\n",
       "      <td>NaN</td>\n",
       "      <td>NaN</td>\n",
       "      <td>NaN</td>\n",
       "      <td>NaN</td>\n",
       "      <td>NaN</td>\n",
       "      <td>NaN</td>\n",
       "      <td>2019-09-06 12:18:35</td>\n",
       "      <td>NaN</td>\n",
       "      <td>2019-09-06 12:31:49</td>\n",
       "      <td>2019-09-06 12:26:52</td>\n",
       "    </tr>\n",
       "    <tr>\n",
       "      <th>3126</th>\n",
       "      <td>3239</td>\n",
       "      <td>NaN</td>\n",
       "      <td>NaN</td>\n",
       "      <td>NaN</td>\n",
       "      <td>NaN</td>\n",
       "      <td>NaN</td>\n",
       "      <td>2019-09-06 15:06:00</td>\n",
       "      <td>NaN</td>\n",
       "      <td>NaN</td>\n",
       "      <td>NaN</td>\n",
       "      <td>NaN</td>\n",
       "      <td>NaN</td>\n",
       "      <td>2019-09-06 15:01:44</td>\n",
       "      <td>NaN</td>\n",
       "      <td>2019-09-06 14:58:15</td>\n",
       "      <td>2019-09-06 14:48:06</td>\n",
       "    </tr>\n",
       "    <tr>\n",
       "      <th>3127</th>\n",
       "      <td>3240</td>\n",
       "      <td>NaN</td>\n",
       "      <td>NaN</td>\n",
       "      <td>NaN</td>\n",
       "      <td>NaN</td>\n",
       "      <td>NaN</td>\n",
       "      <td>2019-09-06 16:24:28</td>\n",
       "      <td>NaN</td>\n",
       "      <td>NaN</td>\n",
       "      <td>NaN</td>\n",
       "      <td>NaN</td>\n",
       "      <td>NaN</td>\n",
       "      <td>NaN</td>\n",
       "      <td>NaN</td>\n",
       "      <td>2019-09-06 16:07:29</td>\n",
       "      <td>2019-09-06 16:01:34</td>\n",
       "    </tr>\n",
       "    <tr>\n",
       "      <th>3128</th>\n",
       "      <td>3241</td>\n",
       "      <td>NaN</td>\n",
       "      <td>NaN</td>\n",
       "      <td>NaN</td>\n",
       "      <td>NaN</td>\n",
       "      <td>NaN</td>\n",
       "      <td>NaN</td>\n",
       "      <td>NaN</td>\n",
       "      <td>NaN</td>\n",
       "      <td>NaN</td>\n",
       "      <td>NaN</td>\n",
       "      <td>NaN</td>\n",
       "      <td>NaN</td>\n",
       "      <td>NaN</td>\n",
       "      <td>2019-09-06 17:26:33</td>\n",
       "      <td>2019-09-06 17:23:15</td>\n",
       "    </tr>\n",
       "  </tbody>\n",
       "</table>\n",
       "<p>3129 rows × 16 columns</p>\n",
       "</div>"
      ],
      "text/plain": [
       "       key Bulk 1 Bulk 2               Bulk 3               Bulk 4 Bulk 5  \\\n",
       "0        1    NaN    NaN                  NaN  2019-05-03 11:28:48    NaN   \n",
       "1        2    NaN    NaN                  NaN  2019-05-03 11:36:50    NaN   \n",
       "2        3    NaN    NaN                  NaN  2019-05-03 12:32:39    NaN   \n",
       "3        4    NaN    NaN                  NaN  2019-05-03 12:43:22    NaN   \n",
       "4        5    NaN    NaN                  NaN  2019-05-03 13:30:47    NaN   \n",
       "...    ...    ...    ...                  ...                  ...    ...   \n",
       "3124  3237    NaN    NaN  2019-09-06 11:54:15                  NaN    NaN   \n",
       "3125  3238    NaN    NaN  2019-09-06 12:26:52                  NaN    NaN   \n",
       "3126  3239    NaN    NaN                  NaN                  NaN    NaN   \n",
       "3127  3240    NaN    NaN                  NaN                  NaN    NaN   \n",
       "3128  3241    NaN    NaN                  NaN                  NaN    NaN   \n",
       "\n",
       "                   Bulk 6 Bulk 7 Bulk 8 Bulk 9 Bulk 10 Bulk 11  \\\n",
       "0                     NaN    NaN    NaN    NaN     NaN     NaN   \n",
       "1                     NaN    NaN    NaN    NaN     NaN     NaN   \n",
       "2                     NaN    NaN    NaN    NaN     NaN     NaN   \n",
       "3                     NaN    NaN    NaN    NaN     NaN     NaN   \n",
       "4                     NaN    NaN    NaN    NaN     NaN     NaN   \n",
       "...                   ...    ...    ...    ...     ...     ...   \n",
       "3124                  NaN    NaN    NaN    NaN     NaN     NaN   \n",
       "3125                  NaN    NaN    NaN    NaN     NaN     NaN   \n",
       "3126  2019-09-06 15:06:00    NaN    NaN    NaN     NaN     NaN   \n",
       "3127  2019-09-06 16:24:28    NaN    NaN    NaN     NaN     NaN   \n",
       "3128                  NaN    NaN    NaN    NaN     NaN     NaN   \n",
       "\n",
       "                  Bulk 12 Bulk 13              Bulk 14              Bulk 15  \n",
       "0     2019-05-03 11:24:31     NaN  2019-05-03 11:14:50  2019-05-03 11:10:43  \n",
       "1     2019-05-03 11:53:30     NaN  2019-05-03 11:48:37  2019-05-03 11:44:39  \n",
       "2     2019-05-03 12:27:13     NaN  2019-05-03 12:21:01  2019-05-03 12:16:16  \n",
       "3     2019-05-03 12:58:00     NaN  2019-05-03 12:51:11  2019-05-03 12:46:36  \n",
       "4     2019-05-03 13:30:47     NaN  2019-05-03 13:34:12  2019-05-03 13:30:47  \n",
       "...                   ...     ...                  ...                  ...  \n",
       "3124  2019-09-06 11:49:45     NaN  2019-09-06 11:45:22  2019-09-06 11:40:06  \n",
       "3125  2019-09-06 12:18:35     NaN  2019-09-06 12:31:49  2019-09-06 12:26:52  \n",
       "3126  2019-09-06 15:01:44     NaN  2019-09-06 14:58:15  2019-09-06 14:48:06  \n",
       "3127                  NaN     NaN  2019-09-06 16:07:29  2019-09-06 16:01:34  \n",
       "3128                  NaN     NaN  2019-09-06 17:26:33  2019-09-06 17:23:15  \n",
       "\n",
       "[3129 rows x 16 columns]"
      ]
     },
     "metadata": {},
     "output_type": "display_data"
    }
   ],
   "source": [
    "display(df_bulk_time)"
   ]
  },
  {
   "cell_type": "code",
   "execution_count": 16,
   "id": "b13176b2",
   "metadata": {},
   "outputs": [
    {
     "name": "stdout",
     "output_type": "stream",
     "text": [
      "<class 'pandas.core.frame.DataFrame'>\n",
      "RangeIndex: 3129 entries, 0 to 3128\n",
      "Data columns (total 16 columns):\n",
      " #   Column   Non-Null Count  Dtype \n",
      "---  ------   --------------  ----- \n",
      " 0   key      3129 non-null   int64 \n",
      " 1   Bulk 1   252 non-null    object\n",
      " 2   Bulk 2   22 non-null     object\n",
      " 3   Bulk 3   1298 non-null   object\n",
      " 4   Bulk 4   1014 non-null   object\n",
      " 5   Bulk 5   77 non-null     object\n",
      " 6   Bulk 6   576 non-null    object\n",
      " 7   Bulk 7   25 non-null     object\n",
      " 8   Bulk 8   1 non-null      object\n",
      " 9   Bulk 9   19 non-null     object\n",
      " 10  Bulk 10  176 non-null    object\n",
      " 11  Bulk 11  177 non-null    object\n",
      " 12  Bulk 12  2450 non-null   object\n",
      " 13  Bulk 13  18 non-null     object\n",
      " 14  Bulk 14  2806 non-null   object\n",
      " 15  Bulk 15  2248 non-null   object\n",
      "dtypes: int64(1), object(15)\n",
      "memory usage: 391.2+ KB\n"
     ]
    }
   ],
   "source": [
    "df_bulk_time.info()"
   ]
  },
  {
   "cell_type": "code",
   "execution_count": 17,
   "id": "b7975335",
   "metadata": {},
   "outputs": [
    {
     "data": {
      "text/plain": [
       "key           0\n",
       "Bulk 1     2877\n",
       "Bulk 2     3107\n",
       "Bulk 3     1831\n",
       "Bulk 4     2115\n",
       "Bulk 5     3052\n",
       "Bulk 6     2553\n",
       "Bulk 7     3104\n",
       "Bulk 8     3128\n",
       "Bulk 9     3110\n",
       "Bulk 10    2953\n",
       "Bulk 11    2952\n",
       "Bulk 12     679\n",
       "Bulk 13    3111\n",
       "Bulk 14     323\n",
       "Bulk 15     881\n",
       "dtype: int64"
      ]
     },
     "execution_count": 17,
     "metadata": {},
     "output_type": "execute_result"
    }
   ],
   "source": [
    "df_bulk.isna().sum() #проверим пропуски"
   ]
  },
  {
   "cell_type": "markdown",
   "id": "18c43c7c",
   "metadata": {},
   "source": [
    "много пропусков. Вероятно, сыпучие материалы используются не в каждом этапе производства. Думаю заполнить их нулями в дальнейшем"
   ]
  },
  {
   "cell_type": "markdown",
   "id": "98cef5f2",
   "metadata": {},
   "source": [
    "Г. данные о продувке сплава газом;"
   ]
  },
  {
   "cell_type": "code",
   "execution_count": 18,
   "id": "e27a95e7",
   "metadata": {},
   "outputs": [
    {
     "data": {
      "text/html": [
       "<div>\n",
       "<style scoped>\n",
       "    .dataframe tbody tr th:only-of-type {\n",
       "        vertical-align: middle;\n",
       "    }\n",
       "\n",
       "    .dataframe tbody tr th {\n",
       "        vertical-align: top;\n",
       "    }\n",
       "\n",
       "    .dataframe thead th {\n",
       "        text-align: right;\n",
       "    }\n",
       "</style>\n",
       "<table border=\"1\" class=\"dataframe\">\n",
       "  <thead>\n",
       "    <tr style=\"text-align: right;\">\n",
       "      <th></th>\n",
       "      <th>key</th>\n",
       "      <th>Газ 1</th>\n",
       "    </tr>\n",
       "  </thead>\n",
       "  <tbody>\n",
       "    <tr>\n",
       "      <th>0</th>\n",
       "      <td>1</td>\n",
       "      <td>29.749986</td>\n",
       "    </tr>\n",
       "    <tr>\n",
       "      <th>1</th>\n",
       "      <td>2</td>\n",
       "      <td>12.555561</td>\n",
       "    </tr>\n",
       "    <tr>\n",
       "      <th>2</th>\n",
       "      <td>3</td>\n",
       "      <td>28.554793</td>\n",
       "    </tr>\n",
       "    <tr>\n",
       "      <th>3</th>\n",
       "      <td>4</td>\n",
       "      <td>18.841219</td>\n",
       "    </tr>\n",
       "    <tr>\n",
       "      <th>4</th>\n",
       "      <td>5</td>\n",
       "      <td>5.413692</td>\n",
       "    </tr>\n",
       "    <tr>\n",
       "      <th>...</th>\n",
       "      <td>...</td>\n",
       "      <td>...</td>\n",
       "    </tr>\n",
       "    <tr>\n",
       "      <th>3234</th>\n",
       "      <td>3237</td>\n",
       "      <td>5.543905</td>\n",
       "    </tr>\n",
       "    <tr>\n",
       "      <th>3235</th>\n",
       "      <td>3238</td>\n",
       "      <td>6.745669</td>\n",
       "    </tr>\n",
       "    <tr>\n",
       "      <th>3236</th>\n",
       "      <td>3239</td>\n",
       "      <td>16.023518</td>\n",
       "    </tr>\n",
       "    <tr>\n",
       "      <th>3237</th>\n",
       "      <td>3240</td>\n",
       "      <td>11.863103</td>\n",
       "    </tr>\n",
       "    <tr>\n",
       "      <th>3238</th>\n",
       "      <td>3241</td>\n",
       "      <td>12.680959</td>\n",
       "    </tr>\n",
       "  </tbody>\n",
       "</table>\n",
       "<p>3239 rows × 2 columns</p>\n",
       "</div>"
      ],
      "text/plain": [
       "       key      Газ 1\n",
       "0        1  29.749986\n",
       "1        2  12.555561\n",
       "2        3  28.554793\n",
       "3        4  18.841219\n",
       "4        5   5.413692\n",
       "...    ...        ...\n",
       "3234  3237   5.543905\n",
       "3235  3238   6.745669\n",
       "3236  3239  16.023518\n",
       "3237  3240  11.863103\n",
       "3238  3241  12.680959\n",
       "\n",
       "[3239 rows x 2 columns]"
      ]
     },
     "metadata": {},
     "output_type": "display_data"
    }
   ],
   "source": [
    "display(df_gas)"
   ]
  },
  {
   "cell_type": "code",
   "execution_count": 19,
   "id": "2f76ab47",
   "metadata": {},
   "outputs": [
    {
     "name": "stdout",
     "output_type": "stream",
     "text": [
      "<class 'pandas.core.frame.DataFrame'>\n",
      "RangeIndex: 3239 entries, 0 to 3238\n",
      "Data columns (total 2 columns):\n",
      " #   Column  Non-Null Count  Dtype  \n",
      "---  ------  --------------  -----  \n",
      " 0   key     3239 non-null   int64  \n",
      " 1   Газ 1   3239 non-null   float64\n",
      "dtypes: float64(1), int64(1)\n",
      "memory usage: 50.7 KB\n"
     ]
    }
   ],
   "source": [
    "df_gas.info()"
   ]
  },
  {
   "cell_type": "code",
   "execution_count": 20,
   "id": "c9b66881",
   "metadata": {},
   "outputs": [
    {
     "data": {
      "text/plain": [
       "key      0\n",
       "Газ 1    0\n",
       "dtype: int64"
      ]
     },
     "execution_count": 20,
     "metadata": {},
     "output_type": "execute_result"
    }
   ],
   "source": [
    "df_gas.isna().sum()"
   ]
  },
  {
   "cell_type": "code",
   "execution_count": 21,
   "id": "969f1f84",
   "metadata": {},
   "outputs": [
    {
     "data": {
      "image/png": "[encoded data removed]",
      "text/plain": [
       "<Figure size 360x360 with 1 Axes>"
      ]
     },
     "metadata": {
      "needs_background": "light"
     },
     "output_type": "display_data"
    }
   ],
   "source": [
    "sns.catplot(kind=\"box\", data=df_gas[['Газ 1']], palette='viridis', height=5)\n",
    "plt.title('газ', fontsize=14)\n",
    "plt.ylabel('объем')\n",
    "plt.show()"
   ]
  },
  {
   "cell_type": "markdown",
   "id": "f46130d5",
   "metadata": {},
   "source": [
    "Есть выбросы, думаю удалить то, что больше 60"
   ]
  },
  {
   "cell_type": "markdown",
   "id": "a31a0dab",
   "metadata": {},
   "source": [
    "Д. результаты измерения температуры"
   ]
  },
  {
   "cell_type": "code",
   "execution_count": 22,
   "id": "719e0c98",
   "metadata": {},
   "outputs": [
    {
     "data": {
      "text/html": [
       "<div>\n",
       "<style scoped>\n",
       "    .dataframe tbody tr th:only-of-type {\n",
       "        vertical-align: middle;\n",
       "    }\n",
       "\n",
       "    .dataframe tbody tr th {\n",
       "        vertical-align: top;\n",
       "    }\n",
       "\n",
       "    .dataframe thead th {\n",
       "        text-align: right;\n",
       "    }\n",
       "</style>\n",
       "<table border=\"1\" class=\"dataframe\">\n",
       "  <thead>\n",
       "    <tr style=\"text-align: right;\">\n",
       "      <th></th>\n",
       "      <th>key</th>\n",
       "      <th>Время замера</th>\n",
       "      <th>Температура</th>\n",
       "    </tr>\n",
       "  </thead>\n",
       "  <tbody>\n",
       "    <tr>\n",
       "      <th>0</th>\n",
       "      <td>1</td>\n",
       "      <td>2019-05-03 11:02:04</td>\n",
       "      <td>1571.0</td>\n",
       "    </tr>\n",
       "    <tr>\n",
       "      <th>1</th>\n",
       "      <td>1</td>\n",
       "      <td>2019-05-03 11:07:18</td>\n",
       "      <td>1604.0</td>\n",
       "    </tr>\n",
       "    <tr>\n",
       "      <th>2</th>\n",
       "      <td>1</td>\n",
       "      <td>2019-05-03 11:11:34</td>\n",
       "      <td>1618.0</td>\n",
       "    </tr>\n",
       "    <tr>\n",
       "      <th>3</th>\n",
       "      <td>1</td>\n",
       "      <td>2019-05-03 11:18:04</td>\n",
       "      <td>1601.0</td>\n",
       "    </tr>\n",
       "    <tr>\n",
       "      <th>4</th>\n",
       "      <td>1</td>\n",
       "      <td>2019-05-03 11:25:59</td>\n",
       "      <td>1606.0</td>\n",
       "    </tr>\n",
       "    <tr>\n",
       "      <th>...</th>\n",
       "      <td>...</td>\n",
       "      <td>...</td>\n",
       "      <td>...</td>\n",
       "    </tr>\n",
       "    <tr>\n",
       "      <th>18087</th>\n",
       "      <td>3241</td>\n",
       "      <td>2019-09-06 16:55:01</td>\n",
       "      <td>NaN</td>\n",
       "    </tr>\n",
       "    <tr>\n",
       "      <th>18088</th>\n",
       "      <td>3241</td>\n",
       "      <td>2019-09-06 17:06:38</td>\n",
       "      <td>NaN</td>\n",
       "    </tr>\n",
       "    <tr>\n",
       "      <th>18089</th>\n",
       "      <td>3241</td>\n",
       "      <td>2019-09-06 17:21:48</td>\n",
       "      <td>NaN</td>\n",
       "    </tr>\n",
       "    <tr>\n",
       "      <th>18090</th>\n",
       "      <td>3241</td>\n",
       "      <td>2019-09-06 17:24:44</td>\n",
       "      <td>NaN</td>\n",
       "    </tr>\n",
       "    <tr>\n",
       "      <th>18091</th>\n",
       "      <td>3241</td>\n",
       "      <td>2019-09-06 17:30:05</td>\n",
       "      <td>NaN</td>\n",
       "    </tr>\n",
       "  </tbody>\n",
       "</table>\n",
       "<p>18092 rows × 3 columns</p>\n",
       "</div>"
      ],
      "text/plain": [
       "        key         Время замера  Температура\n",
       "0         1  2019-05-03 11:02:04       1571.0\n",
       "1         1  2019-05-03 11:07:18       1604.0\n",
       "2         1  2019-05-03 11:11:34       1618.0\n",
       "3         1  2019-05-03 11:18:04       1601.0\n",
       "4         1  2019-05-03 11:25:59       1606.0\n",
       "...     ...                  ...          ...\n",
       "18087  3241  2019-09-06 16:55:01          NaN\n",
       "18088  3241  2019-09-06 17:06:38          NaN\n",
       "18089  3241  2019-09-06 17:21:48          NaN\n",
       "18090  3241  2019-09-06 17:24:44          NaN\n",
       "18091  3241  2019-09-06 17:30:05          NaN\n",
       "\n",
       "[18092 rows x 3 columns]"
      ]
     },
     "metadata": {},
     "output_type": "display_data"
    }
   ],
   "source": [
    "display(df_temp)"
   ]
  },
  {
   "cell_type": "code",
   "execution_count": 23,
   "id": "d9a97550",
   "metadata": {},
   "outputs": [
    {
     "name": "stdout",
     "output_type": "stream",
     "text": [
      "<class 'pandas.core.frame.DataFrame'>\n",
      "RangeIndex: 18092 entries, 0 to 18091\n",
      "Data columns (total 3 columns):\n",
      " #   Column        Non-Null Count  Dtype  \n",
      "---  ------        --------------  -----  \n",
      " 0   key           18092 non-null  int64  \n",
      " 1   Время замера  18092 non-null  object \n",
      " 2   Температура   14665 non-null  float64\n",
      "dtypes: float64(1), int64(1), object(1)\n",
      "memory usage: 424.2+ KB\n"
     ]
    }
   ],
   "source": [
    "df_temp.info()"
   ]
  },
  {
   "cell_type": "code",
   "execution_count": 24,
   "id": "8730b19a",
   "metadata": {},
   "outputs": [
    {
     "data": {
      "text/plain": [
       "key                0\n",
       "Время замера       0\n",
       "Температура     3427\n",
       "dtype: int64"
      ]
     },
     "execution_count": 24,
     "metadata": {},
     "output_type": "execute_result"
    }
   ],
   "source": [
    "df_temp.isna().sum()"
   ]
  },
  {
   "cell_type": "markdown",
   "id": "a5f94eb8",
   "metadata": {},
   "source": [
    "есть пропуски, посмотрим, сколько их"
   ]
  },
  {
   "cell_type": "code",
   "execution_count": 25,
   "id": "e41bf013",
   "metadata": {},
   "outputs": [
    {
     "name": "stdout",
     "output_type": "stream",
     "text": [
      "Количество пропусков, столбец \"temperature\": \n",
      "19%\n"
     ]
    }
   ],
   "source": [
    "t = df_temp.isna().sum().sort_values(ascending=False)[0]/len(df_temp)\n",
    "print(f'Количество пропусков, столбец \"temperature\": \\n{t:.0%}')"
   ]
  },
  {
   "cell_type": "markdown",
   "id": "32b5b581",
   "metadata": {},
   "source": [
    "Пропусков более 10%, это много, чтобы удалить все. Возможно, не на всех этапах делался замер температуры. В предобработке данных мы удалим данные, где только 1 замер, потому что нам надо начальная и конечная температура для признаков, необходимых для обучения модели. "
   ]
  },
  {
   "cell_type": "code",
   "execution_count": 26,
   "id": "f085621e",
   "metadata": {},
   "outputs": [
    {
     "data": {
      "image/png": "[encoded data removed]",
      "text/plain": [
       "<Figure size 360x360 with 1 Axes>"
      ]
     },
     "metadata": {
      "needs_background": "light"
     },
     "output_type": "display_data"
    }
   ],
   "source": [
    "sns.catplot(kind=\"box\", data=df_temp[['Температура']], palette='viridis', height=5)\n",
    "plt.title('Распределение температур', fontsize=14)\n",
    "plt.ylabel('значение')\n",
    "plt.show()"
   ]
  },
  {
   "cell_type": "markdown",
   "id": "b8d19f2d",
   "metadata": {},
   "source": [
    "есть выбросы, планирую удалить выбросы с температурой меньше 1450"
   ]
  },
  {
   "cell_type": "markdown",
   "id": "23dd6d93",
   "metadata": {},
   "source": [
    "Е.данные о проволочных материалах (объём)"
   ]
  },
  {
   "cell_type": "code",
   "execution_count": 27,
   "id": "cf02c139",
   "metadata": {},
   "outputs": [
    {
     "data": {
      "text/html": [
       "<div>\n",
       "<style scoped>\n",
       "    .dataframe tbody tr th:only-of-type {\n",
       "        vertical-align: middle;\n",
       "    }\n",
       "\n",
       "    .dataframe tbody tr th {\n",
       "        vertical-align: top;\n",
       "    }\n",
       "\n",
       "    .dataframe thead th {\n",
       "        text-align: right;\n",
       "    }\n",
       "</style>\n",
       "<table border=\"1\" class=\"dataframe\">\n",
       "  <thead>\n",
       "    <tr style=\"text-align: right;\">\n",
       "      <th></th>\n",
       "      <th>key</th>\n",
       "      <th>Wire 1</th>\n",
       "      <th>Wire 2</th>\n",
       "      <th>Wire 3</th>\n",
       "      <th>Wire 4</th>\n",
       "      <th>Wire 5</th>\n",
       "      <th>Wire 6</th>\n",
       "      <th>Wire 7</th>\n",
       "      <th>Wire 8</th>\n",
       "      <th>Wire 9</th>\n",
       "    </tr>\n",
       "  </thead>\n",
       "  <tbody>\n",
       "    <tr>\n",
       "      <th>0</th>\n",
       "      <td>1</td>\n",
       "      <td>60.059998</td>\n",
       "      <td>NaN</td>\n",
       "      <td>NaN</td>\n",
       "      <td>NaN</td>\n",
       "      <td>NaN</td>\n",
       "      <td>NaN</td>\n",
       "      <td>NaN</td>\n",
       "      <td>NaN</td>\n",
       "      <td>NaN</td>\n",
       "    </tr>\n",
       "    <tr>\n",
       "      <th>1</th>\n",
       "      <td>2</td>\n",
       "      <td>96.052315</td>\n",
       "      <td>NaN</td>\n",
       "      <td>NaN</td>\n",
       "      <td>NaN</td>\n",
       "      <td>NaN</td>\n",
       "      <td>NaN</td>\n",
       "      <td>NaN</td>\n",
       "      <td>NaN</td>\n",
       "      <td>NaN</td>\n",
       "    </tr>\n",
       "    <tr>\n",
       "      <th>2</th>\n",
       "      <td>3</td>\n",
       "      <td>91.160157</td>\n",
       "      <td>NaN</td>\n",
       "      <td>NaN</td>\n",
       "      <td>NaN</td>\n",
       "      <td>NaN</td>\n",
       "      <td>NaN</td>\n",
       "      <td>NaN</td>\n",
       "      <td>NaN</td>\n",
       "      <td>NaN</td>\n",
       "    </tr>\n",
       "    <tr>\n",
       "      <th>3</th>\n",
       "      <td>4</td>\n",
       "      <td>89.063515</td>\n",
       "      <td>NaN</td>\n",
       "      <td>NaN</td>\n",
       "      <td>NaN</td>\n",
       "      <td>NaN</td>\n",
       "      <td>NaN</td>\n",
       "      <td>NaN</td>\n",
       "      <td>NaN</td>\n",
       "      <td>NaN</td>\n",
       "    </tr>\n",
       "    <tr>\n",
       "      <th>4</th>\n",
       "      <td>5</td>\n",
       "      <td>89.238236</td>\n",
       "      <td>9.11456</td>\n",
       "      <td>NaN</td>\n",
       "      <td>NaN</td>\n",
       "      <td>NaN</td>\n",
       "      <td>NaN</td>\n",
       "      <td>NaN</td>\n",
       "      <td>NaN</td>\n",
       "      <td>NaN</td>\n",
       "    </tr>\n",
       "    <tr>\n",
       "      <th>...</th>\n",
       "      <td>...</td>\n",
       "      <td>...</td>\n",
       "      <td>...</td>\n",
       "      <td>...</td>\n",
       "      <td>...</td>\n",
       "      <td>...</td>\n",
       "      <td>...</td>\n",
       "      <td>...</td>\n",
       "      <td>...</td>\n",
       "      <td>...</td>\n",
       "    </tr>\n",
       "    <tr>\n",
       "      <th>3076</th>\n",
       "      <td>3237</td>\n",
       "      <td>38.088959</td>\n",
       "      <td>NaN</td>\n",
       "      <td>NaN</td>\n",
       "      <td>NaN</td>\n",
       "      <td>NaN</td>\n",
       "      <td>NaN</td>\n",
       "      <td>NaN</td>\n",
       "      <td>NaN</td>\n",
       "      <td>NaN</td>\n",
       "    </tr>\n",
       "    <tr>\n",
       "      <th>3077</th>\n",
       "      <td>3238</td>\n",
       "      <td>56.128799</td>\n",
       "      <td>NaN</td>\n",
       "      <td>NaN</td>\n",
       "      <td>NaN</td>\n",
       "      <td>NaN</td>\n",
       "      <td>NaN</td>\n",
       "      <td>NaN</td>\n",
       "      <td>NaN</td>\n",
       "      <td>NaN</td>\n",
       "    </tr>\n",
       "    <tr>\n",
       "      <th>3078</th>\n",
       "      <td>3239</td>\n",
       "      <td>143.357761</td>\n",
       "      <td>NaN</td>\n",
       "      <td>NaN</td>\n",
       "      <td>NaN</td>\n",
       "      <td>NaN</td>\n",
       "      <td>NaN</td>\n",
       "      <td>NaN</td>\n",
       "      <td>NaN</td>\n",
       "      <td>NaN</td>\n",
       "    </tr>\n",
       "    <tr>\n",
       "      <th>3079</th>\n",
       "      <td>3240</td>\n",
       "      <td>34.070400</td>\n",
       "      <td>NaN</td>\n",
       "      <td>NaN</td>\n",
       "      <td>NaN</td>\n",
       "      <td>NaN</td>\n",
       "      <td>NaN</td>\n",
       "      <td>NaN</td>\n",
       "      <td>NaN</td>\n",
       "      <td>NaN</td>\n",
       "    </tr>\n",
       "    <tr>\n",
       "      <th>3080</th>\n",
       "      <td>3241</td>\n",
       "      <td>63.117595</td>\n",
       "      <td>NaN</td>\n",
       "      <td>NaN</td>\n",
       "      <td>NaN</td>\n",
       "      <td>NaN</td>\n",
       "      <td>NaN</td>\n",
       "      <td>NaN</td>\n",
       "      <td>NaN</td>\n",
       "      <td>NaN</td>\n",
       "    </tr>\n",
       "  </tbody>\n",
       "</table>\n",
       "<p>3081 rows × 10 columns</p>\n",
       "</div>"
      ],
      "text/plain": [
       "       key      Wire 1   Wire 2  Wire 3  Wire 4  Wire 5  Wire 6  Wire 7  \\\n",
       "0        1   60.059998      NaN     NaN     NaN     NaN     NaN     NaN   \n",
       "1        2   96.052315      NaN     NaN     NaN     NaN     NaN     NaN   \n",
       "2        3   91.160157      NaN     NaN     NaN     NaN     NaN     NaN   \n",
       "3        4   89.063515      NaN     NaN     NaN     NaN     NaN     NaN   \n",
       "4        5   89.238236  9.11456     NaN     NaN     NaN     NaN     NaN   \n",
       "...    ...         ...      ...     ...     ...     ...     ...     ...   \n",
       "3076  3237   38.088959      NaN     NaN     NaN     NaN     NaN     NaN   \n",
       "3077  3238   56.128799      NaN     NaN     NaN     NaN     NaN     NaN   \n",
       "3078  3239  143.357761      NaN     NaN     NaN     NaN     NaN     NaN   \n",
       "3079  3240   34.070400      NaN     NaN     NaN     NaN     NaN     NaN   \n",
       "3080  3241   63.117595      NaN     NaN     NaN     NaN     NaN     NaN   \n",
       "\n",
       "      Wire 8  Wire 9  \n",
       "0        NaN     NaN  \n",
       "1        NaN     NaN  \n",
       "2        NaN     NaN  \n",
       "3        NaN     NaN  \n",
       "4        NaN     NaN  \n",
       "...      ...     ...  \n",
       "3076     NaN     NaN  \n",
       "3077     NaN     NaN  \n",
       "3078     NaN     NaN  \n",
       "3079     NaN     NaN  \n",
       "3080     NaN     NaN  \n",
       "\n",
       "[3081 rows x 10 columns]"
      ]
     },
     "metadata": {},
     "output_type": "display_data"
    }
   ],
   "source": [
    "display(df_wire)"
   ]
  },
  {
   "cell_type": "code",
   "execution_count": 28,
   "id": "18a7956c",
   "metadata": {},
   "outputs": [
    {
     "name": "stdout",
     "output_type": "stream",
     "text": [
      "<class 'pandas.core.frame.DataFrame'>\n",
      "RangeIndex: 3081 entries, 0 to 3080\n",
      "Data columns (total 10 columns):\n",
      " #   Column  Non-Null Count  Dtype  \n",
      "---  ------  --------------  -----  \n",
      " 0   key     3081 non-null   int64  \n",
      " 1   Wire 1  3055 non-null   float64\n",
      " 2   Wire 2  1079 non-null   float64\n",
      " 3   Wire 3  63 non-null     float64\n",
      " 4   Wire 4  14 non-null     float64\n",
      " 5   Wire 5  1 non-null      float64\n",
      " 6   Wire 6  73 non-null     float64\n",
      " 7   Wire 7  11 non-null     float64\n",
      " 8   Wire 8  19 non-null     float64\n",
      " 9   Wire 9  29 non-null     float64\n",
      "dtypes: float64(9), int64(1)\n",
      "memory usage: 240.8 KB\n"
     ]
    }
   ],
   "source": [
    "df_wire.info()"
   ]
  },
  {
   "cell_type": "code",
   "execution_count": 29,
   "id": "39aff7bd",
   "metadata": {},
   "outputs": [
    {
     "data": {
      "text/plain": [
       "key          0\n",
       "Wire 1      26\n",
       "Wire 2    2002\n",
       "Wire 3    3018\n",
       "Wire 4    3067\n",
       "Wire 5    3080\n",
       "Wire 6    3008\n",
       "Wire 7    3070\n",
       "Wire 8    3062\n",
       "Wire 9    3052\n",
       "dtype: int64"
      ]
     },
     "execution_count": 29,
     "metadata": {},
     "output_type": "execute_result"
    }
   ],
   "source": [
    "df_wire.isna().sum()"
   ]
  },
  {
   "cell_type": "markdown",
   "id": "9d040531",
   "metadata": {},
   "source": [
    "много пропусков. Вероятно, проволочные материалы используются не в каждом этапе производства. Думаю заполнить их нулями в дальнейшем"
   ]
  },
  {
   "cell_type": "markdown",
   "id": "7bf466eb",
   "metadata": {},
   "source": [
    "Ж.данные о проволочных материалах (время)"
   ]
  },
  {
   "cell_type": "code",
   "execution_count": 30,
   "id": "e3fb1b45",
   "metadata": {},
   "outputs": [
    {
     "data": {
      "text/html": [
       "<div>\n",
       "<style scoped>\n",
       "    .dataframe tbody tr th:only-of-type {\n",
       "        vertical-align: middle;\n",
       "    }\n",
       "\n",
       "    .dataframe tbody tr th {\n",
       "        vertical-align: top;\n",
       "    }\n",
       "\n",
       "    .dataframe thead th {\n",
       "        text-align: right;\n",
       "    }\n",
       "</style>\n",
       "<table border=\"1\" class=\"dataframe\">\n",
       "  <thead>\n",
       "    <tr style=\"text-align: right;\">\n",
       "      <th></th>\n",
       "      <th>key</th>\n",
       "      <th>Wire 1</th>\n",
       "      <th>Wire 2</th>\n",
       "      <th>Wire 3</th>\n",
       "      <th>Wire 4</th>\n",
       "      <th>Wire 5</th>\n",
       "      <th>Wire 6</th>\n",
       "      <th>Wire 7</th>\n",
       "      <th>Wire 8</th>\n",
       "      <th>Wire 9</th>\n",
       "    </tr>\n",
       "  </thead>\n",
       "  <tbody>\n",
       "    <tr>\n",
       "      <th>0</th>\n",
       "      <td>1</td>\n",
       "      <td>2019-05-03 11:06:19</td>\n",
       "      <td>NaN</td>\n",
       "      <td>NaN</td>\n",
       "      <td>NaN</td>\n",
       "      <td>NaN</td>\n",
       "      <td>NaN</td>\n",
       "      <td>NaN</td>\n",
       "      <td>NaN</td>\n",
       "      <td>NaN</td>\n",
       "    </tr>\n",
       "    <tr>\n",
       "      <th>1</th>\n",
       "      <td>2</td>\n",
       "      <td>2019-05-03 11:36:50</td>\n",
       "      <td>NaN</td>\n",
       "      <td>NaN</td>\n",
       "      <td>NaN</td>\n",
       "      <td>NaN</td>\n",
       "      <td>NaN</td>\n",
       "      <td>NaN</td>\n",
       "      <td>NaN</td>\n",
       "      <td>NaN</td>\n",
       "    </tr>\n",
       "    <tr>\n",
       "      <th>2</th>\n",
       "      <td>3</td>\n",
       "      <td>2019-05-03 12:11:46</td>\n",
       "      <td>NaN</td>\n",
       "      <td>NaN</td>\n",
       "      <td>NaN</td>\n",
       "      <td>NaN</td>\n",
       "      <td>NaN</td>\n",
       "      <td>NaN</td>\n",
       "      <td>NaN</td>\n",
       "      <td>NaN</td>\n",
       "    </tr>\n",
       "    <tr>\n",
       "      <th>3</th>\n",
       "      <td>4</td>\n",
       "      <td>2019-05-03 12:43:22</td>\n",
       "      <td>NaN</td>\n",
       "      <td>NaN</td>\n",
       "      <td>NaN</td>\n",
       "      <td>NaN</td>\n",
       "      <td>NaN</td>\n",
       "      <td>NaN</td>\n",
       "      <td>NaN</td>\n",
       "      <td>NaN</td>\n",
       "    </tr>\n",
       "    <tr>\n",
       "      <th>4</th>\n",
       "      <td>5</td>\n",
       "      <td>2019-05-03 13:20:44</td>\n",
       "      <td>2019-05-03 13:15:34</td>\n",
       "      <td>NaN</td>\n",
       "      <td>NaN</td>\n",
       "      <td>NaN</td>\n",
       "      <td>NaN</td>\n",
       "      <td>NaN</td>\n",
       "      <td>NaN</td>\n",
       "      <td>NaN</td>\n",
       "    </tr>\n",
       "    <tr>\n",
       "      <th>...</th>\n",
       "      <td>...</td>\n",
       "      <td>...</td>\n",
       "      <td>...</td>\n",
       "      <td>...</td>\n",
       "      <td>...</td>\n",
       "      <td>...</td>\n",
       "      <td>...</td>\n",
       "      <td>...</td>\n",
       "      <td>...</td>\n",
       "      <td>...</td>\n",
       "    </tr>\n",
       "    <tr>\n",
       "      <th>3076</th>\n",
       "      <td>3237</td>\n",
       "      <td>2019-09-06 11:33:38</td>\n",
       "      <td>NaN</td>\n",
       "      <td>NaN</td>\n",
       "      <td>NaN</td>\n",
       "      <td>NaN</td>\n",
       "      <td>NaN</td>\n",
       "      <td>NaN</td>\n",
       "      <td>NaN</td>\n",
       "      <td>NaN</td>\n",
       "    </tr>\n",
       "    <tr>\n",
       "      <th>3077</th>\n",
       "      <td>3238</td>\n",
       "      <td>2019-09-06 12:18:35</td>\n",
       "      <td>NaN</td>\n",
       "      <td>NaN</td>\n",
       "      <td>NaN</td>\n",
       "      <td>NaN</td>\n",
       "      <td>NaN</td>\n",
       "      <td>NaN</td>\n",
       "      <td>NaN</td>\n",
       "      <td>NaN</td>\n",
       "    </tr>\n",
       "    <tr>\n",
       "      <th>3078</th>\n",
       "      <td>3239</td>\n",
       "      <td>2019-09-06 14:36:11</td>\n",
       "      <td>NaN</td>\n",
       "      <td>NaN</td>\n",
       "      <td>NaN</td>\n",
       "      <td>NaN</td>\n",
       "      <td>NaN</td>\n",
       "      <td>NaN</td>\n",
       "      <td>NaN</td>\n",
       "      <td>NaN</td>\n",
       "    </tr>\n",
       "    <tr>\n",
       "      <th>3079</th>\n",
       "      <td>3240</td>\n",
       "      <td>2019-09-06 15:33:55</td>\n",
       "      <td>NaN</td>\n",
       "      <td>NaN</td>\n",
       "      <td>NaN</td>\n",
       "      <td>NaN</td>\n",
       "      <td>NaN</td>\n",
       "      <td>NaN</td>\n",
       "      <td>NaN</td>\n",
       "      <td>NaN</td>\n",
       "    </tr>\n",
       "    <tr>\n",
       "      <th>3080</th>\n",
       "      <td>3241</td>\n",
       "      <td>2019-09-06 17:10:06</td>\n",
       "      <td>NaN</td>\n",
       "      <td>NaN</td>\n",
       "      <td>NaN</td>\n",
       "      <td>NaN</td>\n",
       "      <td>NaN</td>\n",
       "      <td>NaN</td>\n",
       "      <td>NaN</td>\n",
       "      <td>NaN</td>\n",
       "    </tr>\n",
       "  </tbody>\n",
       "</table>\n",
       "<p>3081 rows × 10 columns</p>\n",
       "</div>"
      ],
      "text/plain": [
       "       key               Wire 1               Wire 2 Wire 3 Wire 4 Wire 5  \\\n",
       "0        1  2019-05-03 11:06:19                  NaN    NaN    NaN    NaN   \n",
       "1        2  2019-05-03 11:36:50                  NaN    NaN    NaN    NaN   \n",
       "2        3  2019-05-03 12:11:46                  NaN    NaN    NaN    NaN   \n",
       "3        4  2019-05-03 12:43:22                  NaN    NaN    NaN    NaN   \n",
       "4        5  2019-05-03 13:20:44  2019-05-03 13:15:34    NaN    NaN    NaN   \n",
       "...    ...                  ...                  ...    ...    ...    ...   \n",
       "3076  3237  2019-09-06 11:33:38                  NaN    NaN    NaN    NaN   \n",
       "3077  3238  2019-09-06 12:18:35                  NaN    NaN    NaN    NaN   \n",
       "3078  3239  2019-09-06 14:36:11                  NaN    NaN    NaN    NaN   \n",
       "3079  3240  2019-09-06 15:33:55                  NaN    NaN    NaN    NaN   \n",
       "3080  3241  2019-09-06 17:10:06                  NaN    NaN    NaN    NaN   \n",
       "\n",
       "     Wire 6 Wire 7 Wire 8 Wire 9  \n",
       "0       NaN    NaN    NaN    NaN  \n",
       "1       NaN    NaN    NaN    NaN  \n",
       "2       NaN    NaN    NaN    NaN  \n",
       "3       NaN    NaN    NaN    NaN  \n",
       "4       NaN    NaN    NaN    NaN  \n",
       "...     ...    ...    ...    ...  \n",
       "3076    NaN    NaN    NaN    NaN  \n",
       "3077    NaN    NaN    NaN    NaN  \n",
       "3078    NaN    NaN    NaN    NaN  \n",
       "3079    NaN    NaN    NaN    NaN  \n",
       "3080    NaN    NaN    NaN    NaN  \n",
       "\n",
       "[3081 rows x 10 columns]"
      ]
     },
     "metadata": {},
     "output_type": "display_data"
    }
   ],
   "source": [
    "display(df_wire_time)"
   ]
  },
  {
   "cell_type": "code",
   "execution_count": 31,
   "id": "410a9cbf",
   "metadata": {},
   "outputs": [
    {
     "name": "stdout",
     "output_type": "stream",
     "text": [
      "<class 'pandas.core.frame.DataFrame'>\n",
      "RangeIndex: 3081 entries, 0 to 3080\n",
      "Data columns (total 10 columns):\n",
      " #   Column  Non-Null Count  Dtype \n",
      "---  ------  --------------  ----- \n",
      " 0   key     3081 non-null   int64 \n",
      " 1   Wire 1  3055 non-null   object\n",
      " 2   Wire 2  1079 non-null   object\n",
      " 3   Wire 3  63 non-null     object\n",
      " 4   Wire 4  14 non-null     object\n",
      " 5   Wire 5  1 non-null      object\n",
      " 6   Wire 6  73 non-null     object\n",
      " 7   Wire 7  11 non-null     object\n",
      " 8   Wire 8  19 non-null     object\n",
      " 9   Wire 9  29 non-null     object\n",
      "dtypes: int64(1), object(9)\n",
      "memory usage: 240.8+ KB\n"
     ]
    }
   ],
   "source": [
    "df_wire_time.info()"
   ]
  },
  {
   "cell_type": "code",
   "execution_count": 32,
   "id": "d6699df4",
   "metadata": {},
   "outputs": [
    {
     "data": {
      "text/plain": [
       "key          0\n",
       "Wire 1      26\n",
       "Wire 2    2002\n",
       "Wire 3    3018\n",
       "Wire 4    3067\n",
       "Wire 5    3080\n",
       "Wire 6    3008\n",
       "Wire 7    3070\n",
       "Wire 8    3062\n",
       "Wire 9    3052\n",
       "dtype: int64"
      ]
     },
     "execution_count": 32,
     "metadata": {},
     "output_type": "execute_result"
    }
   ],
   "source": [
    "df_wire_time.isna().sum()"
   ]
  },
  {
   "cell_type": "markdown",
   "id": "6d9f4169",
   "metadata": {},
   "source": [
    "много пропусков. Вероятно, проволочные материалы используются не в каждом этапе производства. Думаю заполнить их нулями в дальнейшем"
   ]
  },
  {
   "cell_type": "markdown",
   "id": "c086cbcf",
   "metadata": {},
   "source": [
    "# Вывод:\n",
    "1. В данных об электродах увидели выбросы по мощности, в дальнейшем удалим их;\n",
    "2. Посчитали общую мощность;\n",
    "3. Посчитали время нагрева;\n",
    "4. В данных об электродах увидели выбросы по времени нагрева, в дальнейшем удалим их;\n",
    "5. В данных по сыпучим материалам много пропусков, в рамках предобработки данных на основе информации, что сыпучие материалы подают не всегда, заполним их нулями;\n",
    "6.В данных по проволочным материалам много пропусков, в рамках предобработки данных на основе информации, что сыпучие материалы подают не всегда, заполним их нулями;\n",
    "7. В рамках нашей непосредственной задачи нам нет необходимости использовать данные по времени подачи сыпучих и проволочных материалов;\n",
    "8. В предобраюотке данных мы удалим партии, в которых есть только 1 замер температуры в связи с невозможностью их использования для обучения модели."
   ]
  },
  {
   "cell_type": "markdown",
   "id": "b13f7f4e",
   "metadata": {},
   "source": [
    "Много пропусков в данных о проволочных и сыпучих материалах. Возможно, они используются не в каждом этапе производства."
   ]
  },
  {
   "cell_type": "markdown",
   "id": "8a517b11",
   "metadata": {},
   "source": [
    "План проекта:\n",
    "\n",
    "1. Предобработка данных (с учетом ответов на уточняющие вопросы): заполнение пропусков, удаление ненужной для выполнения нашей задачи информации;\n",
    "2. Объединение всех необходимых данных в одну таблицу по \"key\", одинаковому во всех таблицах;\n",
    "3. Подготовить выборки (выделить целевой признак, разделить выборки на тестовую и тренировочную);\n",
    "4. Обучение нескольких моделей на нашей выборке;\n",
    "5. Выбор наиболее успешной модели, оценка ее на тестовой выборке, получение целевого показателя заданной метрики. "
   ]
  },
  {
   "cell_type": "markdown",
   "id": "8faf7723",
   "metadata": {},
   "source": [
    "Цель проекта:\n",
    "\n",
    "построение модели, которая предскажет температуру стали, производимой ООО «Так закаляем сталь», которая позволит сократить потребление электроэнергии и соответственно производственные расходы.\n"
   ]
  },
  {
   "cell_type": "markdown",
   "id": "8dfdb29c",
   "metadata": {},
   "source": [
    "2. Предобработка данных"
   ]
  },
  {
   "cell_type": "markdown",
   "id": "e98fc548",
   "metadata": {},
   "source": [
    "А. данные об электродах"
   ]
  },
  {
   "cell_type": "code",
   "execution_count": 33,
   "id": "2246a67d",
   "metadata": {},
   "outputs": [
    {
     "data": {
      "text/html": [
       "<div>\n",
       "<style scoped>\n",
       "    .dataframe tbody tr th:only-of-type {\n",
       "        vertical-align: middle;\n",
       "    }\n",
       "\n",
       "    .dataframe tbody tr th {\n",
       "        vertical-align: top;\n",
       "    }\n",
       "\n",
       "    .dataframe thead th {\n",
       "        text-align: right;\n",
       "    }\n",
       "</style>\n",
       "<table border=\"1\" class=\"dataframe\">\n",
       "  <thead>\n",
       "    <tr style=\"text-align: right;\">\n",
       "      <th></th>\n",
       "      <th>key</th>\n",
       "      <th>Время_нагрева_секунд</th>\n",
       "      <th>Общая_мощность</th>\n",
       "    </tr>\n",
       "  </thead>\n",
       "  <tbody>\n",
       "    <tr>\n",
       "      <th>count</th>\n",
       "      <td>14876.000000</td>\n",
       "      <td>14876.000000</td>\n",
       "      <td>14876.000000</td>\n",
       "    </tr>\n",
       "    <tr>\n",
       "      <th>mean</th>\n",
       "      <td>1615.220422</td>\n",
       "      <td>171.670946</td>\n",
       "      <td>0.871425</td>\n",
       "    </tr>\n",
       "    <tr>\n",
       "      <th>std</th>\n",
       "      <td>934.571502</td>\n",
       "      <td>98.186803</td>\n",
       "      <td>5.868339</td>\n",
       "    </tr>\n",
       "    <tr>\n",
       "      <th>min</th>\n",
       "      <td>1.000000</td>\n",
       "      <td>11.000000</td>\n",
       "      <td>0.275718</td>\n",
       "    </tr>\n",
       "    <tr>\n",
       "      <th>25%</th>\n",
       "      <td>806.000000</td>\n",
       "      <td>107.000000</td>\n",
       "      <td>0.578847</td>\n",
       "    </tr>\n",
       "    <tr>\n",
       "      <th>50%</th>\n",
       "      <td>1617.000000</td>\n",
       "      <td>147.000000</td>\n",
       "      <td>0.746591</td>\n",
       "    </tr>\n",
       "    <tr>\n",
       "      <th>75%</th>\n",
       "      <td>2429.000000</td>\n",
       "      <td>214.000000</td>\n",
       "      <td>1.030427</td>\n",
       "    </tr>\n",
       "    <tr>\n",
       "      <th>max</th>\n",
       "      <td>3241.000000</td>\n",
       "      <td>907.000000</td>\n",
       "      <td>715.480272</td>\n",
       "    </tr>\n",
       "  </tbody>\n",
       "</table>\n",
       "</div>"
      ],
      "text/plain": [
       "                key  Время_нагрева_секунд  Общая_мощность\n",
       "count  14876.000000          14876.000000    14876.000000\n",
       "mean    1615.220422            171.670946        0.871425\n",
       "std      934.571502             98.186803        5.868339\n",
       "min        1.000000             11.000000        0.275718\n",
       "25%      806.000000            107.000000        0.578847\n",
       "50%     1617.000000            147.000000        0.746591\n",
       "75%     2429.000000            214.000000        1.030427\n",
       "max     3241.000000            907.000000      715.480272"
      ]
     },
     "metadata": {},
     "output_type": "display_data"
    }
   ],
   "source": [
    "#уберем ненужные для дальнейшего исследования столбцы\n",
    "df_arc=df_arc[['key', 'Время_нагрева_секунд', 'Общая_мощность']]\n",
    "display(df_arc.describe())"
   ]
  },
  {
   "cell_type": "code",
   "execution_count": 34,
   "id": "cf71e887",
   "metadata": {},
   "outputs": [
    {
     "data": {
      "text/html": [
       "<div>\n",
       "<style scoped>\n",
       "    .dataframe tbody tr th:only-of-type {\n",
       "        vertical-align: middle;\n",
       "    }\n",
       "\n",
       "    .dataframe tbody tr th {\n",
       "        vertical-align: top;\n",
       "    }\n",
       "\n",
       "    .dataframe thead th {\n",
       "        text-align: right;\n",
       "    }\n",
       "</style>\n",
       "<table border=\"1\" class=\"dataframe\">\n",
       "  <thead>\n",
       "    <tr style=\"text-align: right;\">\n",
       "      <th></th>\n",
       "      <th>key</th>\n",
       "      <th>Время_нагрева_секунд</th>\n",
       "      <th>Общая_мощность</th>\n",
       "    </tr>\n",
       "  </thead>\n",
       "  <tbody>\n",
       "    <tr>\n",
       "      <th>count</th>\n",
       "      <td>14875.000000</td>\n",
       "      <td>14875.000000</td>\n",
       "      <td>14875.000000</td>\n",
       "    </tr>\n",
       "    <tr>\n",
       "      <th>mean</th>\n",
       "      <td>1615.186756</td>\n",
       "      <td>171.675160</td>\n",
       "      <td>0.823385</td>\n",
       "    </tr>\n",
       "    <tr>\n",
       "      <th>std</th>\n",
       "      <td>934.593897</td>\n",
       "      <td>98.188759</td>\n",
       "      <td>0.323470</td>\n",
       "    </tr>\n",
       "    <tr>\n",
       "      <th>min</th>\n",
       "      <td>1.000000</td>\n",
       "      <td>11.000000</td>\n",
       "      <td>0.275718</td>\n",
       "    </tr>\n",
       "    <tr>\n",
       "      <th>25%</th>\n",
       "      <td>806.000000</td>\n",
       "      <td>107.000000</td>\n",
       "      <td>0.578839</td>\n",
       "    </tr>\n",
       "    <tr>\n",
       "      <th>50%</th>\n",
       "      <td>1617.000000</td>\n",
       "      <td>147.000000</td>\n",
       "      <td>0.746554</td>\n",
       "    </tr>\n",
       "    <tr>\n",
       "      <th>75%</th>\n",
       "      <td>2429.000000</td>\n",
       "      <td>214.000000</td>\n",
       "      <td>1.030402</td>\n",
       "    </tr>\n",
       "    <tr>\n",
       "      <th>max</th>\n",
       "      <td>3241.000000</td>\n",
       "      <td>907.000000</td>\n",
       "      <td>1.898158</td>\n",
       "    </tr>\n",
       "  </tbody>\n",
       "</table>\n",
       "</div>"
      ],
      "text/plain": [
       "                key  Время_нагрева_секунд  Общая_мощность\n",
       "count  14875.000000          14875.000000    14875.000000\n",
       "mean    1615.186756            171.675160        0.823385\n",
       "std      934.593897             98.188759        0.323470\n",
       "min        1.000000             11.000000        0.275718\n",
       "25%      806.000000            107.000000        0.578839\n",
       "50%     1617.000000            147.000000        0.746554\n",
       "75%     2429.000000            214.000000        1.030402\n",
       "max     3241.000000            907.000000        1.898158"
      ]
     },
     "metadata": {},
     "output_type": "display_data"
    }
   ],
   "source": [
    "#уберем строки с аномальными значениями мощности\n",
    "df_arc=df_arc.query('0<Общая_мощность<50')\n",
    "display(df_arc.describe())"
   ]
  },
  {
   "cell_type": "code",
   "execution_count": 35,
   "id": "fb4ffc24",
   "metadata": {},
   "outputs": [
    {
     "data": {
      "text/html": [
       "<div>\n",
       "<style scoped>\n",
       "    .dataframe tbody tr th:only-of-type {\n",
       "        vertical-align: middle;\n",
       "    }\n",
       "\n",
       "    .dataframe tbody tr th {\n",
       "        vertical-align: top;\n",
       "    }\n",
       "\n",
       "    .dataframe thead th {\n",
       "        text-align: right;\n",
       "    }\n",
       "</style>\n",
       "<table border=\"1\" class=\"dataframe\">\n",
       "  <thead>\n",
       "    <tr style=\"text-align: right;\">\n",
       "      <th></th>\n",
       "      <th>key</th>\n",
       "      <th>Время_нагрева_секунд</th>\n",
       "      <th>Общая_мощность</th>\n",
       "    </tr>\n",
       "  </thead>\n",
       "  <tbody>\n",
       "    <tr>\n",
       "      <th>count</th>\n",
       "      <td>14873.000000</td>\n",
       "      <td>14873.000000</td>\n",
       "      <td>14873.000000</td>\n",
       "    </tr>\n",
       "    <tr>\n",
       "      <th>mean</th>\n",
       "      <td>1615.108788</td>\n",
       "      <td>171.581725</td>\n",
       "      <td>0.823330</td>\n",
       "    </tr>\n",
       "    <tr>\n",
       "      <th>std</th>\n",
       "      <td>934.614128</td>\n",
       "      <td>97.863040</td>\n",
       "      <td>0.323456</td>\n",
       "    </tr>\n",
       "    <tr>\n",
       "      <th>min</th>\n",
       "      <td>1.000000</td>\n",
       "      <td>11.000000</td>\n",
       "      <td>0.275718</td>\n",
       "    </tr>\n",
       "    <tr>\n",
       "      <th>25%</th>\n",
       "      <td>806.000000</td>\n",
       "      <td>107.000000</td>\n",
       "      <td>0.578821</td>\n",
       "    </tr>\n",
       "    <tr>\n",
       "      <th>50%</th>\n",
       "      <td>1616.000000</td>\n",
       "      <td>147.000000</td>\n",
       "      <td>0.746414</td>\n",
       "    </tr>\n",
       "    <tr>\n",
       "      <th>75%</th>\n",
       "      <td>2429.000000</td>\n",
       "      <td>214.000000</td>\n",
       "      <td>1.030258</td>\n",
       "    </tr>\n",
       "    <tr>\n",
       "      <th>max</th>\n",
       "      <td>3241.000000</td>\n",
       "      <td>780.000000</td>\n",
       "      <td>1.898158</td>\n",
       "    </tr>\n",
       "  </tbody>\n",
       "</table>\n",
       "</div>"
      ],
      "text/plain": [
       "                key  Время_нагрева_секунд  Общая_мощность\n",
       "count  14873.000000          14873.000000    14873.000000\n",
       "mean    1615.108788            171.581725        0.823330\n",
       "std      934.614128             97.863040        0.323456\n",
       "min        1.000000             11.000000        0.275718\n",
       "25%      806.000000            107.000000        0.578821\n",
       "50%     1616.000000            147.000000        0.746414\n",
       "75%     2429.000000            214.000000        1.030258\n",
       "max     3241.000000            780.000000        1.898158"
      ]
     },
     "metadata": {},
     "output_type": "display_data"
    }
   ],
   "source": [
    "#уберем строки с аномальными значениями времени нагрева\n",
    "df_arc=df_arc.query('Время_нагрева_секунд <800')\n",
    "display(df_arc.describe())"
   ]
  },
  {
   "cell_type": "code",
   "execution_count": 36,
   "id": "93b83dad",
   "metadata": {},
   "outputs": [
    {
     "data": {
      "text/plain": [
       "key                   0\n",
       "Количество_замеров    0\n",
       "dtype: int64"
      ]
     },
     "metadata": {},
     "output_type": "display_data"
    },
    {
     "data": {
      "text/html": [
       "<div>\n",
       "<style scoped>\n",
       "    .dataframe tbody tr th:only-of-type {\n",
       "        vertical-align: middle;\n",
       "    }\n",
       "\n",
       "    .dataframe tbody tr th {\n",
       "        vertical-align: top;\n",
       "    }\n",
       "\n",
       "    .dataframe thead th {\n",
       "        text-align: right;\n",
       "    }\n",
       "</style>\n",
       "<table border=\"1\" class=\"dataframe\">\n",
       "  <thead>\n",
       "    <tr style=\"text-align: right;\">\n",
       "      <th></th>\n",
       "      <th>key</th>\n",
       "      <th>Время_нагрева_секунд</th>\n",
       "      <th>Общая_мощность</th>\n",
       "      <th>Количество_замеров</th>\n",
       "    </tr>\n",
       "  </thead>\n",
       "  <tbody>\n",
       "    <tr>\n",
       "      <th>0</th>\n",
       "      <td>1</td>\n",
       "      <td>1098</td>\n",
       "      <td>3.718736</td>\n",
       "      <td>5</td>\n",
       "    </tr>\n",
       "    <tr>\n",
       "      <th>1</th>\n",
       "      <td>2</td>\n",
       "      <td>811</td>\n",
       "      <td>2.588349</td>\n",
       "      <td>4</td>\n",
       "    </tr>\n",
       "    <tr>\n",
       "      <th>2</th>\n",
       "      <td>3</td>\n",
       "      <td>655</td>\n",
       "      <td>5.019223</td>\n",
       "      <td>5</td>\n",
       "    </tr>\n",
       "    <tr>\n",
       "      <th>3</th>\n",
       "      <td>4</td>\n",
       "      <td>741</td>\n",
       "      <td>3.400038</td>\n",
       "      <td>4</td>\n",
       "    </tr>\n",
       "    <tr>\n",
       "      <th>4</th>\n",
       "      <td>5</td>\n",
       "      <td>869</td>\n",
       "      <td>2.816980</td>\n",
       "      <td>4</td>\n",
       "    </tr>\n",
       "  </tbody>\n",
       "</table>\n",
       "</div>"
      ],
      "text/plain": [
       "   key  Время_нагрева_секунд  Общая_мощность  Количество_замеров\n",
       "0    1                  1098        3.718736                   5\n",
       "1    2                   811        2.588349                   4\n",
       "2    3                   655        5.019223                   5\n",
       "3    4                   741        3.400038                   4\n",
       "4    5                   869        2.816980                   4"
      ]
     },
     "metadata": {},
     "output_type": "display_data"
    },
    {
     "data": {
      "text/plain": [
       "key                     0\n",
       "Время_нагрева_секунд    0\n",
       "Общая_мощность          0\n",
       "Количество_замеров      0\n",
       "dtype: int64"
      ]
     },
     "metadata": {},
     "output_type": "display_data"
    },
    {
     "data": {
      "text/html": [
       "<div>\n",
       "<style scoped>\n",
       "    .dataframe tbody tr th:only-of-type {\n",
       "        vertical-align: middle;\n",
       "    }\n",
       "\n",
       "    .dataframe tbody tr th {\n",
       "        vertical-align: top;\n",
       "    }\n",
       "\n",
       "    .dataframe thead th {\n",
       "        text-align: right;\n",
       "    }\n",
       "</style>\n",
       "<table border=\"1\" class=\"dataframe\">\n",
       "  <thead>\n",
       "    <tr style=\"text-align: right;\">\n",
       "      <th></th>\n",
       "      <th>key</th>\n",
       "      <th>Время_нагрева_секунд</th>\n",
       "      <th>Общая_мощность</th>\n",
       "      <th>Количество_замеров</th>\n",
       "    </tr>\n",
       "  </thead>\n",
       "  <tbody>\n",
       "    <tr>\n",
       "      <th>count</th>\n",
       "      <td>3214.000000</td>\n",
       "      <td>3214.000000</td>\n",
       "      <td>3214.000000</td>\n",
       "      <td>3214.000000</td>\n",
       "    </tr>\n",
       "    <tr>\n",
       "      <th>mean</th>\n",
       "      <td>1623.061294</td>\n",
       "      <td>794.005912</td>\n",
       "      <td>3.810013</td>\n",
       "      <td>4.627567</td>\n",
       "    </tr>\n",
       "    <tr>\n",
       "      <th>std</th>\n",
       "      <td>934.739859</td>\n",
       "      <td>329.893528</td>\n",
       "      <td>1.500575</td>\n",
       "      <td>1.607173</td>\n",
       "    </tr>\n",
       "    <tr>\n",
       "      <th>min</th>\n",
       "      <td>1.000000</td>\n",
       "      <td>57.000000</td>\n",
       "      <td>0.331897</td>\n",
       "      <td>1.000000</td>\n",
       "    </tr>\n",
       "    <tr>\n",
       "      <th>25%</th>\n",
       "      <td>817.250000</td>\n",
       "      <td>571.000000</td>\n",
       "      <td>2.775021</td>\n",
       "      <td>4.000000</td>\n",
       "    </tr>\n",
       "    <tr>\n",
       "      <th>50%</th>\n",
       "      <td>1623.500000</td>\n",
       "      <td>769.500000</td>\n",
       "      <td>3.694219</td>\n",
       "      <td>4.000000</td>\n",
       "    </tr>\n",
       "    <tr>\n",
       "      <th>75%</th>\n",
       "      <td>2431.750000</td>\n",
       "      <td>982.750000</td>\n",
       "      <td>4.696915</td>\n",
       "      <td>6.000000</td>\n",
       "    </tr>\n",
       "    <tr>\n",
       "      <th>max</th>\n",
       "      <td>3241.000000</td>\n",
       "      <td>3282.000000</td>\n",
       "      <td>14.466533</td>\n",
       "      <td>16.000000</td>\n",
       "    </tr>\n",
       "  </tbody>\n",
       "</table>\n",
       "</div>"
      ],
      "text/plain": [
       "               key  Время_нагрева_секунд  Общая_мощность  Количество_замеров\n",
       "count  3214.000000           3214.000000     3214.000000         3214.000000\n",
       "mean   1623.061294            794.005912        3.810013            4.627567\n",
       "std     934.739859            329.893528        1.500575            1.607173\n",
       "min       1.000000             57.000000        0.331897            1.000000\n",
       "25%     817.250000            571.000000        2.775021            4.000000\n",
       "50%    1623.500000            769.500000        3.694219            4.000000\n",
       "75%    2431.750000            982.750000        4.696915            6.000000\n",
       "max    3241.000000           3282.000000       14.466533           16.000000"
      ]
     },
     "metadata": {},
     "output_type": "display_data"
    }
   ],
   "source": [
    "# создадим таблицу c данными о количестве замеров\n",
    "Количество_замеров = df_arc['key'].value_counts().reset_index(name='Количество_замеров').rename(columns={'index': 'key'})\n",
    "display(Количество_замеров.isna().sum())\n",
    "\n",
    "# добавим данные о количестве раундов в нашу табличку\n",
    "df_arc = df_arc.groupby(by = 'key').sum()\n",
    "df_arc = df_arc.merge(Количество_замеров, on='key')\n",
    "display (df_arc.head())\n",
    "display(df_arc.isna().sum())\n",
    "display(df_arc.describe())"
   ]
  },
  {
   "cell_type": "markdown",
   "id": "93828c3c",
   "metadata": {},
   "source": [
    "Б. данные о подаче сыпучих материалов (объём)"
   ]
  },
  {
   "cell_type": "code",
   "execution_count": 37,
   "id": "73cf9a8b",
   "metadata": {},
   "outputs": [
    {
     "data": {
      "text/plain": [
       "key        0\n",
       "Bulk 1     0\n",
       "Bulk 2     0\n",
       "Bulk 3     0\n",
       "Bulk 4     0\n",
       "Bulk 5     0\n",
       "Bulk 6     0\n",
       "Bulk 7     0\n",
       "Bulk 8     0\n",
       "Bulk 9     0\n",
       "Bulk 10    0\n",
       "Bulk 11    0\n",
       "Bulk 12    0\n",
       "Bulk 13    0\n",
       "Bulk 14    0\n",
       "Bulk 15    0\n",
       "dtype: int64"
      ]
     },
     "execution_count": 37,
     "metadata": {},
     "output_type": "execute_result"
    }
   ],
   "source": [
    "#заполним пропуски нулями, так как там, где нет данных о подаче сыпучих материалов, эти материалы не подавались\n",
    "df_bulk = df_bulk.fillna(0)\n",
    "df_bulk.isna().sum()"
   ]
  },
  {
   "cell_type": "code",
   "execution_count": 38,
   "id": "d957a17d",
   "metadata": {},
   "outputs": [
    {
     "data": {
      "text/html": [
       "<div>\n",
       "<style scoped>\n",
       "    .dataframe tbody tr th:only-of-type {\n",
       "        vertical-align: middle;\n",
       "    }\n",
       "\n",
       "    .dataframe tbody tr th {\n",
       "        vertical-align: top;\n",
       "    }\n",
       "\n",
       "    .dataframe thead th {\n",
       "        text-align: right;\n",
       "    }\n",
       "</style>\n",
       "<table border=\"1\" class=\"dataframe\">\n",
       "  <thead>\n",
       "    <tr style=\"text-align: right;\">\n",
       "      <th></th>\n",
       "      <th>key</th>\n",
       "      <th>Время_нагрева_секунд</th>\n",
       "      <th>Общая_мощность</th>\n",
       "      <th>Количество_замеров</th>\n",
       "      <th>Bulk 1</th>\n",
       "      <th>Bulk 2</th>\n",
       "      <th>Bulk 3</th>\n",
       "      <th>Bulk 4</th>\n",
       "      <th>Bulk 5</th>\n",
       "      <th>Bulk 6</th>\n",
       "      <th>Bulk 7</th>\n",
       "      <th>Bulk 8</th>\n",
       "      <th>Bulk 9</th>\n",
       "      <th>Bulk 10</th>\n",
       "      <th>Bulk 11</th>\n",
       "      <th>Bulk 12</th>\n",
       "      <th>Bulk 13</th>\n",
       "      <th>Bulk 14</th>\n",
       "      <th>Bulk 15</th>\n",
       "    </tr>\n",
       "  </thead>\n",
       "  <tbody>\n",
       "    <tr>\n",
       "      <th>0</th>\n",
       "      <td>1</td>\n",
       "      <td>1098</td>\n",
       "      <td>3.718736</td>\n",
       "      <td>5</td>\n",
       "      <td>0.0</td>\n",
       "      <td>0.0</td>\n",
       "      <td>0.0</td>\n",
       "      <td>43.0</td>\n",
       "      <td>0.0</td>\n",
       "      <td>0.0</td>\n",
       "      <td>0.0</td>\n",
       "      <td>0.0</td>\n",
       "      <td>0.0</td>\n",
       "      <td>0.0</td>\n",
       "      <td>0.0</td>\n",
       "      <td>206.0</td>\n",
       "      <td>0.0</td>\n",
       "      <td>150.0</td>\n",
       "      <td>154.0</td>\n",
       "    </tr>\n",
       "    <tr>\n",
       "      <th>1</th>\n",
       "      <td>2</td>\n",
       "      <td>811</td>\n",
       "      <td>2.588349</td>\n",
       "      <td>4</td>\n",
       "      <td>0.0</td>\n",
       "      <td>0.0</td>\n",
       "      <td>0.0</td>\n",
       "      <td>73.0</td>\n",
       "      <td>0.0</td>\n",
       "      <td>0.0</td>\n",
       "      <td>0.0</td>\n",
       "      <td>0.0</td>\n",
       "      <td>0.0</td>\n",
       "      <td>0.0</td>\n",
       "      <td>0.0</td>\n",
       "      <td>206.0</td>\n",
       "      <td>0.0</td>\n",
       "      <td>149.0</td>\n",
       "      <td>154.0</td>\n",
       "    </tr>\n",
       "    <tr>\n",
       "      <th>2</th>\n",
       "      <td>3</td>\n",
       "      <td>655</td>\n",
       "      <td>5.019223</td>\n",
       "      <td>5</td>\n",
       "      <td>0.0</td>\n",
       "      <td>0.0</td>\n",
       "      <td>0.0</td>\n",
       "      <td>34.0</td>\n",
       "      <td>0.0</td>\n",
       "      <td>0.0</td>\n",
       "      <td>0.0</td>\n",
       "      <td>0.0</td>\n",
       "      <td>0.0</td>\n",
       "      <td>0.0</td>\n",
       "      <td>0.0</td>\n",
       "      <td>205.0</td>\n",
       "      <td>0.0</td>\n",
       "      <td>152.0</td>\n",
       "      <td>153.0</td>\n",
       "    </tr>\n",
       "    <tr>\n",
       "      <th>3</th>\n",
       "      <td>4</td>\n",
       "      <td>741</td>\n",
       "      <td>3.400038</td>\n",
       "      <td>4</td>\n",
       "      <td>0.0</td>\n",
       "      <td>0.0</td>\n",
       "      <td>0.0</td>\n",
       "      <td>81.0</td>\n",
       "      <td>0.0</td>\n",
       "      <td>0.0</td>\n",
       "      <td>0.0</td>\n",
       "      <td>0.0</td>\n",
       "      <td>0.0</td>\n",
       "      <td>0.0</td>\n",
       "      <td>0.0</td>\n",
       "      <td>207.0</td>\n",
       "      <td>0.0</td>\n",
       "      <td>153.0</td>\n",
       "      <td>154.0</td>\n",
       "    </tr>\n",
       "    <tr>\n",
       "      <th>4</th>\n",
       "      <td>5</td>\n",
       "      <td>869</td>\n",
       "      <td>2.816980</td>\n",
       "      <td>4</td>\n",
       "      <td>0.0</td>\n",
       "      <td>0.0</td>\n",
       "      <td>0.0</td>\n",
       "      <td>78.0</td>\n",
       "      <td>0.0</td>\n",
       "      <td>0.0</td>\n",
       "      <td>0.0</td>\n",
       "      <td>0.0</td>\n",
       "      <td>0.0</td>\n",
       "      <td>0.0</td>\n",
       "      <td>0.0</td>\n",
       "      <td>203.0</td>\n",
       "      <td>0.0</td>\n",
       "      <td>151.0</td>\n",
       "      <td>152.0</td>\n",
       "    </tr>\n",
       "    <tr>\n",
       "      <th>...</th>\n",
       "      <td>...</td>\n",
       "      <td>...</td>\n",
       "      <td>...</td>\n",
       "      <td>...</td>\n",
       "      <td>...</td>\n",
       "      <td>...</td>\n",
       "      <td>...</td>\n",
       "      <td>...</td>\n",
       "      <td>...</td>\n",
       "      <td>...</td>\n",
       "      <td>...</td>\n",
       "      <td>...</td>\n",
       "      <td>...</td>\n",
       "      <td>...</td>\n",
       "      <td>...</td>\n",
       "      <td>...</td>\n",
       "      <td>...</td>\n",
       "      <td>...</td>\n",
       "      <td>...</td>\n",
       "    </tr>\n",
       "    <tr>\n",
       "      <th>3123</th>\n",
       "      <td>3237</td>\n",
       "      <td>909</td>\n",
       "      <td>3.250657</td>\n",
       "      <td>5</td>\n",
       "      <td>0.0</td>\n",
       "      <td>0.0</td>\n",
       "      <td>170.0</td>\n",
       "      <td>0.0</td>\n",
       "      <td>0.0</td>\n",
       "      <td>0.0</td>\n",
       "      <td>0.0</td>\n",
       "      <td>0.0</td>\n",
       "      <td>0.0</td>\n",
       "      <td>0.0</td>\n",
       "      <td>0.0</td>\n",
       "      <td>252.0</td>\n",
       "      <td>0.0</td>\n",
       "      <td>130.0</td>\n",
       "      <td>206.0</td>\n",
       "    </tr>\n",
       "    <tr>\n",
       "      <th>3124</th>\n",
       "      <td>3238</td>\n",
       "      <td>546</td>\n",
       "      <td>1.723937</td>\n",
       "      <td>3</td>\n",
       "      <td>0.0</td>\n",
       "      <td>0.0</td>\n",
       "      <td>126.0</td>\n",
       "      <td>0.0</td>\n",
       "      <td>0.0</td>\n",
       "      <td>0.0</td>\n",
       "      <td>0.0</td>\n",
       "      <td>0.0</td>\n",
       "      <td>0.0</td>\n",
       "      <td>0.0</td>\n",
       "      <td>0.0</td>\n",
       "      <td>254.0</td>\n",
       "      <td>0.0</td>\n",
       "      <td>108.0</td>\n",
       "      <td>106.0</td>\n",
       "    </tr>\n",
       "    <tr>\n",
       "      <th>3125</th>\n",
       "      <td>3239</td>\n",
       "      <td>1216</td>\n",
       "      <td>6.014480</td>\n",
       "      <td>8</td>\n",
       "      <td>0.0</td>\n",
       "      <td>0.0</td>\n",
       "      <td>0.0</td>\n",
       "      <td>0.0</td>\n",
       "      <td>0.0</td>\n",
       "      <td>114.0</td>\n",
       "      <td>0.0</td>\n",
       "      <td>0.0</td>\n",
       "      <td>0.0</td>\n",
       "      <td>0.0</td>\n",
       "      <td>0.0</td>\n",
       "      <td>158.0</td>\n",
       "      <td>0.0</td>\n",
       "      <td>270.0</td>\n",
       "      <td>88.0</td>\n",
       "    </tr>\n",
       "    <tr>\n",
       "      <th>3126</th>\n",
       "      <td>3240</td>\n",
       "      <td>839</td>\n",
       "      <td>4.082920</td>\n",
       "      <td>5</td>\n",
       "      <td>0.0</td>\n",
       "      <td>0.0</td>\n",
       "      <td>0.0</td>\n",
       "      <td>0.0</td>\n",
       "      <td>0.0</td>\n",
       "      <td>26.0</td>\n",
       "      <td>0.0</td>\n",
       "      <td>0.0</td>\n",
       "      <td>0.0</td>\n",
       "      <td>0.0</td>\n",
       "      <td>0.0</td>\n",
       "      <td>0.0</td>\n",
       "      <td>0.0</td>\n",
       "      <td>192.0</td>\n",
       "      <td>54.0</td>\n",
       "    </tr>\n",
       "    <tr>\n",
       "      <th>3127</th>\n",
       "      <td>3241</td>\n",
       "      <td>659</td>\n",
       "      <td>3.722880</td>\n",
       "      <td>5</td>\n",
       "      <td>0.0</td>\n",
       "      <td>0.0</td>\n",
       "      <td>0.0</td>\n",
       "      <td>0.0</td>\n",
       "      <td>0.0</td>\n",
       "      <td>0.0</td>\n",
       "      <td>0.0</td>\n",
       "      <td>0.0</td>\n",
       "      <td>0.0</td>\n",
       "      <td>0.0</td>\n",
       "      <td>0.0</td>\n",
       "      <td>0.0</td>\n",
       "      <td>0.0</td>\n",
       "      <td>180.0</td>\n",
       "      <td>52.0</td>\n",
       "    </tr>\n",
       "  </tbody>\n",
       "</table>\n",
       "<p>3128 rows × 19 columns</p>\n",
       "</div>"
      ],
      "text/plain": [
       "       key  Время_нагрева_секунд  Общая_мощность  Количество_замеров  Bulk 1  \\\n",
       "0        1                  1098        3.718736                   5     0.0   \n",
       "1        2                   811        2.588349                   4     0.0   \n",
       "2        3                   655        5.019223                   5     0.0   \n",
       "3        4                   741        3.400038                   4     0.0   \n",
       "4        5                   869        2.816980                   4     0.0   \n",
       "...    ...                   ...             ...                 ...     ...   \n",
       "3123  3237                   909        3.250657                   5     0.0   \n",
       "3124  3238                   546        1.723937                   3     0.0   \n",
       "3125  3239                  1216        6.014480                   8     0.0   \n",
       "3126  3240                   839        4.082920                   5     0.0   \n",
       "3127  3241                   659        3.722880                   5     0.0   \n",
       "\n",
       "      Bulk 2  Bulk 3  Bulk 4  Bulk 5  Bulk 6  Bulk 7  Bulk 8  Bulk 9  Bulk 10  \\\n",
       "0        0.0     0.0    43.0     0.0     0.0     0.0     0.0     0.0      0.0   \n",
       "1        0.0     0.0    73.0     0.0     0.0     0.0     0.0     0.0      0.0   \n",
       "2        0.0     0.0    34.0     0.0     0.0     0.0     0.0     0.0      0.0   \n",
       "3        0.0     0.0    81.0     0.0     0.0     0.0     0.0     0.0      0.0   \n",
       "4        0.0     0.0    78.0     0.0     0.0     0.0     0.0     0.0      0.0   \n",
       "...      ...     ...     ...     ...     ...     ...     ...     ...      ...   \n",
       "3123     0.0   170.0     0.0     0.0     0.0     0.0     0.0     0.0      0.0   \n",
       "3124     0.0   126.0     0.0     0.0     0.0     0.0     0.0     0.0      0.0   \n",
       "3125     0.0     0.0     0.0     0.0   114.0     0.0     0.0     0.0      0.0   \n",
       "3126     0.0     0.0     0.0     0.0    26.0     0.0     0.0     0.0      0.0   \n",
       "3127     0.0     0.0     0.0     0.0     0.0     0.0     0.0     0.0      0.0   \n",
       "\n",
       "      Bulk 11  Bulk 12  Bulk 13  Bulk 14  Bulk 15  \n",
       "0         0.0    206.0      0.0    150.0    154.0  \n",
       "1         0.0    206.0      0.0    149.0    154.0  \n",
       "2         0.0    205.0      0.0    152.0    153.0  \n",
       "3         0.0    207.0      0.0    153.0    154.0  \n",
       "4         0.0    203.0      0.0    151.0    152.0  \n",
       "...       ...      ...      ...      ...      ...  \n",
       "3123      0.0    252.0      0.0    130.0    206.0  \n",
       "3124      0.0    254.0      0.0    108.0    106.0  \n",
       "3125      0.0    158.0      0.0    270.0     88.0  \n",
       "3126      0.0      0.0      0.0    192.0     54.0  \n",
       "3127      0.0      0.0      0.0    180.0     52.0  \n",
       "\n",
       "[3128 rows x 19 columns]"
      ]
     },
     "metadata": {},
     "output_type": "display_data"
    }
   ],
   "source": [
    "# объединим таблицы по электродам и сыпучим материалам по ключу \"key\"\n",
    "data=df_arc.merge(df_bulk, on='key')\n",
    "display(data)"
   ]
  },
  {
   "cell_type": "markdown",
   "id": "061258c9",
   "metadata": {},
   "source": [
    "Г. данные о продувке сплава газом;"
   ]
  },
  {
   "cell_type": "code",
   "execution_count": 39,
   "id": "9f245106",
   "metadata": {},
   "outputs": [
    {
     "data": {
      "text/html": [
       "<div>\n",
       "<style scoped>\n",
       "    .dataframe tbody tr th:only-of-type {\n",
       "        vertical-align: middle;\n",
       "    }\n",
       "\n",
       "    .dataframe tbody tr th {\n",
       "        vertical-align: top;\n",
       "    }\n",
       "\n",
       "    .dataframe thead th {\n",
       "        text-align: right;\n",
       "    }\n",
       "</style>\n",
       "<table border=\"1\" class=\"dataframe\">\n",
       "  <thead>\n",
       "    <tr style=\"text-align: right;\">\n",
       "      <th></th>\n",
       "      <th>key</th>\n",
       "      <th>Газ</th>\n",
       "    </tr>\n",
       "  </thead>\n",
       "  <tbody>\n",
       "    <tr>\n",
       "      <th>count</th>\n",
       "      <td>3237.000000</td>\n",
       "      <td>3237.000000</td>\n",
       "    </tr>\n",
       "    <tr>\n",
       "      <th>mean</th>\n",
       "      <td>1622.677479</td>\n",
       "      <td>10.965940</td>\n",
       "    </tr>\n",
       "    <tr>\n",
       "      <th>std</th>\n",
       "      <td>935.098456</td>\n",
       "      <td>6.046293</td>\n",
       "    </tr>\n",
       "    <tr>\n",
       "      <th>min</th>\n",
       "      <td>1.000000</td>\n",
       "      <td>0.008399</td>\n",
       "    </tr>\n",
       "    <tr>\n",
       "      <th>25%</th>\n",
       "      <td>814.000000</td>\n",
       "      <td>7.042268</td>\n",
       "    </tr>\n",
       "    <tr>\n",
       "      <th>50%</th>\n",
       "      <td>1623.000000</td>\n",
       "      <td>9.828795</td>\n",
       "    </tr>\n",
       "    <tr>\n",
       "      <th>75%</th>\n",
       "      <td>2432.000000</td>\n",
       "      <td>13.767550</td>\n",
       "    </tr>\n",
       "    <tr>\n",
       "      <th>max</th>\n",
       "      <td>3241.000000</td>\n",
       "      <td>52.142373</td>\n",
       "    </tr>\n",
       "  </tbody>\n",
       "</table>\n",
       "</div>"
      ],
      "text/plain": [
       "               key          Газ\n",
       "count  3237.000000  3237.000000\n",
       "mean   1622.677479    10.965940\n",
       "std     935.098456     6.046293\n",
       "min       1.000000     0.008399\n",
       "25%     814.000000     7.042268\n",
       "50%    1623.000000     9.828795\n",
       "75%    2432.000000    13.767550\n",
       "max    3241.000000    52.142373"
      ]
     },
     "metadata": {},
     "output_type": "display_data"
    }
   ],
   "source": [
    "#уберем строки с аномальными значениями по газу\n",
    "df_gas=df_gas.rename(columns={'Газ 1': 'Газ'})\n",
    "df_gas=df_gas.query('Газ <60')\n",
    "display(df_gas.describe())"
   ]
  },
  {
   "cell_type": "code",
   "execution_count": 40,
   "id": "27eaa476",
   "metadata": {},
   "outputs": [
    {
     "data": {
      "text/html": [
       "<div>\n",
       "<style scoped>\n",
       "    .dataframe tbody tr th:only-of-type {\n",
       "        vertical-align: middle;\n",
       "    }\n",
       "\n",
       "    .dataframe tbody tr th {\n",
       "        vertical-align: top;\n",
       "    }\n",
       "\n",
       "    .dataframe thead th {\n",
       "        text-align: right;\n",
       "    }\n",
       "</style>\n",
       "<table border=\"1\" class=\"dataframe\">\n",
       "  <thead>\n",
       "    <tr style=\"text-align: right;\">\n",
       "      <th></th>\n",
       "      <th>key</th>\n",
       "      <th>Время_нагрева_секунд</th>\n",
       "      <th>Общая_мощность</th>\n",
       "      <th>Количество_замеров</th>\n",
       "      <th>Bulk 1</th>\n",
       "      <th>Bulk 2</th>\n",
       "      <th>Bulk 3</th>\n",
       "      <th>Bulk 4</th>\n",
       "      <th>Bulk 5</th>\n",
       "      <th>Bulk 6</th>\n",
       "      <th>Bulk 7</th>\n",
       "      <th>Bulk 8</th>\n",
       "      <th>Bulk 9</th>\n",
       "      <th>Bulk 10</th>\n",
       "      <th>Bulk 11</th>\n",
       "      <th>Bulk 12</th>\n",
       "      <th>Bulk 13</th>\n",
       "      <th>Bulk 14</th>\n",
       "      <th>Bulk 15</th>\n",
       "      <th>Газ</th>\n",
       "    </tr>\n",
       "  </thead>\n",
       "  <tbody>\n",
       "    <tr>\n",
       "      <th>0</th>\n",
       "      <td>1</td>\n",
       "      <td>1098</td>\n",
       "      <td>3.718736</td>\n",
       "      <td>5</td>\n",
       "      <td>0.0</td>\n",
       "      <td>0.0</td>\n",
       "      <td>0.0</td>\n",
       "      <td>43.0</td>\n",
       "      <td>0.0</td>\n",
       "      <td>0.0</td>\n",
       "      <td>0.0</td>\n",
       "      <td>0.0</td>\n",
       "      <td>0.0</td>\n",
       "      <td>0.0</td>\n",
       "      <td>0.0</td>\n",
       "      <td>206.0</td>\n",
       "      <td>0.0</td>\n",
       "      <td>150.0</td>\n",
       "      <td>154.0</td>\n",
       "      <td>29.749986</td>\n",
       "    </tr>\n",
       "    <tr>\n",
       "      <th>1</th>\n",
       "      <td>2</td>\n",
       "      <td>811</td>\n",
       "      <td>2.588349</td>\n",
       "      <td>4</td>\n",
       "      <td>0.0</td>\n",
       "      <td>0.0</td>\n",
       "      <td>0.0</td>\n",
       "      <td>73.0</td>\n",
       "      <td>0.0</td>\n",
       "      <td>0.0</td>\n",
       "      <td>0.0</td>\n",
       "      <td>0.0</td>\n",
       "      <td>0.0</td>\n",
       "      <td>0.0</td>\n",
       "      <td>0.0</td>\n",
       "      <td>206.0</td>\n",
       "      <td>0.0</td>\n",
       "      <td>149.0</td>\n",
       "      <td>154.0</td>\n",
       "      <td>12.555561</td>\n",
       "    </tr>\n",
       "    <tr>\n",
       "      <th>2</th>\n",
       "      <td>3</td>\n",
       "      <td>655</td>\n",
       "      <td>5.019223</td>\n",
       "      <td>5</td>\n",
       "      <td>0.0</td>\n",
       "      <td>0.0</td>\n",
       "      <td>0.0</td>\n",
       "      <td>34.0</td>\n",
       "      <td>0.0</td>\n",
       "      <td>0.0</td>\n",
       "      <td>0.0</td>\n",
       "      <td>0.0</td>\n",
       "      <td>0.0</td>\n",
       "      <td>0.0</td>\n",
       "      <td>0.0</td>\n",
       "      <td>205.0</td>\n",
       "      <td>0.0</td>\n",
       "      <td>152.0</td>\n",
       "      <td>153.0</td>\n",
       "      <td>28.554793</td>\n",
       "    </tr>\n",
       "    <tr>\n",
       "      <th>3</th>\n",
       "      <td>4</td>\n",
       "      <td>741</td>\n",
       "      <td>3.400038</td>\n",
       "      <td>4</td>\n",
       "      <td>0.0</td>\n",
       "      <td>0.0</td>\n",
       "      <td>0.0</td>\n",
       "      <td>81.0</td>\n",
       "      <td>0.0</td>\n",
       "      <td>0.0</td>\n",
       "      <td>0.0</td>\n",
       "      <td>0.0</td>\n",
       "      <td>0.0</td>\n",
       "      <td>0.0</td>\n",
       "      <td>0.0</td>\n",
       "      <td>207.0</td>\n",
       "      <td>0.0</td>\n",
       "      <td>153.0</td>\n",
       "      <td>154.0</td>\n",
       "      <td>18.841219</td>\n",
       "    </tr>\n",
       "    <tr>\n",
       "      <th>4</th>\n",
       "      <td>5</td>\n",
       "      <td>869</td>\n",
       "      <td>2.816980</td>\n",
       "      <td>4</td>\n",
       "      <td>0.0</td>\n",
       "      <td>0.0</td>\n",
       "      <td>0.0</td>\n",
       "      <td>78.0</td>\n",
       "      <td>0.0</td>\n",
       "      <td>0.0</td>\n",
       "      <td>0.0</td>\n",
       "      <td>0.0</td>\n",
       "      <td>0.0</td>\n",
       "      <td>0.0</td>\n",
       "      <td>0.0</td>\n",
       "      <td>203.0</td>\n",
       "      <td>0.0</td>\n",
       "      <td>151.0</td>\n",
       "      <td>152.0</td>\n",
       "      <td>5.413692</td>\n",
       "    </tr>\n",
       "    <tr>\n",
       "      <th>...</th>\n",
       "      <td>...</td>\n",
       "      <td>...</td>\n",
       "      <td>...</td>\n",
       "      <td>...</td>\n",
       "      <td>...</td>\n",
       "      <td>...</td>\n",
       "      <td>...</td>\n",
       "      <td>...</td>\n",
       "      <td>...</td>\n",
       "      <td>...</td>\n",
       "      <td>...</td>\n",
       "      <td>...</td>\n",
       "      <td>...</td>\n",
       "      <td>...</td>\n",
       "      <td>...</td>\n",
       "      <td>...</td>\n",
       "      <td>...</td>\n",
       "      <td>...</td>\n",
       "      <td>...</td>\n",
       "      <td>...</td>\n",
       "    </tr>\n",
       "    <tr>\n",
       "      <th>3119</th>\n",
       "      <td>3237</td>\n",
       "      <td>909</td>\n",
       "      <td>3.250657</td>\n",
       "      <td>5</td>\n",
       "      <td>0.0</td>\n",
       "      <td>0.0</td>\n",
       "      <td>170.0</td>\n",
       "      <td>0.0</td>\n",
       "      <td>0.0</td>\n",
       "      <td>0.0</td>\n",
       "      <td>0.0</td>\n",
       "      <td>0.0</td>\n",
       "      <td>0.0</td>\n",
       "      <td>0.0</td>\n",
       "      <td>0.0</td>\n",
       "      <td>252.0</td>\n",
       "      <td>0.0</td>\n",
       "      <td>130.0</td>\n",
       "      <td>206.0</td>\n",
       "      <td>5.543905</td>\n",
       "    </tr>\n",
       "    <tr>\n",
       "      <th>3120</th>\n",
       "      <td>3238</td>\n",
       "      <td>546</td>\n",
       "      <td>1.723937</td>\n",
       "      <td>3</td>\n",
       "      <td>0.0</td>\n",
       "      <td>0.0</td>\n",
       "      <td>126.0</td>\n",
       "      <td>0.0</td>\n",
       "      <td>0.0</td>\n",
       "      <td>0.0</td>\n",
       "      <td>0.0</td>\n",
       "      <td>0.0</td>\n",
       "      <td>0.0</td>\n",
       "      <td>0.0</td>\n",
       "      <td>0.0</td>\n",
       "      <td>254.0</td>\n",
       "      <td>0.0</td>\n",
       "      <td>108.0</td>\n",
       "      <td>106.0</td>\n",
       "      <td>6.745669</td>\n",
       "    </tr>\n",
       "    <tr>\n",
       "      <th>3121</th>\n",
       "      <td>3239</td>\n",
       "      <td>1216</td>\n",
       "      <td>6.014480</td>\n",
       "      <td>8</td>\n",
       "      <td>0.0</td>\n",
       "      <td>0.0</td>\n",
       "      <td>0.0</td>\n",
       "      <td>0.0</td>\n",
       "      <td>0.0</td>\n",
       "      <td>114.0</td>\n",
       "      <td>0.0</td>\n",
       "      <td>0.0</td>\n",
       "      <td>0.0</td>\n",
       "      <td>0.0</td>\n",
       "      <td>0.0</td>\n",
       "      <td>158.0</td>\n",
       "      <td>0.0</td>\n",
       "      <td>270.0</td>\n",
       "      <td>88.0</td>\n",
       "      <td>16.023518</td>\n",
       "    </tr>\n",
       "    <tr>\n",
       "      <th>3122</th>\n",
       "      <td>3240</td>\n",
       "      <td>839</td>\n",
       "      <td>4.082920</td>\n",
       "      <td>5</td>\n",
       "      <td>0.0</td>\n",
       "      <td>0.0</td>\n",
       "      <td>0.0</td>\n",
       "      <td>0.0</td>\n",
       "      <td>0.0</td>\n",
       "      <td>26.0</td>\n",
       "      <td>0.0</td>\n",
       "      <td>0.0</td>\n",
       "      <td>0.0</td>\n",
       "      <td>0.0</td>\n",
       "      <td>0.0</td>\n",
       "      <td>0.0</td>\n",
       "      <td>0.0</td>\n",
       "      <td>192.0</td>\n",
       "      <td>54.0</td>\n",
       "      <td>11.863103</td>\n",
       "    </tr>\n",
       "    <tr>\n",
       "      <th>3123</th>\n",
       "      <td>3241</td>\n",
       "      <td>659</td>\n",
       "      <td>3.722880</td>\n",
       "      <td>5</td>\n",
       "      <td>0.0</td>\n",
       "      <td>0.0</td>\n",
       "      <td>0.0</td>\n",
       "      <td>0.0</td>\n",
       "      <td>0.0</td>\n",
       "      <td>0.0</td>\n",
       "      <td>0.0</td>\n",
       "      <td>0.0</td>\n",
       "      <td>0.0</td>\n",
       "      <td>0.0</td>\n",
       "      <td>0.0</td>\n",
       "      <td>0.0</td>\n",
       "      <td>0.0</td>\n",
       "      <td>180.0</td>\n",
       "      <td>52.0</td>\n",
       "      <td>12.680959</td>\n",
       "    </tr>\n",
       "  </tbody>\n",
       "</table>\n",
       "<p>3124 rows × 20 columns</p>\n",
       "</div>"
      ],
      "text/plain": [
       "       key  Время_нагрева_секунд  Общая_мощность  Количество_замеров  Bulk 1  \\\n",
       "0        1                  1098        3.718736                   5     0.0   \n",
       "1        2                   811        2.588349                   4     0.0   \n",
       "2        3                   655        5.019223                   5     0.0   \n",
       "3        4                   741        3.400038                   4     0.0   \n",
       "4        5                   869        2.816980                   4     0.0   \n",
       "...    ...                   ...             ...                 ...     ...   \n",
       "3119  3237                   909        3.250657                   5     0.0   \n",
       "3120  3238                   546        1.723937                   3     0.0   \n",
       "3121  3239                  1216        6.014480                   8     0.0   \n",
       "3122  3240                   839        4.082920                   5     0.0   \n",
       "3123  3241                   659        3.722880                   5     0.0   \n",
       "\n",
       "      Bulk 2  Bulk 3  Bulk 4  Bulk 5  Bulk 6  Bulk 7  Bulk 8  Bulk 9  Bulk 10  \\\n",
       "0        0.0     0.0    43.0     0.0     0.0     0.0     0.0     0.0      0.0   \n",
       "1        0.0     0.0    73.0     0.0     0.0     0.0     0.0     0.0      0.0   \n",
       "2        0.0     0.0    34.0     0.0     0.0     0.0     0.0     0.0      0.0   \n",
       "3        0.0     0.0    81.0     0.0     0.0     0.0     0.0     0.0      0.0   \n",
       "4        0.0     0.0    78.0     0.0     0.0     0.0     0.0     0.0      0.0   \n",
       "...      ...     ...     ...     ...     ...     ...     ...     ...      ...   \n",
       "3119     0.0   170.0     0.0     0.0     0.0     0.0     0.0     0.0      0.0   \n",
       "3120     0.0   126.0     0.0     0.0     0.0     0.0     0.0     0.0      0.0   \n",
       "3121     0.0     0.0     0.0     0.0   114.0     0.0     0.0     0.0      0.0   \n",
       "3122     0.0     0.0     0.0     0.0    26.0     0.0     0.0     0.0      0.0   \n",
       "3123     0.0     0.0     0.0     0.0     0.0     0.0     0.0     0.0      0.0   \n",
       "\n",
       "      Bulk 11  Bulk 12  Bulk 13  Bulk 14  Bulk 15        Газ  \n",
       "0         0.0    206.0      0.0    150.0    154.0  29.749986  \n",
       "1         0.0    206.0      0.0    149.0    154.0  12.555561  \n",
       "2         0.0    205.0      0.0    152.0    153.0  28.554793  \n",
       "3         0.0    207.0      0.0    153.0    154.0  18.841219  \n",
       "4         0.0    203.0      0.0    151.0    152.0   5.413692  \n",
       "...       ...      ...      ...      ...      ...        ...  \n",
       "3119      0.0    252.0      0.0    130.0    206.0   5.543905  \n",
       "3120      0.0    254.0      0.0    108.0    106.0   6.745669  \n",
       "3121      0.0    158.0      0.0    270.0     88.0  16.023518  \n",
       "3122      0.0      0.0      0.0    192.0     54.0  11.863103  \n",
       "3123      0.0      0.0      0.0    180.0     52.0  12.680959  \n",
       "\n",
       "[3124 rows x 20 columns]"
      ]
     },
     "metadata": {},
     "output_type": "display_data"
    },
    {
     "data": {
      "text/html": [
       "<div>\n",
       "<style scoped>\n",
       "    .dataframe tbody tr th:only-of-type {\n",
       "        vertical-align: middle;\n",
       "    }\n",
       "\n",
       "    .dataframe tbody tr th {\n",
       "        vertical-align: top;\n",
       "    }\n",
       "\n",
       "    .dataframe thead th {\n",
       "        text-align: right;\n",
       "    }\n",
       "</style>\n",
       "<table border=\"1\" class=\"dataframe\">\n",
       "  <thead>\n",
       "    <tr style=\"text-align: right;\">\n",
       "      <th></th>\n",
       "      <th>key</th>\n",
       "      <th>Время_нагрева_секунд</th>\n",
       "      <th>Общая_мощность</th>\n",
       "      <th>Количество_замеров</th>\n",
       "      <th>Bulk 1</th>\n",
       "      <th>Bulk 2</th>\n",
       "      <th>Bulk 3</th>\n",
       "      <th>Bulk 4</th>\n",
       "      <th>Bulk 5</th>\n",
       "      <th>Bulk 6</th>\n",
       "      <th>Bulk 7</th>\n",
       "      <th>Bulk 8</th>\n",
       "      <th>Bulk 9</th>\n",
       "      <th>Bulk 10</th>\n",
       "      <th>Bulk 11</th>\n",
       "      <th>Bulk 12</th>\n",
       "      <th>Bulk 13</th>\n",
       "      <th>Bulk 14</th>\n",
       "      <th>Bulk 15</th>\n",
       "      <th>Газ</th>\n",
       "    </tr>\n",
       "  </thead>\n",
       "  <tbody>\n",
       "    <tr>\n",
       "      <th>count</th>\n",
       "      <td>3124.000000</td>\n",
       "      <td>3124.000000</td>\n",
       "      <td>3124.000000</td>\n",
       "      <td>3124.000000</td>\n",
       "      <td>3124.000000</td>\n",
       "      <td>3124.000000</td>\n",
       "      <td>3124.000000</td>\n",
       "      <td>3124.000000</td>\n",
       "      <td>3124.000000</td>\n",
       "      <td>3124.000000</td>\n",
       "      <td>3124.000000</td>\n",
       "      <td>3124.000000</td>\n",
       "      <td>3124.000000</td>\n",
       "      <td>3124.000000</td>\n",
       "      <td>3124.000000</td>\n",
       "      <td>3124.000000</td>\n",
       "      <td>3124.000000</td>\n",
       "      <td>3124.000000</td>\n",
       "      <td>3124.000000</td>\n",
       "      <td>3124.000000</td>\n",
       "    </tr>\n",
       "    <tr>\n",
       "      <th>mean</th>\n",
       "      <td>1626.556658</td>\n",
       "      <td>801.301857</td>\n",
       "      <td>3.837147</td>\n",
       "      <td>4.662612</td>\n",
       "      <td>3.106274</td>\n",
       "      <td>1.782010</td>\n",
       "      <td>47.243278</td>\n",
       "      <td>33.804738</td>\n",
       "      <td>2.637964</td>\n",
       "      <td>21.853713</td>\n",
       "      <td>2.315621</td>\n",
       "      <td>0.015685</td>\n",
       "      <td>0.443982</td>\n",
       "      <td>4.692061</td>\n",
       "      <td>4.352433</td>\n",
       "      <td>203.548015</td>\n",
       "      <td>1.043534</td>\n",
       "      <td>152.561780</td>\n",
       "      <td>115.405570</td>\n",
       "      <td>11.157792</td>\n",
       "    </tr>\n",
       "    <tr>\n",
       "      <th>std</th>\n",
       "      <td>932.499148</td>\n",
       "      <td>324.501874</td>\n",
       "      <td>1.487436</td>\n",
       "      <td>1.587696</td>\n",
       "      <td>11.423621</td>\n",
       "      <td>21.234737</td>\n",
       "      <td>74.265331</td>\n",
       "      <td>55.996383</td>\n",
       "      <td>20.934611</td>\n",
       "      <td>55.478918</td>\n",
       "      <td>31.142976</td>\n",
       "      <td>0.876679</td>\n",
       "      <td>6.056760</td>\n",
       "      <td>20.172580</td>\n",
       "      <td>22.717078</td>\n",
       "      <td>148.588614</td>\n",
       "      <td>14.125485</td>\n",
       "      <td>80.614553</td>\n",
       "      <td>84.465495</td>\n",
       "      <td>6.010865</td>\n",
       "    </tr>\n",
       "    <tr>\n",
       "      <th>min</th>\n",
       "      <td>1.000000</td>\n",
       "      <td>57.000000</td>\n",
       "      <td>0.331897</td>\n",
       "      <td>1.000000</td>\n",
       "      <td>0.000000</td>\n",
       "      <td>0.000000</td>\n",
       "      <td>0.000000</td>\n",
       "      <td>0.000000</td>\n",
       "      <td>0.000000</td>\n",
       "      <td>0.000000</td>\n",
       "      <td>0.000000</td>\n",
       "      <td>0.000000</td>\n",
       "      <td>0.000000</td>\n",
       "      <td>0.000000</td>\n",
       "      <td>0.000000</td>\n",
       "      <td>0.000000</td>\n",
       "      <td>0.000000</td>\n",
       "      <td>0.000000</td>\n",
       "      <td>0.000000</td>\n",
       "      <td>0.008399</td>\n",
       "    </tr>\n",
       "    <tr>\n",
       "      <th>25%</th>\n",
       "      <td>819.750000</td>\n",
       "      <td>581.000000</td>\n",
       "      <td>2.809329</td>\n",
       "      <td>4.000000</td>\n",
       "      <td>0.000000</td>\n",
       "      <td>0.000000</td>\n",
       "      <td>0.000000</td>\n",
       "      <td>0.000000</td>\n",
       "      <td>0.000000</td>\n",
       "      <td>0.000000</td>\n",
       "      <td>0.000000</td>\n",
       "      <td>0.000000</td>\n",
       "      <td>0.000000</td>\n",
       "      <td>0.000000</td>\n",
       "      <td>0.000000</td>\n",
       "      <td>105.000000</td>\n",
       "      <td>0.000000</td>\n",
       "      <td>104.000000</td>\n",
       "      <td>0.000000</td>\n",
       "      <td>7.191058</td>\n",
       "    </tr>\n",
       "    <tr>\n",
       "      <th>50%</th>\n",
       "      <td>1625.500000</td>\n",
       "      <td>777.000000</td>\n",
       "      <td>3.721970</td>\n",
       "      <td>5.000000</td>\n",
       "      <td>0.000000</td>\n",
       "      <td>0.000000</td>\n",
       "      <td>0.000000</td>\n",
       "      <td>0.000000</td>\n",
       "      <td>0.000000</td>\n",
       "      <td>0.000000</td>\n",
       "      <td>0.000000</td>\n",
       "      <td>0.000000</td>\n",
       "      <td>0.000000</td>\n",
       "      <td>0.000000</td>\n",
       "      <td>0.000000</td>\n",
       "      <td>206.000000</td>\n",
       "      <td>0.000000</td>\n",
       "      <td>148.000000</td>\n",
       "      <td>106.000000</td>\n",
       "      <td>9.947275</td>\n",
       "    </tr>\n",
       "    <tr>\n",
       "      <th>75%</th>\n",
       "      <td>2432.250000</td>\n",
       "      <td>987.000000</td>\n",
       "      <td>4.722963</td>\n",
       "      <td>6.000000</td>\n",
       "      <td>0.000000</td>\n",
       "      <td>0.000000</td>\n",
       "      <td>79.250000</td>\n",
       "      <td>68.000000</td>\n",
       "      <td>0.000000</td>\n",
       "      <td>0.000000</td>\n",
       "      <td>0.000000</td>\n",
       "      <td>0.000000</td>\n",
       "      <td>0.000000</td>\n",
       "      <td>0.000000</td>\n",
       "      <td>0.000000</td>\n",
       "      <td>263.000000</td>\n",
       "      <td>0.000000</td>\n",
       "      <td>202.000000</td>\n",
       "      <td>204.000000</td>\n",
       "      <td>13.872336</td>\n",
       "    </tr>\n",
       "    <tr>\n",
       "      <th>max</th>\n",
       "      <td>3241.000000</td>\n",
       "      <td>3282.000000</td>\n",
       "      <td>14.466533</td>\n",
       "      <td>16.000000</td>\n",
       "      <td>118.000000</td>\n",
       "      <td>325.000000</td>\n",
       "      <td>454.000000</td>\n",
       "      <td>281.000000</td>\n",
       "      <td>603.000000</td>\n",
       "      <td>503.000000</td>\n",
       "      <td>772.000000</td>\n",
       "      <td>49.000000</td>\n",
       "      <td>147.000000</td>\n",
       "      <td>159.000000</td>\n",
       "      <td>313.000000</td>\n",
       "      <td>853.000000</td>\n",
       "      <td>305.000000</td>\n",
       "      <td>601.000000</td>\n",
       "      <td>405.000000</td>\n",
       "      <td>52.142373</td>\n",
       "    </tr>\n",
       "  </tbody>\n",
       "</table>\n",
       "</div>"
      ],
      "text/plain": [
       "               key  Время_нагрева_секунд  Общая_мощность  Количество_замеров  \\\n",
       "count  3124.000000           3124.000000     3124.000000         3124.000000   \n",
       "mean   1626.556658            801.301857        3.837147            4.662612   \n",
       "std     932.499148            324.501874        1.487436            1.587696   \n",
       "min       1.000000             57.000000        0.331897            1.000000   \n",
       "25%     819.750000            581.000000        2.809329            4.000000   \n",
       "50%    1625.500000            777.000000        3.721970            5.000000   \n",
       "75%    2432.250000            987.000000        4.722963            6.000000   \n",
       "max    3241.000000           3282.000000       14.466533           16.000000   \n",
       "\n",
       "            Bulk 1       Bulk 2       Bulk 3       Bulk 4       Bulk 5  \\\n",
       "count  3124.000000  3124.000000  3124.000000  3124.000000  3124.000000   \n",
       "mean      3.106274     1.782010    47.243278    33.804738     2.637964   \n",
       "std      11.423621    21.234737    74.265331    55.996383    20.934611   \n",
       "min       0.000000     0.000000     0.000000     0.000000     0.000000   \n",
       "25%       0.000000     0.000000     0.000000     0.000000     0.000000   \n",
       "50%       0.000000     0.000000     0.000000     0.000000     0.000000   \n",
       "75%       0.000000     0.000000    79.250000    68.000000     0.000000   \n",
       "max     118.000000   325.000000   454.000000   281.000000   603.000000   \n",
       "\n",
       "            Bulk 6       Bulk 7       Bulk 8       Bulk 9      Bulk 10  \\\n",
       "count  3124.000000  3124.000000  3124.000000  3124.000000  3124.000000   \n",
       "mean     21.853713     2.315621     0.015685     0.443982     4.692061   \n",
       "std      55.478918    31.142976     0.876679     6.056760    20.172580   \n",
       "min       0.000000     0.000000     0.000000     0.000000     0.000000   \n",
       "25%       0.000000     0.000000     0.000000     0.000000     0.000000   \n",
       "50%       0.000000     0.000000     0.000000     0.000000     0.000000   \n",
       "75%       0.000000     0.000000     0.000000     0.000000     0.000000   \n",
       "max     503.000000   772.000000    49.000000   147.000000   159.000000   \n",
       "\n",
       "           Bulk 11      Bulk 12      Bulk 13      Bulk 14      Bulk 15  \\\n",
       "count  3124.000000  3124.000000  3124.000000  3124.000000  3124.000000   \n",
       "mean      4.352433   203.548015     1.043534   152.561780   115.405570   \n",
       "std      22.717078   148.588614    14.125485    80.614553    84.465495   \n",
       "min       0.000000     0.000000     0.000000     0.000000     0.000000   \n",
       "25%       0.000000   105.000000     0.000000   104.000000     0.000000   \n",
       "50%       0.000000   206.000000     0.000000   148.000000   106.000000   \n",
       "75%       0.000000   263.000000     0.000000   202.000000   204.000000   \n",
       "max     313.000000   853.000000   305.000000   601.000000   405.000000   \n",
       "\n",
       "               Газ  \n",
       "count  3124.000000  \n",
       "mean     11.157792  \n",
       "std       6.010865  \n",
       "min       0.008399  \n",
       "25%       7.191058  \n",
       "50%       9.947275  \n",
       "75%      13.872336  \n",
       "max      52.142373  "
      ]
     },
     "metadata": {},
     "output_type": "display_data"
    }
   ],
   "source": [
    "# объединим таблицы по электродам и сыпучим материалам с данными по газу по ключу \"key\"\n",
    "data=data.merge(df_gas, on='key')\n",
    "display(data)\n",
    "display(data.describe())"
   ]
  },
  {
   "cell_type": "markdown",
   "id": "8cf503f6",
   "metadata": {},
   "source": [
    "Д. результаты измерения температуры"
   ]
  },
  {
   "cell_type": "code",
   "execution_count": 41,
   "id": "121a3627",
   "metadata": {},
   "outputs": [
    {
     "data": {
      "text/html": [
       "<div>\n",
       "<style scoped>\n",
       "    .dataframe tbody tr th:only-of-type {\n",
       "        vertical-align: middle;\n",
       "    }\n",
       "\n",
       "    .dataframe tbody tr th {\n",
       "        vertical-align: top;\n",
       "    }\n",
       "\n",
       "    .dataframe thead th {\n",
       "        text-align: right;\n",
       "    }\n",
       "</style>\n",
       "<table border=\"1\" class=\"dataframe\">\n",
       "  <thead>\n",
       "    <tr style=\"text-align: right;\">\n",
       "      <th></th>\n",
       "      <th>key</th>\n",
       "      <th>Температура</th>\n",
       "    </tr>\n",
       "  </thead>\n",
       "  <tbody>\n",
       "    <tr>\n",
       "      <th>count</th>\n",
       "      <td>14660.000000</td>\n",
       "      <td>14660.000000</td>\n",
       "    </tr>\n",
       "    <tr>\n",
       "      <th>mean</th>\n",
       "      <td>1325.369236</td>\n",
       "      <td>1590.852729</td>\n",
       "    </tr>\n",
       "    <tr>\n",
       "      <th>std</th>\n",
       "      <td>787.407873</td>\n",
       "      <td>19.143141</td>\n",
       "    </tr>\n",
       "    <tr>\n",
       "      <th>min</th>\n",
       "      <td>1.000000</td>\n",
       "      <td>1515.000000</td>\n",
       "    </tr>\n",
       "    <tr>\n",
       "      <th>25%</th>\n",
       "      <td>654.000000</td>\n",
       "      <td>1580.000000</td>\n",
       "    </tr>\n",
       "    <tr>\n",
       "      <th>50%</th>\n",
       "      <td>1314.000000</td>\n",
       "      <td>1590.000000</td>\n",
       "    </tr>\n",
       "    <tr>\n",
       "      <th>75%</th>\n",
       "      <td>1962.250000</td>\n",
       "      <td>1599.000000</td>\n",
       "    </tr>\n",
       "    <tr>\n",
       "      <th>max</th>\n",
       "      <td>3241.000000</td>\n",
       "      <td>1705.000000</td>\n",
       "    </tr>\n",
       "  </tbody>\n",
       "</table>\n",
       "</div>"
      ],
      "text/plain": [
       "                key   Температура\n",
       "count  14660.000000  14660.000000\n",
       "mean    1325.369236   1590.852729\n",
       "std      787.407873     19.143141\n",
       "min        1.000000   1515.000000\n",
       "25%      654.000000   1580.000000\n",
       "50%     1314.000000   1590.000000\n",
       "75%     1962.250000   1599.000000\n",
       "max     3241.000000   1705.000000"
      ]
     },
     "metadata": {},
     "output_type": "display_data"
    },
    {
     "data": {
      "text/html": [
       "<div>\n",
       "<style scoped>\n",
       "    .dataframe tbody tr th:only-of-type {\n",
       "        vertical-align: middle;\n",
       "    }\n",
       "\n",
       "    .dataframe tbody tr th {\n",
       "        vertical-align: top;\n",
       "    }\n",
       "\n",
       "    .dataframe thead th {\n",
       "        text-align: right;\n",
       "    }\n",
       "</style>\n",
       "<table border=\"1\" class=\"dataframe\">\n",
       "  <thead>\n",
       "    <tr style=\"text-align: right;\">\n",
       "      <th></th>\n",
       "      <th>key</th>\n",
       "      <th>Время замера</th>\n",
       "      <th>Температура</th>\n",
       "    </tr>\n",
       "  </thead>\n",
       "  <tbody>\n",
       "    <tr>\n",
       "      <th>0</th>\n",
       "      <td>1</td>\n",
       "      <td>2019-05-03 11:02:04</td>\n",
       "      <td>1571.0</td>\n",
       "    </tr>\n",
       "    <tr>\n",
       "      <th>1</th>\n",
       "      <td>1</td>\n",
       "      <td>2019-05-03 11:07:18</td>\n",
       "      <td>1604.0</td>\n",
       "    </tr>\n",
       "    <tr>\n",
       "      <th>2</th>\n",
       "      <td>1</td>\n",
       "      <td>2019-05-03 11:11:34</td>\n",
       "      <td>1618.0</td>\n",
       "    </tr>\n",
       "    <tr>\n",
       "      <th>3</th>\n",
       "      <td>1</td>\n",
       "      <td>2019-05-03 11:18:04</td>\n",
       "      <td>1601.0</td>\n",
       "    </tr>\n",
       "    <tr>\n",
       "      <th>4</th>\n",
       "      <td>1</td>\n",
       "      <td>2019-05-03 11:25:59</td>\n",
       "      <td>1606.0</td>\n",
       "    </tr>\n",
       "  </tbody>\n",
       "</table>\n",
       "</div>"
      ],
      "text/plain": [
       "   key         Время замера  Температура\n",
       "0    1  2019-05-03 11:02:04       1571.0\n",
       "1    1  2019-05-03 11:07:18       1604.0\n",
       "2    1  2019-05-03 11:11:34       1618.0\n",
       "3    1  2019-05-03 11:18:04       1601.0\n",
       "4    1  2019-05-03 11:25:59       1606.0"
      ]
     },
     "metadata": {},
     "output_type": "display_data"
    }
   ],
   "source": [
    "# удалим строки с аномальными значениями по температуре\n",
    "df_temp = df_temp.query('Температура > 1450')\n",
    "display(df_temp.describe())\n",
    "display(df_temp.head())"
   ]
  },
  {
   "cell_type": "code",
   "execution_count": 42,
   "id": "327df77b",
   "metadata": {},
   "outputs": [
    {
     "data": {
      "text/html": [
       "<div>\n",
       "<style scoped>\n",
       "    .dataframe tbody tr th:only-of-type {\n",
       "        vertical-align: middle;\n",
       "    }\n",
       "\n",
       "    .dataframe tbody tr th {\n",
       "        vertical-align: top;\n",
       "    }\n",
       "\n",
       "    .dataframe thead th {\n",
       "        text-align: right;\n",
       "    }\n",
       "</style>\n",
       "<table border=\"1\" class=\"dataframe\">\n",
       "  <thead>\n",
       "    <tr style=\"text-align: right;\">\n",
       "      <th></th>\n",
       "      <th>Количество_замеров</th>\n",
       "    </tr>\n",
       "    <tr>\n",
       "      <th>key</th>\n",
       "      <th></th>\n",
       "    </tr>\n",
       "  </thead>\n",
       "  <tbody>\n",
       "    <tr>\n",
       "      <th>1</th>\n",
       "      <td>6</td>\n",
       "    </tr>\n",
       "    <tr>\n",
       "      <th>2</th>\n",
       "      <td>5</td>\n",
       "    </tr>\n",
       "    <tr>\n",
       "      <th>3</th>\n",
       "      <td>6</td>\n",
       "    </tr>\n",
       "    <tr>\n",
       "      <th>4</th>\n",
       "      <td>5</td>\n",
       "    </tr>\n",
       "    <tr>\n",
       "      <th>5</th>\n",
       "      <td>5</td>\n",
       "    </tr>\n",
       "  </tbody>\n",
       "</table>\n",
       "</div>"
      ],
      "text/plain": [
       "     Количество_замеров\n",
       "key                    \n",
       "1                     6\n",
       "2                     5\n",
       "3                     6\n",
       "4                     5\n",
       "5                     5"
      ]
     },
     "metadata": {},
     "output_type": "display_data"
    },
    {
     "data": {
      "text/html": [
       "<div>\n",
       "<style scoped>\n",
       "    .dataframe tbody tr th:only-of-type {\n",
       "        vertical-align: middle;\n",
       "    }\n",
       "\n",
       "    .dataframe tbody tr th {\n",
       "        vertical-align: top;\n",
       "    }\n",
       "\n",
       "    .dataframe thead th {\n",
       "        text-align: right;\n",
       "    }\n",
       "</style>\n",
       "<table border=\"1\" class=\"dataframe\">\n",
       "  <thead>\n",
       "    <tr style=\"text-align: right;\">\n",
       "      <th></th>\n",
       "      <th>key</th>\n",
       "      <th>Время замера</th>\n",
       "      <th>Температура</th>\n",
       "      <th>Количество_замеров</th>\n",
       "    </tr>\n",
       "  </thead>\n",
       "  <tbody>\n",
       "    <tr>\n",
       "      <th>14655</th>\n",
       "      <td>3237</td>\n",
       "      <td>2019-09-06 11:31:15</td>\n",
       "      <td>1569.0</td>\n",
       "      <td>1</td>\n",
       "    </tr>\n",
       "    <tr>\n",
       "      <th>14656</th>\n",
       "      <td>3238</td>\n",
       "      <td>2019-09-06 12:16:15</td>\n",
       "      <td>1584.0</td>\n",
       "      <td>1</td>\n",
       "    </tr>\n",
       "    <tr>\n",
       "      <th>14657</th>\n",
       "      <td>3239</td>\n",
       "      <td>2019-09-06 14:16:50</td>\n",
       "      <td>1598.0</td>\n",
       "      <td>1</td>\n",
       "    </tr>\n",
       "    <tr>\n",
       "      <th>14658</th>\n",
       "      <td>3240</td>\n",
       "      <td>2019-09-06 15:25:21</td>\n",
       "      <td>1617.0</td>\n",
       "      <td>1</td>\n",
       "    </tr>\n",
       "    <tr>\n",
       "      <th>14659</th>\n",
       "      <td>3241</td>\n",
       "      <td>2019-09-06 16:48:55</td>\n",
       "      <td>1586.0</td>\n",
       "      <td>1</td>\n",
       "    </tr>\n",
       "  </tbody>\n",
       "</table>\n",
       "</div>"
      ],
      "text/plain": [
       "        key         Время замера  Температура  Количество_замеров\n",
       "14655  3237  2019-09-06 11:31:15       1569.0                   1\n",
       "14656  3238  2019-09-06 12:16:15       1584.0                   1\n",
       "14657  3239  2019-09-06 14:16:50       1598.0                   1\n",
       "14658  3240  2019-09-06 15:25:21       1617.0                   1\n",
       "14659  3241  2019-09-06 16:48:55       1586.0                   1"
      ]
     },
     "metadata": {},
     "output_type": "display_data"
    }
   ],
   "source": [
    "# создадим новый столбец\n",
    "df_temp_count = df_temp.groupby('key').count()\n",
    "df_temp_count['Количество_замеров'] = df_temp_count[['Температура']]\n",
    "df_count_temp = df_temp_count[['Количество_замеров']]\n",
    "display(df_count_temp.head())\n",
    "\n",
    "# объединим таблицы\n",
    "df_count_temp = df_count_temp.reset_index(drop=False)\n",
    "df_temp = df_temp.merge(df_count_temp, on='key')\n",
    "display(df_temp.tail())"
   ]
  },
  {
   "cell_type": "code",
   "execution_count": 43,
   "id": "ada337b4",
   "metadata": {},
   "outputs": [
    {
     "data": {
      "text/html": [
       "<div>\n",
       "<style scoped>\n",
       "    .dataframe tbody tr th:only-of-type {\n",
       "        vertical-align: middle;\n",
       "    }\n",
       "\n",
       "    .dataframe tbody tr th {\n",
       "        vertical-align: top;\n",
       "    }\n",
       "\n",
       "    .dataframe thead th {\n",
       "        text-align: right;\n",
       "    }\n",
       "</style>\n",
       "<table border=\"1\" class=\"dataframe\">\n",
       "  <thead>\n",
       "    <tr style=\"text-align: right;\">\n",
       "      <th></th>\n",
       "      <th>key</th>\n",
       "      <th>Время замера</th>\n",
       "      <th>Температура</th>\n",
       "      <th>Количество_замеров</th>\n",
       "    </tr>\n",
       "  </thead>\n",
       "  <tbody>\n",
       "    <tr>\n",
       "      <th>13917</th>\n",
       "      <td>2499</td>\n",
       "      <td>2019-08-10 13:33:21</td>\n",
       "      <td>1569.0</td>\n",
       "      <td>5</td>\n",
       "    </tr>\n",
       "    <tr>\n",
       "      <th>13918</th>\n",
       "      <td>2499</td>\n",
       "      <td>2019-08-10 13:41:34</td>\n",
       "      <td>1604.0</td>\n",
       "      <td>5</td>\n",
       "    </tr>\n",
       "    <tr>\n",
       "      <th>13919</th>\n",
       "      <td>2499</td>\n",
       "      <td>2019-08-10 13:46:28</td>\n",
       "      <td>1593.0</td>\n",
       "      <td>5</td>\n",
       "    </tr>\n",
       "    <tr>\n",
       "      <th>13920</th>\n",
       "      <td>2499</td>\n",
       "      <td>2019-08-10 13:54:56</td>\n",
       "      <td>1588.0</td>\n",
       "      <td>5</td>\n",
       "    </tr>\n",
       "    <tr>\n",
       "      <th>13921</th>\n",
       "      <td>2499</td>\n",
       "      <td>2019-08-10 13:58:58</td>\n",
       "      <td>1603.0</td>\n",
       "      <td>5</td>\n",
       "    </tr>\n",
       "  </tbody>\n",
       "</table>\n",
       "</div>"
      ],
      "text/plain": [
       "        key         Время замера  Температура  Количество_замеров\n",
       "13917  2499  2019-08-10 13:33:21       1569.0                   5\n",
       "13918  2499  2019-08-10 13:41:34       1604.0                   5\n",
       "13919  2499  2019-08-10 13:46:28       1593.0                   5\n",
       "13920  2499  2019-08-10 13:54:56       1588.0                   5\n",
       "13921  2499  2019-08-10 13:58:58       1603.0                   5"
      ]
     },
     "metadata": {},
     "output_type": "display_data"
    },
    {
     "data": {
      "text/html": [
       "<div>\n",
       "<style scoped>\n",
       "    .dataframe tbody tr th:only-of-type {\n",
       "        vertical-align: middle;\n",
       "    }\n",
       "\n",
       "    .dataframe tbody tr th {\n",
       "        vertical-align: top;\n",
       "    }\n",
       "\n",
       "    .dataframe thead th {\n",
       "        text-align: right;\n",
       "    }\n",
       "</style>\n",
       "<table border=\"1\" class=\"dataframe\">\n",
       "  <thead>\n",
       "    <tr style=\"text-align: right;\">\n",
       "      <th></th>\n",
       "      <th>key</th>\n",
       "      <th>Температура</th>\n",
       "      <th>Количество_замеров</th>\n",
       "    </tr>\n",
       "  </thead>\n",
       "  <tbody>\n",
       "    <tr>\n",
       "      <th>count</th>\n",
       "      <td>13920.000000</td>\n",
       "      <td>13920.000000</td>\n",
       "      <td>13920.000000</td>\n",
       "    </tr>\n",
       "    <tr>\n",
       "      <th>mean</th>\n",
       "      <td>1243.619181</td>\n",
       "      <td>1590.911494</td>\n",
       "      <td>6.085489</td>\n",
       "    </tr>\n",
       "    <tr>\n",
       "      <th>std</th>\n",
       "      <td>719.133465</td>\n",
       "      <td>18.774355</td>\n",
       "      <td>1.740807</td>\n",
       "    </tr>\n",
       "    <tr>\n",
       "      <th>min</th>\n",
       "      <td>1.000000</td>\n",
       "      <td>1515.000000</td>\n",
       "      <td>2.000000</td>\n",
       "    </tr>\n",
       "    <tr>\n",
       "      <th>25%</th>\n",
       "      <td>624.000000</td>\n",
       "      <td>1580.000000</td>\n",
       "      <td>5.000000</td>\n",
       "    </tr>\n",
       "    <tr>\n",
       "      <th>50%</th>\n",
       "      <td>1246.000000</td>\n",
       "      <td>1590.000000</td>\n",
       "      <td>6.000000</td>\n",
       "    </tr>\n",
       "    <tr>\n",
       "      <th>75%</th>\n",
       "      <td>1870.000000</td>\n",
       "      <td>1599.000000</td>\n",
       "      <td>7.000000</td>\n",
       "    </tr>\n",
       "    <tr>\n",
       "      <th>max</th>\n",
       "      <td>2499.000000</td>\n",
       "      <td>1705.000000</td>\n",
       "      <td>17.000000</td>\n",
       "    </tr>\n",
       "  </tbody>\n",
       "</table>\n",
       "</div>"
      ],
      "text/plain": [
       "                key   Температура  Количество_замеров\n",
       "count  13920.000000  13920.000000        13920.000000\n",
       "mean    1243.619181   1590.911494            6.085489\n",
       "std      719.133465     18.774355            1.740807\n",
       "min        1.000000   1515.000000            2.000000\n",
       "25%      624.000000   1580.000000            5.000000\n",
       "50%     1246.000000   1590.000000            6.000000\n",
       "75%     1870.000000   1599.000000            7.000000\n",
       "max     2499.000000   1705.000000           17.000000"
      ]
     },
     "metadata": {},
     "output_type": "display_data"
    }
   ],
   "source": [
    "# уберем партии с одним замером, так как для подготовки выборки нам нужна начальная и конечная температура\n",
    "df_temp = df_temp.query('Количество_замеров > 1')\n",
    "display(df_temp.tail())\n",
    "display(df_temp.describe())"
   ]
  },
  {
   "cell_type": "markdown",
   "id": "d1b4b029",
   "metadata": {},
   "source": [
    "Сформируем таблицы со значениями температуры при первом и последнем замере (в дальнейшем эти данные будут использоваться при обучении моделей)"
   ]
  },
  {
   "cell_type": "code",
   "execution_count": 44,
   "id": "a6eeb2b6",
   "metadata": {},
   "outputs": [
    {
     "data": {
      "text/html": [
       "<div>\n",
       "<style scoped>\n",
       "    .dataframe tbody tr th:only-of-type {\n",
       "        vertical-align: middle;\n",
       "    }\n",
       "\n",
       "    .dataframe tbody tr th {\n",
       "        vertical-align: top;\n",
       "    }\n",
       "\n",
       "    .dataframe thead th {\n",
       "        text-align: right;\n",
       "    }\n",
       "</style>\n",
       "<table border=\"1\" class=\"dataframe\">\n",
       "  <thead>\n",
       "    <tr style=\"text-align: right;\">\n",
       "      <th></th>\n",
       "      <th>Первый_замер</th>\n",
       "      <th>Последний_замер</th>\n",
       "    </tr>\n",
       "    <tr>\n",
       "      <th>key</th>\n",
       "      <th></th>\n",
       "      <th></th>\n",
       "    </tr>\n",
       "  </thead>\n",
       "  <tbody>\n",
       "    <tr>\n",
       "      <th>1</th>\n",
       "      <td>1571.0</td>\n",
       "      <td>1613.0</td>\n",
       "    </tr>\n",
       "    <tr>\n",
       "      <th>2</th>\n",
       "      <td>1581.0</td>\n",
       "      <td>1602.0</td>\n",
       "    </tr>\n",
       "    <tr>\n",
       "      <th>3</th>\n",
       "      <td>1596.0</td>\n",
       "      <td>1599.0</td>\n",
       "    </tr>\n",
       "    <tr>\n",
       "      <th>4</th>\n",
       "      <td>1601.0</td>\n",
       "      <td>1625.0</td>\n",
       "    </tr>\n",
       "    <tr>\n",
       "      <th>5</th>\n",
       "      <td>1576.0</td>\n",
       "      <td>1602.0</td>\n",
       "    </tr>\n",
       "    <tr>\n",
       "      <th>...</th>\n",
       "      <td>...</td>\n",
       "      <td>...</td>\n",
       "    </tr>\n",
       "    <tr>\n",
       "      <th>2495</th>\n",
       "      <td>1570.0</td>\n",
       "      <td>1591.0</td>\n",
       "    </tr>\n",
       "    <tr>\n",
       "      <th>2496</th>\n",
       "      <td>1554.0</td>\n",
       "      <td>1591.0</td>\n",
       "    </tr>\n",
       "    <tr>\n",
       "      <th>2497</th>\n",
       "      <td>1571.0</td>\n",
       "      <td>1589.0</td>\n",
       "    </tr>\n",
       "    <tr>\n",
       "      <th>2498</th>\n",
       "      <td>1591.0</td>\n",
       "      <td>1594.0</td>\n",
       "    </tr>\n",
       "    <tr>\n",
       "      <th>2499</th>\n",
       "      <td>1569.0</td>\n",
       "      <td>1603.0</td>\n",
       "    </tr>\n",
       "  </tbody>\n",
       "</table>\n",
       "<p>2475 rows × 2 columns</p>\n",
       "</div>"
      ],
      "text/plain": [
       "      Первый_замер  Последний_замер\n",
       "key                                \n",
       "1           1571.0           1613.0\n",
       "2           1581.0           1602.0\n",
       "3           1596.0           1599.0\n",
       "4           1601.0           1625.0\n",
       "5           1576.0           1602.0\n",
       "...            ...              ...\n",
       "2495        1570.0           1591.0\n",
       "2496        1554.0           1591.0\n",
       "2497        1571.0           1589.0\n",
       "2498        1591.0           1594.0\n",
       "2499        1569.0           1603.0\n",
       "\n",
       "[2475 rows x 2 columns]"
      ]
     },
     "metadata": {},
     "output_type": "display_data"
    }
   ],
   "source": [
    "# создадим сводную таблицу с первым замером\n",
    "data_temp_first = df_temp.pivot_table(index = [\"key\"],\n",
    "                                      values = \"Время замера\", \n",
    "                                      aggfunc = \"first\")\n",
    "\n",
    "data_temp_first = (data_temp_first\n",
    "                   .merge(df_temp, on='Время замера')\n",
    "                   .set_index('key')\n",
    "                   .rename(columns={\"Температура\": \"Первый_замер\"})\n",
    "                   .drop(['Время замера','Количество_замеров'] , axis=1)\n",
    "                 )\n",
    "\n",
    "# создадим сводную таблицу с последним замером\n",
    "data_temp_last = df_temp.pivot_table(index = [\"key\"],\n",
    "                                     values = \"Время замера\",\n",
    "                                     aggfunc = \"last\")\n",
    "\n",
    "data_temp_last = (data_temp_last.merge(df_temp, on='Время замера')\n",
    "                  .set_index('key')\n",
    "                  .rename(columns={\"Температура\": \"Последний_замер\"})\n",
    "                  .drop(['Время замера','Количество_замеров'] , axis=1)\n",
    "                 )\n",
    "\n",
    "# объединим 2 таблицы\n",
    "data_temp_final = data_temp_first.merge(data_temp_last, on='key')\n",
    "display(data_temp_final)"
   ]
  },
  {
   "cell_type": "code",
   "execution_count": 45,
   "id": "db002d9f",
   "metadata": {},
   "outputs": [
    {
     "data": {
      "text/html": [
       "<div>\n",
       "<style scoped>\n",
       "    .dataframe tbody tr th:only-of-type {\n",
       "        vertical-align: middle;\n",
       "    }\n",
       "\n",
       "    .dataframe tbody tr th {\n",
       "        vertical-align: top;\n",
       "    }\n",
       "\n",
       "    .dataframe thead th {\n",
       "        text-align: right;\n",
       "    }\n",
       "</style>\n",
       "<table border=\"1\" class=\"dataframe\">\n",
       "  <thead>\n",
       "    <tr style=\"text-align: right;\">\n",
       "      <th></th>\n",
       "      <th>key</th>\n",
       "      <th>Время_нагрева_секунд</th>\n",
       "      <th>Общая_мощность</th>\n",
       "      <th>Количество_замеров</th>\n",
       "      <th>Bulk 1</th>\n",
       "      <th>Bulk 2</th>\n",
       "      <th>Bulk 3</th>\n",
       "      <th>Bulk 4</th>\n",
       "      <th>Bulk 5</th>\n",
       "      <th>Bulk 6</th>\n",
       "      <th>...</th>\n",
       "      <th>Bulk 9</th>\n",
       "      <th>Bulk 10</th>\n",
       "      <th>Bulk 11</th>\n",
       "      <th>Bulk 12</th>\n",
       "      <th>Bulk 13</th>\n",
       "      <th>Bulk 14</th>\n",
       "      <th>Bulk 15</th>\n",
       "      <th>Газ</th>\n",
       "      <th>Первый_замер</th>\n",
       "      <th>Последний_замер</th>\n",
       "    </tr>\n",
       "  </thead>\n",
       "  <tbody>\n",
       "    <tr>\n",
       "      <th>0</th>\n",
       "      <td>1</td>\n",
       "      <td>1098</td>\n",
       "      <td>3.718736</td>\n",
       "      <td>5</td>\n",
       "      <td>0.0</td>\n",
       "      <td>0.0</td>\n",
       "      <td>0.0</td>\n",
       "      <td>43.0</td>\n",
       "      <td>0.0</td>\n",
       "      <td>0.0</td>\n",
       "      <td>...</td>\n",
       "      <td>0.0</td>\n",
       "      <td>0.0</td>\n",
       "      <td>0.0</td>\n",
       "      <td>206.0</td>\n",
       "      <td>0.0</td>\n",
       "      <td>150.0</td>\n",
       "      <td>154.0</td>\n",
       "      <td>29.749986</td>\n",
       "      <td>1571.0</td>\n",
       "      <td>1613.0</td>\n",
       "    </tr>\n",
       "    <tr>\n",
       "      <th>1</th>\n",
       "      <td>2</td>\n",
       "      <td>811</td>\n",
       "      <td>2.588349</td>\n",
       "      <td>4</td>\n",
       "      <td>0.0</td>\n",
       "      <td>0.0</td>\n",
       "      <td>0.0</td>\n",
       "      <td>73.0</td>\n",
       "      <td>0.0</td>\n",
       "      <td>0.0</td>\n",
       "      <td>...</td>\n",
       "      <td>0.0</td>\n",
       "      <td>0.0</td>\n",
       "      <td>0.0</td>\n",
       "      <td>206.0</td>\n",
       "      <td>0.0</td>\n",
       "      <td>149.0</td>\n",
       "      <td>154.0</td>\n",
       "      <td>12.555561</td>\n",
       "      <td>1581.0</td>\n",
       "      <td>1602.0</td>\n",
       "    </tr>\n",
       "    <tr>\n",
       "      <th>2</th>\n",
       "      <td>3</td>\n",
       "      <td>655</td>\n",
       "      <td>5.019223</td>\n",
       "      <td>5</td>\n",
       "      <td>0.0</td>\n",
       "      <td>0.0</td>\n",
       "      <td>0.0</td>\n",
       "      <td>34.0</td>\n",
       "      <td>0.0</td>\n",
       "      <td>0.0</td>\n",
       "      <td>...</td>\n",
       "      <td>0.0</td>\n",
       "      <td>0.0</td>\n",
       "      <td>0.0</td>\n",
       "      <td>205.0</td>\n",
       "      <td>0.0</td>\n",
       "      <td>152.0</td>\n",
       "      <td>153.0</td>\n",
       "      <td>28.554793</td>\n",
       "      <td>1596.0</td>\n",
       "      <td>1599.0</td>\n",
       "    </tr>\n",
       "    <tr>\n",
       "      <th>3</th>\n",
       "      <td>4</td>\n",
       "      <td>741</td>\n",
       "      <td>3.400038</td>\n",
       "      <td>4</td>\n",
       "      <td>0.0</td>\n",
       "      <td>0.0</td>\n",
       "      <td>0.0</td>\n",
       "      <td>81.0</td>\n",
       "      <td>0.0</td>\n",
       "      <td>0.0</td>\n",
       "      <td>...</td>\n",
       "      <td>0.0</td>\n",
       "      <td>0.0</td>\n",
       "      <td>0.0</td>\n",
       "      <td>207.0</td>\n",
       "      <td>0.0</td>\n",
       "      <td>153.0</td>\n",
       "      <td>154.0</td>\n",
       "      <td>18.841219</td>\n",
       "      <td>1601.0</td>\n",
       "      <td>1625.0</td>\n",
       "    </tr>\n",
       "    <tr>\n",
       "      <th>4</th>\n",
       "      <td>5</td>\n",
       "      <td>869</td>\n",
       "      <td>2.816980</td>\n",
       "      <td>4</td>\n",
       "      <td>0.0</td>\n",
       "      <td>0.0</td>\n",
       "      <td>0.0</td>\n",
       "      <td>78.0</td>\n",
       "      <td>0.0</td>\n",
       "      <td>0.0</td>\n",
       "      <td>...</td>\n",
       "      <td>0.0</td>\n",
       "      <td>0.0</td>\n",
       "      <td>0.0</td>\n",
       "      <td>203.0</td>\n",
       "      <td>0.0</td>\n",
       "      <td>151.0</td>\n",
       "      <td>152.0</td>\n",
       "      <td>5.413692</td>\n",
       "      <td>1576.0</td>\n",
       "      <td>1602.0</td>\n",
       "    </tr>\n",
       "  </tbody>\n",
       "</table>\n",
       "<p>5 rows × 22 columns</p>\n",
       "</div>"
      ],
      "text/plain": [
       "   key  Время_нагрева_секунд  Общая_мощность  Количество_замеров  Bulk 1  \\\n",
       "0    1                  1098        3.718736                   5     0.0   \n",
       "1    2                   811        2.588349                   4     0.0   \n",
       "2    3                   655        5.019223                   5     0.0   \n",
       "3    4                   741        3.400038                   4     0.0   \n",
       "4    5                   869        2.816980                   4     0.0   \n",
       "\n",
       "   Bulk 2  Bulk 3  Bulk 4  Bulk 5  Bulk 6  ...  Bulk 9  Bulk 10  Bulk 11  \\\n",
       "0     0.0     0.0    43.0     0.0     0.0  ...     0.0      0.0      0.0   \n",
       "1     0.0     0.0    73.0     0.0     0.0  ...     0.0      0.0      0.0   \n",
       "2     0.0     0.0    34.0     0.0     0.0  ...     0.0      0.0      0.0   \n",
       "3     0.0     0.0    81.0     0.0     0.0  ...     0.0      0.0      0.0   \n",
       "4     0.0     0.0    78.0     0.0     0.0  ...     0.0      0.0      0.0   \n",
       "\n",
       "   Bulk 12  Bulk 13  Bulk 14  Bulk 15        Газ  Первый_замер  \\\n",
       "0    206.0      0.0    150.0    154.0  29.749986        1571.0   \n",
       "1    206.0      0.0    149.0    154.0  12.555561        1581.0   \n",
       "2    205.0      0.0    152.0    153.0  28.554793        1596.0   \n",
       "3    207.0      0.0    153.0    154.0  18.841219        1601.0   \n",
       "4    203.0      0.0    151.0    152.0   5.413692        1576.0   \n",
       "\n",
       "   Последний_замер  \n",
       "0           1613.0  \n",
       "1           1602.0  \n",
       "2           1599.0  \n",
       "3           1625.0  \n",
       "4           1602.0  \n",
       "\n",
       "[5 rows x 22 columns]"
      ]
     },
     "metadata": {},
     "output_type": "display_data"
    },
    {
     "data": {
      "text/html": [
       "<div>\n",
       "<style scoped>\n",
       "    .dataframe tbody tr th:only-of-type {\n",
       "        vertical-align: middle;\n",
       "    }\n",
       "\n",
       "    .dataframe tbody tr th {\n",
       "        vertical-align: top;\n",
       "    }\n",
       "\n",
       "    .dataframe thead th {\n",
       "        text-align: right;\n",
       "    }\n",
       "</style>\n",
       "<table border=\"1\" class=\"dataframe\">\n",
       "  <thead>\n",
       "    <tr style=\"text-align: right;\">\n",
       "      <th></th>\n",
       "      <th>key</th>\n",
       "      <th>Время_нагрева_секунд</th>\n",
       "      <th>Общая_мощность</th>\n",
       "      <th>Количество_замеров</th>\n",
       "      <th>Bulk 1</th>\n",
       "      <th>Bulk 2</th>\n",
       "      <th>Bulk 3</th>\n",
       "      <th>Bulk 4</th>\n",
       "      <th>Bulk 5</th>\n",
       "      <th>Bulk 6</th>\n",
       "      <th>...</th>\n",
       "      <th>Bulk 9</th>\n",
       "      <th>Bulk 10</th>\n",
       "      <th>Bulk 11</th>\n",
       "      <th>Bulk 12</th>\n",
       "      <th>Bulk 13</th>\n",
       "      <th>Bulk 14</th>\n",
       "      <th>Bulk 15</th>\n",
       "      <th>Газ</th>\n",
       "      <th>Первый_замер</th>\n",
       "      <th>Последний_замер</th>\n",
       "    </tr>\n",
       "  </thead>\n",
       "  <tbody>\n",
       "    <tr>\n",
       "      <th>count</th>\n",
       "      <td>2378.000000</td>\n",
       "      <td>2378.000000</td>\n",
       "      <td>2378.000000</td>\n",
       "      <td>2378.000000</td>\n",
       "      <td>2378.000000</td>\n",
       "      <td>2378.000000</td>\n",
       "      <td>2378.000000</td>\n",
       "      <td>2378.000000</td>\n",
       "      <td>2378.000000</td>\n",
       "      <td>2378.000000</td>\n",
       "      <td>...</td>\n",
       "      <td>2378.000000</td>\n",
       "      <td>2378.000000</td>\n",
       "      <td>2378.000000</td>\n",
       "      <td>2378.000000</td>\n",
       "      <td>2378.000000</td>\n",
       "      <td>2378.000000</td>\n",
       "      <td>2378.000000</td>\n",
       "      <td>2378.000000</td>\n",
       "      <td>2378.000000</td>\n",
       "      <td>2378.000000</td>\n",
       "    </tr>\n",
       "    <tr>\n",
       "      <th>mean</th>\n",
       "      <td>1253.609336</td>\n",
       "      <td>813.299411</td>\n",
       "      <td>3.884035</td>\n",
       "      <td>4.697225</td>\n",
       "      <td>3.279226</td>\n",
       "      <td>1.393188</td>\n",
       "      <td>46.320437</td>\n",
       "      <td>36.259041</td>\n",
       "      <td>2.585786</td>\n",
       "      <td>21.921362</td>\n",
       "      <td>...</td>\n",
       "      <td>0.409167</td>\n",
       "      <td>4.948696</td>\n",
       "      <td>4.092515</td>\n",
       "      <td>210.394870</td>\n",
       "      <td>1.045416</td>\n",
       "      <td>154.680404</td>\n",
       "      <td>118.024811</td>\n",
       "      <td>11.258337</td>\n",
       "      <td>1588.230446</td>\n",
       "      <td>1594.939445</td>\n",
       "    </tr>\n",
       "    <tr>\n",
       "      <th>std</th>\n",
       "      <td>715.671031</td>\n",
       "      <td>326.703800</td>\n",
       "      <td>1.476607</td>\n",
       "      <td>1.550442</td>\n",
       "      <td>11.714968</td>\n",
       "      <td>18.885495</td>\n",
       "      <td>74.915776</td>\n",
       "      <td>58.242311</td>\n",
       "      <td>22.173362</td>\n",
       "      <td>55.290423</td>\n",
       "      <td>...</td>\n",
       "      <td>6.021239</td>\n",
       "      <td>20.713521</td>\n",
       "      <td>22.187138</td>\n",
       "      <td>152.229257</td>\n",
       "      <td>14.088385</td>\n",
       "      <td>80.461676</td>\n",
       "      <td>85.233090</td>\n",
       "      <td>6.112288</td>\n",
       "      <td>24.515548</td>\n",
       "      <td>14.987265</td>\n",
       "    </tr>\n",
       "    <tr>\n",
       "      <th>min</th>\n",
       "      <td>1.000000</td>\n",
       "      <td>119.000000</td>\n",
       "      <td>0.799281</td>\n",
       "      <td>2.000000</td>\n",
       "      <td>0.000000</td>\n",
       "      <td>0.000000</td>\n",
       "      <td>0.000000</td>\n",
       "      <td>0.000000</td>\n",
       "      <td>0.000000</td>\n",
       "      <td>0.000000</td>\n",
       "      <td>...</td>\n",
       "      <td>0.000000</td>\n",
       "      <td>0.000000</td>\n",
       "      <td>0.000000</td>\n",
       "      <td>0.000000</td>\n",
       "      <td>0.000000</td>\n",
       "      <td>0.000000</td>\n",
       "      <td>0.000000</td>\n",
       "      <td>0.008399</td>\n",
       "      <td>1519.000000</td>\n",
       "      <td>1541.000000</td>\n",
       "    </tr>\n",
       "    <tr>\n",
       "      <th>25%</th>\n",
       "      <td>637.250000</td>\n",
       "      <td>592.000000</td>\n",
       "      <td>2.847996</td>\n",
       "      <td>4.000000</td>\n",
       "      <td>0.000000</td>\n",
       "      <td>0.000000</td>\n",
       "      <td>0.000000</td>\n",
       "      <td>0.000000</td>\n",
       "      <td>0.000000</td>\n",
       "      <td>0.000000</td>\n",
       "      <td>...</td>\n",
       "      <td>0.000000</td>\n",
       "      <td>0.000000</td>\n",
       "      <td>0.000000</td>\n",
       "      <td>106.000000</td>\n",
       "      <td>0.000000</td>\n",
       "      <td>105.000000</td>\n",
       "      <td>0.000000</td>\n",
       "      <td>7.243169</td>\n",
       "      <td>1571.000000</td>\n",
       "      <td>1587.000000</td>\n",
       "    </tr>\n",
       "    <tr>\n",
       "      <th>50%</th>\n",
       "      <td>1254.500000</td>\n",
       "      <td>782.000000</td>\n",
       "      <td>3.754065</td>\n",
       "      <td>5.000000</td>\n",
       "      <td>0.000000</td>\n",
       "      <td>0.000000</td>\n",
       "      <td>0.000000</td>\n",
       "      <td>0.000000</td>\n",
       "      <td>0.000000</td>\n",
       "      <td>0.000000</td>\n",
       "      <td>...</td>\n",
       "      <td>0.000000</td>\n",
       "      <td>0.000000</td>\n",
       "      <td>0.000000</td>\n",
       "      <td>206.000000</td>\n",
       "      <td>0.000000</td>\n",
       "      <td>149.000000</td>\n",
       "      <td>106.000000</td>\n",
       "      <td>10.016304</td>\n",
       "      <td>1587.000000</td>\n",
       "      <td>1593.000000</td>\n",
       "    </tr>\n",
       "    <tr>\n",
       "      <th>75%</th>\n",
       "      <td>1867.750000</td>\n",
       "      <td>993.000000</td>\n",
       "      <td>4.741831</td>\n",
       "      <td>6.000000</td>\n",
       "      <td>0.000000</td>\n",
       "      <td>0.000000</td>\n",
       "      <td>77.750000</td>\n",
       "      <td>75.000000</td>\n",
       "      <td>0.000000</td>\n",
       "      <td>0.000000</td>\n",
       "      <td>...</td>\n",
       "      <td>0.000000</td>\n",
       "      <td>0.000000</td>\n",
       "      <td>0.000000</td>\n",
       "      <td>290.000000</td>\n",
       "      <td>0.000000</td>\n",
       "      <td>204.000000</td>\n",
       "      <td>204.000000</td>\n",
       "      <td>14.049159</td>\n",
       "      <td>1604.000000</td>\n",
       "      <td>1599.000000</td>\n",
       "    </tr>\n",
       "    <tr>\n",
       "      <th>max</th>\n",
       "      <td>2499.000000</td>\n",
       "      <td>3282.000000</td>\n",
       "      <td>14.466533</td>\n",
       "      <td>16.000000</td>\n",
       "      <td>94.000000</td>\n",
       "      <td>325.000000</td>\n",
       "      <td>454.000000</td>\n",
       "      <td>281.000000</td>\n",
       "      <td>603.000000</td>\n",
       "      <td>503.000000</td>\n",
       "      <td>...</td>\n",
       "      <td>147.000000</td>\n",
       "      <td>159.000000</td>\n",
       "      <td>313.000000</td>\n",
       "      <td>853.000000</td>\n",
       "      <td>305.000000</td>\n",
       "      <td>601.000000</td>\n",
       "      <td>405.000000</td>\n",
       "      <td>52.142373</td>\n",
       "      <td>1679.000000</td>\n",
       "      <td>1696.000000</td>\n",
       "    </tr>\n",
       "  </tbody>\n",
       "</table>\n",
       "<p>8 rows × 22 columns</p>\n",
       "</div>"
      ],
      "text/plain": [
       "               key  Время_нагрева_секунд  Общая_мощность  Количество_замеров  \\\n",
       "count  2378.000000           2378.000000     2378.000000         2378.000000   \n",
       "mean   1253.609336            813.299411        3.884035            4.697225   \n",
       "std     715.671031            326.703800        1.476607            1.550442   \n",
       "min       1.000000            119.000000        0.799281            2.000000   \n",
       "25%     637.250000            592.000000        2.847996            4.000000   \n",
       "50%    1254.500000            782.000000        3.754065            5.000000   \n",
       "75%    1867.750000            993.000000        4.741831            6.000000   \n",
       "max    2499.000000           3282.000000       14.466533           16.000000   \n",
       "\n",
       "            Bulk 1       Bulk 2       Bulk 3       Bulk 4       Bulk 5  \\\n",
       "count  2378.000000  2378.000000  2378.000000  2378.000000  2378.000000   \n",
       "mean      3.279226     1.393188    46.320437    36.259041     2.585786   \n",
       "std      11.714968    18.885495    74.915776    58.242311    22.173362   \n",
       "min       0.000000     0.000000     0.000000     0.000000     0.000000   \n",
       "25%       0.000000     0.000000     0.000000     0.000000     0.000000   \n",
       "50%       0.000000     0.000000     0.000000     0.000000     0.000000   \n",
       "75%       0.000000     0.000000    77.750000    75.000000     0.000000   \n",
       "max      94.000000   325.000000   454.000000   281.000000   603.000000   \n",
       "\n",
       "            Bulk 6  ...       Bulk 9      Bulk 10      Bulk 11      Bulk 12  \\\n",
       "count  2378.000000  ...  2378.000000  2378.000000  2378.000000  2378.000000   \n",
       "mean     21.921362  ...     0.409167     4.948696     4.092515   210.394870   \n",
       "std      55.290423  ...     6.021239    20.713521    22.187138   152.229257   \n",
       "min       0.000000  ...     0.000000     0.000000     0.000000     0.000000   \n",
       "25%       0.000000  ...     0.000000     0.000000     0.000000   106.000000   \n",
       "50%       0.000000  ...     0.000000     0.000000     0.000000   206.000000   \n",
       "75%       0.000000  ...     0.000000     0.000000     0.000000   290.000000   \n",
       "max     503.000000  ...   147.000000   159.000000   313.000000   853.000000   \n",
       "\n",
       "           Bulk 13      Bulk 14      Bulk 15          Газ  Первый_замер  \\\n",
       "count  2378.000000  2378.000000  2378.000000  2378.000000   2378.000000   \n",
       "mean      1.045416   154.680404   118.024811    11.258337   1588.230446   \n",
       "std      14.088385    80.461676    85.233090     6.112288     24.515548   \n",
       "min       0.000000     0.000000     0.000000     0.008399   1519.000000   \n",
       "25%       0.000000   105.000000     0.000000     7.243169   1571.000000   \n",
       "50%       0.000000   149.000000   106.000000    10.016304   1587.000000   \n",
       "75%       0.000000   204.000000   204.000000    14.049159   1604.000000   \n",
       "max     305.000000   601.000000   405.000000    52.142373   1679.000000   \n",
       "\n",
       "       Последний_замер  \n",
       "count      2378.000000  \n",
       "mean       1594.939445  \n",
       "std          14.987265  \n",
       "min        1541.000000  \n",
       "25%        1587.000000  \n",
       "50%        1593.000000  \n",
       "75%        1599.000000  \n",
       "max        1696.000000  \n",
       "\n",
       "[8 rows x 22 columns]"
      ]
     },
     "metadata": {},
     "output_type": "display_data"
    }
   ],
   "source": [
    "# объединим таблицы по электродам, сыпучим материалам, газу с данными по температуре по ключу \"key\"\n",
    "data=data.merge(data_temp_final, on='key')\n",
    "data = data.query('Количество_замеров > 1')\n",
    "display(data.head())\n",
    "display(data.describe())"
   ]
  },
  {
   "cell_type": "markdown",
   "id": "34c2335a",
   "metadata": {},
   "source": [
    "Е.данные о проволочных материалах (объём)"
   ]
  },
  {
   "cell_type": "code",
   "execution_count": 46,
   "id": "b51a8fe5",
   "metadata": {},
   "outputs": [
    {
     "data": {
      "text/plain": [
       "key       0\n",
       "Wire 1    0\n",
       "Wire 2    0\n",
       "Wire 3    0\n",
       "Wire 4    0\n",
       "Wire 5    0\n",
       "Wire 6    0\n",
       "Wire 7    0\n",
       "Wire 8    0\n",
       "Wire 9    0\n",
       "dtype: int64"
      ]
     },
     "execution_count": 46,
     "metadata": {},
     "output_type": "execute_result"
    }
   ],
   "source": [
    "#заполним пропуски нулями, так как там, где нет данных о подаче проволочных материалов, эти материалы не подавались\n",
    "df_wire = df_wire.fillna(0)\n",
    "df_wire.isna().sum()"
   ]
  },
  {
   "cell_type": "code",
   "execution_count": 47,
   "id": "bf7ca78f",
   "metadata": {},
   "outputs": [
    {
     "data": {
      "text/html": [
       "<div>\n",
       "<style scoped>\n",
       "    .dataframe tbody tr th:only-of-type {\n",
       "        vertical-align: middle;\n",
       "    }\n",
       "\n",
       "    .dataframe tbody tr th {\n",
       "        vertical-align: top;\n",
       "    }\n",
       "\n",
       "    .dataframe thead th {\n",
       "        text-align: right;\n",
       "    }\n",
       "</style>\n",
       "<table border=\"1\" class=\"dataframe\">\n",
       "  <thead>\n",
       "    <tr style=\"text-align: right;\">\n",
       "      <th></th>\n",
       "      <th>key</th>\n",
       "      <th>Время_нагрева_секунд</th>\n",
       "      <th>Общая_мощность</th>\n",
       "      <th>Количество_замеров</th>\n",
       "      <th>Bulk 1</th>\n",
       "      <th>Bulk 2</th>\n",
       "      <th>Bulk 3</th>\n",
       "      <th>Bulk 4</th>\n",
       "      <th>Bulk 5</th>\n",
       "      <th>Bulk 6</th>\n",
       "      <th>...</th>\n",
       "      <th>Последний_замер</th>\n",
       "      <th>Wire 1</th>\n",
       "      <th>Wire 2</th>\n",
       "      <th>Wire 3</th>\n",
       "      <th>Wire 4</th>\n",
       "      <th>Wire 5</th>\n",
       "      <th>Wire 6</th>\n",
       "      <th>Wire 7</th>\n",
       "      <th>Wire 8</th>\n",
       "      <th>Wire 9</th>\n",
       "    </tr>\n",
       "  </thead>\n",
       "  <tbody>\n",
       "    <tr>\n",
       "      <th>0</th>\n",
       "      <td>1</td>\n",
       "      <td>1098</td>\n",
       "      <td>3.718736</td>\n",
       "      <td>5</td>\n",
       "      <td>0.0</td>\n",
       "      <td>0.0</td>\n",
       "      <td>0.0</td>\n",
       "      <td>43.0</td>\n",
       "      <td>0.0</td>\n",
       "      <td>0.0</td>\n",
       "      <td>...</td>\n",
       "      <td>1613.0</td>\n",
       "      <td>60.059998</td>\n",
       "      <td>0.00000</td>\n",
       "      <td>0.0</td>\n",
       "      <td>0.0</td>\n",
       "      <td>0.0</td>\n",
       "      <td>0.0</td>\n",
       "      <td>0.0</td>\n",
       "      <td>0.0</td>\n",
       "      <td>0.0</td>\n",
       "    </tr>\n",
       "    <tr>\n",
       "      <th>1</th>\n",
       "      <td>2</td>\n",
       "      <td>811</td>\n",
       "      <td>2.588349</td>\n",
       "      <td>4</td>\n",
       "      <td>0.0</td>\n",
       "      <td>0.0</td>\n",
       "      <td>0.0</td>\n",
       "      <td>73.0</td>\n",
       "      <td>0.0</td>\n",
       "      <td>0.0</td>\n",
       "      <td>...</td>\n",
       "      <td>1602.0</td>\n",
       "      <td>96.052315</td>\n",
       "      <td>0.00000</td>\n",
       "      <td>0.0</td>\n",
       "      <td>0.0</td>\n",
       "      <td>0.0</td>\n",
       "      <td>0.0</td>\n",
       "      <td>0.0</td>\n",
       "      <td>0.0</td>\n",
       "      <td>0.0</td>\n",
       "    </tr>\n",
       "    <tr>\n",
       "      <th>2</th>\n",
       "      <td>3</td>\n",
       "      <td>655</td>\n",
       "      <td>5.019223</td>\n",
       "      <td>5</td>\n",
       "      <td>0.0</td>\n",
       "      <td>0.0</td>\n",
       "      <td>0.0</td>\n",
       "      <td>34.0</td>\n",
       "      <td>0.0</td>\n",
       "      <td>0.0</td>\n",
       "      <td>...</td>\n",
       "      <td>1599.0</td>\n",
       "      <td>91.160157</td>\n",
       "      <td>0.00000</td>\n",
       "      <td>0.0</td>\n",
       "      <td>0.0</td>\n",
       "      <td>0.0</td>\n",
       "      <td>0.0</td>\n",
       "      <td>0.0</td>\n",
       "      <td>0.0</td>\n",
       "      <td>0.0</td>\n",
       "    </tr>\n",
       "    <tr>\n",
       "      <th>3</th>\n",
       "      <td>4</td>\n",
       "      <td>741</td>\n",
       "      <td>3.400038</td>\n",
       "      <td>4</td>\n",
       "      <td>0.0</td>\n",
       "      <td>0.0</td>\n",
       "      <td>0.0</td>\n",
       "      <td>81.0</td>\n",
       "      <td>0.0</td>\n",
       "      <td>0.0</td>\n",
       "      <td>...</td>\n",
       "      <td>1625.0</td>\n",
       "      <td>89.063515</td>\n",
       "      <td>0.00000</td>\n",
       "      <td>0.0</td>\n",
       "      <td>0.0</td>\n",
       "      <td>0.0</td>\n",
       "      <td>0.0</td>\n",
       "      <td>0.0</td>\n",
       "      <td>0.0</td>\n",
       "      <td>0.0</td>\n",
       "    </tr>\n",
       "    <tr>\n",
       "      <th>4</th>\n",
       "      <td>5</td>\n",
       "      <td>869</td>\n",
       "      <td>2.816980</td>\n",
       "      <td>4</td>\n",
       "      <td>0.0</td>\n",
       "      <td>0.0</td>\n",
       "      <td>0.0</td>\n",
       "      <td>78.0</td>\n",
       "      <td>0.0</td>\n",
       "      <td>0.0</td>\n",
       "      <td>...</td>\n",
       "      <td>1602.0</td>\n",
       "      <td>89.238236</td>\n",
       "      <td>9.11456</td>\n",
       "      <td>0.0</td>\n",
       "      <td>0.0</td>\n",
       "      <td>0.0</td>\n",
       "      <td>0.0</td>\n",
       "      <td>0.0</td>\n",
       "      <td>0.0</td>\n",
       "      <td>0.0</td>\n",
       "    </tr>\n",
       "  </tbody>\n",
       "</table>\n",
       "<p>5 rows × 31 columns</p>\n",
       "</div>"
      ],
      "text/plain": [
       "   key  Время_нагрева_секунд  Общая_мощность  Количество_замеров  Bulk 1  \\\n",
       "0    1                  1098        3.718736                   5     0.0   \n",
       "1    2                   811        2.588349                   4     0.0   \n",
       "2    3                   655        5.019223                   5     0.0   \n",
       "3    4                   741        3.400038                   4     0.0   \n",
       "4    5                   869        2.816980                   4     0.0   \n",
       "\n",
       "   Bulk 2  Bulk 3  Bulk 4  Bulk 5  Bulk 6  ...  Последний_замер     Wire 1  \\\n",
       "0     0.0     0.0    43.0     0.0     0.0  ...           1613.0  60.059998   \n",
       "1     0.0     0.0    73.0     0.0     0.0  ...           1602.0  96.052315   \n",
       "2     0.0     0.0    34.0     0.0     0.0  ...           1599.0  91.160157   \n",
       "3     0.0     0.0    81.0     0.0     0.0  ...           1625.0  89.063515   \n",
       "4     0.0     0.0    78.0     0.0     0.0  ...           1602.0  89.238236   \n",
       "\n",
       "    Wire 2  Wire 3  Wire 4  Wire 5  Wire 6  Wire 7  Wire 8  Wire 9  \n",
       "0  0.00000     0.0     0.0     0.0     0.0     0.0     0.0     0.0  \n",
       "1  0.00000     0.0     0.0     0.0     0.0     0.0     0.0     0.0  \n",
       "2  0.00000     0.0     0.0     0.0     0.0     0.0     0.0     0.0  \n",
       "3  0.00000     0.0     0.0     0.0     0.0     0.0     0.0     0.0  \n",
       "4  9.11456     0.0     0.0     0.0     0.0     0.0     0.0     0.0  \n",
       "\n",
       "[5 rows x 31 columns]"
      ]
     },
     "metadata": {},
     "output_type": "display_data"
    },
    {
     "data": {
      "text/html": [
       "<div>\n",
       "<style scoped>\n",
       "    .dataframe tbody tr th:only-of-type {\n",
       "        vertical-align: middle;\n",
       "    }\n",
       "\n",
       "    .dataframe tbody tr th {\n",
       "        vertical-align: top;\n",
       "    }\n",
       "\n",
       "    .dataframe thead th {\n",
       "        text-align: right;\n",
       "    }\n",
       "</style>\n",
       "<table border=\"1\" class=\"dataframe\">\n",
       "  <thead>\n",
       "    <tr style=\"text-align: right;\">\n",
       "      <th></th>\n",
       "      <th>key</th>\n",
       "      <th>Время_нагрева_секунд</th>\n",
       "      <th>Общая_мощность</th>\n",
       "      <th>Количество_замеров</th>\n",
       "      <th>Bulk 1</th>\n",
       "      <th>Bulk 2</th>\n",
       "      <th>Bulk 3</th>\n",
       "      <th>Bulk 4</th>\n",
       "      <th>Bulk 5</th>\n",
       "      <th>Bulk 6</th>\n",
       "      <th>...</th>\n",
       "      <th>Последний_замер</th>\n",
       "      <th>Wire 1</th>\n",
       "      <th>Wire 2</th>\n",
       "      <th>Wire 3</th>\n",
       "      <th>Wire 4</th>\n",
       "      <th>Wire 5</th>\n",
       "      <th>Wire 6</th>\n",
       "      <th>Wire 7</th>\n",
       "      <th>Wire 8</th>\n",
       "      <th>Wire 9</th>\n",
       "    </tr>\n",
       "  </thead>\n",
       "  <tbody>\n",
       "    <tr>\n",
       "      <th>count</th>\n",
       "      <td>2302.000000</td>\n",
       "      <td>2302.000000</td>\n",
       "      <td>2302.000000</td>\n",
       "      <td>2302.000000</td>\n",
       "      <td>2302.000000</td>\n",
       "      <td>2302.000000</td>\n",
       "      <td>2302.000000</td>\n",
       "      <td>2302.000000</td>\n",
       "      <td>2302.000000</td>\n",
       "      <td>2302.000000</td>\n",
       "      <td>...</td>\n",
       "      <td>2302.000000</td>\n",
       "      <td>2302.000000</td>\n",
       "      <td>2302.000000</td>\n",
       "      <td>2302.000000</td>\n",
       "      <td>2302.000000</td>\n",
       "      <td>2302.0</td>\n",
       "      <td>2302.000000</td>\n",
       "      <td>2302.000000</td>\n",
       "      <td>2302.000000</td>\n",
       "      <td>2302.00000</td>\n",
       "    </tr>\n",
       "    <tr>\n",
       "      <th>mean</th>\n",
       "      <td>1253.067333</td>\n",
       "      <td>813.205474</td>\n",
       "      <td>3.914167</td>\n",
       "      <td>4.729366</td>\n",
       "      <td>3.387489</td>\n",
       "      <td>1.439183</td>\n",
       "      <td>47.595135</td>\n",
       "      <td>37.410947</td>\n",
       "      <td>2.671156</td>\n",
       "      <td>22.458732</td>\n",
       "      <td>...</td>\n",
       "      <td>1593.408775</td>\n",
       "      <td>102.563049</td>\n",
       "      <td>17.424288</td>\n",
       "      <td>3.272858</td>\n",
       "      <td>0.310145</td>\n",
       "      <td>0.0</td>\n",
       "      <td>0.990301</td>\n",
       "      <td>0.006435</td>\n",
       "      <td>0.294979</td>\n",
       "      <td>0.30347</td>\n",
       "    </tr>\n",
       "    <tr>\n",
       "      <th>std</th>\n",
       "      <td>714.227842</td>\n",
       "      <td>329.337637</td>\n",
       "      <td>1.480237</td>\n",
       "      <td>1.554514</td>\n",
       "      <td>11.891447</td>\n",
       "      <td>19.193122</td>\n",
       "      <td>75.597963</td>\n",
       "      <td>58.805040</td>\n",
       "      <td>22.531508</td>\n",
       "      <td>55.904423</td>\n",
       "      <td>...</td>\n",
       "      <td>11.191361</td>\n",
       "      <td>43.404584</td>\n",
       "      <td>33.356801</td>\n",
       "      <td>28.104124</td>\n",
       "      <td>4.785462</td>\n",
       "      <td>0.0</td>\n",
       "      <td>8.743504</td>\n",
       "      <td>0.206907</td>\n",
       "      <td>4.324654</td>\n",
       "      <td>3.37690</td>\n",
       "    </tr>\n",
       "    <tr>\n",
       "      <th>min</th>\n",
       "      <td>1.000000</td>\n",
       "      <td>119.000000</td>\n",
       "      <td>0.799281</td>\n",
       "      <td>2.000000</td>\n",
       "      <td>0.000000</td>\n",
       "      <td>0.000000</td>\n",
       "      <td>0.000000</td>\n",
       "      <td>0.000000</td>\n",
       "      <td>0.000000</td>\n",
       "      <td>0.000000</td>\n",
       "      <td>...</td>\n",
       "      <td>1541.000000</td>\n",
       "      <td>0.000000</td>\n",
       "      <td>0.000000</td>\n",
       "      <td>0.000000</td>\n",
       "      <td>0.000000</td>\n",
       "      <td>0.0</td>\n",
       "      <td>0.000000</td>\n",
       "      <td>0.000000</td>\n",
       "      <td>0.000000</td>\n",
       "      <td>0.00000</td>\n",
       "    </tr>\n",
       "    <tr>\n",
       "      <th>25%</th>\n",
       "      <td>633.250000</td>\n",
       "      <td>587.250000</td>\n",
       "      <td>2.871369</td>\n",
       "      <td>4.000000</td>\n",
       "      <td>0.000000</td>\n",
       "      <td>0.000000</td>\n",
       "      <td>0.000000</td>\n",
       "      <td>0.000000</td>\n",
       "      <td>0.000000</td>\n",
       "      <td>0.000000</td>\n",
       "      <td>...</td>\n",
       "      <td>1587.000000</td>\n",
       "      <td>74.037598</td>\n",
       "      <td>0.000000</td>\n",
       "      <td>0.000000</td>\n",
       "      <td>0.000000</td>\n",
       "      <td>0.0</td>\n",
       "      <td>0.000000</td>\n",
       "      <td>0.000000</td>\n",
       "      <td>0.000000</td>\n",
       "      <td>0.00000</td>\n",
       "    </tr>\n",
       "    <tr>\n",
       "      <th>50%</th>\n",
       "      <td>1255.500000</td>\n",
       "      <td>782.000000</td>\n",
       "      <td>3.784130</td>\n",
       "      <td>5.000000</td>\n",
       "      <td>0.000000</td>\n",
       "      <td>0.000000</td>\n",
       "      <td>0.000000</td>\n",
       "      <td>0.000000</td>\n",
       "      <td>0.000000</td>\n",
       "      <td>0.000000</td>\n",
       "      <td>...</td>\n",
       "      <td>1593.000000</td>\n",
       "      <td>101.119202</td>\n",
       "      <td>0.000000</td>\n",
       "      <td>0.000000</td>\n",
       "      <td>0.000000</td>\n",
       "      <td>0.0</td>\n",
       "      <td>0.000000</td>\n",
       "      <td>0.000000</td>\n",
       "      <td>0.000000</td>\n",
       "      <td>0.00000</td>\n",
       "    </tr>\n",
       "    <tr>\n",
       "      <th>75%</th>\n",
       "      <td>1867.750000</td>\n",
       "      <td>995.000000</td>\n",
       "      <td>4.776990</td>\n",
       "      <td>6.000000</td>\n",
       "      <td>0.000000</td>\n",
       "      <td>0.000000</td>\n",
       "      <td>80.000000</td>\n",
       "      <td>78.000000</td>\n",
       "      <td>0.000000</td>\n",
       "      <td>0.000000</td>\n",
       "      <td>...</td>\n",
       "      <td>1598.000000</td>\n",
       "      <td>128.086140</td>\n",
       "      <td>23.028460</td>\n",
       "      <td>0.000000</td>\n",
       "      <td>0.000000</td>\n",
       "      <td>0.0</td>\n",
       "      <td>0.000000</td>\n",
       "      <td>0.000000</td>\n",
       "      <td>0.000000</td>\n",
       "      <td>0.00000</td>\n",
       "    </tr>\n",
       "    <tr>\n",
       "      <th>max</th>\n",
       "      <td>2499.000000</td>\n",
       "      <td>3282.000000</td>\n",
       "      <td>14.466533</td>\n",
       "      <td>16.000000</td>\n",
       "      <td>94.000000</td>\n",
       "      <td>325.000000</td>\n",
       "      <td>454.000000</td>\n",
       "      <td>281.000000</td>\n",
       "      <td>603.000000</td>\n",
       "      <td>503.000000</td>\n",
       "      <td>...</td>\n",
       "      <td>1653.000000</td>\n",
       "      <td>330.314424</td>\n",
       "      <td>282.780152</td>\n",
       "      <td>385.008668</td>\n",
       "      <td>113.231044</td>\n",
       "      <td>0.0</td>\n",
       "      <td>180.454575</td>\n",
       "      <td>8.490040</td>\n",
       "      <td>102.762401</td>\n",
       "      <td>62.02560</td>\n",
       "    </tr>\n",
       "  </tbody>\n",
       "</table>\n",
       "<p>8 rows × 31 columns</p>\n",
       "</div>"
      ],
      "text/plain": [
       "               key  Время_нагрева_секунд  Общая_мощность  Количество_замеров  \\\n",
       "count  2302.000000           2302.000000     2302.000000         2302.000000   \n",
       "mean   1253.067333            813.205474        3.914167            4.729366   \n",
       "std     714.227842            329.337637        1.480237            1.554514   \n",
       "min       1.000000            119.000000        0.799281            2.000000   \n",
       "25%     633.250000            587.250000        2.871369            4.000000   \n",
       "50%    1255.500000            782.000000        3.784130            5.000000   \n",
       "75%    1867.750000            995.000000        4.776990            6.000000   \n",
       "max    2499.000000           3282.000000       14.466533           16.000000   \n",
       "\n",
       "            Bulk 1       Bulk 2       Bulk 3       Bulk 4       Bulk 5  \\\n",
       "count  2302.000000  2302.000000  2302.000000  2302.000000  2302.000000   \n",
       "mean      3.387489     1.439183    47.595135    37.410947     2.671156   \n",
       "std      11.891447    19.193122    75.597963    58.805040    22.531508   \n",
       "min       0.000000     0.000000     0.000000     0.000000     0.000000   \n",
       "25%       0.000000     0.000000     0.000000     0.000000     0.000000   \n",
       "50%       0.000000     0.000000     0.000000     0.000000     0.000000   \n",
       "75%       0.000000     0.000000    80.000000    78.000000     0.000000   \n",
       "max      94.000000   325.000000   454.000000   281.000000   603.000000   \n",
       "\n",
       "            Bulk 6  ...  Последний_замер       Wire 1       Wire 2  \\\n",
       "count  2302.000000  ...      2302.000000  2302.000000  2302.000000   \n",
       "mean     22.458732  ...      1593.408775   102.563049    17.424288   \n",
       "std      55.904423  ...        11.191361    43.404584    33.356801   \n",
       "min       0.000000  ...      1541.000000     0.000000     0.000000   \n",
       "25%       0.000000  ...      1587.000000    74.037598     0.000000   \n",
       "50%       0.000000  ...      1593.000000   101.119202     0.000000   \n",
       "75%       0.000000  ...      1598.000000   128.086140    23.028460   \n",
       "max     503.000000  ...      1653.000000   330.314424   282.780152   \n",
       "\n",
       "            Wire 3       Wire 4  Wire 5       Wire 6       Wire 7  \\\n",
       "count  2302.000000  2302.000000  2302.0  2302.000000  2302.000000   \n",
       "mean      3.272858     0.310145     0.0     0.990301     0.006435   \n",
       "std      28.104124     4.785462     0.0     8.743504     0.206907   \n",
       "min       0.000000     0.000000     0.0     0.000000     0.000000   \n",
       "25%       0.000000     0.000000     0.0     0.000000     0.000000   \n",
       "50%       0.000000     0.000000     0.0     0.000000     0.000000   \n",
       "75%       0.000000     0.000000     0.0     0.000000     0.000000   \n",
       "max     385.008668   113.231044     0.0   180.454575     8.490040   \n",
       "\n",
       "            Wire 8      Wire 9  \n",
       "count  2302.000000  2302.00000  \n",
       "mean      0.294979     0.30347  \n",
       "std       4.324654     3.37690  \n",
       "min       0.000000     0.00000  \n",
       "25%       0.000000     0.00000  \n",
       "50%       0.000000     0.00000  \n",
       "75%       0.000000     0.00000  \n",
       "max     102.762401    62.02560  \n",
       "\n",
       "[8 rows x 31 columns]"
      ]
     },
     "metadata": {},
     "output_type": "display_data"
    },
    {
     "data": {
      "text/plain": [
       "key                     0\n",
       "Время_нагрева_секунд    0\n",
       "Общая_мощность          0\n",
       "Количество_замеров      0\n",
       "Bulk 1                  0\n",
       "Bulk 2                  0\n",
       "Bulk 3                  0\n",
       "Bulk 4                  0\n",
       "Bulk 5                  0\n",
       "Bulk 6                  0\n",
       "Bulk 7                  0\n",
       "Bulk 8                  0\n",
       "Bulk 9                  0\n",
       "Bulk 10                 0\n",
       "Bulk 11                 0\n",
       "Bulk 12                 0\n",
       "Bulk 13                 0\n",
       "Bulk 14                 0\n",
       "Bulk 15                 0\n",
       "Газ                     0\n",
       "Первый_замер            0\n",
       "Последний_замер         0\n",
       "Wire 1                  0\n",
       "Wire 2                  0\n",
       "Wire 3                  0\n",
       "Wire 4                  0\n",
       "Wire 5                  0\n",
       "Wire 6                  0\n",
       "Wire 7                  0\n",
       "Wire 8                  0\n",
       "Wire 9                  0\n",
       "dtype: int64"
      ]
     },
     "metadata": {},
     "output_type": "display_data"
    }
   ],
   "source": [
    "# объединим таблицы по электродам, сыпучим материалам, газу, температуре с данными по проволочным материалам по ключу \"key\"\n",
    "data=data.merge(df_wire, on='key')\n",
    "display(data.head())\n",
    "display(data.describe())\n",
    "display(data.isna().sum())"
   ]
  },
  {
   "cell_type": "markdown",
   "id": "36bf583d",
   "metadata": {},
   "source": [
    "Отметим особенности распределения данных"
   ]
  },
  {
   "cell_type": "code",
   "execution_count": 48,
   "id": "e008ecab",
   "metadata": {},
   "outputs": [
    {
     "data": {
      "text/html": [
       "<div>\n",
       "<style scoped>\n",
       "    .dataframe tbody tr th:only-of-type {\n",
       "        vertical-align: middle;\n",
       "    }\n",
       "\n",
       "    .dataframe tbody tr th {\n",
       "        vertical-align: top;\n",
       "    }\n",
       "\n",
       "    .dataframe thead th {\n",
       "        text-align: right;\n",
       "    }\n",
       "</style>\n",
       "<table border=\"1\" class=\"dataframe\">\n",
       "  <thead>\n",
       "    <tr style=\"text-align: right;\">\n",
       "      <th></th>\n",
       "      <th>key</th>\n",
       "      <th>Время_нагрева_секунд</th>\n",
       "      <th>Общая_мощность</th>\n",
       "      <th>Количество_замеров</th>\n",
       "      <th>Bulk 1</th>\n",
       "      <th>Bulk 2</th>\n",
       "      <th>Bulk 3</th>\n",
       "      <th>Bulk 4</th>\n",
       "      <th>Bulk 5</th>\n",
       "      <th>Bulk 6</th>\n",
       "      <th>...</th>\n",
       "      <th>Последний_замер</th>\n",
       "      <th>Wire 1</th>\n",
       "      <th>Wire 2</th>\n",
       "      <th>Wire 3</th>\n",
       "      <th>Wire 4</th>\n",
       "      <th>Wire 5</th>\n",
       "      <th>Wire 6</th>\n",
       "      <th>Wire 7</th>\n",
       "      <th>Wire 8</th>\n",
       "      <th>Wire 9</th>\n",
       "    </tr>\n",
       "  </thead>\n",
       "  <tbody>\n",
       "    <tr>\n",
       "      <th>count</th>\n",
       "      <td>2302.000000</td>\n",
       "      <td>2302.000000</td>\n",
       "      <td>2302.000000</td>\n",
       "      <td>2302.000000</td>\n",
       "      <td>2302.000000</td>\n",
       "      <td>2302.000000</td>\n",
       "      <td>2302.000000</td>\n",
       "      <td>2302.000000</td>\n",
       "      <td>2302.000000</td>\n",
       "      <td>2302.000000</td>\n",
       "      <td>...</td>\n",
       "      <td>2302.000000</td>\n",
       "      <td>2302.000000</td>\n",
       "      <td>2302.000000</td>\n",
       "      <td>2302.000000</td>\n",
       "      <td>2302.000000</td>\n",
       "      <td>2302.0</td>\n",
       "      <td>2302.000000</td>\n",
       "      <td>2302.000000</td>\n",
       "      <td>2302.000000</td>\n",
       "      <td>2302.00000</td>\n",
       "    </tr>\n",
       "    <tr>\n",
       "      <th>mean</th>\n",
       "      <td>1253.067333</td>\n",
       "      <td>813.205474</td>\n",
       "      <td>3.914167</td>\n",
       "      <td>4.729366</td>\n",
       "      <td>3.387489</td>\n",
       "      <td>1.439183</td>\n",
       "      <td>47.595135</td>\n",
       "      <td>37.410947</td>\n",
       "      <td>2.671156</td>\n",
       "      <td>22.458732</td>\n",
       "      <td>...</td>\n",
       "      <td>1593.408775</td>\n",
       "      <td>102.563049</td>\n",
       "      <td>17.424288</td>\n",
       "      <td>3.272858</td>\n",
       "      <td>0.310145</td>\n",
       "      <td>0.0</td>\n",
       "      <td>0.990301</td>\n",
       "      <td>0.006435</td>\n",
       "      <td>0.294979</td>\n",
       "      <td>0.30347</td>\n",
       "    </tr>\n",
       "    <tr>\n",
       "      <th>std</th>\n",
       "      <td>714.227842</td>\n",
       "      <td>329.337637</td>\n",
       "      <td>1.480237</td>\n",
       "      <td>1.554514</td>\n",
       "      <td>11.891447</td>\n",
       "      <td>19.193122</td>\n",
       "      <td>75.597963</td>\n",
       "      <td>58.805040</td>\n",
       "      <td>22.531508</td>\n",
       "      <td>55.904423</td>\n",
       "      <td>...</td>\n",
       "      <td>11.191361</td>\n",
       "      <td>43.404584</td>\n",
       "      <td>33.356801</td>\n",
       "      <td>28.104124</td>\n",
       "      <td>4.785462</td>\n",
       "      <td>0.0</td>\n",
       "      <td>8.743504</td>\n",
       "      <td>0.206907</td>\n",
       "      <td>4.324654</td>\n",
       "      <td>3.37690</td>\n",
       "    </tr>\n",
       "    <tr>\n",
       "      <th>min</th>\n",
       "      <td>1.000000</td>\n",
       "      <td>119.000000</td>\n",
       "      <td>0.799281</td>\n",
       "      <td>2.000000</td>\n",
       "      <td>0.000000</td>\n",
       "      <td>0.000000</td>\n",
       "      <td>0.000000</td>\n",
       "      <td>0.000000</td>\n",
       "      <td>0.000000</td>\n",
       "      <td>0.000000</td>\n",
       "      <td>...</td>\n",
       "      <td>1541.000000</td>\n",
       "      <td>0.000000</td>\n",
       "      <td>0.000000</td>\n",
       "      <td>0.000000</td>\n",
       "      <td>0.000000</td>\n",
       "      <td>0.0</td>\n",
       "      <td>0.000000</td>\n",
       "      <td>0.000000</td>\n",
       "      <td>0.000000</td>\n",
       "      <td>0.00000</td>\n",
       "    </tr>\n",
       "    <tr>\n",
       "      <th>25%</th>\n",
       "      <td>633.250000</td>\n",
       "      <td>587.250000</td>\n",
       "      <td>2.871369</td>\n",
       "      <td>4.000000</td>\n",
       "      <td>0.000000</td>\n",
       "      <td>0.000000</td>\n",
       "      <td>0.000000</td>\n",
       "      <td>0.000000</td>\n",
       "      <td>0.000000</td>\n",
       "      <td>0.000000</td>\n",
       "      <td>...</td>\n",
       "      <td>1587.000000</td>\n",
       "      <td>74.037598</td>\n",
       "      <td>0.000000</td>\n",
       "      <td>0.000000</td>\n",
       "      <td>0.000000</td>\n",
       "      <td>0.0</td>\n",
       "      <td>0.000000</td>\n",
       "      <td>0.000000</td>\n",
       "      <td>0.000000</td>\n",
       "      <td>0.00000</td>\n",
       "    </tr>\n",
       "    <tr>\n",
       "      <th>50%</th>\n",
       "      <td>1255.500000</td>\n",
       "      <td>782.000000</td>\n",
       "      <td>3.784130</td>\n",
       "      <td>5.000000</td>\n",
       "      <td>0.000000</td>\n",
       "      <td>0.000000</td>\n",
       "      <td>0.000000</td>\n",
       "      <td>0.000000</td>\n",
       "      <td>0.000000</td>\n",
       "      <td>0.000000</td>\n",
       "      <td>...</td>\n",
       "      <td>1593.000000</td>\n",
       "      <td>101.119202</td>\n",
       "      <td>0.000000</td>\n",
       "      <td>0.000000</td>\n",
       "      <td>0.000000</td>\n",
       "      <td>0.0</td>\n",
       "      <td>0.000000</td>\n",
       "      <td>0.000000</td>\n",
       "      <td>0.000000</td>\n",
       "      <td>0.00000</td>\n",
       "    </tr>\n",
       "    <tr>\n",
       "      <th>75%</th>\n",
       "      <td>1867.750000</td>\n",
       "      <td>995.000000</td>\n",
       "      <td>4.776990</td>\n",
       "      <td>6.000000</td>\n",
       "      <td>0.000000</td>\n",
       "      <td>0.000000</td>\n",
       "      <td>80.000000</td>\n",
       "      <td>78.000000</td>\n",
       "      <td>0.000000</td>\n",
       "      <td>0.000000</td>\n",
       "      <td>...</td>\n",
       "      <td>1598.000000</td>\n",
       "      <td>128.086140</td>\n",
       "      <td>23.028460</td>\n",
       "      <td>0.000000</td>\n",
       "      <td>0.000000</td>\n",
       "      <td>0.0</td>\n",
       "      <td>0.000000</td>\n",
       "      <td>0.000000</td>\n",
       "      <td>0.000000</td>\n",
       "      <td>0.00000</td>\n",
       "    </tr>\n",
       "    <tr>\n",
       "      <th>max</th>\n",
       "      <td>2499.000000</td>\n",
       "      <td>3282.000000</td>\n",
       "      <td>14.466533</td>\n",
       "      <td>16.000000</td>\n",
       "      <td>94.000000</td>\n",
       "      <td>325.000000</td>\n",
       "      <td>454.000000</td>\n",
       "      <td>281.000000</td>\n",
       "      <td>603.000000</td>\n",
       "      <td>503.000000</td>\n",
       "      <td>...</td>\n",
       "      <td>1653.000000</td>\n",
       "      <td>330.314424</td>\n",
       "      <td>282.780152</td>\n",
       "      <td>385.008668</td>\n",
       "      <td>113.231044</td>\n",
       "      <td>0.0</td>\n",
       "      <td>180.454575</td>\n",
       "      <td>8.490040</td>\n",
       "      <td>102.762401</td>\n",
       "      <td>62.02560</td>\n",
       "    </tr>\n",
       "  </tbody>\n",
       "</table>\n",
       "<p>8 rows × 31 columns</p>\n",
       "</div>"
      ],
      "text/plain": [
       "               key  Время_нагрева_секунд  Общая_мощность  Количество_замеров  \\\n",
       "count  2302.000000           2302.000000     2302.000000         2302.000000   \n",
       "mean   1253.067333            813.205474        3.914167            4.729366   \n",
       "std     714.227842            329.337637        1.480237            1.554514   \n",
       "min       1.000000            119.000000        0.799281            2.000000   \n",
       "25%     633.250000            587.250000        2.871369            4.000000   \n",
       "50%    1255.500000            782.000000        3.784130            5.000000   \n",
       "75%    1867.750000            995.000000        4.776990            6.000000   \n",
       "max    2499.000000           3282.000000       14.466533           16.000000   \n",
       "\n",
       "            Bulk 1       Bulk 2       Bulk 3       Bulk 4       Bulk 5  \\\n",
       "count  2302.000000  2302.000000  2302.000000  2302.000000  2302.000000   \n",
       "mean      3.387489     1.439183    47.595135    37.410947     2.671156   \n",
       "std      11.891447    19.193122    75.597963    58.805040    22.531508   \n",
       "min       0.000000     0.000000     0.000000     0.000000     0.000000   \n",
       "25%       0.000000     0.000000     0.000000     0.000000     0.000000   \n",
       "50%       0.000000     0.000000     0.000000     0.000000     0.000000   \n",
       "75%       0.000000     0.000000    80.000000    78.000000     0.000000   \n",
       "max      94.000000   325.000000   454.000000   281.000000   603.000000   \n",
       "\n",
       "            Bulk 6  ...  Последний_замер       Wire 1       Wire 2  \\\n",
       "count  2302.000000  ...      2302.000000  2302.000000  2302.000000   \n",
       "mean     22.458732  ...      1593.408775   102.563049    17.424288   \n",
       "std      55.904423  ...        11.191361    43.404584    33.356801   \n",
       "min       0.000000  ...      1541.000000     0.000000     0.000000   \n",
       "25%       0.000000  ...      1587.000000    74.037598     0.000000   \n",
       "50%       0.000000  ...      1593.000000   101.119202     0.000000   \n",
       "75%       0.000000  ...      1598.000000   128.086140    23.028460   \n",
       "max     503.000000  ...      1653.000000   330.314424   282.780152   \n",
       "\n",
       "            Wire 3       Wire 4  Wire 5       Wire 6       Wire 7  \\\n",
       "count  2302.000000  2302.000000  2302.0  2302.000000  2302.000000   \n",
       "mean      3.272858     0.310145     0.0     0.990301     0.006435   \n",
       "std      28.104124     4.785462     0.0     8.743504     0.206907   \n",
       "min       0.000000     0.000000     0.0     0.000000     0.000000   \n",
       "25%       0.000000     0.000000     0.0     0.000000     0.000000   \n",
       "50%       0.000000     0.000000     0.0     0.000000     0.000000   \n",
       "75%       0.000000     0.000000     0.0     0.000000     0.000000   \n",
       "max     385.008668   113.231044     0.0   180.454575     8.490040   \n",
       "\n",
       "            Wire 8      Wire 9  \n",
       "count  2302.000000  2302.00000  \n",
       "mean      0.294979     0.30347  \n",
       "std       4.324654     3.37690  \n",
       "min       0.000000     0.00000  \n",
       "25%       0.000000     0.00000  \n",
       "50%       0.000000     0.00000  \n",
       "75%       0.000000     0.00000  \n",
       "max     102.762401    62.02560  \n",
       "\n",
       "[8 rows x 31 columns]"
      ]
     },
     "execution_count": 48,
     "metadata": {},
     "output_type": "execute_result"
    }
   ],
   "source": [
    "data.describe()"
   ]
  },
  {
   "cell_type": "markdown",
   "id": "2d74e32f",
   "metadata": {},
   "source": [
    "    Среднее время нагрева - 813 сек., минимальное - 119, максимальное - 3282\n",
    "    Средняя общая мощность - 3,91, минимальная - 0,80, максимальное - 14,47\n",
    "    Среднее количество замеров - 5, минимальное - 2, максимальное - 16            \n",
    "    Средняя температура первого замера - 1587, минимальная - 1519, максимальная - 1660\n",
    "    Средняя температура последнего замера - 1593, минимальная - 1541, максимальная - 1653\n",
    "    Среднее количество газа - 11,37, минимальное - 0,01, максимальное - 52,14"
   ]
  },
  {
   "cell_type": "markdown",
   "id": "ce76b12c",
   "metadata": {},
   "source": [
    "Посмотрим корреляцию признаков по тепловой карте"
   ]
  },
  {
   "cell_type": "code",
   "execution_count": 49,
   "id": "364ef7c6",
   "metadata": {},
   "outputs": [
    {
     "data": {
      "image/png": "[encoded data removed]",
      "text/plain": [
       "<Figure size 1080x648 with 2 Axes>"
      ]
     },
     "metadata": {
      "needs_background": "light"
     },
     "output_type": "display_data"
    }
   ],
   "source": [
    "#посмотрим коррреляцию общей мощности с остальными признаками\n",
    "plt.figure(figsize=(15, 9))\n",
    "fig = sns.heatmap(data.corr()[['Общая_мощность']], cmap='coolwarm', annot=True)\n",
    "plt.title('Корреляция признаков', fontsize=16)\n",
    "plt.setp(fig.get_xticklabels(), rotation=18)\n",
    "plt.show()"
   ]
  },
  {
   "cell_type": "markdown",
   "id": "d902db8b",
   "metadata": {},
   "source": [
    "наблюдается высокая корреляция (больше 0,7) общей мощности с временем нагрева и количеством замеров (они же раунды нагрева)"
   ]
  },
  {
   "cell_type": "code",
   "execution_count": 50,
   "id": "48d005b7",
   "metadata": {},
   "outputs": [
    {
     "data": {
      "image/png": "[encoded data removed]",
      "text/plain": [
       "<Figure size 1080x648 with 2 Axes>"
      ]
     },
     "metadata": {
      "needs_background": "light"
     },
     "output_type": "display_data"
    }
   ],
   "source": [
    "#посмотрим коррреляцию температуры последнего замера с остальными признаками\n",
    "plt.figure(figsize=(15, 9))\n",
    "fig = sns.heatmap(data.corr()[['Последний_замер']], cmap='coolwarm', annot=True)\n",
    "plt.title('Корреляция признаков', fontsize=16)\n",
    "plt.setp(fig.get_xticklabels(), rotation=18)\n",
    "plt.show()"
   ]
  },
  {
   "cell_type": "markdown",
   "id": "6d964ca8",
   "metadata": {},
   "source": [
    "высокой корреляции не наблюдается/ \n",
    "наблюдается слабая корреляция (0,3) между температурой последнего и первого замера и 0,32 - между температурой последнего замера и добавлением Wire 1/ \n",
    "наблюдается очень слабая, но все же заметная корреляция между температурой последнего замера и временем нагрева, добавлением Bulk12 и 15,4, а также с общей мощностью и количеством замеров"
   ]
  },
  {
   "cell_type": "markdown",
   "id": "c329f274",
   "metadata": {},
   "source": [
    "# Вывод:\n",
    "1. Заполнили пропуски по сыпучим и проволочным материалам нулями, так как, где нет данных в этих столбцах, там этим материалы не добавлялись;\n",
    "2. Удалили строки с аномальными значениями по мощности, температуре, газу, времени нагрева;\n",
    "3. Добавили количество замеров, удалили партии с 1 замером, как нет необходимой для дальнейшего анализа начальной и конечной температуры;\n",
    "4. Добавили данные по температуре первого и последнего замера;\n",
    "5. Объединили все необходимые для обучения моделей данные в одну таблицу по key\n",
    "6. Отметили особенности распределения данных;\n",
    "7. Отметили высокую корреляцию (больше 0,7) общей мощности с временем нагрева и количеством замеров(раундов нагрева);\n",
    "8. Отметили, что наблюдается слабая корреляция (0,3) между температурой последнего и первого замера и 0,32 - между температурой последнего замера и добавлением Wire 1/ наблюдается очень слабая, но все же заметная корреляция между температурой последнего замера и временем нагрева, добавлением Bulk12 и 15,4, а также с общей мощностью и количеством замеров."
   ]
  },
  {
   "cell_type": "markdown",
   "id": "0569b77f",
   "metadata": {},
   "source": [
    "3.Создание выборок и обучение моделей"
   ]
  },
  {
   "cell_type": "markdown",
   "id": "207888dc",
   "metadata": {},
   "source": [
    "3.1.Создание выборок"
   ]
  },
  {
   "cell_type": "code",
   "execution_count": 51,
   "id": "ba65383c",
   "metadata": {},
   "outputs": [],
   "source": [
    "#Уберем неинформативный признак key из нашей таблички перед разбиением на выборки\n",
    "data=data.drop('key', axis=1)"
   ]
  },
  {
   "cell_type": "code",
   "execution_count": 52,
   "id": "19575e61",
   "metadata": {},
   "outputs": [
    {
     "name": "stdout",
     "output_type": "stream",
     "text": [
      "(1726, 29)\n",
      "(576,)\n"
     ]
    }
   ],
   "source": [
    "# Разбиваем исходные данные на обучающую(75%) и тестовую выборки(25%)\n",
    "features = data.drop('Последний_замер', axis=1)\n",
    "target = data['Последний_замер']\n",
    "features_train, features_test, target_train, target_test = train_test_split(\n",
    "    features, target, test_size=0.25, random_state=RANDOM_STATE, shuffle=True\n",
    ")\n",
    "\n",
    "print(features_train.shape)\n",
    "print(target_test.shape)"
   ]
  },
  {
   "cell_type": "code",
   "execution_count": 53,
   "id": "2556500c",
   "metadata": {},
   "outputs": [
    {
     "data": {
      "text/plain": [
       "Index(['Время_нагрева_секунд', 'Общая_мощность', 'Количество_замеров',\n",
       "       'Bulk 1', 'Bulk 2', 'Bulk 3', 'Bulk 4', 'Bulk 5', 'Bulk 6', 'Bulk 7',\n",
       "       'Bulk 8', 'Bulk 9', 'Bulk 10', 'Bulk 11', 'Bulk 12', 'Bulk 13',\n",
       "       'Bulk 14', 'Bulk 15', 'Газ', 'Первый_замер', 'Wire 1', 'Wire 2',\n",
       "       'Wire 3', 'Wire 4', 'Wire 5', 'Wire 6', 'Wire 7', 'Wire 8', 'Wire 9'],\n",
       "      dtype='object')"
      ]
     },
     "execution_count": 53,
     "metadata": {},
     "output_type": "execute_result"
    }
   ],
   "source": [
    "# КОД ТИМЛИДА\n",
    "features.columns"
   ]
  },
  {
   "cell_type": "markdown",
   "id": "b7b206ed",
   "metadata": {},
   "source": [
    "3.2. Обучение моделей"
   ]
  },
  {
   "cell_type": "markdown",
   "id": "07894c79",
   "metadata": {},
   "source": [
    "Обучу несколько моделей, которые ранее показывали себя с хорошей стороны:\n",
    "RandomForestRegressor,\n",
    "LGBMRegressor,\n",
    "CatBoostRegressor"
   ]
  },
  {
   "cell_type": "markdown",
   "id": "2a4cf036",
   "metadata": {},
   "source": [
    "А.RandomForestRegressor "
   ]
  },
  {
   "cell_type": "code",
   "execution_count": 54,
   "id": "6fd53aa6",
   "metadata": {},
   "outputs": [
    {
     "name": "stdout",
     "output_type": "stream",
     "text": [
      "MAE: 6.20\n",
      "CPU times: user 1min 12s, sys: 269 ms, total: 1min 12s\n",
      "Wall time: 1min 13s\n"
     ]
    }
   ],
   "source": [
    "%%time\n",
    "model = RandomForestRegressor()\n",
    "params = {\n",
    "    'n_estimators': [10, 30, 80],\n",
    "    'max_depth': [5, 10, 20],\n",
    "    'min_samples_split': [1, 3, 7],\n",
    "    'bootstrap': [True, False],\n",
    "    'random_state': [RANDOM_STATE]\n",
    "}\n",
    "rf_grid = GridSearchCV(model, params, cv=5, scoring='neg_mean_absolute_error')\n",
    "rf_grid.fit(features_train, target_train)\n",
    "result = abs(rf_grid.best_score_)\n",
    "print(f'MAE: {result:.2f}')"
   ]
  },
  {
   "cell_type": "markdown",
   "id": "46cba0bd",
   "metadata": {},
   "source": [
    "Б.LGBMRegressor"
   ]
  },
  {
   "cell_type": "code",
   "execution_count": null,
   "id": "e298abb1",
   "metadata": {},
   "outputs": [],
   "source": [
    "%%time\n",
    "model = LGBMRegressor()\n",
    "params = {\n",
    "    'metric': ['mae'],\n",
    "    'max_depth': [5, 10, 20], \n",
    "    'num_leaves': [8, 20, 50],  \n",
    "    'learning_rate': [0.01, 0.05, 0.1],\n",
    "    'random_state': [RANDOM_STATE],\n",
    "}\n",
    "lgbm_grid = GridSearchCV(model, params, cv=5, verbose=2)\n",
    "lgbm_grid.fit(features_train, target_train)\n",
    "train_predictions = lgbm_grid.predict(features_train)\n",
    "result = mean_absolute_error(target_train, train_predictions)\n",
    "print(f'MAE: {result:.2f}')"
   ]
  },
  {
   "cell_type": "markdown",
   "id": "f152724f",
   "metadata": {},
   "source": [
    "Fitting 5 folds for each of 27 candidates, totalling 135 fits\n",
    "[CV] END learning_rate=0.01, max_depth=5, metric=mae, num_leaves=8, random_state=310723; total time=   9.3s\n",
    "[CV] END learning_rate=0.01, max_depth=5, metric=mae, num_leaves=8, random_state=310723; total time=   5.5s\n",
    "[CV] END learning_rate=0.01, max_depth=5, metric=mae, num_leaves=8, random_state=310723; total time=  17.2s\n",
    "[CV] END learning_rate=0.01, max_depth=5, metric=mae, num_leaves=8, random_state=310723; total time=   4.0s\n",
    "[CV] END learning_rate=0.01, max_depth=5, metric=mae, num_leaves=8, random_state=310723; total time=   2.8s\n",
    "[CV] END learning_rate=0.01, max_depth=5, metric=mae, num_leaves=20, random_state=310723; total time=   4.2s\n",
    "[CV] END learning_rate=0.01, max_depth=5, metric=mae, num_leaves=20, random_state=310723; total time=   8.1s\n",
    "[CV] END learning_rate=0.01, max_depth=5, metric=mae, num_leaves=20, random_state=310723; total time=  13.7s\n",
    "[CV] END learning_rate=0.01, max_depth=5, metric=mae, num_leaves=20, random_state=310723; total time=  13.2s\n",
    "[CV] END learning_rate=0.01, max_depth=5, metric=mae, num_leaves=20, random_state=310723; total time=  24.8s\n",
    "[CV] END learning_rate=0.01, max_depth=5, metric=mae, num_leaves=50, random_state=310723; total time=   6.0s\n",
    "[CV] END learning_rate=0.01, max_depth=5, metric=mae, num_leaves=50, random_state=310723; total time=   9.7s\n",
    "[CV] END learning_rate=0.01, max_depth=5, metric=mae, num_leaves=50, random_state=310723; total time=  17.5s\n",
    "[CV] END learning_rate=0.01, max_depth=5, metric=mae, num_leaves=50, random_state=310723; total time= 1.5min\n",
    "[CV] END learning_rate=0.01, max_depth=5, metric=mae, num_leaves=50, random_state=310723; total time= 1.4min\n",
    "[CV] END learning_rate=0.01, max_depth=10, metric=mae, num_leaves=8, random_state=310723; total time=  44.7s\n",
    "[CV] END learning_rate=0.01, max_depth=10, metric=mae, num_leaves=8, random_state=310723; total time=  28.3s\n",
    "[CV] END learning_rate=0.01, max_depth=10, metric=mae, num_leaves=8, random_state=310723; total time=  45.0s\n",
    "[CV] END learning_rate=0.01, max_depth=10, metric=mae, num_leaves=8, random_state=310723; total time=  32.0s\n",
    "[CV] END learning_rate=0.01, max_depth=10, metric=mae, num_leaves=8, random_state=310723; total time=  24.3s\n",
    "[CV] END learning_rate=0.01, max_depth=10, metric=mae, num_leaves=20, random_state=310723; total time= 1.5min\n",
    "[CV] END learning_rate=0.01, max_depth=10, metric=mae, num_leaves=20, random_state=310723; total time= 1.6min\n",
    "[CV] END learning_rate=0.01, max_depth=10, metric=mae, num_leaves=20, random_state=310723; total time= 1.2min\n",
    "[CV] END learning_rate=0.01, max_depth=10, metric=mae, num_leaves=20, random_state=310723; total time= 1.5min\n",
    "[CV] END learning_rate=0.01, max_depth=10, metric=mae, num_leaves=20, random_state=310723; total time= 1.2min\n",
    "[CV] END learning_rate=0.01, max_depth=10, metric=mae, num_leaves=50, random_state=310723; total time= 2.1min\n",
    "[CV] END learning_rate=0.01, max_depth=10, metric=mae, num_leaves=50, random_state=310723; total time= 3.1min\n",
    "[CV] END learning_rate=0.01, max_depth=10, metric=mae, num_leaves=50, random_state=310723; total time= 3.4min\n",
    "[CV] END learning_rate=0.01, max_depth=10, metric=mae, num_leaves=50, random_state=310723; total time= 1.6min\n",
    "[CV] END learning_rate=0.01, max_depth=10, metric=mae, num_leaves=50, random_state=310723; total time=  19.7s\n",
    "[CV] END learning_rate=0.01, max_depth=20, metric=mae, num_leaves=8, random_state=310723; total time=   2.5s\n",
    "[CV] END learning_rate=0.01, max_depth=20, metric=mae, num_leaves=8, random_state=310723; total time=   7.3s\n",
    "[CV] END learning_rate=0.01, max_depth=20, metric=mae, num_leaves=8, random_state=310723; total time=   4.5s\n",
    "[CV] END learning_rate=0.01, max_depth=20, metric=mae, num_leaves=8, random_state=310723; total time=   4.0s\n",
    "[CV] END learning_rate=0.01, max_depth=20, metric=mae, num_leaves=8, random_state=310723; total time=   2.2s\n",
    "[CV] END learning_rate=0.01, max_depth=20, metric=mae, num_leaves=20, random_state=310723; total time=   7.5s\n",
    "[CV] END learning_rate=0.01, max_depth=20, metric=mae, num_leaves=20, random_state=310723; total time=   9.6s\n",
    "[CV] END learning_rate=0.01, max_depth=20, metric=mae, num_leaves=20, random_state=310723; total time=  35.1s\n",
    "[CV] END learning_rate=0.01, max_depth=20, metric=mae, num_leaves=20, random_state=310723; total time=  39.7s\n",
    "[CV] END learning_rate=0.01, max_depth=20, metric=mae, num_leaves=20, random_state=310723; total time=  44.6s\n",
    "[CV] END learning_rate=0.01, max_depth=20, metric=mae, num_leaves=50, random_state=310723; total time= 1.4min\n",
    "[CV] END learning_rate=0.01, max_depth=20, metric=mae, num_leaves=50, random_state=310723; total time= 1.5min\n",
    "[CV] END learning_rate=0.01, max_depth=20, metric=mae, num_leaves=50, random_state=310723; total time= 1.5min\n",
    "[CV] END learning_rate=0.01, max_depth=20, metric=mae, num_leaves=50, random_state=310723; total time= 2.5min\n",
    "[CV] END learning_rate=0.01, max_depth=20, metric=mae, num_leaves=50, random_state=310723; total time= 1.3min\n",
    "[CV] END learning_rate=0.05, max_depth=5, metric=mae, num_leaves=8, random_state=310723; total time=  24.7s\n",
    "[CV] END learning_rate=0.05, max_depth=5, metric=mae, num_leaves=8, random_state=310723; total time=  22.1s\n",
    "[CV] END learning_rate=0.05, max_depth=5, metric=mae, num_leaves=8, random_state=310723; total time=  17.2s\n",
    "[CV] END learning_rate=0.05, max_depth=5, metric=mae, num_leaves=8, random_state=310723; total time=  17.6s\n",
    "[CV] END learning_rate=0.05, max_depth=5, metric=mae, num_leaves=8, random_state=310723; total time=   8.4s\n",
    "[CV] END learning_rate=0.05, max_depth=5, metric=mae, num_leaves=20, random_state=310723; total time=  23.2s\n",
    "[CV] END learning_rate=0.05, max_depth=5, metric=mae, num_leaves=20, random_state=310723; total time=  20.3s\n",
    "[CV] END learning_rate=0.05, max_depth=5, metric=mae, num_leaves=20, random_state=310723; total time=  37.1s\n",
    "[CV] END learning_rate=0.05, max_depth=5, metric=mae, num_leaves=20, random_state=310723; total time=  42.4s\n",
    "[CV] END learning_rate=0.05, max_depth=5, metric=mae, num_leaves=20, random_state=310723; total time=  26.3s\n",
    "[CV] END learning_rate=0.05, max_depth=5, metric=mae, num_leaves=50, random_state=310723; total time=  55.9s\n",
    "[CV] END learning_rate=0.05, max_depth=5, metric=mae, num_leaves=50, random_state=310723; total time=  34.2s\n",
    "[CV] END learning_rate=0.05, max_depth=5, metric=mae, num_leaves=50, random_state=310723; total time=  35.5s\n",
    "[CV] END learning_rate=0.05, max_depth=5, metric=mae, num_leaves=50, random_state=310723; total time= 1.2min\n",
    "[CV] END learning_rate=0.05, max_depth=5, metric=mae, num_leaves=50, random_state=310723; total time=  38.2s\n",
    "[CV] END learning_rate=0.05, max_depth=10, metric=mae, num_leaves=8, random_state=310723; total time=  16.7s\n",
    "[CV] END learning_rate=0.05, max_depth=10, metric=mae, num_leaves=8, random_state=310723; total time=  24.6s\n",
    "[CV] END learning_rate=0.05, max_depth=10, metric=mae, num_leaves=8, random_state=310723; total time=  16.5s\n",
    "[CV] END learning_rate=0.05, max_depth=10, metric=mae, num_leaves=8, random_state=310723; total time=  31.6s\n",
    "[CV] END learning_rate=0.05, max_depth=10, metric=mae, num_leaves=8, random_state=310723; total time=  16.0s\n",
    "[CV] END learning_rate=0.05, max_depth=10, metric=mae, num_leaves=20, random_state=310723; total time=  39.6s\n",
    "[CV] END learning_rate=0.05, max_depth=10, metric=mae, num_leaves=20, random_state=310723; total time=  36.3s\n",
    "[CV] END learning_rate=0.05, max_depth=10, metric=mae, num_leaves=20, random_state=310723; total time=  35.1s\n",
    "[CV] END learning_rate=0.05, max_depth=10, metric=mae, num_leaves=20, random_state=310723; total time=  32.2s\n",
    "[CV] END learning_rate=0.05, max_depth=10, metric=mae, num_leaves=20, random_state=310723; total time=  44.8s\n",
    "[CV] END learning_rate=0.05, max_depth=10, metric=mae, num_leaves=50, random_state=310723; total time= 1.4min\n",
    "[CV] END learning_rate=0.05, max_depth=10, metric=mae, num_leaves=50, random_state=310723; total time= 1.0min\n",
    "[CV] END learning_rate=0.05, max_depth=10, metric=mae, num_leaves=50, random_state=310723; total time=  42.6s\n",
    "[CV] END learning_rate=0.05, max_depth=10, metric=mae, num_leaves=50, random_state=310723; total time= 1.3min\n",
    "[CV] END learning_rate=0.05, max_depth=10, metric=mae, num_leaves=50, random_state=310723; total time=  45.1s\n",
    "[CV] END learning_rate=0.05, max_depth=20, metric=mae, num_leaves=8, random_state=310723; total time=   3.3s\n",
    "[CV] END learning_rate=0.05, max_depth=20, metric=mae, num_leaves=8, random_state=310723; total time=   5.4s\n",
    "[CV] END learning_rate=0.05, max_depth=20, metric=mae, num_leaves=8, random_state=310723; total time=   3.5s\n",
    "[CV] END learning_rate=0.05, max_depth=20, metric=mae, num_leaves=8, random_state=310723; total time=   9.7s\n",
    "[CV] END learning_rate=0.05, max_depth=20, metric=mae, num_leaves=8, random_state=310723; total time=   3.7s\n",
    "[CV] END learning_rate=0.05, max_depth=20, metric=mae, num_leaves=20, random_state=310723; total time=  10.7s\n",
    "[CV] END learning_rate=0.05, max_depth=20, metric=mae, num_leaves=20, random_state=310723; total time=   7.4s\n",
    "[CV] END learning_rate=0.05, max_depth=20, metric=mae, num_leaves=20, random_state=310723; total time=   7.4s\n",
    "[CV] END learning_rate=0.05, max_depth=20, metric=mae, num_leaves=20, random_state=310723; total time=   6.2s\n",
    "[CV] END learning_rate=0.05, max_depth=20, metric=mae, num_leaves=20, random_state=310723; total time=  11.0s\n",
    "[CV] END learning_rate=0.05, max_depth=20, metric=mae, num_leaves=50, random_state=310723; total time=  19.6s\n",
    "[CV] END learning_rate=0.05, max_depth=20, metric=mae, num_leaves=50, random_state=310723; total time= 1.2min\n",
    "[CV] END learning_rate=0.05, max_depth=20, metric=mae, num_leaves=50, random_state=310723; total time= 1.3min\n",
    "[CV] END learning_rate=0.05, max_depth=20, metric=mae, num_leaves=50, random_state=310723; total time= 2.6min\n",
    "[CV] END learning_rate=0.05, max_depth=20, metric=mae, num_leaves=50, random_state=310723; total time= 2.1min\n",
    "[CV] END learning_rate=0.1, max_depth=5, metric=mae, num_leaves=8, random_state=310723; total time=  14.8s\n",
    "[CV] END learning_rate=0.1, max_depth=5, metric=mae, num_leaves=8, random_state=310723; total time=  40.3s\n",
    "[CV] END learning_rate=0.1, max_depth=5, metric=mae, num_leaves=8, random_state=310723; total time=  12.5s\n",
    "[CV] END learning_rate=0.1, max_depth=5, metric=mae, num_leaves=8, random_state=310723; total time=  43.7s\n",
    "[CV] END learning_rate=0.1, max_depth=5, metric=mae, num_leaves=8, random_state=310723; total time=  27.4s\n",
    "[CV] END learning_rate=0.1, max_depth=5, metric=mae, num_leaves=20, random_state=310723; total time= 1.5min\n",
    "[CV] END learning_rate=0.1, max_depth=5, metric=mae, num_leaves=20, random_state=310723; total time=  45.9s\n",
    "[CV] END learning_rate=0.1, max_depth=5, metric=mae, num_leaves=20, random_state=310723; total time=  38.5s\n",
    "[CV] END learning_rate=0.1, max_depth=5, metric=mae, num_leaves=20, random_state=310723; total time=  58.7s\n",
    "[CV] END learning_rate=0.1, max_depth=5, metric=mae, num_leaves=20, random_state=310723; total time=  22.4s\n",
    "[CV] END learning_rate=0.1, max_depth=5, metric=mae, num_leaves=50, random_state=310723; total time= 1.0min\n",
    "[CV] END learning_rate=0.1, max_depth=5, metric=mae, num_leaves=50, random_state=310723; total time= 1.2min\n",
    "[CV] END learning_rate=0.1, max_depth=5, metric=mae, num_leaves=50, random_state=310723; total time=  46.2s\n",
    "[CV] END learning_rate=0.1, max_depth=5, metric=mae, num_leaves=50, random_state=310723; total time=  28.0s\n",
    "[CV] END learning_rate=0.1, max_depth=5, metric=mae, num_leaves=50, random_state=310723; total time=  38.4s\n",
    "[CV] END learning_rate=0.1, max_depth=10, metric=mae, num_leaves=8, random_state=310723; total time=  27.0s\n",
    "[CV] END learning_rate=0.1, max_depth=10, metric=mae, num_leaves=8, random_state=310723; total time=  18.5s\n",
    "[CV] END learning_rate=0.1, max_depth=10, metric=mae, num_leaves=8, random_state=310723; total time=  18.3s\n",
    "[CV] END learning_rate=0.1, max_depth=10, metric=mae, num_leaves=8, random_state=310723; total time=  15.3s\n",
    "[CV] END learning_rate=0.1, max_depth=10, metric=mae, num_leaves=8, random_state=310723; total time=  23.3s\n",
    "[CV] END learning_rate=0.1, max_depth=10, metric=mae, num_leaves=20, random_state=310723; total time=  43.4s\n",
    "[CV] END learning_rate=0.1, max_depth=10, metric=mae, num_leaves=20, random_state=310723; total time=  31.9s\n",
    "[CV] END learning_rate=0.1, max_depth=10, metric=mae, num_leaves=20, random_state=310723; total time=  38.7s\n",
    "[CV] END learning_rate=0.1, max_depth=10, metric=mae, num_leaves=20, random_state=310723; total time=  41.5s\n",
    "[CV] END learning_rate=0.1, max_depth=10, metric=mae, num_leaves=20, random_state=310723; total time= 2.1min\n",
    "[CV] END learning_rate=0.1, max_depth=10, metric=mae, num_leaves=50, random_state=310723; total time=  37.4s\n",
    "[CV] END learning_rate=0.1, max_depth=10, metric=mae, num_leaves=50, random_state=310723; total time=  44.3s\n",
    "[CV] END learning_rate=0.1, max_depth=10, metric=mae, num_leaves=50, random_state=310723; total time=  52.1s\n",
    "[CV] END learning_rate=0.1, max_depth=10, metric=mae, num_leaves=50, random_state=310723; total time= 1.1min\n",
    "[CV] END learning_rate=0.1, max_depth=10, metric=mae, num_leaves=50, random_state=310723; total time=  46.4s\n",
    "[CV] END learning_rate=0.1, max_depth=20, metric=mae, num_leaves=8, random_state=310723; total time=  25.3s\n",
    "[CV] END learning_rate=0.1, max_depth=20, metric=mae, num_leaves=8, random_state=310723; total time=  22.1s\n",
    "[CV] END learning_rate=0.1, max_depth=20, metric=mae, num_leaves=8, random_state=310723; total time=  12.9s\n",
    "[CV] END learning_rate=0.1, max_depth=20, metric=mae, num_leaves=8, random_state=310723; total time=  23.4s\n",
    "[CV] END learning_rate=0.1, max_depth=20, metric=mae, num_leaves=8, random_state=310723; total time=  19.4s\n",
    "[CV] END learning_rate=0.1, max_depth=20, metric=mae, num_leaves=20, random_state=310723; total time=  27.1s\n",
    "[CV] END learning_rate=0.1, max_depth=20, metric=mae, num_leaves=20, random_state=310723; total time=  41.3s\n",
    "[CV] END learning_rate=0.1, max_depth=20, metric=mae, num_leaves=20, random_state=310723; total time=  56.7s\n",
    "[CV] END learning_rate=0.1, max_depth=20, metric=mae, num_leaves=20, random_state=310723; total time=  54.1s\n",
    "[CV] END learning_rate=0.1, max_depth=20, metric=mae, num_leaves=20, random_state=310723; total time= 1.0min\n",
    "[CV] END learning_rate=0.1, max_depth=20, metric=mae, num_leaves=50, random_state=310723; total time= 1.7min\n",
    "[CV] END learning_rate=0.1, max_depth=20, metric=mae, num_leaves=50, random_state=310723; total time= 2.7min\n",
    "[CV] END learning_rate=0.1, max_depth=20, metric=mae, num_leaves=50, random_state=310723; total time= 2.0min\n",
    "[CV] END learning_rate=0.1, max_depth=20, metric=mae, num_leaves=50, random_state=310723; total time= 1.8min\n",
    "[CV] END learning_rate=0.1, max_depth=20, metric=mae, num_leaves=50, random_state=310723; total time= 1.5min\n",
    "MAE: 5.37\n",
    "CPU times: user 1h 38min 41s, sys: 45.5 s, total: 1h 39min 27s\n",
    "Wall time: 1h 40min 9s\n",
    "\n"
   ]
  },
  {
   "cell_type": "markdown",
   "id": "684014b4",
   "metadata": {},
   "source": [
    "В. CatBoostRegressor"
   ]
  },
  {
   "cell_type": "code",
   "execution_count": 55,
   "id": "23700832",
   "metadata": {},
   "outputs": [
    {
     "name": "stdout",
     "output_type": "stream",
     "text": [
      "Fitting 5 folds for each of 1 candidates, totalling 5 fits\n",
      "[CV] END depth=5, learning_rate=0.05, loss_function=MAE, n_estimators=150, random_state=310723; total time=   1.7s\n",
      "[CV] END depth=5, learning_rate=0.05, loss_function=MAE, n_estimators=150, random_state=310723; total time=   1.2s\n",
      "[CV] END depth=5, learning_rate=0.05, loss_function=MAE, n_estimators=150, random_state=310723; total time=   1.3s\n",
      "[CV] END depth=5, learning_rate=0.05, loss_function=MAE, n_estimators=150, random_state=310723; total time=   1.2s\n",
      "[CV] END depth=5, learning_rate=0.05, loss_function=MAE, n_estimators=150, random_state=310723; total time=   1.2s\n",
      "MAE: 5.21\n",
      "CPU times: user 2.27 s, sys: 93 ms, total: 2.36 s\n",
      "Wall time: 8.2 s\n"
     ]
    }
   ],
   "source": [
    "%%time\n",
    "model = CatBoostRegressor(verbose=False)\n",
    "params = {        \n",
    "    'loss_function':['MAE'],\n",
    "    'depth': [5],   # проверяла [5, 10, 15], случайно нажала еще раз на яйчейку, а модель обучается больше 3 часов, но были выведены лучшие параметры до повторного нажатия\n",
    "    'learning_rate': [0.05],  # проверяла  [0.01, 0.05, 0.1]\n",
    "    'n_estimators': [150], # проверяла  [50, 100, 150]\n",
    "    'random_state': [RANDOM_STATE],\n",
    "}\n",
    "cb_grid = GridSearchCV(model, params, cv=5, verbose=2)\n",
    "cb_grid.fit(features_train, target_train)\n",
    "train_predictions = cb_grid.predict(features_train)\n",
    "result = mean_absolute_error(target_train, train_predictions)\n",
    "print(f'MAE: {result:.2f}')"
   ]
  },
  {
   "cell_type": "markdown",
   "id": "c701c41e",
   "metadata": {},
   "source": [
    "Самый лучший MAE у CatBoostRegressor - 5,21, у LGBMRegressor ненамного хуже, при этом время обучения LGBMRegressor значительно меньше."
   ]
  },
  {
   "cell_type": "markdown",
   "id": "a6e4afa6",
   "metadata": {},
   "source": [
    "3.3. Проверим лучшую модель на тестовой выборке"
   ]
  },
  {
   "cell_type": "markdown",
   "id": "28a6e932",
   "metadata": {},
   "source": [
    "CatBoostRegressor"
   ]
  },
  {
   "cell_type": "code",
   "execution_count": 56,
   "id": "9718e5c9",
   "metadata": {},
   "outputs": [
    {
     "name": "stdout",
     "output_type": "stream",
     "text": [
      "MAE test: 6.35\n",
      "CPU times: user 5.58 ms, sys: 23 µs, total: 5.6 ms\n",
      "Wall time: 4.24 ms\n"
     ]
    }
   ],
   "source": [
    "%%time\n",
    "predictions = cb_grid.predict(features_test)\n",
    "result = mean_absolute_error(target_test, predictions)\n",
    "print(f'MAE test: {result:.2f}')"
   ]
  },
  {
   "cell_type": "code",
   "execution_count": 57,
   "id": "f3053fee",
   "metadata": {},
   "outputs": [
    {
     "name": "stdout",
     "output_type": "stream",
     "text": [
      "MAE test: 6.35\n",
      "CPU times: user 450 ms, sys: 27.4 ms, total: 477 ms\n",
      "Wall time: 2.31 s\n"
     ]
    }
   ],
   "source": [
    "%%time\n",
    "params = {        \n",
    "    'loss_function':'MAE',\n",
    "    'depth': 5,\n",
    "    'learning_rate': 0.05,\n",
    "    'n_estimators': 150,\n",
    "    'random_state': RANDOM_STATE,\n",
    "    'verbose' : 0\n",
    "}\n",
    "model = CatBoostRegressor(**params)\n",
    "model.fit(features_train, target_train)\n",
    "predictions = model.predict(features_test)\n",
    "result = mean_absolute_error(target_test, predictions)\n",
    "print(f'MAE test: {result:.2f}')"
   ]
  },
  {
   "cell_type": "markdown",
   "id": "9ef37a82",
   "metadata": {},
   "source": [
    "MAE на тестовой выборке у CatBoostRegressor - 6.35 время предсказаний - 4,24"
   ]
  },
  {
   "cell_type": "code",
   "execution_count": 57,
   "id": "00a6a71d",
   "metadata": {},
   "outputs": [
    {
     "data": {
      "text/plain": [
       "{'depth': 5,\n",
       " 'learning_rate': 0.05,\n",
       " 'loss_function': 'MAE',\n",
       " 'n_estimators': 150,\n",
       " 'random_state': 310723}"
      ]
     },
     "execution_count": 57,
     "metadata": {},
     "output_type": "execute_result"
    }
   ],
   "source": [
    "cb_grid.best_params_"
   ]
  },
  {
   "cell_type": "markdown",
   "id": "def5bd65",
   "metadata": {},
   "source": [
    "3.4. Сделаем итоговую таблицу по всем моделям и MAE для наглядности и удобства анализа"
   ]
  },
  {
   "cell_type": "code",
   "execution_count": 58,
   "id": "42322fcf",
   "metadata": {},
   "outputs": [
    {
     "data": {
      "text/html": [
       "<div>\n",
       "<style scoped>\n",
       "    .dataframe tbody tr th:only-of-type {\n",
       "        vertical-align: middle;\n",
       "    }\n",
       "\n",
       "    .dataframe tbody tr th {\n",
       "        vertical-align: top;\n",
       "    }\n",
       "\n",
       "    .dataframe thead th {\n",
       "        text-align: right;\n",
       "    }\n",
       "</style>\n",
       "<table border=\"1\" class=\"dataframe\">\n",
       "  <thead>\n",
       "    <tr style=\"text-align: right;\">\n",
       "      <th></th>\n",
       "      <th>MAE train</th>\n",
       "      <th>MAE test</th>\n",
       "      <th>predictions_time</th>\n",
       "    </tr>\n",
       "  </thead>\n",
       "  <tbody>\n",
       "    <tr>\n",
       "      <th>RandomForestRegressor</th>\n",
       "      <td>NaN</td>\n",
       "      <td>NaN</td>\n",
       "      <td>NaN</td>\n",
       "    </tr>\n",
       "    <tr>\n",
       "      <th>LGBMRegressor</th>\n",
       "      <td>NaN</td>\n",
       "      <td>NaN</td>\n",
       "      <td>NaN</td>\n",
       "    </tr>\n",
       "    <tr>\n",
       "      <th>CatBoost</th>\n",
       "      <td>NaN</td>\n",
       "      <td>NaN</td>\n",
       "      <td>NaN</td>\n",
       "    </tr>\n",
       "  </tbody>\n",
       "</table>\n",
       "</div>"
      ],
      "text/plain": [
       "                      MAE train MAE test predictions_time\n",
       "RandomForestRegressor       NaN      NaN              NaN\n",
       "LGBMRegressor               NaN      NaN              NaN\n",
       "CatBoost                    NaN      NaN              NaN"
      ]
     },
     "metadata": {},
     "output_type": "display_data"
    }
   ],
   "source": [
    "models = []\n",
    "our_models = pd.DataFrame(data=models, index=['RandomForestRegressor', 'LGBMRegressor', 'CatBoost'], columns=['MAE train', 'MAE test','predictions_time'])\n",
    "\n",
    "display(our_models)"
   ]
  },
  {
   "cell_type": "code",
   "execution_count": 62,
   "id": "92470d17",
   "metadata": {},
   "outputs": [
    {
     "data": {
      "text/html": [
       "<div>\n",
       "<style scoped>\n",
       "    .dataframe tbody tr th:only-of-type {\n",
       "        vertical-align: middle;\n",
       "    }\n",
       "\n",
       "    .dataframe tbody tr th {\n",
       "        vertical-align: top;\n",
       "    }\n",
       "\n",
       "    .dataframe thead th {\n",
       "        text-align: right;\n",
       "    }\n",
       "</style>\n",
       "<table border=\"1\" class=\"dataframe\">\n",
       "  <thead>\n",
       "    <tr style=\"text-align: right;\">\n",
       "      <th></th>\n",
       "      <th>MAE train</th>\n",
       "      <th>MAE test</th>\n",
       "      <th>predictions_time</th>\n",
       "    </tr>\n",
       "  </thead>\n",
       "  <tbody>\n",
       "    <tr>\n",
       "      <th>RandomForestRegressor</th>\n",
       "      <td>6.20</td>\n",
       "      <td>0.00</td>\n",
       "      <td>0.00</td>\n",
       "    </tr>\n",
       "    <tr>\n",
       "      <th>LGBMRegressor</th>\n",
       "      <td>5.37</td>\n",
       "      <td>0.00</td>\n",
       "      <td>0.00</td>\n",
       "    </tr>\n",
       "    <tr>\n",
       "      <th>CatBoost</th>\n",
       "      <td>5.21</td>\n",
       "      <td>6.35</td>\n",
       "      <td>4.24</td>\n",
       "    </tr>\n",
       "  </tbody>\n",
       "</table>\n",
       "</div>"
      ],
      "text/plain": [
       "                       MAE train  MAE test  predictions_time\n",
       "RandomForestRegressor       6.20      0.00              0.00\n",
       "LGBMRegressor               5.37      0.00              0.00\n",
       "CatBoost                    5.21      6.35              4.24"
      ]
     },
     "metadata": {},
     "output_type": "display_data"
    }
   ],
   "source": [
    "our_models['MAE train']=[6.20, 5.37, 5.21]\n",
    "our_models['MAE test']=[0, 0, 6.35]\n",
    "our_models['predictions_time']=[0,0 , 4.24]\n",
    "display(our_models)"
   ]
  },
  {
   "cell_type": "markdown",
   "id": "a5e049e2",
   "metadata": {},
   "source": [
    "3.5. Проверим модель на адекватность с помощью константной модели"
   ]
  },
  {
   "cell_type": "code",
   "execution_count": 60,
   "id": "26939708",
   "metadata": {},
   "outputs": [
    {
     "name": "stdout",
     "output_type": "stream",
     "text": [
      "MAE константной модели: 8.350694444444445\n",
      "CPU times: user 1.85 ms, sys: 36 µs, total: 1.89 ms\n",
      "Wall time: 1.43 ms\n"
     ]
    }
   ],
   "source": [
    "%%time\n",
    "dummy_regr = DummyRegressor(strategy = \"median\")\n",
    "dummy_regr.fit(features_train, target_train)\n",
    "predict = dummy_regr.predict(features_test)\n",
    "MAE_dummy = mean_absolute_error(target_test, predict)\n",
    "print('MAE константной модели:', MAE_dummy)\n"
   ]
  },
  {
   "cell_type": "markdown",
   "id": "dc9d74e4",
   "metadata": {},
   "source": [
    "MAE константной модели больше, чем нашей. Значит, наша модель адекватна"
   ]
  },
  {
   "cell_type": "markdown",
   "id": "e1944e29",
   "metadata": {},
   "source": [
    "3.6. Отобразим значимость признаков для модели"
   ]
  },
  {
   "cell_type": "code",
   "execution_count": 63,
   "id": "0881f148",
   "metadata": {},
   "outputs": [
    {
     "data": {
      "image/png": "[encoded data removed]",
      "text/plain": [
       "<Figure size 1080x720 with 1 Axes>"
      ]
     },
     "metadata": {
      "needs_background": "light"
     },
     "output_type": "display_data"
    },
    {
     "name": "stdout",
     "output_type": "stream",
     "text": [
      "CPU times: user 727 ms, sys: 68.2 ms, total: 795 ms\n",
      "Wall time: 2.13 s\n"
     ]
    }
   ],
   "source": [
    "%%time\n",
    "#обучим модель с лучшими параметрами (отображены в пункте 3.3)\n",
    "model = CatBoostRegressor(\n",
    "    depth=5,\n",
    "    learning_rate=0.05,\n",
    "    loss_function='MAE',\n",
    "    n_estimators=150,\n",
    "    random_state=310723,\n",
    "    verbose = False\n",
    ")\n",
    "\n",
    "model.fit(features_train, target_train)\n",
    "\n",
    "#построим график значимости признаков нашей модели\n",
    "plot_data = {\n",
    "    'features': features_test.columns,\n",
    "    'feature_importances': model.feature_importances_,\n",
    "}\n",
    "plot_data = pd.DataFrame(plot_data)\n",
    "plot_data.sort_values(by='feature_importances', ascending=False, inplace=True)\n",
    "plt.figure(figsize=(15, 10))\n",
    "sns.barplot(x=plot_data['feature_importances'], y=plot_data['features'])\n",
    "plt.title('Важность признаков для CatBoostRegressor', fontsize=14)\n",
    "plt.xlabel('Важность')\n",
    "plt.ylabel('Названия признаков')\n",
    "plt.show()\n"
   ]
  },
  {
   "cell_type": "markdown",
   "id": "9fbd0be7",
   "metadata": {},
   "source": [
    "Наиболее значимыми для нашей модели являются время нагрева и температура первого замера. Также значимы общая можность, количество замеров, добавление газов и определенных примесей"
   ]
  },
  {
   "cell_type": "markdown",
   "id": "46599007",
   "metadata": {},
   "source": [
    "# Вывод:\n",
    "\n",
    "1. У модели CatBoostRegressor лучшее из 3 моделей MAE на тренировочной выборке и самое длинное время обучения;\n",
    "2. У модели CatBoostRegressor MAE 6,35 на тестовых данных, что соответствует условиям заказчика;\n",
    "3. MAE константной модели больше, чем нашей. Значит, наша модель адекватна;\n",
    "4. Наиболее значимыми для нашей модели являются время нагрева и температура первого замера. Также значимы общая можность, количество замеров, добавление газов и определенных примесей."
   ]
  },
  {
   "cell_type": "markdown",
   "id": "31a2ecff",
   "metadata": {},
   "source": [
    "# Общий вывод:\n",
    "\n",
    "На основании предоставленных заказчиком ООО «Так закаляем сталь» данных после проведенной предобработки мы обучили несколько моделей. Затем оценили их с помощью метрики MAE на тренировочной, а лучшую модель и на тестовой выборке. Также наша модель прошла проверку на адекватность.\n",
    "\n",
    "На основании анализа результатов самой лучшей моделью выбрана CatBoostRegressor с MAE=6.35 на тестовой выборке, что соответствует условиям заказчика.\n"
   ]
  },
  {
   "cell_type": "markdown",
   "id": "ca1a7c99",
   "metadata": {},
   "source": [
    "# 4. Отчет о проделанной работе"
   ]
  },
  {
   "cell_type": "markdown",
   "id": "abbf1676",
   "metadata": {},
   "source": [
    "4.1. Какие пункты плана были выполнены, а какие — нет. Почему?"
   ]
  },
  {
   "cell_type": "markdown",
   "id": "2f4daa99",
   "metadata": {},
   "source": [
    "Все пункты плана удалось выполнить. Дополнительно посмотрела корреляцию признаков между собой, проверила лучшую модель на адекватность с помощью константной модели, построила график значимости признаков нашей модели. Дополнительные действия были совершены для более полного анализа данных, а расчет MAE константной модели - для проверки адекватности нашей модели."
   ]
  },
  {
   "cell_type": "markdown",
   "id": "c7e33da5",
   "metadata": {},
   "source": [
    "4.2. Какие трудности возникли и как вы их преодолели?"
   ]
  },
  {
   "cell_type": "markdown",
   "id": "48429f0b",
   "metadata": {},
   "source": [
    "Не очень понятен был технологический процесс сначала, но после ответов Вячеслава на уточняющие вопросы стало понятнее.\n",
    "Не сталкивалась ранее с графиками значимости признаков. Нашла в интернете примеры, как это делается. "
   ]
  },
  {
   "cell_type": "markdown",
   "id": "6181784f",
   "metadata": {},
   "source": [
    "4.3. Какие ключевые шаги в решении задачи вы выделили?"
   ]
  },
  {
   "cell_type": "markdown",
   "id": "4bf5a504",
   "metadata": {},
   "source": [
    "    1. Обсуждение технологического процесса.\n",
    "    2. Первоначальный исследовательский анализ данных: просмотр файлов с данными, проверка пропусков, изучение распределений значений признаков, выявление аномалий.\n",
    "    3. Предобработка данных: заполнение пропусков, удаление выбросов, удаление ненужных в нашем исследовании данных, добавление столбцов с необходимыми в нашем исследовании данными (также расчет этих дополнительных данных), объединение данных в одну таблицу по ключу key.\n",
    "    4. Изучение распределения данных в общей таблице, изучение корреляции признаков.\n",
    "    5. Выделение признаков, разделение данных на выборки для дальнейшего обучения моделей.\n",
    "    6. Подбор лучших гиперпараметров и обучение 3 моделей: RandomForestRegressor,LGBMRegressor,CatBoostRegressor.\n",
    "    7. Проверка лучшей модели на тестовой выборке.\n",
    "    8. Проверка нашей модели на адекватность с помощью константной модели.\n",
    "    9. Отображение значимость признаков для модели."
   ]
  },
  {
   "cell_type": "markdown",
   "id": "9cb85b16",
   "metadata": {},
   "source": [
    "4.4.Какие признаки использовали для обучения модели и какая предобработка этих признаков была выполнена?"
   ]
  },
  {
   "cell_type": "markdown",
   "id": "e612f64b",
   "metadata": {},
   "source": [
    "Использовала следующие признаки в качестве features: 'Время_нагрева_секунд', 'Общая_мощность', 'Количество_замеров',\n",
    "       'Bulk 1', 'Bulk 2', 'Bulk 3', 'Bulk 4', 'Bulk 5', 'Bulk 6', 'Bulk 7',\n",
    "       'Bulk 8', 'Bulk 9', 'Bulk 10', 'Bulk 11', 'Bulk 12', 'Bulk 13',\n",
    "       'Bulk 14', 'Bulk 15', 'Газ', 'Первый_замер', 'Wire 1', 'Wire 2',\n",
    "       'Wire 3', 'Wire 4', 'Wire 5', 'Wire 6', 'Wire 7', 'Wire 8', 'Wire 9'/\n",
    "\n",
    "В качестве target использовала 'Последний_замер'(конечную температуру).\n",
    "\n",
    "По примесям в ходе предобработки я заполняла пропуски нулями.\n",
    "По 'Время_нагрева_секунд', 'Общая_мощность','Газ', 'Первый_замер','Последний_замер' - удаляла аномальные значения.\n",
    "По 'Количество_замеров' - удалила данные, где только 1 замер, так как для обучения моделей нам нужны были данные по первому и последнему замеру, то есть, как минимум, 2 замера необходимы."
   ]
  },
  {
   "cell_type": "markdown",
   "id": "c8f2b06b",
   "metadata": {},
   "source": [
    "4.5. Какая ваша итоговая модель, какие у неё гиперпараметы и какое качество?"
   ]
  },
  {
   "cell_type": "markdown",
   "id": "11e8faea",
   "metadata": {},
   "source": [
    "Самой лучшей моделью выбрана CatBoostRegressor с MAE=6.35 на тестовой выборке, что соответствует условиям заказчика.\n",
    "Ее гиперпараметры:\n",
    "    depth=5,\n",
    "    learning_rate=0.05,\n",
    "    loss_function='MAE',\n",
    "    n_estimators=150,\n",
    "    random_state=310723,\n",
    "    verbose = False"
   ]
  }
 ],
 "metadata": {
  "ExecuteTimeLog": [
   {
    "duration": 99,
    "start_time": "2023-08-06T21:46:11.343Z"
   },
   {
    "duration": 349,
    "start_time": "2023-08-06T21:48:01.083Z"
   },
   {
    "duration": 118,
    "start_time": "2023-08-06T21:48:01.434Z"
   },
   {
    "duration": 96,
    "start_time": "2023-08-06T21:51:10.666Z"
   },
   {
    "duration": 60,
    "start_time": "2023-08-07T06:35:10.321Z"
   },
   {
    "duration": 7,
    "start_time": "2023-08-07T06:35:15.822Z"
   },
   {
    "duration": 8,
    "start_time": "2023-08-07T06:35:20.350Z"
   },
   {
    "duration": 7,
    "start_time": "2023-08-07T06:35:24.877Z"
   },
   {
    "duration": 7,
    "start_time": "2023-08-07T06:35:28.437Z"
   },
   {
    "duration": 8,
    "start_time": "2023-08-07T06:35:32.150Z"
   },
   {
    "duration": 7,
    "start_time": "2023-08-07T06:35:36.173Z"
   },
   {
    "duration": 454,
    "start_time": "2023-08-07T06:35:39.390Z"
   },
   {
    "duration": 77,
    "start_time": "2023-08-07T06:35:39.916Z"
   },
   {
    "duration": 281,
    "start_time": "2023-08-07T06:39:14.633Z"
   },
   {
    "duration": 599,
    "start_time": "2023-08-07T06:39:30.409Z"
   },
   {
    "duration": 9,
    "start_time": "2023-08-07T07:03:15.908Z"
   },
   {
    "duration": 1106,
    "start_time": "2023-08-07T07:03:36.050Z"
   },
   {
    "duration": 48,
    "start_time": "2023-08-07T07:03:42.122Z"
   },
   {
    "duration": 12,
    "start_time": "2023-08-07T07:03:52.794Z"
   },
   {
    "duration": 16,
    "start_time": "2023-08-07T07:03:59.649Z"
   },
   {
    "duration": 326,
    "start_time": "2023-08-07T07:04:47.296Z"
   },
   {
    "duration": 3,
    "start_time": "2023-08-07T07:15:05.759Z"
   },
   {
    "duration": 339,
    "start_time": "2023-08-07T07:15:31.571Z"
   },
   {
    "duration": 100,
    "start_time": "2023-08-07T07:17:47.034Z"
   },
   {
    "duration": 98,
    "start_time": "2023-08-07T07:18:25.413Z"
   },
   {
    "duration": 284,
    "start_time": "2023-08-07T07:23:58.826Z"
   },
   {
    "duration": 83,
    "start_time": "2023-08-07T07:25:36.436Z"
   },
   {
    "duration": 14,
    "start_time": "2023-08-07T07:26:04.478Z"
   },
   {
    "duration": 59,
    "start_time": "2023-08-07T07:27:00.852Z"
   },
   {
    "duration": 47,
    "start_time": "2023-08-07T07:27:33.629Z"
   },
   {
    "duration": 52,
    "start_time": "2023-08-07T07:28:00.676Z"
   },
   {
    "duration": 17,
    "start_time": "2023-08-07T07:28:34.280Z"
   },
   {
    "duration": 19,
    "start_time": "2023-08-07T07:29:09.191Z"
   },
   {
    "duration": 72,
    "start_time": "2023-08-07T07:30:38.120Z"
   },
   {
    "duration": 1078,
    "start_time": "2023-08-07T07:30:47.982Z"
   },
   {
    "duration": 11,
    "start_time": "2023-08-07T07:33:52.695Z"
   },
   {
    "duration": 10,
    "start_time": "2023-08-07T07:34:01.119Z"
   },
   {
    "duration": 3493,
    "start_time": "2023-08-07T07:34:08.784Z"
   },
   {
    "duration": 3642,
    "start_time": "2023-08-07T07:34:54.318Z"
   },
   {
    "duration": 9,
    "start_time": "2023-08-07T07:35:27.135Z"
   },
   {
    "duration": 9,
    "start_time": "2023-08-07T07:35:35.223Z"
   },
   {
    "duration": 5,
    "start_time": "2023-08-07T07:35:44.071Z"
   },
   {
    "duration": 8,
    "start_time": "2023-08-07T07:36:31.263Z"
   },
   {
    "duration": 271,
    "start_time": "2023-08-07T07:37:33.032Z"
   },
   {
    "duration": 310,
    "start_time": "2023-08-07T07:37:57.447Z"
   },
   {
    "duration": 8,
    "start_time": "2023-08-07T07:38:52.921Z"
   },
   {
    "duration": 293,
    "start_time": "2023-08-07T07:42:32.226Z"
   },
   {
    "duration": 289,
    "start_time": "2023-08-07T07:42:54.489Z"
   },
   {
    "duration": 276,
    "start_time": "2023-08-07T07:43:12.625Z"
   },
   {
    "duration": 309,
    "start_time": "2023-08-07T07:43:20.570Z"
   },
   {
    "duration": 16,
    "start_time": "2023-08-07T07:46:07.874Z"
   },
   {
    "duration": 14,
    "start_time": "2023-08-07T07:46:48.420Z"
   },
   {
    "duration": 791,
    "start_time": "2023-08-07T07:47:06.276Z"
   },
   {
    "duration": 249,
    "start_time": "2023-08-07T07:47:34.588Z"
   },
   {
    "duration": 311,
    "start_time": "2023-08-07T07:49:27.349Z"
   },
   {
    "duration": 288,
    "start_time": "2023-08-07T07:49:38.996Z"
   },
   {
    "duration": 294,
    "start_time": "2023-08-07T07:50:38.094Z"
   },
   {
    "duration": 3278,
    "start_time": "2023-08-07T08:02:48.692Z"
   },
   {
    "duration": 21,
    "start_time": "2023-08-07T08:03:01.906Z"
   },
   {
    "duration": 5,
    "start_time": "2023-08-07T08:03:53.317Z"
   },
   {
    "duration": 15,
    "start_time": "2023-08-07T08:05:18.703Z"
   },
   {
    "duration": 10,
    "start_time": "2023-08-07T08:22:47.468Z"
   },
   {
    "duration": 282,
    "start_time": "2023-08-07T08:22:57.738Z"
   },
   {
    "duration": 333,
    "start_time": "2023-08-07T08:37:53.648Z"
   },
   {
    "duration": 10,
    "start_time": "2023-08-07T08:40:55.401Z"
   },
   {
    "duration": 14,
    "start_time": "2023-08-07T08:41:02.140Z"
   },
   {
    "duration": 394,
    "start_time": "2023-08-07T08:41:06.466Z"
   },
   {
    "duration": 8,
    "start_time": "2023-08-07T08:42:37.219Z"
   },
   {
    "duration": 8,
    "start_time": "2023-08-07T08:43:27.555Z"
   },
   {
    "duration": 1249,
    "start_time": "2023-08-07T09:16:55.113Z"
   },
   {
    "duration": 188,
    "start_time": "2023-08-07T09:16:56.364Z"
   },
   {
    "duration": 17,
    "start_time": "2023-08-07T09:16:56.553Z"
   },
   {
    "duration": 12,
    "start_time": "2023-08-07T09:16:56.573Z"
   },
   {
    "duration": 8,
    "start_time": "2023-08-07T09:16:56.587Z"
   },
   {
    "duration": 9,
    "start_time": "2023-08-07T09:16:56.597Z"
   },
   {
    "duration": 348,
    "start_time": "2023-08-07T09:16:56.608Z"
   },
   {
    "duration": 308,
    "start_time": "2023-08-07T09:16:56.958Z"
   },
   {
    "duration": 6,
    "start_time": "2023-08-07T09:16:57.268Z"
   },
   {
    "duration": 26,
    "start_time": "2023-08-07T09:16:57.277Z"
   },
   {
    "duration": 241,
    "start_time": "2023-08-07T09:16:57.305Z"
   },
   {
    "duration": 20,
    "start_time": "2023-08-07T09:16:57.548Z"
   },
   {
    "duration": 29,
    "start_time": "2023-08-07T09:16:57.570Z"
   },
   {
    "duration": 8,
    "start_time": "2023-08-07T09:16:57.600Z"
   },
   {
    "duration": 20,
    "start_time": "2023-08-07T09:16:57.610Z"
   },
   {
    "duration": 27,
    "start_time": "2023-08-07T09:16:57.632Z"
   },
   {
    "duration": 16,
    "start_time": "2023-08-07T09:16:57.661Z"
   },
   {
    "duration": 19,
    "start_time": "2023-08-07T09:16:57.679Z"
   },
   {
    "duration": 24,
    "start_time": "2023-08-07T09:16:57.700Z"
   },
   {
    "duration": 7,
    "start_time": "2023-08-07T09:16:57.726Z"
   },
   {
    "duration": 292,
    "start_time": "2023-08-07T09:16:57.735Z"
   },
   {
    "duration": 12,
    "start_time": "2023-08-07T09:16:58.028Z"
   },
   {
    "duration": 15,
    "start_time": "2023-08-07T09:16:58.042Z"
   },
   {
    "duration": 10,
    "start_time": "2023-08-07T09:16:58.059Z"
   },
   {
    "duration": 24,
    "start_time": "2023-08-07T09:16:58.071Z"
   },
   {
    "duration": 262,
    "start_time": "2023-08-07T09:16:58.097Z"
   },
   {
    "duration": 15,
    "start_time": "2023-08-07T09:16:58.361Z"
   },
   {
    "duration": 25,
    "start_time": "2023-08-07T09:16:58.379Z"
   },
   {
    "duration": 9,
    "start_time": "2023-08-07T09:16:58.406Z"
   },
   {
    "duration": 24,
    "start_time": "2023-08-07T09:16:58.417Z"
   },
   {
    "duration": 28,
    "start_time": "2023-08-07T09:16:58.443Z"
   },
   {
    "duration": 17,
    "start_time": "2023-08-07T09:16:58.473Z"
   },
   {
    "duration": 45,
    "start_time": "2023-08-08T08:50:45.051Z"
   },
   {
    "duration": 7,
    "start_time": "2023-08-08T09:00:13.887Z"
   },
   {
    "duration": 1368,
    "start_time": "2023-08-08T09:00:19.853Z"
   },
   {
    "duration": 514,
    "start_time": "2023-08-08T09:00:21.223Z"
   },
   {
    "duration": 1246,
    "start_time": "2023-08-08T09:00:32.882Z"
   },
   {
    "duration": 181,
    "start_time": "2023-08-08T09:00:34.130Z"
   },
   {
    "duration": 16,
    "start_time": "2023-08-08T09:00:34.313Z"
   },
   {
    "duration": 17,
    "start_time": "2023-08-08T09:00:34.335Z"
   },
   {
    "duration": 8,
    "start_time": "2023-08-08T09:00:34.353Z"
   },
   {
    "duration": 11,
    "start_time": "2023-08-08T09:00:34.362Z"
   },
   {
    "duration": 324,
    "start_time": "2023-08-08T09:00:34.374Z"
   },
   {
    "duration": 314,
    "start_time": "2023-08-08T09:00:34.699Z"
   },
   {
    "duration": 6,
    "start_time": "2023-08-08T09:00:35.016Z"
   },
   {
    "duration": 16,
    "start_time": "2023-08-08T09:00:35.025Z"
   },
   {
    "duration": 289,
    "start_time": "2023-08-08T09:00:35.044Z"
   },
   {
    "duration": 23,
    "start_time": "2023-08-08T09:00:35.334Z"
   },
   {
    "duration": 46,
    "start_time": "2023-08-08T09:00:35.358Z"
   },
   {
    "duration": 28,
    "start_time": "2023-08-08T09:00:35.406Z"
   },
   {
    "duration": 19,
    "start_time": "2023-08-08T09:00:35.435Z"
   },
   {
    "duration": 20,
    "start_time": "2023-08-08T09:00:35.455Z"
   },
   {
    "duration": 15,
    "start_time": "2023-08-08T09:00:35.476Z"
   },
   {
    "duration": 25,
    "start_time": "2023-08-08T09:00:35.493Z"
   },
   {
    "duration": 26,
    "start_time": "2023-08-08T09:00:35.519Z"
   },
   {
    "duration": 10,
    "start_time": "2023-08-08T09:00:35.547Z"
   },
   {
    "duration": 286,
    "start_time": "2023-08-08T09:00:35.558Z"
   },
   {
    "duration": 14,
    "start_time": "2023-08-08T09:00:35.846Z"
   },
   {
    "duration": 31,
    "start_time": "2023-08-08T09:00:35.861Z"
   },
   {
    "duration": 34,
    "start_time": "2023-08-08T09:00:35.894Z"
   },
   {
    "duration": 23,
    "start_time": "2023-08-08T09:00:35.930Z"
   },
   {
    "duration": 285,
    "start_time": "2023-08-08T09:00:35.954Z"
   },
   {
    "duration": 15,
    "start_time": "2023-08-08T09:00:36.240Z"
   },
   {
    "duration": 28,
    "start_time": "2023-08-08T09:00:36.259Z"
   },
   {
    "duration": 7,
    "start_time": "2023-08-08T09:00:36.288Z"
   },
   {
    "duration": 20,
    "start_time": "2023-08-08T09:00:36.296Z"
   },
   {
    "duration": 24,
    "start_time": "2023-08-08T09:00:36.318Z"
   },
   {
    "duration": 10,
    "start_time": "2023-08-08T09:00:36.343Z"
   },
   {
    "duration": 109,
    "start_time": "2023-08-08T09:15:18.570Z"
   },
   {
    "duration": 6,
    "start_time": "2023-08-08T09:16:17.057Z"
   },
   {
    "duration": 162,
    "start_time": "2023-08-08T09:16:52.464Z"
   },
   {
    "duration": 119,
    "start_time": "2023-08-08T09:17:31.835Z"
   },
   {
    "duration": 173,
    "start_time": "2023-08-08T09:18:10.051Z"
   },
   {
    "duration": 8,
    "start_time": "2023-08-08T09:18:55.494Z"
   },
   {
    "duration": 277,
    "start_time": "2023-08-08T09:20:03.946Z"
   },
   {
    "duration": 18,
    "start_time": "2023-08-08T09:23:55.327Z"
   },
   {
    "duration": 23,
    "start_time": "2023-08-08T09:24:21.510Z"
   },
   {
    "duration": 211,
    "start_time": "2023-08-08T09:24:39.831Z"
   },
   {
    "duration": 15,
    "start_time": "2023-08-08T09:25:25.336Z"
   },
   {
    "duration": 194,
    "start_time": "2023-08-08T09:25:52.768Z"
   },
   {
    "duration": 484,
    "start_time": "2023-08-08T09:26:11.450Z"
   },
   {
    "duration": 14,
    "start_time": "2023-08-08T09:28:13.925Z"
   },
   {
    "duration": 12,
    "start_time": "2023-08-08T09:29:07.091Z"
   },
   {
    "duration": 303,
    "start_time": "2023-08-08T09:29:34.000Z"
   },
   {
    "duration": 15,
    "start_time": "2023-08-08T09:29:53.011Z"
   },
   {
    "duration": 19,
    "start_time": "2023-08-08T09:30:09.730Z"
   },
   {
    "duration": 18,
    "start_time": "2023-08-08T09:30:29.323Z"
   },
   {
    "duration": 52,
    "start_time": "2023-08-08T09:30:56.171Z"
   },
   {
    "duration": 161,
    "start_time": "2023-08-08T09:31:18.732Z"
   },
   {
    "duration": 22,
    "start_time": "2023-08-08T09:32:26.791Z"
   },
   {
    "duration": 266,
    "start_time": "2023-08-08T09:32:47.765Z"
   },
   {
    "duration": 15,
    "start_time": "2023-08-08T09:33:05.765Z"
   },
   {
    "duration": 15,
    "start_time": "2023-08-08T09:33:09.902Z"
   },
   {
    "duration": 18,
    "start_time": "2023-08-08T09:33:30.231Z"
   },
   {
    "duration": 1153,
    "start_time": "2023-08-08T09:34:48.607Z"
   },
   {
    "duration": 206,
    "start_time": "2023-08-08T09:34:49.763Z"
   },
   {
    "duration": 23,
    "start_time": "2023-08-08T09:34:49.972Z"
   },
   {
    "duration": 13,
    "start_time": "2023-08-08T09:34:49.997Z"
   },
   {
    "duration": 27,
    "start_time": "2023-08-08T09:34:50.013Z"
   },
   {
    "duration": 20,
    "start_time": "2023-08-08T09:34:50.042Z"
   },
   {
    "duration": 346,
    "start_time": "2023-08-08T09:34:50.063Z"
   },
   {
    "duration": 298,
    "start_time": "2023-08-08T09:34:50.410Z"
   },
   {
    "duration": 5,
    "start_time": "2023-08-08T09:34:50.710Z"
   },
   {
    "duration": 16,
    "start_time": "2023-08-08T09:34:50.717Z"
   },
   {
    "duration": 290,
    "start_time": "2023-08-08T09:34:50.734Z"
   },
   {
    "duration": 22,
    "start_time": "2023-08-08T09:34:51.026Z"
   },
   {
    "duration": 39,
    "start_time": "2023-08-08T09:34:51.050Z"
   },
   {
    "duration": 7,
    "start_time": "2023-08-08T09:34:51.093Z"
   },
   {
    "duration": 23,
    "start_time": "2023-08-08T09:34:51.102Z"
   },
   {
    "duration": 23,
    "start_time": "2023-08-08T09:34:51.127Z"
   },
   {
    "duration": 28,
    "start_time": "2023-08-08T09:34:51.152Z"
   },
   {
    "duration": 16,
    "start_time": "2023-08-08T09:34:51.182Z"
   },
   {
    "duration": 16,
    "start_time": "2023-08-08T09:34:51.199Z"
   },
   {
    "duration": 6,
    "start_time": "2023-08-08T09:34:51.217Z"
   },
   {
    "duration": 294,
    "start_time": "2023-08-08T09:34:51.225Z"
   },
   {
    "duration": 12,
    "start_time": "2023-08-08T09:34:51.521Z"
   },
   {
    "duration": 20,
    "start_time": "2023-08-08T09:34:51.534Z"
   },
   {
    "duration": 22,
    "start_time": "2023-08-08T09:34:51.556Z"
   },
   {
    "duration": 16,
    "start_time": "2023-08-08T09:34:51.579Z"
   },
   {
    "duration": 255,
    "start_time": "2023-08-08T09:34:51.596Z"
   },
   {
    "duration": 18,
    "start_time": "2023-08-08T09:34:51.853Z"
   },
   {
    "duration": 18,
    "start_time": "2023-08-08T09:34:51.888Z"
   },
   {
    "duration": 18,
    "start_time": "2023-08-08T09:34:51.908Z"
   },
   {
    "duration": 26,
    "start_time": "2023-08-08T09:34:51.928Z"
   },
   {
    "duration": 30,
    "start_time": "2023-08-08T09:34:51.956Z"
   },
   {
    "duration": 9,
    "start_time": "2023-08-08T09:34:51.988Z"
   },
   {
    "duration": 19,
    "start_time": "2023-08-08T09:34:51.998Z"
   },
   {
    "duration": 19,
    "start_time": "2023-08-08T09:34:52.019Z"
   },
   {
    "duration": 10,
    "start_time": "2023-08-08T09:37:09.692Z"
   },
   {
    "duration": 300,
    "start_time": "2023-08-08T09:37:34.492Z"
   },
   {
    "duration": 272,
    "start_time": "2023-08-08T09:37:40.327Z"
   },
   {
    "duration": 93,
    "start_time": "2023-08-08T09:37:47.744Z"
   },
   {
    "duration": 210,
    "start_time": "2023-08-08T09:37:55.121Z"
   },
   {
    "duration": 26,
    "start_time": "2023-08-08T09:38:09.160Z"
   },
   {
    "duration": 18,
    "start_time": "2023-08-08T09:38:14.551Z"
   },
   {
    "duration": 1262,
    "start_time": "2023-08-08T09:40:13.480Z"
   },
   {
    "duration": 209,
    "start_time": "2023-08-08T09:40:14.744Z"
   },
   {
    "duration": 19,
    "start_time": "2023-08-08T09:40:14.956Z"
   },
   {
    "duration": 15,
    "start_time": "2023-08-08T09:40:14.978Z"
   },
   {
    "duration": 8,
    "start_time": "2023-08-08T09:40:14.995Z"
   },
   {
    "duration": 54,
    "start_time": "2023-08-08T09:40:15.005Z"
   },
   {
    "duration": 329,
    "start_time": "2023-08-08T09:40:15.061Z"
   },
   {
    "duration": 284,
    "start_time": "2023-08-08T09:40:15.391Z"
   },
   {
    "duration": 13,
    "start_time": "2023-08-08T09:40:15.676Z"
   },
   {
    "duration": 80,
    "start_time": "2023-08-08T09:40:15.692Z"
   },
   {
    "duration": 270,
    "start_time": "2023-08-08T09:40:15.774Z"
   },
   {
    "duration": 22,
    "start_time": "2023-08-08T09:40:16.046Z"
   },
   {
    "duration": 26,
    "start_time": "2023-08-08T09:40:16.070Z"
   },
   {
    "duration": 6,
    "start_time": "2023-08-08T09:40:16.098Z"
   },
   {
    "duration": 22,
    "start_time": "2023-08-08T09:40:16.106Z"
   },
   {
    "duration": 14,
    "start_time": "2023-08-08T09:40:16.129Z"
   },
   {
    "duration": 7,
    "start_time": "2023-08-08T09:40:16.144Z"
   },
   {
    "duration": 41,
    "start_time": "2023-08-08T09:40:16.153Z"
   },
   {
    "duration": 13,
    "start_time": "2023-08-08T09:40:16.196Z"
   },
   {
    "duration": 11,
    "start_time": "2023-08-08T09:40:16.210Z"
   },
   {
    "duration": 267,
    "start_time": "2023-08-08T09:40:16.222Z"
   },
   {
    "duration": 11,
    "start_time": "2023-08-08T09:40:16.491Z"
   },
   {
    "duration": 62,
    "start_time": "2023-08-08T09:40:16.504Z"
   },
   {
    "duration": 7,
    "start_time": "2023-08-08T09:40:16.568Z"
   },
   {
    "duration": 9,
    "start_time": "2023-08-08T09:40:16.576Z"
   },
   {
    "duration": 259,
    "start_time": "2023-08-08T09:40:16.586Z"
   },
   {
    "duration": 16,
    "start_time": "2023-08-08T09:40:16.846Z"
   },
   {
    "duration": 191,
    "start_time": "2023-08-08T09:40:16.867Z"
   },
   {
    "duration": 16,
    "start_time": "2023-08-08T09:40:17.060Z"
   },
   {
    "duration": 72,
    "start_time": "2023-08-08T09:40:17.078Z"
   },
   {
    "duration": 49,
    "start_time": "2023-08-08T09:40:17.152Z"
   },
   {
    "duration": 51,
    "start_time": "2023-08-08T09:40:17.203Z"
   },
   {
    "duration": 4,
    "start_time": "2023-08-08T09:40:17.256Z"
   },
   {
    "duration": 129,
    "start_time": "2023-08-08T09:40:17.262Z"
   },
   {
    "duration": 10,
    "start_time": "2023-08-08T09:41:42.109Z"
   },
   {
    "duration": 8,
    "start_time": "2023-08-08T09:41:47.658Z"
   },
   {
    "duration": 16,
    "start_time": "2023-08-08T09:41:52.395Z"
   },
   {
    "duration": 12,
    "start_time": "2023-08-08T09:43:05.556Z"
   },
   {
    "duration": 23,
    "start_time": "2023-08-08T09:43:25.438Z"
   },
   {
    "duration": 206,
    "start_time": "2023-08-08T09:43:33.028Z"
   },
   {
    "duration": 13,
    "start_time": "2023-08-08T09:43:40.900Z"
   },
   {
    "duration": 5,
    "start_time": "2023-08-08T09:44:13.259Z"
   },
   {
    "duration": 9,
    "start_time": "2023-08-08T09:44:47.261Z"
   },
   {
    "duration": 14,
    "start_time": "2023-08-08T09:45:14.055Z"
   },
   {
    "duration": 23,
    "start_time": "2023-08-08T09:45:22.197Z"
   },
   {
    "duration": 3,
    "start_time": "2023-08-08T09:46:39.814Z"
   },
   {
    "duration": 19,
    "start_time": "2023-08-08T09:48:22.584Z"
   },
   {
    "duration": 7,
    "start_time": "2023-08-08T09:48:52.569Z"
   },
   {
    "duration": 45,
    "start_time": "2023-08-08T09:49:18.032Z"
   },
   {
    "duration": 25,
    "start_time": "2023-08-08T09:49:57.097Z"
   },
   {
    "duration": 22,
    "start_time": "2023-08-08T09:50:00.864Z"
   },
   {
    "duration": 28,
    "start_time": "2023-08-08T09:50:45.465Z"
   },
   {
    "duration": 22,
    "start_time": "2023-08-08T09:50:52.216Z"
   },
   {
    "duration": 30,
    "start_time": "2023-08-08T09:52:15.282Z"
   },
   {
    "duration": 19,
    "start_time": "2023-08-08T09:54:58.245Z"
   },
   {
    "duration": 19,
    "start_time": "2023-08-08T09:58:05.726Z"
   },
   {
    "duration": 19,
    "start_time": "2023-08-08T09:58:43.390Z"
   },
   {
    "duration": 27,
    "start_time": "2023-08-08T09:59:23.463Z"
   },
   {
    "duration": 1248,
    "start_time": "2023-08-08T09:59:53.294Z"
   },
   {
    "duration": 184,
    "start_time": "2023-08-08T09:59:54.544Z"
   },
   {
    "duration": 16,
    "start_time": "2023-08-08T09:59:54.730Z"
   },
   {
    "duration": 18,
    "start_time": "2023-08-08T09:59:54.748Z"
   },
   {
    "duration": 14,
    "start_time": "2023-08-08T09:59:54.768Z"
   },
   {
    "duration": 29,
    "start_time": "2023-08-08T09:59:54.783Z"
   },
   {
    "duration": 418,
    "start_time": "2023-08-08T09:59:54.814Z"
   },
   {
    "duration": 331,
    "start_time": "2023-08-08T09:59:55.234Z"
   },
   {
    "duration": 5,
    "start_time": "2023-08-08T09:59:55.567Z"
   },
   {
    "duration": 20,
    "start_time": "2023-08-08T09:59:55.587Z"
   },
   {
    "duration": 228,
    "start_time": "2023-08-08T09:59:55.609Z"
   },
   {
    "duration": 22,
    "start_time": "2023-08-08T09:59:55.838Z"
   },
   {
    "duration": 31,
    "start_time": "2023-08-08T09:59:55.862Z"
   },
   {
    "duration": 7,
    "start_time": "2023-08-08T09:59:55.896Z"
   },
   {
    "duration": 32,
    "start_time": "2023-08-08T09:59:55.904Z"
   },
   {
    "duration": 27,
    "start_time": "2023-08-08T09:59:55.938Z"
   },
   {
    "duration": 9,
    "start_time": "2023-08-08T09:59:55.967Z"
   },
   {
    "duration": 14,
    "start_time": "2023-08-08T09:59:55.978Z"
   },
   {
    "duration": 40,
    "start_time": "2023-08-08T09:59:55.994Z"
   },
   {
    "duration": 60,
    "start_time": "2023-08-08T09:59:56.035Z"
   },
   {
    "duration": 364,
    "start_time": "2023-08-08T09:59:56.097Z"
   },
   {
    "duration": 26,
    "start_time": "2023-08-08T09:59:56.463Z"
   },
   {
    "duration": 140,
    "start_time": "2023-08-08T09:59:56.492Z"
   },
   {
    "duration": 59,
    "start_time": "2023-08-08T09:59:56.634Z"
   },
   {
    "duration": 72,
    "start_time": "2023-08-08T09:59:56.696Z"
   },
   {
    "duration": 270,
    "start_time": "2023-08-08T09:59:56.770Z"
   },
   {
    "duration": 15,
    "start_time": "2023-08-08T09:59:57.042Z"
   },
   {
    "duration": 76,
    "start_time": "2023-08-08T09:59:57.059Z"
   },
   {
    "duration": 28,
    "start_time": "2023-08-08T09:59:57.136Z"
   },
   {
    "duration": 42,
    "start_time": "2023-08-08T09:59:57.165Z"
   },
   {
    "duration": 23,
    "start_time": "2023-08-08T09:59:57.209Z"
   },
   {
    "duration": 34,
    "start_time": "2023-08-08T09:59:57.234Z"
   },
   {
    "duration": 35,
    "start_time": "2023-08-08T09:59:57.269Z"
   },
   {
    "duration": 31,
    "start_time": "2023-08-08T09:59:57.306Z"
   },
   {
    "duration": 20,
    "start_time": "2023-08-08T09:59:57.339Z"
   },
   {
    "duration": 1,
    "start_time": "2023-08-08T10:03:56.279Z"
   },
   {
    "duration": 21,
    "start_time": "2023-08-08T10:04:15.409Z"
   },
   {
    "duration": 3642,
    "start_time": "2023-08-08T10:04:20.114Z"
   },
   {
    "duration": 5,
    "start_time": "2023-08-08T10:04:52.235Z"
   },
   {
    "duration": 33,
    "start_time": "2023-08-08T10:05:20.739Z"
   },
   {
    "duration": 37,
    "start_time": "2023-08-08T10:05:30.784Z"
   },
   {
    "duration": 4,
    "start_time": "2023-08-08T10:19:02.771Z"
   },
   {
    "duration": 7,
    "start_time": "2023-08-08T10:19:29.715Z"
   },
   {
    "duration": 8,
    "start_time": "2023-08-08T10:21:15.235Z"
   },
   {
    "duration": 38,
    "start_time": "2023-08-08T10:21:26.576Z"
   },
   {
    "duration": 27,
    "start_time": "2023-08-08T10:24:29.541Z"
   },
   {
    "duration": 30,
    "start_time": "2023-08-08T10:24:58.054Z"
   },
   {
    "duration": 40,
    "start_time": "2023-08-08T10:25:16.807Z"
   },
   {
    "duration": 8,
    "start_time": "2023-08-08T10:27:42.327Z"
   },
   {
    "duration": 9,
    "start_time": "2023-08-08T10:31:53.450Z"
   },
   {
    "duration": 12,
    "start_time": "2023-08-08T10:32:04.876Z"
   },
   {
    "duration": 28,
    "start_time": "2023-08-08T10:35:14.643Z"
   },
   {
    "duration": 37,
    "start_time": "2023-08-08T10:36:02.323Z"
   },
   {
    "duration": 26,
    "start_time": "2023-08-08T10:36:51.588Z"
   },
   {
    "duration": 9,
    "start_time": "2023-08-08T10:39:30.990Z"
   },
   {
    "duration": 7,
    "start_time": "2023-08-08T10:39:41.021Z"
   },
   {
    "duration": 11,
    "start_time": "2023-08-08T10:39:57.125Z"
   },
   {
    "duration": 21,
    "start_time": "2023-08-08T10:41:05.189Z"
   },
   {
    "duration": 21,
    "start_time": "2023-08-08T10:42:12.151Z"
   },
   {
    "duration": 26,
    "start_time": "2023-08-08T10:42:49.863Z"
   },
   {
    "duration": 35,
    "start_time": "2023-08-08T10:43:34.295Z"
   },
   {
    "duration": 1296,
    "start_time": "2023-08-08T10:44:11.877Z"
   },
   {
    "duration": 193,
    "start_time": "2023-08-08T10:44:13.175Z"
   },
   {
    "duration": 17,
    "start_time": "2023-08-08T10:44:13.370Z"
   },
   {
    "duration": 35,
    "start_time": "2023-08-08T10:44:13.389Z"
   },
   {
    "duration": 15,
    "start_time": "2023-08-08T10:44:13.425Z"
   },
   {
    "duration": 36,
    "start_time": "2023-08-08T10:44:13.442Z"
   },
   {
    "duration": 341,
    "start_time": "2023-08-08T10:44:13.480Z"
   },
   {
    "duration": 330,
    "start_time": "2023-08-08T10:44:13.823Z"
   },
   {
    "duration": 7,
    "start_time": "2023-08-08T10:44:14.155Z"
   },
   {
    "duration": 41,
    "start_time": "2023-08-08T10:44:14.165Z"
   },
   {
    "duration": 235,
    "start_time": "2023-08-08T10:44:14.209Z"
   },
   {
    "duration": 25,
    "start_time": "2023-08-08T10:44:14.446Z"
   },
   {
    "duration": 26,
    "start_time": "2023-08-08T10:44:14.473Z"
   },
   {
    "duration": 9,
    "start_time": "2023-08-08T10:44:14.501Z"
   },
   {
    "duration": 21,
    "start_time": "2023-08-08T10:44:14.512Z"
   },
   {
    "duration": 44,
    "start_time": "2023-08-08T10:44:14.534Z"
   },
   {
    "duration": 24,
    "start_time": "2023-08-08T10:44:14.580Z"
   },
   {
    "duration": 83,
    "start_time": "2023-08-08T10:44:14.606Z"
   },
   {
    "duration": 75,
    "start_time": "2023-08-08T10:44:14.691Z"
   },
   {
    "duration": 31,
    "start_time": "2023-08-08T10:44:14.769Z"
   },
   {
    "duration": 345,
    "start_time": "2023-08-08T10:44:14.803Z"
   },
   {
    "duration": 13,
    "start_time": "2023-08-08T10:44:15.150Z"
   },
   {
    "duration": 25,
    "start_time": "2023-08-08T10:44:15.165Z"
   },
   {
    "duration": 23,
    "start_time": "2023-08-08T10:44:15.192Z"
   },
   {
    "duration": 21,
    "start_time": "2023-08-08T10:44:15.217Z"
   },
   {
    "duration": 323,
    "start_time": "2023-08-08T10:44:15.240Z"
   },
   {
    "duration": 31,
    "start_time": "2023-08-08T10:44:15.566Z"
   },
   {
    "duration": 14,
    "start_time": "2023-08-08T10:44:15.603Z"
   },
   {
    "duration": 8,
    "start_time": "2023-08-08T10:44:15.619Z"
   },
   {
    "duration": 33,
    "start_time": "2023-08-08T10:44:15.628Z"
   },
   {
    "duration": 32,
    "start_time": "2023-08-08T10:44:15.663Z"
   },
   {
    "duration": 7,
    "start_time": "2023-08-08T10:44:15.696Z"
   },
   {
    "duration": 19,
    "start_time": "2023-08-08T10:44:15.705Z"
   },
   {
    "duration": 21,
    "start_time": "2023-08-08T10:44:15.726Z"
   },
   {
    "duration": 58,
    "start_time": "2023-08-08T10:44:15.749Z"
   },
   {
    "duration": 25,
    "start_time": "2023-08-08T10:44:15.809Z"
   },
   {
    "duration": 5,
    "start_time": "2023-08-08T10:44:15.836Z"
   },
   {
    "duration": 64,
    "start_time": "2023-08-08T10:44:15.843Z"
   },
   {
    "duration": 62,
    "start_time": "2023-08-08T10:45:55.051Z"
   },
   {
    "duration": 1233,
    "start_time": "2023-08-08T10:46:11.326Z"
   },
   {
    "duration": 186,
    "start_time": "2023-08-08T10:46:12.562Z"
   },
   {
    "duration": 17,
    "start_time": "2023-08-08T10:46:12.750Z"
   },
   {
    "duration": 39,
    "start_time": "2023-08-08T10:46:12.770Z"
   },
   {
    "duration": 19,
    "start_time": "2023-08-08T10:46:12.811Z"
   },
   {
    "duration": 27,
    "start_time": "2023-08-08T10:46:12.832Z"
   },
   {
    "duration": 330,
    "start_time": "2023-08-08T10:46:12.860Z"
   },
   {
    "duration": 297,
    "start_time": "2023-08-08T10:46:13.192Z"
   },
   {
    "duration": 6,
    "start_time": "2023-08-08T10:46:13.491Z"
   },
   {
    "duration": 39,
    "start_time": "2023-08-08T10:46:13.501Z"
   },
   {
    "duration": 295,
    "start_time": "2023-08-08T10:46:13.542Z"
   },
   {
    "duration": 22,
    "start_time": "2023-08-08T10:46:13.839Z"
   },
   {
    "duration": 31,
    "start_time": "2023-08-08T10:46:13.863Z"
   },
   {
    "duration": 28,
    "start_time": "2023-08-08T10:46:13.895Z"
   },
   {
    "duration": 52,
    "start_time": "2023-08-08T10:46:13.925Z"
   },
   {
    "duration": 40,
    "start_time": "2023-08-08T10:46:13.979Z"
   },
   {
    "duration": 24,
    "start_time": "2023-08-08T10:46:14.021Z"
   },
   {
    "duration": 30,
    "start_time": "2023-08-08T10:46:14.046Z"
   },
   {
    "duration": 40,
    "start_time": "2023-08-08T10:46:14.078Z"
   },
   {
    "duration": 32,
    "start_time": "2023-08-08T10:46:14.120Z"
   },
   {
    "duration": 299,
    "start_time": "2023-08-08T10:46:14.154Z"
   },
   {
    "duration": 12,
    "start_time": "2023-08-08T10:46:14.455Z"
   },
   {
    "duration": 27,
    "start_time": "2023-08-08T10:46:14.469Z"
   },
   {
    "duration": 29,
    "start_time": "2023-08-08T10:46:14.498Z"
   },
   {
    "duration": 14,
    "start_time": "2023-08-08T10:46:14.529Z"
   },
   {
    "duration": 299,
    "start_time": "2023-08-08T10:46:14.544Z"
   },
   {
    "duration": 20,
    "start_time": "2023-08-08T10:46:14.845Z"
   },
   {
    "duration": 30,
    "start_time": "2023-08-08T10:46:14.868Z"
   },
   {
    "duration": 8,
    "start_time": "2023-08-08T10:46:14.900Z"
   },
   {
    "duration": 36,
    "start_time": "2023-08-08T10:46:14.910Z"
   },
   {
    "duration": 15,
    "start_time": "2023-08-08T10:46:14.948Z"
   },
   {
    "duration": 26,
    "start_time": "2023-08-08T10:46:14.965Z"
   },
   {
    "duration": 25,
    "start_time": "2023-08-08T10:46:14.993Z"
   },
   {
    "duration": 31,
    "start_time": "2023-08-08T10:46:15.020Z"
   },
   {
    "duration": 48,
    "start_time": "2023-08-08T10:46:15.053Z"
   },
   {
    "duration": 169,
    "start_time": "2023-08-08T10:46:15.103Z"
   },
   {
    "duration": 0,
    "start_time": "2023-08-08T10:46:15.273Z"
   },
   {
    "duration": 0,
    "start_time": "2023-08-08T10:46:15.274Z"
   },
   {
    "duration": 13,
    "start_time": "2023-08-08T10:49:17.386Z"
   },
   {
    "duration": 14,
    "start_time": "2023-08-08T10:49:36.547Z"
   },
   {
    "duration": 47,
    "start_time": "2023-08-08T10:50:30.244Z"
   },
   {
    "duration": 1158,
    "start_time": "2023-08-08T10:50:42.058Z"
   },
   {
    "duration": 181,
    "start_time": "2023-08-08T10:50:43.218Z"
   },
   {
    "duration": 16,
    "start_time": "2023-08-08T10:50:43.401Z"
   },
   {
    "duration": 16,
    "start_time": "2023-08-08T10:50:43.419Z"
   },
   {
    "duration": 12,
    "start_time": "2023-08-08T10:50:43.436Z"
   },
   {
    "duration": 27,
    "start_time": "2023-08-08T10:50:43.449Z"
   },
   {
    "duration": 312,
    "start_time": "2023-08-08T10:50:43.477Z"
   },
   {
    "duration": 299,
    "start_time": "2023-08-08T10:50:43.790Z"
   },
   {
    "duration": 5,
    "start_time": "2023-08-08T10:50:44.091Z"
   },
   {
    "duration": 30,
    "start_time": "2023-08-08T10:50:44.098Z"
   },
   {
    "duration": 267,
    "start_time": "2023-08-08T10:50:44.130Z"
   },
   {
    "duration": 23,
    "start_time": "2023-08-08T10:50:44.399Z"
   },
   {
    "duration": 45,
    "start_time": "2023-08-08T10:50:44.424Z"
   },
   {
    "duration": 40,
    "start_time": "2023-08-08T10:50:44.471Z"
   },
   {
    "duration": 46,
    "start_time": "2023-08-08T10:50:44.513Z"
   },
   {
    "duration": 38,
    "start_time": "2023-08-08T10:50:44.561Z"
   },
   {
    "duration": 18,
    "start_time": "2023-08-08T10:50:44.600Z"
   },
   {
    "duration": 25,
    "start_time": "2023-08-08T10:50:44.619Z"
   },
   {
    "duration": 26,
    "start_time": "2023-08-08T10:50:44.646Z"
   },
   {
    "duration": 43,
    "start_time": "2023-08-08T10:50:44.674Z"
   },
   {
    "duration": 353,
    "start_time": "2023-08-08T10:50:44.718Z"
   },
   {
    "duration": 20,
    "start_time": "2023-08-08T10:50:45.073Z"
   },
   {
    "duration": 13,
    "start_time": "2023-08-08T10:50:45.095Z"
   },
   {
    "duration": 18,
    "start_time": "2023-08-08T10:50:45.110Z"
   },
   {
    "duration": 17,
    "start_time": "2023-08-08T10:50:45.130Z"
   },
   {
    "duration": 308,
    "start_time": "2023-08-08T10:50:45.149Z"
   },
   {
    "duration": 15,
    "start_time": "2023-08-08T10:50:45.459Z"
   },
   {
    "duration": 16,
    "start_time": "2023-08-08T10:50:45.487Z"
   },
   {
    "duration": 30,
    "start_time": "2023-08-08T10:50:45.505Z"
   },
   {
    "duration": 38,
    "start_time": "2023-08-08T10:50:45.537Z"
   },
   {
    "duration": 32,
    "start_time": "2023-08-08T10:50:45.577Z"
   },
   {
    "duration": 44,
    "start_time": "2023-08-08T10:50:45.611Z"
   },
   {
    "duration": 43,
    "start_time": "2023-08-08T10:50:45.657Z"
   },
   {
    "duration": 71,
    "start_time": "2023-08-08T10:50:45.701Z"
   },
   {
    "duration": 34,
    "start_time": "2023-08-08T10:50:45.774Z"
   },
   {
    "duration": 63,
    "start_time": "2023-08-08T10:50:45.809Z"
   },
   {
    "duration": 48,
    "start_time": "2023-08-08T10:50:45.874Z"
   },
   {
    "duration": 57,
    "start_time": "2023-08-08T10:50:45.924Z"
   },
   {
    "duration": 16,
    "start_time": "2023-08-08T10:57:43.736Z"
   },
   {
    "duration": 83,
    "start_time": "2023-08-08T10:59:25.081Z"
   },
   {
    "duration": 188,
    "start_time": "2023-08-08T11:00:33.115Z"
   },
   {
    "duration": 118,
    "start_time": "2023-08-08T11:00:39.330Z"
   },
   {
    "duration": 18,
    "start_time": "2023-08-08T11:01:12.814Z"
   },
   {
    "duration": 20,
    "start_time": "2023-08-08T11:01:45.155Z"
   },
   {
    "duration": 1235,
    "start_time": "2023-08-08T11:01:54.899Z"
   },
   {
    "duration": 176,
    "start_time": "2023-08-08T11:01:56.136Z"
   },
   {
    "duration": 15,
    "start_time": "2023-08-08T11:01:56.314Z"
   },
   {
    "duration": 67,
    "start_time": "2023-08-08T11:01:56.331Z"
   },
   {
    "duration": 33,
    "start_time": "2023-08-08T11:01:56.399Z"
   },
   {
    "duration": 42,
    "start_time": "2023-08-08T11:01:56.434Z"
   },
   {
    "duration": 312,
    "start_time": "2023-08-08T11:01:56.478Z"
   },
   {
    "duration": 282,
    "start_time": "2023-08-08T11:01:56.792Z"
   },
   {
    "duration": 11,
    "start_time": "2023-08-08T11:01:57.076Z"
   },
   {
    "duration": 30,
    "start_time": "2023-08-08T11:01:57.089Z"
   },
   {
    "duration": 219,
    "start_time": "2023-08-08T11:01:57.120Z"
   },
   {
    "duration": 58,
    "start_time": "2023-08-08T11:01:57.341Z"
   },
   {
    "duration": 10,
    "start_time": "2023-08-08T11:01:57.401Z"
   },
   {
    "duration": 21,
    "start_time": "2023-08-08T11:01:57.413Z"
   },
   {
    "duration": 56,
    "start_time": "2023-08-08T11:01:57.435Z"
   },
   {
    "duration": 19,
    "start_time": "2023-08-08T11:01:57.493Z"
   },
   {
    "duration": 10,
    "start_time": "2023-08-08T11:01:57.513Z"
   },
   {
    "duration": 17,
    "start_time": "2023-08-08T11:01:57.525Z"
   },
   {
    "duration": 18,
    "start_time": "2023-08-08T11:01:57.544Z"
   },
   {
    "duration": 31,
    "start_time": "2023-08-08T11:01:57.563Z"
   },
   {
    "duration": 253,
    "start_time": "2023-08-08T11:01:57.596Z"
   },
   {
    "duration": 13,
    "start_time": "2023-08-08T11:01:57.851Z"
   },
   {
    "duration": 31,
    "start_time": "2023-08-08T11:01:57.866Z"
   },
   {
    "duration": 8,
    "start_time": "2023-08-08T11:01:57.899Z"
   },
   {
    "duration": 21,
    "start_time": "2023-08-08T11:01:57.908Z"
   },
   {
    "duration": 292,
    "start_time": "2023-08-08T11:01:57.930Z"
   },
   {
    "duration": 15,
    "start_time": "2023-08-08T11:01:58.223Z"
   },
   {
    "duration": 40,
    "start_time": "2023-08-08T11:01:58.241Z"
   },
   {
    "duration": 53,
    "start_time": "2023-08-08T11:01:58.283Z"
   },
   {
    "duration": 55,
    "start_time": "2023-08-08T11:01:58.338Z"
   },
   {
    "duration": 18,
    "start_time": "2023-08-08T11:01:58.395Z"
   },
   {
    "duration": 15,
    "start_time": "2023-08-08T11:01:58.415Z"
   },
   {
    "duration": 31,
    "start_time": "2023-08-08T11:01:58.432Z"
   },
   {
    "duration": 25,
    "start_time": "2023-08-08T11:01:58.465Z"
   },
   {
    "duration": 20,
    "start_time": "2023-08-08T11:01:58.491Z"
   },
   {
    "duration": 39,
    "start_time": "2023-08-08T11:01:58.513Z"
   },
   {
    "duration": 5,
    "start_time": "2023-08-08T11:01:58.554Z"
   },
   {
    "duration": 57,
    "start_time": "2023-08-08T11:01:58.561Z"
   },
   {
    "duration": 21,
    "start_time": "2023-08-08T11:01:58.619Z"
   },
   {
    "duration": 3,
    "start_time": "2023-08-08T11:08:26.591Z"
   },
   {
    "duration": 32,
    "start_time": "2023-08-08T11:09:00.527Z"
   },
   {
    "duration": 7,
    "start_time": "2023-08-08T11:20:15.947Z"
   },
   {
    "duration": 18,
    "start_time": "2023-08-08T11:20:45.350Z"
   },
   {
    "duration": 22,
    "start_time": "2023-08-08T11:23:00.169Z"
   },
   {
    "duration": 47,
    "start_time": "2023-08-08T11:25:23.206Z"
   },
   {
    "duration": 73,
    "start_time": "2023-08-08T11:29:39.349Z"
   },
   {
    "duration": 2400,
    "start_time": "2023-08-08T11:30:06.627Z"
   },
   {
    "duration": 182,
    "start_time": "2023-08-08T11:30:09.029Z"
   },
   {
    "duration": 15,
    "start_time": "2023-08-08T11:30:09.212Z"
   },
   {
    "duration": 28,
    "start_time": "2023-08-08T11:30:09.229Z"
   },
   {
    "duration": 41,
    "start_time": "2023-08-08T11:30:09.259Z"
   },
   {
    "duration": 14,
    "start_time": "2023-08-08T11:30:09.302Z"
   },
   {
    "duration": 350,
    "start_time": "2023-08-08T11:30:09.318Z"
   },
   {
    "duration": 295,
    "start_time": "2023-08-08T11:30:09.669Z"
   },
   {
    "duration": 6,
    "start_time": "2023-08-08T11:30:09.965Z"
   },
   {
    "duration": 70,
    "start_time": "2023-08-08T11:30:09.972Z"
   },
   {
    "duration": 276,
    "start_time": "2023-08-08T11:30:10.044Z"
   },
   {
    "duration": 20,
    "start_time": "2023-08-08T11:30:10.322Z"
   },
   {
    "duration": 48,
    "start_time": "2023-08-08T11:30:10.344Z"
   },
   {
    "duration": 65,
    "start_time": "2023-08-08T11:30:10.395Z"
   },
   {
    "duration": 25,
    "start_time": "2023-08-08T11:30:10.463Z"
   },
   {
    "duration": 34,
    "start_time": "2023-08-08T11:30:10.490Z"
   },
   {
    "duration": 22,
    "start_time": "2023-08-08T11:30:10.526Z"
   },
   {
    "duration": 28,
    "start_time": "2023-08-08T11:30:10.549Z"
   },
   {
    "duration": 18,
    "start_time": "2023-08-08T11:30:10.578Z"
   },
   {
    "duration": 22,
    "start_time": "2023-08-08T11:30:10.597Z"
   },
   {
    "duration": 326,
    "start_time": "2023-08-08T11:30:10.620Z"
   },
   {
    "duration": 11,
    "start_time": "2023-08-08T11:30:10.948Z"
   },
   {
    "duration": 27,
    "start_time": "2023-08-08T11:30:10.960Z"
   },
   {
    "duration": 7,
    "start_time": "2023-08-08T11:30:10.988Z"
   },
   {
    "duration": 58,
    "start_time": "2023-08-08T11:30:10.996Z"
   },
   {
    "duration": 278,
    "start_time": "2023-08-08T11:30:11.056Z"
   },
   {
    "duration": 15,
    "start_time": "2023-08-08T11:30:11.335Z"
   },
   {
    "duration": 20,
    "start_time": "2023-08-08T11:30:11.352Z"
   },
   {
    "duration": 17,
    "start_time": "2023-08-08T11:30:11.373Z"
   },
   {
    "duration": 25,
    "start_time": "2023-08-08T11:30:11.392Z"
   },
   {
    "duration": 32,
    "start_time": "2023-08-08T11:30:11.418Z"
   },
   {
    "duration": 31,
    "start_time": "2023-08-08T11:30:11.451Z"
   },
   {
    "duration": 51,
    "start_time": "2023-08-08T11:30:11.484Z"
   },
   {
    "duration": 37,
    "start_time": "2023-08-08T11:30:11.536Z"
   },
   {
    "duration": 21,
    "start_time": "2023-08-08T11:30:11.575Z"
   },
   {
    "duration": 38,
    "start_time": "2023-08-08T11:30:11.598Z"
   },
   {
    "duration": 6,
    "start_time": "2023-08-08T11:30:11.638Z"
   },
   {
    "duration": 59,
    "start_time": "2023-08-08T11:30:11.645Z"
   },
   {
    "duration": 15,
    "start_time": "2023-08-08T11:30:11.706Z"
   },
   {
    "duration": 40,
    "start_time": "2023-08-08T11:30:11.723Z"
   },
   {
    "duration": 29,
    "start_time": "2023-08-08T11:30:11.766Z"
   },
   {
    "duration": 55,
    "start_time": "2023-08-08T11:30:11.796Z"
   },
   {
    "duration": 94,
    "start_time": "2023-08-08T11:30:11.853Z"
   },
   {
    "duration": 162,
    "start_time": "2023-08-08T11:31:03.014Z"
   },
   {
    "duration": 108,
    "start_time": "2023-08-08T11:31:43.494Z"
   },
   {
    "duration": 1248,
    "start_time": "2023-08-08T11:32:52.060Z"
   },
   {
    "duration": 179,
    "start_time": "2023-08-08T11:32:53.310Z"
   },
   {
    "duration": 16,
    "start_time": "2023-08-08T11:32:53.490Z"
   },
   {
    "duration": 26,
    "start_time": "2023-08-08T11:32:53.508Z"
   },
   {
    "duration": 25,
    "start_time": "2023-08-08T11:32:53.536Z"
   },
   {
    "duration": 20,
    "start_time": "2023-08-08T11:32:53.562Z"
   },
   {
    "duration": 289,
    "start_time": "2023-08-08T11:32:53.584Z"
   },
   {
    "duration": 291,
    "start_time": "2023-08-08T11:32:53.874Z"
   },
   {
    "duration": 5,
    "start_time": "2023-08-08T11:32:54.167Z"
   },
   {
    "duration": 47,
    "start_time": "2023-08-08T11:32:54.173Z"
   },
   {
    "duration": 279,
    "start_time": "2023-08-08T11:32:54.221Z"
   },
   {
    "duration": 21,
    "start_time": "2023-08-08T11:32:54.502Z"
   },
   {
    "duration": 20,
    "start_time": "2023-08-08T11:32:54.525Z"
   },
   {
    "duration": 38,
    "start_time": "2023-08-08T11:32:54.548Z"
   },
   {
    "duration": 44,
    "start_time": "2023-08-08T11:32:54.588Z"
   },
   {
    "duration": 44,
    "start_time": "2023-08-08T11:32:54.633Z"
   },
   {
    "duration": 23,
    "start_time": "2023-08-08T11:32:54.679Z"
   },
   {
    "duration": 32,
    "start_time": "2023-08-08T11:32:54.704Z"
   },
   {
    "duration": 24,
    "start_time": "2023-08-08T11:32:54.738Z"
   },
   {
    "duration": 36,
    "start_time": "2023-08-08T11:32:54.764Z"
   },
   {
    "duration": 259,
    "start_time": "2023-08-08T11:32:54.802Z"
   },
   {
    "duration": 32,
    "start_time": "2023-08-08T11:32:55.063Z"
   },
   {
    "duration": 60,
    "start_time": "2023-08-08T11:32:55.097Z"
   },
   {
    "duration": 96,
    "start_time": "2023-08-08T11:32:55.159Z"
   },
   {
    "duration": 98,
    "start_time": "2023-08-08T11:32:55.256Z"
   },
   {
    "duration": 274,
    "start_time": "2023-08-08T11:32:55.355Z"
   },
   {
    "duration": 15,
    "start_time": "2023-08-08T11:32:55.631Z"
   },
   {
    "duration": 23,
    "start_time": "2023-08-08T11:32:55.648Z"
   },
   {
    "duration": 30,
    "start_time": "2023-08-08T11:32:55.673Z"
   },
   {
    "duration": 32,
    "start_time": "2023-08-08T11:32:55.705Z"
   },
   {
    "duration": 38,
    "start_time": "2023-08-08T11:32:55.738Z"
   },
   {
    "duration": 85,
    "start_time": "2023-08-08T11:32:55.778Z"
   },
   {
    "duration": 52,
    "start_time": "2023-08-08T11:32:55.865Z"
   },
   {
    "duration": 28,
    "start_time": "2023-08-08T11:32:55.919Z"
   },
   {
    "duration": 19,
    "start_time": "2023-08-08T11:32:55.948Z"
   },
   {
    "duration": 40,
    "start_time": "2023-08-08T11:32:55.969Z"
   },
   {
    "duration": 6,
    "start_time": "2023-08-08T11:32:56.011Z"
   },
   {
    "duration": 75,
    "start_time": "2023-08-08T11:32:56.018Z"
   },
   {
    "duration": 18,
    "start_time": "2023-08-08T11:32:56.094Z"
   },
   {
    "duration": 39,
    "start_time": "2023-08-08T11:32:56.114Z"
   },
   {
    "duration": 79,
    "start_time": "2023-08-08T11:32:56.157Z"
   },
   {
    "duration": 124,
    "start_time": "2023-08-08T11:32:56.238Z"
   },
   {
    "duration": 73,
    "start_time": "2023-08-08T11:32:56.363Z"
   },
   {
    "duration": 100,
    "start_time": "2023-08-08T11:32:56.438Z"
   },
   {
    "duration": 126,
    "start_time": "2023-08-08T11:39:35.643Z"
   },
   {
    "duration": 1077,
    "start_time": "2023-08-08T11:40:35.437Z"
   },
   {
    "duration": 188,
    "start_time": "2023-08-08T11:40:36.516Z"
   },
   {
    "duration": 15,
    "start_time": "2023-08-08T11:40:36.706Z"
   },
   {
    "duration": 13,
    "start_time": "2023-08-08T11:40:36.723Z"
   },
   {
    "duration": 8,
    "start_time": "2023-08-08T11:40:36.739Z"
   },
   {
    "duration": 8,
    "start_time": "2023-08-08T11:40:36.748Z"
   },
   {
    "duration": 319,
    "start_time": "2023-08-08T11:40:36.758Z"
   },
   {
    "duration": 283,
    "start_time": "2023-08-08T11:40:37.086Z"
   },
   {
    "duration": 5,
    "start_time": "2023-08-08T11:40:37.370Z"
   },
   {
    "duration": 13,
    "start_time": "2023-08-08T11:40:37.387Z"
   },
   {
    "duration": 228,
    "start_time": "2023-08-08T11:40:37.402Z"
   },
   {
    "duration": 20,
    "start_time": "2023-08-08T11:40:37.632Z"
   },
   {
    "duration": 36,
    "start_time": "2023-08-08T11:40:37.653Z"
   },
   {
    "duration": 12,
    "start_time": "2023-08-08T11:40:37.690Z"
   },
   {
    "duration": 18,
    "start_time": "2023-08-08T11:40:37.703Z"
   },
   {
    "duration": 13,
    "start_time": "2023-08-08T11:40:37.722Z"
   },
   {
    "duration": 19,
    "start_time": "2023-08-08T11:40:37.736Z"
   },
   {
    "duration": 11,
    "start_time": "2023-08-08T11:40:37.757Z"
   },
   {
    "duration": 21,
    "start_time": "2023-08-08T11:40:37.769Z"
   },
   {
    "duration": 8,
    "start_time": "2023-08-08T11:40:37.791Z"
   },
   {
    "duration": 245,
    "start_time": "2023-08-08T11:40:37.801Z"
   },
   {
    "duration": 11,
    "start_time": "2023-08-08T11:40:38.047Z"
   },
   {
    "duration": 27,
    "start_time": "2023-08-08T11:40:38.060Z"
   },
   {
    "duration": 6,
    "start_time": "2023-08-08T11:40:38.089Z"
   },
   {
    "duration": 8,
    "start_time": "2023-08-08T11:40:38.096Z"
   },
   {
    "duration": 238,
    "start_time": "2023-08-08T11:40:38.105Z"
   },
   {
    "duration": 14,
    "start_time": "2023-08-08T11:40:38.345Z"
   },
   {
    "duration": 25,
    "start_time": "2023-08-08T11:40:38.362Z"
   },
   {
    "duration": 5,
    "start_time": "2023-08-08T11:40:38.389Z"
   },
   {
    "duration": 16,
    "start_time": "2023-08-08T11:40:38.395Z"
   },
   {
    "duration": 11,
    "start_time": "2023-08-08T11:40:38.412Z"
   },
   {
    "duration": 8,
    "start_time": "2023-08-08T11:40:38.425Z"
   },
   {
    "duration": 20,
    "start_time": "2023-08-08T11:40:38.435Z"
   },
   {
    "duration": 40,
    "start_time": "2023-08-08T11:40:38.456Z"
   },
   {
    "duration": 19,
    "start_time": "2023-08-08T11:40:38.497Z"
   },
   {
    "duration": 35,
    "start_time": "2023-08-08T11:40:38.517Z"
   },
   {
    "duration": 33,
    "start_time": "2023-08-08T11:40:38.554Z"
   },
   {
    "duration": 30,
    "start_time": "2023-08-08T11:40:38.589Z"
   },
   {
    "duration": 20,
    "start_time": "2023-08-08T11:40:38.621Z"
   },
   {
    "duration": 103,
    "start_time": "2023-08-08T11:40:38.648Z"
   },
   {
    "duration": 21,
    "start_time": "2023-08-08T11:40:38.752Z"
   },
   {
    "duration": 133,
    "start_time": "2023-08-08T11:40:38.788Z"
   },
   {
    "duration": 76,
    "start_time": "2023-08-08T11:40:38.923Z"
   },
   {
    "duration": 101,
    "start_time": "2023-08-08T11:40:39.000Z"
   },
   {
    "duration": 30,
    "start_time": "2023-08-08T11:45:18.017Z"
   },
   {
    "duration": 19,
    "start_time": "2023-08-08T11:47:06.937Z"
   },
   {
    "duration": 1096,
    "start_time": "2023-08-08T11:47:20.136Z"
   },
   {
    "duration": 179,
    "start_time": "2023-08-08T11:47:21.234Z"
   },
   {
    "duration": 17,
    "start_time": "2023-08-08T11:47:21.414Z"
   },
   {
    "duration": 25,
    "start_time": "2023-08-08T11:47:21.432Z"
   },
   {
    "duration": 11,
    "start_time": "2023-08-08T11:47:21.459Z"
   },
   {
    "duration": 11,
    "start_time": "2023-08-08T11:47:21.472Z"
   },
   {
    "duration": 284,
    "start_time": "2023-08-08T11:47:21.484Z"
   },
   {
    "duration": 291,
    "start_time": "2023-08-08T11:47:21.769Z"
   },
   {
    "duration": 6,
    "start_time": "2023-08-08T11:47:22.062Z"
   },
   {
    "duration": 36,
    "start_time": "2023-08-08T11:47:22.069Z"
   },
   {
    "duration": 231,
    "start_time": "2023-08-08T11:47:22.106Z"
   },
   {
    "duration": 22,
    "start_time": "2023-08-08T11:47:22.339Z"
   },
   {
    "duration": 66,
    "start_time": "2023-08-08T11:47:22.363Z"
   },
   {
    "duration": 44,
    "start_time": "2023-08-08T11:47:22.432Z"
   },
   {
    "duration": 31,
    "start_time": "2023-08-08T11:47:22.477Z"
   },
   {
    "duration": 27,
    "start_time": "2023-08-08T11:47:22.510Z"
   },
   {
    "duration": 43,
    "start_time": "2023-08-08T11:47:22.539Z"
   },
   {
    "duration": 24,
    "start_time": "2023-08-08T11:47:22.583Z"
   },
   {
    "duration": 49,
    "start_time": "2023-08-08T11:47:22.609Z"
   },
   {
    "duration": 22,
    "start_time": "2023-08-08T11:47:22.660Z"
   },
   {
    "duration": 268,
    "start_time": "2023-08-08T11:47:22.684Z"
   },
   {
    "duration": 11,
    "start_time": "2023-08-08T11:47:22.954Z"
   },
   {
    "duration": 29,
    "start_time": "2023-08-08T11:47:22.967Z"
   },
   {
    "duration": 12,
    "start_time": "2023-08-08T11:47:22.998Z"
   },
   {
    "duration": 20,
    "start_time": "2023-08-08T11:47:23.012Z"
   },
   {
    "duration": 270,
    "start_time": "2023-08-08T11:47:23.034Z"
   },
   {
    "duration": 14,
    "start_time": "2023-08-08T11:47:23.306Z"
   },
   {
    "duration": 14,
    "start_time": "2023-08-08T11:47:23.322Z"
   },
   {
    "duration": 8,
    "start_time": "2023-08-08T11:47:23.337Z"
   },
   {
    "duration": 20,
    "start_time": "2023-08-08T11:47:23.346Z"
   },
   {
    "duration": 25,
    "start_time": "2023-08-08T11:47:23.368Z"
   },
   {
    "duration": 6,
    "start_time": "2023-08-08T11:47:23.395Z"
   },
   {
    "duration": 36,
    "start_time": "2023-08-08T11:47:23.402Z"
   },
   {
    "duration": 18,
    "start_time": "2023-08-08T11:47:23.440Z"
   },
   {
    "duration": 28,
    "start_time": "2023-08-08T11:47:23.460Z"
   },
   {
    "duration": 37,
    "start_time": "2023-08-08T11:47:23.490Z"
   },
   {
    "duration": 6,
    "start_time": "2023-08-08T11:47:23.528Z"
   },
   {
    "duration": 54,
    "start_time": "2023-08-08T11:47:23.535Z"
   },
   {
    "duration": 17,
    "start_time": "2023-08-08T11:47:23.590Z"
   },
   {
    "duration": 102,
    "start_time": "2023-08-08T11:47:23.609Z"
   },
   {
    "duration": 20,
    "start_time": "2023-08-08T11:47:23.714Z"
   },
   {
    "duration": 20,
    "start_time": "2023-08-08T11:47:23.735Z"
   },
   {
    "duration": 22,
    "start_time": "2023-08-08T11:48:07.553Z"
   },
   {
    "duration": 120,
    "start_time": "2023-08-08T11:49:30.241Z"
   },
   {
    "duration": 1387,
    "start_time": "2023-08-08T11:50:10.173Z"
   },
   {
    "duration": 181,
    "start_time": "2023-08-08T11:50:11.561Z"
   },
   {
    "duration": 17,
    "start_time": "2023-08-08T11:50:11.744Z"
   },
   {
    "duration": 12,
    "start_time": "2023-08-08T11:50:11.763Z"
   },
   {
    "duration": 7,
    "start_time": "2023-08-08T11:50:11.777Z"
   },
   {
    "duration": 10,
    "start_time": "2023-08-08T11:50:11.786Z"
   },
   {
    "duration": 304,
    "start_time": "2023-08-08T11:50:11.798Z"
   },
   {
    "duration": 270,
    "start_time": "2023-08-08T11:50:12.103Z"
   },
   {
    "duration": 25,
    "start_time": "2023-08-08T11:50:12.375Z"
   },
   {
    "duration": 14,
    "start_time": "2023-08-08T11:50:12.403Z"
   },
   {
    "duration": 236,
    "start_time": "2023-08-08T11:50:12.418Z"
   },
   {
    "duration": 45,
    "start_time": "2023-08-08T11:50:12.656Z"
   },
   {
    "duration": 14,
    "start_time": "2023-08-08T11:50:12.703Z"
   },
   {
    "duration": 15,
    "start_time": "2023-08-08T11:50:12.719Z"
   },
   {
    "duration": 27,
    "start_time": "2023-08-08T11:50:12.736Z"
   },
   {
    "duration": 18,
    "start_time": "2023-08-08T11:50:12.765Z"
   },
   {
    "duration": 28,
    "start_time": "2023-08-08T11:50:12.786Z"
   },
   {
    "duration": 34,
    "start_time": "2023-08-08T11:50:12.815Z"
   },
   {
    "duration": 16,
    "start_time": "2023-08-08T11:50:12.851Z"
   },
   {
    "duration": 21,
    "start_time": "2023-08-08T11:50:12.869Z"
   },
   {
    "duration": 260,
    "start_time": "2023-08-08T11:50:12.892Z"
   },
   {
    "duration": 11,
    "start_time": "2023-08-08T11:50:13.154Z"
   },
   {
    "duration": 31,
    "start_time": "2023-08-08T11:50:13.166Z"
   },
   {
    "duration": 9,
    "start_time": "2023-08-08T11:50:13.199Z"
   },
   {
    "duration": 8,
    "start_time": "2023-08-08T11:50:13.210Z"
   },
   {
    "duration": 270,
    "start_time": "2023-08-08T11:50:13.219Z"
   },
   {
    "duration": 16,
    "start_time": "2023-08-08T11:50:13.491Z"
   },
   {
    "duration": 27,
    "start_time": "2023-08-08T11:50:13.510Z"
   },
   {
    "duration": 7,
    "start_time": "2023-08-08T11:50:13.538Z"
   },
   {
    "duration": 15,
    "start_time": "2023-08-08T11:50:13.547Z"
   },
   {
    "duration": 24,
    "start_time": "2023-08-08T11:50:13.564Z"
   },
   {
    "duration": 16,
    "start_time": "2023-08-08T11:50:13.590Z"
   },
   {
    "duration": 23,
    "start_time": "2023-08-08T11:50:13.607Z"
   },
   {
    "duration": 21,
    "start_time": "2023-08-08T11:50:13.632Z"
   },
   {
    "duration": 49,
    "start_time": "2023-08-08T11:50:13.655Z"
   },
   {
    "duration": 41,
    "start_time": "2023-08-08T11:50:13.706Z"
   },
   {
    "duration": 7,
    "start_time": "2023-08-08T11:50:13.749Z"
   },
   {
    "duration": 33,
    "start_time": "2023-08-08T11:50:13.789Z"
   },
   {
    "duration": 18,
    "start_time": "2023-08-08T11:50:13.824Z"
   },
   {
    "duration": 115,
    "start_time": "2023-08-08T11:50:13.844Z"
   },
   {
    "duration": 38,
    "start_time": "2023-08-08T11:50:13.962Z"
   },
   {
    "duration": 22,
    "start_time": "2023-08-08T11:50:14.002Z"
   },
   {
    "duration": 11,
    "start_time": "2023-08-08T11:50:14.025Z"
   },
   {
    "duration": 37,
    "start_time": "2023-08-08T11:50:55.002Z"
   },
   {
    "duration": 45,
    "start_time": "2023-08-08T11:54:16.176Z"
   },
   {
    "duration": 94,
    "start_time": "2023-08-08T11:55:05.756Z"
   },
   {
    "duration": 6,
    "start_time": "2023-08-08T11:58:53.438Z"
   },
   {
    "duration": 111,
    "start_time": "2023-08-08T12:00:50.456Z"
   },
   {
    "duration": 1386,
    "start_time": "2023-08-08T12:02:00.638Z"
   },
   {
    "duration": 226,
    "start_time": "2023-08-08T12:02:02.027Z"
   },
   {
    "duration": 19,
    "start_time": "2023-08-08T12:02:02.255Z"
   },
   {
    "duration": 49,
    "start_time": "2023-08-08T12:02:02.276Z"
   },
   {
    "duration": 22,
    "start_time": "2023-08-08T12:02:02.328Z"
   },
   {
    "duration": 72,
    "start_time": "2023-08-08T12:02:02.352Z"
   },
   {
    "duration": 408,
    "start_time": "2023-08-08T12:02:02.427Z"
   },
   {
    "duration": 322,
    "start_time": "2023-08-08T12:02:02.837Z"
   },
   {
    "duration": 5,
    "start_time": "2023-08-08T12:02:03.161Z"
   },
   {
    "duration": 88,
    "start_time": "2023-08-08T12:02:03.167Z"
   },
   {
    "duration": 303,
    "start_time": "2023-08-08T12:02:03.256Z"
   },
   {
    "duration": 30,
    "start_time": "2023-08-08T12:02:03.587Z"
   },
   {
    "duration": 34,
    "start_time": "2023-08-08T12:02:03.618Z"
   },
   {
    "duration": 20,
    "start_time": "2023-08-08T12:02:03.656Z"
   },
   {
    "duration": 281,
    "start_time": "2023-08-08T12:02:03.678Z"
   },
   {
    "duration": 44,
    "start_time": "2023-08-08T12:02:03.962Z"
   },
   {
    "duration": 99,
    "start_time": "2023-08-08T12:02:04.007Z"
   },
   {
    "duration": 23,
    "start_time": "2023-08-08T12:02:04.108Z"
   },
   {
    "duration": 47,
    "start_time": "2023-08-08T12:02:04.133Z"
   },
   {
    "duration": 26,
    "start_time": "2023-08-08T12:02:04.182Z"
   },
   {
    "duration": 338,
    "start_time": "2023-08-08T12:02:04.210Z"
   },
   {
    "duration": 12,
    "start_time": "2023-08-08T12:02:04.550Z"
   },
   {
    "duration": 47,
    "start_time": "2023-08-08T12:02:04.563Z"
   },
   {
    "duration": 23,
    "start_time": "2023-08-08T12:02:04.612Z"
   },
   {
    "duration": 23,
    "start_time": "2023-08-08T12:02:04.636Z"
   },
   {
    "duration": 356,
    "start_time": "2023-08-08T12:02:04.661Z"
   },
   {
    "duration": 21,
    "start_time": "2023-08-08T12:02:05.019Z"
   },
   {
    "duration": 33,
    "start_time": "2023-08-08T12:02:05.042Z"
   },
   {
    "duration": 27,
    "start_time": "2023-08-08T12:02:05.077Z"
   },
   {
    "duration": 29,
    "start_time": "2023-08-08T12:02:05.108Z"
   },
   {
    "duration": 27,
    "start_time": "2023-08-08T12:02:05.138Z"
   },
   {
    "duration": 11,
    "start_time": "2023-08-08T12:02:05.167Z"
   },
   {
    "duration": 39,
    "start_time": "2023-08-08T12:02:05.180Z"
   },
   {
    "duration": 37,
    "start_time": "2023-08-08T12:02:05.220Z"
   },
   {
    "duration": 21,
    "start_time": "2023-08-08T12:02:05.259Z"
   },
   {
    "duration": 71,
    "start_time": "2023-08-08T12:02:05.282Z"
   },
   {
    "duration": 7,
    "start_time": "2023-08-08T12:02:05.355Z"
   },
   {
    "duration": 99,
    "start_time": "2023-08-08T12:02:05.364Z"
   },
   {
    "duration": 52,
    "start_time": "2023-08-08T12:02:05.464Z"
   },
   {
    "duration": 122,
    "start_time": "2023-08-08T12:02:05.518Z"
   },
   {
    "duration": 42,
    "start_time": "2023-08-08T12:02:05.644Z"
   },
   {
    "duration": 54,
    "start_time": "2023-08-08T12:02:05.692Z"
   },
   {
    "duration": 29,
    "start_time": "2023-08-08T12:02:05.747Z"
   },
   {
    "duration": 62,
    "start_time": "2023-08-08T12:02:05.778Z"
   },
   {
    "duration": 106,
    "start_time": "2023-08-08T12:02:05.842Z"
   },
   {
    "duration": 15,
    "start_time": "2023-08-08T12:02:05.950Z"
   },
   {
    "duration": 190,
    "start_time": "2023-08-08T12:02:05.967Z"
   },
   {
    "duration": 5,
    "start_time": "2023-08-08T12:31:32.403Z"
   },
   {
    "duration": 183,
    "start_time": "2023-08-08T12:32:51.579Z"
   },
   {
    "duration": 1653,
    "start_time": "2023-08-08T12:34:04.731Z"
   },
   {
    "duration": 185,
    "start_time": "2023-08-08T12:34:06.386Z"
   },
   {
    "duration": 15,
    "start_time": "2023-08-08T12:34:06.573Z"
   },
   {
    "duration": 43,
    "start_time": "2023-08-08T12:34:06.590Z"
   },
   {
    "duration": 29,
    "start_time": "2023-08-08T12:34:06.635Z"
   },
   {
    "duration": 39,
    "start_time": "2023-08-08T12:34:06.666Z"
   },
   {
    "duration": 370,
    "start_time": "2023-08-08T12:34:06.707Z"
   },
   {
    "duration": 308,
    "start_time": "2023-08-08T12:34:07.079Z"
   },
   {
    "duration": 5,
    "start_time": "2023-08-08T12:34:07.388Z"
   },
   {
    "duration": 44,
    "start_time": "2023-08-08T12:34:07.396Z"
   },
   {
    "duration": 281,
    "start_time": "2023-08-08T12:34:07.442Z"
   },
   {
    "duration": 28,
    "start_time": "2023-08-08T12:34:07.725Z"
   },
   {
    "duration": 17,
    "start_time": "2023-08-08T12:34:07.754Z"
   },
   {
    "duration": 35,
    "start_time": "2023-08-08T12:34:07.773Z"
   },
   {
    "duration": 47,
    "start_time": "2023-08-08T12:34:07.810Z"
   },
   {
    "duration": 29,
    "start_time": "2023-08-08T12:34:07.858Z"
   },
   {
    "duration": 22,
    "start_time": "2023-08-08T12:34:07.889Z"
   },
   {
    "duration": 15,
    "start_time": "2023-08-08T12:34:07.913Z"
   },
   {
    "duration": 18,
    "start_time": "2023-08-08T12:34:07.930Z"
   },
   {
    "duration": 9,
    "start_time": "2023-08-08T12:34:07.949Z"
   },
   {
    "duration": 272,
    "start_time": "2023-08-08T12:34:07.959Z"
   },
   {
    "duration": 11,
    "start_time": "2023-08-08T12:34:08.233Z"
   },
   {
    "duration": 18,
    "start_time": "2023-08-08T12:34:08.246Z"
   },
   {
    "duration": 23,
    "start_time": "2023-08-08T12:34:08.265Z"
   },
   {
    "duration": 7,
    "start_time": "2023-08-08T12:34:08.290Z"
   },
   {
    "duration": 348,
    "start_time": "2023-08-08T12:34:08.299Z"
   },
   {
    "duration": 16,
    "start_time": "2023-08-08T12:34:08.649Z"
   },
   {
    "duration": 26,
    "start_time": "2023-08-08T12:34:08.668Z"
   },
   {
    "duration": 20,
    "start_time": "2023-08-08T12:34:08.696Z"
   },
   {
    "duration": 43,
    "start_time": "2023-08-08T12:34:08.717Z"
   },
   {
    "duration": 35,
    "start_time": "2023-08-08T12:34:08.762Z"
   },
   {
    "duration": 37,
    "start_time": "2023-08-08T12:34:08.798Z"
   },
   {
    "duration": 70,
    "start_time": "2023-08-08T12:34:08.837Z"
   },
   {
    "duration": 30,
    "start_time": "2023-08-08T12:34:08.909Z"
   },
   {
    "duration": 29,
    "start_time": "2023-08-08T12:34:08.941Z"
   },
   {
    "duration": 50,
    "start_time": "2023-08-08T12:34:08.972Z"
   },
   {
    "duration": 7,
    "start_time": "2023-08-08T12:34:09.024Z"
   },
   {
    "duration": 62,
    "start_time": "2023-08-08T12:34:09.033Z"
   },
   {
    "duration": 19,
    "start_time": "2023-08-08T12:34:09.097Z"
   },
   {
    "duration": 110,
    "start_time": "2023-08-08T12:34:09.118Z"
   },
   {
    "duration": 22,
    "start_time": "2023-08-08T12:34:09.231Z"
   },
   {
    "duration": 42,
    "start_time": "2023-08-08T12:34:09.255Z"
   },
   {
    "duration": 25,
    "start_time": "2023-08-08T12:34:09.299Z"
   },
   {
    "duration": 68,
    "start_time": "2023-08-08T12:34:09.326Z"
   },
   {
    "duration": 102,
    "start_time": "2023-08-08T12:34:09.395Z"
   },
   {
    "duration": 7,
    "start_time": "2023-08-08T12:34:09.499Z"
   },
   {
    "duration": 125,
    "start_time": "2023-08-08T12:34:09.508Z"
   },
   {
    "duration": 4,
    "start_time": "2023-08-08T12:34:09.635Z"
   },
   {
    "duration": 133,
    "start_time": "2023-08-08T12:48:47.090Z"
   },
   {
    "duration": 21,
    "start_time": "2023-08-08T12:50:14.633Z"
   },
   {
    "duration": 17,
    "start_time": "2023-08-08T12:51:01.851Z"
   },
   {
    "duration": 11,
    "start_time": "2023-08-08T12:51:24.758Z"
   },
   {
    "duration": 7,
    "start_time": "2023-08-08T12:53:02.036Z"
   },
   {
    "duration": 54784,
    "start_time": "2023-08-08T13:02:05.531Z"
   },
   {
    "duration": 54057,
    "start_time": "2023-08-08T13:04:02.481Z"
   },
   {
    "duration": 3,
    "start_time": "2023-08-08T13:04:56.540Z"
   },
   {
    "duration": 51746,
    "start_time": "2023-08-08T13:06:07.076Z"
   },
   {
    "duration": 52065,
    "start_time": "2023-08-08T13:09:34.478Z"
   },
   {
    "duration": 109523,
    "start_time": "2023-08-08T13:11:06.472Z"
   },
   {
    "duration": 4,
    "start_time": "2023-08-08T13:15:49.107Z"
   },
   {
    "duration": 28,
    "start_time": "2023-08-08T13:17:28.406Z"
   },
   {
    "duration": 9895610,
    "start_time": "2023-08-08T13:20:32.673Z"
   },
   {
    "duration": 22,
    "start_time": "2023-08-08T16:18:16.002Z"
   },
   {
    "duration": 22,
    "start_time": "2023-08-08T16:18:32.610Z"
   },
   {
    "duration": 57900,
    "start_time": "2023-08-08T16:19:00.456Z"
   },
   {
    "duration": 22,
    "start_time": "2023-08-08T16:20:13.114Z"
   },
   {
    "duration": 13,
    "start_time": "2023-08-08T16:21:30.850Z"
   },
   {
    "duration": 6,
    "start_time": "2023-08-08T16:22:19.571Z"
   },
   {
    "duration": 4,
    "start_time": "2023-08-08T16:23:17.426Z"
   },
   {
    "duration": 7,
    "start_time": "2023-08-08T16:23:38.370Z"
   },
   {
    "duration": 4,
    "start_time": "2023-08-08T16:24:06.675Z"
   },
   {
    "duration": 3,
    "start_time": "2023-08-08T16:24:12.450Z"
   },
   {
    "duration": 9,
    "start_time": "2023-08-08T16:47:34.751Z"
   },
   {
    "duration": 21,
    "start_time": "2023-08-08T16:50:09.685Z"
   },
   {
    "duration": 18,
    "start_time": "2023-08-08T16:51:50.283Z"
   },
   {
    "duration": 9,
    "start_time": "2023-08-08T16:52:43.753Z"
   },
   {
    "duration": 1849,
    "start_time": "2023-08-09T14:41:49.343Z"
   },
   {
    "duration": 574,
    "start_time": "2023-08-09T14:41:51.194Z"
   },
   {
    "duration": 19,
    "start_time": "2023-08-09T14:41:51.771Z"
   },
   {
    "duration": 15,
    "start_time": "2023-08-09T14:41:51.792Z"
   },
   {
    "duration": 21,
    "start_time": "2023-08-09T14:41:51.810Z"
   },
   {
    "duration": 24,
    "start_time": "2023-08-09T14:41:51.833Z"
   },
   {
    "duration": 397,
    "start_time": "2023-08-09T14:41:51.859Z"
   },
   {
    "duration": 281,
    "start_time": "2023-08-09T14:41:52.258Z"
   },
   {
    "duration": 17,
    "start_time": "2023-08-09T14:41:52.540Z"
   },
   {
    "duration": 19,
    "start_time": "2023-08-09T14:41:52.559Z"
   },
   {
    "duration": 234,
    "start_time": "2023-08-09T14:41:52.580Z"
   },
   {
    "duration": 22,
    "start_time": "2023-08-09T14:41:52.816Z"
   },
   {
    "duration": 13,
    "start_time": "2023-08-09T14:41:52.857Z"
   },
   {
    "duration": 10,
    "start_time": "2023-08-09T14:41:52.874Z"
   },
   {
    "duration": 35,
    "start_time": "2023-08-09T14:41:52.886Z"
   },
   {
    "duration": 15,
    "start_time": "2023-08-09T14:41:52.923Z"
   },
   {
    "duration": 7,
    "start_time": "2023-08-09T14:41:52.957Z"
   },
   {
    "duration": 20,
    "start_time": "2023-08-09T14:41:52.966Z"
   },
   {
    "duration": 40,
    "start_time": "2023-08-09T14:41:52.988Z"
   },
   {
    "duration": 25,
    "start_time": "2023-08-09T14:41:53.030Z"
   },
   {
    "duration": 274,
    "start_time": "2023-08-09T14:41:53.057Z"
   },
   {
    "duration": 23,
    "start_time": "2023-08-09T14:41:53.333Z"
   },
   {
    "duration": 13,
    "start_time": "2023-08-09T14:41:53.358Z"
   },
   {
    "duration": 13,
    "start_time": "2023-08-09T14:41:53.373Z"
   },
   {
    "duration": 19,
    "start_time": "2023-08-09T14:41:53.388Z"
   },
   {
    "duration": 396,
    "start_time": "2023-08-09T14:41:53.409Z"
   },
   {
    "duration": 17,
    "start_time": "2023-08-09T14:41:53.807Z"
   },
   {
    "duration": 30,
    "start_time": "2023-08-09T14:41:53.826Z"
   },
   {
    "duration": 9,
    "start_time": "2023-08-09T14:41:53.859Z"
   },
   {
    "duration": 25,
    "start_time": "2023-08-09T14:41:53.870Z"
   },
   {
    "duration": 16,
    "start_time": "2023-08-09T14:41:53.898Z"
   },
   {
    "duration": 20,
    "start_time": "2023-08-09T14:41:53.916Z"
   },
   {
    "duration": 22,
    "start_time": "2023-08-09T14:41:53.955Z"
   },
   {
    "duration": 23,
    "start_time": "2023-08-09T14:44:17.580Z"
   },
   {
    "duration": 21,
    "start_time": "2023-08-09T14:44:20.885Z"
   },
   {
    "duration": 52,
    "start_time": "2023-08-09T14:44:23.044Z"
   },
   {
    "duration": 7,
    "start_time": "2023-08-09T14:44:28.724Z"
   },
   {
    "duration": 34,
    "start_time": "2023-08-09T14:44:29.148Z"
   },
   {
    "duration": 19,
    "start_time": "2023-08-09T14:44:33.516Z"
   },
   {
    "duration": 96,
    "start_time": "2023-08-09T14:44:34.149Z"
   },
   {
    "duration": 28,
    "start_time": "2023-08-09T14:44:46.708Z"
   },
   {
    "duration": 37,
    "start_time": "2023-08-09T14:44:48.399Z"
   },
   {
    "duration": 35,
    "start_time": "2023-08-09T14:44:55.093Z"
   },
   {
    "duration": 47,
    "start_time": "2023-08-09T14:45:00.062Z"
   },
   {
    "duration": 104,
    "start_time": "2023-08-09T14:45:05.021Z"
   },
   {
    "duration": 7,
    "start_time": "2023-08-09T14:45:11.620Z"
   },
   {
    "duration": 112,
    "start_time": "2023-08-09T14:45:12.996Z"
   },
   {
    "duration": 32,
    "start_time": "2023-08-09T14:45:19.590Z"
   },
   {
    "duration": 118,
    "start_time": "2023-08-09T14:55:37.569Z"
   },
   {
    "duration": 46,
    "start_time": "2023-08-09T16:13:17.367Z"
   },
   {
    "duration": 1880,
    "start_time": "2023-08-09T16:13:29.494Z"
   },
   {
    "duration": 75,
    "start_time": "2023-08-09T16:13:49.739Z"
   },
   {
    "duration": 9,
    "start_time": "2023-08-09T16:14:11.635Z"
   },
   {
    "duration": 3,
    "start_time": "2023-08-09T16:14:22.117Z"
   },
   {
    "duration": 932,
    "start_time": "2023-08-09T16:14:22.811Z"
   },
   {
    "duration": 16,
    "start_time": "2023-08-09T16:14:30.724Z"
   },
   {
    "duration": 12,
    "start_time": "2023-08-09T16:14:33.291Z"
   },
   {
    "duration": 7,
    "start_time": "2023-08-09T16:14:35.879Z"
   },
   {
    "duration": 9,
    "start_time": "2023-08-09T16:14:38.191Z"
   },
   {
    "duration": 340,
    "start_time": "2023-08-09T16:14:43.156Z"
   },
   {
    "duration": 307,
    "start_time": "2023-08-09T16:14:46.044Z"
   },
   {
    "duration": 5,
    "start_time": "2023-08-09T16:14:50.540Z"
   },
   {
    "duration": 15,
    "start_time": "2023-08-09T16:16:20.459Z"
   },
   {
    "duration": 13,
    "start_time": "2023-08-09T16:16:24.812Z"
   },
   {
    "duration": 223,
    "start_time": "2023-08-09T16:16:25.504Z"
   },
   {
    "duration": 21,
    "start_time": "2023-08-09T16:16:29.757Z"
   },
   {
    "duration": 15,
    "start_time": "2023-08-09T16:16:31.925Z"
   },
   {
    "duration": 6,
    "start_time": "2023-08-09T16:16:34.333Z"
   },
   {
    "duration": 17,
    "start_time": "2023-08-09T16:16:37.096Z"
   },
   {
    "duration": 17,
    "start_time": "2023-08-09T16:16:40.229Z"
   },
   {
    "duration": 6,
    "start_time": "2023-08-09T16:16:44.299Z"
   },
   {
    "duration": 86,
    "start_time": "2023-08-09T16:16:47.652Z"
   },
   {
    "duration": 12,
    "start_time": "2023-08-09T16:16:50.225Z"
   },
   {
    "duration": 5,
    "start_time": "2023-08-09T16:16:51.453Z"
   },
   {
    "duration": 231,
    "start_time": "2023-08-09T16:16:53.495Z"
   },
   {
    "duration": 10,
    "start_time": "2023-08-09T16:16:56.620Z"
   },
   {
    "duration": 17,
    "start_time": "2023-08-09T16:16:58.863Z"
   },
   {
    "duration": 10,
    "start_time": "2023-08-09T16:16:59.846Z"
   },
   {
    "duration": 8,
    "start_time": "2023-08-09T16:17:02.821Z"
   },
   {
    "duration": 279,
    "start_time": "2023-08-09T16:17:05.246Z"
   },
   {
    "duration": 14,
    "start_time": "2023-08-09T16:17:07.829Z"
   },
   {
    "duration": 11,
    "start_time": "2023-08-09T16:17:09.797Z"
   },
   {
    "duration": 6,
    "start_time": "2023-08-09T16:17:11.429Z"
   },
   {
    "duration": 15,
    "start_time": "2023-08-09T16:17:13.689Z"
   },
   {
    "duration": 11,
    "start_time": "2023-08-09T16:17:15.593Z"
   },
   {
    "duration": 7,
    "start_time": "2023-08-09T16:17:17.292Z"
   },
   {
    "duration": 19,
    "start_time": "2023-08-09T16:17:25.194Z"
   },
   {
    "duration": 19,
    "start_time": "2023-08-09T16:17:26.394Z"
   },
   {
    "duration": 18,
    "start_time": "2023-08-09T16:18:03.100Z"
   },
   {
    "duration": 17,
    "start_time": "2023-08-09T16:18:12.438Z"
   },
   {
    "duration": 19,
    "start_time": "2023-08-09T16:18:13.098Z"
   },
   {
    "duration": 19,
    "start_time": "2023-08-09T16:18:14.413Z"
   },
   {
    "duration": 37,
    "start_time": "2023-08-09T16:18:15.653Z"
   },
   {
    "duration": 7,
    "start_time": "2023-08-09T16:18:18.798Z"
   },
   {
    "duration": 31,
    "start_time": "2023-08-09T16:18:20.413Z"
   },
   {
    "duration": 17,
    "start_time": "2023-08-09T16:18:23.446Z"
   },
   {
    "duration": 21,
    "start_time": "2023-08-09T16:18:26.830Z"
   },
   {
    "duration": 20,
    "start_time": "2023-08-09T16:18:28.807Z"
   },
   {
    "duration": 26,
    "start_time": "2023-08-09T16:18:29.630Z"
   },
   {
    "duration": 46,
    "start_time": "2023-08-09T16:18:32.277Z"
   },
   {
    "duration": 81,
    "start_time": "2023-08-09T16:18:34.195Z"
   },
   {
    "duration": 6,
    "start_time": "2023-08-09T16:18:38.166Z"
   },
   {
    "duration": 103,
    "start_time": "2023-08-09T16:18:39.935Z"
   },
   {
    "duration": 4307,
    "start_time": "2023-08-09T16:18:45.631Z"
   },
   {
    "duration": 4628,
    "start_time": "2023-08-09T16:21:31.816Z"
   },
   {
    "duration": 4664,
    "start_time": "2023-08-09T16:39:03.218Z"
   },
   {
    "duration": 18,
    "start_time": "2023-08-09T16:41:46.933Z"
   },
   {
    "duration": 618,
    "start_time": "2023-08-09T16:50:45.042Z"
   },
   {
    "duration": 870,
    "start_time": "2023-08-09T16:52:31.346Z"
   },
   {
    "duration": 278,
    "start_time": "2023-08-09T16:52:44.410Z"
   },
   {
    "duration": 684,
    "start_time": "2023-08-09T16:52:52.635Z"
   },
   {
    "duration": 668,
    "start_time": "2023-08-09T16:53:03.953Z"
   },
   {
    "duration": 678,
    "start_time": "2023-08-09T16:53:09.033Z"
   },
   {
    "duration": 609,
    "start_time": "2023-08-09T16:53:16.795Z"
   },
   {
    "duration": 826,
    "start_time": "2023-08-09T16:54:30.445Z"
   },
   {
    "duration": 691,
    "start_time": "2023-08-09T17:00:30.721Z"
   },
   {
    "duration": 119,
    "start_time": "2023-08-09T17:14:50.946Z"
   },
   {
    "duration": 287,
    "start_time": "2023-08-09T17:21:05.206Z"
   },
   {
    "duration": 110,
    "start_time": "2023-08-09T17:26:19.131Z"
   },
   {
    "duration": 110,
    "start_time": "2023-08-09T17:27:49.403Z"
   },
   {
    "duration": 109,
    "start_time": "2023-08-09T17:28:11.427Z"
   },
   {
    "duration": 112,
    "start_time": "2023-08-09T17:29:34.419Z"
   },
   {
    "duration": 1693,
    "start_time": "2023-08-09T17:35:10.471Z"
   },
   {
    "duration": 34573,
    "start_time": "2023-08-09T17:36:04.799Z"
   },
   {
    "duration": 15,
    "start_time": "2023-08-09T17:37:35.159Z"
   },
   {
    "duration": 38130,
    "start_time": "2023-08-09T17:37:41.775Z"
   },
   {
    "duration": 127,
    "start_time": "2023-08-09T17:40:31.617Z"
   },
   {
    "duration": 106,
    "start_time": "2023-08-09T17:42:09.154Z"
   },
   {
    "duration": 118,
    "start_time": "2023-08-09T17:42:21.538Z"
   },
   {
    "duration": 100,
    "start_time": "2023-08-09T17:42:45.866Z"
   },
   {
    "duration": 19,
    "start_time": "2023-08-09T17:43:05.082Z"
   },
   {
    "duration": 44206,
    "start_time": "2023-08-09T17:43:42.468Z"
   },
   {
    "duration": 7,
    "start_time": "2023-08-09T17:47:04.506Z"
   },
   {
    "duration": 7,
    "start_time": "2023-08-09T17:48:29.895Z"
   },
   {
    "duration": 132,
    "start_time": "2023-08-09T17:48:33.895Z"
   },
   {
    "duration": 146,
    "start_time": "2023-08-09T18:01:51.222Z"
   },
   {
    "duration": 219,
    "start_time": "2023-08-09T18:02:40.496Z"
   },
   {
    "duration": 170,
    "start_time": "2023-08-09T18:04:20.167Z"
   },
   {
    "duration": 8,
    "start_time": "2023-08-09T18:04:30.741Z"
   },
   {
    "duration": 173,
    "start_time": "2023-08-09T18:04:42.431Z"
   },
   {
    "duration": 1610,
    "start_time": "2023-08-09T18:08:32.714Z"
   },
   {
    "duration": 189,
    "start_time": "2023-08-09T18:08:34.327Z"
   },
   {
    "duration": 17,
    "start_time": "2023-08-09T18:08:34.518Z"
   },
   {
    "duration": 36,
    "start_time": "2023-08-09T18:08:34.539Z"
   },
   {
    "duration": 22,
    "start_time": "2023-08-09T18:08:34.577Z"
   },
   {
    "duration": 12,
    "start_time": "2023-08-09T18:08:34.601Z"
   },
   {
    "duration": 375,
    "start_time": "2023-08-09T18:08:34.616Z"
   },
   {
    "duration": 364,
    "start_time": "2023-08-09T18:08:34.993Z"
   },
   {
    "duration": 6,
    "start_time": "2023-08-09T18:08:35.359Z"
   },
   {
    "duration": 27,
    "start_time": "2023-08-09T18:08:35.376Z"
   },
   {
    "duration": 275,
    "start_time": "2023-08-09T18:08:35.406Z"
   },
   {
    "duration": 24,
    "start_time": "2023-08-09T18:08:35.684Z"
   },
   {
    "duration": 22,
    "start_time": "2023-08-09T18:08:35.710Z"
   },
   {
    "duration": 9,
    "start_time": "2023-08-09T18:08:35.734Z"
   },
   {
    "duration": 39,
    "start_time": "2023-08-09T18:08:35.745Z"
   },
   {
    "duration": 28,
    "start_time": "2023-08-09T18:08:35.787Z"
   },
   {
    "duration": 17,
    "start_time": "2023-08-09T18:08:35.818Z"
   },
   {
    "duration": 20,
    "start_time": "2023-08-09T18:08:35.837Z"
   },
   {
    "duration": 56,
    "start_time": "2023-08-09T18:08:35.860Z"
   },
   {
    "duration": 17,
    "start_time": "2023-08-09T18:08:35.919Z"
   },
   {
    "duration": 318,
    "start_time": "2023-08-09T18:08:35.939Z"
   },
   {
    "duration": 21,
    "start_time": "2023-08-09T18:08:36.259Z"
   },
   {
    "duration": 22,
    "start_time": "2023-08-09T18:08:36.282Z"
   },
   {
    "duration": 9,
    "start_time": "2023-08-09T18:08:36.306Z"
   },
   {
    "duration": 8,
    "start_time": "2023-08-09T18:08:36.318Z"
   },
   {
    "duration": 422,
    "start_time": "2023-08-09T18:08:36.327Z"
   },
   {
    "duration": 35,
    "start_time": "2023-08-09T18:08:36.751Z"
   },
   {
    "duration": 13,
    "start_time": "2023-08-09T18:08:36.791Z"
   },
   {
    "duration": 9,
    "start_time": "2023-08-09T18:08:36.806Z"
   },
   {
    "duration": 20,
    "start_time": "2023-08-09T18:08:36.817Z"
   },
   {
    "duration": 35,
    "start_time": "2023-08-09T18:08:36.839Z"
   },
   {
    "duration": 10,
    "start_time": "2023-08-09T18:08:36.876Z"
   },
   {
    "duration": 45,
    "start_time": "2023-08-09T18:08:36.888Z"
   },
   {
    "duration": 43,
    "start_time": "2023-08-09T18:08:36.936Z"
   },
   {
    "duration": 23,
    "start_time": "2023-08-09T18:08:36.981Z"
   },
   {
    "duration": 70,
    "start_time": "2023-08-09T18:08:37.006Z"
   },
   {
    "duration": 8,
    "start_time": "2023-08-09T18:08:37.078Z"
   },
   {
    "duration": 40,
    "start_time": "2023-08-09T18:08:37.089Z"
   },
   {
    "duration": 49,
    "start_time": "2023-08-09T18:08:37.131Z"
   },
   {
    "duration": 127,
    "start_time": "2023-08-09T18:08:37.182Z"
   },
   {
    "duration": 25,
    "start_time": "2023-08-09T18:08:37.311Z"
   },
   {
    "duration": 49,
    "start_time": "2023-08-09T18:08:37.338Z"
   },
   {
    "duration": 34,
    "start_time": "2023-08-09T18:08:37.389Z"
   },
   {
    "duration": 94,
    "start_time": "2023-08-09T18:08:37.425Z"
   },
   {
    "duration": 99,
    "start_time": "2023-08-09T18:08:37.521Z"
   },
   {
    "duration": 7,
    "start_time": "2023-08-09T18:08:37.622Z"
   },
   {
    "duration": 175,
    "start_time": "2023-08-09T18:08:37.631Z"
   },
   {
    "duration": 1018,
    "start_time": "2023-08-09T18:08:37.808Z"
   },
   {
    "duration": 747,
    "start_time": "2023-08-09T18:08:38.829Z"
   },
   {
    "duration": 42438,
    "start_time": "2023-08-09T18:08:39.578Z"
   },
   {
    "duration": 10,
    "start_time": "2023-08-09T18:09:22.018Z"
   },
   {
    "duration": 11,
    "start_time": "2023-08-09T18:09:22.031Z"
   },
   {
    "duration": 57350,
    "start_time": "2023-08-09T18:09:22.043Z"
   },
   {
    "duration": 21,
    "start_time": "2023-08-09T18:10:19.395Z"
   },
   {
    "duration": 219,
    "start_time": "2023-08-09T18:10:19.417Z"
   },
   {
    "duration": 110,
    "start_time": "2023-08-09T18:10:19.638Z"
   },
   {
    "duration": 13,
    "start_time": "2023-08-09T18:10:19.750Z"
   },
   {
    "duration": 0,
    "start_time": "2023-08-09T18:10:19.765Z"
   },
   {
    "duration": 0,
    "start_time": "2023-08-09T18:10:19.766Z"
   },
   {
    "duration": 9,
    "start_time": "2023-08-09T18:12:36.025Z"
   },
   {
    "duration": 24,
    "start_time": "2023-08-09T18:12:59.244Z"
   },
   {
    "duration": 10,
    "start_time": "2023-08-09T18:14:05.904Z"
   },
   {
    "duration": 8,
    "start_time": "2023-08-09T18:16:05.243Z"
   },
   {
    "duration": 9,
    "start_time": "2023-08-09T18:17:43.540Z"
   },
   {
    "duration": 99,
    "start_time": "2023-08-09T18:18:51.004Z"
   },
   {
    "duration": 1592,
    "start_time": "2023-08-09T18:24:15.871Z"
   },
   {
    "duration": 188,
    "start_time": "2023-08-09T18:24:17.465Z"
   },
   {
    "duration": 16,
    "start_time": "2023-08-09T18:24:17.656Z"
   },
   {
    "duration": 25,
    "start_time": "2023-08-09T18:24:17.675Z"
   },
   {
    "duration": 18,
    "start_time": "2023-08-09T18:24:17.702Z"
   },
   {
    "duration": 18,
    "start_time": "2023-08-09T18:24:17.721Z"
   },
   {
    "duration": 358,
    "start_time": "2023-08-09T18:24:17.741Z"
   },
   {
    "duration": 284,
    "start_time": "2023-08-09T18:24:18.101Z"
   },
   {
    "duration": 7,
    "start_time": "2023-08-09T18:24:18.389Z"
   },
   {
    "duration": 31,
    "start_time": "2023-08-09T18:24:18.401Z"
   },
   {
    "duration": 268,
    "start_time": "2023-08-09T18:24:18.435Z"
   },
   {
    "duration": 19,
    "start_time": "2023-08-09T18:24:18.705Z"
   },
   {
    "duration": 20,
    "start_time": "2023-08-09T18:24:18.726Z"
   },
   {
    "duration": 28,
    "start_time": "2023-08-09T18:24:18.747Z"
   },
   {
    "duration": 19,
    "start_time": "2023-08-09T18:24:18.777Z"
   },
   {
    "duration": 21,
    "start_time": "2023-08-09T18:24:18.798Z"
   },
   {
    "duration": 27,
    "start_time": "2023-08-09T18:24:18.820Z"
   },
   {
    "duration": 29,
    "start_time": "2023-08-09T18:24:18.849Z"
   },
   {
    "duration": 16,
    "start_time": "2023-08-09T18:24:18.880Z"
   },
   {
    "duration": 43,
    "start_time": "2023-08-09T18:24:18.898Z"
   },
   {
    "duration": 289,
    "start_time": "2023-08-09T18:24:18.943Z"
   },
   {
    "duration": 11,
    "start_time": "2023-08-09T18:24:19.234Z"
   },
   {
    "duration": 37,
    "start_time": "2023-08-09T18:24:19.247Z"
   },
   {
    "duration": 8,
    "start_time": "2023-08-09T18:24:19.285Z"
   },
   {
    "duration": 12,
    "start_time": "2023-08-09T18:24:19.294Z"
   },
   {
    "duration": 329,
    "start_time": "2023-08-09T18:24:19.308Z"
   },
   {
    "duration": 15,
    "start_time": "2023-08-09T18:24:19.639Z"
   },
   {
    "duration": 11,
    "start_time": "2023-08-09T18:24:19.677Z"
   },
   {
    "duration": 7,
    "start_time": "2023-08-09T18:24:19.690Z"
   },
   {
    "duration": 23,
    "start_time": "2023-08-09T18:24:19.699Z"
   },
   {
    "duration": 27,
    "start_time": "2023-08-09T18:24:19.724Z"
   },
   {
    "duration": 10,
    "start_time": "2023-08-09T18:24:19.774Z"
   },
   {
    "duration": 30,
    "start_time": "2023-08-09T18:24:19.786Z"
   },
   {
    "duration": 18,
    "start_time": "2023-08-09T18:24:19.818Z"
   },
   {
    "duration": 54,
    "start_time": "2023-08-09T18:24:19.838Z"
   },
   {
    "duration": 38,
    "start_time": "2023-08-09T18:24:19.895Z"
   },
   {
    "duration": 9,
    "start_time": "2023-08-09T18:24:19.935Z"
   },
   {
    "duration": 74,
    "start_time": "2023-08-09T18:24:19.946Z"
   },
   {
    "duration": 18,
    "start_time": "2023-08-09T18:24:20.023Z"
   },
   {
    "duration": 118,
    "start_time": "2023-08-09T18:24:20.043Z"
   },
   {
    "duration": 29,
    "start_time": "2023-08-09T18:24:20.163Z"
   },
   {
    "duration": 41,
    "start_time": "2023-08-09T18:24:20.196Z"
   },
   {
    "duration": 51,
    "start_time": "2023-08-09T18:24:20.239Z"
   },
   {
    "duration": 66,
    "start_time": "2023-08-09T18:24:20.292Z"
   },
   {
    "duration": 145,
    "start_time": "2023-08-09T18:24:20.375Z"
   },
   {
    "duration": 10,
    "start_time": "2023-08-09T18:24:20.523Z"
   },
   {
    "duration": 140,
    "start_time": "2023-08-09T18:24:20.535Z"
   },
   {
    "duration": 81,
    "start_time": "2023-08-09T18:24:20.677Z"
   },
   {
    "duration": 691,
    "start_time": "2023-08-09T18:24:20.760Z"
   },
   {
    "duration": 724,
    "start_time": "2023-08-09T18:24:21.453Z"
   },
   {
    "duration": 11,
    "start_time": "2023-08-09T18:24:22.180Z"
   },
   {
    "duration": 18,
    "start_time": "2023-08-09T18:24:22.193Z"
   },
   {
    "duration": 53273,
    "start_time": "2023-08-09T18:24:22.214Z"
   },
   {
    "duration": 19,
    "start_time": "2023-08-09T18:25:15.489Z"
   },
   {
    "duration": 233,
    "start_time": "2023-08-09T18:25:15.510Z"
   },
   {
    "duration": 119,
    "start_time": "2023-08-09T18:25:15.745Z"
   },
   {
    "duration": 12,
    "start_time": "2023-08-09T18:25:15.866Z"
   },
   {
    "duration": 0,
    "start_time": "2023-08-09T18:25:15.879Z"
   },
   {
    "duration": 0,
    "start_time": "2023-08-09T18:25:15.881Z"
   },
   {
    "duration": 7,
    "start_time": "2023-08-09T19:05:32.655Z"
   },
   {
    "duration": 8,
    "start_time": "2023-08-09T19:05:56.104Z"
   },
   {
    "duration": 9,
    "start_time": "2023-08-09T19:10:45.539Z"
   },
   {
    "duration": 67812,
    "start_time": "2023-08-09T19:21:07.844Z"
   },
   {
    "duration": 100,
    "start_time": "2023-08-09T19:22:27.443Z"
   },
   {
    "duration": 54,
    "start_time": "2023-08-09T19:23:20.692Z"
   },
   {
    "duration": 8103259,
    "start_time": "2023-08-09T19:23:44.227Z"
   },
   {
    "duration": 10636390,
    "start_time": "2023-08-09T21:38:47.489Z"
   },
   {
    "duration": 9,
    "start_time": "2023-08-10T00:36:03.880Z"
   },
   {
    "duration": 7,
    "start_time": "2023-08-10T00:36:03.892Z"
   },
   {
    "duration": 15,
    "start_time": "2023-08-10T00:36:03.901Z"
   },
   {
    "duration": 5,
    "start_time": "2023-08-10T00:36:03.918Z"
   },
   {
    "duration": 14,
    "start_time": "2023-08-10T00:36:03.925Z"
   },
   {
    "duration": 503,
    "start_time": "2023-08-10T00:36:03.942Z"
   },
   {
    "duration": 6,
    "start_time": "2023-08-10T03:44:22.807Z"
   },
   {
    "duration": 6,
    "start_time": "2023-08-10T03:51:44.010Z"
   },
   {
    "duration": 6,
    "start_time": "2023-08-10T03:53:05.539Z"
   },
   {
    "duration": 120,
    "start_time": "2023-08-10T03:53:28.147Z"
   },
   {
    "duration": 10,
    "start_time": "2023-08-10T03:54:04.066Z"
   },
   {
    "duration": 10,
    "start_time": "2023-08-10T03:59:51.798Z"
   },
   {
    "duration": 323,
    "start_time": "2023-08-10T04:00:14.453Z"
   },
   {
    "duration": 11,
    "start_time": "2023-08-10T04:01:43.992Z"
   },
   {
    "duration": 10,
    "start_time": "2023-08-10T04:05:03.441Z"
   },
   {
    "duration": 18,
    "start_time": "2023-08-10T04:06:07.383Z"
   },
   {
    "duration": 1732,
    "start_time": "2023-08-10T04:09:53.765Z"
   },
   {
    "duration": 1552,
    "start_time": "2023-08-10T04:10:12.686Z"
   },
   {
    "duration": 1535,
    "start_time": "2023-08-10T04:10:41.434Z"
   },
   {
    "duration": 1414,
    "start_time": "2023-08-10T04:11:23.611Z"
   },
   {
    "duration": 1674,
    "start_time": "2023-08-10T04:19:18.553Z"
   },
   {
    "duration": 2296,
    "start_time": "2023-08-10T23:30:38.825Z"
   },
   {
    "duration": 962,
    "start_time": "2023-08-10T23:30:41.132Z"
   },
   {
    "duration": 59,
    "start_time": "2023-08-10T23:30:42.096Z"
   },
   {
    "duration": 31,
    "start_time": "2023-08-10T23:30:42.156Z"
   },
   {
    "duration": 81,
    "start_time": "2023-08-10T23:30:42.189Z"
   },
   {
    "duration": 9,
    "start_time": "2023-08-10T23:30:42.271Z"
   },
   {
    "duration": 456,
    "start_time": "2023-08-10T23:30:42.281Z"
   },
   {
    "duration": 262,
    "start_time": "2023-08-10T23:30:42.758Z"
   },
   {
    "duration": 8,
    "start_time": "2023-08-10T23:30:43.021Z"
   },
   {
    "duration": 35,
    "start_time": "2023-08-10T23:30:43.030Z"
   },
   {
    "duration": 276,
    "start_time": "2023-08-10T23:30:43.067Z"
   },
   {
    "duration": 21,
    "start_time": "2023-08-10T23:30:43.344Z"
   },
   {
    "duration": 14,
    "start_time": "2023-08-10T23:30:43.367Z"
   },
   {
    "duration": 6,
    "start_time": "2023-08-10T23:30:43.384Z"
   },
   {
    "duration": 57,
    "start_time": "2023-08-10T23:30:43.391Z"
   },
   {
    "duration": 15,
    "start_time": "2023-08-10T23:30:43.458Z"
   },
   {
    "duration": 7,
    "start_time": "2023-08-10T23:30:43.475Z"
   },
   {
    "duration": 13,
    "start_time": "2023-08-10T23:30:43.483Z"
   },
   {
    "duration": 81,
    "start_time": "2023-08-10T23:30:43.498Z"
   },
   {
    "duration": 12,
    "start_time": "2023-08-10T23:30:43.581Z"
   },
   {
    "duration": 375,
    "start_time": "2023-08-10T23:30:43.594Z"
   },
   {
    "duration": 16,
    "start_time": "2023-08-10T23:30:43.971Z"
   },
   {
    "duration": 68,
    "start_time": "2023-08-10T23:30:43.988Z"
   },
   {
    "duration": 50,
    "start_time": "2023-08-10T23:30:44.065Z"
   },
   {
    "duration": 92,
    "start_time": "2023-08-10T23:30:44.121Z"
   },
   {
    "duration": 392,
    "start_time": "2023-08-10T23:30:44.217Z"
   },
   {
    "duration": 49,
    "start_time": "2023-08-10T23:30:44.611Z"
   },
   {
    "duration": 28,
    "start_time": "2023-08-10T23:30:44.662Z"
   },
   {
    "duration": 71,
    "start_time": "2023-08-10T23:30:44.692Z"
   },
   {
    "duration": 30,
    "start_time": "2023-08-10T23:30:44.765Z"
   },
   {
    "duration": 74,
    "start_time": "2023-08-10T23:30:44.797Z"
   },
   {
    "duration": 25,
    "start_time": "2023-08-10T23:30:44.872Z"
   },
   {
    "duration": 85,
    "start_time": "2023-08-10T23:30:44.903Z"
   },
   {
    "duration": 93,
    "start_time": "2023-08-10T23:30:44.990Z"
   },
   {
    "duration": 56,
    "start_time": "2023-08-10T23:30:45.085Z"
   },
   {
    "duration": 49,
    "start_time": "2023-08-10T23:30:45.142Z"
   },
   {
    "duration": 12,
    "start_time": "2023-08-10T23:30:45.193Z"
   },
   {
    "duration": 129,
    "start_time": "2023-08-10T23:30:45.208Z"
   },
   {
    "duration": 82,
    "start_time": "2023-08-10T23:30:45.339Z"
   },
   {
    "duration": 159,
    "start_time": "2023-08-10T23:30:45.430Z"
   },
   {
    "duration": 44,
    "start_time": "2023-08-10T23:30:45.594Z"
   },
   {
    "duration": 57,
    "start_time": "2023-08-10T23:30:45.639Z"
   },
   {
    "duration": 118,
    "start_time": "2023-08-10T23:30:45.697Z"
   },
   {
    "duration": 97,
    "start_time": "2023-08-10T23:30:45.816Z"
   },
   {
    "duration": 138,
    "start_time": "2023-08-10T23:30:45.926Z"
   },
   {
    "duration": 51,
    "start_time": "2023-08-10T23:30:46.066Z"
   },
   {
    "duration": 270,
    "start_time": "2023-08-10T23:30:46.118Z"
   },
   {
    "duration": 198,
    "start_time": "2023-08-10T23:30:46.390Z"
   },
   {
    "duration": 801,
    "start_time": "2023-08-10T23:30:46.590Z"
   },
   {
    "duration": 767,
    "start_time": "2023-08-10T23:30:47.394Z"
   },
   {
    "duration": 13,
    "start_time": "2023-08-10T23:30:48.165Z"
   },
   {
    "duration": 57,
    "start_time": "2023-08-10T23:30:57.430Z"
   },
   {
    "duration": 66,
    "start_time": "2023-08-10T23:31:10.358Z"
   },
   {
    "duration": 4,
    "start_time": "2023-08-10T23:31:19.086Z"
   },
   {
    "duration": 66,
    "start_time": "2023-08-11T07:14:09.564Z"
   },
   {
    "duration": 1965,
    "start_time": "2023-08-11T07:15:31.059Z"
   },
   {
    "duration": 837,
    "start_time": "2023-08-11T07:15:33.036Z"
   },
   {
    "duration": 18,
    "start_time": "2023-08-11T07:15:33.874Z"
   },
   {
    "duration": 49,
    "start_time": "2023-08-11T07:15:33.896Z"
   },
   {
    "duration": 38,
    "start_time": "2023-08-11T07:15:33.947Z"
   },
   {
    "duration": 62,
    "start_time": "2023-08-11T07:15:33.987Z"
   },
   {
    "duration": 415,
    "start_time": "2023-08-11T07:15:34.051Z"
   },
   {
    "duration": 311,
    "start_time": "2023-08-11T07:15:34.467Z"
   },
   {
    "duration": 5,
    "start_time": "2023-08-11T07:15:34.781Z"
   },
   {
    "duration": 64,
    "start_time": "2023-08-11T07:15:34.789Z"
   },
   {
    "duration": 297,
    "start_time": "2023-08-11T07:15:34.855Z"
   },
   {
    "duration": 22,
    "start_time": "2023-08-11T07:15:35.153Z"
   },
   {
    "duration": 21,
    "start_time": "2023-08-11T07:15:35.177Z"
   },
   {
    "duration": 131,
    "start_time": "2023-08-11T07:15:35.201Z"
   },
   {
    "duration": 80,
    "start_time": "2023-08-11T07:15:35.334Z"
   },
   {
    "duration": 135,
    "start_time": "2023-08-11T07:15:35.416Z"
   },
   {
    "duration": 84,
    "start_time": "2023-08-11T07:15:35.553Z"
   },
   {
    "duration": 52,
    "start_time": "2023-08-11T07:15:35.641Z"
   },
   {
    "duration": 73,
    "start_time": "2023-08-11T07:15:35.698Z"
   },
   {
    "duration": 37,
    "start_time": "2023-08-11T07:15:35.773Z"
   },
   {
    "duration": 357,
    "start_time": "2023-08-11T07:15:35.812Z"
   },
   {
    "duration": 12,
    "start_time": "2023-08-11T07:15:36.171Z"
   },
   {
    "duration": 62,
    "start_time": "2023-08-11T07:15:36.197Z"
   },
   {
    "duration": 16,
    "start_time": "2023-08-11T07:15:36.261Z"
   },
   {
    "duration": 29,
    "start_time": "2023-08-11T07:15:36.279Z"
   },
   {
    "duration": 477,
    "start_time": "2023-08-11T07:15:36.310Z"
   },
   {
    "duration": 38,
    "start_time": "2023-08-11T07:15:36.790Z"
   },
   {
    "duration": 28,
    "start_time": "2023-08-11T07:15:36.835Z"
   },
   {
    "duration": 16,
    "start_time": "2023-08-11T07:15:36.864Z"
   },
   {
    "duration": 27,
    "start_time": "2023-08-11T07:15:36.882Z"
   },
   {
    "duration": 31,
    "start_time": "2023-08-11T07:15:36.916Z"
   },
   {
    "duration": 20,
    "start_time": "2023-08-11T07:15:36.951Z"
   },
   {
    "duration": 44,
    "start_time": "2023-08-11T07:15:36.973Z"
   },
   {
    "duration": 49,
    "start_time": "2023-08-11T07:15:37.019Z"
   },
   {
    "duration": 20,
    "start_time": "2023-08-11T07:15:37.070Z"
   },
   {
    "duration": 54,
    "start_time": "2023-08-11T07:15:37.092Z"
   },
   {
    "duration": 11,
    "start_time": "2023-08-11T07:15:37.148Z"
   },
   {
    "duration": 57,
    "start_time": "2023-08-11T07:15:37.161Z"
   },
   {
    "duration": 26,
    "start_time": "2023-08-11T07:15:37.230Z"
   },
   {
    "duration": 101,
    "start_time": "2023-08-11T07:15:37.258Z"
   },
   {
    "duration": 22,
    "start_time": "2023-08-11T07:15:37.361Z"
   },
   {
    "duration": 52,
    "start_time": "2023-08-11T07:15:37.385Z"
   },
   {
    "duration": 40,
    "start_time": "2023-08-11T07:15:37.439Z"
   },
   {
    "duration": 54,
    "start_time": "2023-08-11T07:15:37.480Z"
   },
   {
    "duration": 124,
    "start_time": "2023-08-11T07:15:37.536Z"
   },
   {
    "duration": 6,
    "start_time": "2023-08-11T07:15:37.662Z"
   },
   {
    "duration": 132,
    "start_time": "2023-08-11T07:15:37.669Z"
   },
   {
    "duration": 93,
    "start_time": "2023-08-11T07:15:37.803Z"
   },
   {
    "duration": 774,
    "start_time": "2023-08-11T07:15:37.899Z"
   },
   {
    "duration": 775,
    "start_time": "2023-08-11T07:15:38.675Z"
   },
   {
    "duration": 7,
    "start_time": "2023-08-11T07:15:39.452Z"
   },
   {
    "duration": 7,
    "start_time": "2023-08-11T07:15:39.461Z"
   },
   {
    "duration": 82115,
    "start_time": "2023-08-11T07:15:39.469Z"
   },
   {
    "duration": 255,
    "start_time": "2023-08-11T07:17:01.586Z"
   },
   {
    "duration": 9,
    "start_time": "2023-08-11T07:17:01.843Z"
   },
   {
    "duration": 0,
    "start_time": "2023-08-11T07:17:01.853Z"
   },
   {
    "duration": 0,
    "start_time": "2023-08-11T07:17:01.854Z"
   },
   {
    "duration": 0,
    "start_time": "2023-08-11T07:17:01.855Z"
   },
   {
    "duration": 0,
    "start_time": "2023-08-11T07:17:01.857Z"
   },
   {
    "duration": 4,
    "start_time": "2023-08-11T07:19:34.975Z"
   },
   {
    "duration": 14,
    "start_time": "2023-08-11T07:20:02.531Z"
   },
   {
    "duration": 8,
    "start_time": "2023-08-11T07:20:12.229Z"
   },
   {
    "duration": 9,
    "start_time": "2023-08-11T07:24:07.826Z"
   },
   {
    "duration": 4,
    "start_time": "2023-08-11T07:24:08.426Z"
   },
   {
    "duration": 18,
    "start_time": "2023-08-11T07:24:29.228Z"
   },
   {
    "duration": 4,
    "start_time": "2023-08-11T07:24:30.283Z"
   },
   {
    "duration": 17,
    "start_time": "2023-08-11T07:24:42.355Z"
   },
   {
    "duration": 1746,
    "start_time": "2023-08-11T07:25:01.847Z"
   },
   {
    "duration": 245,
    "start_time": "2023-08-11T07:25:03.595Z"
   },
   {
    "duration": 16,
    "start_time": "2023-08-11T07:25:03.842Z"
   },
   {
    "duration": 13,
    "start_time": "2023-08-11T07:25:03.861Z"
   },
   {
    "duration": 8,
    "start_time": "2023-08-11T07:25:03.876Z"
   },
   {
    "duration": 18,
    "start_time": "2023-08-11T07:25:03.886Z"
   },
   {
    "duration": 354,
    "start_time": "2023-08-11T07:25:03.906Z"
   },
   {
    "duration": 349,
    "start_time": "2023-08-11T07:25:04.262Z"
   },
   {
    "duration": 12,
    "start_time": "2023-08-11T07:25:04.615Z"
   },
   {
    "duration": 34,
    "start_time": "2023-08-11T07:25:04.631Z"
   },
   {
    "duration": 304,
    "start_time": "2023-08-11T07:25:04.667Z"
   },
   {
    "duration": 27,
    "start_time": "2023-08-11T07:25:04.973Z"
   },
   {
    "duration": 61,
    "start_time": "2023-08-11T07:25:05.002Z"
   },
   {
    "duration": 67,
    "start_time": "2023-08-11T07:25:05.065Z"
   },
   {
    "duration": 28,
    "start_time": "2023-08-11T07:25:05.134Z"
   },
   {
    "duration": 33,
    "start_time": "2023-08-11T07:25:05.164Z"
   },
   {
    "duration": 35,
    "start_time": "2023-08-11T07:25:05.204Z"
   },
   {
    "duration": 48,
    "start_time": "2023-08-11T07:25:05.241Z"
   },
   {
    "duration": 22,
    "start_time": "2023-08-11T07:25:05.292Z"
   },
   {
    "duration": 23,
    "start_time": "2023-08-11T07:25:05.316Z"
   },
   {
    "duration": 331,
    "start_time": "2023-08-11T07:25:05.341Z"
   },
   {
    "duration": 21,
    "start_time": "2023-08-11T07:25:05.673Z"
   },
   {
    "duration": 52,
    "start_time": "2023-08-11T07:25:05.699Z"
   },
   {
    "duration": 39,
    "start_time": "2023-08-11T07:25:05.753Z"
   },
   {
    "duration": 36,
    "start_time": "2023-08-11T07:25:05.803Z"
   },
   {
    "duration": 321,
    "start_time": "2023-08-11T07:25:05.841Z"
   },
   {
    "duration": 30,
    "start_time": "2023-08-11T07:25:06.197Z"
   },
   {
    "duration": 16,
    "start_time": "2023-08-11T07:25:06.230Z"
   },
   {
    "duration": 6,
    "start_time": "2023-08-11T07:25:06.248Z"
   },
   {
    "duration": 16,
    "start_time": "2023-08-11T07:25:06.256Z"
   },
   {
    "duration": 27,
    "start_time": "2023-08-11T07:25:06.274Z"
   },
   {
    "duration": 45,
    "start_time": "2023-08-11T07:25:06.304Z"
   },
   {
    "duration": 38,
    "start_time": "2023-08-11T07:25:06.351Z"
   },
   {
    "duration": 35,
    "start_time": "2023-08-11T07:25:06.391Z"
   },
   {
    "duration": 46,
    "start_time": "2023-08-11T07:25:06.428Z"
   },
   {
    "duration": 51,
    "start_time": "2023-08-11T07:25:06.476Z"
   },
   {
    "duration": 8,
    "start_time": "2023-08-11T07:25:06.531Z"
   },
   {
    "duration": 47,
    "start_time": "2023-08-11T07:25:06.540Z"
   },
   {
    "duration": 28,
    "start_time": "2023-08-11T07:25:06.591Z"
   },
   {
    "duration": 158,
    "start_time": "2023-08-11T07:25:06.626Z"
   },
   {
    "duration": 43,
    "start_time": "2023-08-11T07:25:06.786Z"
   },
   {
    "duration": 109,
    "start_time": "2023-08-11T07:25:06.833Z"
   },
   {
    "duration": 45,
    "start_time": "2023-08-11T07:25:06.945Z"
   },
   {
    "duration": 135,
    "start_time": "2023-08-11T07:25:06.992Z"
   },
   {
    "duration": 98,
    "start_time": "2023-08-11T07:25:07.130Z"
   },
   {
    "duration": 6,
    "start_time": "2023-08-11T07:25:07.230Z"
   },
   {
    "duration": 124,
    "start_time": "2023-08-11T07:25:07.238Z"
   },
   {
    "duration": 94,
    "start_time": "2023-08-11T07:25:07.364Z"
   },
   {
    "duration": 788,
    "start_time": "2023-08-11T07:25:07.460Z"
   },
   {
    "duration": 780,
    "start_time": "2023-08-11T07:25:08.250Z"
   },
   {
    "duration": 5,
    "start_time": "2023-08-11T07:25:09.032Z"
   },
   {
    "duration": 40,
    "start_time": "2023-08-11T07:25:09.039Z"
   },
   {
    "duration": 23,
    "start_time": "2023-08-11T07:25:09.081Z"
   },
   {
    "duration": 66234,
    "start_time": "2023-08-11T07:25:09.106Z"
   },
   {
    "duration": 282,
    "start_time": "2023-08-11T07:26:15.342Z"
   },
   {
    "duration": 10,
    "start_time": "2023-08-11T07:26:15.625Z"
   },
   {
    "duration": 0,
    "start_time": "2023-08-11T07:26:15.637Z"
   },
   {
    "duration": 0,
    "start_time": "2023-08-11T07:26:15.639Z"
   },
   {
    "duration": 0,
    "start_time": "2023-08-11T07:26:15.639Z"
   },
   {
    "duration": 0,
    "start_time": "2023-08-11T07:26:15.641Z"
   },
   {
    "duration": 65523,
    "start_time": "2023-08-11T07:30:12.558Z"
   },
   {
    "duration": 119,
    "start_time": "2023-08-11T07:31:29.134Z"
   },
   {
    "duration": 6009627,
    "start_time": "2023-08-11T07:31:42.887Z"
   },
   {
    "duration": 11136458,
    "start_time": "2023-08-11T09:13:14.634Z"
   },
   {
    "duration": 9,
    "start_time": "2023-08-11T12:19:10.145Z"
   },
   {
    "duration": 5,
    "start_time": "2023-08-11T12:20:32.388Z"
   },
   {
    "duration": 14,
    "start_time": "2023-08-11T12:20:34.440Z"
   },
   {
    "duration": 13,
    "start_time": "2023-08-11T12:20:36.935Z"
   },
   {
    "duration": 6,
    "start_time": "2023-08-11T12:20:44.741Z"
   },
   {
    "duration": 2170,
    "start_time": "2023-08-11T12:21:02.388Z"
   },
   {
    "duration": 1730,
    "start_time": "2023-08-11T13:17:53.928Z"
   },
   {
    "duration": 234,
    "start_time": "2023-08-11T13:17:55.660Z"
   },
   {
    "duration": 23,
    "start_time": "2023-08-11T13:17:55.896Z"
   },
   {
    "duration": 29,
    "start_time": "2023-08-11T13:17:55.922Z"
   },
   {
    "duration": 12,
    "start_time": "2023-08-11T13:17:55.953Z"
   },
   {
    "duration": 12,
    "start_time": "2023-08-11T13:17:55.967Z"
   },
   {
    "duration": 362,
    "start_time": "2023-08-11T13:17:55.980Z"
   },
   {
    "duration": 371,
    "start_time": "2023-08-11T13:17:56.345Z"
   },
   {
    "duration": 9,
    "start_time": "2023-08-11T13:17:56.720Z"
   },
   {
    "duration": 22,
    "start_time": "2023-08-11T13:17:56.735Z"
   },
   {
    "duration": 321,
    "start_time": "2023-08-11T13:17:56.759Z"
   },
   {
    "duration": 44,
    "start_time": "2023-08-11T13:17:57.083Z"
   },
   {
    "duration": 25,
    "start_time": "2023-08-11T13:17:57.131Z"
   },
   {
    "duration": 10,
    "start_time": "2023-08-11T13:17:57.157Z"
   },
   {
    "duration": 27,
    "start_time": "2023-08-11T13:17:57.168Z"
   },
   {
    "duration": 55,
    "start_time": "2023-08-11T13:17:57.197Z"
   },
   {
    "duration": 11,
    "start_time": "2023-08-11T13:17:57.255Z"
   },
   {
    "duration": 36,
    "start_time": "2023-08-11T13:17:57.268Z"
   },
   {
    "duration": 55,
    "start_time": "2023-08-11T13:17:57.305Z"
   },
   {
    "duration": 13,
    "start_time": "2023-08-11T13:17:57.362Z"
   },
   {
    "duration": 295,
    "start_time": "2023-08-11T13:17:57.376Z"
   },
   {
    "duration": 24,
    "start_time": "2023-08-11T13:17:57.673Z"
   },
   {
    "duration": 21,
    "start_time": "2023-08-11T13:17:57.699Z"
   },
   {
    "duration": 16,
    "start_time": "2023-08-11T13:17:57.726Z"
   },
   {
    "duration": 10,
    "start_time": "2023-08-11T13:17:57.744Z"
   },
   {
    "duration": 357,
    "start_time": "2023-08-11T13:17:57.755Z"
   },
   {
    "duration": 23,
    "start_time": "2023-08-11T13:17:58.114Z"
   },
   {
    "duration": 11,
    "start_time": "2023-08-11T13:17:58.140Z"
   },
   {
    "duration": 6,
    "start_time": "2023-08-11T13:17:58.153Z"
   },
   {
    "duration": 40,
    "start_time": "2023-08-11T13:17:58.161Z"
   },
   {
    "duration": 29,
    "start_time": "2023-08-11T13:17:58.204Z"
   },
   {
    "duration": 7,
    "start_time": "2023-08-11T13:17:58.235Z"
   },
   {
    "duration": 21,
    "start_time": "2023-08-11T13:17:58.244Z"
   },
   {
    "duration": 32,
    "start_time": "2023-08-11T13:17:58.268Z"
   },
   {
    "duration": 26,
    "start_time": "2023-08-11T13:17:58.304Z"
   },
   {
    "duration": 48,
    "start_time": "2023-08-11T13:17:58.333Z"
   },
   {
    "duration": 24,
    "start_time": "2023-08-11T13:17:58.382Z"
   },
   {
    "duration": 57,
    "start_time": "2023-08-11T13:17:58.412Z"
   },
   {
    "duration": 16,
    "start_time": "2023-08-11T13:17:58.470Z"
   },
   {
    "duration": 135,
    "start_time": "2023-08-11T13:17:58.488Z"
   },
   {
    "duration": 30,
    "start_time": "2023-08-11T13:17:58.625Z"
   },
   {
    "duration": 29,
    "start_time": "2023-08-11T13:17:58.657Z"
   },
   {
    "duration": 36,
    "start_time": "2023-08-11T13:17:58.696Z"
   },
   {
    "duration": 46,
    "start_time": "2023-08-11T13:17:58.735Z"
   },
   {
    "duration": 118,
    "start_time": "2023-08-11T13:17:58.797Z"
   },
   {
    "duration": 12,
    "start_time": "2023-08-11T13:17:58.920Z"
   },
   {
    "duration": 134,
    "start_time": "2023-08-11T13:17:58.934Z"
   },
   {
    "duration": 109,
    "start_time": "2023-08-11T13:17:59.070Z"
   },
   {
    "duration": 781,
    "start_time": "2023-08-11T13:17:59.181Z"
   },
   {
    "duration": 832,
    "start_time": "2023-08-11T13:17:59.964Z"
   },
   {
    "duration": 9,
    "start_time": "2023-08-11T13:18:00.806Z"
   },
   {
    "duration": 108,
    "start_time": "2023-08-11T13:18:00.818Z"
   },
   {
    "duration": 34,
    "start_time": "2023-08-11T13:18:00.929Z"
   },
   {
    "duration": 71214,
    "start_time": "2023-08-11T13:18:00.966Z"
   },
   {
    "duration": 8201,
    "start_time": "2023-08-11T13:19:12.182Z"
   },
   {
    "duration": 8,
    "start_time": "2023-08-11T13:19:20.385Z"
   },
   {
    "duration": 40,
    "start_time": "2023-08-11T13:19:20.400Z"
   },
   {
    "duration": 22,
    "start_time": "2023-08-11T13:19:20.442Z"
   },
   {
    "duration": 69,
    "start_time": "2023-08-11T13:19:20.466Z"
   },
   {
    "duration": 18,
    "start_time": "2023-08-11T13:19:20.537Z"
   },
   {
    "duration": 29,
    "start_time": "2023-08-11T13:19:20.556Z"
   },
   {
    "duration": 10,
    "start_time": "2023-08-11T13:21:47.162Z"
   },
   {
    "duration": 2140,
    "start_time": "2023-08-11T13:22:21.665Z"
   },
   {
    "duration": 2127,
    "start_time": "2023-08-11T16:26:46.788Z"
   },
   {
    "duration": 293,
    "start_time": "2023-08-11T16:26:48.917Z"
   },
   {
    "duration": 1003,
    "start_time": "2023-08-11T16:26:49.219Z"
   },
   {
    "duration": 319,
    "start_time": "2023-08-11T16:26:50.224Z"
   },
   {
    "duration": 35,
    "start_time": "2023-08-11T16:26:50.546Z"
   },
   {
    "duration": 63,
    "start_time": "2023-08-11T16:26:50.583Z"
   },
   {
    "duration": 380,
    "start_time": "2023-08-11T16:26:50.648Z"
   },
   {
    "duration": 377,
    "start_time": "2023-08-11T16:26:51.030Z"
   },
   {
    "duration": 6,
    "start_time": "2023-08-11T16:26:51.409Z"
   },
   {
    "duration": 97,
    "start_time": "2023-08-11T16:26:51.417Z"
   },
   {
    "duration": 317,
    "start_time": "2023-08-11T16:26:51.516Z"
   },
   {
    "duration": 43,
    "start_time": "2023-08-11T16:26:51.834Z"
   },
   {
    "duration": 56,
    "start_time": "2023-08-11T16:26:51.879Z"
   },
   {
    "duration": 84,
    "start_time": "2023-08-11T16:26:51.938Z"
   },
   {
    "duration": 72,
    "start_time": "2023-08-11T16:26:52.025Z"
   },
   {
    "duration": 41,
    "start_time": "2023-08-11T16:26:52.106Z"
   },
   {
    "duration": 80,
    "start_time": "2023-08-11T16:26:52.149Z"
   },
   {
    "duration": 24,
    "start_time": "2023-08-11T16:26:52.231Z"
   },
   {
    "duration": 73,
    "start_time": "2023-08-11T16:26:52.258Z"
   },
   {
    "duration": 21,
    "start_time": "2023-08-11T16:26:52.332Z"
   },
   {
    "duration": 337,
    "start_time": "2023-08-11T16:26:52.354Z"
   },
   {
    "duration": 20,
    "start_time": "2023-08-11T16:26:52.702Z"
   },
   {
    "duration": 26,
    "start_time": "2023-08-11T16:26:52.724Z"
   },
   {
    "duration": 70,
    "start_time": "2023-08-11T16:26:52.752Z"
   },
   {
    "duration": 26,
    "start_time": "2023-08-11T16:26:52.824Z"
   },
   {
    "duration": 413,
    "start_time": "2023-08-11T16:26:52.853Z"
   },
   {
    "duration": 21,
    "start_time": "2023-08-11T16:26:53.268Z"
   },
   {
    "duration": 73,
    "start_time": "2023-08-11T16:26:53.291Z"
   },
   {
    "duration": 74,
    "start_time": "2023-08-11T16:26:53.366Z"
   },
   {
    "duration": 146,
    "start_time": "2023-08-11T16:26:53.441Z"
   },
   {
    "duration": 42,
    "start_time": "2023-08-11T16:26:53.590Z"
   },
   {
    "duration": 18,
    "start_time": "2023-08-11T16:26:53.635Z"
   },
   {
    "duration": 96,
    "start_time": "2023-08-11T16:26:53.655Z"
   },
   {
    "duration": 69,
    "start_time": "2023-08-11T16:26:53.753Z"
   },
   {
    "duration": 173,
    "start_time": "2023-08-11T16:26:53.825Z"
   },
   {
    "duration": 83,
    "start_time": "2023-08-11T16:26:54.007Z"
   },
   {
    "duration": 19,
    "start_time": "2023-08-11T16:26:54.098Z"
   },
   {
    "duration": 46,
    "start_time": "2023-08-11T16:26:54.121Z"
   },
   {
    "duration": 21,
    "start_time": "2023-08-11T16:26:54.169Z"
   },
   {
    "duration": 156,
    "start_time": "2023-08-11T16:26:54.192Z"
   },
   {
    "duration": 24,
    "start_time": "2023-08-11T16:26:54.353Z"
   },
   {
    "duration": 61,
    "start_time": "2023-08-11T16:26:54.379Z"
   },
   {
    "duration": 37,
    "start_time": "2023-08-11T16:26:54.442Z"
   },
   {
    "duration": 92,
    "start_time": "2023-08-11T16:26:54.484Z"
   },
   {
    "duration": 131,
    "start_time": "2023-08-11T16:26:54.579Z"
   },
   {
    "duration": 11,
    "start_time": "2023-08-11T16:26:54.713Z"
   },
   {
    "duration": 154,
    "start_time": "2023-08-11T16:26:54.729Z"
   },
   {
    "duration": 100,
    "start_time": "2023-08-11T16:26:54.885Z"
   },
   {
    "duration": 819,
    "start_time": "2023-08-11T16:26:54.991Z"
   },
   {
    "duration": 782,
    "start_time": "2023-08-11T16:26:55.812Z"
   },
   {
    "duration": 8,
    "start_time": "2023-08-11T16:26:56.600Z"
   },
   {
    "duration": 87,
    "start_time": "2023-08-11T16:26:56.610Z"
   },
   {
    "duration": 34,
    "start_time": "2023-08-11T16:26:56.702Z"
   },
   {
    "duration": 74051,
    "start_time": "2023-08-11T16:26:56.738Z"
   },
   {
    "duration": 384,
    "start_time": "2023-08-11T16:29:23.502Z"
   },
   {
    "duration": 178,
    "start_time": "2023-08-11T16:29:41.108Z"
   },
   {
    "duration": 2320,
    "start_time": "2023-08-11T16:30:00.356Z"
   }
  ],
  "kernelspec": {
   "display_name": "Python 3 (ipykernel)",
   "language": "python",
   "name": "python3"
  },
  "language_info": {
   "codemirror_mode": {
    "name": "ipython",
    "version": 3
   },
   "file_extension": ".py",
   "mimetype": "text/x-python",
   "name": "python",
   "nbconvert_exporter": "python",
   "pygments_lexer": "ipython3",
   "version": "3.9.5"
  },
  "toc": {
   "base_numbering": 1,
   "nav_menu": {},
   "number_sections": true,
   "sideBar": true,
   "skip_h1_title": true,
   "title_cell": "Table of Contents",
   "title_sidebar": "Contents",
   "toc_cell": false,
   "toc_position": {},
   "toc_section_display": true,
   "toc_window_display": false
  }
 },
 "nbformat": 4,
 "nbformat_minor": 5
}
