{
 "cells": [
  {
   "cell_type": "markdown",
   "metadata": {},
   "source": [
    "# Исследование объявлений о продаже квартир\n",
    "\n",
    "В нашем распоряжении данные сервиса Яндекс.Недвижимость — архив объявлений о продаже квартир в Санкт-Петербурге и соседних населённых пунктов за несколько лет. Нужно научиться определять рыночную стоимость объектов недвижимости. Наша задача — установить параметры. Это позволит построить автоматизированную систему: она отследит аномалии и мошенническую деятельность. \n",
    "\n",
    "По каждой квартире на продажу доступны два вида данных. Первые вписаны пользователем, вторые — получены автоматически на основе картографических данных. Например, расстояние до центра, аэропорта, ближайшего парка и водоёма. "
   ]
  },
  {
   "cell_type": "markdown",
   "metadata": {},
   "source": [
    "### Откроем файл с данными и изучите общую информацию. "
   ]
  },
  {
   "cell_type": "code",
   "execution_count": 1,
   "metadata": {
    "scrolled": true
   },
   "outputs": [
    {
     "name": "stdout",
     "output_type": "stream",
     "text": [
      "<class 'pandas.core.frame.DataFrame'>\n",
      "RangeIndex: 23699 entries, 0 to 23698\n",
      "Data columns (total 22 columns):\n",
      " #   Column                Non-Null Count  Dtype  \n",
      "---  ------                --------------  -----  \n",
      " 0   total_images          23699 non-null  int64  \n",
      " 1   last_price            23699 non-null  float64\n",
      " 2   total_area            23699 non-null  float64\n",
      " 3   first_day_exposition  23699 non-null  object \n",
      " 4   rooms                 23699 non-null  int64  \n",
      " 5   ceiling_height        14504 non-null  float64\n",
      " 6   floors_total          23613 non-null  float64\n",
      " 7   living_area           21796 non-null  float64\n",
      " 8   floor                 23699 non-null  int64  \n",
      " 9   is_apartment          2775 non-null   object \n",
      " 10  studio                23699 non-null  bool   \n",
      " 11  open_plan             23699 non-null  bool   \n",
      " 12  kitchen_area          21421 non-null  float64\n",
      " 13  balcony               12180 non-null  float64\n",
      " 14  locality_name         23650 non-null  object \n",
      " 15  airports_nearest      18157 non-null  float64\n",
      " 16  cityCenters_nearest   18180 non-null  float64\n",
      " 17  parks_around3000      18181 non-null  float64\n",
      " 18  parks_nearest         8079 non-null   float64\n",
      " 19  ponds_around3000      18181 non-null  float64\n",
      " 20  ponds_nearest         9110 non-null   float64\n",
      " 21  days_exposition       20518 non-null  float64\n",
      "dtypes: bool(2), float64(14), int64(3), object(3)\n",
      "memory usage: 3.7+ MB\n",
      "       total_images  last_price  total_area first_day_exposition  rooms  \\\n",
      "0                20  13000000.0      108.00  2019-03-07T00:00:00      3   \n",
      "1                 7   3350000.0       40.40  2018-12-04T00:00:00      1   \n",
      "2                10   5196000.0       56.00  2015-08-20T00:00:00      2   \n",
      "3                 0  64900000.0      159.00  2015-07-24T00:00:00      3   \n",
      "4                 2  10000000.0      100.00  2018-06-19T00:00:00      2   \n",
      "...             ...         ...         ...                  ...    ...   \n",
      "23694             9   9700000.0      133.81  2017-03-21T00:00:00      3   \n",
      "23695            14   3100000.0       59.00  2018-01-15T00:00:00      3   \n",
      "23696            18   2500000.0       56.70  2018-02-11T00:00:00      2   \n",
      "23697            13  11475000.0       76.75  2017-03-28T00:00:00      2   \n",
      "23698             4   1350000.0       32.30  2017-07-21T00:00:00      1   \n",
      "\n",
      "       ceiling_height  floors_total  living_area  floor is_apartment  ...  \\\n",
      "0                2.70          16.0         51.0      8          NaN  ...   \n",
      "1                 NaN          11.0         18.6      1          NaN  ...   \n",
      "2                 NaN           5.0         34.3      4          NaN  ...   \n",
      "3                 NaN          14.0          NaN      9          NaN  ...   \n",
      "4                3.03          14.0         32.0     13          NaN  ...   \n",
      "...               ...           ...          ...    ...          ...  ...   \n",
      "23694            3.70           5.0         73.3      3          NaN  ...   \n",
      "23695             NaN           5.0         38.0      4          NaN  ...   \n",
      "23696             NaN           3.0         29.7      1          NaN  ...   \n",
      "23697            3.00          17.0          NaN     12          NaN  ...   \n",
      "23698            2.50           5.0         12.3      1          NaN  ...   \n",
      "\n",
      "       kitchen_area  balcony        locality_name  airports_nearest  \\\n",
      "0             25.00      NaN      Санкт-Петербург           18863.0   \n",
      "1             11.00      2.0       посёлок Шушары           12817.0   \n",
      "2              8.30      0.0      Санкт-Петербург           21741.0   \n",
      "3               NaN      0.0      Санкт-Петербург           28098.0   \n",
      "4             41.00      NaN      Санкт-Петербург           31856.0   \n",
      "...             ...      ...                  ...               ...   \n",
      "23694         13.83      NaN      Санкт-Петербург           24665.0   \n",
      "23695          8.50      NaN                Тосно               NaN   \n",
      "23696           NaN      NaN     село Рождествено               NaN   \n",
      "23697         23.30      2.0      Санкт-Петербург           39140.0   \n",
      "23698          9.00      NaN  поселок Новый Учхоз               NaN   \n",
      "\n",
      "      cityCenters_nearest  parks_around3000  parks_nearest  ponds_around3000  \\\n",
      "0                 16028.0               1.0          482.0               2.0   \n",
      "1                 18603.0               0.0            NaN               0.0   \n",
      "2                 13933.0               1.0           90.0               2.0   \n",
      "3                  6800.0               2.0           84.0               3.0   \n",
      "4                  8098.0               2.0          112.0               1.0   \n",
      "...                   ...               ...            ...               ...   \n",
      "23694              4232.0               1.0          796.0               3.0   \n",
      "23695                 NaN               NaN            NaN               NaN   \n",
      "23696                 NaN               NaN            NaN               NaN   \n",
      "23697             10364.0               2.0          173.0               3.0   \n",
      "23698                 NaN               NaN            NaN               NaN   \n",
      "\n",
      "       ponds_nearest  days_exposition  \n",
      "0              755.0              NaN  \n",
      "1                NaN             81.0  \n",
      "2              574.0            558.0  \n",
      "3              234.0            424.0  \n",
      "4               48.0            121.0  \n",
      "...              ...              ...  \n",
      "23694          381.0              NaN  \n",
      "23695            NaN             45.0  \n",
      "23696            NaN              NaN  \n",
      "23697          196.0            602.0  \n",
      "23698            NaN              NaN  \n",
      "\n",
      "[23699 rows x 22 columns]\n",
      "total_images              int64\n",
      "last_price              float64\n",
      "total_area              float64\n",
      "first_day_exposition     object\n",
      "rooms                     int64\n",
      "ceiling_height          float64\n",
      "floors_total            float64\n",
      "living_area             float64\n",
      "floor                     int64\n",
      "is_apartment             object\n",
      "studio                     bool\n",
      "open_plan                  bool\n",
      "kitchen_area            float64\n",
      "balcony                 float64\n",
      "locality_name            object\n",
      "airports_nearest        float64\n",
      "cityCenters_nearest     float64\n",
      "parks_around3000        float64\n",
      "parks_nearest           float64\n",
      "ponds_around3000        float64\n",
      "ponds_nearest           float64\n",
      "days_exposition         float64\n",
      "dtype: object\n"
     ]
    },
    {
     "data": {
      "text/plain": [
       "array([[<AxesSubplot:title={'center':'total_images'}>,\n",
       "        <AxesSubplot:title={'center':'last_price'}>,\n",
       "        <AxesSubplot:title={'center':'total_area'}>,\n",
       "        <AxesSubplot:title={'center':'ceiling_height'}>],\n",
       "       [<AxesSubplot:title={'center':'floors_total'}>,\n",
       "        <AxesSubplot:title={'center':'living_area'}>,\n",
       "        <AxesSubplot:title={'center':'kitchen_area'}>,\n",
       "        <AxesSubplot:title={'center':'balcony'}>],\n",
       "       [<AxesSubplot:title={'center':'airports_nearest'}>,\n",
       "        <AxesSubplot:title={'center':'cityCenters_nearest'}>,\n",
       "        <AxesSubplot:title={'center':'parks_around3000'}>,\n",
       "        <AxesSubplot:title={'center':'parks_nearest'}>],\n",
       "       [<AxesSubplot:title={'center':'ponds_around3000'}>,\n",
       "        <AxesSubplot:title={'center':'ponds_nearest'}>,\n",
       "        <AxesSubplot:title={'center':'days_exposition'}>,\n",
       "        <AxesSubplot:title={'center':'rooms'}>],\n",
       "       [<AxesSubplot:title={'center':'floor'}>, <AxesSubplot:>,\n",
       "        <AxesSubplot:>, <AxesSubplot:>]], dtype=object)"
      ]
     },
     "execution_count": 1,
     "metadata": {},
     "output_type": "execute_result"
    },
    {
     "data": {
      "image/png": "[encoded data removed]",
      "text/plain": [
       "<Figure size 1080x1440 with 20 Axes>"
      ]
     },
     "metadata": {
      "needs_background": "light"
     },
     "output_type": "display_data"
    }
   ],
   "source": [
    "import datetime\n",
    "import seaborn as sns\n",
    "\n",
    "import pandas as pd\n",
    "try:\n",
    "    data = pd.read_csv('/datasets/real_estate_data.csv', sep='\\t' , decimal='.')\n",
    "except:\n",
    "    data = pd.read_csv('https://code.s3.yandex.net/datasets/real_estate_data.csv')\n",
    "data.info()\n",
    "print(data)\n",
    "print(data.dtypes)\n",
    "intdata=data.loc[:,['total_images','last_price', 'total_area','ceiling_height','floors_total','living_area','kitchen_area','balcony','airports_nearest','cityCenters_nearest', 'parks_around3000','parks_nearest', 'ponds_around3000','ponds_nearest','days_exposition','rooms', 'floor']]\n",
    "intdata.hist(figsize=(15, 20))\n",
    "\n",
    "\n",
    "\n"
   ]
  },
  {
   "cell_type": "markdown",
   "metadata": {},
   "source": [
    "Вывод:  при первичном рассмотрении данных можно отметить что в датафрейме присутсвуют пропущенные значения.\n",
    "Датафрейм состоит из 23699 наблюдений и 22 столбцов."
   ]
  },
  {
   "cell_type": "markdown",
   "metadata": {},
   "source": [
    "### Предобработка данных"
   ]
  },
  {
   "cell_type": "code",
   "execution_count": 2,
   "metadata": {},
   "outputs": [],
   "source": [
    "1.\n",
    "data.isna().sum()\n",
    "#print(data.loc[:,'is_apartment']!= True)\n",
    "data['is_apartment'] = data['is_apartment'].fillna(False)  #судя по всему, в данном случае столбец 'is_apartment' не заполнен по помещениям, которые не является апартаментами. Нередко ответ \"нет, отсутствует данное значение\" люди не заполняют\n",
    "#print(data['is_apartment'].isna().sum())\n",
    "#print(data.head(20))\n",
    "data['balcony'] = data['balcony'].fillna(0)  #судя по всему, в данном случае столбец 'balcony' не заполнен по помещениям, которые не имеют балконов. Нередко ответ \"нет, отсутствует данное значение\" люди не заполняют\n",
    "#print(data['balcony'].isna().sum())\n",
    "data['locality_name'].fillna('', inplace=True)  #видимо, забыли указать эти данные, рассматривать данные по помещениям, которые неизвестно где, не имеет смысла. С учетом того, что таких строк всего 49 (небольшой процент от наших исходных данных), можем убрать эти строки без потери результативности нашего анализа.\n",
    "data['locality_name'].dropna(inplace=True)\n",
    "#print(data['locality_name'].isna().sum())\n",
    "data['ceiling_height'] = data['ceiling_height'].fillna(data['ceiling_height'].median()) #заполнили медианой пропуски\n",
    "#print(data['ceiling_height'].isna().sum())"
   ]
  },
  {
   "cell_type": "markdown",
   "metadata": {},
   "source": [
    "Вывод: \n",
    "1. столбец 'is_apartment' не заполнен по помещениям, которые не является апартаментами. Нередко ответ \"нет, отсутствует данное значение\" люди не заполняют;\n",
    "2. столбец 'balcony' не заполнен по помещениям, которые не имеют балконов. Нередко ответ \"нет, отсутствует данное значение\" люди не заполняют;\n",
    "3. столбец 'locality_name' не заполнен, видимо, по случайности, таких пропусков мало, мы их удалили;\n",
    "4. столбец 'ceiling_height' не заполнен, видимо, по случайности, заменили пропуски на медиану, так как данные в этом столбце находятся в небольшом диапазоне;\n",
    "5. что касается отсутствующих значений в других столбцах (видимо, их забыли указать), то их мы не заполняем, пока не уточним данные у владельцев помещений, так как и размер кухни, и жилая площадь, и количество этажей могут быть любыми даже в рамках одного района, поэтому медианные и средние значения могут быть очень далеки от реальности. У меня в районе, например, и сталинки, и хрущевки, и панельки. Все значения по ним ооочень разные.\n",
    "airports_nearest, cityCenters_nearest,parks_around3000,parks_nearest,  ponds_around3000, ponds_nearest мы тоже сами заполнить не можем, не зная района и адреса         "
   ]
  },
  {
   "cell_type": "code",
   "execution_count": 3,
   "metadata": {},
   "outputs": [
    {
     "name": "stdout",
     "output_type": "stream",
     "text": [
      "total_images                     int64\n",
      "last_price                       int64\n",
      "total_area                     float64\n",
      "first_day_exposition    datetime64[ns]\n",
      "rooms                            int64\n",
      "ceiling_height                 float64\n",
      "floors_total                   float64\n",
      "living_area                    float64\n",
      "floor                            int64\n",
      "is_apartment                      bool\n",
      "studio                            bool\n",
      "open_plan                         bool\n",
      "kitchen_area                   float64\n",
      "balcony                        float64\n",
      "locality_name                   object\n",
      "airports_nearest               float64\n",
      "cityCenters_nearest            float64\n",
      "parks_around3000               float64\n",
      "parks_nearest                  float64\n",
      "ponds_around3000               float64\n",
      "ponds_nearest                  float64\n",
      "days_exposition                float64\n",
      "dtype: object\n"
     ]
    }
   ],
   "source": [
    "2.\n",
    "data['first_day_exposition'] = pd.to_datetime(\n",
    "   data['first_day_exposition'], format='%Y-%m-%dT%H:%M:%S'  # даты должны иметь специальный формат для дат, также это необходимо для сравнения с другими датами\n",
    ")\n",
    "#print(data)\n",
    "data['last_price'] = data['last_price'].astype('int')  #преобразовали в int, так как по сути это числа, с которыми теперь можно проводить математические операции, также так удобнее сравнивать значения разных помещений по этому столбцу между собой.\n",
    "print(data.dtypes)\n",
    "#print(data.duplicated().sum())  #явных дубликатов нет\n",
    "#print(data.head(40))"
   ]
  },
  {
   "cell_type": "markdown",
   "metadata": {},
   "source": [
    "Вывод: \n",
    " 1.мы привели стобцы к другим форматам, которые больше подходят по смыслу, а также для того, чтобы данные можно было использовать для дальнейших вычислений;\n",
    " 2.явных дубликатов нет."
   ]
  },
  {
   "cell_type": "code",
   "execution_count": 4,
   "metadata": {},
   "outputs": [
    {
     "name": "stdout",
     "output_type": "stream",
     "text": [
      "['Санкт-Петербург' 'Шушары' 'Янино-1' 'Парголово' 'Мурино' 'Ломоносов'\n",
      " 'Сертолово' 'Петергоф' 'Пушкин' 'Кудрово' 'Коммунар' 'Колпино'\n",
      " 'Красный Бор' 'Гатчина' 'Федоровское' 'Выборг' 'Кронштадт' 'Кировск'\n",
      " 'Новое Девяткино' 'Металлострой' 'Лебяжье' 'Сиверский' 'Молодцово'\n",
      " 'Кузьмоловский' 'Новая Ропша' 'Павловск' 'Пикколово' 'Всеволожск'\n",
      " 'Волхов' 'Кингисепп' 'Приозерск' 'Сестрорецк' 'Куттузи' 'Аннино'\n",
      " 'Ефимовский' 'Плодовое' 'Заклинье' 'Торковичи' 'Первомайское'\n",
      " 'Красное Село' 'Понтонный' 'Сясьстрой' 'Старая' 'Лесколово' 'Новый Свет'\n",
      " 'Сланцы' 'Путилово' 'Ивангород' 'Шлиссельбург' 'Никольское' 'Зеленогорск'\n",
      " 'Сосновый Бор' 'Оржицы' 'Кальтино' 'Романовка' 'Бугры' 'Рощино' 'Кириши'\n",
      " 'Луга' 'Волосово' 'Отрадное' 'Павлово' 'Оредеж' 'Копорье' 'Молодежное'\n",
      " 'Тихвин' 'Победа' 'Нурма' 'Синявино' 'Тосно' 'Стрельна' 'Бокситогорск'\n",
      " 'Александровская' 'Лопухинка' 'Пикалево' 'Терволово' 'Советский'\n",
      " 'Подпорожье' 'Петровское' 'Токсово' 'Сельцо' 'Вырица' 'Кипень' 'Келози'\n",
      " 'Вартемяги' 'Тельмана' 'Севастьяново' 'Большая Ижора' '' 'Агалатово'\n",
      " 'Новогорелово' 'Лесогорский' 'Лаголово' 'Цвелодубово' 'Рахья' 'Белогорка'\n",
      " 'Заводской' 'Новоселье' 'Большие Колпаны' 'Горбунки' 'Батово' 'Заневка'\n",
      " 'Иссад' 'Приморск' 'Мистолово' 'Новая Ладога' 'Зимитицы' 'Барышево'\n",
      " 'Разметелево' 'имени Свердлова' 'Пеники' 'Рябово' 'Пудомяги' 'Корнево'\n",
      " 'Низино' 'Бегуницы' 'Поляны' 'Мга' 'Елизаветино' 'Кузнечное' 'Колтуши'\n",
      " 'Запорожское' 'Гостилицы' 'Малое Карлино' 'Мичуринское' 'имени Морозова'\n",
      " 'Песочный' 'Сосново' 'Аро' 'Ильичево' 'Тайцы' 'Малое Верево' 'Извара'\n",
      " 'Вещево' 'Паша' 'Калитино' 'Ульяновка' 'Чудской Бор' 'Дубровка' 'Мины'\n",
      " 'Войсковицы' 'Коркино' 'Ропша' 'Приладожский' 'Щеглово' 'Гаврилово'\n",
      " 'Лодейное Поле' 'Рабитицы' 'Никольский' 'Кузьмолово' 'Малые Колпаны'\n",
      " 'Петро-Славянка' 'Назия' 'Репино' 'Углово' 'Старая Малукса' 'Меньково'\n",
      " 'Старые Бегуницы' 'Саперный' 'Семрино' 'Глажево' 'Кобринское' 'Гарболово'\n",
      " 'Юкки' 'Приветнинское' 'Мануйлово' 'Пчева' 'Цвылево' 'Мельниково'\n",
      " 'Пудость' 'Усть-Луга' 'Светогорск' 'Любань' 'Селезнево' 'Каменногорск'\n",
      " 'Кривко' 'Глебычево' 'Парицы' 'Жилпоселок' 'Войскорово' 'Стеклянный'\n",
      " 'Важины' 'Мыза-Ивановка' 'Русско-Высоцкое' 'Форносово' 'Старая Ладога'\n",
      " 'Житково' 'Виллози' 'Лампово' 'Шпаньково' 'Лаврики' 'Сумино'\n",
      " 'Возрождение' 'Старосиверская' 'Кикерино' 'Старое Хинколово'\n",
      " 'Пригородный' 'Торфяное' 'Будогощь' 'Суходолье' 'Красная Долина'\n",
      " 'Хапо-Ое' 'Дружная Горка' 'Лисий Нос' 'Яльгелево' 'Рождествено'\n",
      " 'Старополье' 'Левашово' 'Сяськелево' 'Камышовка'\n",
      " 'садоводческое некоммерческое товарищество Лесная Поляна' 'Хязельки'\n",
      " 'Жилгородок' 'Ялгино' 'Новый Учхоз' 'Гончарово' 'Почап' 'Саперное'\n",
      " 'Платформа 69-й километр' 'Каложицы' 'Фалилеево' 'Пельгора' 'Торошковичи'\n",
      " 'Белоостров' 'Алексеевка' 'Серебрянский' 'Лукаши' 'Тарасово'\n",
      " 'Кингисеппский' 'Ушаки' 'Котлы' 'Сижно' 'Торосово' 'Форт Красная Горка'\n",
      " 'Новолисино' 'Громово' 'Глинка' 'Старая Пустошь' 'Коммунары' 'Починок'\n",
      " 'Вознесенье' 'Разбегаево' 'Гладкое' 'Тесово-4' 'Бор' 'Коробицыно'\n",
      " 'Большая Вруда' 'Курковицы' 'Кобралово' 'Суоранда' 'Кондратьево'\n",
      " 'Счастье' 'Реброво' 'Тойворово' 'Семиозерье' 'Лесное' 'Совхозный'\n",
      " 'Ленинское' 'Суйда' 'Нижние Осельки' 'Свирь' 'Перово' 'Высоцк' 'Шум'\n",
      " 'Котельский' 'Лужайка' 'Большая Пустомержа' 'Красносельское'\n",
      " 'Вахнова Кара' 'Пижма' 'Кивеннапа Север' 'Ромашки' 'Каськово' 'Куровицы'\n",
      " 'Плоское' 'Кирпичное' 'Ям-Тесово' 'Раздолье' 'Терпилицы' 'Шугозеро'\n",
      " 'Ваганово' 'Пушное' 'Садко' 'Усть-Ижора' 'Выскатка' 'Свирьстрой'\n",
      " 'Кисельня' 'Трубников Бор' 'Высокоключевой' 'Пансионат Зеленый Бор'\n",
      " 'Ненимяки' 'Снегиревка' 'Рапполово' 'Пустынка' 'Большой Сабск' 'Русско'\n",
      " 'Лупполово' 'Большое Рейзино' 'Малая Романовка' 'Дружноселье' 'Пчевжа'\n",
      " 'Володарское' 'Нижняя' 'Тихковицы' 'Борисова Грива' 'Дзержинского']\n"
     ]
    }
   ],
   "source": [
    "3.\n",
    "def rename_locality(name):\n",
    "    if 'ё' in name:\n",
    "        return name.replace('ё', 'е')\n",
    "    return name\n",
    "\n",
    "data['locality_name'] = data['locality_name'].apply(rename_locality)\n",
    "\n",
    "data['locality_name'] = (data['locality_name'].str \n",
    "                       .replace('поселок городского типа ', '').str\n",
    "                       .replace('городской поселок ', '').str\n",
    "                       .replace('коттеджный поселок ', '').str\n",
    "                       .replace('поселок станции ', '').str\n",
    "                       .replace('поселок при железнодорожной станции ', '').str\n",
    "                       .replace('поселок ', '').str  \n",
    "                       .replace('деревня ', '').str\n",
    "                       .replace('садовое товарищество ', '').str\n",
    "                       .replace('село ', ''))\n",
    "                     \n",
    "print(data['locality_name'].unique())"
   ]
  },
  {
   "cell_type": "markdown",
   "metadata": {},
   "source": [
    "Вывод:\n",
    "    1. неявные дубликаты есть в столбце 'locality_name';\n",
    "    2. мы их устранили с помощью функции."
   ]
  },
  {
   "cell_type": "code",
   "execution_count": 5,
   "metadata": {},
   "outputs": [
    {
     "name": "stdout",
     "output_type": "stream",
     "text": [
      "0.9956538250559095\n"
     ]
    }
   ],
   "source": [
    "4.\n",
    "data['ceiling_height'] = data['ceiling_height'].where(data['ceiling_height']<10, data['ceiling_height']/10) #исправлены некорректные значения. видимо, забыли поставить запятую в некоторых местах\n",
    "#print(data[data['total_images'] > 100])\n",
    "data = data.drop(data[data.last_price > 100000000].index)\n",
    "#print(data[data['last_price'] > 100000000])\n",
    "data = data.drop(data[data.last_price < 500000].index)\n",
    "#print(data[data['last_price'] < 500000])\n",
    "#print(data[data['last_price'] < 100000]) #были данные со стоимостью помещений меньше 100 000 р. Это нереалистично, поэтому удалила\n",
    "data = data.drop(data[data.total_area > 350].index)\n",
    "#print(data[data['total_area'] > 350])\n",
    "#print(data[data['total_area'] <10])\n",
    "#print(data[data['rooms'] <1])  #судя по метражам, похоже на квартиры-студии,где комнаты и кухни обьеденены, вероятно, поэтому написано, что комнат \"0\" \n",
    "data = data.drop(data[data.rooms > 7].index)\n",
    "#print(data[data['rooms'] >7]) \n",
    "data['rooms'] = data['rooms'].where(data['rooms']>=1, 1)\n",
    "#print(data[data['rooms'] <1])\n",
    "#print(data[data['floors_total'] <1])\n",
    "#print(data[data['floors_total'] >100])\n",
    "#print(data[data['living_area'] > 2000])\n",
    "#print(data[data['floor'] <1])\n",
    "#print(data[data['floor'] >100])\n",
    "data.shape[0] \n",
    "print(23596/23699)"
   ]
  },
  {
   "cell_type": "markdown",
   "metadata": {},
   "source": [
    "Вывод:\n",
    "  1. В данных по высоте потолков забыли поставить запятую в некоторых местах,данные изменены на подходящие по смыслу;\n",
    "  2. в данных по цене есть редкие помещения со слишком низкой и слишком высокой ценой, удалили;\n",
    "  3. в данных по комнатам есть значения \"0\", вероятно, из-за того, что комната объединена с кухней в этих квартирах, поменяли на \"1\";\n",
    "  4. в данных по комнатам есть редкие значения с количеством комнат более 7, мы их удалили;\n",
    "  5. в данных по общей площади есть редкие значения с площадью помещений больше 350 м, мы их удалили;\n",
    "  6. мы отбросили приемлемое количество редких значений (около 0,4%, что менее 10 процентов от изначальных данных), так как датафрейм изначально состоял из 23699 строчки, теперь - из 23596."
   ]
  },
  {
   "cell_type": "markdown",
   "metadata": {},
   "source": [
    "### Посчитаем и добавим в таблицу новые столбцы"
   ]
  },
  {
   "cell_type": "code",
   "execution_count": 6,
   "metadata": {},
   "outputs": [
    {
     "name": "stdout",
     "output_type": "stream",
     "text": [
      "0        Другой\n",
      "1        Первый\n",
      "2        Другой\n",
      "3        Другой\n",
      "4        Другой\n",
      "          ...  \n",
      "23694    Другой\n",
      "23695    Другой\n",
      "23696    Первый\n",
      "23697    Другой\n",
      "23698    Первый\n",
      "Name: floor_type, Length: 23596, dtype: object\n",
      "0        16.0\n",
      "1        19.0\n",
      "2        14.0\n",
      "3         7.0\n",
      "4         8.0\n",
      "         ... \n",
      "23694     4.0\n",
      "23695     NaN\n",
      "23696     NaN\n",
      "23697    10.0\n",
      "23698     NaN\n",
      "Name: cityCenters_nearest_km, Length: 23596, dtype: float64\n"
     ]
    }
   ],
   "source": [
    "data['price_for_metr']=data['last_price']/data['total_area'] \n",
    "import numpy as np\n",
    "data['price_for_metr'] = np.round(data['price_for_metr'])\n",
    "#print(data['price_for_metr'])\n",
    "data['date_publication'] = data['first_day_exposition']\n",
    "data['publication_day'] = data['date_publication'].dt.weekday\n",
    "data['publication_month'] = data['date_publication'].dt.month\n",
    "data['publication_year'] = data['date_publication'].dt.year\n",
    "def floor_type (row):\n",
    "    floor = row['floor']\n",
    "    floors_total = row['floors_total']\n",
    "    \n",
    "    if floor == 1:\n",
    "        return 'Первый'\n",
    "    if floor == floors_total:\n",
    "        return 'Последный'\n",
    "    else:\n",
    "        return 'Другой'\n",
    "data['floor_type'] = data.apply(floor_type, axis =1 ) # Добавляем признак \"тип этажа\" \n",
    "print(data['floor_type'])\n",
    "data.insert(3, \"cityCenters_nearest_km\",data['cityCenters_nearest']/1000 )\n",
    "data['cityCenters_nearest_km'] = np.round(data['cityCenters_nearest_km'])\n",
    "print(data['cityCenters_nearest_km'])\n"
   ]
  },
  {
   "cell_type": "markdown",
   "metadata": {},
   "source": [
    "Итог:\n",
    "новые столбцы с заданными значениями добавлены."
   ]
  },
  {
   "cell_type": "markdown",
   "metadata": {},
   "source": [
    "### Проведем исследовательский анализ данных"
   ]
  },
  {
   "cell_type": "code",
   "execution_count": 7,
   "metadata": {
    "scrolled": true
   },
   "outputs": [
    {
     "data": {
      "image/png": "[encoded data removed]",
      "text/plain": [
       "<Figure size 720x360 with 1 Axes>"
      ]
     },
     "metadata": {
      "needs_background": "light"
     },
     "output_type": "display_data"
    },
    {
     "data": {
      "image/png": "[encoded data removed]",
      "text/plain": [
       "<Figure size 720x360 with 1 Axes>"
      ]
     },
     "metadata": {
      "needs_background": "light"
     },
     "output_type": "display_data"
    },
    {
     "data": {
      "image/png": "[encoded data removed]",
      "text/plain": [
       "<Figure size 720x360 with 1 Axes>"
      ]
     },
     "metadata": {
      "needs_background": "light"
     },
     "output_type": "display_data"
    },
    {
     "data": {
      "image/png": "[encoded data removed]",
      "text/plain": [
       "<Figure size 720x360 with 1 Axes>"
      ]
     },
     "metadata": {
      "needs_background": "light"
     },
     "output_type": "display_data"
    },
    {
     "data": {
      "image/png": "[encoded data removed]",
      "text/plain": [
       "<Figure size 720x360 with 1 Axes>"
      ]
     },
     "metadata": {
      "needs_background": "light"
     },
     "output_type": "display_data"
    },
    {
     "data": {
      "image/png": "[encoded data removed]",
      "text/plain": [
       "<Figure size 720x360 with 1 Axes>"
      ]
     },
     "metadata": {
      "needs_background": "light"
     },
     "output_type": "display_data"
    },
    {
     "data": {
      "image/png": "[encoded data removed]",
      "text/plain": [
       "<Figure size 720x360 with 1 Axes>"
      ]
     },
     "metadata": {
      "needs_background": "light"
     },
     "output_type": "display_data"
    },
    {
     "data": {
      "image/png": "[encoded data removed]",
      "text/plain": [
       "<Figure size 720x360 with 1 Axes>"
      ]
     },
     "metadata": {
      "needs_background": "light"
     },
     "output_type": "display_data"
    },
    {
     "data": {
      "image/png": "[encoded data removed]",
      "text/plain": [
       "<Figure size 720x360 with 1 Axes>"
      ]
     },
     "metadata": {
      "needs_background": "light"
     },
     "output_type": "display_data"
    },
    {
     "data": {
      "image/png": "[encoded data removed]",
      "text/plain": [
       "<Figure size 720x360 with 1 Axes>"
      ]
     },
     "metadata": {
      "needs_background": "light"
     },
     "output_type": "display_data"
    },
    {
     "data": {
      "image/png": "[encoded data removed]",
      "text/plain": [
       "<Figure size 720x360 with 1 Axes>"
      ]
     },
     "metadata": {
      "needs_background": "light"
     },
     "output_type": "display_data"
    },
    {
     "data": {
      "image/png": "[encoded data removed]",
      "text/plain": [
       "<Figure size 720x360 with 1 Axes>"
      ]
     },
     "metadata": {
      "needs_background": "light"
     },
     "output_type": "display_data"
    },
    {
     "data": {
      "image/png": "[encoded data removed]",
      "text/plain": [
       "<Figure size 720x360 with 1 Axes>"
      ]
     },
     "metadata": {
      "needs_background": "light"
     },
     "output_type": "display_data"
    },
    {
     "data": {
      "image/png": "[encoded data removed]",
      "text/plain": [
       "<Figure size 720x360 with 1 Axes>"
      ]
     },
     "metadata": {
      "needs_background": "light"
     },
     "output_type": "display_data"
    }
   ],
   "source": [
    "1.\n",
    "import matplotlib.pyplot as plt\n",
    "data['total_area'].hist(bins = 100, range = (0,200), figsize = (10,5) ,label= 'total_area')\n",
    "plt.title('Total area')\n",
    "plt.show()\n",
    "\n",
    "\n",
    "data['living_area'].hist(bins = 100, range = (0,200), figsize = (10,5) ,label= 'living_area')\n",
    "plt.title('Living_area')\n",
    "plt.show()\n",
    "\n",
    "data['kitchen_area'].hist(bins = 100, range = (0,30), figsize = (10,5) ,label= 'kitchen_area')\n",
    "plt.title('Kitchen_area')\n",
    "plt.show()\n",
    "\n",
    "data['last_price'].hist(bins = 50, range = (0,20000000), figsize = (10,5) ,label = 'last_price', grid =True)\n",
    "plt.title('Last price')\n",
    "plt.show()\n",
    "\n",
    "\n",
    "data['rooms'].hist(bins = 10, range = (0,10), figsize = (10,5) ,label = 'rooms', grid = True)\n",
    "plt.title('Rooms')\n",
    "plt.show()\n",
    "\n",
    "\n",
    "data['ceiling_height'].plot(kind = 'kde',   figsize = (10,5) ,label = 'ceiling_height', xlim = (2,4), grid=True)\n",
    "plt.title('Ceiling height')\n",
    "plt.show()\n",
    "\n",
    "data['floor'].hist(bins = 10, range = (0,20), figsize = (10,5) ,label = 'floor', grid = True)\n",
    "plt.title('Floor')\n",
    "plt.show()\n",
    "\n",
    "\n",
    "data['floor_type'].hist(bins = 10, range = (0,5), figsize = (10,5) ,label = 'floor_type', grid = True)\n",
    "plt.title('floor_type')\n",
    "plt.show()\n",
    "\n",
    "\n",
    "data['floors_total'].hist(bins = 10, range = (0,30), figsize = (10,5) ,label = 'floors_total', grid = True)\n",
    "plt.title('floors_total')\n",
    "plt.show()\n",
    "\n",
    "\n",
    "data['cityCenters_nearest'].hist(bins = 10, range = (0,100000), figsize = (10,5) ,label = 'cityCenters_nearest', grid = True)\n",
    "plt.title('cityCenters_nearest')\n",
    "plt.show()\n",
    "\n",
    "\n",
    "data['airports_nearest'].hist(bins = 10, range = (0,100000), figsize = (10,5) ,label = 'airports_nearest', grid = True)\n",
    "plt.title('airports_nearest')\n",
    "plt.show()\n",
    "\n",
    "\n",
    "data['parks_nearest'].hist(bins = 10, range = (0,100000), figsize = (10,5) ,label = 'parks_nearest', grid = True)\n",
    "plt.title('parks_nearest')\n",
    "plt.show()\n",
    "\n",
    "\n",
    "data['publication_day'].hist(bins = 10, range = (0,7), figsize = (10,5) ,label = 'publication_day', grid = True)\n",
    "plt.title('publication_day')\n",
    "plt.show()\n",
    "\n",
    "\n",
    "data['publication_month'].hist(bins = 10, range = (0,12), figsize = (10,5) ,label = 'publication_month', grid = True)\n",
    "plt.title('publication_month')\n",
    "plt.show()\n"
   ]
  },
  {
   "cell_type": "markdown",
   "metadata": {},
   "source": [
    "Вывод: \n",
    "1. большая часть квартир общей площадью от 30 до 47 метров,помещения с общей площадью более 100 метров представлены в минимальном количестве;\n",
    "2. большая часть квартир жилой площадью около 30 или около 20 метров, помещения с жилой площадью более 50 метров представлены в минимальном количестве;\n",
    "3. в основном размер кухни 6-12м;\n",
    "4. дешевле 1 млн. и дороже 12 млн. помещений очень мало, наиболее хорошо представлена ценовая категория 3-6 млн.руб.;\n",
    "5. больше 5 комнат помещений минимум, хорошо представлены 1,2,3-х комнатные квартиры;\n",
    "6. чаще всего высота потолков составляет 2,5 метра, реже-2,75 м, еще реже - 3 м, квартир с другой высотой потолков минимальное количество;\n",
    "7. в основном помещения находятся на 2-6 этажах, выше 12 этажа - редкость;\n",
    "8. в основном помещения находятся на не первом и не последнем этаже;\n",
    "9. наиболее широко представлены 3-6-этажные, затем 9-12-этажные дома, выше 27 этажей и ниже 3 домов практически нет;\n",
    "10. большая часть помещений расположена на расстоянии 10-20 км от центра города;\n",
    "11. большая часть помещений расположена на расстоянии 10-40 км от аэропорта;\n",
    "12. все помещения расположены на расстоянии до 10 км от парка;\n",
    "13. большая часть объявлений о продаже появляется в первой половине недели, в воскресенье обьявления не появляются;\n",
    "14. большая часть объявлений о продаже появляется в декабре, чуть меньше - в июне, в остальном появление обьявлений плюс-минус равномерно.\n",
    "\n",
    "\n",
    "\n",
    "\n"
   ]
  },
  {
   "cell_type": "code",
   "execution_count": 8,
   "metadata": {},
   "outputs": [
    {
     "name": "stdout",
     "output_type": "stream",
     "text": [
      "count    20436.000000\n",
      "mean       180.438246\n",
      "std        219.208980\n",
      "min          1.000000\n",
      "25%         45.000000\n",
      "50%         95.000000\n",
      "75%        231.000000\n",
      "max       1580.000000\n",
      "Name: days_exposition, dtype: float64\n",
      "95.0\n"
     ]
    },
    {
     "data": {
      "text/plain": [
       "<AxesSubplot:>"
      ]
     },
     "execution_count": 8,
     "metadata": {},
     "output_type": "execute_result"
    },
    {
     "data": {
      "image/png": "[encoded data removed]",
      "text/plain": [
       "<Figure size 432x288 with 1 Axes>"
      ]
     },
     "metadata": {
      "needs_background": "light"
     },
     "output_type": "display_data"
    }
   ],
   "source": [
    "2.\n",
    "print(data['days_exposition'].describe())\n",
    "print(data['days_exposition'].median())\n",
    "data['days_exposition'].hist(bins =  50 , range = (0,1000))\n"
   ]
  },
  {
   "cell_type": "markdown",
   "metadata": {},
   "source": [
    "Вывод:\n",
    "1.обычно продажа квартиры занимает 95 дней;\n",
    "2.можно считать что продажа прошла быстро, если она совершена быстрее,чем за 45 дней или прошла необычно долго, если была продана позднее 231 дня со дня публикации.\n"
   ]
  },
  {
   "cell_type": "code",
   "execution_count": 9,
   "metadata": {},
   "outputs": [
    {
     "name": "stdout",
     "output_type": "stream",
     "text": [
      "0        2\n",
      "1        1\n",
      "2        2\n",
      "3        2\n",
      "4        2\n",
      "        ..\n",
      "23694    2\n",
      "23695    2\n",
      "23696    1\n",
      "23697    2\n",
      "23698    1\n",
      "Name: floor_type_figures, Length: 23596, dtype: object\n"
     ]
    },
    {
     "data": {
      "image/png": "[encoded data removed]",
      "text/plain": [
       "<Figure size 720x360 with 2 Axes>"
      ]
     },
     "metadata": {
      "needs_background": "light"
     },
     "output_type": "display_data"
    },
    {
     "name": "stdout",
     "output_type": "stream",
     "text": [
      "Коэффициент корреляции last_price и total_area :0.76\n"
     ]
    },
    {
     "data": {
      "image/png": "[encoded data removed]",
      "text/plain": [
       "<Figure size 720x360 with 2 Axes>"
      ]
     },
     "metadata": {
      "needs_background": "light"
     },
     "output_type": "display_data"
    },
    {
     "name": "stdout",
     "output_type": "stream",
     "text": [
      "Коэффициент корреляции last_price и living_area :0.66\n"
     ]
    },
    {
     "data": {
      "image/png": "[encoded data removed]",
      "text/plain": [
       "<Figure size 720x360 with 2 Axes>"
      ]
     },
     "metadata": {
      "needs_background": "light"
     },
     "output_type": "display_data"
    },
    {
     "name": "stdout",
     "output_type": "stream",
     "text": [
      "Коэффициент корреляции last_price и kitchen_area :0.58\n"
     ]
    },
    {
     "data": {
      "image/png": "[encoded data removed]",
      "text/plain": [
       "<Figure size 720x360 with 2 Axes>"
      ]
     },
     "metadata": {
      "needs_background": "light"
     },
     "output_type": "display_data"
    },
    {
     "name": "stdout",
     "output_type": "stream",
     "text": [
      "Коэффициент корреляции last_price и publication_day :-0.01\n"
     ]
    },
    {
     "data": {
      "image/png": "[encoded data removed]",
      "text/plain": [
       "<Figure size 720x360 with 2 Axes>"
      ]
     },
     "metadata": {
      "needs_background": "light"
     },
     "output_type": "display_data"
    },
    {
     "name": "stdout",
     "output_type": "stream",
     "text": [
      "Коэффициент корреляции last_price и publication_month :0.01\n"
     ]
    },
    {
     "data": {
      "image/png": "[encoded data removed]",
      "text/plain": [
       "<Figure size 720x360 with 2 Axes>"
      ]
     },
     "metadata": {
      "needs_background": "light"
     },
     "output_type": "display_data"
    },
    {
     "name": "stdout",
     "output_type": "stream",
     "text": [
      "Коэффициент корреляции last_price и publication_year :-0.06\n"
     ]
    },
    {
     "data": {
      "image/png": "[encoded data removed]",
      "text/plain": [
       "<Figure size 720x360 with 2 Axes>"
      ]
     },
     "metadata": {
      "needs_background": "light"
     },
     "output_type": "display_data"
    },
    {
     "name": "stdout",
     "output_type": "stream",
     "text": [
      "Коэффициент корреляции last_price и price_for_metr :0.73\n"
     ]
    },
    {
     "data": {
      "image/png": "[encoded data removed]",
      "text/plain": [
       "<Figure size 720x360 with 2 Axes>"
      ]
     },
     "metadata": {
      "needs_background": "light"
     },
     "output_type": "display_data"
    },
    {
     "name": "stdout",
     "output_type": "stream",
     "text": [
      "Коэффициент корреляции last_price и last_price :1.0\n"
     ]
    },
    {
     "data": {
      "image/png": "[encoded data removed]",
      "text/plain": [
       "<Figure size 432x288 with 1 Axes>"
      ]
     },
     "metadata": {
      "needs_background": "light"
     },
     "output_type": "display_data"
    },
    {
     "data": {
      "image/png": "[encoded data removed]",
      "text/plain": [
       "<Figure size 432x288 with 1 Axes>"
      ]
     },
     "metadata": {
      "needs_background": "light"
     },
     "output_type": "display_data"
    },
    {
     "data": {
      "image/png": "[encoded data removed]",
      "text/plain": [
       "<Figure size 432x288 with 1 Axes>"
      ]
     },
     "metadata": {
      "needs_background": "light"
     },
     "output_type": "display_data"
    },
    {
     "data": {
      "image/png": "[encoded data removed]",
      "text/plain": [
       "<Figure size 432x288 with 1 Axes>"
      ]
     },
     "metadata": {
      "needs_background": "light"
     },
     "output_type": "display_data"
    },
    {
     "data": {
      "image/png": "[encoded data removed]",
      "text/plain": [
       "<Figure size 432x288 with 1 Axes>"
      ]
     },
     "metadata": {
      "needs_background": "light"
     },
     "output_type": "display_data"
    },
    {
     "data": {
      "image/png": "[encoded data removed]",
      "text/plain": [
       "<Figure size 432x288 with 1 Axes>"
      ]
     },
     "metadata": {
      "needs_background": "light"
     },
     "output_type": "display_data"
    },
    {
     "data": {
      "image/png": "[encoded data removed]",
      "text/plain": [
       "<Figure size 432x288 with 1 Axes>"
      ]
     },
     "metadata": {
      "needs_background": "light"
     },
     "output_type": "display_data"
    },
    {
     "name": "stdout",
     "output_type": "stream",
     "text": [
      "6178545.014536362\n"
     ]
    },
    {
     "data": {
      "image/png": "[encoded data removed]",
      "text/plain": [
       "<Figure size 432x288 with 1 Axes>"
      ]
     },
     "metadata": {
      "needs_background": "light"
     },
     "output_type": "display_data"
    }
   ],
   "source": [
    "3.\n",
    "data['publication_day']=data['publication_day'].astype('float').astype('int')\n",
    "data['publication_month']=data['publication_month'].astype('float').astype('int')\n",
    "data['publication_year']=data['publication_year'].astype('float').astype('int')\n",
    "data['price_for_metr']=data['price_for_metr'].astype('float').astype('int')\n",
    "data['cityCenters_nearest_km']=data['cityCenters_nearest_km'].astype('float')\n",
    "#print(data.dtypes)\n",
    "data['floor_type_figures']=data['floor_type']\n",
    "data['floor_type_figures']=(data['floor_type_figures'].str\n",
    "                       .replace('Первый', '1').str\n",
    "                       .replace('Последний', '3').str\n",
    "                       .replace('Другой', '2'))\n",
    "print(data['floor_type_figures'])\n",
    "#data['floor_type_figures']=data['floor_type_figures'].astype('str').astype('float').astype('int') по непонятным мне причинам не срабатывает (у меня ведь цифры стоят реально в этом столбце, а он мне выдает ошибку, как будто я столбец со словами пытаюсь сделать int), соответственно не могу проверить зависимость цены от типа этажа.\n",
    "\n",
    "        \n",
    "corelation_data = data[['total_area', 'living_area', 'kitchen_area' , 'publication_day','publication_month','publication_year','price_for_metr','last_price']]\n",
    "\n",
    "#График  и значения корреляции для каждого возможного фактора:\n",
    "for column in corelation_data:\n",
    "    corelation_data.plot(x =  column , y = 'last_price', kind = 'hexbin', gridsize = 50, figsize = (10,5), sharex = False, grid= True)\n",
    "    corelation = corelation_data['last_price'].corr(corelation_data[column]).round(2)\n",
    "    plt.show()\n",
    "    print('Коэффициент корреляции last_price и {} :{}'.format(column, corelation))\n",
    "\n",
    "corelation_data.plot(x =  'total_area' , y = 'last_price', kind='scatter')\n",
    "corelation_data.plot(x =  'living_area' , y = 'last_price', kind='scatter')\n",
    "corelation_data.plot(x =  'kitchen_area', y = 'last_price', kind='scatter')\n",
    "\n",
    "sns.barplot(x =  'rooms', y = 'last_price', data=data)\n",
    "plt.show()\n",
    "sns.barplot(x =  'floor_type', y = 'last_price', data=data)\n",
    "plt.show()\n",
    "sns.barplot(x =  'publication_day', y = 'last_price', data=corelation_data)\n",
    "plt.show()\n",
    "sns.barplot(x =  'publication_month', y = 'last_price', data=corelation_data)\n",
    "plt.show()\n",
    "sns.barplot(x =  'publication_year', y = 'last_price', data=corelation_data)\n",
    "plt.show()\n",
    "\n",
    "print(data['last_price'].mean())\n",
    "data['middle_price'] =data['last_price'].mean()\n",
    "\n",
    "sns.barplot(x =  'rooms', y = 'middle_price', data=data)\n",
    "plt.show()\n"
   ]
  },
  {
   "cell_type": "markdown",
   "metadata": {},
   "source": [
    "Вывод:\n",
    "1.коэффициент корреляции общей площади и цены за помещение - 0,76, жилой площади и цены за помещение - 0,66, площади кухни и цены за помещение - 0,58, цены за метр и цены за помещение - 0,73 что свидетельствует о значительной связи между этими значениями; \n",
    "2.день и месяц публикации почти не влияет на цену квартир;\n",
    "3.год публикации может влиять на цену помещения, в 2014 году цены на помещения значительнь выше, чем в 2015-2019 годах, в 2015 цены не так значительно, но все же заметно выше, чем в 2016-2019 годах;\n",
    "4. помещения на первом этаже значительно дешевле квартир на других этажах, помещения на последнем этаж незначительно, но заметно дешевле квартир на других этажах кроме первого;\n",
    "5. цена заметно зависит от количества комнат (цена увеличивается с увеличением количества комнат, но между 6 и 7 комнатами уже нет большой разницы в цене).\n"
   ]
  },
  {
   "cell_type": "code",
   "execution_count": 10,
   "metadata": {},
   "outputs": [
    {
     "name": "stdout",
     "output_type": "stream",
     "text": [
      "                 price_for_metr\n",
      "locality_name                  \n",
      "Всеволожск         68654.474874\n",
      "Выборг             58141.919831\n",
      "Гатчина            68746.110749\n",
      "Колпино            75333.287834\n",
      "Кудрово            95324.957627\n",
      "Мурино             86087.508475\n",
      "Парголово          90175.886850\n",
      "Пушкин            103130.852861\n",
      "Санкт-Петербург   113599.989766\n",
      "Шушары             78677.379545\n"
     ]
    }
   ],
   "source": [
    "4.\n",
    "count_by_location = data['locality_name'].value_counts().head(10).index\n",
    "average_price = (data.query('locality_name in @count_by_location').pivot_table(index='locality_name', values='price_for_metr', aggfunc='mean'))\n",
    "print(average_price)\n"
   ]
  },
  {
   "cell_type": "markdown",
   "metadata": {},
   "source": [
    "Вывод: \n",
    "самый дорогой квадратный метр в Санкт-Петербурге - 114856 руб., самый дешевый - в Выборге - 58142 руб."
   ]
  },
  {
   "cell_type": "code",
   "execution_count": 11,
   "metadata": {},
   "outputs": [
    {
     "data": {
      "text/plain": [
       "<AxesSubplot:xlabel='cityCenters_nearest_km'>"
      ]
     },
     "execution_count": 11,
     "metadata": {},
     "output_type": "execute_result"
    },
    {
     "data": {
      "image/png": "[encoded data removed]",
      "text/plain": [
       "<Figure size 1008x360 with 1 Axes>"
      ]
     },
     "metadata": {
      "needs_background": "light"
     },
     "output_type": "display_data"
    }
   ],
   "source": [
    "5. \n",
    "Peter_data = data.query('locality_name == \"Санкт-Петербург\"').reset_index(drop=True)\n",
    "Peter_data.pivot_table(index='cityCenters_nearest_km', values='price_for_metr').plot(grid=True, figsize=(14, 5))\n"
   ]
  },
  {
   "cell_type": "markdown",
   "metadata": {},
   "source": [
    "Вывод: самые дорогие квартиры в центре Санкт-Петербурга. Просматривается тенденция уменьшения цены по мере удаленности от центра"
   ]
  },
  {
   "cell_type": "markdown",
   "metadata": {},
   "source": [
    "### Общий вывод"
   ]
  },
  {
   "cell_type": "markdown",
   "metadata": {},
   "source": [
    "Была изучена информация по продаваемым помешениям в различных регионах России.\n",
    "\n",
    "Отмечено, что наиболее широко в выборке представлены следующие помещения:\n",
    "- 1,2,3-х комнатные квартиры;\n",
    "- общей площадью от 30 до 47 метров;\n",
    "- площадь кухни 6-12 м;\n",
    "- этажность домов 3-6 и 9-12 этажей;\n",
    "- цена 3-6 млн. руб.;\n",
    "- высота потолков 2,5 и 2,75 м.\n",
    "\n",
    "На основании проведенного анализа можно сделать следующие выводы:\n",
    "1. Большая часть квартир в рассмотренных населенных пунктах России соответствует вышеперечисленным особенностям;\n",
    "2. Все рассмотренные населенные пункты имеют парки, при этом в крупных населенных пунктах их много в расчете на квадратный километр (все квартиры находятся в пределах 10 км от парков);\n",
    "3. Большая часть объявлений о продаже появляется в первой половине недели, в воскресенье обьявления не появляются;\n",
    "4. Большая часть объявлений о продаже появляется в декабре, чуть меньше - в июне, в остальном появление обьявлений плюс-минус равномерно;\n",
    "5. Обычно продажи квартиры занимает 95 дней;\n",
    "6. Цена помещения зависит от цены квадратного метра, от размера общей и жилой площади, а также площади кухни,от количества комнат, года публикации объявления, удаленности от центра города, в каком именно населенном пункте находится помещение, а также от того, не является ли этаж первым или последним;\n",
    "7. Самый дорогой квадратный метр в Санкт-Петербурге - 114856 руб., самый дешевый - в Выборге - 58142 руб.;\n",
    "8. Самые дорогие квартиры в центре Санкт-Петербурга. Просматривается тенденция уменьшения цены по мере удаленности от центра.\n",
    "\n"
   ]
  }
 ],
 "metadata": {
  "ExecuteTimeLog": [
   {
    "duration": 1037,
    "start_time": "2023-01-09T12:01:33.197Z"
   },
   {
    "duration": 100,
    "start_time": "2023-01-09T12:02:14.749Z"
   },
   {
    "duration": 94,
    "start_time": "2023-01-09T12:02:58.916Z"
   },
   {
    "duration": 115,
    "start_time": "2023-01-09T12:06:44.955Z"
   },
   {
    "duration": 110,
    "start_time": "2023-01-09T12:07:00.480Z"
   },
   {
    "duration": 168,
    "start_time": "2023-01-09T12:07:41.272Z"
   },
   {
    "duration": 83,
    "start_time": "2023-01-09T12:10:12.314Z"
   },
   {
    "duration": 85,
    "start_time": "2023-01-09T12:26:02.925Z"
   },
   {
    "duration": 79,
    "start_time": "2023-01-09T12:26:09.149Z"
   },
   {
    "duration": 109,
    "start_time": "2023-01-09T12:28:00.294Z"
   },
   {
    "duration": 75,
    "start_time": "2023-01-09T12:30:59.291Z"
   },
   {
    "duration": 81,
    "start_time": "2023-01-09T12:39:35.092Z"
   },
   {
    "duration": 4,
    "start_time": "2023-01-09T12:40:20.402Z"
   },
   {
    "duration": 88,
    "start_time": "2023-01-09T12:40:58.978Z"
   },
   {
    "duration": 68,
    "start_time": "2023-01-09T12:41:17.458Z"
   },
   {
    "duration": 80,
    "start_time": "2023-01-09T12:48:15.738Z"
   },
   {
    "duration": 82,
    "start_time": "2023-01-09T12:48:26.250Z"
   },
   {
    "duration": 132,
    "start_time": "2023-01-09T12:48:50.875Z"
   },
   {
    "duration": 120,
    "start_time": "2023-01-09T12:49:11.114Z"
   },
   {
    "duration": 879,
    "start_time": "2023-01-09T12:52:32.694Z"
   },
   {
    "duration": 156,
    "start_time": "2023-01-09T12:54:34.950Z"
   },
   {
    "duration": 131,
    "start_time": "2023-01-09T12:59:09.638Z"
   },
   {
    "duration": 134,
    "start_time": "2023-01-09T12:59:45.054Z"
   },
   {
    "duration": 131,
    "start_time": "2023-01-09T13:00:13.702Z"
   },
   {
    "duration": 618,
    "start_time": "2023-01-09T13:00:32.262Z"
   },
   {
    "duration": 75,
    "start_time": "2023-01-09T13:08:56.122Z"
   },
   {
    "duration": 36,
    "start_time": "2023-01-09T13:09:16.577Z"
   },
   {
    "duration": 26,
    "start_time": "2023-01-09T13:10:20.819Z"
   },
   {
    "duration": 28,
    "start_time": "2023-01-09T13:19:53.471Z"
   },
   {
    "duration": 23,
    "start_time": "2023-01-09T13:20:28.366Z"
   },
   {
    "duration": 27,
    "start_time": "2023-01-09T13:21:18.599Z"
   },
   {
    "duration": 37,
    "start_time": "2023-01-09T13:36:00.213Z"
   },
   {
    "duration": 35,
    "start_time": "2023-01-09T13:36:27.086Z"
   },
   {
    "duration": 21,
    "start_time": "2023-01-09T13:36:42.693Z"
   },
   {
    "duration": 32,
    "start_time": "2023-01-09T13:36:49.557Z"
   },
   {
    "duration": 27,
    "start_time": "2023-01-09T13:38:11.181Z"
   },
   {
    "duration": 28,
    "start_time": "2023-01-09T13:38:29.013Z"
   },
   {
    "duration": 30,
    "start_time": "2023-01-09T13:38:40.237Z"
   },
   {
    "duration": 40,
    "start_time": "2023-01-09T13:40:40.457Z"
   },
   {
    "duration": 24,
    "start_time": "2023-01-09T13:41:28.561Z"
   },
   {
    "duration": 24,
    "start_time": "2023-01-09T13:42:07.330Z"
   },
   {
    "duration": 53,
    "start_time": "2023-01-09T13:42:18.426Z"
   },
   {
    "duration": 23,
    "start_time": "2023-01-09T13:42:22.834Z"
   },
   {
    "duration": 24,
    "start_time": "2023-01-09T13:42:42.964Z"
   },
   {
    "duration": 32,
    "start_time": "2023-01-09T13:45:34.964Z"
   },
   {
    "duration": 46,
    "start_time": "2023-01-09T13:46:39.550Z"
   },
   {
    "duration": 38,
    "start_time": "2023-01-09T13:48:25.574Z"
   },
   {
    "duration": 1164,
    "start_time": "2023-01-09T13:49:15.655Z"
   },
   {
    "duration": 43,
    "start_time": "2023-01-09T13:49:35.647Z"
   },
   {
    "duration": 57,
    "start_time": "2023-01-09T13:50:04.961Z"
   },
   {
    "duration": 36,
    "start_time": "2023-01-09T13:58:16.029Z"
   },
   {
    "duration": 49,
    "start_time": "2023-01-09T14:01:47.095Z"
   },
   {
    "duration": 40,
    "start_time": "2023-01-09T14:02:11.713Z"
   },
   {
    "duration": 37,
    "start_time": "2023-01-09T14:05:26.016Z"
   },
   {
    "duration": 23,
    "start_time": "2023-01-09T14:06:10.544Z"
   },
   {
    "duration": 24,
    "start_time": "2023-01-09T14:06:58.865Z"
   },
   {
    "duration": 21,
    "start_time": "2023-01-09T14:07:10.849Z"
   },
   {
    "duration": 23,
    "start_time": "2023-01-09T14:07:53.378Z"
   },
   {
    "duration": 1131,
    "start_time": "2023-01-09T14:08:16.867Z"
   },
   {
    "duration": 24,
    "start_time": "2023-01-09T14:08:32.595Z"
   },
   {
    "duration": 55,
    "start_time": "2023-01-09T14:08:58.850Z"
   },
   {
    "duration": 24,
    "start_time": "2023-01-09T14:09:18.235Z"
   },
   {
    "duration": 34,
    "start_time": "2023-01-09T14:09:59.123Z"
   },
   {
    "duration": 36,
    "start_time": "2023-01-09T14:10:36.779Z"
   },
   {
    "duration": 60,
    "start_time": "2023-01-09T14:22:33.003Z"
   },
   {
    "duration": 38,
    "start_time": "2023-01-09T14:22:42.043Z"
   },
   {
    "duration": 40,
    "start_time": "2023-01-09T14:23:10.078Z"
   },
   {
    "duration": 32,
    "start_time": "2023-01-09T14:23:22.315Z"
   },
   {
    "duration": 36,
    "start_time": "2023-01-09T14:28:24.318Z"
   },
   {
    "duration": 43,
    "start_time": "2023-01-09T14:29:47.640Z"
   },
   {
    "duration": 52,
    "start_time": "2023-01-09T14:35:05.082Z"
   },
   {
    "duration": 56,
    "start_time": "2023-01-09T14:35:38.979Z"
   },
   {
    "duration": 34,
    "start_time": "2023-01-09T14:41:45.639Z"
   },
   {
    "duration": 52,
    "start_time": "2023-01-09T14:49:16.034Z"
   },
   {
    "duration": 40,
    "start_time": "2023-01-09T14:52:34.470Z"
   },
   {
    "duration": 42,
    "start_time": "2023-01-09T14:52:45.625Z"
   },
   {
    "duration": 42,
    "start_time": "2023-01-09T14:53:23.478Z"
   },
   {
    "duration": 410,
    "start_time": "2023-01-09T14:57:14.522Z"
   },
   {
    "duration": 481,
    "start_time": "2023-01-09T14:58:23.593Z"
   },
   {
    "duration": 418,
    "start_time": "2023-01-09T14:58:59.341Z"
   },
   {
    "duration": 420,
    "start_time": "2023-01-09T15:00:18.435Z"
   },
   {
    "duration": 476,
    "start_time": "2023-01-09T15:00:22.675Z"
   },
   {
    "duration": 440,
    "start_time": "2023-01-09T15:00:55.373Z"
   },
   {
    "duration": 42,
    "start_time": "2023-01-09T15:02:00.148Z"
   },
   {
    "duration": 49,
    "start_time": "2023-01-09T15:02:47.788Z"
   },
   {
    "duration": 43,
    "start_time": "2023-01-09T15:03:01.044Z"
   },
   {
    "duration": 40,
    "start_time": "2023-01-09T15:03:17.532Z"
   },
   {
    "duration": 45,
    "start_time": "2023-01-09T15:11:19.730Z"
   },
   {
    "duration": 42,
    "start_time": "2023-01-09T15:11:47.417Z"
   },
   {
    "duration": 68,
    "start_time": "2023-01-09T15:13:28.909Z"
   },
   {
    "duration": 126,
    "start_time": "2023-01-09T15:14:06.836Z"
   },
   {
    "duration": 47,
    "start_time": "2023-01-09T15:14:30.387Z"
   },
   {
    "duration": 53,
    "start_time": "2023-01-09T15:16:03.013Z"
   },
   {
    "duration": 271,
    "start_time": "2023-01-09T15:20:19.118Z"
   },
   {
    "duration": 269,
    "start_time": "2023-01-09T15:22:05.434Z"
   },
   {
    "duration": 48,
    "start_time": "2023-01-09T15:29:55.044Z"
   },
   {
    "duration": 58,
    "start_time": "2023-01-09T15:30:16.740Z"
   },
   {
    "duration": 55,
    "start_time": "2023-01-09T15:30:29.564Z"
   },
   {
    "duration": 84,
    "start_time": "2023-01-09T15:31:49.748Z"
   },
   {
    "duration": 351,
    "start_time": "2023-01-09T15:32:07.117Z"
   },
   {
    "duration": 86,
    "start_time": "2023-01-09T15:32:38.622Z"
   },
   {
    "duration": 79,
    "start_time": "2023-01-09T15:33:07.046Z"
   },
   {
    "duration": 67,
    "start_time": "2023-01-09T15:33:20.085Z"
   },
   {
    "duration": 50,
    "start_time": "2023-01-09T15:33:24.302Z"
   },
   {
    "duration": 48,
    "start_time": "2023-01-09T15:35:31.640Z"
   },
   {
    "duration": 140,
    "start_time": "2023-01-09T15:36:01.622Z"
   },
   {
    "duration": 55,
    "start_time": "2023-01-09T15:40:18.434Z"
   },
   {
    "duration": 51,
    "start_time": "2023-01-09T15:44:34.707Z"
   },
   {
    "duration": 47,
    "start_time": "2023-01-09T15:44:46.788Z"
   },
   {
    "duration": 60,
    "start_time": "2023-01-09T15:46:08.109Z"
   },
   {
    "duration": 252,
    "start_time": "2023-01-09T15:47:16.885Z"
   },
   {
    "duration": 251,
    "start_time": "2023-01-09T15:48:09.892Z"
   },
   {
    "duration": 253,
    "start_time": "2023-01-09T15:48:33.841Z"
   },
   {
    "duration": 234,
    "start_time": "2023-01-09T15:48:55.494Z"
   },
   {
    "duration": 255,
    "start_time": "2023-01-09T15:49:08.139Z"
   },
   {
    "duration": 340,
    "start_time": "2023-01-09T15:51:29.160Z"
   },
   {
    "duration": 52,
    "start_time": "2023-01-09T15:51:54.999Z"
   },
   {
    "duration": 46,
    "start_time": "2023-01-09T15:52:33.625Z"
   },
   {
    "duration": 46,
    "start_time": "2023-01-09T15:54:46.161Z"
   },
   {
    "duration": 74,
    "start_time": "2023-01-09T15:55:14.777Z"
   },
   {
    "duration": 46,
    "start_time": "2023-01-09T15:58:03.787Z"
   },
   {
    "duration": 264,
    "start_time": "2023-01-09T15:58:40.173Z"
   },
   {
    "duration": 260,
    "start_time": "2023-01-09T15:58:54.723Z"
   },
   {
    "duration": 253,
    "start_time": "2023-01-09T15:59:02.884Z"
   },
   {
    "duration": 49,
    "start_time": "2023-01-09T16:02:04.294Z"
   },
   {
    "duration": 50,
    "start_time": "2023-01-09T16:02:23.126Z"
   },
   {
    "duration": 255,
    "start_time": "2023-01-09T16:03:04.408Z"
   },
   {
    "duration": 162,
    "start_time": "2023-01-09T16:05:15.735Z"
   },
   {
    "duration": 55,
    "start_time": "2023-01-09T16:05:21.463Z"
   },
   {
    "duration": 48,
    "start_time": "2023-01-09T16:06:54.216Z"
   },
   {
    "duration": 50,
    "start_time": "2023-01-09T16:16:05.934Z"
   },
   {
    "duration": 60,
    "start_time": "2023-01-09T16:23:56.189Z"
   },
   {
    "duration": 73,
    "start_time": "2023-01-09T16:24:07.650Z"
   },
   {
    "duration": 54,
    "start_time": "2023-01-09T16:25:39.612Z"
   },
   {
    "duration": 60,
    "start_time": "2023-01-09T16:29:08.574Z"
   },
   {
    "duration": 71,
    "start_time": "2023-01-09T16:33:58.305Z"
   },
   {
    "duration": 71,
    "start_time": "2023-01-09T16:34:09.648Z"
   },
   {
    "duration": 514,
    "start_time": "2023-01-09T16:34:31.489Z"
   },
   {
    "duration": 67,
    "start_time": "2023-01-09T16:34:44.441Z"
   },
   {
    "duration": 406,
    "start_time": "2023-01-09T16:35:10.673Z"
   },
   {
    "duration": 52,
    "start_time": "2023-01-09T16:35:22.241Z"
   },
   {
    "duration": 61,
    "start_time": "2023-01-09T16:38:26.275Z"
   },
   {
    "duration": 55,
    "start_time": "2023-01-09T16:38:33.411Z"
   },
   {
    "duration": 71,
    "start_time": "2023-01-09T16:38:49.130Z"
   },
   {
    "duration": 180,
    "start_time": "2023-01-09T16:40:01.403Z"
   },
   {
    "duration": 55,
    "start_time": "2023-01-10T11:07:04.734Z"
   },
   {
    "duration": 10,
    "start_time": "2023-01-10T11:07:44.234Z"
   },
   {
    "duration": 9,
    "start_time": "2023-01-10T11:08:07.477Z"
   },
   {
    "duration": 10,
    "start_time": "2023-01-10T11:08:33.958Z"
   },
   {
    "duration": 9,
    "start_time": "2023-01-10T11:08:40.453Z"
   },
   {
    "duration": 1072,
    "start_time": "2023-01-10T11:09:05.206Z"
   },
   {
    "duration": 433,
    "start_time": "2023-01-10T11:09:26.007Z"
   },
   {
    "duration": 398,
    "start_time": "2023-01-10T11:10:30.237Z"
   },
   {
    "duration": 238,
    "start_time": "2023-01-10T11:14:13.042Z"
   },
   {
    "duration": 198,
    "start_time": "2023-01-10T11:15:38.161Z"
   },
   {
    "duration": 213,
    "start_time": "2023-01-10T11:16:45.746Z"
   },
   {
    "duration": 244,
    "start_time": "2023-01-10T11:17:56.861Z"
   },
   {
    "duration": 295,
    "start_time": "2023-01-10T11:21:02.424Z"
   },
   {
    "duration": 230,
    "start_time": "2023-01-10T11:22:37.514Z"
   },
   {
    "duration": 908,
    "start_time": "2023-01-10T11:25:37.674Z"
   },
   {
    "duration": 246,
    "start_time": "2023-01-10T11:25:53.980Z"
   },
   {
    "duration": 248,
    "start_time": "2023-01-10T11:34:24.659Z"
   },
   {
    "duration": 263,
    "start_time": "2023-01-10T11:34:38.514Z"
   },
   {
    "duration": 261,
    "start_time": "2023-01-10T11:35:19.814Z"
   },
   {
    "duration": 274,
    "start_time": "2023-01-10T11:35:32.203Z"
   },
   {
    "duration": 315,
    "start_time": "2023-01-10T11:36:59.174Z"
   },
   {
    "duration": 254,
    "start_time": "2023-01-10T11:38:18.813Z"
   },
   {
    "duration": 256,
    "start_time": "2023-01-10T11:38:41.406Z"
   },
   {
    "duration": 268,
    "start_time": "2023-01-10T11:41:34.480Z"
   },
   {
    "duration": 285,
    "start_time": "2023-01-10T11:44:07.185Z"
   },
   {
    "duration": 246,
    "start_time": "2023-01-10T11:44:22.881Z"
   },
   {
    "duration": 269,
    "start_time": "2023-01-10T11:45:25.649Z"
   },
   {
    "duration": 255,
    "start_time": "2023-01-10T11:45:33.314Z"
   },
   {
    "duration": 251,
    "start_time": "2023-01-10T11:46:14.944Z"
   },
   {
    "duration": 269,
    "start_time": "2023-01-10T11:47:35.500Z"
   },
   {
    "duration": 269,
    "start_time": "2023-01-10T11:48:02.023Z"
   },
   {
    "duration": 1053,
    "start_time": "2023-01-11T06:58:37.783Z"
   },
   {
    "duration": 357,
    "start_time": "2023-01-11T07:02:24.161Z"
   },
   {
    "duration": 295,
    "start_time": "2023-01-11T07:02:46.845Z"
   },
   {
    "duration": 277,
    "start_time": "2023-01-11T07:03:43.994Z"
   },
   {
    "duration": 288,
    "start_time": "2023-01-11T07:04:24.950Z"
   },
   {
    "duration": 288,
    "start_time": "2023-01-11T07:07:33.050Z"
   },
   {
    "duration": 289,
    "start_time": "2023-01-11T07:07:49.249Z"
   },
   {
    "duration": 359,
    "start_time": "2023-01-11T07:09:06.857Z"
   },
   {
    "duration": 243,
    "start_time": "2023-01-11T07:09:59.300Z"
   },
   {
    "duration": 250,
    "start_time": "2023-01-11T07:11:57.578Z"
   },
   {
    "duration": 229,
    "start_time": "2023-01-11T07:12:32.786Z"
   },
   {
    "duration": 236,
    "start_time": "2023-01-11T07:23:18.801Z"
   },
   {
    "duration": 241,
    "start_time": "2023-01-11T07:24:41.578Z"
   },
   {
    "duration": 248,
    "start_time": "2023-01-11T07:25:22.779Z"
   },
   {
    "duration": 265,
    "start_time": "2023-01-11T07:25:37.035Z"
   },
   {
    "duration": 244,
    "start_time": "2023-01-11T07:26:02.515Z"
   },
   {
    "duration": 66,
    "start_time": "2023-01-11T07:29:27.604Z"
   },
   {
    "duration": 54,
    "start_time": "2023-01-11T07:29:44.772Z"
   },
   {
    "duration": 60,
    "start_time": "2023-01-11T07:30:09.645Z"
   },
   {
    "duration": 326,
    "start_time": "2023-01-11T07:30:16.135Z"
   },
   {
    "duration": 251,
    "start_time": "2023-01-11T07:30:31.653Z"
   },
   {
    "duration": 259,
    "start_time": "2023-01-11T07:30:41.853Z"
   },
   {
    "duration": 283,
    "start_time": "2023-01-11T07:32:14.079Z"
   },
   {
    "duration": 242,
    "start_time": "2023-01-11T07:32:55.319Z"
   },
   {
    "duration": 261,
    "start_time": "2023-01-11T07:33:13.767Z"
   },
   {
    "duration": 247,
    "start_time": "2023-01-11T07:35:57.792Z"
   },
   {
    "duration": 243,
    "start_time": "2023-01-11T07:36:15.784Z"
   },
   {
    "duration": 239,
    "start_time": "2023-01-11T07:37:59.898Z"
   },
   {
    "duration": 230,
    "start_time": "2023-01-11T07:38:19.457Z"
   },
   {
    "duration": 234,
    "start_time": "2023-01-11T07:39:23.362Z"
   },
   {
    "duration": 272,
    "start_time": "2023-01-11T07:39:41.387Z"
   },
   {
    "duration": 417,
    "start_time": "2023-01-11T07:42:18.402Z"
   },
   {
    "duration": 470,
    "start_time": "2023-01-11T07:42:59.676Z"
   },
   {
    "duration": 227,
    "start_time": "2023-01-11T07:43:08.300Z"
   },
   {
    "duration": 241,
    "start_time": "2023-01-11T07:43:29.798Z"
   },
   {
    "duration": 449,
    "start_time": "2023-01-11T07:43:51.077Z"
   },
   {
    "duration": 961,
    "start_time": "2023-01-11T10:52:17.599Z"
   },
   {
    "duration": 581,
    "start_time": "2023-01-11T10:53:01.772Z"
   },
   {
    "duration": 561,
    "start_time": "2023-01-11T10:53:40.564Z"
   },
   {
    "duration": 544,
    "start_time": "2023-01-11T10:54:25.725Z"
   },
   {
    "duration": 516,
    "start_time": "2023-01-11T10:55:10.100Z"
   },
   {
    "duration": 508,
    "start_time": "2023-01-11T10:55:33.557Z"
   },
   {
    "duration": 223,
    "start_time": "2023-01-11T10:58:35.936Z"
   },
   {
    "duration": 344,
    "start_time": "2023-01-11T10:58:52.183Z"
   },
   {
    "duration": 81,
    "start_time": "2023-01-11T11:00:06.391Z"
   },
   {
    "duration": 312,
    "start_time": "2023-01-11T11:00:35.279Z"
   },
   {
    "duration": 310,
    "start_time": "2023-01-11T11:01:00.049Z"
   },
   {
    "duration": 334,
    "start_time": "2023-01-11T11:01:40.121Z"
   },
   {
    "duration": 341,
    "start_time": "2023-01-11T11:22:59.572Z"
   },
   {
    "duration": 310,
    "start_time": "2023-01-11T11:23:33.909Z"
   },
   {
    "duration": 308,
    "start_time": "2023-01-11T11:23:40.909Z"
   },
   {
    "duration": 318,
    "start_time": "2023-01-11T11:23:54.262Z"
   },
   {
    "duration": 316,
    "start_time": "2023-01-11T11:24:35.273Z"
   },
   {
    "duration": 328,
    "start_time": "2023-01-11T11:25:13.918Z"
   },
   {
    "duration": 327,
    "start_time": "2023-01-11T11:25:24.807Z"
   },
   {
    "duration": 363,
    "start_time": "2023-01-11T11:25:56.789Z"
   },
   {
    "duration": 314,
    "start_time": "2023-01-11T11:26:11.205Z"
   },
   {
    "duration": 414,
    "start_time": "2023-01-11T11:26:18.821Z"
   },
   {
    "duration": 79,
    "start_time": "2023-01-11T11:27:09.454Z"
   },
   {
    "duration": 339,
    "start_time": "2023-01-11T11:27:17.381Z"
   },
   {
    "duration": 320,
    "start_time": "2023-01-11T11:27:30.289Z"
   },
   {
    "duration": 384,
    "start_time": "2023-01-11T11:29:14.041Z"
   },
   {
    "duration": 351,
    "start_time": "2023-01-11T11:29:44.760Z"
   },
   {
    "duration": 382,
    "start_time": "2023-01-11T11:31:16.643Z"
   },
   {
    "duration": 88,
    "start_time": "2023-01-11T11:32:36.346Z"
   },
   {
    "duration": 326,
    "start_time": "2023-01-11T11:33:17.985Z"
   },
   {
    "duration": 321,
    "start_time": "2023-01-11T11:38:05.599Z"
   },
   {
    "duration": 321,
    "start_time": "2023-01-11T11:39:21.747Z"
   },
   {
    "duration": 327,
    "start_time": "2023-01-11T11:39:56.140Z"
   },
   {
    "duration": 330,
    "start_time": "2023-01-11T11:41:38.679Z"
   },
   {
    "duration": 319,
    "start_time": "2023-01-11T11:41:45.423Z"
   },
   {
    "duration": 336,
    "start_time": "2023-01-11T11:42:03.343Z"
   },
   {
    "duration": 314,
    "start_time": "2023-01-11T11:44:55.739Z"
   },
   {
    "duration": 347,
    "start_time": "2023-01-11T11:45:27.921Z"
   },
   {
    "duration": 356,
    "start_time": "2023-01-11T11:45:57.666Z"
   },
   {
    "duration": 349,
    "start_time": "2023-01-11T11:47:07.092Z"
   },
   {
    "duration": 519,
    "start_time": "2023-01-11T11:47:22.381Z"
   },
   {
    "duration": 327,
    "start_time": "2023-01-11T11:47:38.339Z"
   },
   {
    "duration": 320,
    "start_time": "2023-01-11T11:52:23.215Z"
   },
   {
    "duration": 318,
    "start_time": "2023-01-11T11:52:35.215Z"
   },
   {
    "duration": 319,
    "start_time": "2023-01-11T11:52:57.215Z"
   },
   {
    "duration": 327,
    "start_time": "2023-01-11T11:53:10.445Z"
   },
   {
    "duration": 329,
    "start_time": "2023-01-11T11:53:19.231Z"
   },
   {
    "duration": 334,
    "start_time": "2023-01-11T11:55:10.512Z"
   },
   {
    "duration": 350,
    "start_time": "2023-01-11T11:55:28.009Z"
   },
   {
    "duration": 376,
    "start_time": "2023-01-11T11:55:47.282Z"
   },
   {
    "duration": 347,
    "start_time": "2023-01-11T11:56:52.102Z"
   },
   {
    "duration": 326,
    "start_time": "2023-01-11T11:59:06.618Z"
   },
   {
    "duration": 340,
    "start_time": "2023-01-11T12:05:21.464Z"
   },
   {
    "duration": 436,
    "start_time": "2023-01-11T12:05:39.559Z"
   },
   {
    "duration": 431,
    "start_time": "2023-01-11T12:06:51.344Z"
   },
   {
    "duration": 344,
    "start_time": "2023-01-11T12:07:14.752Z"
   },
   {
    "duration": 321,
    "start_time": "2023-01-11T12:07:38.368Z"
   },
   {
    "duration": 384,
    "start_time": "2023-01-11T12:08:18.360Z"
   },
   {
    "duration": 446,
    "start_time": "2023-01-11T12:08:34.888Z"
   },
   {
    "duration": 336,
    "start_time": "2023-01-11T12:09:31.107Z"
   },
   {
    "duration": 401,
    "start_time": "2023-01-11T12:09:58.010Z"
   },
   {
    "duration": 3,
    "start_time": "2023-01-11T12:21:38.014Z"
   },
   {
    "duration": 10,
    "start_time": "2023-01-11T12:21:43.492Z"
   },
   {
    "duration": 3,
    "start_time": "2023-01-11T12:22:05.958Z"
   },
   {
    "duration": 10,
    "start_time": "2023-01-11T12:22:19.238Z"
   },
   {
    "duration": 9,
    "start_time": "2023-01-11T12:22:45.086Z"
   },
   {
    "duration": 10,
    "start_time": "2023-01-11T12:23:11.350Z"
   },
   {
    "duration": 10,
    "start_time": "2023-01-11T12:23:49.215Z"
   },
   {
    "duration": 21,
    "start_time": "2023-01-11T12:23:58.992Z"
   },
   {
    "duration": 10,
    "start_time": "2023-01-11T12:26:00.168Z"
   },
   {
    "duration": 10,
    "start_time": "2023-01-11T12:26:27.896Z"
   },
   {
    "duration": 20,
    "start_time": "2023-01-11T12:26:37.968Z"
   },
   {
    "duration": 22,
    "start_time": "2023-01-11T12:27:07.976Z"
   },
   {
    "duration": 70,
    "start_time": "2023-01-11T12:28:49.825Z"
   },
   {
    "duration": 39,
    "start_time": "2023-01-11T12:29:04.041Z"
   },
   {
    "duration": 43,
    "start_time": "2023-01-11T12:29:30.050Z"
   },
   {
    "duration": 31,
    "start_time": "2023-01-11T12:30:56.266Z"
   },
   {
    "duration": 38,
    "start_time": "2023-01-11T12:31:34.659Z"
   },
   {
    "duration": 38,
    "start_time": "2023-01-11T12:31:48.099Z"
   },
   {
    "duration": 39,
    "start_time": "2023-01-11T12:32:47.963Z"
   },
   {
    "duration": 70,
    "start_time": "2023-01-11T12:33:13.612Z"
   },
   {
    "duration": 76,
    "start_time": "2023-01-11T12:33:36.531Z"
   },
   {
    "duration": 21,
    "start_time": "2023-01-11T12:33:46.500Z"
   },
   {
    "duration": 4,
    "start_time": "2023-01-11T12:34:12.045Z"
   },
   {
    "duration": 5,
    "start_time": "2023-01-11T12:34:52.740Z"
   },
   {
    "duration": 6,
    "start_time": "2023-01-11T12:35:07.836Z"
   },
   {
    "duration": 77,
    "start_time": "2023-01-11T12:39:10.776Z"
   },
   {
    "duration": 77,
    "start_time": "2023-01-11T12:39:19.795Z"
   },
   {
    "duration": 76,
    "start_time": "2023-01-11T12:39:31.631Z"
   },
   {
    "duration": 6,
    "start_time": "2023-01-11T12:39:38.071Z"
   },
   {
    "duration": 8,
    "start_time": "2023-01-11T12:44:14.737Z"
   },
   {
    "duration": 13,
    "start_time": "2023-01-11T12:44:39.554Z"
   },
   {
    "duration": 7,
    "start_time": "2023-01-11T12:45:11.179Z"
   },
   {
    "duration": 7,
    "start_time": "2023-01-11T12:45:23.514Z"
   },
   {
    "duration": 7,
    "start_time": "2023-01-11T12:45:59.346Z"
   },
   {
    "duration": 16,
    "start_time": "2023-01-11T12:59:46.265Z"
   },
   {
    "duration": 16,
    "start_time": "2023-01-11T13:00:21.025Z"
   },
   {
    "duration": 16,
    "start_time": "2023-01-11T13:01:08.234Z"
   },
   {
    "duration": 18,
    "start_time": "2023-01-11T13:01:19.138Z"
   },
   {
    "duration": 346,
    "start_time": "2023-01-11T13:04:22.538Z"
   },
   {
    "duration": 370,
    "start_time": "2023-01-11T13:04:48.132Z"
   },
   {
    "duration": 343,
    "start_time": "2023-01-11T13:05:17.300Z"
   },
   {
    "duration": 378,
    "start_time": "2023-01-11T13:06:11.677Z"
   },
   {
    "duration": 338,
    "start_time": "2023-01-11T13:06:22.558Z"
   },
   {
    "duration": 2062,
    "start_time": "2023-01-11T13:11:18.480Z"
   },
   {
    "duration": 1182,
    "start_time": "2023-01-11T13:11:43.865Z"
   },
   {
    "duration": 1285,
    "start_time": "2023-01-11T13:13:03.369Z"
   },
   {
    "duration": 1722,
    "start_time": "2023-01-11T13:14:04.122Z"
   },
   {
    "duration": 2380,
    "start_time": "2023-01-11T13:15:15.363Z"
   },
   {
    "duration": 1781,
    "start_time": "2023-01-11T13:17:03.892Z"
   },
   {
    "duration": 1730,
    "start_time": "2023-01-11T13:19:07.949Z"
   },
   {
    "duration": 1743,
    "start_time": "2023-01-11T13:21:35.926Z"
   },
   {
    "duration": 1800,
    "start_time": "2023-01-11T13:21:47.517Z"
   },
   {
    "duration": 1891,
    "start_time": "2023-01-11T13:22:50.014Z"
   },
   {
    "duration": 2080,
    "start_time": "2023-01-11T13:23:11.759Z"
   },
   {
    "duration": 2130,
    "start_time": "2023-01-11T13:24:47.122Z"
   },
   {
    "duration": 2901,
    "start_time": "2023-01-11T13:32:14.227Z"
   },
   {
    "duration": 2784,
    "start_time": "2023-01-11T13:39:49.296Z"
   },
   {
    "duration": 2670,
    "start_time": "2023-01-11T13:41:39.649Z"
   },
   {
    "duration": 2849,
    "start_time": "2023-01-11T13:42:41.170Z"
   },
   {
    "duration": 2853,
    "start_time": "2023-01-11T13:53:36.616Z"
   },
   {
    "duration": 2741,
    "start_time": "2023-01-11T13:53:48.104Z"
   },
   {
    "duration": 2807,
    "start_time": "2023-01-11T13:54:02.896Z"
   },
   {
    "duration": 3075,
    "start_time": "2023-01-11T13:58:20.203Z"
   },
   {
    "duration": 3031,
    "start_time": "2023-01-11T14:05:13.665Z"
   },
   {
    "duration": 3116,
    "start_time": "2023-01-11T14:05:28.335Z"
   },
   {
    "duration": 3120,
    "start_time": "2023-01-11T14:06:18.511Z"
   },
   {
    "duration": 2999,
    "start_time": "2023-01-11T14:14:11.195Z"
   },
   {
    "duration": 3232,
    "start_time": "2023-01-11T14:15:01.301Z"
   },
   {
    "duration": 3083,
    "start_time": "2023-01-11T14:16:00.853Z"
   },
   {
    "duration": 98,
    "start_time": "2023-01-11T14:18:52.636Z"
   },
   {
    "duration": 3140,
    "start_time": "2023-01-11T14:19:01.805Z"
   },
   {
    "duration": 4245,
    "start_time": "2023-01-11T14:33:34.638Z"
   },
   {
    "duration": 3934,
    "start_time": "2023-01-11T14:34:13.424Z"
   },
   {
    "duration": 3195,
    "start_time": "2023-01-11T14:34:33.871Z"
   },
   {
    "duration": 4543,
    "start_time": "2023-01-11T14:34:56.905Z"
   },
   {
    "duration": 5167,
    "start_time": "2023-01-11T14:42:14.909Z"
   },
   {
    "duration": 4403,
    "start_time": "2023-01-11T14:46:51.086Z"
   },
   {
    "duration": 4473,
    "start_time": "2023-01-11T14:48:36.792Z"
   },
   {
    "duration": 4556,
    "start_time": "2023-01-11T14:49:30.111Z"
   },
   {
    "duration": 7612,
    "start_time": "2023-01-11T14:50:38.224Z"
   },
   {
    "duration": 7378,
    "start_time": "2023-01-11T14:52:04.666Z"
   },
   {
    "duration": 3098,
    "start_time": "2023-01-11T14:53:58.635Z"
   },
   {
    "duration": 3332,
    "start_time": "2023-01-11T15:00:12.358Z"
   },
   {
    "duration": 7807,
    "start_time": "2023-01-11T15:00:52.471Z"
   },
   {
    "duration": 3295,
    "start_time": "2023-01-11T15:03:42.752Z"
   },
   {
    "duration": 5305,
    "start_time": "2023-01-11T15:04:30.832Z"
   },
   {
    "duration": 102,
    "start_time": "2023-01-11T15:22:49.638Z"
   },
   {
    "duration": 86,
    "start_time": "2023-01-11T15:23:00.575Z"
   },
   {
    "duration": 4919,
    "start_time": "2023-01-11T15:23:29.942Z"
   },
   {
    "duration": 4792,
    "start_time": "2023-01-11T15:24:02.078Z"
   },
   {
    "duration": 5139,
    "start_time": "2023-01-11T15:24:30.551Z"
   },
   {
    "duration": 5096,
    "start_time": "2023-01-11T15:26:15.168Z"
   },
   {
    "duration": 3051,
    "start_time": "2023-01-11T15:27:44.913Z"
   },
   {
    "duration": 2976,
    "start_time": "2023-01-11T15:29:04.147Z"
   },
   {
    "duration": 3095,
    "start_time": "2023-01-11T15:30:32.955Z"
   },
   {
    "duration": 3320,
    "start_time": "2023-01-11T15:31:09.171Z"
   },
   {
    "duration": 2982,
    "start_time": "2023-01-11T15:32:03.916Z"
   },
   {
    "duration": 4739,
    "start_time": "2023-01-11T15:32:46.717Z"
   },
   {
    "duration": 2979,
    "start_time": "2023-01-11T15:33:34.237Z"
   },
   {
    "duration": 2953,
    "start_time": "2023-01-11T15:34:57.313Z"
   },
   {
    "duration": 3105,
    "start_time": "2023-01-11T15:35:27.142Z"
   },
   {
    "duration": 3022,
    "start_time": "2023-01-11T15:36:35.864Z"
   },
   {
    "duration": 3050,
    "start_time": "2023-01-11T15:37:27.784Z"
   },
   {
    "duration": 3050,
    "start_time": "2023-01-11T15:38:07.448Z"
   },
   {
    "duration": 2958,
    "start_time": "2023-01-11T15:38:34.618Z"
   },
   {
    "duration": 3034,
    "start_time": "2023-01-11T15:38:56.409Z"
   },
   {
    "duration": 3143,
    "start_time": "2023-01-11T15:39:25.342Z"
   },
   {
    "duration": 5121,
    "start_time": "2023-01-11T15:40:01.250Z"
   },
   {
    "duration": 4670,
    "start_time": "2023-01-11T15:47:44.797Z"
   },
   {
    "duration": 5324,
    "start_time": "2023-01-11T15:49:13.910Z"
   },
   {
    "duration": 4742,
    "start_time": "2023-01-11T15:49:36.078Z"
   },
   {
    "duration": 4937,
    "start_time": "2023-01-11T15:56:07.995Z"
   },
   {
    "duration": 5124,
    "start_time": "2023-01-11T15:56:33.756Z"
   },
   {
    "duration": 4790,
    "start_time": "2023-01-11T15:59:39.948Z"
   },
   {
    "duration": 5054,
    "start_time": "2023-01-11T15:59:58.317Z"
   },
   {
    "duration": 5425,
    "start_time": "2023-01-11T16:01:16.038Z"
   },
   {
    "duration": 4825,
    "start_time": "2023-01-11T16:01:29.349Z"
   },
   {
    "duration": 99,
    "start_time": "2023-01-11T16:11:50.908Z"
   },
   {
    "duration": 4888,
    "start_time": "2023-01-11T16:12:20.773Z"
   },
   {
    "duration": 4718,
    "start_time": "2023-01-11T16:13:11.646Z"
   },
   {
    "duration": 5022,
    "start_time": "2023-01-11T16:13:22.453Z"
   },
   {
    "duration": 4692,
    "start_time": "2023-01-11T16:14:33.439Z"
   },
   {
    "duration": 4916,
    "start_time": "2023-01-11T16:15:59.036Z"
   },
   {
    "duration": 4852,
    "start_time": "2023-01-11T16:16:10.652Z"
   },
   {
    "duration": 3030,
    "start_time": "2023-01-11T16:18:24.283Z"
   },
   {
    "duration": 4810,
    "start_time": "2023-01-11T16:19:32.955Z"
   },
   {
    "duration": 4902,
    "start_time": "2023-01-11T16:20:19.787Z"
   },
   {
    "duration": 4667,
    "start_time": "2023-01-11T16:22:46.123Z"
   },
   {
    "duration": 4693,
    "start_time": "2023-01-11T16:23:00.304Z"
   },
   {
    "duration": 4934,
    "start_time": "2023-01-11T16:24:11.626Z"
   },
   {
    "duration": 4932,
    "start_time": "2023-01-11T16:26:11.483Z"
   },
   {
    "duration": 4809,
    "start_time": "2023-01-11T16:28:02.987Z"
   },
   {
    "duration": 4832,
    "start_time": "2023-01-11T16:29:35.137Z"
   },
   {
    "duration": 4857,
    "start_time": "2023-01-11T16:30:48.683Z"
   },
   {
    "duration": 5130,
    "start_time": "2023-01-11T16:31:00.147Z"
   },
   {
    "duration": 4931,
    "start_time": "2023-01-11T16:32:53.140Z"
   },
   {
    "duration": 5091,
    "start_time": "2023-01-11T16:35:01.645Z"
   },
   {
    "duration": 4897,
    "start_time": "2023-01-11T16:36:02.133Z"
   },
   {
    "duration": 4828,
    "start_time": "2023-01-11T16:38:20.830Z"
   },
   {
    "duration": 4846,
    "start_time": "2023-01-11T16:38:39.054Z"
   },
   {
    "duration": 4852,
    "start_time": "2023-01-11T16:40:40.374Z"
   },
   {
    "duration": 4888,
    "start_time": "2023-01-11T16:42:03.583Z"
   },
   {
    "duration": 5739,
    "start_time": "2023-01-11T16:46:41.474Z"
   },
   {
    "duration": 91,
    "start_time": "2023-01-11T16:48:21.778Z"
   },
   {
    "duration": 4931,
    "start_time": "2023-01-11T16:48:35.769Z"
   },
   {
    "duration": 4762,
    "start_time": "2023-01-11T16:48:55.113Z"
   },
   {
    "duration": 4859,
    "start_time": "2023-01-11T16:49:11.393Z"
   },
   {
    "duration": 4814,
    "start_time": "2023-01-11T16:49:44.075Z"
   },
   {
    "duration": 5705,
    "start_time": "2023-01-11T16:50:06.747Z"
   },
   {
    "duration": 5760,
    "start_time": "2023-01-11T17:02:45.939Z"
   },
   {
    "duration": 5990,
    "start_time": "2023-01-11T17:03:37.179Z"
   },
   {
    "duration": 5830,
    "start_time": "2023-01-11T17:04:03.804Z"
   },
   {
    "duration": 6167,
    "start_time": "2023-01-11T17:04:22.227Z"
   },
   {
    "duration": 6041,
    "start_time": "2023-01-11T17:05:10.124Z"
   },
   {
    "duration": 4848,
    "start_time": "2023-01-11T17:06:00.236Z"
   },
   {
    "duration": 4942,
    "start_time": "2023-01-11T17:06:49.460Z"
   },
   {
    "duration": 6264,
    "start_time": "2023-01-11T17:07:05.196Z"
   },
   {
    "duration": 5326,
    "start_time": "2023-01-11T17:09:42.566Z"
   },
   {
    "duration": 6418,
    "start_time": "2023-01-11T17:10:33.054Z"
   },
   {
    "duration": 5383,
    "start_time": "2023-01-11T17:10:49.038Z"
   },
   {
    "duration": 5552,
    "start_time": "2023-01-11T17:12:12.807Z"
   },
   {
    "duration": 5549,
    "start_time": "2023-01-11T17:12:37.849Z"
   },
   {
    "duration": 4989,
    "start_time": "2023-01-11T17:14:03.425Z"
   },
   {
    "duration": 1380,
    "start_time": "2023-01-11T17:52:30.492Z"
   },
   {
    "duration": 416,
    "start_time": "2023-01-11T17:52:31.875Z"
   },
   {
    "duration": 1744,
    "start_time": "2023-01-11T17:52:32.292Z"
   },
   {
    "duration": 0,
    "start_time": "2023-01-11T17:52:34.039Z"
   },
   {
    "duration": 427,
    "start_time": "2023-01-11T18:25:09.292Z"
   },
   {
    "duration": 340,
    "start_time": "2023-01-11T18:25:14.264Z"
   },
   {
    "duration": 397,
    "start_time": "2023-01-11T18:25:28.277Z"
   },
   {
    "duration": 329,
    "start_time": "2023-01-11T18:25:44.671Z"
   },
   {
    "duration": 4809,
    "start_time": "2023-01-11T18:28:00.977Z"
   },
   {
    "duration": 167,
    "start_time": "2023-01-11T18:43:26.914Z"
   },
   {
    "duration": 160,
    "start_time": "2023-01-11T18:44:06.110Z"
   },
   {
    "duration": 21,
    "start_time": "2023-01-11T18:44:10.331Z"
   },
   {
    "duration": 295,
    "start_time": "2023-01-11T18:44:23.998Z"
   },
   {
    "duration": 162,
    "start_time": "2023-01-11T18:45:42.071Z"
   },
   {
    "duration": 160,
    "start_time": "2023-01-11T18:47:11.401Z"
   },
   {
    "duration": 1284,
    "start_time": "2023-01-11T18:54:55.918Z"
   },
   {
    "duration": 186,
    "start_time": "2023-01-11T18:54:57.204Z"
   },
   {
    "duration": 48,
    "start_time": "2023-01-11T18:54:57.392Z"
   },
   {
    "duration": 116,
    "start_time": "2023-01-11T18:54:57.442Z"
   },
   {
    "duration": 16,
    "start_time": "2023-01-11T18:54:57.560Z"
   },
   {
    "duration": 1578,
    "start_time": "2023-01-11T18:54:57.577Z"
   },
   {
    "duration": 0,
    "start_time": "2023-01-11T18:54:59.157Z"
   },
   {
    "duration": 13,
    "start_time": "2023-01-11T18:55:15.899Z"
   },
   {
    "duration": 14,
    "start_time": "2023-01-11T18:55:22.388Z"
   },
   {
    "duration": 196,
    "start_time": "2023-01-11T18:55:52.316Z"
   },
   {
    "duration": 172,
    "start_time": "2023-01-11T18:56:01.852Z"
   },
   {
    "duration": 20,
    "start_time": "2023-01-11T18:58:06.749Z"
   },
   {
    "duration": 166,
    "start_time": "2023-01-11T18:58:31.833Z"
   },
   {
    "duration": 162,
    "start_time": "2023-01-11T19:02:51.897Z"
   },
   {
    "duration": 165,
    "start_time": "2023-01-11T19:03:19.988Z"
   },
   {
    "duration": 0,
    "start_time": "2023-01-11T19:09:06.084Z"
   },
   {
    "duration": 19,
    "start_time": "2023-01-11T19:10:23.293Z"
   },
   {
    "duration": 176,
    "start_time": "2023-01-11T19:13:06.365Z"
   },
   {
    "duration": 198,
    "start_time": "2023-01-11T19:13:16.533Z"
   },
   {
    "duration": 546,
    "start_time": "2023-01-11T19:16:37.446Z"
   },
   {
    "duration": 167,
    "start_time": "2023-01-11T19:17:35.391Z"
   },
   {
    "duration": 203,
    "start_time": "2023-01-11T19:20:12.808Z"
   },
   {
    "duration": 588,
    "start_time": "2023-01-11T19:20:19.441Z"
   },
   {
    "duration": 565,
    "start_time": "2023-01-11T19:23:39.981Z"
   },
   {
    "duration": 169,
    "start_time": "2023-01-11T19:23:40.548Z"
   },
   {
    "duration": 55,
    "start_time": "2023-01-11T19:23:40.719Z"
   },
   {
    "duration": 109,
    "start_time": "2023-01-11T19:23:40.776Z"
   },
   {
    "duration": 13,
    "start_time": "2023-01-11T19:23:40.887Z"
   },
   {
    "duration": 1772,
    "start_time": "2023-01-11T19:23:40.902Z"
   },
   {
    "duration": 0,
    "start_time": "2023-01-11T19:23:42.677Z"
   },
   {
    "duration": 192,
    "start_time": "2023-01-11T19:24:39.091Z"
   },
   {
    "duration": 293,
    "start_time": "2023-01-11T19:32:07.528Z"
   },
   {
    "duration": 287,
    "start_time": "2023-01-11T19:32:18.583Z"
   },
   {
    "duration": 286,
    "start_time": "2023-01-11T19:32:22.935Z"
   },
   {
    "duration": 102,
    "start_time": "2023-01-11T19:32:34.184Z"
   },
   {
    "duration": 44831,
    "start_time": "2023-01-11T19:32:44.834Z"
   },
   {
    "duration": 0,
    "start_time": "2023-01-11T19:33:29.670Z"
   },
   {
    "duration": 49,
    "start_time": "2023-01-11T19:33:34.873Z"
   },
   {
    "duration": 98,
    "start_time": "2023-01-11T19:33:36.895Z"
   },
   {
    "duration": 161,
    "start_time": "2023-01-11T19:33:45.552Z"
   },
   {
    "duration": 172,
    "start_time": "2023-01-11T19:34:14.824Z"
   },
   {
    "duration": 178,
    "start_time": "2023-01-11T19:42:05.291Z"
   },
   {
    "duration": 321,
    "start_time": "2023-01-11T19:43:51.087Z"
   },
   {
    "duration": 325,
    "start_time": "2023-01-11T19:43:58.447Z"
   },
   {
    "duration": 325,
    "start_time": "2023-01-11T19:44:23.407Z"
   },
   {
    "duration": 1482,
    "start_time": "2023-01-11T19:44:28.989Z"
   },
   {
    "duration": 4704,
    "start_time": "2023-01-11T19:44:30.848Z"
   },
   {
    "duration": 168,
    "start_time": "2023-01-11T19:49:50.913Z"
   },
   {
    "duration": 51,
    "start_time": "2023-01-11T19:49:57.774Z"
   },
   {
    "duration": 95,
    "start_time": "2023-01-11T19:49:58.608Z"
   },
   {
    "duration": 12,
    "start_time": "2023-01-11T19:50:03.424Z"
   },
   {
    "duration": 1590,
    "start_time": "2023-01-11T19:50:11.025Z"
   },
   {
    "duration": 4328,
    "start_time": "2023-01-11T19:50:13.155Z"
   },
   {
    "duration": 1548,
    "start_time": "2023-01-11T19:50:57.868Z"
   },
   {
    "duration": 1442,
    "start_time": "2023-01-11T19:51:10.546Z"
   },
   {
    "duration": 400,
    "start_time": "2023-01-11T19:51:29.352Z"
   },
   {
    "duration": 319,
    "start_time": "2023-01-11T19:51:39.434Z"
   },
   {
    "duration": 392,
    "start_time": "2023-01-11T19:51:50.833Z"
   },
   {
    "duration": 4622,
    "start_time": "2023-01-11T19:52:05.195Z"
   },
   {
    "duration": 196,
    "start_time": "2023-01-11T20:06:24.593Z"
   },
   {
    "duration": 176,
    "start_time": "2023-01-11T20:14:15.142Z"
   },
   {
    "duration": 47,
    "start_time": "2023-01-11T20:14:21.474Z"
   },
   {
    "duration": 12,
    "start_time": "2023-01-11T20:24:43.318Z"
   },
   {
    "duration": 290,
    "start_time": "2023-01-11T20:25:04.075Z"
   },
   {
    "duration": 50,
    "start_time": "2023-01-11T20:25:05.837Z"
   },
   {
    "duration": 107,
    "start_time": "2023-01-11T20:26:22.678Z"
   },
   {
    "duration": 14,
    "start_time": "2023-01-11T20:26:48.675Z"
   },
   {
    "duration": 3110,
    "start_time": "2023-01-11T20:28:25.777Z"
   },
   {
    "duration": 1533,
    "start_time": "2023-01-11T20:30:59.360Z"
   },
   {
    "duration": 460,
    "start_time": "2023-01-11T20:31:15.601Z"
   },
   {
    "duration": 4781,
    "start_time": "2023-01-11T20:31:28.362Z"
   },
   {
    "duration": 5119,
    "start_time": "2023-01-11T20:32:16.411Z"
   },
   {
    "duration": 2777,
    "start_time": "2023-01-11T20:34:50.027Z"
   },
   {
    "duration": 166,
    "start_time": "2023-01-11T20:40:25.414Z"
   },
   {
    "duration": 1612,
    "start_time": "2023-01-11T20:42:06.919Z"
   },
   {
    "duration": 22,
    "start_time": "2023-01-11T20:43:10.728Z"
   },
   {
    "duration": 283,
    "start_time": "2023-01-11T20:43:56.097Z"
   },
   {
    "duration": 167,
    "start_time": "2023-01-11T20:48:50.427Z"
   },
   {
    "duration": 169,
    "start_time": "2023-01-11T20:51:12.924Z"
   },
   {
    "duration": 54,
    "start_time": "2023-01-11T20:51:19.204Z"
   },
   {
    "duration": 94,
    "start_time": "2023-01-11T20:51:22.947Z"
   },
   {
    "duration": 15,
    "start_time": "2023-01-11T20:51:42.093Z"
   },
   {
    "duration": 174,
    "start_time": "2023-01-11T20:51:52.140Z"
   },
   {
    "duration": 95,
    "start_time": "2023-01-11T20:52:29.340Z"
   },
   {
    "duration": 289,
    "start_time": "2023-01-11T20:52:54.379Z"
   },
   {
    "duration": 297,
    "start_time": "2023-01-11T20:53:52.957Z"
   },
   {
    "duration": 295,
    "start_time": "2023-01-11T20:54:29.662Z"
   },
   {
    "duration": 276,
    "start_time": "2023-01-11T20:55:21.934Z"
   },
   {
    "duration": 309,
    "start_time": "2023-01-11T20:55:54.918Z"
   },
   {
    "duration": 53,
    "start_time": "2023-01-11T20:56:11.311Z"
   },
   {
    "duration": 97,
    "start_time": "2023-01-11T20:56:21.518Z"
   },
   {
    "duration": 17,
    "start_time": "2023-01-11T20:56:26.695Z"
   },
   {
    "duration": 19,
    "start_time": "2023-01-11T20:56:36.909Z"
   },
   {
    "duration": 571,
    "start_time": "2023-01-11T21:00:13.720Z"
   },
   {
    "duration": 171,
    "start_time": "2023-01-11T21:00:24.704Z"
   },
   {
    "duration": 48,
    "start_time": "2023-01-11T21:00:29.370Z"
   },
   {
    "duration": 95,
    "start_time": "2023-01-11T21:00:35.080Z"
   },
   {
    "duration": 18,
    "start_time": "2023-01-11T21:00:57.017Z"
   },
   {
    "duration": 1690,
    "start_time": "2023-01-11T21:01:04.345Z"
   },
   {
    "duration": 320,
    "start_time": "2023-01-11T21:01:22.574Z"
   },
   {
    "duration": 417,
    "start_time": "2023-01-11T21:01:29.120Z"
   },
   {
    "duration": 322,
    "start_time": "2023-01-11T21:01:43.793Z"
   },
   {
    "duration": 413,
    "start_time": "2023-01-11T21:01:59.953Z"
   },
   {
    "duration": 2686,
    "start_time": "2023-01-11T21:02:12.618Z"
   },
   {
    "duration": 161,
    "start_time": "2023-01-11T21:02:23.209Z"
   },
   {
    "duration": 1730,
    "start_time": "2023-01-11T21:02:28.643Z"
   },
   {
    "duration": 23,
    "start_time": "2023-01-11T21:02:40.276Z"
   },
   {
    "duration": 170,
    "start_time": "2023-01-11T21:02:44.992Z"
   },
   {
    "duration": 1222,
    "start_time": "2023-01-12T18:34:44.024Z"
   },
   {
    "duration": 179,
    "start_time": "2023-01-12T18:34:45.248Z"
   },
   {
    "duration": 50,
    "start_time": "2023-01-12T18:34:45.429Z"
   },
   {
    "duration": 118,
    "start_time": "2023-01-12T18:34:45.482Z"
   },
   {
    "duration": 27,
    "start_time": "2023-01-12T18:34:45.602Z"
   },
   {
    "duration": 1742,
    "start_time": "2023-01-12T18:34:45.630Z"
   },
   {
    "duration": 0,
    "start_time": "2023-01-12T18:34:47.374Z"
   },
   {
    "duration": 0,
    "start_time": "2023-01-12T18:34:47.375Z"
   },
   {
    "duration": 0,
    "start_time": "2023-01-12T18:34:47.376Z"
   },
   {
    "duration": 0,
    "start_time": "2023-01-12T18:34:47.377Z"
   },
   {
    "duration": 0,
    "start_time": "2023-01-12T18:34:47.379Z"
   },
   {
    "duration": 1674,
    "start_time": "2023-01-14T07:40:11.334Z"
   },
   {
    "duration": 200,
    "start_time": "2023-01-14T07:40:13.011Z"
   },
   {
    "duration": 68,
    "start_time": "2023-01-14T07:40:13.213Z"
   },
   {
    "duration": 127,
    "start_time": "2023-01-14T07:40:13.285Z"
   },
   {
    "duration": 37,
    "start_time": "2023-01-14T07:40:13.414Z"
   },
   {
    "duration": 430,
    "start_time": "2023-01-14T07:40:13.453Z"
   },
   {
    "duration": 3753,
    "start_time": "2023-01-14T07:40:13.885Z"
   },
   {
    "duration": 245,
    "start_time": "2023-01-14T07:40:17.640Z"
   },
   {
    "duration": 2313,
    "start_time": "2023-01-14T07:40:17.887Z"
   },
   {
    "duration": 52,
    "start_time": "2023-01-14T07:40:20.203Z"
   },
   {
    "duration": 253,
    "start_time": "2023-01-14T07:40:20.257Z"
   },
   {
    "duration": 1299,
    "start_time": "2023-01-15T06:32:43.418Z"
   },
   {
    "duration": 183,
    "start_time": "2023-01-15T06:32:44.720Z"
   },
   {
    "duration": 60,
    "start_time": "2023-01-15T06:32:44.905Z"
   },
   {
    "duration": 130,
    "start_time": "2023-01-15T06:32:44.967Z"
   },
   {
    "duration": 34,
    "start_time": "2023-01-15T06:32:45.100Z"
   },
   {
    "duration": 462,
    "start_time": "2023-01-15T06:32:45.136Z"
   },
   {
    "duration": 3608,
    "start_time": "2023-01-15T06:32:45.600Z"
   },
   {
    "duration": 217,
    "start_time": "2023-01-15T06:32:49.210Z"
   },
   {
    "duration": 1859,
    "start_time": "2023-01-15T06:32:49.429Z"
   },
   {
    "duration": 23,
    "start_time": "2023-01-15T06:32:51.289Z"
   },
   {
    "duration": 205,
    "start_time": "2023-01-15T06:32:51.314Z"
   },
   {
    "duration": 16,
    "start_time": "2023-01-15T06:43:21.692Z"
   },
   {
    "duration": 112,
    "start_time": "2023-01-15T06:44:28.374Z"
   },
   {
    "duration": 7,
    "start_time": "2023-01-15T06:45:09.466Z"
   },
   {
    "duration": 9,
    "start_time": "2023-01-15T06:45:16.929Z"
   },
   {
    "duration": 2260,
    "start_time": "2023-01-16T08:27:27.273Z"
   },
   {
    "duration": 799,
    "start_time": "2023-01-16T08:34:49.286Z"
   },
   {
    "duration": 2492,
    "start_time": "2023-01-16T08:40:40.930Z"
   },
   {
    "duration": 105,
    "start_time": "2023-01-16T08:43:11.929Z"
   },
   {
    "duration": 81,
    "start_time": "2023-01-16T08:43:15.930Z"
   },
   {
    "duration": 112,
    "start_time": "2023-01-16T08:46:55.698Z"
   },
   {
    "duration": 2350,
    "start_time": "2023-01-16T08:49:12.532Z"
   },
   {
    "duration": 26,
    "start_time": "2023-01-16T08:50:36.767Z"
   },
   {
    "duration": 14,
    "start_time": "2023-01-16T08:50:43.301Z"
   },
   {
    "duration": 97,
    "start_time": "2023-01-16T08:52:21.600Z"
   },
   {
    "duration": 32,
    "start_time": "2023-01-16T08:53:04.467Z"
   },
   {
    "duration": 129,
    "start_time": "2023-01-16T08:53:44.465Z"
   },
   {
    "duration": 21,
    "start_time": "2023-01-16T08:54:01.098Z"
   },
   {
    "duration": 15,
    "start_time": "2023-01-16T08:54:30.365Z"
   },
   {
    "duration": 22,
    "start_time": "2023-01-16T08:56:05.618Z"
   },
   {
    "duration": 36,
    "start_time": "2023-01-16T08:58:56.944Z"
   },
   {
    "duration": 25,
    "start_time": "2023-01-16T08:59:21.757Z"
   },
   {
    "duration": 21,
    "start_time": "2023-01-16T09:00:15.974Z"
   },
   {
    "duration": 20,
    "start_time": "2023-01-16T09:00:21.670Z"
   },
   {
    "duration": 15,
    "start_time": "2023-01-16T09:02:21.319Z"
   },
   {
    "duration": 18,
    "start_time": "2023-01-16T09:02:35.565Z"
   },
   {
    "duration": 20,
    "start_time": "2023-01-16T09:03:25.206Z"
   },
   {
    "duration": 18,
    "start_time": "2023-01-16T09:03:38.203Z"
   },
   {
    "duration": 21,
    "start_time": "2023-01-16T09:09:43.814Z"
   },
   {
    "duration": 19,
    "start_time": "2023-01-16T09:16:55.742Z"
   },
   {
    "duration": 17,
    "start_time": "2023-01-16T09:24:51.675Z"
   },
   {
    "duration": 14,
    "start_time": "2023-01-16T09:24:58.768Z"
   },
   {
    "duration": 22,
    "start_time": "2023-01-16T09:28:36.101Z"
   },
   {
    "duration": 33,
    "start_time": "2023-01-16T09:28:56.437Z"
   },
   {
    "duration": 30,
    "start_time": "2023-01-16T09:29:36.212Z"
   },
   {
    "duration": 34,
    "start_time": "2023-01-16T09:30:23.277Z"
   },
   {
    "duration": 38,
    "start_time": "2023-01-16T09:31:01.909Z"
   },
   {
    "duration": 29,
    "start_time": "2023-01-16T09:32:21.430Z"
   },
   {
    "duration": 36,
    "start_time": "2023-01-16T09:33:43.806Z"
   },
   {
    "duration": 37,
    "start_time": "2023-01-16T09:33:51.257Z"
   },
   {
    "duration": 20,
    "start_time": "2023-01-16T09:34:11.679Z"
   },
   {
    "duration": 6,
    "start_time": "2023-01-16T09:35:23.167Z"
   },
   {
    "duration": 16,
    "start_time": "2023-01-16T09:35:36.785Z"
   },
   {
    "duration": 24,
    "start_time": "2023-01-16T09:36:37.267Z"
   },
   {
    "duration": 44,
    "start_time": "2023-01-16T09:36:47.743Z"
   },
   {
    "duration": 31,
    "start_time": "2023-01-16T09:37:51.993Z"
   },
   {
    "duration": 27,
    "start_time": "2023-01-16T09:38:03.409Z"
   },
   {
    "duration": 25,
    "start_time": "2023-01-16T09:38:41.120Z"
   },
   {
    "duration": 35,
    "start_time": "2023-01-16T09:38:45.792Z"
   },
   {
    "duration": 41,
    "start_time": "2023-01-16T09:39:06.969Z"
   },
   {
    "duration": 24,
    "start_time": "2023-01-16T09:39:50.869Z"
   },
   {
    "duration": 22,
    "start_time": "2023-01-16T09:39:55.209Z"
   },
   {
    "duration": 31,
    "start_time": "2023-01-16T09:40:34.490Z"
   },
   {
    "duration": 37,
    "start_time": "2023-01-16T09:40:52.090Z"
   },
   {
    "duration": 33,
    "start_time": "2023-01-16T09:40:58.810Z"
   },
   {
    "duration": 35,
    "start_time": "2023-01-16T09:41:05.506Z"
   },
   {
    "duration": 49,
    "start_time": "2023-01-16T09:41:13.835Z"
   },
   {
    "duration": 36,
    "start_time": "2023-01-16T09:41:22.358Z"
   },
   {
    "duration": 40,
    "start_time": "2023-01-16T09:41:31.938Z"
   },
   {
    "duration": 27,
    "start_time": "2023-01-16T09:42:21.522Z"
   },
   {
    "duration": 34,
    "start_time": "2023-01-16T09:42:30.168Z"
   },
   {
    "duration": 28,
    "start_time": "2023-01-16T09:42:34.907Z"
   },
   {
    "duration": 23,
    "start_time": "2023-01-16T09:42:41.323Z"
   },
   {
    "duration": 42,
    "start_time": "2023-01-16T09:44:29.220Z"
   },
   {
    "duration": 30,
    "start_time": "2023-01-16T09:44:51.020Z"
   },
   {
    "duration": 26,
    "start_time": "2023-01-16T09:45:01.892Z"
   },
   {
    "duration": 41,
    "start_time": "2023-01-16T09:45:28.465Z"
   },
   {
    "duration": 39,
    "start_time": "2023-01-16T09:45:46.574Z"
   },
   {
    "duration": 26,
    "start_time": "2023-01-16T09:45:57.867Z"
   },
   {
    "duration": 42,
    "start_time": "2023-01-16T09:51:36.521Z"
   },
   {
    "duration": 6154,
    "start_time": "2023-01-16T10:03:01.375Z"
   },
   {
    "duration": 334,
    "start_time": "2023-01-16T10:03:59.828Z"
   },
   {
    "duration": 2883,
    "start_time": "2023-01-16T10:17:53.837Z"
   },
   {
    "duration": 2974,
    "start_time": "2023-01-16T10:18:50.852Z"
   },
   {
    "duration": 1967,
    "start_time": "2023-01-16T10:19:32.775Z"
   },
   {
    "duration": 4054,
    "start_time": "2023-01-16T10:20:13.308Z"
   },
   {
    "duration": 40,
    "start_time": "2023-01-16T10:20:17.364Z"
   },
   {
    "duration": 61,
    "start_time": "2023-01-16T10:20:17.413Z"
   },
   {
    "duration": 240,
    "start_time": "2023-01-16T10:20:17.477Z"
   },
   {
    "duration": 40,
    "start_time": "2023-01-16T10:20:17.719Z"
   },
   {
    "duration": 596,
    "start_time": "2023-01-16T10:20:17.761Z"
   },
   {
    "duration": 5462,
    "start_time": "2023-01-16T10:20:18.363Z"
   },
   {
    "duration": 447,
    "start_time": "2023-01-16T10:20:23.827Z"
   },
   {
    "duration": 2840,
    "start_time": "2023-01-16T10:20:24.277Z"
   },
   {
    "duration": 38,
    "start_time": "2023-01-16T10:20:27.120Z"
   },
   {
    "duration": 339,
    "start_time": "2023-01-16T10:20:27.160Z"
   },
   {
    "duration": 2878,
    "start_time": "2023-01-16T10:22:52.525Z"
   },
   {
    "duration": 3192,
    "start_time": "2023-01-16T10:23:21.830Z"
   },
   {
    "duration": 3346,
    "start_time": "2023-01-16T10:36:45.837Z"
   },
   {
    "duration": 4287,
    "start_time": "2023-01-16T10:40:08.550Z"
   },
   {
    "duration": 3371,
    "start_time": "2023-01-16T10:46:41.849Z"
   },
   {
    "duration": 3637,
    "start_time": "2023-01-16T10:48:12.817Z"
   },
   {
    "duration": 3520,
    "start_time": "2023-01-16T10:48:38.382Z"
   },
   {
    "duration": 3554,
    "start_time": "2023-01-16T10:49:31.541Z"
   },
   {
    "duration": 985,
    "start_time": "2023-01-16T10:51:11.130Z"
   },
   {
    "duration": 14,
    "start_time": "2023-01-16T10:51:48.433Z"
   },
   {
    "duration": 16,
    "start_time": "2023-01-16T10:51:55.793Z"
   },
   {
    "duration": 895,
    "start_time": "2023-01-16T10:52:06.037Z"
   },
   {
    "duration": 871,
    "start_time": "2023-01-16T10:52:25.033Z"
   },
   {
    "duration": 3259,
    "start_time": "2023-01-16T10:52:48.217Z"
   },
   {
    "duration": 4073,
    "start_time": "2023-01-16T10:55:03.290Z"
   },
   {
    "duration": 38,
    "start_time": "2023-01-16T10:55:07.365Z"
   },
   {
    "duration": 32,
    "start_time": "2023-01-16T10:55:07.405Z"
   },
   {
    "duration": 367,
    "start_time": "2023-01-16T10:55:07.440Z"
   },
   {
    "duration": 30,
    "start_time": "2023-01-16T10:55:07.811Z"
   },
   {
    "duration": 487,
    "start_time": "2023-01-16T10:55:07.844Z"
   },
   {
    "duration": 4413,
    "start_time": "2023-01-16T10:55:08.333Z"
   },
   {
    "duration": 250,
    "start_time": "2023-01-16T10:55:12.748Z"
   },
   {
    "duration": 3400,
    "start_time": "2023-01-16T10:55:13.000Z"
   },
   {
    "duration": 0,
    "start_time": "2023-01-16T10:55:16.404Z"
   },
   {
    "duration": 0,
    "start_time": "2023-01-16T10:55:16.406Z"
   },
   {
    "duration": 4031,
    "start_time": "2023-01-16T10:56:26.984Z"
   },
   {
    "duration": 4395,
    "start_time": "2023-01-16T10:56:55.572Z"
   },
   {
    "duration": 4507,
    "start_time": "2023-01-16T10:58:29.716Z"
   },
   {
    "duration": 4704,
    "start_time": "2023-01-16T10:59:00.992Z"
   },
   {
    "duration": 5650,
    "start_time": "2023-01-16T11:04:49.675Z"
   },
   {
    "duration": 4932,
    "start_time": "2023-01-16T11:11:33.095Z"
   },
   {
    "duration": 5375,
    "start_time": "2023-01-16T11:15:57.401Z"
   },
   {
    "duration": 6232,
    "start_time": "2023-01-16T11:18:01.147Z"
   },
   {
    "duration": 6177,
    "start_time": "2023-01-16T11:19:20.835Z"
   },
   {
    "duration": 6524,
    "start_time": "2023-01-16T11:20:29.471Z"
   },
   {
    "duration": 6211,
    "start_time": "2023-01-16T11:21:18.477Z"
   },
   {
    "duration": 3970,
    "start_time": "2023-01-16T11:21:47.099Z"
   },
   {
    "duration": 26,
    "start_time": "2023-01-16T11:21:51.072Z"
   },
   {
    "duration": 16,
    "start_time": "2023-01-16T11:21:51.100Z"
   },
   {
    "duration": 268,
    "start_time": "2023-01-16T11:21:51.119Z"
   },
   {
    "duration": 31,
    "start_time": "2023-01-16T11:21:51.389Z"
   },
   {
    "duration": 485,
    "start_time": "2023-01-16T11:21:51.422Z"
   },
   {
    "duration": 3694,
    "start_time": "2023-01-16T11:21:51.909Z"
   },
   {
    "duration": 231,
    "start_time": "2023-01-16T11:21:55.604Z"
   },
   {
    "duration": 6301,
    "start_time": "2023-01-16T11:21:55.837Z"
   },
   {
    "duration": 39,
    "start_time": "2023-01-16T11:22:02.140Z"
   },
   {
    "duration": 237,
    "start_time": "2023-01-16T11:22:02.181Z"
   },
   {
    "duration": 5627,
    "start_time": "2023-01-16T11:23:00.990Z"
   },
   {
    "duration": 3696,
    "start_time": "2023-01-16T11:42:54.947Z"
   },
   {
    "duration": 19,
    "start_time": "2023-01-16T11:42:58.646Z"
   },
   {
    "duration": 15,
    "start_time": "2023-01-16T11:42:58.666Z"
   },
   {
    "duration": 230,
    "start_time": "2023-01-16T11:42:58.683Z"
   },
   {
    "duration": 43,
    "start_time": "2023-01-16T11:42:58.916Z"
   },
   {
    "duration": 438,
    "start_time": "2023-01-16T11:42:58.961Z"
   },
   {
    "duration": 3669,
    "start_time": "2023-01-16T11:42:59.402Z"
   },
   {
    "duration": 239,
    "start_time": "2023-01-16T11:43:03.073Z"
   },
   {
    "duration": 5168,
    "start_time": "2023-01-16T11:43:03.314Z"
   },
   {
    "duration": 29,
    "start_time": "2023-01-16T11:43:08.484Z"
   },
   {
    "duration": 225,
    "start_time": "2023-01-16T11:43:08.515Z"
   },
   {
    "duration": 3390,
    "start_time": "2023-01-16T19:44:22.297Z"
   },
   {
    "duration": 18,
    "start_time": "2023-01-16T19:44:25.689Z"
   },
   {
    "duration": 34,
    "start_time": "2023-01-16T19:44:25.709Z"
   },
   {
    "duration": 214,
    "start_time": "2023-01-16T19:44:25.745Z"
   },
   {
    "duration": 24,
    "start_time": "2023-01-16T19:44:25.961Z"
   },
   {
    "duration": 372,
    "start_time": "2023-01-16T19:44:25.986Z"
   },
   {
    "duration": 3203,
    "start_time": "2023-01-16T19:44:26.360Z"
   },
   {
    "duration": 203,
    "start_time": "2023-01-16T19:44:29.565Z"
   },
   {
    "duration": 5041,
    "start_time": "2023-01-16T19:44:29.770Z"
   },
   {
    "duration": 36,
    "start_time": "2023-01-16T19:44:34.815Z"
   },
   {
    "duration": 226,
    "start_time": "2023-01-16T19:44:34.853Z"
   },
   {
    "duration": 17,
    "start_time": "2023-01-16T19:52:23.567Z"
   },
   {
    "duration": 96,
    "start_time": "2023-01-16T19:52:26.787Z"
   }
  ],
  "kernelspec": {
   "display_name": "Python 3 (ipykernel)",
   "language": "python",
   "name": "python3"
  },
  "language_info": {
   "codemirror_mode": {
    "name": "ipython",
    "version": 3
   },
   "file_extension": ".py",
   "mimetype": "text/x-python",
   "name": "python",
   "nbconvert_exporter": "python",
   "pygments_lexer": "ipython3",
   "version": "3.9.5"
  },
  "toc": {
   "base_numbering": 1,
   "nav_menu": {},
   "number_sections": true,
   "sideBar": true,
   "skip_h1_title": true,
   "title_cell": "Table of Contents",
   "title_sidebar": "Contents",
   "toc_cell": false,
   "toc_position": {},
   "toc_section_display": true,
   "toc_window_display": false
  }
 },
 "nbformat": 4,
 "nbformat_minor": 2
}
