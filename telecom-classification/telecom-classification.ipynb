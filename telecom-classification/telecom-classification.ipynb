{
 "cells": [
  {
   "cell_type": "markdown",
   "metadata": {},
   "source": [
    "# Рекомендация тарифов"
   ]
  },
  {
   "cell_type": "markdown",
   "metadata": {},
   "source": [
    "# Исследование и выбор оптимального тарифа мобильной связи\n",
    "\n"
   ]
  },
  {
   "cell_type": "markdown",
   "metadata": {},
   "source": [
    "Мы будем анализировать информацию о клиентах мобильной сети \"Мегалайн\", использующих архивные тарифы, с целью предложить им новые тарифы «Смарт» или «Ультра». Для того, чтобы предложить клиентам оптимальный тариф, построим модель на основе данных о поведении клиентов, которые уже перешли на новые тарифы."
   ]
  },
  {
   "cell_type": "markdown",
   "metadata": {},
   "source": [
    "## Откроем и изучим файл"
   ]
  },
  {
   "cell_type": "code",
   "execution_count": 1,
   "metadata": {},
   "outputs": [],
   "source": [
    "import pandas as pd\n",
    "from sklearn.model_selection import train_test_split\n",
    "from sklearn.tree import DecisionTreeClassifier\n",
    "from sklearn.metrics import accuracy_score\n",
    "from sklearn.ensemble import RandomForestClassifier\n",
    "from sklearn.linear_model import LogisticRegression\n",
    "from sklearn.dummy import DummyClassifier\n",
    "from joblib import dump"
   ]
  },
  {
   "cell_type": "code",
   "execution_count": 2,
   "metadata": {},
   "outputs": [
    {
     "data": {
      "text/html": [
       "<div>\n",
       "<style scoped>\n",
       "    .dataframe tbody tr th:only-of-type {\n",
       "        vertical-align: middle;\n",
       "    }\n",
       "\n",
       "    .dataframe tbody tr th {\n",
       "        vertical-align: top;\n",
       "    }\n",
       "\n",
       "    .dataframe thead th {\n",
       "        text-align: right;\n",
       "    }\n",
       "</style>\n",
       "<table border=\"1\" class=\"dataframe\">\n",
       "  <thead>\n",
       "    <tr style=\"text-align: right;\">\n",
       "      <th></th>\n",
       "      <th>calls</th>\n",
       "      <th>minutes</th>\n",
       "      <th>messages</th>\n",
       "      <th>mb_used</th>\n",
       "      <th>is_ultra</th>\n",
       "    </tr>\n",
       "  </thead>\n",
       "  <tbody>\n",
       "    <tr>\n",
       "      <th>0</th>\n",
       "      <td>40.0</td>\n",
       "      <td>311.90</td>\n",
       "      <td>83.0</td>\n",
       "      <td>19915.42</td>\n",
       "      <td>0</td>\n",
       "    </tr>\n",
       "    <tr>\n",
       "      <th>1</th>\n",
       "      <td>85.0</td>\n",
       "      <td>516.75</td>\n",
       "      <td>56.0</td>\n",
       "      <td>22696.96</td>\n",
       "      <td>0</td>\n",
       "    </tr>\n",
       "    <tr>\n",
       "      <th>2</th>\n",
       "      <td>77.0</td>\n",
       "      <td>467.66</td>\n",
       "      <td>86.0</td>\n",
       "      <td>21060.45</td>\n",
       "      <td>0</td>\n",
       "    </tr>\n",
       "    <tr>\n",
       "      <th>3</th>\n",
       "      <td>106.0</td>\n",
       "      <td>745.53</td>\n",
       "      <td>81.0</td>\n",
       "      <td>8437.39</td>\n",
       "      <td>1</td>\n",
       "    </tr>\n",
       "    <tr>\n",
       "      <th>4</th>\n",
       "      <td>66.0</td>\n",
       "      <td>418.74</td>\n",
       "      <td>1.0</td>\n",
       "      <td>14502.75</td>\n",
       "      <td>0</td>\n",
       "    </tr>\n",
       "    <tr>\n",
       "      <th>...</th>\n",
       "      <td>...</td>\n",
       "      <td>...</td>\n",
       "      <td>...</td>\n",
       "      <td>...</td>\n",
       "      <td>...</td>\n",
       "    </tr>\n",
       "    <tr>\n",
       "      <th>3209</th>\n",
       "      <td>122.0</td>\n",
       "      <td>910.98</td>\n",
       "      <td>20.0</td>\n",
       "      <td>35124.90</td>\n",
       "      <td>1</td>\n",
       "    </tr>\n",
       "    <tr>\n",
       "      <th>3210</th>\n",
       "      <td>25.0</td>\n",
       "      <td>190.36</td>\n",
       "      <td>0.0</td>\n",
       "      <td>3275.61</td>\n",
       "      <td>0</td>\n",
       "    </tr>\n",
       "    <tr>\n",
       "      <th>3211</th>\n",
       "      <td>97.0</td>\n",
       "      <td>634.44</td>\n",
       "      <td>70.0</td>\n",
       "      <td>13974.06</td>\n",
       "      <td>0</td>\n",
       "    </tr>\n",
       "    <tr>\n",
       "      <th>3212</th>\n",
       "      <td>64.0</td>\n",
       "      <td>462.32</td>\n",
       "      <td>90.0</td>\n",
       "      <td>31239.78</td>\n",
       "      <td>0</td>\n",
       "    </tr>\n",
       "    <tr>\n",
       "      <th>3213</th>\n",
       "      <td>80.0</td>\n",
       "      <td>566.09</td>\n",
       "      <td>6.0</td>\n",
       "      <td>29480.52</td>\n",
       "      <td>1</td>\n",
       "    </tr>\n",
       "  </tbody>\n",
       "</table>\n",
       "<p>3214 rows × 5 columns</p>\n",
       "</div>"
      ],
      "text/plain": [
       "      calls  minutes  messages   mb_used  is_ultra\n",
       "0      40.0   311.90      83.0  19915.42         0\n",
       "1      85.0   516.75      56.0  22696.96         0\n",
       "2      77.0   467.66      86.0  21060.45         0\n",
       "3     106.0   745.53      81.0   8437.39         1\n",
       "4      66.0   418.74       1.0  14502.75         0\n",
       "...     ...      ...       ...       ...       ...\n",
       "3209  122.0   910.98      20.0  35124.90         1\n",
       "3210   25.0   190.36       0.0   3275.61         0\n",
       "3211   97.0   634.44      70.0  13974.06         0\n",
       "3212   64.0   462.32      90.0  31239.78         0\n",
       "3213   80.0   566.09       6.0  29480.52         1\n",
       "\n",
       "[3214 rows x 5 columns]"
      ]
     },
     "metadata": {},
     "output_type": "display_data"
    }
   ],
   "source": [
    "data = pd.read_csv('/datasets/users_behavior.csv')\n",
    "display(data)"
   ]
  },
  {
   "cell_type": "code",
   "execution_count": 3,
   "metadata": {},
   "outputs": [
    {
     "name": "stdout",
     "output_type": "stream",
     "text": [
      "<class 'pandas.core.frame.DataFrame'>\n",
      "RangeIndex: 3214 entries, 0 to 3213\n",
      "Data columns (total 5 columns):\n",
      " #   Column    Non-Null Count  Dtype  \n",
      "---  ------    --------------  -----  \n",
      " 0   calls     3214 non-null   float64\n",
      " 1   minutes   3214 non-null   float64\n",
      " 2   messages  3214 non-null   float64\n",
      " 3   mb_used   3214 non-null   float64\n",
      " 4   is_ultra  3214 non-null   int64  \n",
      "dtypes: float64(4), int64(1)\n",
      "memory usage: 125.7 KB\n"
     ]
    }
   ],
   "source": [
    "data.info() #посмотрим тип данных"
   ]
  },
  {
   "cell_type": "code",
   "execution_count": 4,
   "metadata": {},
   "outputs": [
    {
     "data": {
      "text/plain": [
       "dtype('int64')"
      ]
     },
     "execution_count": 4,
     "metadata": {},
     "output_type": "execute_result"
    }
   ],
   "source": [
    "data['messages']=data['messages'].astype(\"int\")  #изменим тип столбца с количеством сообщений на тип int, так как по сути это целые числа\n",
    "#data['messages'].dtype\n",
    "data['calls']=data['calls'].astype(\"int\")  #изменим тип столбца с количеством звонков на тип int, так как по сути это целые числа\n",
    "data['calls'].dtype"
   ]
  },
  {
   "cell_type": "code",
   "execution_count": 5,
   "metadata": {},
   "outputs": [
    {
     "data": {
      "text/plain": [
       "0"
      ]
     },
     "execution_count": 5,
     "metadata": {},
     "output_type": "execute_result"
    }
   ],
   "source": [
    " data.duplicated().sum()  #проверка явных дубликатов"
   ]
  },
  {
   "cell_type": "markdown",
   "metadata": {},
   "source": [
    "# Вывод:\n",
    "а. при первичном рассмотрении можно отметить, что файл имеет 3214 строк и 5 столбцов;\n",
    "\n",
    "б. мы изменили типы столбцов с количеством сообщений и количеством звонков на int, так как значения этих столбцов - целые числа;\n",
    "\n",
    "в. явных дубликатов нет;\n",
    "\n",
    "г. пропущенных значений нет.\n"
   ]
  },
  {
   "cell_type": "markdown",
   "metadata": {},
   "source": [
    "## Разобьем данные на выборки"
   ]
  },
  {
   "cell_type": "markdown",
   "metadata": {},
   "source": [
    "Спрятанной тестовой выборки нет. Значит, данные нужно разбить на три части: обучающую, валидационную и тестовую (обычно делят на 60, 20 и 20% соответственно)."
   ]
  },
  {
   "cell_type": "markdown",
   "metadata": {},
   "source": [
    "2.1. Разбиваем исходные данные на обучающую(60%) и валидационную плюс тестовую выборки(в совокупности 40%)."
   ]
  },
  {
   "cell_type": "code",
   "execution_count": 6,
   "metadata": {},
   "outputs": [
    {
     "name": "stdout",
     "output_type": "stream",
     "text": [
      "(1928, 4)\n",
      "(1928,)\n"
     ]
    }
   ],
   "source": [
    "data_train, data_valtest = train_test_split(data, test_size=0.4, random_state=12345)\n",
    "features = data_valtest.drop('is_ultra', axis=1)\n",
    "target = data_valtest['is_ultra']\n",
    "\n",
    "features_train = data_train.drop('is_ultra', axis=1)\n",
    "target_train = data_train['is_ultra']\n",
    "\n",
    "print(features_train.shape)\n",
    "print(target_train.shape)"
   ]
  },
  {
   "cell_type": "markdown",
   "metadata": {},
   "source": [
    "2.2. Разбиваем полученные выше данные на валидационную и тестовую выборки (по 20 % от изначальных данных, по 50% от данных по валидационной и тестовой выборке в совокупности)."
   ]
  },
  {
   "cell_type": "code",
   "execution_count": 7,
   "metadata": {},
   "outputs": [
    {
     "name": "stdout",
     "output_type": "stream",
     "text": [
      "(643, 4)\n",
      "(643,)\n",
      "(643, 4)\n",
      "(643,)\n"
     ]
    }
   ],
   "source": [
    "features_valid, features_test, target_valid, target_test = train_test_split(features, target, \n",
    "                                                                            test_size=0.5, random_state=12345)\n",
    "\n",
    "print(features_valid.shape)\n",
    "print(target_valid.shape)\n",
    "print(features_test.shape)\n",
    "print(target_test.shape)"
   ]
  },
  {
   "cell_type": "markdown",
   "metadata": {},
   "source": [
    "# Вывод:\n",
    "мы разбили исходные данные на обучающую(60%), валидационную (20%) и тестовую (20%) выборки."
   ]
  },
  {
   "cell_type": "markdown",
   "metadata": {},
   "source": [
    "## Исследуем модели"
   ]
  },
  {
   "cell_type": "markdown",
   "metadata": {},
   "source": [
    "3.1. Исследуем модель дерева решений."
   ]
  },
  {
   "cell_type": "code",
   "execution_count": 8,
   "metadata": {},
   "outputs": [
    {
     "name": "stdout",
     "output_type": "stream",
     "text": [
      "max_depth = 1 : 0.7542768273716952\n",
      "max_depth = 2 : 0.7822706065318819\n",
      "max_depth = 3 : 0.7853810264385692\n",
      "max_depth = 4 : 0.7791601866251944\n",
      "max_depth = 5 : 0.7791601866251944\n",
      "max_depth = 6 : 0.7838258164852255\n",
      "max_depth = 7 : 0.7822706065318819\n",
      "max_depth = 8 : 0.7791601866251944\n",
      "max_depth = 9 : 0.7822706065318819\n",
      "Лучшая глубина дерева= 3 ;лучшее качество= 0.7853810264385692\n"
     ]
    }
   ],
   "source": [
    "for depth in range(1, 10):\n",
    "    model = DecisionTreeClassifier(random_state=12345, max_depth = depth) # обучите модель с заданной глубиной дерева\n",
    "    model.fit(features_train,target_train) # обучите модель\n",
    "    predictions_valid = model.predict(features_valid) # получите предсказания модели\n",
    "    result = accuracy_score(target_valid, predictions_valid) # посчитайте качество модели\n",
    "    print('max_depth =', depth, ':', result)\n",
    "best_accuracy = 0\n",
    "best_depth = 0\n",
    "for depth in range(1,10):\n",
    "    model = DecisionTreeClassifier(max_depth=depth, random_state=12345)\n",
    "    model.fit(features_train, target_train)\n",
    "    accuracy = model.score(features_valid, target_valid)\n",
    "    if accuracy > best_accuracy:\n",
    "        best_accuracy = accuracy\n",
    "        best_depth = depth\n",
    "print(\"Лучшая глубина дерева=\", best_depth, \";лучшее качество=\", best_accuracy)"
   ]
  },
  {
   "cell_type": "markdown",
   "metadata": {},
   "source": [
    "3.2. Исследуем модель случайного леса"
   ]
  },
  {
   "cell_type": "code",
   "execution_count": 9,
   "metadata": {},
   "outputs": [
    {
     "name": "stdout",
     "output_type": "stream",
     "text": [
      "Количество деревьев: 26 глубина дерева: 7 качество: 0.807153965785381\n"
     ]
    }
   ],
   "source": [
    "best_accuracy = 0\n",
    "best_depth = 0\n",
    "for depth in range(1,10):\n",
    "    for est in range(10,30):\n",
    "        model = RandomForestClassifier(max_depth=depth, n_estimators=est, random_state=12345)\n",
    "        model.fit(features_train, target_train)\n",
    "        accuracy = model.score(features_valid, target_valid)\n",
    "        if accuracy > best_accuracy:\n",
    "            best_accuracy = accuracy\n",
    "            best_depth = depth\n",
    "            best_est = est\n",
    "                 \n",
    "print( \"Количество деревьев:\", best_est, \"глубина дерева:\", best_depth,\"качество:\", best_accuracy)\n"
   ]
  },
  {
   "cell_type": "markdown",
   "metadata": {},
   "source": [
    "3.3. Исследуем модель логистической регрессии"
   ]
  },
  {
   "cell_type": "code",
   "execution_count": 10,
   "metadata": {},
   "outputs": [
    {
     "name": "stdout",
     "output_type": "stream",
     "text": [
      "Качество: 0.7107309486780715\n"
     ]
    }
   ],
   "source": [
    "model = LogisticRegression(solver='lbfgs')\n",
    "model.fit(features_train, target_train)\n",
    "accuracy = model.score(features_valid, target_valid)\n",
    "print(\"Качество:\", accuracy)\n"
   ]
  },
  {
   "cell_type": "markdown",
   "metadata": {},
   "source": [
    "# Вывод:\n",
    "а. лучшее качество у модели дерева решений (DecisionTreeClassifier) - 0.7853810264385692, лучшая глубина дерева - 3;\n",
    "\n",
    "б. лучшее качество у модели случайного леса (RandomForestClassifier) - 0.807153965785381, количество деревьев - 26, глубина дерева - 7;\n",
    "\n",
    "в. результат Accuracy у модели логистической регрессии (LogisticRegression) - 0.7107309486780715."
   ]
  },
  {
   "cell_type": "markdown",
   "metadata": {},
   "source": [
    "## Проверим модель на тестовой выборке"
   ]
  },
  {
   "cell_type": "markdown",
   "metadata": {},
   "source": [
    "Проверим на тестовой выборке модель, которая показала себя лучшим образом - модель случайного леса (RandomForestClassifier)"
   ]
  },
  {
   "cell_type": "code",
   "execution_count": 11,
   "metadata": {},
   "outputs": [
    {
     "name": "stdout",
     "output_type": "stream",
     "text": [
      "Качество: 0.80248833592535\n"
     ]
    }
   ],
   "source": [
    "model = RandomForestClassifier(max_depth=7, n_estimators=26, random_state=12345)\n",
    "model.fit(features_train, target_train)\n",
    "accuracy_test = model.score(features_test, target_test)\n",
    "print(\"Качество:\", accuracy_test)\n"
   ]
  },
  {
   "cell_type": "markdown",
   "metadata": {},
   "source": [
    "# Вывод:\n",
    "\n",
    "Качество модели случайного леса (RandomForestClassifier) на тестовой выборке - 0.80248833592535."
   ]
  },
  {
   "cell_type": "markdown",
   "metadata": {},
   "source": [
    "## Проверим модели на адекватность"
   ]
  },
  {
   "cell_type": "markdown",
   "metadata": {},
   "source": [
    "5.1. Создадим простейшую (dummy) модель для получения контрольных данных для сравнительной оценки построенной нами более сложной модели и определим ее качество."
   ]
  },
  {
   "cell_type": "code",
   "execution_count": 12,
   "metadata": {},
   "outputs": [
    {
     "name": "stdout",
     "output_type": "stream",
     "text": [
      "Качество DummyClassifier: 0.7060653188180405\n"
     ]
    }
   ],
   "source": [
    "model_dc = DummyClassifier(strategy='most_frequent', random_state=12345)\n",
    "model_dc.fit(features_train, target_train)\n",
    "result_dc = model_dc.score(features_valid, target_valid)\n",
    "print('Качество DummyClassifier:', result_dc)"
   ]
  },
  {
   "cell_type": "markdown",
   "metadata": {},
   "source": [
    "5.2. Выведем качество нашей лучшей модели."
   ]
  },
  {
   "cell_type": "code",
   "execution_count": 13,
   "metadata": {},
   "outputs": [
    {
     "name": "stdout",
     "output_type": "stream",
     "text": [
      "Качество RandomForestClassifier: 0.80248833592535\n"
     ]
    }
   ],
   "source": [
    "print('Качество RandomForestClassifier:',accuracy_test )"
   ]
  },
  {
   "cell_type": "markdown",
   "metadata": {},
   "source": [
    "# Вывод:\n",
    "наша модель адекватна, так как ее качество выше качества контрольной модели."
   ]
  },
  {
   "cell_type": "markdown",
   "metadata": {},
   "source": [
    "# Общий вывод:\n",
    "\n",
    "1. у нас чистые исходные данные без пропусков и дубликатов;\n",
    "\n",
    "2. при исследовании нескольких моделей (DecisionTreeClassifier, RandomForestClassifier, LogisticRegression) наилучшее качество показала модель RandomForestClassifier -  0.807153965785381 с количеством деревьев - 26 и глубиной дерева - 7;\n",
    "\n",
    "3. качество модели случайного леса (RandomForestClassifier) на тестовой выборке - 0.80248833592535.\n",
    "\n",
    "4. наша модель RandomForestClassifier адекватна, что выявила проверка, сравнение с контрольной моделью DummyClassifier, качество DummyClassifier - 0.7060653188180405.\n"
   ]
  }
 ],
 "metadata": {
  "ExecuteTimeLog": [
   {
    "duration": 78,
    "start_time": "2023-02-22T09:33:48.982Z"
   },
   {
    "duration": 1345,
    "start_time": "2023-02-22T09:34:05.282Z"
   },
   {
    "duration": 6,
    "start_time": "2023-02-22T09:34:08.732Z"
   },
   {
    "duration": 112,
    "start_time": "2023-02-22T09:34:13.536Z"
   },
   {
    "duration": 50,
    "start_time": "2023-02-22T09:34:19.816Z"
   },
   {
    "duration": 16,
    "start_time": "2023-02-22T09:35:34.477Z"
   },
   {
    "duration": 5,
    "start_time": "2023-02-22T09:36:39.987Z"
   },
   {
    "duration": 130,
    "start_time": "2023-02-22T09:37:06.049Z"
   },
   {
    "duration": 19,
    "start_time": "2023-02-22T09:37:26.893Z"
   },
   {
    "duration": 55,
    "start_time": "2023-02-22T09:39:00.600Z"
   },
   {
    "duration": 77,
    "start_time": "2023-02-22T09:39:12.628Z"
   },
   {
    "duration": 13,
    "start_time": "2023-02-22T09:39:51.564Z"
   },
   {
    "duration": 9,
    "start_time": "2023-02-22T09:40:00.975Z"
   },
   {
    "duration": 7,
    "start_time": "2023-02-22T09:40:10.977Z"
   },
   {
    "duration": 9,
    "start_time": "2023-02-22T09:40:14.575Z"
   },
   {
    "duration": 8,
    "start_time": "2023-02-22T09:41:51.277Z"
   },
   {
    "duration": 46,
    "start_time": "2023-02-22T09:43:50.166Z"
   },
   {
    "duration": 8,
    "start_time": "2023-02-22T09:59:46.358Z"
   },
   {
    "duration": 10,
    "start_time": "2023-02-22T09:59:57.030Z"
   },
   {
    "duration": 11,
    "start_time": "2023-02-22T10:49:18.472Z"
   },
   {
    "duration": 11,
    "start_time": "2023-02-22T10:50:09.252Z"
   },
   {
    "duration": 4,
    "start_time": "2023-02-22T10:50:14.659Z"
   },
   {
    "duration": 10,
    "start_time": "2023-02-22T10:50:41.223Z"
   },
   {
    "duration": 12,
    "start_time": "2023-02-22T10:50:44.355Z"
   },
   {
    "duration": 13,
    "start_time": "2023-02-22T10:50:46.818Z"
   },
   {
    "duration": 6,
    "start_time": "2023-02-22T10:51:00.483Z"
   },
   {
    "duration": 6,
    "start_time": "2023-02-22T10:51:28.979Z"
   },
   {
    "duration": 6,
    "start_time": "2023-02-22T10:52:02.773Z"
   },
   {
    "duration": 7,
    "start_time": "2023-02-22T10:52:09.588Z"
   },
   {
    "duration": 22,
    "start_time": "2023-02-22T10:52:14.628Z"
   },
   {
    "duration": 7,
    "start_time": "2023-02-22T10:52:30.622Z"
   },
   {
    "duration": 6,
    "start_time": "2023-02-22T10:54:05.621Z"
   },
   {
    "duration": 8,
    "start_time": "2023-02-22T10:55:15.621Z"
   },
   {
    "duration": 6,
    "start_time": "2023-02-22T10:55:18.367Z"
   },
   {
    "duration": 57,
    "start_time": "2023-02-22T11:07:30.329Z"
   },
   {
    "duration": 8,
    "start_time": "2023-02-22T11:11:06.133Z"
   },
   {
    "duration": 5,
    "start_time": "2023-02-22T11:11:08.998Z"
   },
   {
    "duration": 25,
    "start_time": "2023-02-22T11:11:14.361Z"
   },
   {
    "duration": 15,
    "start_time": "2023-02-22T11:11:30.166Z"
   },
   {
    "duration": 4,
    "start_time": "2023-02-22T11:12:42.681Z"
   },
   {
    "duration": 47,
    "start_time": "2023-02-22T11:12:44.025Z"
   },
   {
    "duration": 1079,
    "start_time": "2023-02-22T11:12:59.177Z"
   },
   {
    "duration": 41,
    "start_time": "2023-02-22T11:13:00.258Z"
   },
   {
    "duration": 10,
    "start_time": "2023-02-22T11:13:00.301Z"
   },
   {
    "duration": 35,
    "start_time": "2023-02-22T11:13:00.312Z"
   },
   {
    "duration": 43,
    "start_time": "2023-02-22T11:13:00.349Z"
   },
   {
    "duration": 40,
    "start_time": "2023-02-22T11:13:00.393Z"
   },
   {
    "duration": 40,
    "start_time": "2023-02-22T11:13:00.435Z"
   },
   {
    "duration": 141,
    "start_time": "2023-02-22T11:13:00.476Z"
   },
   {
    "duration": 28,
    "start_time": "2023-02-22T11:14:43.632Z"
   },
   {
    "duration": 17,
    "start_time": "2023-02-22T11:14:59.792Z"
   },
   {
    "duration": 24,
    "start_time": "2023-02-22T11:15:50.334Z"
   },
   {
    "duration": 29,
    "start_time": "2023-02-22T11:18:35.524Z"
   },
   {
    "duration": 34,
    "start_time": "2023-02-22T11:24:24.953Z"
   },
   {
    "duration": 18,
    "start_time": "2023-02-22T11:24:46.058Z"
   },
   {
    "duration": 8,
    "start_time": "2023-02-22T11:27:31.449Z"
   },
   {
    "duration": 7,
    "start_time": "2023-02-22T11:27:55.520Z"
   },
   {
    "duration": 7,
    "start_time": "2023-02-22T11:28:14.579Z"
   },
   {
    "duration": 6,
    "start_time": "2023-02-22T11:29:36.629Z"
   },
   {
    "duration": 7,
    "start_time": "2023-02-22T11:29:42.126Z"
   },
   {
    "duration": 8,
    "start_time": "2023-02-22T11:31:37.570Z"
   },
   {
    "duration": 1094,
    "start_time": "2023-02-22T11:32:19.720Z"
   },
   {
    "duration": 44,
    "start_time": "2023-02-22T11:32:20.816Z"
   },
   {
    "duration": 11,
    "start_time": "2023-02-22T11:32:20.861Z"
   },
   {
    "duration": 11,
    "start_time": "2023-02-22T11:32:20.873Z"
   },
   {
    "duration": 38,
    "start_time": "2023-02-22T11:32:20.886Z"
   },
   {
    "duration": 31,
    "start_time": "2023-02-22T11:32:20.925Z"
   },
   {
    "duration": 7,
    "start_time": "2023-02-22T11:32:20.957Z"
   },
   {
    "duration": 106,
    "start_time": "2023-02-22T11:32:20.965Z"
   },
   {
    "duration": 71,
    "start_time": "2023-02-22T11:34:16.020Z"
   },
   {
    "duration": 28,
    "start_time": "2023-02-22T11:34:50.120Z"
   },
   {
    "duration": 112,
    "start_time": "2023-02-22T11:35:11.817Z"
   },
   {
    "duration": 8,
    "start_time": "2023-02-22T11:36:25.574Z"
   },
   {
    "duration": 16,
    "start_time": "2023-02-22T11:36:37.617Z"
   },
   {
    "duration": 9,
    "start_time": "2023-02-22T11:36:57.523Z"
   },
   {
    "duration": 13,
    "start_time": "2023-02-22T11:37:21.117Z"
   },
   {
    "duration": 7,
    "start_time": "2023-02-22T11:37:30.686Z"
   },
   {
    "duration": 22,
    "start_time": "2023-02-22T11:37:44.727Z"
   },
   {
    "duration": 12,
    "start_time": "2023-02-22T11:37:56.679Z"
   },
   {
    "duration": 13,
    "start_time": "2023-02-22T11:38:26.192Z"
   },
   {
    "duration": 6,
    "start_time": "2023-02-22T11:38:45.871Z"
   },
   {
    "duration": 65,
    "start_time": "2023-02-22T11:39:21.264Z"
   },
   {
    "duration": 71,
    "start_time": "2023-02-22T11:39:25.791Z"
   },
   {
    "duration": 70,
    "start_time": "2023-02-22T11:39:37.784Z"
   },
   {
    "duration": 17,
    "start_time": "2023-02-22T11:39:45.367Z"
   },
   {
    "duration": 6,
    "start_time": "2023-02-22T11:40:08.664Z"
   },
   {
    "duration": 5,
    "start_time": "2023-02-22T11:40:31.385Z"
   },
   {
    "duration": 9,
    "start_time": "2023-02-22T11:40:36.935Z"
   },
   {
    "duration": 11,
    "start_time": "2023-02-22T11:40:46.728Z"
   },
   {
    "duration": 14,
    "start_time": "2023-02-22T11:40:55.685Z"
   },
   {
    "duration": 7,
    "start_time": "2023-02-22T11:41:02.585Z"
   },
   {
    "duration": 6,
    "start_time": "2023-02-22T11:41:48.053Z"
   },
   {
    "duration": 66,
    "start_time": "2023-02-22T11:42:05.833Z"
   },
   {
    "duration": 33,
    "start_time": "2023-02-22T11:43:38.720Z"
   },
   {
    "duration": 59,
    "start_time": "2023-02-22T11:43:48.074Z"
   },
   {
    "duration": 22,
    "start_time": "2023-02-22T11:43:54.681Z"
   },
   {
    "duration": 6,
    "start_time": "2023-02-22T11:45:39.454Z"
   },
   {
    "duration": 1045,
    "start_time": "2023-02-22T11:45:52.990Z"
   },
   {
    "duration": 44,
    "start_time": "2023-02-22T11:45:54.037Z"
   },
   {
    "duration": 11,
    "start_time": "2023-02-22T11:45:54.083Z"
   },
   {
    "duration": 10,
    "start_time": "2023-02-22T11:45:54.096Z"
   },
   {
    "duration": 7,
    "start_time": "2023-02-22T11:45:54.108Z"
   },
   {
    "duration": 8,
    "start_time": "2023-02-22T11:45:54.117Z"
   },
   {
    "duration": 24,
    "start_time": "2023-02-22T11:45:54.127Z"
   },
   {
    "duration": 39,
    "start_time": "2023-02-22T11:45:54.153Z"
   },
   {
    "duration": 55,
    "start_time": "2023-02-22T11:46:23.415Z"
   },
   {
    "duration": 105,
    "start_time": "2023-02-22T11:46:35.715Z"
   },
   {
    "duration": 63,
    "start_time": "2023-02-22T11:46:44.730Z"
   },
   {
    "duration": 61,
    "start_time": "2023-02-22T11:46:51.066Z"
   },
   {
    "duration": 66,
    "start_time": "2023-02-22T11:47:00.448Z"
   },
   {
    "duration": 65,
    "start_time": "2023-02-22T11:47:42.332Z"
   },
   {
    "duration": 11859,
    "start_time": "2023-02-22T11:49:17.576Z"
   },
   {
    "duration": 29,
    "start_time": "2023-02-22T11:51:33.767Z"
   },
   {
    "duration": 33,
    "start_time": "2023-02-22T11:53:05.855Z"
   },
   {
    "duration": 62,
    "start_time": "2023-02-22T11:53:35.528Z"
   },
   {
    "duration": 159,
    "start_time": "2023-02-22T11:54:39.226Z"
   },
   {
    "duration": 122,
    "start_time": "2023-02-22T11:55:01.949Z"
   },
   {
    "duration": 112,
    "start_time": "2023-02-22T11:55:57.217Z"
   },
   {
    "duration": 114,
    "start_time": "2023-02-22T11:56:08.017Z"
   },
   {
    "duration": 85,
    "start_time": "2023-02-22T11:56:35.769Z"
   },
   {
    "duration": 113,
    "start_time": "2023-02-22T11:56:43.072Z"
   },
   {
    "duration": 109,
    "start_time": "2023-02-22T11:57:55.370Z"
   },
   {
    "duration": 147,
    "start_time": "2023-02-22T11:58:14.805Z"
   },
   {
    "duration": 117,
    "start_time": "2023-02-22T11:58:25.055Z"
   },
   {
    "duration": 120,
    "start_time": "2023-02-22T11:59:07.283Z"
   },
   {
    "duration": 113,
    "start_time": "2023-02-22T11:59:21.883Z"
   },
   {
    "duration": 113,
    "start_time": "2023-02-22T11:59:36.475Z"
   },
   {
    "duration": 139,
    "start_time": "2023-02-22T12:01:32.418Z"
   },
   {
    "duration": 161,
    "start_time": "2023-02-22T12:01:48.117Z"
   },
   {
    "duration": 138,
    "start_time": "2023-02-22T12:02:00.124Z"
   },
   {
    "duration": 57,
    "start_time": "2023-02-22T12:03:26.815Z"
   },
   {
    "duration": 54,
    "start_time": "2023-02-22T12:03:32.768Z"
   },
   {
    "duration": 12567,
    "start_time": "2023-02-22T12:05:50.736Z"
   },
   {
    "duration": 205,
    "start_time": "2023-02-22T12:07:36.823Z"
   },
   {
    "duration": 208,
    "start_time": "2023-02-22T12:07:47.911Z"
   },
   {
    "duration": 245,
    "start_time": "2023-02-22T12:08:13.831Z"
   },
   {
    "duration": 71,
    "start_time": "2023-02-22T12:08:23.127Z"
   },
   {
    "duration": 59,
    "start_time": "2023-02-22T12:08:29.622Z"
   },
   {
    "duration": 217,
    "start_time": "2023-02-22T12:08:43.753Z"
   },
   {
    "duration": 56,
    "start_time": "2023-02-22T12:08:50.367Z"
   },
   {
    "duration": 204,
    "start_time": "2023-02-22T12:09:49.565Z"
   },
   {
    "duration": 31,
    "start_time": "2023-02-22T12:13:10.413Z"
   },
   {
    "duration": 63,
    "start_time": "2023-02-22T12:13:44.514Z"
   },
   {
    "duration": 1091,
    "start_time": "2023-02-22T12:14:35.079Z"
   },
   {
    "duration": 43,
    "start_time": "2023-02-22T12:14:36.172Z"
   },
   {
    "duration": 10,
    "start_time": "2023-02-22T12:14:36.217Z"
   },
   {
    "duration": 19,
    "start_time": "2023-02-22T12:14:36.229Z"
   },
   {
    "duration": 18,
    "start_time": "2023-02-22T12:14:36.249Z"
   },
   {
    "duration": 7,
    "start_time": "2023-02-22T12:14:36.268Z"
   },
   {
    "duration": 16,
    "start_time": "2023-02-22T12:14:36.277Z"
   },
   {
    "duration": 62,
    "start_time": "2023-02-22T12:14:36.294Z"
   },
   {
    "duration": 230,
    "start_time": "2023-02-22T12:14:36.358Z"
   },
   {
    "duration": 207,
    "start_time": "2023-02-22T12:14:36.590Z"
   },
   {
    "duration": 22,
    "start_time": "2023-02-22T12:15:38.913Z"
   },
   {
    "duration": 23,
    "start_time": "2023-02-22T12:16:02.367Z"
   },
   {
    "duration": 11391,
    "start_time": "2023-02-22T12:29:47.174Z"
   },
   {
    "duration": 11564,
    "start_time": "2023-02-22T12:31:42.904Z"
   },
   {
    "duration": 243,
    "start_time": "2023-02-22T12:32:41.906Z"
   },
   {
    "duration": 234,
    "start_time": "2023-02-22T12:32:45.673Z"
   },
   {
    "duration": 33,
    "start_time": "2023-02-22T12:33:41.985Z"
   },
   {
    "duration": 67,
    "start_time": "2023-02-22T12:33:50.106Z"
   },
   {
    "duration": 56,
    "start_time": "2023-02-22T12:34:34.052Z"
   },
   {
    "duration": 122,
    "start_time": "2023-02-22T12:34:57.085Z"
   },
   {
    "duration": 250,
    "start_time": "2023-02-22T12:36:25.515Z"
   },
   {
    "duration": 229,
    "start_time": "2023-02-22T12:37:10.165Z"
   },
   {
    "duration": 237,
    "start_time": "2023-02-22T12:37:16.724Z"
   },
   {
    "duration": 220,
    "start_time": "2023-02-22T12:38:15.732Z"
   },
   {
    "duration": 89,
    "start_time": "2023-02-22T12:39:19.217Z"
   },
   {
    "duration": 96,
    "start_time": "2023-02-22T12:39:30.121Z"
   },
   {
    "duration": 206,
    "start_time": "2023-02-22T12:39:44.722Z"
   },
   {
    "duration": 1132,
    "start_time": "2023-02-22T12:39:58.662Z"
   },
   {
    "duration": 1216,
    "start_time": "2023-02-22T12:41:16.550Z"
   },
   {
    "duration": 1157,
    "start_time": "2023-02-22T12:41:21.499Z"
   },
   {
    "duration": 198,
    "start_time": "2023-02-22T12:41:28.326Z"
   },
   {
    "duration": 1192,
    "start_time": "2023-02-22T12:42:05.727Z"
   },
   {
    "duration": 461,
    "start_time": "2023-02-22T12:42:13.227Z"
   },
   {
    "duration": 613,
    "start_time": "2023-02-22T12:42:22.463Z"
   },
   {
    "duration": 1693,
    "start_time": "2023-02-22T12:42:31.103Z"
   },
   {
    "duration": 1608,
    "start_time": "2023-02-22T12:42:45.759Z"
   },
   {
    "duration": 11835,
    "start_time": "2023-02-22T12:44:22.769Z"
   },
   {
    "duration": 11959,
    "start_time": "2023-02-22T12:45:04.827Z"
   },
   {
    "duration": 11601,
    "start_time": "2023-02-22T12:46:05.293Z"
   },
   {
    "duration": 11504,
    "start_time": "2023-02-22T12:46:40.812Z"
   },
   {
    "duration": 34382,
    "start_time": "2023-02-22T12:47:22.249Z"
   },
   {
    "duration": 4124,
    "start_time": "2023-02-22T12:49:06.800Z"
   },
   {
    "duration": 8786,
    "start_time": "2023-02-22T12:50:06.989Z"
   },
   {
    "duration": 8345,
    "start_time": "2023-02-22T12:50:33.222Z"
   },
   {
    "duration": 119,
    "start_time": "2023-02-22T12:58:48.884Z"
   },
   {
    "duration": 100,
    "start_time": "2023-02-22T12:59:28.354Z"
   },
   {
    "duration": 100,
    "start_time": "2023-02-22T13:01:10.396Z"
   },
   {
    "duration": 42,
    "start_time": "2023-02-22T13:01:45.772Z"
   },
   {
    "duration": 45,
    "start_time": "2023-02-22T13:02:51.125Z"
   },
   {
    "duration": 46,
    "start_time": "2023-02-22T13:02:53.531Z"
   },
   {
    "duration": 7,
    "start_time": "2023-02-22T13:07:04.103Z"
   },
   {
    "duration": 102,
    "start_time": "2023-02-22T13:07:27.452Z"
   },
   {
    "duration": 52,
    "start_time": "2023-02-22T13:08:26.517Z"
   },
   {
    "duration": 2,
    "start_time": "2023-02-22T13:08:43.368Z"
   },
   {
    "duration": 3,
    "start_time": "2023-02-22T13:08:57.403Z"
   },
   {
    "duration": 1075,
    "start_time": "2023-02-22T13:22:38.252Z"
   },
   {
    "duration": 41,
    "start_time": "2023-02-22T13:22:39.329Z"
   },
   {
    "duration": 12,
    "start_time": "2023-02-22T13:22:39.372Z"
   },
   {
    "duration": 6,
    "start_time": "2023-02-22T13:22:39.385Z"
   },
   {
    "duration": 7,
    "start_time": "2023-02-22T13:22:39.393Z"
   },
   {
    "duration": 8,
    "start_time": "2023-02-22T13:22:39.401Z"
   },
   {
    "duration": 6,
    "start_time": "2023-02-22T13:22:39.410Z"
   },
   {
    "duration": 132,
    "start_time": "2023-02-22T13:22:39.417Z"
   },
   {
    "duration": 8147,
    "start_time": "2023-02-22T13:22:39.551Z"
   },
   {
    "duration": 23,
    "start_time": "2023-02-22T13:22:47.700Z"
   },
   {
    "duration": 51,
    "start_time": "2023-02-22T13:22:47.725Z"
   },
   {
    "duration": 5,
    "start_time": "2023-02-22T13:22:47.778Z"
   },
   {
    "duration": 8,
    "start_time": "2023-02-22T13:22:47.784Z"
   },
   {
    "duration": 8238,
    "start_time": "2023-02-22T13:25:00.691Z"
   },
   {
    "duration": 72,
    "start_time": "2023-02-22T13:26:19.619Z"
   },
   {
    "duration": 98,
    "start_time": "2023-02-22T13:26:30.323Z"
   },
   {
    "duration": 1038,
    "start_time": "2023-02-22T13:27:26.473Z"
   },
   {
    "duration": 40,
    "start_time": "2023-02-22T13:27:27.513Z"
   },
   {
    "duration": 12,
    "start_time": "2023-02-22T13:27:27.555Z"
   },
   {
    "duration": 6,
    "start_time": "2023-02-22T13:27:27.569Z"
   },
   {
    "duration": 10,
    "start_time": "2023-02-22T13:27:27.577Z"
   },
   {
    "duration": 8,
    "start_time": "2023-02-22T13:27:27.589Z"
   },
   {
    "duration": 7,
    "start_time": "2023-02-22T13:27:27.599Z"
   },
   {
    "duration": 146,
    "start_time": "2023-02-22T13:27:27.607Z"
   },
   {
    "duration": 8218,
    "start_time": "2023-02-22T13:27:27.755Z"
   },
   {
    "duration": 23,
    "start_time": "2023-02-22T13:27:35.975Z"
   },
   {
    "duration": 94,
    "start_time": "2023-02-22T13:27:36.000Z"
   },
   {
    "duration": 5,
    "start_time": "2023-02-22T13:27:36.096Z"
   },
   {
    "duration": 15,
    "start_time": "2023-02-22T13:27:36.102Z"
   },
   {
    "duration": 1127,
    "start_time": "2023-02-22T13:30:07.849Z"
   },
   {
    "duration": 40,
    "start_time": "2023-02-22T13:30:08.978Z"
   },
   {
    "duration": 10,
    "start_time": "2023-02-22T13:30:09.019Z"
   },
   {
    "duration": 17,
    "start_time": "2023-02-22T13:30:09.030Z"
   },
   {
    "duration": 7,
    "start_time": "2023-02-22T13:30:09.049Z"
   },
   {
    "duration": 7,
    "start_time": "2023-02-22T13:30:09.058Z"
   },
   {
    "duration": 6,
    "start_time": "2023-02-22T13:30:09.066Z"
   },
   {
    "duration": 126,
    "start_time": "2023-02-22T13:30:09.073Z"
   },
   {
    "duration": 9588,
    "start_time": "2023-02-22T13:30:09.200Z"
   },
   {
    "duration": 25,
    "start_time": "2023-02-22T13:30:18.790Z"
   },
   {
    "duration": 95,
    "start_time": "2023-02-22T13:30:18.816Z"
   },
   {
    "duration": 5,
    "start_time": "2023-02-22T13:30:18.913Z"
   },
   {
    "duration": 8,
    "start_time": "2023-02-22T13:30:18.920Z"
   },
   {
    "duration": 2711,
    "start_time": "2023-02-22T14:03:34.294Z"
   },
   {
    "duration": 141,
    "start_time": "2023-02-22T14:03:37.007Z"
   },
   {
    "duration": 46,
    "start_time": "2023-02-22T14:03:37.150Z"
   },
   {
    "duration": 10,
    "start_time": "2023-02-22T14:03:37.199Z"
   },
   {
    "duration": 6,
    "start_time": "2023-02-22T14:03:37.210Z"
   },
   {
    "duration": 9,
    "start_time": "2023-02-22T14:03:37.218Z"
   },
   {
    "duration": 68,
    "start_time": "2023-02-22T14:03:37.228Z"
   },
   {
    "duration": 231,
    "start_time": "2023-02-22T14:03:37.298Z"
   },
   {
    "duration": 24470,
    "start_time": "2023-02-22T14:03:37.531Z"
   },
   {
    "duration": 88,
    "start_time": "2023-02-22T14:04:02.003Z"
   },
   {
    "duration": 130,
    "start_time": "2023-02-22T14:04:02.093Z"
   },
   {
    "duration": 5,
    "start_time": "2023-02-22T14:04:02.224Z"
   },
   {
    "duration": 62,
    "start_time": "2023-02-22T14:04:02.230Z"
   },
   {
    "duration": 5210,
    "start_time": "2023-02-23T11:01:29.498Z"
   },
   {
    "duration": 210,
    "start_time": "2023-02-23T11:01:34.710Z"
   },
   {
    "duration": 86,
    "start_time": "2023-02-23T11:01:34.922Z"
   },
   {
    "duration": 85,
    "start_time": "2023-02-23T11:01:35.012Z"
   },
   {
    "duration": 13,
    "start_time": "2023-02-23T11:01:35.100Z"
   },
   {
    "duration": 13,
    "start_time": "2023-02-23T11:01:35.194Z"
   },
   {
    "duration": 86,
    "start_time": "2023-02-23T11:01:35.210Z"
   },
   {
    "duration": 592,
    "start_time": "2023-02-23T11:01:35.299Z"
   },
   {
    "duration": 40714,
    "start_time": "2023-02-23T11:01:35.894Z"
   },
   {
    "duration": 110,
    "start_time": "2023-02-23T11:02:16.612Z"
   },
   {
    "duration": 313,
    "start_time": "2023-02-23T11:02:16.791Z"
   },
   {
    "duration": 7,
    "start_time": "2023-02-23T11:02:17.106Z"
   },
   {
    "duration": 80,
    "start_time": "2023-02-23T11:02:17.115Z"
   }
  ],
  "kernelspec": {
   "display_name": "Python 3 (ipykernel)",
   "language": "python",
   "name": "python3"
  },
  "language_info": {
   "codemirror_mode": {
    "name": "ipython",
    "version": 3
   },
   "file_extension": ".py",
   "mimetype": "text/x-python",
   "name": "python",
   "nbconvert_exporter": "python",
   "pygments_lexer": "ipython3",
   "version": "3.9.5"
  },
  "toc": {
   "base_numbering": 1,
   "nav_menu": {},
   "number_sections": true,
   "sideBar": true,
   "skip_h1_title": true,
   "title_cell": "Table of Contents",
   "title_sidebar": "Contents",
   "toc_cell": false,
   "toc_position": {
    "height": "calc(100% - 180px)",
    "left": "10px",
    "top": "150px",
    "width": "165px"
   },
   "toc_section_display": true,
   "toc_window_display": true
  }
 },
 "nbformat": 4,
 "nbformat_minor": 2
}
