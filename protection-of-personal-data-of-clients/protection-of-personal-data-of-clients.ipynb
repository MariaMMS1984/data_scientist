{
 "cells": [
  {
   "cell_type": "markdown",
   "metadata": {
    "toc": true
   },
   "source": [
    "<h1>Содержание<span class=\"tocSkip\"></span></h1>\n",
    "<div class=\"toc\"><ul class=\"toc-item\"><li><span><a href=\"#Загрузка-данных\" data-toc-modified-id=\"Загрузка-данных-1\"><span class=\"toc-item-num\">1&nbsp;&nbsp;</span>Загрузка данных</a></span></li><li><span><a href=\"#Умножение-матриц\" data-toc-modified-id=\"Умножение-матриц-2\"><span class=\"toc-item-num\">2&nbsp;&nbsp;</span>Умножение матриц</a></span></li><li><span><a href=\"#Алгоритм-преобразования\" data-toc-modified-id=\"Алгоритм-преобразования-3\"><span class=\"toc-item-num\">3&nbsp;&nbsp;</span>Алгоритм преобразования</a></span></li><li><span><a href=\"#Проверка-алгоритма\" data-toc-modified-id=\"Проверка-алгоритма-4\"><span class=\"toc-item-num\">4&nbsp;&nbsp;</span>Проверка алгоритма</a></span></li><li><span><a href=\"#Чек-лист-проверки\" data-toc-modified-id=\"Чек-лист-проверки-5\"><span class=\"toc-item-num\">5&nbsp;&nbsp;</span>Чек-лист проверки</a></span></li></ul></div>"
   ]
  },
  {
   "cell_type": "markdown",
   "metadata": {},
   "source": [
    "# Защита персональных данных клиентов"
   ]
  },
  {
   "cell_type": "markdown",
   "metadata": {},
   "source": [
    "Вам нужно защитить данные клиентов страховой компании «Хоть потоп». Разработайте такой метод преобразования данных, чтобы по ним было сложно восстановить персональную информацию. Обоснуйте корректность его работы.\n",
    "\n",
    "Нужно защитить данные, чтобы при преобразовании качество моделей машинного обучения не ухудшилось. Подбирать наилучшую модель не требуется."
   ]
  },
  {
   "cell_type": "markdown",
   "metadata": {},
   "source": [
    "# Описание\n"
   ]
  },
  {
   "cell_type": "markdown",
   "metadata": {},
   "source": [
    "Мы  будем разрабатывать метод преобразования данных для защиты персональных данных клиентов страховой компании «Хоть потоп»"
   ]
  },
  {
   "cell_type": "markdown",
   "metadata": {},
   "source": [
    "## Загрузка данных"
   ]
  },
  {
   "cell_type": "markdown",
   "metadata": {},
   "source": [
    "1.1. Загрузим библиотеки и файл с данными"
   ]
  },
  {
   "cell_type": "code",
   "execution_count": 1,
   "metadata": {},
   "outputs": [],
   "source": [
    "import pandas as pd\n",
    "import numpy as np\n",
    "\n",
    "import warnings\n",
    "warnings.filterwarnings(\"ignore\")\n",
    "\n",
    "from sklearn.metrics import r2_score\n",
    "\n",
    "from sklearn.linear_model import LinearRegression"
   ]
  },
  {
   "cell_type": "code",
   "execution_count": 2,
   "metadata": {},
   "outputs": [
    {
     "data": {
      "text/html": [
       "<div>\n",
       "<style scoped>\n",
       "    .dataframe tbody tr th:only-of-type {\n",
       "        vertical-align: middle;\n",
       "    }\n",
       "\n",
       "    .dataframe tbody tr th {\n",
       "        vertical-align: top;\n",
       "    }\n",
       "\n",
       "    .dataframe thead th {\n",
       "        text-align: right;\n",
       "    }\n",
       "</style>\n",
       "<table border=\"1\" class=\"dataframe\">\n",
       "  <thead>\n",
       "    <tr style=\"text-align: right;\">\n",
       "      <th></th>\n",
       "      <th>Пол</th>\n",
       "      <th>Возраст</th>\n",
       "      <th>Зарплата</th>\n",
       "      <th>Члены семьи</th>\n",
       "      <th>Страховые выплаты</th>\n",
       "    </tr>\n",
       "  </thead>\n",
       "  <tbody>\n",
       "    <tr>\n",
       "      <th>0</th>\n",
       "      <td>1</td>\n",
       "      <td>41.0</td>\n",
       "      <td>49600.0</td>\n",
       "      <td>1</td>\n",
       "      <td>0</td>\n",
       "    </tr>\n",
       "    <tr>\n",
       "      <th>1</th>\n",
       "      <td>0</td>\n",
       "      <td>46.0</td>\n",
       "      <td>38000.0</td>\n",
       "      <td>1</td>\n",
       "      <td>1</td>\n",
       "    </tr>\n",
       "    <tr>\n",
       "      <th>2</th>\n",
       "      <td>0</td>\n",
       "      <td>29.0</td>\n",
       "      <td>21000.0</td>\n",
       "      <td>0</td>\n",
       "      <td>0</td>\n",
       "    </tr>\n",
       "    <tr>\n",
       "      <th>3</th>\n",
       "      <td>0</td>\n",
       "      <td>21.0</td>\n",
       "      <td>41700.0</td>\n",
       "      <td>2</td>\n",
       "      <td>0</td>\n",
       "    </tr>\n",
       "    <tr>\n",
       "      <th>4</th>\n",
       "      <td>1</td>\n",
       "      <td>28.0</td>\n",
       "      <td>26100.0</td>\n",
       "      <td>0</td>\n",
       "      <td>0</td>\n",
       "    </tr>\n",
       "    <tr>\n",
       "      <th>5</th>\n",
       "      <td>1</td>\n",
       "      <td>43.0</td>\n",
       "      <td>41000.0</td>\n",
       "      <td>2</td>\n",
       "      <td>1</td>\n",
       "    </tr>\n",
       "    <tr>\n",
       "      <th>6</th>\n",
       "      <td>1</td>\n",
       "      <td>39.0</td>\n",
       "      <td>39700.0</td>\n",
       "      <td>2</td>\n",
       "      <td>0</td>\n",
       "    </tr>\n",
       "    <tr>\n",
       "      <th>7</th>\n",
       "      <td>1</td>\n",
       "      <td>25.0</td>\n",
       "      <td>38600.0</td>\n",
       "      <td>4</td>\n",
       "      <td>0</td>\n",
       "    </tr>\n",
       "    <tr>\n",
       "      <th>8</th>\n",
       "      <td>1</td>\n",
       "      <td>36.0</td>\n",
       "      <td>49700.0</td>\n",
       "      <td>1</td>\n",
       "      <td>0</td>\n",
       "    </tr>\n",
       "    <tr>\n",
       "      <th>9</th>\n",
       "      <td>1</td>\n",
       "      <td>32.0</td>\n",
       "      <td>51700.0</td>\n",
       "      <td>1</td>\n",
       "      <td>0</td>\n",
       "    </tr>\n",
       "    <tr>\n",
       "      <th>10</th>\n",
       "      <td>1</td>\n",
       "      <td>25.0</td>\n",
       "      <td>36600.0</td>\n",
       "      <td>1</td>\n",
       "      <td>0</td>\n",
       "    </tr>\n",
       "    <tr>\n",
       "      <th>11</th>\n",
       "      <td>1</td>\n",
       "      <td>38.0</td>\n",
       "      <td>29300.0</td>\n",
       "      <td>0</td>\n",
       "      <td>0</td>\n",
       "    </tr>\n",
       "    <tr>\n",
       "      <th>12</th>\n",
       "      <td>0</td>\n",
       "      <td>23.0</td>\n",
       "      <td>39500.0</td>\n",
       "      <td>3</td>\n",
       "      <td>0</td>\n",
       "    </tr>\n",
       "    <tr>\n",
       "      <th>13</th>\n",
       "      <td>0</td>\n",
       "      <td>21.0</td>\n",
       "      <td>55000.0</td>\n",
       "      <td>0</td>\n",
       "      <td>0</td>\n",
       "    </tr>\n",
       "    <tr>\n",
       "      <th>14</th>\n",
       "      <td>0</td>\n",
       "      <td>40.0</td>\n",
       "      <td>43700.0</td>\n",
       "      <td>1</td>\n",
       "      <td>0</td>\n",
       "    </tr>\n",
       "    <tr>\n",
       "      <th>15</th>\n",
       "      <td>1</td>\n",
       "      <td>34.0</td>\n",
       "      <td>23300.0</td>\n",
       "      <td>0</td>\n",
       "      <td>0</td>\n",
       "    </tr>\n",
       "    <tr>\n",
       "      <th>16</th>\n",
       "      <td>1</td>\n",
       "      <td>26.0</td>\n",
       "      <td>48900.0</td>\n",
       "      <td>2</td>\n",
       "      <td>0</td>\n",
       "    </tr>\n",
       "    <tr>\n",
       "      <th>17</th>\n",
       "      <td>1</td>\n",
       "      <td>41.0</td>\n",
       "      <td>33200.0</td>\n",
       "      <td>2</td>\n",
       "      <td>0</td>\n",
       "    </tr>\n",
       "    <tr>\n",
       "      <th>18</th>\n",
       "      <td>1</td>\n",
       "      <td>42.0</td>\n",
       "      <td>49700.0</td>\n",
       "      <td>0</td>\n",
       "      <td>1</td>\n",
       "    </tr>\n",
       "    <tr>\n",
       "      <th>19</th>\n",
       "      <td>1</td>\n",
       "      <td>27.0</td>\n",
       "      <td>36900.0</td>\n",
       "      <td>0</td>\n",
       "      <td>0</td>\n",
       "    </tr>\n",
       "  </tbody>\n",
       "</table>\n",
       "</div>"
      ],
      "text/plain": [
       "    Пол  Возраст  Зарплата  Члены семьи  Страховые выплаты\n",
       "0     1     41.0   49600.0            1                  0\n",
       "1     0     46.0   38000.0            1                  1\n",
       "2     0     29.0   21000.0            0                  0\n",
       "3     0     21.0   41700.0            2                  0\n",
       "4     1     28.0   26100.0            0                  0\n",
       "5     1     43.0   41000.0            2                  1\n",
       "6     1     39.0   39700.0            2                  0\n",
       "7     1     25.0   38600.0            4                  0\n",
       "8     1     36.0   49700.0            1                  0\n",
       "9     1     32.0   51700.0            1                  0\n",
       "10    1     25.0   36600.0            1                  0\n",
       "11    1     38.0   29300.0            0                  0\n",
       "12    0     23.0   39500.0            3                  0\n",
       "13    0     21.0   55000.0            0                  0\n",
       "14    0     40.0   43700.0            1                  0\n",
       "15    1     34.0   23300.0            0                  0\n",
       "16    1     26.0   48900.0            2                  0\n",
       "17    1     41.0   33200.0            2                  0\n",
       "18    1     42.0   49700.0            0                  1\n",
       "19    1     27.0   36900.0            0                  0"
      ]
     },
     "metadata": {},
     "output_type": "display_data"
    }
   ],
   "source": [
    "try:\n",
    "    clients = pd.read_csv('/Users/galina//Desktop/учёба/спринт 10/insurance.csv') \n",
    "except:\n",
    "    clients = pd.read_csv('/datasets/insurance.csv')\n",
    "display(clients.head(20))    "
   ]
  },
  {
   "cell_type": "markdown",
   "metadata": {},
   "source": [
    "1.2. Предобработка данных"
   ]
  },
  {
   "cell_type": "code",
   "execution_count": 3,
   "metadata": {},
   "outputs": [
    {
     "name": "stdout",
     "output_type": "stream",
     "text": [
      "<class 'pandas.core.frame.DataFrame'>\n",
      "RangeIndex: 5000 entries, 0 to 4999\n",
      "Data columns (total 5 columns):\n",
      " #   Column             Non-Null Count  Dtype  \n",
      "---  ------             --------------  -----  \n",
      " 0   Пол                5000 non-null   int64  \n",
      " 1   Возраст            5000 non-null   float64\n",
      " 2   Зарплата           5000 non-null   float64\n",
      " 3   Члены семьи        5000 non-null   int64  \n",
      " 4   Страховые выплаты  5000 non-null   int64  \n",
      "dtypes: float64(2), int64(3)\n",
      "memory usage: 195.4 KB\n"
     ]
    },
    {
     "data": {
      "text/plain": [
       "None"
      ]
     },
     "metadata": {},
     "output_type": "display_data"
    }
   ],
   "source": [
    "display(clients.info())  #полсмотрим информацию в имеющемся файле с данными (в том числе типы данных)"
   ]
  },
  {
   "cell_type": "code",
   "execution_count": 4,
   "metadata": {},
   "outputs": [
    {
     "data": {
      "text/plain": [
       "Пол                  int64\n",
       "Возраст              int64\n",
       "Зарплата             int64\n",
       "Члены семьи          int64\n",
       "Страховые выплаты    int64\n",
       "dtype: object"
      ]
     },
     "execution_count": 4,
     "metadata": {},
     "output_type": "execute_result"
    }
   ],
   "source": [
    "#заменяю тип данных в столбцах Возраст и Зарплата на int, так как по сути это целые числа:\n",
    "clients['Возраст'] = clients['Возраст'].astype('int')\n",
    "clients['Зарплата'] = clients['Зарплата'].astype('int')\n",
    "clients.dtypes"
   ]
  },
  {
   "cell_type": "code",
   "execution_count": 5,
   "metadata": {},
   "outputs": [
    {
     "data": {
      "text/plain": [
       "153"
      ]
     },
     "execution_count": 5,
     "metadata": {},
     "output_type": "execute_result"
    }
   ],
   "source": [
    "clients.duplicated().sum() #посмотрим дубликаты"
   ]
  },
  {
   "cell_type": "code",
   "execution_count": 6,
   "metadata": {},
   "outputs": [
    {
     "data": {
      "text/plain": [
       "Пол                  0\n",
       "Возраст              0\n",
       "Зарплата             0\n",
       "Члены семьи          0\n",
       "Страховые выплаты    0\n",
       "dtype: int64"
      ]
     },
     "execution_count": 6,
     "metadata": {},
     "output_type": "execute_result"
    }
   ],
   "source": [
    "clients.isna().sum()"
   ]
  },
  {
   "cell_type": "code",
   "execution_count": 7,
   "metadata": {},
   "outputs": [
    {
     "data": {
      "text/html": [
       "<div>\n",
       "<style scoped>\n",
       "    .dataframe tbody tr th:only-of-type {\n",
       "        vertical-align: middle;\n",
       "    }\n",
       "\n",
       "    .dataframe tbody tr th {\n",
       "        vertical-align: top;\n",
       "    }\n",
       "\n",
       "    .dataframe thead th {\n",
       "        text-align: right;\n",
       "    }\n",
       "</style>\n",
       "<table border=\"1\" class=\"dataframe\">\n",
       "  <thead>\n",
       "    <tr style=\"text-align: right;\">\n",
       "      <th></th>\n",
       "      <th>Пол</th>\n",
       "      <th>Возраст</th>\n",
       "      <th>Зарплата</th>\n",
       "      <th>Члены семьи</th>\n",
       "      <th>Страховые выплаты</th>\n",
       "    </tr>\n",
       "  </thead>\n",
       "  <tbody>\n",
       "    <tr>\n",
       "      <th>count</th>\n",
       "      <td>5000.000000</td>\n",
       "      <td>5000.000000</td>\n",
       "      <td>5000.000000</td>\n",
       "      <td>5000.000000</td>\n",
       "      <td>5000.000000</td>\n",
       "    </tr>\n",
       "    <tr>\n",
       "      <th>mean</th>\n",
       "      <td>0.499000</td>\n",
       "      <td>30.952800</td>\n",
       "      <td>39916.359400</td>\n",
       "      <td>1.194200</td>\n",
       "      <td>0.148000</td>\n",
       "    </tr>\n",
       "    <tr>\n",
       "      <th>std</th>\n",
       "      <td>0.500049</td>\n",
       "      <td>8.440807</td>\n",
       "      <td>9900.082063</td>\n",
       "      <td>1.091387</td>\n",
       "      <td>0.463183</td>\n",
       "    </tr>\n",
       "    <tr>\n",
       "      <th>min</th>\n",
       "      <td>0.000000</td>\n",
       "      <td>18.000000</td>\n",
       "      <td>5300.000000</td>\n",
       "      <td>0.000000</td>\n",
       "      <td>0.000000</td>\n",
       "    </tr>\n",
       "    <tr>\n",
       "      <th>25%</th>\n",
       "      <td>0.000000</td>\n",
       "      <td>24.000000</td>\n",
       "      <td>33300.000000</td>\n",
       "      <td>0.000000</td>\n",
       "      <td>0.000000</td>\n",
       "    </tr>\n",
       "    <tr>\n",
       "      <th>50%</th>\n",
       "      <td>0.000000</td>\n",
       "      <td>30.000000</td>\n",
       "      <td>40200.000000</td>\n",
       "      <td>1.000000</td>\n",
       "      <td>0.000000</td>\n",
       "    </tr>\n",
       "    <tr>\n",
       "      <th>75%</th>\n",
       "      <td>1.000000</td>\n",
       "      <td>37.000000</td>\n",
       "      <td>46600.000000</td>\n",
       "      <td>2.000000</td>\n",
       "      <td>0.000000</td>\n",
       "    </tr>\n",
       "    <tr>\n",
       "      <th>max</th>\n",
       "      <td>1.000000</td>\n",
       "      <td>65.000000</td>\n",
       "      <td>79000.000000</td>\n",
       "      <td>6.000000</td>\n",
       "      <td>5.000000</td>\n",
       "    </tr>\n",
       "  </tbody>\n",
       "</table>\n",
       "</div>"
      ],
      "text/plain": [
       "               Пол      Возраст      Зарплата  Члены семьи  Страховые выплаты\n",
       "count  5000.000000  5000.000000   5000.000000  5000.000000        5000.000000\n",
       "mean      0.499000    30.952800  39916.359400     1.194200           0.148000\n",
       "std       0.500049     8.440807   9900.082063     1.091387           0.463183\n",
       "min       0.000000    18.000000   5300.000000     0.000000           0.000000\n",
       "25%       0.000000    24.000000  33300.000000     0.000000           0.000000\n",
       "50%       0.000000    30.000000  40200.000000     1.000000           0.000000\n",
       "75%       1.000000    37.000000  46600.000000     2.000000           0.000000\n",
       "max       1.000000    65.000000  79000.000000     6.000000           5.000000"
      ]
     },
     "execution_count": 7,
     "metadata": {},
     "output_type": "execute_result"
    }
   ],
   "source": [
    "clients.describe()"
   ]
  },
  {
   "cell_type": "markdown",
   "metadata": {},
   "source": [
    "# Вывод:\n",
    "1. Изменила типы данных на более подходящие;\n",
    "2. Количество дубликатов - 153, удалять не стала, так как тут, возможны одинаковые значения по разным клиентам;\n",
    "3. Пропусков нет;\n",
    "4. В исходном файле данные по мужчинам и женщинам представлены практически в равных долях, средний возраст рассматриваемых клиентов - 31 год, средняя зарплата - 39916."
   ]
  },
  {
   "cell_type": "markdown",
   "metadata": {},
   "source": [
    "## Умножение матриц"
   ]
  },
  {
   "cell_type": "markdown",
   "metadata": {},
   "source": [
    "Проверим, изменится ли качество линейной регрессии при умножении признаков на обратимую матрицу"
   ]
  },
  {
   "cell_type": "markdown",
   "metadata": {},
   "source": [
    "В этом задании вы можете записывать формулы в *Jupyter Notebook.*\n",
    "\n",
    "Чтобы записать формулу внутри текста, окружите её символами доллара \\\\$; если снаружи —  двойными символами \\\\$\\\\$. Эти формулы записываются на языке вёрстки *LaTeX.* \n",
    "\n",
    "Для примера мы записали формулы линейной регрессии. Можете их скопировать и отредактировать, чтобы решить задачу.\n",
    "\n",
    "Работать в *LaTeX* необязательно."
   ]
  },
  {
   "cell_type": "markdown",
   "metadata": {},
   "source": [
    "Обозначения:\n",
    "\n",
    "- $X$ — матрица признаков (нулевой столбец состоит из единиц)\n",
    "\n",
    "- $y$ — вектор целевого признака\n",
    "\n",
    "- $P$ — матрица, на которую умножаются признаки\n",
    "\n",
    "- $w$ — вектор весов линейной регрессии (нулевой элемент равен сдвигу)"
   ]
  },
  {
   "cell_type": "markdown",
   "metadata": {},
   "source": [
    "Предсказания:\n",
    "\n",
    "$$\n",
    "a = Xw\n",
    "$$\n",
    "\n",
    "Задача обучения:\n",
    "\n",
    "$$\n",
    "w = \\arg\\min_w MSE(Xw, y)\n",
    "$$\n",
    "\n",
    "Формула обучения:\n",
    "\n",
    "$$\n",
    "w = (X^T X)^{-1} X^T y\n",
    "$$"
   ]
  },
  {
   "cell_type": "markdown",
   "metadata": {},
   "source": [
    "$$\n",
    "a = Xw = XEw = XPP^{-1}w = (XP)P^{-1}w = (XP)w'\n",
    "$$\n",
    "\n",
    "$$\n",
    "w' = ((XP)^T XP)^{-1} (XP)^T y\n",
    "$$\n",
    "$$\n",
    "w' = (P^T (X^T X) P)^{-1} (XP)^T y\n",
    "$$\n",
    "$$\n",
    "w' =  P^{-1}(X^T X)^{-1} (P^T)^{-1} P^T X^T y\n",
    "$$\n",
    "\n",
    "\n",
    "\n",
    "Произведение $(P^T)^{-1} P^T$\n",
    " дает единичную матрицу, которую можно исключить из уравнения. Тогда формула принимает вид:\n",
    " \n",
    "$w' = P^{-1}(X^T X)^{-1} X^T y$ \n",
    "\n",
    "\n",
    "$𝑤′=P^{-1}𝑤$\n",
    "\n",
    "ч.т.д."
   ]
  },
  {
   "cell_type": "code",
   "execution_count": 8,
   "metadata": {},
   "outputs": [
    {
     "data": {
      "text/plain": [
       "((5000, 4), (5000,))"
      ]
     },
     "execution_count": 8,
     "metadata": {},
     "output_type": "execute_result"
    }
   ],
   "source": [
    "features = clients.drop('Страховые выплаты',axis=1)\n",
    "target = clients['Страховые выплаты']\n",
    "\n",
    "features.shape, target.shape"
   ]
  },
  {
   "cell_type": "code",
   "execution_count": 9,
   "metadata": {},
   "outputs": [
    {
     "name": "stdout",
     "output_type": "stream",
     "text": [
      "            параметр w: [ 7.92580563e-03  3.57083050e-02 -1.70081903e-07 -1.35676627e-02]\n",
      "оценочные коэффициенты: [ 7.92580563e-03  3.57083050e-02 -1.70081903e-07 -1.35676627e-02]\n"
     ]
    }
   ],
   "source": [
    "#записываю формулу линейной регрессии с единичным столбцом:\n",
    "X = np.concatenate((np.ones((features.shape[0], 1)), features), axis=1) \n",
    "y = target\n",
    "w = np.linalg.inv(X.T @ X) @ X.T @ y          #считаем w по формуле минимизации MSE\n",
    "print('            параметр w:', w[1:])\n",
    "\n",
    "model = LinearRegression()                   \n",
    "model.fit(features, target)                   \n",
    "print('оценочные коэффициенты:', model.coef_) #вывожу оценочные коэффициенты для линейной регрессии"
   ]
  },
  {
   "cell_type": "markdown",
   "metadata": {},
   "source": [
    "параметр w и оценочные коэффициенты полностью совпадают, следовательно качество линейной регрессии не изменяется."
   ]
  },
  {
   "cell_type": "code",
   "execution_count": 10,
   "metadata": {},
   "outputs": [
    {
     "name": "stdout",
     "output_type": "stream",
     "text": [
      "r2 для исходных признаков: 0.42494550308169177\n",
      "r2 для измененных признаков: 0.424945503081698\n"
     ]
    }
   ],
   "source": [
    "print('r2 для исходных признаков:', r2_score(y, model.predict(features))) \n",
    "\n",
    "random = np.random.normal(size=(4,4)) #генерирую случайную матрицу\n",
    "np.linalg.inv(random)                 #проверяю матрицу на обратимость\n",
    "features_new = features @ random      #изменяю матрицу признаков \n",
    "l = LinearRegression()               \n",
    "l.fit(features_new, target)          \n",
    "print('r2 для измененных признаков:', r2_score(y, l.predict(features_new)))"
   ]
  },
  {
   "cell_type": "markdown",
   "metadata": {},
   "source": [
    "r2 совпадают, также значения r2 находятся в промежутке от 0 до 1, соответственно линейная регрессия работает"
   ]
  },
  {
   "cell_type": "markdown",
   "metadata": {},
   "source": [
    "# Вывод:\n",
    "\n",
    "качество линейной регрессии при умножении признаков на обратимую матрицу не изменится, так как параметр w и оценочные коэффициенты, оценки r2 для исходных признаков и измененных совпадают"
   ]
  },
  {
   "cell_type": "markdown",
   "metadata": {},
   "source": [
    "## Алгоритм преобразования"
   ]
  },
  {
   "cell_type": "markdown",
   "metadata": {},
   "source": [
    "Так как, как мы увидели выше, качество линейной регрессии при умножении признаков на обратимую матрицу не изменится, для преобразования данных для защиты информации можно использовать следующий алгоритм:\n",
    "\n",
    "1.Сгенерировать случайную квадратную матрицу random и умножить матрицу признаков на случайную квадратную матрицу random;\n",
    "\n",
    "2.Для усиления защиты можно дополнительно умножить матрицу признаков на какую-то цифру. Например, 7."
   ]
  },
  {
   "cell_type": "markdown",
   "metadata": {},
   "source": [
    "## Проверка алгоритма"
   ]
  },
  {
   "cell_type": "markdown",
   "metadata": {},
   "source": [
    "Используем предложенный алгоритм преобразования, посчитаем и сравним r2 для исходных и защищенных данных"
   ]
  },
  {
   "cell_type": "code",
   "execution_count": 11,
   "metadata": {},
   "outputs": [
    {
     "data": {
      "text/html": [
       "<div>\n",
       "<style scoped>\n",
       "    .dataframe tbody tr th:only-of-type {\n",
       "        vertical-align: middle;\n",
       "    }\n",
       "\n",
       "    .dataframe tbody tr th {\n",
       "        vertical-align: top;\n",
       "    }\n",
       "\n",
       "    .dataframe thead th {\n",
       "        text-align: right;\n",
       "    }\n",
       "</style>\n",
       "<table border=\"1\" class=\"dataframe\">\n",
       "  <thead>\n",
       "    <tr style=\"text-align: right;\">\n",
       "      <th></th>\n",
       "      <th>0</th>\n",
       "      <th>1</th>\n",
       "      <th>2</th>\n",
       "      <th>3</th>\n",
       "    </tr>\n",
       "  </thead>\n",
       "  <tbody>\n",
       "    <tr>\n",
       "      <th>0</th>\n",
       "      <td>340500.575954</td>\n",
       "      <td>-399108.245412</td>\n",
       "      <td>-41593.482707</td>\n",
       "      <td>-95871.482856</td>\n",
       "    </tr>\n",
       "    <tr>\n",
       "      <th>1</th>\n",
       "      <td>260804.751665</td>\n",
       "      <td>-305735.479724</td>\n",
       "      <td>-31805.940934</td>\n",
       "      <td>-73649.361489</td>\n",
       "    </tr>\n",
       "    <tr>\n",
       "      <th>2</th>\n",
       "      <td>144113.920660</td>\n",
       "      <td>-168947.936884</td>\n",
       "      <td>-17560.202803</td>\n",
       "      <td>-40745.515082</td>\n",
       "    </tr>\n",
       "    <tr>\n",
       "      <th>3</th>\n",
       "      <td>286330.136363</td>\n",
       "      <td>-335581.691983</td>\n",
       "      <td>-35029.757076</td>\n",
       "      <td>-80445.990473</td>\n",
       "    </tr>\n",
       "    <tr>\n",
       "      <th>4</th>\n",
       "      <td>179144.468301</td>\n",
       "      <td>-209994.882649</td>\n",
       "      <td>-21857.790088</td>\n",
       "      <td>-50521.595200</td>\n",
       "    </tr>\n",
       "  </tbody>\n",
       "</table>\n",
       "</div>"
      ],
      "text/plain": [
       "               0              1             2             3\n",
       "0  340500.575954 -399108.245412 -41593.482707 -95871.482856\n",
       "1  260804.751665 -305735.479724 -31805.940934 -73649.361489\n",
       "2  144113.920660 -168947.936884 -17560.202803 -40745.515082\n",
       "3  286330.136363 -335581.691983 -35029.757076 -80445.990473\n",
       "4  179144.468301 -209994.882649 -21857.790088 -50521.595200"
      ]
     },
     "execution_count": 11,
     "metadata": {},
     "output_type": "execute_result"
    }
   ],
   "source": [
    "random = np.random.normal(size=(4,4))   #генерирую случайную матрицу\n",
    "np.linalg.inv(random)                   #проверяю матрицу на обратимость\n",
    "features_new = features @ random * 7    #умножаю матрицу признаков на случайную  матрицу и на 7\n",
    "features_new.head()"
   ]
  },
  {
   "cell_type": "code",
   "execution_count": 12,
   "metadata": {},
   "outputs": [
    {
     "name": "stdout",
     "output_type": "stream",
     "text": [
      "r2: 0.4249455030816969\n"
     ]
    }
   ],
   "source": [
    "l = LinearRegression()               \n",
    "l.fit(features_new, target)          \n",
    "print('r2:',\n",
    "      r2_score(target,\n",
    "               l.predict(features_new))) #вычисляю r2 для измененных признаков"
   ]
  },
  {
   "cell_type": "markdown",
   "metadata": {},
   "source": [
    "r2 на защищенных данных совпадает с r2 на исходных данных, следовательно, алгоритм справляется с защитой данных"
   ]
  },
  {
   "cell_type": "markdown",
   "metadata": {},
   "source": [
    "# Вывод:\n",
    "\n",
    "Для защиты данных к качестве алгоритма преобразования можно использовать умножение матрицы признаков на случайную квадратную матрицу и на какое-то случайное число"
   ]
  },
  {
   "cell_type": "markdown",
   "metadata": {},
   "source": [
    "# Общий вывод:\n",
    "\n",
    "От нас требовалось защитить данные клиентов страховой компании «Хоть потоп» и разработать такой метод преобразования данных, чтобы по ним было сложно восстановить персональную информацию. При этом качество моделей машинного обучения не должно было ухудшиться.\n",
    "\n",
    "В результате мы разработали алгоритм, где данные были преобразованы методом умножения признаков исходных данных на обратимую матрицу и на цифру."
   ]
  }
 ],
 "metadata": {
  "ExecuteTimeLog": [
   {
    "duration": 1118,
    "start_time": "2023-04-25T10:49:39.152Z"
   },
   {
    "duration": 105,
    "start_time": "2023-04-25T10:50:09.492Z"
   },
   {
    "duration": 46,
    "start_time": "2023-04-25T11:00:20.291Z"
   },
   {
    "duration": 15,
    "start_time": "2023-04-25T11:00:43.550Z"
   },
   {
    "duration": 5,
    "start_time": "2023-04-25T11:01:58.183Z"
   },
   {
    "duration": 41,
    "start_time": "2023-04-25T11:04:30.530Z"
   },
   {
    "duration": 5,
    "start_time": "2023-04-25T11:07:00.610Z"
   },
   {
    "duration": 8,
    "start_time": "2023-04-25T11:07:30.841Z"
   },
   {
    "duration": 38,
    "start_time": "2023-04-25T11:07:53.930Z"
   },
   {
    "duration": 38,
    "start_time": "2023-04-25T11:08:05.023Z"
   },
   {
    "duration": 7,
    "start_time": "2023-04-25T11:08:35.841Z"
   },
   {
    "duration": 26,
    "start_time": "2023-04-25T11:11:35.011Z"
   },
   {
    "duration": 52,
    "start_time": "2023-04-26T11:54:32.983Z"
   },
   {
    "duration": 1110,
    "start_time": "2023-04-26T11:55:00.792Z"
   },
   {
    "duration": 124,
    "start_time": "2023-04-26T11:55:01.904Z"
   },
   {
    "duration": 13,
    "start_time": "2023-04-26T11:55:02.030Z"
   },
   {
    "duration": 140,
    "start_time": "2023-04-26T11:55:02.045Z"
   },
   {
    "duration": 82,
    "start_time": "2023-04-26T11:55:02.188Z"
   },
   {
    "duration": 93,
    "start_time": "2023-04-26T11:55:02.272Z"
   },
   {
    "duration": 111,
    "start_time": "2023-04-26T11:55:02.367Z"
   },
   {
    "duration": 6,
    "start_time": "2023-04-26T11:55:02.480Z"
   },
   {
    "duration": 15,
    "start_time": "2023-04-26T11:55:54.857Z"
   },
   {
    "duration": 259,
    "start_time": "2023-04-26T11:59:17.674Z"
   },
   {
    "duration": 13,
    "start_time": "2023-04-26T11:59:30.242Z"
   },
   {
    "duration": 78,
    "start_time": "2023-04-26T12:01:50.683Z"
   },
   {
    "duration": 95,
    "start_time": "2023-04-26T12:02:32.572Z"
   },
   {
    "duration": 178,
    "start_time": "2023-04-26T12:03:28.780Z"
   },
   {
    "duration": 20,
    "start_time": "2023-04-26T12:03:44.252Z"
   },
   {
    "duration": 20,
    "start_time": "2023-04-26T12:04:25.340Z"
   },
   {
    "duration": 54,
    "start_time": "2023-04-26T12:16:58.410Z"
   },
   {
    "duration": 51,
    "start_time": "2023-04-26T12:17:06.811Z"
   },
   {
    "duration": 16,
    "start_time": "2023-04-26T12:17:14.059Z"
   },
   {
    "duration": 12,
    "start_time": "2023-04-26T12:27:56.657Z"
   },
   {
    "duration": 12,
    "start_time": "2023-04-26T12:28:05.407Z"
   },
   {
    "duration": 5,
    "start_time": "2023-04-26T12:28:12.881Z"
   },
   {
    "duration": 15,
    "start_time": "2023-04-26T12:28:18.001Z"
   },
   {
    "duration": 18,
    "start_time": "2023-04-26T12:29:27.452Z"
   },
   {
    "duration": 14,
    "start_time": "2023-04-26T12:33:36.340Z"
   },
   {
    "duration": 9,
    "start_time": "2023-04-26T12:33:48.436Z"
   },
   {
    "duration": 17,
    "start_time": "2023-04-26T12:35:25.765Z"
   },
   {
    "duration": 1115,
    "start_time": "2023-04-26T12:46:34.405Z"
   },
   {
    "duration": 47,
    "start_time": "2023-04-26T12:46:35.523Z"
   },
   {
    "duration": 13,
    "start_time": "2023-04-26T12:46:35.572Z"
   },
   {
    "duration": 7,
    "start_time": "2023-04-26T12:46:35.587Z"
   },
   {
    "duration": 11,
    "start_time": "2023-04-26T12:46:35.596Z"
   },
   {
    "duration": 15,
    "start_time": "2023-04-26T12:46:35.609Z"
   },
   {
    "duration": 37,
    "start_time": "2023-04-26T12:46:35.626Z"
   },
   {
    "duration": 5,
    "start_time": "2023-04-26T12:46:35.665Z"
   },
   {
    "duration": 17,
    "start_time": "2023-04-26T12:46:35.672Z"
   },
   {
    "duration": 206,
    "start_time": "2023-04-26T12:46:35.760Z"
   },
   {
    "duration": 191,
    "start_time": "2023-04-26T12:46:35.970Z"
   },
   {
    "duration": 17,
    "start_time": "2023-04-26T12:46:36.163Z"
   },
   {
    "duration": 2681,
    "start_time": "2023-04-27T04:26:00.330Z"
   },
   {
    "duration": 41,
    "start_time": "2023-04-27T04:26:03.013Z"
   },
   {
    "duration": 13,
    "start_time": "2023-04-27T04:26:12.196Z"
   },
   {
    "duration": 7,
    "start_time": "2023-04-27T04:26:12.689Z"
   },
   {
    "duration": 6,
    "start_time": "2023-04-27T04:26:13.079Z"
   },
   {
    "duration": 6,
    "start_time": "2023-04-27T04:26:13.253Z"
   },
   {
    "duration": 22,
    "start_time": "2023-04-27T04:26:13.594Z"
   },
   {
    "duration": 6,
    "start_time": "2023-04-27T04:31:04.095Z"
   },
   {
    "duration": 9,
    "start_time": "2023-04-27T04:31:04.710Z"
   },
   {
    "duration": 13,
    "start_time": "2023-04-27T04:31:08.768Z"
   },
   {
    "duration": 86,
    "start_time": "2023-04-27T04:31:15.312Z"
   },
   {
    "duration": 8,
    "start_time": "2023-04-27T04:31:15.512Z"
   }
  ],
  "kernelspec": {
   "display_name": "Python 3 (ipykernel)",
   "language": "python",
   "name": "python3"
  },
  "language_info": {
   "codemirror_mode": {
    "name": "ipython",
    "version": 3
   },
   "file_extension": ".py",
   "mimetype": "text/x-python",
   "name": "python",
   "nbconvert_exporter": "python",
   "pygments_lexer": "ipython3",
   "version": "3.9.5"
  },
  "toc": {
   "base_numbering": 1,
   "nav_menu": {},
   "number_sections": true,
   "sideBar": true,
   "skip_h1_title": true,
   "title_cell": "Содержание",
   "title_sidebar": "Contents",
   "toc_cell": true,
   "toc_position": {},
   "toc_section_display": true,
   "toc_window_display": true
  }
 },
 "nbformat": 4,
 "nbformat_minor": 2
}
