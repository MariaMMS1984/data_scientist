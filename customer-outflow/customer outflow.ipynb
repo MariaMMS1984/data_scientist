{
 "cells": [
  {
   "cell_type": "markdown",
   "metadata": {
    "toc": true
   },
   "source": [
    "<h1>Содержание<span class=\"tocSkip\"></span></h1>\n",
    "<div class=\"toc\"><ul class=\"toc-item\"><li><span><a href=\"#Подготовка-данных\" data-toc-modified-id=\"Подготовка-данных-1\"><span class=\"toc-item-num\">1&nbsp;&nbsp;</span>Подготовка данных</a></span></li><li><span><a href=\"#Исследование-задачи\" data-toc-modified-id=\"Исследование-задачи-2\"><span class=\"toc-item-num\">2&nbsp;&nbsp;</span>Исследование задачи</a></span></li><li><span><a href=\"#Борьба-с-дисбалансом\" data-toc-modified-id=\"Борьба-с-дисбалансом-3\"><span class=\"toc-item-num\">3&nbsp;&nbsp;</span>Борьба с дисбалансом</a></span></li><li><span><a href=\"#Тестирование-модели\" data-toc-modified-id=\"Тестирование-модели-4\"><span class=\"toc-item-num\">4&nbsp;&nbsp;</span>Тестирование модели</a></span></li><li><span><a href=\"#Чек-лист-готовности-проекта\" data-toc-modified-id=\"Чек-лист-готовности-проекта-5\"><span class=\"toc-item-num\">5&nbsp;&nbsp;</span>Чек-лист готовности проекта</a></span></li></ul></div>"
   ]
  },
  {
   "cell_type": "markdown",
   "metadata": {},
   "source": [
    "# Отток клиентов"
   ]
  },
  {
   "cell_type": "markdown",
   "metadata": {},
   "source": [
    "Из «Бета-Банка» стали уходить клиенты. Каждый месяц. Немного, но заметно. Банковские маркетологи посчитали: сохранять текущих клиентов дешевле, чем привлекать новых.\n",
    "\n",
    "Нужно спрогнозировать, уйдёт клиент из банка в ближайшее время или нет. Вам предоставлены исторические данные о поведении клиентов и расторжении договоров с банком. \n",
    "\n",
    "Постройте модель с предельно большим значением *F1*-меры. Чтобы сдать проект успешно, нужно довести метрику до 0.59. Проверьте *F1*-меру на тестовой выборке самостоятельно.\n",
    "\n",
    "Дополнительно измеряйте *AUC-ROC*, сравнивайте её значение с *F1*-мерой.\n",
    "\n",
    "Источник данных: [https://www.kaggle.com/barelydedicated/bank-customer-churn-modeling](https://www.kaggle.com/barelydedicated/bank-customer-churn-modeling)"
   ]
  },
  {
   "cell_type": "markdown",
   "metadata": {},
   "source": [
    "# Исследования оттока клиентов банка\n"
   ]
  },
  {
   "cell_type": "markdown",
   "metadata": {},
   "source": [
    "Мы будем изучать исторические данные о поведении клиентов банка и расторжении договора с банком с целью прогнозирования возможного ухода клиента из банка. Эти данные актуальны для принятия мер по сохранению текущих клиентов."
   ]
  },
  {
   "cell_type": "markdown",
   "metadata": {},
   "source": [
    "## Подготовка данных"
   ]
  },
  {
   "cell_type": "markdown",
   "metadata": {},
   "source": [
    "Скачаем и изучим файл с историческими данными по клиентам, приведем датафрейм в подходящий для исследования вид."
   ]
  },
  {
   "cell_type": "markdown",
   "metadata": {},
   "source": [
    "1.1. Импортируем необходимые для исследования инструменты"
   ]
  },
  {
   "cell_type": "code",
   "execution_count": 1,
   "metadata": {},
   "outputs": [],
   "source": [
    "import pandas as pd\n",
    "import matplotlib.pyplot as plt\n",
    "\n",
    "from sklearn.utils import shuffle\n",
    "from sklearn.model_selection import train_test_split\n",
    "from sklearn.metrics import accuracy_score, f1_score, roc_auc_score\n",
    "\n",
    "\n",
    "from sklearn.linear_model import LogisticRegression\n",
    "from sklearn.preprocessing import RobustScaler\n",
    "from sklearn.ensemble import RandomForestClassifier\n",
    "from sklearn.preprocessing import StandardScaler\n",
    "from sklearn.tree import DecisionTreeClassifier\n",
    "from sklearn.dummy import DummyClassifier\n",
    "from sklearn.preprocessing import StandardScaler\n",
    "from sklearn.model_selection import GridSearchCV\n",
    "import warnings\n",
    "warnings.filterwarnings(\"ignore\")"
   ]
  },
  {
   "cell_type": "markdown",
   "metadata": {},
   "source": [
    "1.2. Скачаем и посмотрим файл"
   ]
  },
  {
   "cell_type": "code",
   "execution_count": 2,
   "metadata": {},
   "outputs": [],
   "source": [
    "data = pd.read_csv('/datasets/Churn.csv')"
   ]
  },
  {
   "cell_type": "code",
   "execution_count": 3,
   "metadata": {},
   "outputs": [
    {
     "data": {
      "text/html": [
       "<div>\n",
       "<style scoped>\n",
       "    .dataframe tbody tr th:only-of-type {\n",
       "        vertical-align: middle;\n",
       "    }\n",
       "\n",
       "    .dataframe tbody tr th {\n",
       "        vertical-align: top;\n",
       "    }\n",
       "\n",
       "    .dataframe thead th {\n",
       "        text-align: right;\n",
       "    }\n",
       "</style>\n",
       "<table border=\"1\" class=\"dataframe\">\n",
       "  <thead>\n",
       "    <tr style=\"text-align: right;\">\n",
       "      <th></th>\n",
       "      <th>RowNumber</th>\n",
       "      <th>CustomerId</th>\n",
       "      <th>Surname</th>\n",
       "      <th>CreditScore</th>\n",
       "      <th>Geography</th>\n",
       "      <th>Gender</th>\n",
       "      <th>Age</th>\n",
       "      <th>Tenure</th>\n",
       "      <th>Balance</th>\n",
       "      <th>NumOfProducts</th>\n",
       "      <th>HasCrCard</th>\n",
       "      <th>IsActiveMember</th>\n",
       "      <th>EstimatedSalary</th>\n",
       "      <th>Exited</th>\n",
       "    </tr>\n",
       "  </thead>\n",
       "  <tbody>\n",
       "    <tr>\n",
       "      <th>0</th>\n",
       "      <td>1</td>\n",
       "      <td>15634602</td>\n",
       "      <td>Hargrave</td>\n",
       "      <td>619</td>\n",
       "      <td>France</td>\n",
       "      <td>Female</td>\n",
       "      <td>42</td>\n",
       "      <td>2.0</td>\n",
       "      <td>0.00</td>\n",
       "      <td>1</td>\n",
       "      <td>1</td>\n",
       "      <td>1</td>\n",
       "      <td>101348.88</td>\n",
       "      <td>1</td>\n",
       "    </tr>\n",
       "    <tr>\n",
       "      <th>1</th>\n",
       "      <td>2</td>\n",
       "      <td>15647311</td>\n",
       "      <td>Hill</td>\n",
       "      <td>608</td>\n",
       "      <td>Spain</td>\n",
       "      <td>Female</td>\n",
       "      <td>41</td>\n",
       "      <td>1.0</td>\n",
       "      <td>83807.86</td>\n",
       "      <td>1</td>\n",
       "      <td>0</td>\n",
       "      <td>1</td>\n",
       "      <td>112542.58</td>\n",
       "      <td>0</td>\n",
       "    </tr>\n",
       "    <tr>\n",
       "      <th>2</th>\n",
       "      <td>3</td>\n",
       "      <td>15619304</td>\n",
       "      <td>Onio</td>\n",
       "      <td>502</td>\n",
       "      <td>France</td>\n",
       "      <td>Female</td>\n",
       "      <td>42</td>\n",
       "      <td>8.0</td>\n",
       "      <td>159660.80</td>\n",
       "      <td>3</td>\n",
       "      <td>1</td>\n",
       "      <td>0</td>\n",
       "      <td>113931.57</td>\n",
       "      <td>1</td>\n",
       "    </tr>\n",
       "    <tr>\n",
       "      <th>3</th>\n",
       "      <td>4</td>\n",
       "      <td>15701354</td>\n",
       "      <td>Boni</td>\n",
       "      <td>699</td>\n",
       "      <td>France</td>\n",
       "      <td>Female</td>\n",
       "      <td>39</td>\n",
       "      <td>1.0</td>\n",
       "      <td>0.00</td>\n",
       "      <td>2</td>\n",
       "      <td>0</td>\n",
       "      <td>0</td>\n",
       "      <td>93826.63</td>\n",
       "      <td>0</td>\n",
       "    </tr>\n",
       "    <tr>\n",
       "      <th>4</th>\n",
       "      <td>5</td>\n",
       "      <td>15737888</td>\n",
       "      <td>Mitchell</td>\n",
       "      <td>850</td>\n",
       "      <td>Spain</td>\n",
       "      <td>Female</td>\n",
       "      <td>43</td>\n",
       "      <td>2.0</td>\n",
       "      <td>125510.82</td>\n",
       "      <td>1</td>\n",
       "      <td>1</td>\n",
       "      <td>1</td>\n",
       "      <td>79084.10</td>\n",
       "      <td>0</td>\n",
       "    </tr>\n",
       "  </tbody>\n",
       "</table>\n",
       "</div>"
      ],
      "text/plain": [
       "   RowNumber  CustomerId   Surname  CreditScore Geography  Gender  Age  \\\n",
       "0          1    15634602  Hargrave          619    France  Female   42   \n",
       "1          2    15647311      Hill          608     Spain  Female   41   \n",
       "2          3    15619304      Onio          502    France  Female   42   \n",
       "3          4    15701354      Boni          699    France  Female   39   \n",
       "4          5    15737888  Mitchell          850     Spain  Female   43   \n",
       "\n",
       "   Tenure    Balance  NumOfProducts  HasCrCard  IsActiveMember  \\\n",
       "0     2.0       0.00              1          1               1   \n",
       "1     1.0   83807.86              1          0               1   \n",
       "2     8.0  159660.80              3          1               0   \n",
       "3     1.0       0.00              2          0               0   \n",
       "4     2.0  125510.82              1          1               1   \n",
       "\n",
       "   EstimatedSalary  Exited  \n",
       "0        101348.88       1  \n",
       "1        112542.58       0  \n",
       "2        113931.57       1  \n",
       "3         93826.63       0  \n",
       "4         79084.10       0  "
      ]
     },
     "execution_count": 3,
     "metadata": {},
     "output_type": "execute_result"
    }
   ],
   "source": [
    "data.head()"
   ]
  },
  {
   "cell_type": "code",
   "execution_count": 4,
   "metadata": {},
   "outputs": [
    {
     "name": "stdout",
     "output_type": "stream",
     "text": [
      "<class 'pandas.core.frame.DataFrame'>\n",
      "RangeIndex: 10000 entries, 0 to 9999\n",
      "Data columns (total 14 columns):\n",
      " #   Column           Non-Null Count  Dtype  \n",
      "---  ------           --------------  -----  \n",
      " 0   RowNumber        10000 non-null  int64  \n",
      " 1   CustomerId       10000 non-null  int64  \n",
      " 2   Surname          10000 non-null  object \n",
      " 3   CreditScore      10000 non-null  int64  \n",
      " 4   Geography        10000 non-null  object \n",
      " 5   Gender           10000 non-null  object \n",
      " 6   Age              10000 non-null  int64  \n",
      " 7   Tenure           9091 non-null   float64\n",
      " 8   Balance          10000 non-null  float64\n",
      " 9   NumOfProducts    10000 non-null  int64  \n",
      " 10  HasCrCard        10000 non-null  int64  \n",
      " 11  IsActiveMember   10000 non-null  int64  \n",
      " 12  EstimatedSalary  10000 non-null  float64\n",
      " 13  Exited           10000 non-null  int64  \n",
      "dtypes: float64(3), int64(8), object(3)\n",
      "memory usage: 1.1+ MB\n"
     ]
    }
   ],
   "source": [
    "data.info()"
   ]
  },
  {
   "cell_type": "code",
   "execution_count": 5,
   "metadata": {},
   "outputs": [
    {
     "data": {
      "text/plain": [
       "0"
      ]
     },
     "execution_count": 5,
     "metadata": {},
     "output_type": "execute_result"
    }
   ],
   "source": [
    "#Проверим на дубликаты\n",
    "data.duplicated().sum()"
   ]
  },
  {
   "cell_type": "code",
   "execution_count": 6,
   "metadata": {},
   "outputs": [
    {
     "data": {
      "text/plain": [
       "RowNumber            0\n",
       "CustomerId           0\n",
       "Surname              0\n",
       "CreditScore          0\n",
       "Geography            0\n",
       "Gender               0\n",
       "Age                  0\n",
       "Tenure             909\n",
       "Balance              0\n",
       "NumOfProducts        0\n",
       "HasCrCard            0\n",
       "IsActiveMember       0\n",
       "EstimatedSalary      0\n",
       "Exited               0\n",
       "dtype: int64"
      ]
     },
     "execution_count": 6,
     "metadata": {},
     "output_type": "execute_result"
    }
   ],
   "source": [
    "data.isna().sum() #посмотрим, есть ли пропущенные значения"
   ]
  },
  {
   "cell_type": "markdown",
   "metadata": {},
   "source": [
    "В столбце \"Tenure\" есть пропущенные значения"
   ]
  },
  {
   "cell_type": "code",
   "execution_count": 7,
   "metadata": {},
   "outputs": [
    {
     "data": {
      "text/plain": [
       "RowNumber            int64\n",
       "CustomerId           int64\n",
       "Surname             object\n",
       "CreditScore          int64\n",
       "Geography           object\n",
       "Gender              object\n",
       "Age                  int64\n",
       "Tenure             float64\n",
       "Balance            float64\n",
       "NumOfProducts        int64\n",
       "HasCrCard            int64\n",
       "IsActiveMember       int64\n",
       "EstimatedSalary    float64\n",
       "Exited               int64\n",
       "dtype: object"
      ]
     },
     "execution_count": 7,
     "metadata": {},
     "output_type": "execute_result"
    }
   ],
   "source": [
    "data.dtypes  #посмотрим типы данных"
   ]
  },
  {
   "cell_type": "markdown",
   "metadata": {},
   "source": [
    "1.3. Приведем датафрейм в подходящий для исследования вид"
   ]
  },
  {
   "cell_type": "markdown",
   "metadata": {},
   "source": [
    "удалю ненужные для исследования столбцы:\n"
   ]
  },
  {
   "cell_type": "code",
   "execution_count": 8,
   "metadata": {},
   "outputs": [],
   "source": [
    "data = data.drop(['RowNumber', 'CustomerId', 'Surname'], axis=1)"
   ]
  },
  {
   "cell_type": "markdown",
   "metadata": {},
   "source": [
    "удалю строки с пропущенными значениями (их менее 10 %, соответственно такие строки можно удалить без ущерба для информативности)"
   ]
  },
  {
   "cell_type": "code",
   "execution_count": 9,
   "metadata": {},
   "outputs": [
    {
     "name": "stdout",
     "output_type": "stream",
     "text": [
      "   CreditScore Geography  Gender  Age  Tenure    Balance  NumOfProducts  \\\n",
      "0          619    France  Female   42     2.0       0.00              1   \n",
      "1          608     Spain  Female   41     1.0   83807.86              1   \n",
      "2          502    France  Female   42     8.0  159660.80              3   \n",
      "3          699    France  Female   39     1.0       0.00              2   \n",
      "4          850     Spain  Female   43     2.0  125510.82              1   \n",
      "\n",
      "   HasCrCard  IsActiveMember  EstimatedSalary  Exited  \n",
      "0          1               1        101348.88       1  \n",
      "1          0               1        112542.58       0  \n",
      "2          1               0        113931.57       1  \n",
      "3          0               0         93826.63       0  \n",
      "4          1               1         79084.10       0  \n",
      "float64\n"
     ]
    }
   ],
   "source": [
    "data = data.dropna(subset=['Tenure'])\n",
    "print(data.head())\n",
    "print(data['Tenure'].dtype)"
   ]
  },
  {
   "cell_type": "markdown",
   "metadata": {},
   "source": [
    "изменю формат столбца 'Tenure' на int, как более подходящий по смыслу"
   ]
  },
  {
   "cell_type": "code",
   "execution_count": 10,
   "metadata": {},
   "outputs": [
    {
     "name": "stdout",
     "output_type": "stream",
     "text": [
      "int64\n"
     ]
    }
   ],
   "source": [
    "data['Tenure'] = data['Tenure'].astype('int')\n",
    "print(data['Tenure'].dtype)"
   ]
  },
  {
   "cell_type": "markdown",
   "metadata": {},
   "source": [
    "подготовим данные методом OHE, чтобы в дальнейшем не попасть в дамми-ловушку при использовании разных моделей \n"
   ]
  },
  {
   "cell_type": "code",
   "execution_count": 11,
   "metadata": {},
   "outputs": [
    {
     "data": {
      "text/html": [
       "<div>\n",
       "<style scoped>\n",
       "    .dataframe tbody tr th:only-of-type {\n",
       "        vertical-align: middle;\n",
       "    }\n",
       "\n",
       "    .dataframe tbody tr th {\n",
       "        vertical-align: top;\n",
       "    }\n",
       "\n",
       "    .dataframe thead th {\n",
       "        text-align: right;\n",
       "    }\n",
       "</style>\n",
       "<table border=\"1\" class=\"dataframe\">\n",
       "  <thead>\n",
       "    <tr style=\"text-align: right;\">\n",
       "      <th></th>\n",
       "      <th>CreditScore</th>\n",
       "      <th>Age</th>\n",
       "      <th>Tenure</th>\n",
       "      <th>Balance</th>\n",
       "      <th>NumOfProducts</th>\n",
       "      <th>HasCrCard</th>\n",
       "      <th>IsActiveMember</th>\n",
       "      <th>EstimatedSalary</th>\n",
       "      <th>Exited</th>\n",
       "      <th>Geography_Germany</th>\n",
       "      <th>Geography_Spain</th>\n",
       "      <th>Gender_Male</th>\n",
       "    </tr>\n",
       "  </thead>\n",
       "  <tbody>\n",
       "    <tr>\n",
       "      <th>0</th>\n",
       "      <td>619</td>\n",
       "      <td>42</td>\n",
       "      <td>2</td>\n",
       "      <td>0.00</td>\n",
       "      <td>1</td>\n",
       "      <td>1</td>\n",
       "      <td>1</td>\n",
       "      <td>101348.88</td>\n",
       "      <td>1</td>\n",
       "      <td>0</td>\n",
       "      <td>0</td>\n",
       "      <td>0</td>\n",
       "    </tr>\n",
       "    <tr>\n",
       "      <th>1</th>\n",
       "      <td>608</td>\n",
       "      <td>41</td>\n",
       "      <td>1</td>\n",
       "      <td>83807.86</td>\n",
       "      <td>1</td>\n",
       "      <td>0</td>\n",
       "      <td>1</td>\n",
       "      <td>112542.58</td>\n",
       "      <td>0</td>\n",
       "      <td>0</td>\n",
       "      <td>1</td>\n",
       "      <td>0</td>\n",
       "    </tr>\n",
       "    <tr>\n",
       "      <th>2</th>\n",
       "      <td>502</td>\n",
       "      <td>42</td>\n",
       "      <td>8</td>\n",
       "      <td>159660.80</td>\n",
       "      <td>3</td>\n",
       "      <td>1</td>\n",
       "      <td>0</td>\n",
       "      <td>113931.57</td>\n",
       "      <td>1</td>\n",
       "      <td>0</td>\n",
       "      <td>0</td>\n",
       "      <td>0</td>\n",
       "    </tr>\n",
       "    <tr>\n",
       "      <th>3</th>\n",
       "      <td>699</td>\n",
       "      <td>39</td>\n",
       "      <td>1</td>\n",
       "      <td>0.00</td>\n",
       "      <td>2</td>\n",
       "      <td>0</td>\n",
       "      <td>0</td>\n",
       "      <td>93826.63</td>\n",
       "      <td>0</td>\n",
       "      <td>0</td>\n",
       "      <td>0</td>\n",
       "      <td>0</td>\n",
       "    </tr>\n",
       "    <tr>\n",
       "      <th>4</th>\n",
       "      <td>850</td>\n",
       "      <td>43</td>\n",
       "      <td>2</td>\n",
       "      <td>125510.82</td>\n",
       "      <td>1</td>\n",
       "      <td>1</td>\n",
       "      <td>1</td>\n",
       "      <td>79084.10</td>\n",
       "      <td>0</td>\n",
       "      <td>0</td>\n",
       "      <td>1</td>\n",
       "      <td>0</td>\n",
       "    </tr>\n",
       "  </tbody>\n",
       "</table>\n",
       "</div>"
      ],
      "text/plain": [
       "   CreditScore  Age  Tenure    Balance  NumOfProducts  HasCrCard  \\\n",
       "0          619   42       2       0.00              1          1   \n",
       "1          608   41       1   83807.86              1          0   \n",
       "2          502   42       8  159660.80              3          1   \n",
       "3          699   39       1       0.00              2          0   \n",
       "4          850   43       2  125510.82              1          1   \n",
       "\n",
       "   IsActiveMember  EstimatedSalary  Exited  Geography_Germany  \\\n",
       "0               1        101348.88       1                  0   \n",
       "1               1        112542.58       0                  0   \n",
       "2               0        113931.57       1                  0   \n",
       "3               0         93826.63       0                  0   \n",
       "4               1         79084.10       0                  0   \n",
       "\n",
       "   Geography_Spain  Gender_Male  \n",
       "0                0            0  \n",
       "1                1            0  \n",
       "2                0            0  \n",
       "3                0            0  \n",
       "4                1            0  "
      ]
     },
     "execution_count": 11,
     "metadata": {},
     "output_type": "execute_result"
    }
   ],
   "source": [
    "data = pd.get_dummies(data, drop_first=True)\n",
    "data.head()"
   ]
  },
  {
   "cell_type": "markdown",
   "metadata": {},
   "source": [
    "Вывод:\n",
    "\n",
    "1. Для нашего исследования у нас есть данные о 9999 клиентах;\n",
    "2. Явных дубликатов нет;\n",
    "3. Пропущенные значения были в столбце 'Tenure', удалили строки с пропущенными значениями;\n",
    "4. Изменили формат столбцов на более подходящий;\n",
    "5. Удалили ненужные для исследования столбцы;\n",
    "6. Подготовили данные методом OHE, чтобы в дальнейшем не попасть в дамми-ловушку.\n",
    "\n"
   ]
  },
  {
   "cell_type": "markdown",
   "metadata": {},
   "source": [
    "## Исследование задачи"
   ]
  },
  {
   "cell_type": "markdown",
   "metadata": {},
   "source": [
    "Разобьем данные на выборки и исследуем модели."
   ]
  },
  {
   "cell_type": "markdown",
   "metadata": {},
   "source": [
    "2.1. Разбиваем данные на выборки"
   ]
  },
  {
   "cell_type": "markdown",
   "metadata": {},
   "source": [
    "Спрятанной тестовой выборки нет. Значит, данные нужно разбить на три части: обучающую, валидационную и тестовую (обычно делят на 60, 20 и 20% соответственно)."
   ]
  },
  {
   "cell_type": "code",
   "execution_count": 12,
   "metadata": {},
   "outputs": [
    {
     "name": "stdout",
     "output_type": "stream",
     "text": [
      "(1819, 11)\n",
      "(1819,)\n",
      "(1818, 11)\n",
      "(1818,)\n"
     ]
    }
   ],
   "source": [
    "features = data.drop(['Exited'], axis=1)\n",
    "target = data['Exited']\n",
    "\n",
    "#разделяю данные на обучающую(60%) и валидационную+тестовую(в совокупности 40%) выборки:\n",
    "features_train, features_valid, target_train, target_valid = train_test_split(features,\n",
    "                                                                              target, test_size=0.4,\n",
    "                                                                              random_state=12345)\n",
    "\n",
    "#разделим валидационную и тестовую выборки(делим предыдущий результат пополам):\n",
    "features_test, features_valid, target_test, target_valid = train_test_split(features_valid,\n",
    "                                                                            target_valid, test_size=0.5,\n",
    "                                                                            random_state=12345)\n",
    "\n",
    "print(features_valid.shape)\n",
    "print(target_valid.shape)\n",
    "print(features_test.shape)\n",
    "print(target_test.shape)"
   ]
  },
  {
   "cell_type": "markdown",
   "metadata": {},
   "source": [
    "2.2. Делаем масштабирование."
   ]
  },
  {
   "cell_type": "code",
   "execution_count": 13,
   "metadata": {},
   "outputs": [
    {
     "data": {
      "text/plain": [
       "StandardScaler()"
      ]
     },
     "execution_count": 13,
     "metadata": {},
     "output_type": "execute_result"
    }
   ],
   "source": [
    "numeric = ['CreditScore', 'Age', 'Tenure', 'Balance', 'NumOfProducts', 'EstimatedSalary'] #зафиксируем численные признаки\n",
    "scaler = StandardScaler()\n",
    "scaler.fit(features_train[numeric])"
   ]
  },
  {
   "cell_type": "code",
   "execution_count": 14,
   "metadata": {},
   "outputs": [
    {
     "data": {
      "text/html": [
       "<div>\n",
       "<style scoped>\n",
       "    .dataframe tbody tr th:only-of-type {\n",
       "        vertical-align: middle;\n",
       "    }\n",
       "\n",
       "    .dataframe tbody tr th {\n",
       "        vertical-align: top;\n",
       "    }\n",
       "\n",
       "    .dataframe thead th {\n",
       "        text-align: right;\n",
       "    }\n",
       "</style>\n",
       "<table border=\"1\" class=\"dataframe\">\n",
       "  <thead>\n",
       "    <tr style=\"text-align: right;\">\n",
       "      <th></th>\n",
       "      <th>CreditScore</th>\n",
       "      <th>Age</th>\n",
       "      <th>Tenure</th>\n",
       "      <th>Balance</th>\n",
       "      <th>NumOfProducts</th>\n",
       "      <th>HasCrCard</th>\n",
       "      <th>IsActiveMember</th>\n",
       "      <th>EstimatedSalary</th>\n",
       "      <th>Geography_Germany</th>\n",
       "      <th>Geography_Spain</th>\n",
       "      <th>Gender_Male</th>\n",
       "    </tr>\n",
       "  </thead>\n",
       "  <tbody>\n",
       "    <tr>\n",
       "      <th>9344</th>\n",
       "      <td>0.809075</td>\n",
       "      <td>-1.039327</td>\n",
       "      <td>-1.025995</td>\n",
       "      <td>0.554904</td>\n",
       "      <td>-0.908179</td>\n",
       "      <td>1</td>\n",
       "      <td>0</td>\n",
       "      <td>0.019508</td>\n",
       "      <td>0</td>\n",
       "      <td>0</td>\n",
       "      <td>0</td>\n",
       "    </tr>\n",
       "    <tr>\n",
       "      <th>3796</th>\n",
       "      <td>-1.152518</td>\n",
       "      <td>-1.227561</td>\n",
       "      <td>0.696524</td>\n",
       "      <td>0.480609</td>\n",
       "      <td>-0.908179</td>\n",
       "      <td>0</td>\n",
       "      <td>0</td>\n",
       "      <td>0.056167</td>\n",
       "      <td>0</td>\n",
       "      <td>0</td>\n",
       "      <td>1</td>\n",
       "    </tr>\n",
       "    <tr>\n",
       "      <th>7462</th>\n",
       "      <td>-0.398853</td>\n",
       "      <td>0.090079</td>\n",
       "      <td>1.385532</td>\n",
       "      <td>-1.237830</td>\n",
       "      <td>-0.908179</td>\n",
       "      <td>1</td>\n",
       "      <td>1</td>\n",
       "      <td>0.848738</td>\n",
       "      <td>0</td>\n",
       "      <td>0</td>\n",
       "      <td>1</td>\n",
       "    </tr>\n",
       "    <tr>\n",
       "      <th>1508</th>\n",
       "      <td>-0.749875</td>\n",
       "      <td>-0.286389</td>\n",
       "      <td>0.352020</td>\n",
       "      <td>-1.237830</td>\n",
       "      <td>0.809300</td>\n",
       "      <td>1</td>\n",
       "      <td>1</td>\n",
       "      <td>-0.894953</td>\n",
       "      <td>0</td>\n",
       "      <td>0</td>\n",
       "      <td>1</td>\n",
       "    </tr>\n",
       "    <tr>\n",
       "      <th>4478</th>\n",
       "      <td>-1.028628</td>\n",
       "      <td>-0.756975</td>\n",
       "      <td>-0.336987</td>\n",
       "      <td>-1.237830</td>\n",
       "      <td>0.809300</td>\n",
       "      <td>0</td>\n",
       "      <td>1</td>\n",
       "      <td>-1.284516</td>\n",
       "      <td>0</td>\n",
       "      <td>0</td>\n",
       "      <td>1</td>\n",
       "    </tr>\n",
       "  </tbody>\n",
       "</table>\n",
       "</div>"
      ],
      "text/plain": [
       "      CreditScore       Age    Tenure   Balance  NumOfProducts  HasCrCard  \\\n",
       "9344     0.809075 -1.039327 -1.025995  0.554904      -0.908179          1   \n",
       "3796    -1.152518 -1.227561  0.696524  0.480609      -0.908179          0   \n",
       "7462    -0.398853  0.090079  1.385532 -1.237830      -0.908179          1   \n",
       "1508    -0.749875 -0.286389  0.352020 -1.237830       0.809300          1   \n",
       "4478    -1.028628 -0.756975 -0.336987 -1.237830       0.809300          0   \n",
       "\n",
       "      IsActiveMember  EstimatedSalary  Geography_Germany  Geography_Spain  \\\n",
       "9344               0         0.019508                  0                0   \n",
       "3796               0         0.056167                  0                0   \n",
       "7462               1         0.848738                  0                0   \n",
       "1508               1        -0.894953                  0                0   \n",
       "4478               1        -1.284516                  0                0   \n",
       "\n",
       "      Gender_Male  \n",
       "9344            0  \n",
       "3796            1  \n",
       "7462            1  \n",
       "1508            1  \n",
       "4478            1  "
      ]
     },
     "execution_count": 14,
     "metadata": {},
     "output_type": "execute_result"
    }
   ],
   "source": [
    "features_train[numeric] = scaler.transform(features_train[numeric])  #масштабируем численные признаки обучающей выборки\n",
    "features_train.head()"
   ]
  },
  {
   "cell_type": "code",
   "execution_count": 15,
   "metadata": {},
   "outputs": [
    {
     "data": {
      "text/html": [
       "<div>\n",
       "<style scoped>\n",
       "    .dataframe tbody tr th:only-of-type {\n",
       "        vertical-align: middle;\n",
       "    }\n",
       "\n",
       "    .dataframe tbody tr th {\n",
       "        vertical-align: top;\n",
       "    }\n",
       "\n",
       "    .dataframe thead th {\n",
       "        text-align: right;\n",
       "    }\n",
       "</style>\n",
       "<table border=\"1\" class=\"dataframe\">\n",
       "  <thead>\n",
       "    <tr style=\"text-align: right;\">\n",
       "      <th></th>\n",
       "      <th>CreditScore</th>\n",
       "      <th>Age</th>\n",
       "      <th>Tenure</th>\n",
       "      <th>Balance</th>\n",
       "      <th>NumOfProducts</th>\n",
       "      <th>HasCrCard</th>\n",
       "      <th>IsActiveMember</th>\n",
       "      <th>EstimatedSalary</th>\n",
       "      <th>Geography_Germany</th>\n",
       "      <th>Geography_Spain</th>\n",
       "      <th>Gender_Male</th>\n",
       "    </tr>\n",
       "  </thead>\n",
       "  <tbody>\n",
       "    <tr>\n",
       "      <th>5170</th>\n",
       "      <td>1.707279</td>\n",
       "      <td>-0.756975</td>\n",
       "      <td>-0.336987</td>\n",
       "      <td>-1.237830</td>\n",
       "      <td>0.809300</td>\n",
       "      <td>1</td>\n",
       "      <td>1</td>\n",
       "      <td>0.718362</td>\n",
       "      <td>0</td>\n",
       "      <td>0</td>\n",
       "      <td>0</td>\n",
       "    </tr>\n",
       "    <tr>\n",
       "      <th>4180</th>\n",
       "      <td>-0.429826</td>\n",
       "      <td>-0.286389</td>\n",
       "      <td>1.730036</td>\n",
       "      <td>0.485538</td>\n",
       "      <td>0.809300</td>\n",
       "      <td>0</td>\n",
       "      <td>0</td>\n",
       "      <td>1.687305</td>\n",
       "      <td>1</td>\n",
       "      <td>0</td>\n",
       "      <td>1</td>\n",
       "    </tr>\n",
       "    <tr>\n",
       "      <th>7349</th>\n",
       "      <td>-0.171721</td>\n",
       "      <td>0.278313</td>\n",
       "      <td>0.352020</td>\n",
       "      <td>-0.269213</td>\n",
       "      <td>0.809300</td>\n",
       "      <td>0</td>\n",
       "      <td>1</td>\n",
       "      <td>0.824128</td>\n",
       "      <td>1</td>\n",
       "      <td>0</td>\n",
       "      <td>1</td>\n",
       "    </tr>\n",
       "    <tr>\n",
       "      <th>7469</th>\n",
       "      <td>0.385784</td>\n",
       "      <td>-0.380507</td>\n",
       "      <td>1.041028</td>\n",
       "      <td>0.464813</td>\n",
       "      <td>-0.908179</td>\n",
       "      <td>1</td>\n",
       "      <td>0</td>\n",
       "      <td>-1.118018</td>\n",
       "      <td>0</td>\n",
       "      <td>0</td>\n",
       "      <td>0</td>\n",
       "    </tr>\n",
       "    <tr>\n",
       "      <th>3467</th>\n",
       "      <td>-1.142194</td>\n",
       "      <td>0.278313</td>\n",
       "      <td>-1.370498</td>\n",
       "      <td>0.353837</td>\n",
       "      <td>0.809300</td>\n",
       "      <td>0</td>\n",
       "      <td>1</td>\n",
       "      <td>-0.107642</td>\n",
       "      <td>1</td>\n",
       "      <td>0</td>\n",
       "      <td>0</td>\n",
       "    </tr>\n",
       "  </tbody>\n",
       "</table>\n",
       "</div>"
      ],
      "text/plain": [
       "      CreditScore       Age    Tenure   Balance  NumOfProducts  HasCrCard  \\\n",
       "5170     1.707279 -0.756975 -0.336987 -1.237830       0.809300          1   \n",
       "4180    -0.429826 -0.286389  1.730036  0.485538       0.809300          0   \n",
       "7349    -0.171721  0.278313  0.352020 -0.269213       0.809300          0   \n",
       "7469     0.385784 -0.380507  1.041028  0.464813      -0.908179          1   \n",
       "3467    -1.142194  0.278313 -1.370498  0.353837       0.809300          0   \n",
       "\n",
       "      IsActiveMember  EstimatedSalary  Geography_Germany  Geography_Spain  \\\n",
       "5170               1         0.718362                  0                0   \n",
       "4180               0         1.687305                  1                0   \n",
       "7349               1         0.824128                  1                0   \n",
       "7469               0        -1.118018                  0                0   \n",
       "3467               1        -0.107642                  1                0   \n",
       "\n",
       "      Gender_Male  \n",
       "5170            0  \n",
       "4180            1  \n",
       "7349            1  \n",
       "7469            0  \n",
       "3467            0  "
      ]
     },
     "execution_count": 15,
     "metadata": {},
     "output_type": "execute_result"
    }
   ],
   "source": [
    "features_valid[numeric] = scaler.transform(features_valid[numeric])  #масштабируем численные признаки валидационной выборки\n",
    "features_valid.head()"
   ]
  },
  {
   "cell_type": "code",
   "execution_count": 16,
   "metadata": {},
   "outputs": [
    {
     "data": {
      "text/html": [
       "<div>\n",
       "<style scoped>\n",
       "    .dataframe tbody tr th:only-of-type {\n",
       "        vertical-align: middle;\n",
       "    }\n",
       "\n",
       "    .dataframe tbody tr th {\n",
       "        vertical-align: top;\n",
       "    }\n",
       "\n",
       "    .dataframe thead th {\n",
       "        text-align: right;\n",
       "    }\n",
       "</style>\n",
       "<table border=\"1\" class=\"dataframe\">\n",
       "  <thead>\n",
       "    <tr style=\"text-align: right;\">\n",
       "      <th></th>\n",
       "      <th>CreditScore</th>\n",
       "      <th>Age</th>\n",
       "      <th>Tenure</th>\n",
       "      <th>Balance</th>\n",
       "      <th>NumOfProducts</th>\n",
       "      <th>HasCrCard</th>\n",
       "      <th>IsActiveMember</th>\n",
       "      <th>EstimatedSalary</th>\n",
       "      <th>Geography_Germany</th>\n",
       "      <th>Geography_Spain</th>\n",
       "      <th>Gender_Male</th>\n",
       "    </tr>\n",
       "  </thead>\n",
       "  <tbody>\n",
       "    <tr>\n",
       "      <th>7445</th>\n",
       "      <td>-1.369326</td>\n",
       "      <td>0.560665</td>\n",
       "      <td>-0.336987</td>\n",
       "      <td>-1.237830</td>\n",
       "      <td>-0.908179</td>\n",
       "      <td>1</td>\n",
       "      <td>0</td>\n",
       "      <td>-0.086537</td>\n",
       "      <td>0</td>\n",
       "      <td>0</td>\n",
       "      <td>0</td>\n",
       "    </tr>\n",
       "    <tr>\n",
       "      <th>8620</th>\n",
       "      <td>1.232367</td>\n",
       "      <td>0.090079</td>\n",
       "      <td>1.041028</td>\n",
       "      <td>-1.237830</td>\n",
       "      <td>0.809300</td>\n",
       "      <td>0</td>\n",
       "      <td>1</td>\n",
       "      <td>-0.537457</td>\n",
       "      <td>0</td>\n",
       "      <td>0</td>\n",
       "      <td>0</td>\n",
       "    </tr>\n",
       "    <tr>\n",
       "      <th>1714</th>\n",
       "      <td>0.840048</td>\n",
       "      <td>0.560665</td>\n",
       "      <td>0.352020</td>\n",
       "      <td>1.231363</td>\n",
       "      <td>-0.908179</td>\n",
       "      <td>0</td>\n",
       "      <td>0</td>\n",
       "      <td>1.070393</td>\n",
       "      <td>1</td>\n",
       "      <td>0</td>\n",
       "      <td>1</td>\n",
       "    </tr>\n",
       "    <tr>\n",
       "      <th>5441</th>\n",
       "      <td>1.056856</td>\n",
       "      <td>-0.945210</td>\n",
       "      <td>-1.370498</td>\n",
       "      <td>0.951231</td>\n",
       "      <td>-0.908179</td>\n",
       "      <td>1</td>\n",
       "      <td>0</td>\n",
       "      <td>-0.576279</td>\n",
       "      <td>0</td>\n",
       "      <td>0</td>\n",
       "      <td>1</td>\n",
       "    </tr>\n",
       "    <tr>\n",
       "      <th>9001</th>\n",
       "      <td>0.406433</td>\n",
       "      <td>-0.662858</td>\n",
       "      <td>0.352020</td>\n",
       "      <td>0.767800</td>\n",
       "      <td>-0.908179</td>\n",
       "      <td>1</td>\n",
       "      <td>1</td>\n",
       "      <td>0.662068</td>\n",
       "      <td>0</td>\n",
       "      <td>1</td>\n",
       "      <td>1</td>\n",
       "    </tr>\n",
       "  </tbody>\n",
       "</table>\n",
       "</div>"
      ],
      "text/plain": [
       "      CreditScore       Age    Tenure   Balance  NumOfProducts  HasCrCard  \\\n",
       "7445    -1.369326  0.560665 -0.336987 -1.237830      -0.908179          1   \n",
       "8620     1.232367  0.090079  1.041028 -1.237830       0.809300          0   \n",
       "1714     0.840048  0.560665  0.352020  1.231363      -0.908179          0   \n",
       "5441     1.056856 -0.945210 -1.370498  0.951231      -0.908179          1   \n",
       "9001     0.406433 -0.662858  0.352020  0.767800      -0.908179          1   \n",
       "\n",
       "      IsActiveMember  EstimatedSalary  Geography_Germany  Geography_Spain  \\\n",
       "7445               0        -0.086537                  0                0   \n",
       "8620               1        -0.537457                  0                0   \n",
       "1714               0         1.070393                  1                0   \n",
       "5441               0        -0.576279                  0                0   \n",
       "9001               1         0.662068                  0                1   \n",
       "\n",
       "      Gender_Male  \n",
       "7445            0  \n",
       "8620            0  \n",
       "1714            1  \n",
       "5441            1  \n",
       "9001            1  "
      ]
     },
     "execution_count": 16,
     "metadata": {},
     "output_type": "execute_result"
    }
   ],
   "source": [
    "features_test[numeric] = scaler.transform(features_test[numeric])  #масштабируем численные признаки тестовой выборки \n",
    "features_test.head()"
   ]
  },
  {
   "cell_type": "markdown",
   "metadata": {},
   "source": [
    "2.3. Исследуем модели без учета дисбаланса"
   ]
  },
  {
   "cell_type": "markdown",
   "metadata": {},
   "source": [
    "А. Дерево решений"
   ]
  },
  {
   "cell_type": "code",
   "execution_count": 17,
   "metadata": {},
   "outputs": [
    {
     "name": "stdout",
     "output_type": "stream",
     "text": [
      "F1 = 0.00, AUC-ROC = 0.69 при глубине 1\n",
      "F1 = 0.51, AUC-ROC = 0.74 при глубине 2\n",
      "F1 = 0.41, AUC-ROC = 0.80 при глубине 3\n",
      "F1 = 0.53, AUC-ROC = 0.82 при глубине 4\n",
      "F1 = 0.48, AUC-ROC = 0.83 при глубине 5\n",
      "F1 = 0.53, AUC-ROC = 0.83 при глубине 6\n",
      "F1 = 0.55, AUC-ROC = 0.83 при глубине 7\n",
      "F1 = 0.50, AUC-ROC = 0.80 при глубине 8\n",
      "F1 = 0.52, AUC-ROC = 0.79 при глубине 9\n",
      "F1 = 0.52, AUC-ROC = 0.77 при глубине 10\n",
      "\n",
      "F1 для дерева решений : 0.5534804753820034\n",
      "Максимальная глубина : 7\n",
      "AUC-ROC : 0.8280166825807154\n"
     ]
    }
   ],
   "source": [
    "best_f1_data = 0\n",
    "best_depth_data = 0\n",
    "best_auc_roc = 0\n",
    "for depth in range(1, 11):\n",
    "    dat = DecisionTreeClassifier(random_state=12345, max_depth=depth)\n",
    "    dat.fit(features_train, target_train)\n",
    "    predicted_valid_data = dat.predict(features_valid)\n",
    "    f1_data = f1_score(target_valid, predicted_valid_data)\n",
    "    auc_roc_data = roc_auc_score(target_valid, dat.predict_proba(features_valid)[:, 1])\n",
    "    print(\"F1 = {:.2f}, AUC-ROC = {:.2f}\".format(f1_data, auc_roc_data), 'при глубине', depth)\n",
    "    if f1_data > best_f1_data:\n",
    "        best_f1_data = f1_data\n",
    "        best_depth_data = depth\n",
    "        best_auc_roc = auc_roc_data\n",
    "        \n",
    "print()\n",
    "print('F1 для дерева решений :', best_f1_data)\n",
    "print('Максимальная глубина :', best_depth_data)\n",
    "print('AUC-ROC :', best_auc_roc)\n",
    "\n"
   ]
  },
  {
   "cell_type": "markdown",
   "metadata": {},
   "source": [
    "Б. Случайный лес"
   ]
  },
  {
   "cell_type": "code",
   "execution_count": 18,
   "metadata": {},
   "outputs": [
    {
     "name": "stdout",
     "output_type": "stream",
     "text": [
      "F1 для случайного леса : 0.56672760511883\n",
      "Максимальная глубина : 8\n",
      "Число деревьев : 18\n",
      "AUC-ROC : 0.8529444871406723\n"
     ]
    }
   ],
   "source": [
    "best_f1_rf = 0\n",
    "best_depth_rf = 0\n",
    "best_est_rf = 0\n",
    "best_roc_auc_score_rf = 0\n",
    "for depth in range(1, 10):\n",
    "    for est in range(1, 50):\n",
    "        rf = RandomForestClassifier(random_state=12345, n_estimators=est, max_depth=depth)\n",
    "        rf.fit(features_train, target_train)\n",
    "        predicted_valid_rf = rf.predict(features_valid)\n",
    "        f1_rf = f1_score(target_valid, predicted_valid_rf)\n",
    "        roc_auc_score_rf = roc_auc_score(target_valid, rf.predict_proba(features_valid)[:,1])\n",
    "        if f1_rf > best_f1_rf:\n",
    "            best_f1_rf = f1_rf\n",
    "            best_depth_rf = depth\n",
    "            best_est_rf = est\n",
    "            best_roc_auc_score_rf = roc_auc_score_rf\n",
    "            \n",
    "print('F1 для случайного леса :', best_f1_rf)\n",
    "print('Максимальная глубина :', best_depth_rf)\n",
    "print('Число деревьев :', best_est_rf)\n",
    "print('AUC-ROC :', best_roc_auc_score_rf)"
   ]
  },
  {
   "cell_type": "markdown",
   "metadata": {},
   "source": [
    "В.Логистическая регрессия"
   ]
  },
  {
   "cell_type": "code",
   "execution_count": 19,
   "metadata": {},
   "outputs": [
    {
     "name": "stdout",
     "output_type": "stream",
     "text": [
      "F1 для логистической регрессии: 0.32119914346895073\n",
      "AUC-ROC для логистической регрессии: 0.7750937376277978\n"
     ]
    }
   ],
   "source": [
    "lr = RobustScaler()\n",
    "features_train_lr = lr.fit_transform(features_train)\n",
    "features_valid_lr = lr.transform(features_valid)\n",
    "\n",
    "lgr = LogisticRegression(random_state=12345, solver='liblinear', max_iter=1000)\n",
    "lgr.fit(features_train_lr, target_train)\n",
    "predicted_valid_lgr = lgr.predict(features_valid_lr)\n",
    "print('F1 для логистической регрессии:', f1_score(target_valid, predicted_valid_lgr))\n",
    "print('AUC-ROC для логистической регрессии:', roc_auc_score(target_valid, lgr.predict_proba(features_valid)[:, 1]))"
   ]
  },
  {
   "cell_type": "markdown",
   "metadata": {},
   "source": [
    "Лучшая модель без учета дисбаланса классов по показателям F1 и AUC-ROC - случайный лес."
   ]
  },
  {
   "cell_type": "markdown",
   "metadata": {},
   "source": [
    "2.4. Исследуем баланс классов выборки"
   ]
  },
  {
   "cell_type": "code",
   "execution_count": 20,
   "metadata": {},
   "outputs": [
    {
     "name": "stdout",
     "output_type": "stream",
     "text": [
      "0    0.796062\n",
      "1    0.203938\n",
      "Name: Exited, dtype: float64\n"
     ]
    },
    {
     "data": {
      "text/plain": [
       "Text(0, 0.5, 'доли ответов')"
      ]
     },
     "execution_count": 20,
     "metadata": {},
     "output_type": "execute_result"
    },
    {
     "data": {
      "image/png": "[encoded data removed]",
      "text/plain": [
       "<Figure size 432x288 with 1 Axes>"
      ]
     },
     "metadata": {
      "needs_background": "light"
     },
     "output_type": "display_data"
    }
   ],
   "source": [
    "class_frequency = data['Exited'].value_counts(normalize=True)\n",
    "print(class_frequency)\n",
    "class_frequency.plot(kind='bar') #диаграмма классов\n",
    "plt.title('диаграмма классов')\n",
    "plt.xlabel('положительные и отрицательные ответы')\n",
    "plt.ylabel('доли ответов')"
   ]
  },
  {
   "cell_type": "markdown",
   "metadata": {},
   "source": [
    "Из исследования видно, что положительных ответов в нашей выборке около 20%, а отрицательных - около 80%. Имеется явный дисбаланс."
   ]
  },
  {
   "cell_type": "markdown",
   "metadata": {},
   "source": [
    "Вывод:\n",
    "1. Без учета дисбаланса классов наибольшие значения F1 и AUC-ROC у модели случайного леса(F1 для случайного леса : 0.5656934306569344,AUC-ROC : 0.852991064843926);\n",
    "2. Имеется явный дисбаланс классов (положительных ответов в нашей выборке около 20%, а отрицательных - около 80%). "
   ]
  },
  {
   "cell_type": "markdown",
   "metadata": {},
   "source": [
    "## Борьба с дисбалансом"
   ]
  },
  {
   "cell_type": "markdown",
   "metadata": {},
   "source": [
    "Для улучшения модели будем бороться с дисбалансом с помощью  увеличения и уменьшения выборки."
   ]
  },
  {
   "cell_type": "markdown",
   "metadata": {},
   "source": [
    "3.1. Увеличение выборки"
   ]
  },
  {
   "cell_type": "code",
   "execution_count": 21,
   "metadata": {},
   "outputs": [],
   "source": [
    "#увеличиваю число наблюдений положительного класса:\n",
    "def upsample(features, target, repeat):\n",
    "    features_zeros = features[target == 0]\n",
    "    features_ones = features[target == 1]\n",
    "    target_zeros = target[target == 0]\n",
    "    target_ones = target[target == 1]\n",
    "    \n",
    "    features_upsampled = pd.concat([features_zeros] + [features_ones] * repeat)\n",
    "    target_upsampled = pd.concat([target_zeros] + [target_ones] * repeat)\n",
    "    \n",
    "    features_upsampled, target_upsampled = shuffle(features_upsampled, target_upsampled, random_state=12345)\n",
    "    \n",
    "    return features_upsampled, target_upsampled\n",
    "\n",
    "\n",
    "features_upsampled, target_upsampled = upsample(features_train, target_train, 4)"
   ]
  },
  {
   "cell_type": "markdown",
   "metadata": {},
   "source": [
    "Обучаю модели на увеличенной выборке, смотрю по ним F1 и AUC-ROC\n"
   ]
  },
  {
   "cell_type": "markdown",
   "metadata": {},
   "source": [
    "А. Случайный лес"
   ]
  },
  {
   "cell_type": "code",
   "execution_count": 22,
   "metadata": {},
   "outputs": [
    {
     "name": "stdout",
     "output_type": "stream",
     "text": [
      "F1 для случайного леса : 0.5997693194925029\n",
      "Максимальная глубина : 6\n",
      "Число деревьев : 9\n",
      "AUC-ROC : 0.8569889843731806\n"
     ]
    }
   ],
   "source": [
    "best_f1_rf = 0\n",
    "best_depth_rf = 0\n",
    "best_est_rf = 0\n",
    "best_roc_auc_score_rf = 0\n",
    "for depth in range(1, 10):\n",
    "    for est in range(1, 50):\n",
    "        rf = RandomForestClassifier(random_state=12345, n_estimators=est, max_depth=depth)\n",
    "        rf.fit(features_upsampled, target_upsampled)\n",
    "        predicted_valid_rf = rf.predict(features_valid)\n",
    "        f1_rf = f1_score(target_valid, predicted_valid_rf)\n",
    "        roc_auc_score_rf = roc_auc_score(target_valid, rf.predict_proba(features_valid)[:,1])\n",
    "        if f1_rf > best_f1_rf:\n",
    "            best_f1_rf = f1_rf\n",
    "            best_depth_rf = depth\n",
    "            best_est_rf = est\n",
    "            best_roc_auc_score_rf = roc_auc_score_rf\n",
    "            \n",
    "print('F1 для случайного леса :', best_f1_rf)\n",
    "print('Максимальная глубина :', best_depth_rf)\n",
    "print('Число деревьев :', best_est_rf)\n",
    "print('AUC-ROC :', best_roc_auc_score_rf)"
   ]
  },
  {
   "cell_type": "markdown",
   "metadata": {},
   "source": [
    "Б. Дерево решений"
   ]
  },
  {
   "cell_type": "code",
   "execution_count": 23,
   "metadata": {},
   "outputs": [
    {
     "name": "stdout",
     "output_type": "stream",
     "text": [
      "F1 = 0.47, AUC-ROC = 0.69 при глубине 1\n",
      "F1 = 0.50, AUC-ROC = 0.74 при глубине 2\n",
      "F1 = 0.51, AUC-ROC = 0.79 при глубине 3\n",
      "F1 = 0.51, AUC-ROC = 0.81 при глубине 4\n",
      "F1 = 0.57, AUC-ROC = 0.84 при глубине 5\n",
      "F1 = 0.54, AUC-ROC = 0.84 при глубине 6\n",
      "F1 = 0.54, AUC-ROC = 0.83 при глубине 7\n",
      "F1 = 0.53, AUC-ROC = 0.80 при глубине 8\n",
      "F1 = 0.53, AUC-ROC = 0.78 при глубине 9\n",
      "F1 = 0.50, AUC-ROC = 0.75 при глубине 10\n",
      "\n",
      "F1 для дерева решений : 0.5653631284916201\n",
      "Максимальная глубина : 5\n",
      "AUC-ROC : 0.8374962155616106\n"
     ]
    }
   ],
   "source": [
    "best_f1_data = 0\n",
    "best_depth_data = 0\n",
    "best_auc_roc = 0\n",
    "for depth in range(1, 11):\n",
    "    dat = DecisionTreeClassifier(random_state=12345, max_depth=depth)\n",
    "    dat.fit(features_upsampled, target_upsampled)\n",
    "    predicted_valid_data = dat.predict(features_valid)\n",
    "    f1_data = f1_score(target_valid, predicted_valid_data)\n",
    "    auc_roc_data = roc_auc_score(target_valid, dat.predict_proba(features_valid)[:, 1])\n",
    "    print(\"F1 = {:.2f}, AUC-ROC = {:.2f}\".format(f1_data, auc_roc_data), 'при глубине', depth)\n",
    "    if f1_data > best_f1_data:\n",
    "        best_f1_data = f1_data\n",
    "        best_depth_data = depth\n",
    "        best_auc_roc = auc_roc_data\n",
    "        \n",
    "print()\n",
    "print('F1 для дерева решений :', best_f1_data)\n",
    "print('Максимальная глубина :', best_depth_data)\n",
    "print('AUC-ROC :', best_auc_roc)"
   ]
  },
  {
   "cell_type": "markdown",
   "metadata": {},
   "source": [
    "В. Логистическая регрессия"
   ]
  },
  {
   "cell_type": "code",
   "execution_count": 24,
   "metadata": {},
   "outputs": [
    {
     "name": "stdout",
     "output_type": "stream",
     "text": [
      "F1: 0.49653808110781406\n",
      "ROC_auc: 0.7182446804381409\n"
     ]
    }
   ],
   "source": [
    "modell = LogisticRegression(random_state=12345,solver='liblinear')\n",
    "modell.fit(features_upsampled,target_upsampled)\n",
    "predicted_valid = modell.predict(features_valid)\n",
    "print(\"F1:\", f1_score(target_valid, predicted_valid))\n",
    "print(\"ROC_auc:\", roc_auc_score(target_valid, predicted_valid))"
   ]
  },
  {
   "cell_type": "markdown",
   "metadata": {},
   "source": [
    "на увеличенной выборке F1 выше"
   ]
  },
  {
   "cell_type": "markdown",
   "metadata": {},
   "source": [
    "3.2. Уменьшение выборки"
   ]
  },
  {
   "cell_type": "markdown",
   "metadata": {},
   "source": [
    "делаю объекты частого класса не такими частыми:"
   ]
  },
  {
   "cell_type": "code",
   "execution_count": 25,
   "metadata": {},
   "outputs": [],
   "source": [
    "def downsample(features, target, fraction):\n",
    "    features_zeros = features[target == 0]\n",
    "    features_ones = features[target == 1]\n",
    "    target_zeros = target[target == 0]\n",
    "    target_ones = target[target == 1]\n",
    "\n",
    "    features_downsampled = pd.concat([features_zeros.sample(frac=fraction, random_state=12345)] + [features_ones])\n",
    "    target_downsampled = pd.concat([target_zeros.sample(frac=fraction, random_state=12345)] + [target_ones])\n",
    "    \n",
    "    features_downsampled, target_downsampled = shuffle(features_downsampled, target_downsampled, random_state=12345)\n",
    "    \n",
    "    return features_downsampled, target_downsampled\n",
    "\n",
    "features_downsampled, target_downsampled = downsample(features_train, target_train, 0.25)"
   ]
  },
  {
   "cell_type": "markdown",
   "metadata": {},
   "source": [
    "Обучаю модели на уменьшенной выборке, смотрю по ним F1 и AUC-ROC"
   ]
  },
  {
   "cell_type": "markdown",
   "metadata": {},
   "source": [
    "А. Случайный лес"
   ]
  },
  {
   "cell_type": "code",
   "execution_count": 26,
   "metadata": {},
   "outputs": [
    {
     "name": "stdout",
     "output_type": "stream",
     "text": [
      "F1 для случайного леса : 0.5834254143646409\n",
      "Максимальная глубина : 5\n",
      "Число деревьев : 10\n",
      "AUC-ROC : 0.8497102478710108\n"
     ]
    }
   ],
   "source": [
    "best_f1_rf = 0\n",
    "best_depth_rf = 0\n",
    "best_est_rf = 0\n",
    "best_roc_auc_score_rf = 0\n",
    "for depth in range(1, 10):\n",
    "    for est in range(1, 50):\n",
    "        rf = RandomForestClassifier(random_state=12345, n_estimators=est, max_depth=depth)\n",
    "        rf.fit(features_downsampled, target_downsampled)\n",
    "        predicted_valid_rf = rf.predict(features_valid)\n",
    "        f1_rf = f1_score(target_valid, predicted_valid_rf)\n",
    "        roc_auc_score_rf = roc_auc_score(target_valid, rf.predict_proba(features_valid)[:,1])\n",
    "        if f1_rf > best_f1_rf:\n",
    "            best_f1_rf = f1_rf\n",
    "            best_depth_rf = depth\n",
    "            best_est_rf = est\n",
    "            best_roc_auc_score_rf = roc_auc_score_rf\n",
    "            \n",
    "print('F1 для случайного леса :', best_f1_rf)\n",
    "print('Максимальная глубина :', best_depth_rf)\n",
    "print('Число деревьев :', best_est_rf)\n",
    "print('AUC-ROC :', best_roc_auc_score_rf)"
   ]
  },
  {
   "cell_type": "markdown",
   "metadata": {},
   "source": [
    "Б. Дерево решений"
   ]
  },
  {
   "cell_type": "code",
   "execution_count": 27,
   "metadata": {},
   "outputs": [
    {
     "name": "stdout",
     "output_type": "stream",
     "text": [
      "F1 = 0.45, AUC-ROC = 0.68 при глубине 1\n",
      "F1 = 0.47, AUC-ROC = 0.74 при глубине 2\n",
      "F1 = 0.47, AUC-ROC = 0.79 при глубине 3\n",
      "F1 = 0.54, AUC-ROC = 0.82 при глубине 4\n",
      "F1 = 0.53, AUC-ROC = 0.82 при глубине 5\n",
      "F1 = 0.55, AUC-ROC = 0.83 при глубине 6\n",
      "F1 = 0.55, AUC-ROC = 0.83 при глубине 7\n",
      "F1 = 0.53, AUC-ROC = 0.80 при глубине 8\n",
      "F1 = 0.51, AUC-ROC = 0.79 при глубине 9\n",
      "F1 = 0.51, AUC-ROC = 0.77 при глубине 10\n",
      "\n",
      "F1 для дерева решений : 0.5485148514851486\n",
      "Максимальная глубина : 6\n",
      "AUC-ROC : 0.8290210143071178\n"
     ]
    }
   ],
   "source": [
    "best_f1_data = 0\n",
    "best_depth_data = 0\n",
    "best_auc_roc = 0\n",
    "for depth in range(1, 11):\n",
    "    dat = DecisionTreeClassifier(random_state=12345, max_depth=depth)\n",
    "    dat.fit(features_downsampled, target_downsampled)\n",
    "    predicted_valid_data = dat.predict(features_valid)\n",
    "    f1_data = f1_score(target_valid, predicted_valid_data)\n",
    "    auc_roc_data = roc_auc_score(target_valid, dat.predict_proba(features_valid)[:, 1])\n",
    "    print(\"F1 = {:.2f}, AUC-ROC = {:.2f}\".format(f1_data, auc_roc_data), 'при глубине', depth)\n",
    "    if f1_data > best_f1_data:\n",
    "        best_f1_data = f1_data\n",
    "        best_depth_data = depth\n",
    "        best_auc_roc = auc_roc_data\n",
    "        \n",
    "print()\n",
    "print('F1 для дерева решений :', best_f1_data)\n",
    "print('Максимальная глубина :', best_depth_data)\n",
    "print('AUC-ROC :', best_auc_roc)"
   ]
  },
  {
   "cell_type": "markdown",
   "metadata": {},
   "source": [
    "В. Логистическая регрессия"
   ]
  },
  {
   "cell_type": "code",
   "execution_count": 28,
   "metadata": {},
   "outputs": [
    {
     "name": "stdout",
     "output_type": "stream",
     "text": [
      "F1: 0.4911591355599214\n",
      "ROC_auc: 0.7140953833733126\n"
     ]
    }
   ],
   "source": [
    "modell = LogisticRegression(random_state=12345,solver='liblinear')\n",
    "modell.fit(features_downsampled,target_downsampled)\n",
    "predicted_valid = modell.predict(features_valid)\n",
    "print(\"F1:\", f1_score(target_valid, predicted_valid))\n",
    "print(\"ROC_auc:\", roc_auc_score(target_valid, predicted_valid))"
   ]
  },
  {
   "cell_type": "markdown",
   "metadata": {},
   "source": [
    "уменьшение выборки не дало такого значительного увеличения F1 случайного леса(нашей лучшей модели), как увеличение"
   ]
  },
  {
   "cell_type": "markdown",
   "metadata": {},
   "source": [
    "Вывод:\n",
    "1. Исследования сбалансрованной выборки подтвердили, что модель случайного дерева - лучшая;\n",
    "2. Увеличение выборки дает увеличение F1 нашей лучшей модели с 0,56 до 0,60, а уменьшение выборки - до 0,58;\n",
    "3. В качестве метода борьбы с дисбалансом нам следует использовать увеличение выборки;\n",
    "4. Лучшие гиперпараметры: max_depth=6, n_estimators=9, random_state=12345"
   ]
  },
  {
   "cell_type": "markdown",
   "metadata": {},
   "source": [
    "## Тестирование модели"
   ]
  },
  {
   "cell_type": "markdown",
   "metadata": {},
   "source": [
    "4.1. Обучим и протестируем лучшую модель\n"
   ]
  },
  {
   "cell_type": "code",
   "execution_count": 29,
   "metadata": {},
   "outputs": [],
   "source": [
    "#применяю upsampling к выборке:\n",
    "features_upsampled, target_upsampled = upsample(features_train, target_train, 4)"
   ]
  },
  {
   "cell_type": "code",
   "execution_count": 30,
   "metadata": {},
   "outputs": [
    {
     "name": "stdout",
     "output_type": "stream",
     "text": [
      "F1 = 0.5980498374864572\n",
      "AUC-ROC = 0.8582751809916853\n"
     ]
    }
   ],
   "source": [
    "#тестирую случайный лес на увеличенной выборке с лучшими гиперпараметрами:\n",
    "model_rf_test = RandomForestClassifier(random_state=12345,max_depth=6, n_estimators=9)\n",
    "model_rf_test.fit(features_upsampled, target_upsampled)\n",
    "predictions_rf_test = model_rf_test.predict(features_test)\n",
    "\n",
    "print('F1 =', f1_score(target_test, predictions_rf_test))\n",
    "print('AUC-ROC =', roc_auc_score(target_test, model_rf_test.predict_proba(features_test)[:,1]))"
   ]
  },
  {
   "cell_type": "code",
   "execution_count": 31,
   "metadata": {},
   "outputs": [
    {
     "data": {
      "text/plain": [
       "array([1, 0, 1, ..., 0, 0, 1])"
      ]
     },
     "metadata": {},
     "output_type": "display_data"
    }
   ],
   "source": [
    "display(predictions_rf_test)"
   ]
  },
  {
   "cell_type": "markdown",
   "metadata": {},
   "source": [
    "F1 финальной модели случайного леса (RandomForestClassifier) на тестовой выборке - 0.5980498374864572."
   ]
  },
  {
   "cell_type": "markdown",
   "metadata": {},
   "source": [
    "4.2. Проверим финальную модель на адекватность"
   ]
  },
  {
   "cell_type": "markdown",
   "metadata": {},
   "source": [
    "Создадим простейшую (dummy) модель для получения контрольных данных для сравнительной оценки построенной нами более сложной модели и определим ее f1."
   ]
  },
  {
   "cell_type": "code",
   "execution_count": 32,
   "metadata": {},
   "outputs": [
    {
     "data": {
      "text/plain": [
       "0.34350797266514804"
      ]
     },
     "execution_count": 32,
     "metadata": {},
     "output_type": "execute_result"
    }
   ],
   "source": [
    "dummy_model = DummyClassifier(strategy='constant', constant=1)\n",
    "dummy_model.fit(features_train, target_train)\n",
    "f1_score(dummy_model.predict(features_test), target_test)\n"
   ]
  },
  {
   "cell_type": "markdown",
   "metadata": {},
   "source": [
    "посмотрим f1 нашей лучшей модели"
   ]
  },
  {
   "cell_type": "code",
   "execution_count": 33,
   "metadata": {},
   "outputs": [
    {
     "name": "stdout",
     "output_type": "stream",
     "text": [
      "F1 = 0.5980498374864572\n"
     ]
    }
   ],
   "source": [
    "print('F1 =', f1_score(target_test, predictions_rf_test))"
   ]
  },
  {
   "cell_type": "markdown",
   "metadata": {},
   "source": [
    "f1 нашей модели выше, чем простейшей модели. Значит, наша модель адекватна."
   ]
  },
  {
   "cell_type": "markdown",
   "metadata": {},
   "source": [
    "Вывод:\n",
    "1. F1 финальной модели случайного леса (RandomForestClassifier) на тестовой выборке - 0.5980498374864572;\n",
    "2. Наша модель адекватна."
   ]
  },
  {
   "cell_type": "markdown",
   "metadata": {},
   "source": [
    "# Общий вывод:\n",
    "\n",
    "1. Без учета дисбаланса классов лучшая модель - это модель случайного леса(F1 для случайного леса : 0.5656934306569344,AUC-ROC : 0.852991064843926);\n",
    "2. Имеется явный дисбаланс классов (положительных ответов в нашей выборке около 20%, а отрицательных - около 80%);\n",
    "3. Для улучшения качества модели в нашем случае надо использовать увеличение выборки, что дает увеличение F1 до 0,60;\n",
    "4. F1 финальной модели случайного леса (RandomForestClassifier) на тестовой выборке - 0.5980498374864572, что подтверждает, что upsampling помог справиться с дисбалансом классов и улучшить качество модели;\n",
    "5. Наша модель адекватна."
   ]
  }
 ],
 "metadata": {
  "ExecuteTimeLog": [
   {
    "duration": 50,
    "start_time": "2023-03-15T09:26:51.755Z"
   },
   {
    "duration": 1706,
    "start_time": "2023-03-15T09:27:01.911Z"
   },
   {
    "duration": 6,
    "start_time": "2023-03-15T09:27:09.561Z"
   },
   {
    "duration": 164,
    "start_time": "2023-03-15T09:27:10.947Z"
   },
   {
    "duration": 19,
    "start_time": "2023-03-15T09:27:45.969Z"
   },
   {
    "duration": 60,
    "start_time": "2023-03-15T09:28:35.228Z"
   },
   {
    "duration": 13,
    "start_time": "2023-03-15T09:28:55.723Z"
   },
   {
    "duration": 12,
    "start_time": "2023-03-15T09:30:10.971Z"
   },
   {
    "duration": 12,
    "start_time": "2023-03-15T09:35:19.568Z"
   },
   {
    "duration": 9,
    "start_time": "2023-03-15T09:36:20.583Z"
   },
   {
    "duration": 9,
    "start_time": "2023-03-15T09:39:21.720Z"
   },
   {
    "duration": 8,
    "start_time": "2023-03-15T09:44:32.070Z"
   },
   {
    "duration": 74,
    "start_time": "2023-03-15T09:44:49.624Z"
   },
   {
    "duration": 10,
    "start_time": "2023-03-15T09:45:04.662Z"
   },
   {
    "duration": 12,
    "start_time": "2023-03-15T09:45:55.521Z"
   },
   {
    "duration": 1369,
    "start_time": "2023-03-15T09:47:01.777Z"
   },
   {
    "duration": 41,
    "start_time": "2023-03-15T09:47:03.149Z"
   },
   {
    "duration": 18,
    "start_time": "2023-03-15T09:47:03.191Z"
   },
   {
    "duration": 11,
    "start_time": "2023-03-15T09:47:03.211Z"
   },
   {
    "duration": 11,
    "start_time": "2023-03-15T09:47:03.225Z"
   },
   {
    "duration": 7,
    "start_time": "2023-03-15T09:47:03.237Z"
   },
   {
    "duration": 132,
    "start_time": "2023-03-15T09:47:03.246Z"
   },
   {
    "duration": 4,
    "start_time": "2023-03-15T09:48:03.878Z"
   },
   {
    "duration": 11,
    "start_time": "2023-03-15T09:48:14.445Z"
   },
   {
    "duration": 47,
    "start_time": "2023-03-15T09:48:29.840Z"
   },
   {
    "duration": 11,
    "start_time": "2023-03-15T09:48:37.113Z"
   },
   {
    "duration": 3,
    "start_time": "2023-03-15T09:50:30.255Z"
   },
   {
    "duration": 5,
    "start_time": "2023-03-15T09:51:44.019Z"
   },
   {
    "duration": 4,
    "start_time": "2023-03-15T10:05:51.418Z"
   },
   {
    "duration": 15,
    "start_time": "2023-03-15T10:09:30.057Z"
   },
   {
    "duration": 9,
    "start_time": "2023-03-15T10:09:41.213Z"
   },
   {
    "duration": 14,
    "start_time": "2023-03-15T10:10:44.482Z"
   },
   {
    "duration": 11,
    "start_time": "2023-03-15T10:10:48.962Z"
   },
   {
    "duration": 12,
    "start_time": "2023-03-15T10:11:29.682Z"
   },
   {
    "duration": 10,
    "start_time": "2023-03-15T10:13:08.630Z"
   },
   {
    "duration": 4,
    "start_time": "2023-03-15T10:13:18.237Z"
   },
   {
    "duration": 5,
    "start_time": "2023-03-15T10:13:31.626Z"
   },
   {
    "duration": 20,
    "start_time": "2023-03-15T10:36:08.936Z"
   },
   {
    "duration": 1158,
    "start_time": "2023-03-15T11:05:32.424Z"
   },
   {
    "duration": 10,
    "start_time": "2023-03-15T11:05:43.408Z"
   },
   {
    "duration": 9,
    "start_time": "2023-03-15T11:05:46.224Z"
   },
   {
    "duration": 12,
    "start_time": "2023-03-15T11:06:24.969Z"
   },
   {
    "duration": 27,
    "start_time": "2023-03-15T11:14:40.108Z"
   },
   {
    "duration": 217,
    "start_time": "2023-03-15T11:14:57.678Z"
   },
   {
    "duration": 192,
    "start_time": "2023-03-15T11:28:01.313Z"
   },
   {
    "duration": 193,
    "start_time": "2023-03-15T11:28:31.230Z"
   },
   {
    "duration": 210,
    "start_time": "2023-03-15T11:28:47.714Z"
   },
   {
    "duration": 189,
    "start_time": "2023-03-15T11:29:21.157Z"
   },
   {
    "duration": 0,
    "start_time": "2023-03-15T11:33:02.669Z"
   },
   {
    "duration": 1459,
    "start_time": "2023-03-15T11:33:30.100Z"
   },
   {
    "duration": 40,
    "start_time": "2023-03-15T11:33:31.562Z"
   },
   {
    "duration": 20,
    "start_time": "2023-03-15T11:33:31.604Z"
   },
   {
    "duration": 39,
    "start_time": "2023-03-15T11:33:31.625Z"
   },
   {
    "duration": 16,
    "start_time": "2023-03-15T11:33:31.666Z"
   },
   {
    "duration": 22,
    "start_time": "2023-03-15T11:33:31.683Z"
   },
   {
    "duration": 33,
    "start_time": "2023-03-15T11:33:31.707Z"
   },
   {
    "duration": 26,
    "start_time": "2023-03-15T11:33:31.742Z"
   },
   {
    "duration": 25,
    "start_time": "2023-03-15T11:33:31.770Z"
   },
   {
    "duration": 5,
    "start_time": "2023-03-15T11:33:31.797Z"
   },
   {
    "duration": 38,
    "start_time": "2023-03-15T11:33:31.803Z"
   },
   {
    "duration": 13,
    "start_time": "2023-03-15T11:33:31.843Z"
   },
   {
    "duration": 218,
    "start_time": "2023-03-15T11:33:31.857Z"
   },
   {
    "duration": 46997,
    "start_time": "2023-03-15T11:33:32.077Z"
   },
   {
    "duration": 0,
    "start_time": "2023-03-15T11:34:19.075Z"
   },
   {
    "duration": 193,
    "start_time": "2023-03-15T11:36:29.882Z"
   },
   {
    "duration": 48085,
    "start_time": "2023-03-15T11:39:55.805Z"
   },
   {
    "duration": 49172,
    "start_time": "2023-03-15T11:40:55.460Z"
   },
   {
    "duration": 218,
    "start_time": "2023-03-15T11:41:44.634Z"
   },
   {
    "duration": 11,
    "start_time": "2023-03-15T11:45:01.065Z"
   },
   {
    "duration": 5,
    "start_time": "2023-03-15T11:49:08.952Z"
   },
   {
    "duration": 30,
    "start_time": "2023-03-15T11:49:18.240Z"
   },
   {
    "duration": 196,
    "start_time": "2023-03-15T11:51:30.015Z"
   },
   {
    "duration": 30,
    "start_time": "2023-03-15T11:53:15.609Z"
   },
   {
    "duration": 6,
    "start_time": "2023-03-15T11:56:31.192Z"
   },
   {
    "duration": 102,
    "start_time": "2023-03-15T11:56:49.460Z"
   },
   {
    "duration": 13,
    "start_time": "2023-03-15T11:58:13.400Z"
   },
   {
    "duration": 10,
    "start_time": "2023-03-15T11:59:16.907Z"
   },
   {
    "duration": 195,
    "start_time": "2023-03-15T12:00:28.917Z"
   },
   {
    "duration": 10,
    "start_time": "2023-03-15T12:00:35.622Z"
   },
   {
    "duration": 1441,
    "start_time": "2023-03-15T12:01:08.215Z"
   },
   {
    "duration": 41,
    "start_time": "2023-03-15T12:01:09.659Z"
   },
   {
    "duration": 18,
    "start_time": "2023-03-15T12:01:09.701Z"
   },
   {
    "duration": 13,
    "start_time": "2023-03-15T12:01:09.721Z"
   },
   {
    "duration": 11,
    "start_time": "2023-03-15T12:01:09.737Z"
   },
   {
    "duration": 6,
    "start_time": "2023-03-15T12:01:09.750Z"
   },
   {
    "duration": 4,
    "start_time": "2023-03-15T12:01:09.758Z"
   },
   {
    "duration": 6,
    "start_time": "2023-03-15T12:01:09.764Z"
   },
   {
    "duration": 13,
    "start_time": "2023-03-15T12:01:09.771Z"
   },
   {
    "duration": 5,
    "start_time": "2023-03-15T12:01:09.812Z"
   },
   {
    "duration": 22,
    "start_time": "2023-03-15T12:01:09.818Z"
   },
   {
    "duration": 11,
    "start_time": "2023-03-15T12:01:09.841Z"
   },
   {
    "duration": 144,
    "start_time": "2023-03-15T12:01:09.854Z"
   },
   {
    "duration": 0,
    "start_time": "2023-03-15T12:01:10.000Z"
   },
   {
    "duration": 0,
    "start_time": "2023-03-15T12:01:10.001Z"
   },
   {
    "duration": 0,
    "start_time": "2023-03-15T12:01:10.002Z"
   },
   {
    "duration": 0,
    "start_time": "2023-03-15T12:01:10.012Z"
   },
   {
    "duration": 198,
    "start_time": "2023-03-15T12:01:39.597Z"
   },
   {
    "duration": 130,
    "start_time": "2023-03-15T12:01:53.054Z"
   },
   {
    "duration": 48295,
    "start_time": "2023-03-15T12:09:52.186Z"
   },
   {
    "duration": 30,
    "start_time": "2023-03-15T12:10:40.483Z"
   },
   {
    "duration": 32,
    "start_time": "2023-03-15T12:11:18.779Z"
   },
   {
    "duration": 12,
    "start_time": "2023-03-15T12:23:51.155Z"
   },
   {
    "duration": 977,
    "start_time": "2023-03-15T12:26:32.622Z"
   },
   {
    "duration": 13,
    "start_time": "2023-03-15T12:39:27.628Z"
   },
   {
    "duration": 14,
    "start_time": "2023-03-15T12:39:35.987Z"
   },
   {
    "duration": 1050,
    "start_time": "2023-03-15T12:39:36.477Z"
   },
   {
    "duration": 11,
    "start_time": "2023-03-15T12:39:45.843Z"
   },
   {
    "duration": 927,
    "start_time": "2023-03-15T12:40:18.309Z"
   },
   {
    "duration": 12,
    "start_time": "2023-03-15T12:41:06.226Z"
   },
   {
    "duration": 992,
    "start_time": "2023-03-15T12:41:25.132Z"
   },
   {
    "duration": 11,
    "start_time": "2023-03-15T12:43:36.327Z"
   },
   {
    "duration": 14,
    "start_time": "2023-03-15T12:43:46.377Z"
   },
   {
    "duration": 417,
    "start_time": "2023-03-15T12:43:48.926Z"
   },
   {
    "duration": 11,
    "start_time": "2023-03-15T12:53:49.533Z"
   },
   {
    "duration": 10,
    "start_time": "2023-03-15T12:54:19.460Z"
   },
   {
    "duration": 15,
    "start_time": "2023-03-15T12:54:22.726Z"
   },
   {
    "duration": 420,
    "start_time": "2023-03-15T13:03:30.546Z"
   },
   {
    "duration": 453,
    "start_time": "2023-03-15T13:03:44.051Z"
   },
   {
    "duration": 11,
    "start_time": "2023-03-15T13:07:19.393Z"
   },
   {
    "duration": 983,
    "start_time": "2023-03-15T13:07:22.299Z"
   },
   {
    "duration": 6,
    "start_time": "2023-03-15T13:10:30.350Z"
   },
   {
    "duration": 7,
    "start_time": "2023-03-15T13:11:12.074Z"
   },
   {
    "duration": 11,
    "start_time": "2023-03-15T13:12:00.815Z"
   },
   {
    "duration": 7,
    "start_time": "2023-03-15T13:13:57.842Z"
   },
   {
    "duration": 8,
    "start_time": "2023-03-15T13:15:53.538Z"
   },
   {
    "duration": 5,
    "start_time": "2023-03-15T13:18:32.059Z"
   },
   {
    "duration": 60,
    "start_time": "2023-03-15T13:20:44.028Z"
   },
   {
    "duration": 1434,
    "start_time": "2023-03-15T13:31:40.952Z"
   },
   {
    "duration": 40,
    "start_time": "2023-03-15T13:31:42.389Z"
   },
   {
    "duration": 19,
    "start_time": "2023-03-15T13:31:42.431Z"
   },
   {
    "duration": 19,
    "start_time": "2023-03-15T13:31:42.452Z"
   },
   {
    "duration": 11,
    "start_time": "2023-03-15T13:31:42.474Z"
   },
   {
    "duration": 9,
    "start_time": "2023-03-15T13:31:42.513Z"
   },
   {
    "duration": 6,
    "start_time": "2023-03-15T13:31:42.524Z"
   },
   {
    "duration": 10,
    "start_time": "2023-03-15T13:31:42.532Z"
   },
   {
    "duration": 15,
    "start_time": "2023-03-15T13:31:42.544Z"
   },
   {
    "duration": 5,
    "start_time": "2023-03-15T13:31:42.561Z"
   },
   {
    "duration": 54,
    "start_time": "2023-03-15T13:31:42.567Z"
   },
   {
    "duration": 11,
    "start_time": "2023-03-15T13:31:42.623Z"
   },
   {
    "duration": 237,
    "start_time": "2023-03-15T13:31:42.636Z"
   },
   {
    "duration": 48637,
    "start_time": "2023-03-15T13:31:42.876Z"
   },
   {
    "duration": 101,
    "start_time": "2023-03-15T13:32:31.515Z"
   },
   {
    "duration": 389,
    "start_time": "2023-03-15T13:32:31.618Z"
   },
   {
    "duration": 14,
    "start_time": "2023-03-15T13:32:32.012Z"
   },
   {
    "duration": 1022,
    "start_time": "2023-03-15T13:32:32.028Z"
   },
   {
    "duration": 17,
    "start_time": "2023-03-15T13:32:33.052Z"
   },
   {
    "duration": 428,
    "start_time": "2023-03-15T13:32:33.072Z"
   },
   {
    "duration": 19,
    "start_time": "2023-03-15T13:32:33.502Z"
   },
   {
    "duration": 1066,
    "start_time": "2023-03-15T13:32:33.523Z"
   },
   {
    "duration": 5,
    "start_time": "2023-03-15T13:32:34.591Z"
   },
   {
    "duration": 64,
    "start_time": "2023-03-15T13:32:34.598Z"
   },
   {
    "duration": 1458,
    "start_time": "2023-03-15T13:34:02.309Z"
   },
   {
    "duration": 42,
    "start_time": "2023-03-15T13:34:03.769Z"
   },
   {
    "duration": 18,
    "start_time": "2023-03-15T13:34:03.812Z"
   },
   {
    "duration": 18,
    "start_time": "2023-03-15T13:34:03.832Z"
   },
   {
    "duration": 12,
    "start_time": "2023-03-15T13:34:03.852Z"
   },
   {
    "duration": 7,
    "start_time": "2023-03-15T13:34:03.866Z"
   },
   {
    "duration": 8,
    "start_time": "2023-03-15T13:34:03.874Z"
   },
   {
    "duration": 32,
    "start_time": "2023-03-15T13:34:03.883Z"
   },
   {
    "duration": 13,
    "start_time": "2023-03-15T13:34:03.917Z"
   },
   {
    "duration": 5,
    "start_time": "2023-03-15T13:34:03.931Z"
   },
   {
    "duration": 21,
    "start_time": "2023-03-15T13:34:03.937Z"
   },
   {
    "duration": 13,
    "start_time": "2023-03-15T13:34:03.959Z"
   },
   {
    "duration": 307,
    "start_time": "2023-03-15T13:34:03.973Z"
   },
   {
    "duration": 48059,
    "start_time": "2023-03-15T13:34:04.285Z"
   },
   {
    "duration": 68,
    "start_time": "2023-03-15T13:34:52.346Z"
   },
   {
    "duration": 298,
    "start_time": "2023-03-15T13:34:52.416Z"
   },
   {
    "duration": 19,
    "start_time": "2023-03-15T13:34:52.717Z"
   },
   {
    "duration": 1010,
    "start_time": "2023-03-15T13:34:52.738Z"
   },
   {
    "duration": 17,
    "start_time": "2023-03-15T13:34:53.751Z"
   },
   {
    "duration": 453,
    "start_time": "2023-03-15T13:34:53.771Z"
   },
   {
    "duration": 16,
    "start_time": "2023-03-15T13:34:54.226Z"
   },
   {
    "duration": 1017,
    "start_time": "2023-03-15T13:34:54.245Z"
   },
   {
    "duration": 7,
    "start_time": "2023-03-15T13:34:55.264Z"
   },
   {
    "duration": 73,
    "start_time": "2023-03-15T13:34:55.273Z"
   },
   {
    "duration": 1888,
    "start_time": "2023-03-16T07:50:22.978Z"
   },
   {
    "duration": 168,
    "start_time": "2023-03-16T07:50:24.868Z"
   },
   {
    "duration": 16,
    "start_time": "2023-03-16T07:50:25.038Z"
   },
   {
    "duration": 16,
    "start_time": "2023-03-16T07:50:25.056Z"
   },
   {
    "duration": 12,
    "start_time": "2023-03-16T07:50:25.075Z"
   },
   {
    "duration": 11,
    "start_time": "2023-03-16T07:50:25.089Z"
   },
   {
    "duration": 6,
    "start_time": "2023-03-16T07:50:25.102Z"
   },
   {
    "duration": 10,
    "start_time": "2023-03-16T07:50:25.109Z"
   },
   {
    "duration": 18,
    "start_time": "2023-03-16T07:50:25.121Z"
   },
   {
    "duration": 28,
    "start_time": "2023-03-16T07:50:25.141Z"
   },
   {
    "duration": 24,
    "start_time": "2023-03-16T07:50:25.172Z"
   },
   {
    "duration": 11,
    "start_time": "2023-03-16T07:50:25.198Z"
   },
   {
    "duration": 238,
    "start_time": "2023-03-16T07:50:25.211Z"
   },
   {
    "duration": 50257,
    "start_time": "2023-03-16T07:50:25.453Z"
   },
   {
    "duration": 258,
    "start_time": "2023-03-16T07:51:15.712Z"
   },
   {
    "duration": 427,
    "start_time": "2023-03-16T07:51:15.972Z"
   },
   {
    "duration": 13,
    "start_time": "2023-03-16T07:51:16.401Z"
   },
   {
    "duration": 1963,
    "start_time": "2023-03-16T07:51:16.415Z"
   },
   {
    "duration": 12,
    "start_time": "2023-03-16T07:51:18.380Z"
   },
   {
    "duration": 636,
    "start_time": "2023-03-16T07:51:18.393Z"
   },
   {
    "duration": 9,
    "start_time": "2023-03-16T07:51:19.030Z"
   },
   {
    "duration": 1406,
    "start_time": "2023-03-16T07:51:19.041Z"
   },
   {
    "duration": 23,
    "start_time": "2023-03-16T07:51:20.449Z"
   },
   {
    "duration": 65,
    "start_time": "2023-03-16T07:51:20.473Z"
   },
   {
    "duration": 47,
    "start_time": "2023-03-17T07:54:49.155Z"
   },
   {
    "duration": 1481,
    "start_time": "2023-03-17T07:55:22.525Z"
   },
   {
    "duration": 173,
    "start_time": "2023-03-17T07:55:24.008Z"
   },
   {
    "duration": 24,
    "start_time": "2023-03-17T07:55:24.183Z"
   },
   {
    "duration": 18,
    "start_time": "2023-03-17T07:55:24.209Z"
   },
   {
    "duration": 13,
    "start_time": "2023-03-17T07:55:24.231Z"
   },
   {
    "duration": 31,
    "start_time": "2023-03-17T07:55:24.246Z"
   },
   {
    "duration": 7,
    "start_time": "2023-03-17T07:55:24.279Z"
   },
   {
    "duration": 10,
    "start_time": "2023-03-17T07:55:24.289Z"
   },
   {
    "duration": 26,
    "start_time": "2023-03-17T07:55:24.300Z"
   },
   {
    "duration": 6,
    "start_time": "2023-03-17T07:55:24.328Z"
   },
   {
    "duration": 40,
    "start_time": "2023-03-17T07:55:24.336Z"
   },
   {
    "duration": 13,
    "start_time": "2023-03-17T07:55:24.378Z"
   },
   {
    "duration": 13,
    "start_time": "2023-03-17T07:55:24.393Z"
   },
   {
    "duration": 223,
    "start_time": "2023-03-17T07:55:24.409Z"
   },
   {
    "duration": 46225,
    "start_time": "2023-03-17T07:55:24.634Z"
   },
   {
    "duration": 121,
    "start_time": "2023-03-17T07:56:10.861Z"
   },
   {
    "duration": 391,
    "start_time": "2023-03-17T07:56:10.984Z"
   },
   {
    "duration": 16,
    "start_time": "2023-03-17T07:56:11.377Z"
   },
   {
    "duration": 931,
    "start_time": "2023-03-17T07:56:11.396Z"
   },
   {
    "duration": 12,
    "start_time": "2023-03-17T07:56:12.329Z"
   },
   {
    "duration": 417,
    "start_time": "2023-03-17T07:56:12.342Z"
   },
   {
    "duration": 18,
    "start_time": "2023-03-17T07:56:12.761Z"
   },
   {
    "duration": 907,
    "start_time": "2023-03-17T07:56:12.780Z"
   },
   {
    "duration": 7,
    "start_time": "2023-03-17T07:56:13.689Z"
   },
   {
    "duration": 53,
    "start_time": "2023-03-17T07:56:13.697Z"
   },
   {
    "duration": 21,
    "start_time": "2023-03-17T07:57:05.945Z"
   },
   {
    "duration": 19,
    "start_time": "2023-03-17T07:58:19.137Z"
   },
   {
    "duration": 19,
    "start_time": "2023-03-17T07:58:45.043Z"
   },
   {
    "duration": 212,
    "start_time": "2023-03-17T08:01:08.122Z"
   },
   {
    "duration": 119,
    "start_time": "2023-03-17T08:01:54.885Z"
   },
   {
    "duration": 122,
    "start_time": "2023-03-17T08:02:12.877Z"
   },
   {
    "duration": 142,
    "start_time": "2023-03-17T08:02:56.164Z"
   },
   {
    "duration": 129,
    "start_time": "2023-03-17T08:05:17.430Z"
   },
   {
    "duration": 1320,
    "start_time": "2023-03-17T08:05:50.692Z"
   },
   {
    "duration": 38,
    "start_time": "2023-03-17T08:05:52.014Z"
   },
   {
    "duration": 16,
    "start_time": "2023-03-17T08:05:52.054Z"
   },
   {
    "duration": 13,
    "start_time": "2023-03-17T08:05:52.072Z"
   },
   {
    "duration": 12,
    "start_time": "2023-03-17T08:05:52.088Z"
   },
   {
    "duration": 9,
    "start_time": "2023-03-17T08:05:52.102Z"
   },
   {
    "duration": 14,
    "start_time": "2023-03-17T08:05:52.112Z"
   },
   {
    "duration": 5,
    "start_time": "2023-03-17T08:05:52.128Z"
   },
   {
    "duration": 30,
    "start_time": "2023-03-17T08:05:52.134Z"
   },
   {
    "duration": 12,
    "start_time": "2023-03-17T08:05:52.166Z"
   },
   {
    "duration": 42,
    "start_time": "2023-03-17T08:05:52.180Z"
   },
   {
    "duration": 12,
    "start_time": "2023-03-17T08:05:52.224Z"
   },
   {
    "duration": 14,
    "start_time": "2023-03-17T08:05:52.237Z"
   },
   {
    "duration": 31,
    "start_time": "2023-03-17T08:05:52.254Z"
   },
   {
    "duration": 19,
    "start_time": "2023-03-17T08:05:52.287Z"
   },
   {
    "duration": 20,
    "start_time": "2023-03-17T08:05:52.307Z"
   },
   {
    "duration": 253,
    "start_time": "2023-03-17T08:05:52.329Z"
   },
   {
    "duration": 94,
    "start_time": "2023-03-17T08:06:38.783Z"
   },
   {
    "duration": 258,
    "start_time": "2023-03-17T08:06:38.878Z"
   },
   {
    "duration": 12,
    "start_time": "2023-03-17T08:06:39.137Z"
   },
   {
    "duration": 1005,
    "start_time": "2023-03-17T08:06:39.150Z"
   },
   {
    "duration": 19,
    "start_time": "2023-03-17T08:06:40.156Z"
   },
   {
    "duration": 398,
    "start_time": "2023-03-17T08:06:40.177Z"
   },
   {
    "duration": 9,
    "start_time": "2023-03-17T08:06:40.577Z"
   },
   {
    "duration": 923,
    "start_time": "2023-03-17T08:06:40.588Z"
   },
   {
    "duration": 5,
    "start_time": "2023-03-17T08:06:41.512Z"
   },
   {
    "duration": 59,
    "start_time": "2023-03-17T08:06:41.519Z"
   },
   {
    "duration": 45860,
    "start_time": "2023-03-17T08:06:41.581Z"
   },
   {
    "duration": 915,
    "start_time": "2023-03-17T08:17:54.707Z"
   },
   {
    "duration": 1427,
    "start_time": "2023-03-17T08:21:09.707Z"
   },
   {
    "duration": 39,
    "start_time": "2023-03-17T08:21:11.136Z"
   },
   {
    "duration": 18,
    "start_time": "2023-03-17T08:21:11.177Z"
   },
   {
    "duration": 14,
    "start_time": "2023-03-17T08:21:11.196Z"
   },
   {
    "duration": 12,
    "start_time": "2023-03-17T08:21:11.212Z"
   },
   {
    "duration": 8,
    "start_time": "2023-03-17T08:21:11.226Z"
   },
   {
    "duration": 5,
    "start_time": "2023-03-17T08:21:11.236Z"
   },
   {
    "duration": 35,
    "start_time": "2023-03-17T08:21:11.243Z"
   },
   {
    "duration": 13,
    "start_time": "2023-03-17T08:21:11.279Z"
   },
   {
    "duration": 4,
    "start_time": "2023-03-17T08:21:11.294Z"
   },
   {
    "duration": 22,
    "start_time": "2023-03-17T08:21:11.300Z"
   },
   {
    "duration": 10,
    "start_time": "2023-03-17T08:21:11.325Z"
   },
   {
    "duration": 42,
    "start_time": "2023-03-17T08:21:11.336Z"
   },
   {
    "duration": 32,
    "start_time": "2023-03-17T08:21:11.381Z"
   },
   {
    "duration": 22,
    "start_time": "2023-03-17T08:21:11.415Z"
   },
   {
    "duration": 55,
    "start_time": "2023-03-17T08:21:11.439Z"
   },
   {
    "duration": 222,
    "start_time": "2023-03-17T08:21:11.497Z"
   },
   {
    "duration": 47170,
    "start_time": "2023-03-17T08:21:11.721Z"
   },
   {
    "duration": 83,
    "start_time": "2023-03-17T08:21:58.893Z"
   },
   {
    "duration": 244,
    "start_time": "2023-03-17T08:21:58.978Z"
   },
   {
    "duration": 13,
    "start_time": "2023-03-17T08:21:59.224Z"
   },
   {
    "duration": 1054,
    "start_time": "2023-03-17T08:21:59.239Z"
   },
   {
    "duration": 12,
    "start_time": "2023-03-17T08:22:00.295Z"
   },
   {
    "duration": 456,
    "start_time": "2023-03-17T08:22:00.309Z"
   },
   {
    "duration": 16,
    "start_time": "2023-03-17T08:22:00.767Z"
   },
   {
    "duration": 998,
    "start_time": "2023-03-17T08:22:00.785Z"
   },
   {
    "duration": 7,
    "start_time": "2023-03-17T08:22:01.785Z"
   },
   {
    "duration": 94,
    "start_time": "2023-03-17T08:22:01.794Z"
   },
   {
    "duration": 117,
    "start_time": "2023-03-17T08:24:07.841Z"
   },
   {
    "duration": 1570,
    "start_time": "2023-03-17T08:35:27.656Z"
   },
   {
    "duration": 40,
    "start_time": "2023-03-17T08:35:29.228Z"
   },
   {
    "duration": 26,
    "start_time": "2023-03-17T08:35:29.270Z"
   },
   {
    "duration": 13,
    "start_time": "2023-03-17T08:35:29.298Z"
   },
   {
    "duration": 19,
    "start_time": "2023-03-17T08:35:29.313Z"
   },
   {
    "duration": 27,
    "start_time": "2023-03-17T08:35:29.334Z"
   },
   {
    "duration": 7,
    "start_time": "2023-03-17T08:35:29.364Z"
   },
   {
    "duration": 12,
    "start_time": "2023-03-17T08:35:29.379Z"
   },
   {
    "duration": 20,
    "start_time": "2023-03-17T08:35:29.394Z"
   },
   {
    "duration": 5,
    "start_time": "2023-03-17T08:35:29.417Z"
   },
   {
    "duration": 29,
    "start_time": "2023-03-17T08:35:29.423Z"
   },
   {
    "duration": 31,
    "start_time": "2023-03-17T08:35:29.455Z"
   },
   {
    "duration": 13,
    "start_time": "2023-03-17T08:35:29.488Z"
   },
   {
    "duration": 24,
    "start_time": "2023-03-17T08:35:29.505Z"
   },
   {
    "duration": 24,
    "start_time": "2023-03-17T08:35:29.530Z"
   },
   {
    "duration": 35,
    "start_time": "2023-03-17T08:35:29.556Z"
   },
   {
    "duration": 245,
    "start_time": "2023-03-17T08:35:29.592Z"
   },
   {
    "duration": 50899,
    "start_time": "2023-03-17T08:35:29.839Z"
   },
   {
    "duration": 48,
    "start_time": "2023-03-17T08:36:20.740Z"
   },
   {
    "duration": 324,
    "start_time": "2023-03-17T08:36:20.790Z"
   },
   {
    "duration": 11,
    "start_time": "2023-03-17T08:36:21.115Z"
   },
   {
    "duration": 1603,
    "start_time": "2023-03-17T08:44:23.641Z"
   },
   {
    "duration": 52,
    "start_time": "2023-03-17T08:44:25.246Z"
   },
   {
    "duration": 21,
    "start_time": "2023-03-17T08:44:25.300Z"
   },
   {
    "duration": 12,
    "start_time": "2023-03-17T08:44:25.323Z"
   },
   {
    "duration": 34,
    "start_time": "2023-03-17T08:44:25.338Z"
   },
   {
    "duration": 31,
    "start_time": "2023-03-17T08:44:25.373Z"
   },
   {
    "duration": 7,
    "start_time": "2023-03-17T08:44:25.407Z"
   },
   {
    "duration": 14,
    "start_time": "2023-03-17T08:44:25.415Z"
   },
   {
    "duration": 18,
    "start_time": "2023-03-17T08:44:25.430Z"
   },
   {
    "duration": 6,
    "start_time": "2023-03-17T08:44:25.450Z"
   },
   {
    "duration": 45,
    "start_time": "2023-03-17T08:44:25.457Z"
   },
   {
    "duration": 16,
    "start_time": "2023-03-17T08:44:25.504Z"
   },
   {
    "duration": 13,
    "start_time": "2023-03-17T08:44:25.522Z"
   },
   {
    "duration": 61,
    "start_time": "2023-03-17T08:44:25.539Z"
   },
   {
    "duration": 19,
    "start_time": "2023-03-17T08:44:25.604Z"
   },
   {
    "duration": 17,
    "start_time": "2023-03-17T08:44:25.625Z"
   },
   {
    "duration": 252,
    "start_time": "2023-03-17T08:44:25.644Z"
   },
   {
    "duration": 52400,
    "start_time": "2023-03-17T08:44:25.900Z"
   },
   {
    "duration": 273,
    "start_time": "2023-03-17T08:45:18.302Z"
   },
   {
    "duration": 163,
    "start_time": "2023-03-17T08:45:18.577Z"
   },
   {
    "duration": 13,
    "start_time": "2023-03-17T08:45:18.741Z"
   },
   {
    "duration": 1083,
    "start_time": "2023-03-17T08:45:18.757Z"
   },
   {
    "duration": 12,
    "start_time": "2023-03-17T08:45:19.842Z"
   },
   {
    "duration": 425,
    "start_time": "2023-03-17T08:45:19.856Z"
   },
   {
    "duration": 10,
    "start_time": "2023-03-17T08:45:20.282Z"
   },
   {
    "duration": 1020,
    "start_time": "2023-03-17T08:45:20.294Z"
   },
   {
    "duration": 6,
    "start_time": "2023-03-17T08:45:21.316Z"
   },
   {
    "duration": 65,
    "start_time": "2023-03-17T08:45:21.323Z"
   },
   {
    "duration": 65494,
    "start_time": "2023-03-17T08:47:10.709Z"
   },
   {
    "duration": 255,
    "start_time": "2023-03-17T08:48:50.063Z"
   },
   {
    "duration": 34,
    "start_time": "2023-03-17T08:49:42.840Z"
   },
   {
    "duration": 1405,
    "start_time": "2023-03-17T08:59:54.017Z"
   },
   {
    "duration": 39,
    "start_time": "2023-03-17T08:59:55.424Z"
   },
   {
    "duration": 20,
    "start_time": "2023-03-17T08:59:55.465Z"
   },
   {
    "duration": 34,
    "start_time": "2023-03-17T08:59:55.487Z"
   },
   {
    "duration": 12,
    "start_time": "2023-03-17T08:59:55.523Z"
   },
   {
    "duration": 12,
    "start_time": "2023-03-17T08:59:55.537Z"
   },
   {
    "duration": 25,
    "start_time": "2023-03-17T08:59:55.551Z"
   },
   {
    "duration": 23,
    "start_time": "2023-03-17T08:59:55.578Z"
   },
   {
    "duration": 35,
    "start_time": "2023-03-17T08:59:55.602Z"
   },
   {
    "duration": 22,
    "start_time": "2023-03-17T08:59:55.639Z"
   },
   {
    "duration": 37,
    "start_time": "2023-03-17T08:59:55.663Z"
   },
   {
    "duration": 38,
    "start_time": "2023-03-17T08:59:55.702Z"
   },
   {
    "duration": 21,
    "start_time": "2023-03-17T08:59:55.742Z"
   },
   {
    "duration": 23,
    "start_time": "2023-03-17T08:59:55.766Z"
   },
   {
    "duration": 45,
    "start_time": "2023-03-17T08:59:55.791Z"
   },
   {
    "duration": 32,
    "start_time": "2023-03-17T08:59:55.837Z"
   },
   {
    "duration": 208,
    "start_time": "2023-03-17T08:59:55.871Z"
   },
   {
    "duration": 47977,
    "start_time": "2023-03-17T08:59:56.081Z"
   },
   {
    "duration": 42,
    "start_time": "2023-03-17T09:00:44.060Z"
   },
   {
    "duration": 272,
    "start_time": "2023-03-17T09:00:44.175Z"
   },
   {
    "duration": 12,
    "start_time": "2023-03-17T09:00:44.449Z"
   },
   {
    "duration": 0,
    "start_time": "2023-03-17T09:03:48.332Z"
   },
   {
    "duration": 0,
    "start_time": "2023-03-17T09:03:48.333Z"
   },
   {
    "duration": 0,
    "start_time": "2023-03-17T09:03:48.335Z"
   },
   {
    "duration": 0,
    "start_time": "2023-03-17T09:03:48.336Z"
   },
   {
    "duration": 0,
    "start_time": "2023-03-17T09:03:48.338Z"
   },
   {
    "duration": 0,
    "start_time": "2023-03-17T09:03:48.339Z"
   },
   {
    "duration": 0,
    "start_time": "2023-03-17T09:03:48.340Z"
   },
   {
    "duration": 0,
    "start_time": "2023-03-17T09:03:48.341Z"
   },
   {
    "duration": 0,
    "start_time": "2023-03-17T09:03:48.343Z"
   },
   {
    "duration": 1525,
    "start_time": "2023-03-17T09:06:10.793Z"
   },
   {
    "duration": 45,
    "start_time": "2023-03-17T09:06:12.320Z"
   },
   {
    "duration": 24,
    "start_time": "2023-03-17T09:06:12.367Z"
   },
   {
    "duration": 27,
    "start_time": "2023-03-17T09:06:12.392Z"
   },
   {
    "duration": 15,
    "start_time": "2023-03-17T09:06:12.422Z"
   },
   {
    "duration": 10,
    "start_time": "2023-03-17T09:06:12.439Z"
   },
   {
    "duration": 11,
    "start_time": "2023-03-17T09:06:12.451Z"
   },
   {
    "duration": 8,
    "start_time": "2023-03-17T09:06:12.475Z"
   },
   {
    "duration": 17,
    "start_time": "2023-03-17T09:06:12.485Z"
   },
   {
    "duration": 5,
    "start_time": "2023-03-17T09:06:12.505Z"
   },
   {
    "duration": 21,
    "start_time": "2023-03-17T09:06:12.511Z"
   },
   {
    "duration": 48,
    "start_time": "2023-03-17T09:06:12.534Z"
   },
   {
    "duration": 13,
    "start_time": "2023-03-17T09:06:12.584Z"
   },
   {
    "duration": 25,
    "start_time": "2023-03-17T09:06:12.600Z"
   },
   {
    "duration": 19,
    "start_time": "2023-03-17T09:06:12.626Z"
   },
   {
    "duration": 43,
    "start_time": "2023-03-17T09:06:12.646Z"
   },
   {
    "duration": 234,
    "start_time": "2023-03-17T09:06:12.691Z"
   },
   {
    "duration": 50399,
    "start_time": "2023-03-17T09:06:12.927Z"
   },
   {
    "duration": 59,
    "start_time": "2023-03-17T09:07:03.328Z"
   },
   {
    "duration": 362,
    "start_time": "2023-03-17T09:07:03.389Z"
   },
   {
    "duration": 29,
    "start_time": "2023-03-17T09:07:03.753Z"
   },
   {
    "duration": 331,
    "start_time": "2023-03-17T09:07:03.785Z"
   },
   {
    "duration": 163,
    "start_time": "2023-03-17T09:07:04.122Z"
   },
   {
    "duration": 96,
    "start_time": "2023-03-17T09:07:04.289Z"
   },
   {
    "duration": 647,
    "start_time": "2023-03-17T09:07:04.391Z"
   },
   {
    "duration": 16,
    "start_time": "2023-03-17T09:07:05.041Z"
   },
   {
    "duration": 1138,
    "start_time": "2023-03-17T09:07:05.061Z"
   },
   {
    "duration": 7,
    "start_time": "2023-03-17T09:07:06.201Z"
   },
   {
    "duration": 86,
    "start_time": "2023-03-17T09:07:06.209Z"
   },
   {
    "duration": 68136,
    "start_time": "2023-03-17T09:11:35.331Z"
   },
   {
    "duration": 129,
    "start_time": "2023-03-17T09:13:17.548Z"
   },
   {
    "duration": 59484,
    "start_time": "2023-03-17T09:13:57.253Z"
   },
   {
    "duration": 36,
    "start_time": "2023-03-17T09:18:35.098Z"
   },
   {
    "duration": 64,
    "start_time": "2023-03-17T09:22:43.529Z"
   },
   {
    "duration": 70718,
    "start_time": "2023-03-17T09:23:34.557Z"
   },
   {
    "duration": 1397,
    "start_time": "2023-03-17T09:25:57.316Z"
   },
   {
    "duration": 1379,
    "start_time": "2023-03-17T09:27:50.765Z"
   },
   {
    "duration": 93,
    "start_time": "2023-03-17T09:30:55.503Z"
   },
   {
    "duration": 64928,
    "start_time": "2023-03-17T09:31:06.479Z"
   },
   {
    "duration": 65985,
    "start_time": "2023-03-17T09:36:00.636Z"
   },
   {
    "duration": 1326,
    "start_time": "2023-03-17T09:40:22.492Z"
   },
   {
    "duration": 1422,
    "start_time": "2023-03-17T09:41:04.307Z"
   },
   {
    "duration": 10,
    "start_time": "2023-03-17T09:47:19.296Z"
   },
   {
    "duration": 26548,
    "start_time": "2023-03-17T09:47:30.839Z"
   },
   {
    "duration": 708,
    "start_time": "2023-03-17T09:48:54.090Z"
   },
   {
    "duration": 558,
    "start_time": "2023-03-17T09:49:33.400Z"
   },
   {
    "duration": 144,
    "start_time": "2023-03-17T09:52:07.131Z"
   },
   {
    "duration": 33,
    "start_time": "2023-03-17T09:54:43.747Z"
   },
   {
    "duration": 23,
    "start_time": "2023-03-17T09:55:06.884Z"
   },
   {
    "duration": 98,
    "start_time": "2023-03-17T10:08:45.680Z"
   },
   {
    "duration": 74,
    "start_time": "2023-03-17T10:08:54.930Z"
   },
   {
    "duration": 77,
    "start_time": "2023-03-17T10:09:05.098Z"
   },
   {
    "duration": 72,
    "start_time": "2023-03-17T10:09:42.676Z"
   },
   {
    "duration": 90,
    "start_time": "2023-03-17T10:10:15.356Z"
   },
   {
    "duration": 8,
    "start_time": "2023-03-17T10:10:27.532Z"
   },
   {
    "duration": 6,
    "start_time": "2023-03-17T10:12:28.597Z"
   },
   {
    "duration": 1383,
    "start_time": "2023-03-17T10:12:51.332Z"
   },
   {
    "duration": 39,
    "start_time": "2023-03-17T10:12:52.717Z"
   },
   {
    "duration": 18,
    "start_time": "2023-03-17T10:12:52.758Z"
   },
   {
    "duration": 14,
    "start_time": "2023-03-17T10:12:52.778Z"
   },
   {
    "duration": 11,
    "start_time": "2023-03-17T10:12:52.795Z"
   },
   {
    "duration": 8,
    "start_time": "2023-03-17T10:12:52.808Z"
   },
   {
    "duration": 7,
    "start_time": "2023-03-17T10:12:52.817Z"
   },
   {
    "duration": 5,
    "start_time": "2023-03-17T10:12:52.825Z"
   },
   {
    "duration": 44,
    "start_time": "2023-03-17T10:12:52.832Z"
   },
   {
    "duration": 5,
    "start_time": "2023-03-17T10:12:52.878Z"
   },
   {
    "duration": 27,
    "start_time": "2023-03-17T10:12:52.885Z"
   },
   {
    "duration": 12,
    "start_time": "2023-03-17T10:12:52.913Z"
   },
   {
    "duration": 18,
    "start_time": "2023-03-17T10:12:52.927Z"
   },
   {
    "duration": 41,
    "start_time": "2023-03-17T10:12:52.949Z"
   },
   {
    "duration": 19,
    "start_time": "2023-03-17T10:12:52.992Z"
   },
   {
    "duration": 18,
    "start_time": "2023-03-17T10:12:53.013Z"
   },
   {
    "duration": 245,
    "start_time": "2023-03-17T10:12:53.033Z"
   },
   {
    "duration": 47310,
    "start_time": "2023-03-17T10:12:53.280Z"
   },
   {
    "duration": 31,
    "start_time": "2023-03-17T10:13:40.592Z"
   },
   {
    "duration": 248,
    "start_time": "2023-03-17T10:13:40.675Z"
   },
   {
    "duration": 12,
    "start_time": "2023-03-17T10:13:40.925Z"
   },
   {
    "duration": 62894,
    "start_time": "2023-03-17T10:13:40.939Z"
   },
   {
    "duration": 1424,
    "start_time": "2023-03-17T10:14:43.834Z"
   },
   {
    "duration": 269,
    "start_time": "2023-03-17T10:14:45.260Z"
   },
   {
    "duration": 46,
    "start_time": "2023-03-17T10:14:45.530Z"
   },
   {
    "duration": 99,
    "start_time": "2023-03-17T10:14:45.578Z"
   },
   {
    "duration": 26433,
    "start_time": "2023-03-17T10:14:45.679Z"
   },
   {
    "duration": 563,
    "start_time": "2023-03-17T10:15:12.113Z"
   },
   {
    "duration": 153,
    "start_time": "2023-03-17T10:15:12.678Z"
   },
   {
    "duration": 51,
    "start_time": "2023-03-17T10:15:12.833Z"
   },
   {
    "duration": 90,
    "start_time": "2023-03-17T10:15:12.888Z"
   },
   {
    "duration": 1576,
    "start_time": "2023-03-17T10:15:12.981Z"
   },
   {
    "duration": 7,
    "start_time": "2023-03-17T10:15:14.558Z"
   },
   {
    "duration": 18,
    "start_time": "2023-03-17T10:15:14.574Z"
   },
   {
    "duration": 50962,
    "start_time": "2023-03-17T11:16:25.103Z"
   },
   {
    "duration": 64418,
    "start_time": "2023-03-17T11:37:30.639Z"
   },
   {
    "duration": 64263,
    "start_time": "2023-03-17T11:38:35.059Z"
   },
   {
    "duration": 33458,
    "start_time": "2023-03-17T11:41:56.897Z"
   },
   {
    "duration": 69,
    "start_time": "2023-03-17T11:42:45.659Z"
   },
   {
    "duration": 1420,
    "start_time": "2023-03-17T11:48:31.712Z"
   },
   {
    "duration": 41,
    "start_time": "2023-03-17T11:48:33.135Z"
   },
   {
    "duration": 19,
    "start_time": "2023-03-17T11:48:33.178Z"
   },
   {
    "duration": 14,
    "start_time": "2023-03-17T11:48:33.198Z"
   },
   {
    "duration": 15,
    "start_time": "2023-03-17T11:48:33.214Z"
   },
   {
    "duration": 8,
    "start_time": "2023-03-17T11:48:33.230Z"
   },
   {
    "duration": 36,
    "start_time": "2023-03-17T11:48:33.240Z"
   },
   {
    "duration": 11,
    "start_time": "2023-03-17T11:48:33.278Z"
   },
   {
    "duration": 17,
    "start_time": "2023-03-17T11:48:33.291Z"
   },
   {
    "duration": 7,
    "start_time": "2023-03-17T11:48:33.310Z"
   },
   {
    "duration": 22,
    "start_time": "2023-03-17T11:48:33.319Z"
   },
   {
    "duration": 33,
    "start_time": "2023-03-17T11:48:33.343Z"
   },
   {
    "duration": 11,
    "start_time": "2023-03-17T11:48:33.378Z"
   },
   {
    "duration": 24,
    "start_time": "2023-03-17T11:48:33.392Z"
   },
   {
    "duration": 18,
    "start_time": "2023-03-17T11:48:33.418Z"
   },
   {
    "duration": 46,
    "start_time": "2023-03-17T11:48:33.438Z"
   },
   {
    "duration": 221,
    "start_time": "2023-03-17T11:48:33.486Z"
   },
   {
    "duration": 47120,
    "start_time": "2023-03-17T11:48:33.709Z"
   },
   {
    "duration": 52,
    "start_time": "2023-03-17T11:49:20.831Z"
   },
   {
    "duration": 246,
    "start_time": "2023-03-17T11:49:20.975Z"
   },
   {
    "duration": 12,
    "start_time": "2023-03-17T11:49:21.223Z"
   },
   {
    "duration": 62057,
    "start_time": "2023-03-17T11:49:21.237Z"
   },
   {
    "duration": 263,
    "start_time": "2023-03-17T11:50:23.295Z"
   },
   {
    "duration": 123,
    "start_time": "2023-03-17T11:50:23.560Z"
   },
   {
    "duration": 96,
    "start_time": "2023-03-17T11:50:23.685Z"
   },
   {
    "duration": 33107,
    "start_time": "2023-03-17T11:50:23.783Z"
   },
   {
    "duration": 137,
    "start_time": "2023-03-17T11:50:56.891Z"
   },
   {
    "duration": 48,
    "start_time": "2023-03-17T11:50:57.030Z"
   },
   {
    "duration": 95,
    "start_time": "2023-03-17T11:50:57.080Z"
   },
   {
    "duration": 71,
    "start_time": "2023-03-17T11:50:57.177Z"
   },
   {
    "duration": 27,
    "start_time": "2023-03-17T11:50:57.250Z"
   },
   {
    "duration": 6,
    "start_time": "2023-03-17T11:50:57.279Z"
   },
   {
    "duration": 70,
    "start_time": "2023-03-24T11:57:37.689Z"
   },
   {
    "duration": 1474,
    "start_time": "2023-03-24T11:57:51.552Z"
   },
   {
    "duration": 208,
    "start_time": "2023-03-24T11:57:53.028Z"
   },
   {
    "duration": 17,
    "start_time": "2023-03-24T11:57:53.237Z"
   },
   {
    "duration": 14,
    "start_time": "2023-03-24T11:57:53.256Z"
   },
   {
    "duration": 16,
    "start_time": "2023-03-24T11:57:53.271Z"
   },
   {
    "duration": 31,
    "start_time": "2023-03-24T11:57:53.288Z"
   },
   {
    "duration": 5,
    "start_time": "2023-03-24T11:57:53.325Z"
   },
   {
    "duration": 120,
    "start_time": "2023-03-24T11:57:53.332Z"
   },
   {
    "duration": 0,
    "start_time": "2023-03-24T11:57:53.455Z"
   },
   {
    "duration": 0,
    "start_time": "2023-03-24T11:57:53.456Z"
   },
   {
    "duration": 0,
    "start_time": "2023-03-24T11:57:53.457Z"
   },
   {
    "duration": 0,
    "start_time": "2023-03-24T11:57:53.458Z"
   },
   {
    "duration": 0,
    "start_time": "2023-03-24T11:57:53.459Z"
   },
   {
    "duration": 0,
    "start_time": "2023-03-24T11:57:53.461Z"
   },
   {
    "duration": 0,
    "start_time": "2023-03-24T11:57:53.462Z"
   },
   {
    "duration": 0,
    "start_time": "2023-03-24T11:57:53.464Z"
   },
   {
    "duration": 1,
    "start_time": "2023-03-24T11:57:53.465Z"
   },
   {
    "duration": 0,
    "start_time": "2023-03-24T11:57:53.467Z"
   },
   {
    "duration": 0,
    "start_time": "2023-03-24T11:57:53.491Z"
   },
   {
    "duration": 0,
    "start_time": "2023-03-24T11:57:53.493Z"
   },
   {
    "duration": 0,
    "start_time": "2023-03-24T11:57:53.508Z"
   },
   {
    "duration": 0,
    "start_time": "2023-03-24T11:57:53.510Z"
   },
   {
    "duration": 0,
    "start_time": "2023-03-24T11:57:53.511Z"
   },
   {
    "duration": 0,
    "start_time": "2023-03-24T11:57:53.514Z"
   },
   {
    "duration": 0,
    "start_time": "2023-03-24T11:57:53.515Z"
   },
   {
    "duration": 0,
    "start_time": "2023-03-24T11:57:53.516Z"
   },
   {
    "duration": 0,
    "start_time": "2023-03-24T11:57:53.517Z"
   },
   {
    "duration": 0,
    "start_time": "2023-03-24T11:57:53.518Z"
   },
   {
    "duration": 0,
    "start_time": "2023-03-24T11:57:53.519Z"
   },
   {
    "duration": 0,
    "start_time": "2023-03-24T11:57:53.519Z"
   },
   {
    "duration": 0,
    "start_time": "2023-03-24T11:57:53.520Z"
   },
   {
    "duration": 0,
    "start_time": "2023-03-24T11:57:53.524Z"
   },
   {
    "duration": 1557,
    "start_time": "2023-03-24T12:08:49.418Z"
   },
   {
    "duration": 63,
    "start_time": "2023-03-24T12:08:50.978Z"
   },
   {
    "duration": 18,
    "start_time": "2023-03-24T12:08:51.043Z"
   },
   {
    "duration": 49,
    "start_time": "2023-03-24T12:08:51.063Z"
   },
   {
    "duration": 12,
    "start_time": "2023-03-24T12:08:51.121Z"
   },
   {
    "duration": 9,
    "start_time": "2023-03-24T12:08:51.135Z"
   },
   {
    "duration": 10,
    "start_time": "2023-03-24T12:08:51.146Z"
   },
   {
    "duration": 9,
    "start_time": "2023-03-24T12:08:51.158Z"
   },
   {
    "duration": 44,
    "start_time": "2023-03-24T12:08:51.169Z"
   },
   {
    "duration": 5,
    "start_time": "2023-03-24T12:08:51.217Z"
   },
   {
    "duration": 25,
    "start_time": "2023-03-24T12:08:51.225Z"
   },
   {
    "duration": 28,
    "start_time": "2023-03-24T12:08:51.252Z"
   },
   {
    "duration": 39,
    "start_time": "2023-03-24T12:08:51.282Z"
   },
   {
    "duration": 23,
    "start_time": "2023-03-24T12:08:51.324Z"
   },
   {
    "duration": 22,
    "start_time": "2023-03-24T12:08:51.349Z"
   },
   {
    "duration": 41,
    "start_time": "2023-03-24T12:08:51.372Z"
   },
   {
    "duration": 224,
    "start_time": "2023-03-24T12:08:51.415Z"
   },
   {
    "duration": 54020,
    "start_time": "2023-03-24T12:08:51.641Z"
   },
   {
    "duration": 62,
    "start_time": "2023-03-24T12:09:45.663Z"
   },
   {
    "duration": 253,
    "start_time": "2023-03-24T12:09:45.790Z"
   },
   {
    "duration": 12,
    "start_time": "2023-03-24T12:09:46.045Z"
   },
   {
    "duration": 71485,
    "start_time": "2023-03-24T12:09:46.059Z"
   },
   {
    "duration": 339,
    "start_time": "2023-03-24T12:10:57.546Z"
   },
   {
    "duration": 107,
    "start_time": "2023-03-24T12:10:57.891Z"
   },
   {
    "duration": 94,
    "start_time": "2023-03-24T12:10:58.000Z"
   },
   {
    "duration": 37566,
    "start_time": "2023-03-24T12:10:58.096Z"
   },
   {
    "duration": 153,
    "start_time": "2023-03-24T12:11:35.663Z"
   },
   {
    "duration": 82,
    "start_time": "2023-03-24T12:11:35.819Z"
   },
   {
    "duration": 88,
    "start_time": "2023-03-24T12:11:35.905Z"
   },
   {
    "duration": 93,
    "start_time": "2023-03-24T12:11:36.001Z"
   },
   {
    "duration": 8,
    "start_time": "2023-03-24T12:11:36.096Z"
   },
   {
    "duration": 17,
    "start_time": "2023-03-24T12:11:36.108Z"
   },
   {
    "duration": 287,
    "start_time": "2023-05-18T10:02:04.499Z"
   },
   {
    "duration": 85,
    "start_time": "2023-05-18T10:02:14.701Z"
   },
   {
    "duration": 5406,
    "start_time": "2023-05-18T10:02:26.910Z"
   },
   {
    "duration": 499,
    "start_time": "2023-05-18T10:02:32.380Z"
   },
   {
    "duration": 110,
    "start_time": "2023-05-18T10:02:32.891Z"
   },
   {
    "duration": 100,
    "start_time": "2023-05-18T10:02:33.081Z"
   },
   {
    "duration": 94,
    "start_time": "2023-05-18T10:02:33.192Z"
   },
   {
    "duration": 82,
    "start_time": "2023-05-18T10:02:33.297Z"
   },
   {
    "duration": 12,
    "start_time": "2023-05-18T10:02:33.383Z"
   },
   {
    "duration": 7,
    "start_time": "2023-05-18T10:02:33.397Z"
   },
   {
    "duration": 95,
    "start_time": "2023-05-18T10:02:33.488Z"
   },
   {
    "duration": 14,
    "start_time": "2023-05-18T10:02:33.587Z"
   },
   {
    "duration": 103,
    "start_time": "2023-05-18T10:02:33.604Z"
   },
   {
    "duration": 83,
    "start_time": "2023-05-18T10:02:33.709Z"
   },
   {
    "duration": 84,
    "start_time": "2023-05-18T10:02:33.796Z"
   },
   {
    "duration": 118,
    "start_time": "2023-05-18T10:02:33.883Z"
   },
   {
    "duration": 108,
    "start_time": "2023-05-18T10:02:34.079Z"
   },
   {
    "duration": 109,
    "start_time": "2023-05-18T10:02:34.191Z"
   },
   {
    "duration": 1185,
    "start_time": "2023-05-18T10:02:34.305Z"
   },
   {
    "duration": 247991,
    "start_time": "2023-05-18T10:02:35.493Z"
   },
   {
    "duration": 704,
    "start_time": "2023-05-18T10:06:43.486Z"
   },
   {
    "duration": 696,
    "start_time": "2023-05-18T10:06:44.195Z"
   },
   {
    "duration": 97,
    "start_time": "2023-05-18T10:06:44.904Z"
   },
   {
    "duration": 298989,
    "start_time": "2023-05-18T10:06:45.007Z"
   },
   {
    "duration": 1103,
    "start_time": "2023-05-18T10:11:44.005Z"
   },
   {
    "duration": 292,
    "start_time": "2023-05-18T10:11:45.119Z"
   },
   {
    "duration": 29,
    "start_time": "2023-05-18T10:11:45.481Z"
   },
   {
    "duration": 156667,
    "start_time": "2023-05-18T10:11:45.517Z"
   },
   {
    "duration": 704,
    "start_time": "2023-05-18T10:14:22.195Z"
   },
   {
    "duration": 273,
    "start_time": "2023-05-18T10:14:22.909Z"
   },
   {
    "duration": 26,
    "start_time": "2023-05-18T10:14:23.187Z"
   },
   {
    "duration": 332,
    "start_time": "2023-05-18T10:14:23.283Z"
   },
   {
    "duration": 6,
    "start_time": "2023-05-18T10:14:23.617Z"
   },
   {
    "duration": 82,
    "start_time": "2023-05-18T10:14:23.625Z"
   },
   {
    "duration": 69,
    "start_time": "2023-05-18T10:14:23.719Z"
   }
  ],
  "kernelspec": {
   "display_name": "Python 3 (ipykernel)",
   "language": "python",
   "name": "python3"
  },
  "language_info": {
   "codemirror_mode": {
    "name": "ipython",
    "version": 3
   },
   "file_extension": ".py",
   "mimetype": "text/x-python",
   "name": "python",
   "nbconvert_exporter": "python",
   "pygments_lexer": "ipython3",
   "version": "3.9.5"
  },
  "toc": {
   "base_numbering": 1,
   "nav_menu": {},
   "number_sections": true,
   "sideBar": true,
   "skip_h1_title": true,
   "title_cell": "Содержание",
   "title_sidebar": "Contents",
   "toc_cell": true,
   "toc_position": {},
   "toc_section_display": true,
   "toc_window_display": false
  }
 },
 "nbformat": 4,
 "nbformat_minor": 2
}
